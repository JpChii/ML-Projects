{
  "nbformat": 4,
  "nbformat_minor": 0,
  "metadata": {
    "colab": {
      "name": "NLP-word-embeddings.ipynb",
      "provenance": [],
      "authorship_tag": "ABX9TyPZAfjqa6b3VgsXR4PmHXn+",
      "include_colab_link": true
    },
    "kernelspec": {
      "name": "python3",
      "display_name": "Python 3"
    },
    "language_info": {
      "name": "python"
    }
  },
  "cells": [
    {
      "cell_type": "markdown",
      "metadata": {
        "id": "view-in-github",
        "colab_type": "text"
      },
      "source": [
        "<a href=\"https://colab.research.google.com/github/JpChii/ML-Projects/blob/main/NLP_word_embeddings.ipynb\" target=\"_parent\"><img src=\"https://colab.research.google.com/assets/colab-badge.svg\" alt=\"Open In Colab\"/></a>"
      ]
    },
    {
      "cell_type": "markdown",
      "metadata": {
        "id": "UAojoYkYzUWE"
      },
      "source": [
        "# Embeddings\n",
        "\n",
        "Machine Learning models like numbers and they hate anythinh other than numbers they really do. To get useful information via machine learning, first step is to convert text data into numbers. This post discusses about few methods,\n",
        "\n",
        "## One-Hot Encoding\n",
        "\n",
        "Encoding text to numbers. Create a zero vector to the length of the vocabulary(number of unique words on the data) and assign `1` at the index o the word. By doing this what we achieve is called a sparse vector, meaning most indices of the vector are zeros. To form a sentence, concatenate one-hot encoding of the words.\n",
        "\n",
        "Let's consider a vocabulary with 15,000 words and we encode all of them, what we get is 99.99% of zeros in our data which is really inefficient for training.\n",
        "\n",
        "## Integer Encoding with unique numbers\n",
        "\n",
        "Let's switch to use an unique number for each words in the vocabulary. This is efficient thean the above because we'll get a dense vector instead of sparse vector.\n",
        "\n",
        "But in this method, we lose valuable information to amke something out of the data. Realationship between words is lost. Integer encoding can be challenging for models to interpret, because there is no relationship between similar words and the encodings are alos differnet. This leads to feature-weight combination which is not meaningful.\n",
        "\n",
        "This where **embedding** comes in\n",
        "\n",
        "## Word Embeddings\n",
        "\n",
        "Word embedding is an efficient dense vector way where similar words have similar encodings. Embeddings are floating point vectors, whose values doesn't need to be setup manually. The advantage is the embedding values are learned during training similar to weights of a dense layer. The length of the vector is a parameter to be specified.\n",
        "\n",
        "The embedding length ranges from 8-dimensional for small datasets to 1024-dimensions for large datasets but requires more data to learn.\n",
        "\n",
        "In this notebook, we'll use [IMDB review dataset](http://ai.stanford.edu/~amaas/data/sentiment/) to practice word embedding and then perform sentiment analysis on the data."
      ]
    },
    {
      "cell_type": "code",
      "metadata": {
        "id": "ygjTr0mCz4DT"
      },
      "source": [
        "# Setting up imports\n",
        "import io\n",
        "import os\n",
        "import re\n",
        "import shutil\n",
        "import string\n",
        "import tensorflow as tf\n",
        "\n",
        "from tensorflow.keras import Sequential\n",
        "from tensorflow.keras.layers import Dense, Embedding, GlobalAveragePooling1D\n",
        "from tensorflow.keras.layers.experimental.preprocessing import TextVectorization"
      ],
      "execution_count": null,
      "outputs": []
    },
    {
      "cell_type": "code",
      "metadata": {
        "id": "fqmROkLc1D09",
        "colab": {
          "base_uri": "https://localhost:8080/"
        },
        "outputId": "2ad4cc87-4e06-4b78-aec8-8bb69ade0cab"
      },
      "source": [
        "# Downloading the dataset\n",
        "url = \"http://ai.stanford.edu/~amaas/data/sentiment/aclImdb_v1.tar.gz\"\n",
        "dataset = tf.keras.utils.get_file(\"aclImdb_v1.tar.gz\", url,\n",
        "                                  untar=True,\n",
        "                                  cache_dir='.',\n",
        "                                  cache_subdir='')"
      ],
      "execution_count": null,
      "outputs": [
        {
          "output_type": "stream",
          "text": [
            "Downloading data from http://ai.stanford.edu/~amaas/data/sentiment/aclImdb_v1.tar.gz\n",
            "84131840/84125825 [==============================] - 3s 0us/step\n"
          ],
          "name": "stdout"
        }
      ]
    },
    {
      "cell_type": "code",
      "metadata": {
        "colab": {
          "base_uri": "https://localhost:8080/",
          "height": 35
        },
        "id": "zFlqKn9m1dke",
        "outputId": "54b98e23-b1c1-463c-e7b0-6e8b88b41021"
      },
      "source": [
        "dataset_dir = os.path.join(os.path.dirname(dataset), \"aclImdb\")\n",
        "dataset_dir"
      ],
      "execution_count": null,
      "outputs": [
        {
          "output_type": "execute_result",
          "data": {
            "application/vnd.google.colaboratory.intrinsic+json": {
              "type": "string"
            },
            "text/plain": [
              "'./aclImdb'"
            ]
          },
          "metadata": {
            "tags": []
          },
          "execution_count": 3
        }
      ]
    },
    {
      "cell_type": "code",
      "metadata": {
        "colab": {
          "base_uri": "https://localhost:8080/"
        },
        "id": "Q8lL8CuJ1wbO",
        "outputId": "e375bf2e-9820-49fa-e9ad-dc47e4233e29"
      },
      "source": [
        "os.listdir(dataset_dir)"
      ],
      "execution_count": null,
      "outputs": [
        {
          "output_type": "execute_result",
          "data": {
            "text/plain": [
              "['train', 'imdbEr.txt', 'README', 'imdb.vocab', 'test']"
            ]
          },
          "metadata": {
            "tags": []
          },
          "execution_count": 4
        }
      ]
    },
    {
      "cell_type": "code",
      "metadata": {
        "colab": {
          "base_uri": "https://localhost:8080/"
        },
        "id": "s_la2ZAu2DgA",
        "outputId": "590041d0-6cf4-4cff-f1a5-8c5edcb087fe"
      },
      "source": [
        "!wget https://raw.githubusercontent.com/JpChii/ML-Tools/main/dl_helper.py"
      ],
      "execution_count": null,
      "outputs": [
        {
          "output_type": "stream",
          "text": [
            "--2021-06-01 14:47:42--  https://raw.githubusercontent.com/JpChii/ML-Tools/main/dl_helper.py\n",
            "Resolving raw.githubusercontent.com (raw.githubusercontent.com)... 185.199.108.133, 185.199.110.133, 185.199.111.133, ...\n",
            "Connecting to raw.githubusercontent.com (raw.githubusercontent.com)|185.199.108.133|:443... connected.\n",
            "HTTP request sent, awaiting response... 200 OK\n",
            "Length: 17979 (18K) [text/plain]\n",
            "Saving to: ‘dl_helper.py’\n",
            "\n",
            "\rdl_helper.py          0%[                    ]       0  --.-KB/s               \rdl_helper.py        100%[===================>]  17.56K  --.-KB/s    in 0s      \n",
            "\n",
            "2021-06-01 14:47:42 (53.9 MB/s) - ‘dl_helper.py’ saved [17979/17979]\n",
            "\n"
          ],
          "name": "stdout"
        }
      ]
    },
    {
      "cell_type": "code",
      "metadata": {
        "id": "JRAnTZF72MpI"
      },
      "source": [
        "from dl_helper import walk_through_dir"
      ],
      "execution_count": null,
      "outputs": []
    },
    {
      "cell_type": "code",
      "metadata": {
        "colab": {
          "base_uri": "https://localhost:8080/"
        },
        "id": "P0HYv1AK2bZq",
        "outputId": "e7adc4cc-316f-4620-fdb8-0f749bda8b7c"
      },
      "source": [
        "walk_through_dir(dataset_dir)"
      ],
      "execution_count": null,
      "outputs": [
        {
          "output_type": "stream",
          "text": [
            "There are 2 directories and 3 images in './aclImdb'.\n",
            "There are 3 directories and 5 images in './aclImdb/train'.\n",
            "There are 0 directories and 50000 images in './aclImdb/train/unsup'.\n",
            "There are 0 directories and 12500 images in './aclImdb/train/pos'.\n",
            "There are 0 directories and 12500 images in './aclImdb/train/neg'.\n",
            "There are 2 directories and 3 images in './aclImdb/test'.\n",
            "There are 0 directories and 12500 images in './aclImdb/test/pos'.\n",
            "There are 0 directories and 12500 images in './aclImdb/test/neg'.\n"
          ],
          "name": "stdout"
        }
      ]
    },
    {
      "cell_type": "markdown",
      "metadata": {
        "id": "nIY8zXHJ2dVV"
      },
      "source": [
        "We've ositive and negative reviews in seperate folder in train diretory. In addition there is `/aclImdb/train/unsup` which is not needed for training, so this directory will be deleted next."
      ]
    },
    {
      "cell_type": "code",
      "metadata": {
        "colab": {
          "base_uri": "https://localhost:8080/"
        },
        "id": "d9uGzclJ24xa",
        "outputId": "bd005f1a-1270-44fc-a7af-c7c26cdef618"
      },
      "source": [
        "# Setting up train directory\n",
        "train_dir = os.path.join(dataset_dir, \"train\")\n",
        "walk_through_dir(train_dir)"
      ],
      "execution_count": null,
      "outputs": [
        {
          "output_type": "stream",
          "text": [
            "There are 3 directories and 5 images in './aclImdb/train'.\n",
            "There are 0 directories and 50000 images in './aclImdb/train/unsup'.\n",
            "There are 0 directories and 12500 images in './aclImdb/train/pos'.\n",
            "There are 0 directories and 12500 images in './aclImdb/train/neg'.\n"
          ],
          "name": "stdout"
        }
      ]
    },
    {
      "cell_type": "code",
      "metadata": {
        "id": "LPsZQ_EA3GRp"
      },
      "source": [
        "# Removing unsup directory\n",
        "remove_dir = os.path.join(train_dir, \"unsup\")\n",
        "shutil.rmtree(remove_dir)"
      ],
      "execution_count": null,
      "outputs": []
    },
    {
      "cell_type": "markdown",
      "metadata": {
        "id": "pDWf9N033QfD"
      },
      "source": [
        "## Creating dataset\n",
        "\n",
        "Creating a [tf.data.Dataset](https://www.tensorflow.org/api_docs/python/tf/data/Dataset) using [tf.keras.preprocessing.text_dataset_from_directory](https://www.tensorflow.org/api_docs/python/tf/keras/preprocessing/text_dataset_from_directory)."
      ]
    },
    {
      "cell_type": "code",
      "metadata": {
        "colab": {
          "base_uri": "https://localhost:8080/"
        },
        "id": "n7owbzS7332C",
        "outputId": "db38c631-1bf1-44c1-8227-2ea5e46b8478"
      },
      "source": [
        "batch_size = 32\n",
        "seed = 42\n",
        "train_ds = tf.keras.preprocessing.text_dataset_from_directory(directory=train_dir,\n",
        "                                                              batch_size=batch_size,\n",
        "                                                              label_mode=\"binary\",\n",
        "                                                              validation_split=0.2,\n",
        "                                                              subset='training',\n",
        "                                                              seed=seed)\n",
        "\n",
        "val_ds = tf.keras.preprocessing.text_dataset_from_directory(directory=train_dir,\n",
        "                                                            batch_size=batch_size,\n",
        "                                                            validation_split=0.2,\n",
        "                                                            subset='validation',\n",
        "                                                            seed=seed)"
      ],
      "execution_count": null,
      "outputs": [
        {
          "output_type": "stream",
          "text": [
            "Found 25000 files belonging to 2 classes.\n",
            "Using 20000 files for training.\n",
            "Found 25000 files belonging to 2 classes.\n",
            "Using 5000 files for validation.\n"
          ],
          "name": "stdout"
        }
      ]
    },
    {
      "cell_type": "markdown",
      "metadata": {
        "id": "fG7BIuop42MP"
      },
      "source": [
        "Great now the data is loaded,let's checka few of themfor better understanding."
      ]
    },
    {
      "cell_type": "code",
      "metadata": {
        "colab": {
          "base_uri": "https://localhost:8080/"
        },
        "id": "Q37Zf1uD5HQD",
        "outputId": "d5f1feb0-a722-46d3-d666-d4db9624f5ab"
      },
      "source": [
        "for text_batch, label_batch in train_ds.take(1):\n",
        "  for i in range(5):\n",
        "    if label_batch[i].numpy() == [0.]:\n",
        "      print(f\"Label: {label_batch[i].numpy()}\")\n",
        "      print(f\"Text: {text_batch[i].numpy()}\\n\")"
      ],
      "execution_count": null,
      "outputs": [
        {
          "output_type": "stream",
          "text": [
            "Label: [0.]\n",
            "Text: b'\"Pandemonium\" is a horror movie spoof that comes off more stupid than funny. Believe me when I tell you, I love comedies. Especially comedy spoofs. \"Airplane\", \"The Naked Gun\" trilogy, \"Blazing Saddles\", \"High Anxiety\", and \"Spaceballs\" are some of my favorite comedies that spoof a particular genre. \"Pandemonium\" is not up there with those films. Most of the scenes in this movie had me sitting there in stunned silence because the movie wasn\\'t all that funny. There are a few laughs in the film, but when you watch a comedy, you expect to laugh a lot more than a few times and that\\'s all this film has going for it. Geez, \"Scream\" had more laughs than this film and that was more of a horror film. How bizarre is that?<br /><br />*1/2 (out of four)'\n",
            "\n",
            "Label: [0.]\n",
            "Text: b\"David Mamet is a very interesting and a very un-equal director. His first movie 'House of Games' was the one I liked best, and it set a series of films with characters whose perspective of life changes as they get into complicated situations, and so does the perspective of the viewer.<br /><br />So is 'Homicide' which from the title tries to set the mind of the viewer to the usual crime drama. The principal characters are two cops, one Jewish and one Irish who deal with a racially charged area. The murder of an old Jewish shop owner who proves to be an ancient veteran of the Israeli Independence war triggers the Jewish identity in the mind and heart of the Jewish detective.<br /><br />This is were the flaws of the film are the more obvious. The process of awakening is theatrical and hard to believe, the group of Jewish militants is operatic, and the way the detective eventually walks to the final violent confrontation is pathetic. The end of the film itself is Mamet-like smart, but disappoints from a human emotional perspective.<br /><br />Joe Mantegna and William Macy give strong performances, but the flaws of the story are too evident to be easily compensated.\"\n",
            "\n",
            "Label: [0.]\n",
            "Text: b\"It's boggles the mind how this movie was nominated for seven Oscars and won one. Not because it's abysmal or because given the collective credentials of the creative team behind it really ought to deserve them but because in every category it was nominated Prizzi's Honor disappoints. Some would argue that old Hollywood pioneer John Huston had lost it by this point in his career but I don't buy it. Only the previous year he signed the superb UNDER THE VOLCANO, a dark character study set in Mexico, that ranks among the finest he ever did. Prizzi's Honor on the other hand, a film loaded with star power, good intentions and a decent script, proves to be a major letdown.<br /><br />The overall tone and plot of a gangster falling in love with a female hit-man prefigures the quirky crimedies that caught Hollywood by storm in the early 90's but the script is too convoluted for its own sake, the motivations are off and on the whole the story seems unsure of what exactly it's trying to be: a romantic comedy, a crime drama, a gangster saga etc. Jack Nicholson (doing a Brooklyn accent that works perfectly for De Niro but sounds unconvincing coming from Jack) and Kathleen Turner in the leading roles seem to be in paycheck mode, just going through the motions almost sleepwalking their way through some parts. Anjelica Huston on the other hand fares better but her performance is sabotaged by her character's motivations: she starts out the victim of her bigot father's disdain, she proves to be supportive to her ex-husband, then becomes a vindictive bitch that wants his head on a plate.<br /><br />The colours of the movie have a washed-up quality like it was made in the early 70's and Huston's direction is as uninteresting as everything else. There's promise behind the story and perhaps in the hands of a director hungry to be recognized it could've been morphed to something better but what's left looks like a film nobody was really interested in making.\"\n",
            "\n",
            "Label: [0.]\n",
            "Text: b'The concept of the legal gray area in Love Crimes contributes to about 10% of the movie\\'s appeal; the other 90% can be attributed to it\\'s flagrant bad-ness. To say that Sean Young\\'s performance as a so-called district attorney is wooden is a gross understatement. With her bland suits and superfluous hair gel, Young does a decent job at convincing the audience of her devout hatred for men. Why else would she ask her only friend to pose as a prostitute just so she can arrest cops who try to pick up on them? This hatred is also the only reason why she relentlessly pursues a perverted photographer who gives women a consensual thrill and the driving force behind this crappy movie. Watching Young go from frigid to full-frontal nudity does little to raise interest, but the temper tantrum she throws standing next to a fire by a lake does. Watching her rant and rave about her self-loathing and sexual frustration makes Love Crimes worth the rental fee, but it\\'s all downhill to and from there. Despite her urge to bring Patrick Bergin\\'s character to justice, her policing skills completely escape her in the throes of her own tired lust and passion. Patrick Bergin does a decent enough job as a slimy sociopath; if it worked in Sleeping With the Enemy it sure as hell can work in this. But I can\\'t help but wonder if the noticeable lack of energy Young brings to the film conflicts with his sliminess. I\\'m guessing it does and the result is a \"thriller\" with thrills that are thoroughly bad and yet comedic.'\n",
            "\n"
          ],
          "name": "stdout"
        }
      ]
    },
    {
      "cell_type": "markdown",
      "metadata": {
        "id": "6WiYcJsI6Vi0"
      },
      "source": [
        "From going through random texts `0` is negative and `1` is positive"
      ]
    },
    {
      "cell_type": "markdown",
      "metadata": {
        "id": "HB5TZbjv8sHL"
      },
      "source": [
        "## Configure dataset for performance\n",
        "\n",
        "cache() and prefetch() are going to be used for more checkout [data performance guide](https://www.tensorflow.org/guide/data_performance)"
      ]
    },
    {
      "cell_type": "code",
      "metadata": {
        "id": "4zM3KyJE9XZC"
      },
      "source": [
        "AUTOTUNE = tf.data.AUTOTUNE\n",
        "\n",
        "train_ds = train_ds.cache().prefetch(buffer_size=AUTOTUNE)\n",
        "val_ds = val_ds.cache().prefetch(buffer_size=AUTOTUNE)"
      ],
      "execution_count": null,
      "outputs": []
    },
    {
      "cell_type": "markdown",
      "metadata": {
        "id": "jW3OtGmg9oZt"
      },
      "source": [
        "### Using the embedding layer\n",
        "\n",
        "Keras makes it easy with it's [Embedding Layer](https://www.tensorflow.org/api_docs/python/tf/keras/layers/Embedding).\n",
        "\n",
        "Embedding layer can be understood as a lookup table that maps integers of indices(which stand for specific words) to their embeddings(dense vectors). The dimensionality of embeddings(or width) is a parameter to be experimented to see what works well for the problem, similar to numbr of neurons in a dense layer."
      ]
    },
    {
      "cell_type": "code",
      "metadata": {
        "id": "d1FmGH5PM-Ux"
      },
      "source": [
        "# Embed a 1,000 word vocabulary into 5 dimensions\n",
        "embedding_layer = tf.keras.layers.Embedding(input_dim=1000, # length of the vocabulary\n",
        "                                            output_dim=5) # Output shape of the embeddings"
      ],
      "execution_count": null,
      "outputs": []
    },
    {
      "cell_type": "markdown",
      "metadata": {
        "id": "ZlDIA0RtNLj6"
      },
      "source": [
        "The weights of the embedding layer is initialized randomly like any other layer. The weight are learned through backpropogation during training.\n",
        "\n",
        "Once training the is completed the similar word enmbedding will also be similar.\n",
        "\n",
        "If a integer is passed to an embedding layers, the result replaces each integer with indices form embedding table."
      ]
    },
    {
      "cell_type": "code",
      "metadata": {
        "colab": {
          "base_uri": "https://localhost:8080/"
        },
        "id": "qhka9BrwNqs6",
        "outputId": "bc1670ad-ffa5-4add-b02e-366dc00a36d1"
      },
      "source": [
        "result = embedding_layer(tf.constant([1,2,3]))\n",
        "result.numpy()"
      ],
      "execution_count": null,
      "outputs": [
        {
          "output_type": "execute_result",
          "data": {
            "text/plain": [
              "array([[-0.04985893, -0.02151388, -0.01218064, -0.01874789,  0.03003483],\n",
              "       [ 0.03881696, -0.03618266,  0.04983819, -0.04446222,  0.03230344],\n",
              "       [ 0.04521865, -0.0280888 , -0.02505544,  0.04856518,  0.02527351]],\n",
              "      dtype=float32)"
            ]
          },
          "metadata": {
            "tags": []
          },
          "execution_count": 16
        }
      ]
    },
    {
      "cell_type": "markdown",
      "metadata": {
        "id": "OjQOtQEVNxYy"
      },
      "source": [
        "For text or sequence problems, the Embedding layer takes a 2D tensor of integers, of shape `(samples, sequence length)` where each entry is a sequence of integers. It can embed sequences of variable lengths.\n",
        "\n",
        "We can feed the embedding layer above with shapes `(32, 19)`(batch of 32 sequences of length 10.\n",
        "\n",
        "The returned tensor has one more ais than the input, the embedding vectors are aligned along the new axis. Pass it a `(2,3)` input batch output is `(2,3,N)`."
      ]
    },
    {
      "cell_type": "code",
      "metadata": {
        "colab": {
          "base_uri": "https://localhost:8080/"
        },
        "id": "6vlVWiPRN0TK",
        "outputId": "3c57c784-454a-408a-a2bc-682ee70a9b67"
      },
      "source": [
        "input = tf.constant([[0,1,2], [3,4,5]])\n",
        "print(f\"Input shape: {input.shape}\")\n",
        "embedding_result = embedding_layer(input)\n",
        "print(f\"Embedded input shape: {embedding_result.shape}\")"
      ],
      "execution_count": null,
      "outputs": [
        {
          "output_type": "stream",
          "text": [
            "Input shape: (2, 3)\n",
            "Embedded input shape: (2, 3, 5)\n"
          ],
          "name": "stdout"
        }
      ]
    },
    {
      "cell_type": "markdown",
      "metadata": {
        "id": "LUBn6OEgPSyI"
      },
      "source": [
        "When passing a batch of sequences as input, an embedding layer returns a 3D floating point tensor of shape `(samples, sequence_length, embedding_dimensionality)`.\n",
        "\n",
        "## Text Processing\n",
        "\n",
        "So the embedding layer only has the ability to return embedding vectors from integers of indices(for words) right now what we have is raw text data. To convert it into numbers also called tokenization we'll setup a `TextVectorizer`"
      ]
    },
    {
      "cell_type": "code",
      "metadata": {
        "id": "h_Bar22IQvDJ"
      },
      "source": [
        "# Create a custom standardization function to strip HTML break tags\n",
        "def custom_standardization(input_data):\n",
        "  lowercase = tf.strings.lower(input_data)\n",
        "  sripped_html = tf.strings.regex_replace(lowercase, '<br />', ' ')\n",
        "  return tf.strings.regex_replace(sripped_html,\n",
        "                                  '[%s]' % re.escape(string.punctuation), '')"
      ],
      "execution_count": null,
      "outputs": []
    },
    {
      "cell_type": "code",
      "metadata": {
        "id": "6kGW-QQHRYaV"
      },
      "source": [
        "# Vocabulary size and number of words in a sequence\n",
        "vocab_size = 10000\n",
        "sequence_length = 100\n",
        "\n",
        "# Use the text vectotrization layer to map, split and map strings to integers\n",
        "# This is gonna use the custom_standardization function defined above\n",
        "# Setting maximum sequence length, since all the sequences are not of the same length\n",
        "vectorize_layer = TextVectorization(standardize=custom_standardization,\n",
        "                                    max_tokens=vocab_size,\n",
        "                                    output_mode='int',\n",
        "                                    output_sequence_length=sequence_length)"
      ],
      "execution_count": null,
      "outputs": []
    },
    {
      "cell_type": "code",
      "metadata": {
        "id": "RTy_LIs0R_i1"
      },
      "source": [
        "# Make a text-only dataset (no labels) and call adapt to build the vocabulary\n",
        "text_ds = train_ds.map(lambda x, y:x)\n",
        "vectorize_layer.adapt(text_ds)"
      ],
      "execution_count": null,
      "outputs": []
    },
    {
      "cell_type": "markdown",
      "metadata": {
        "id": "IwJ7dUrTSPaw"
      },
      "source": [
        "Now let's model."
      ]
    },
    {
      "cell_type": "code",
      "metadata": {
        "id": "F6aGNtnGS1fL"
      },
      "source": [
        "embedding_dim = 16\n",
        "\n",
        "# Build model\n",
        "model = Sequential([\n",
        "                    vectorize_layer,\n",
        "                    Embedding(vocab_size, embedding_dim, name=\"embedding\"),\n",
        "                    GlobalAveragePooling1D(),\n",
        "                    Dense(16, activation=\"relu\"),\n",
        "                    Dense(1)\n",
        "])\n",
        "\n",
        "# Compile the mode\n",
        "model.compile(loss=tf.keras.losses.BinaryCrossentropy(),\n",
        "              optimizer=tf.keras.optimizers.Adam(),\n",
        "              metrics=[\"accuracy\"])"
      ],
      "execution_count": null,
      "outputs": []
    },
    {
      "cell_type": "code",
      "metadata": {
        "colab": {
          "base_uri": "https://localhost:8080/"
        },
        "id": "XehYplFjTQL9",
        "outputId": "3857ee08-b8dd-4720-9226-a012459be5ca"
      },
      "source": [
        "# Fit the mode\n",
        "model.fit(train_ds,\n",
        "          validation_data=val_ds,\n",
        "          epochs=15)"
      ],
      "execution_count": null,
      "outputs": [
        {
          "output_type": "stream",
          "text": [
            "Epoch 1/15\n",
            "625/625 [==============================] - 7s 10ms/step - loss: 0.6346 - accuracy: 0.7134 - val_loss: 0.4411 - val_accuracy: 0.8094\n",
            "Epoch 2/15\n",
            "625/625 [==============================] - 5s 8ms/step - loss: 0.3720 - accuracy: 0.8461 - val_loss: 0.4363 - val_accuracy: 0.8292\n",
            "Epoch 3/15\n",
            "625/625 [==============================] - 5s 8ms/step - loss: 0.3132 - accuracy: 0.8773 - val_loss: 0.4489 - val_accuracy: 0.8358\n",
            "Epoch 4/15\n",
            "625/625 [==============================] - 5s 8ms/step - loss: 0.2693 - accuracy: 0.8931 - val_loss: 0.5052 - val_accuracy: 0.8352\n",
            "Epoch 5/15\n",
            "625/625 [==============================] - 5s 8ms/step - loss: 0.2467 - accuracy: 0.9060 - val_loss: 0.7253 - val_accuracy: 0.8314\n",
            "Epoch 6/15\n",
            "625/625 [==============================] - 5s 8ms/step - loss: 0.2219 - accuracy: 0.9161 - val_loss: 0.8823 - val_accuracy: 0.8286\n",
            "Epoch 7/15\n",
            "625/625 [==============================] - 5s 8ms/step - loss: 0.2006 - accuracy: 0.9244 - val_loss: 1.0402 - val_accuracy: 0.8226\n",
            "Epoch 8/15\n",
            "625/625 [==============================] - 5s 8ms/step - loss: 0.1784 - accuracy: 0.9341 - val_loss: 1.1965 - val_accuracy: 0.8166\n",
            "Epoch 9/15\n",
            "625/625 [==============================] - 5s 8ms/step - loss: 0.1601 - accuracy: 0.9430 - val_loss: 1.3813 - val_accuracy: 0.8128\n",
            "Epoch 10/15\n",
            "625/625 [==============================] - 5s 8ms/step - loss: 0.1466 - accuracy: 0.9508 - val_loss: 1.5482 - val_accuracy: 0.8108\n",
            "Epoch 11/15\n",
            "625/625 [==============================] - 5s 8ms/step - loss: 0.1455 - accuracy: 0.9578 - val_loss: 1.6443 - val_accuracy: 0.8106\n",
            "Epoch 12/15\n",
            "625/625 [==============================] - 5s 8ms/step - loss: 0.1203 - accuracy: 0.9700 - val_loss: 1.8463 - val_accuracy: 0.8070\n",
            "Epoch 13/15\n",
            "625/625 [==============================] - 5s 8ms/step - loss: 0.1048 - accuracy: 0.9772 - val_loss: 2.0077 - val_accuracy: 0.8030\n",
            "Epoch 14/15\n",
            "625/625 [==============================] - 5s 9ms/step - loss: 0.0953 - accuracy: 0.9821 - val_loss: 2.1636 - val_accuracy: 0.8004\n",
            "Epoch 15/15\n",
            "625/625 [==============================] - 5s 9ms/step - loss: 0.0903 - accuracy: 0.9865 - val_loss: 2.2216 - val_accuracy: 0.8020\n"
          ],
          "name": "stdout"
        },
        {
          "output_type": "execute_result",
          "data": {
            "text/plain": [
              "<tensorflow.python.keras.callbacks.History at 0x7f46d51446d0>"
            ]
          },
          "metadata": {
            "tags": []
          },
          "execution_count": 22
        }
      ]
    },
    {
      "cell_type": "code",
      "metadata": {
        "colab": {
          "base_uri": "https://localhost:8080/"
        },
        "id": "X2BWXU2NTRiz",
        "outputId": "540dd7c4-b785-4247-9e8d-28234a3912a1"
      },
      "source": [
        "model.summary()"
      ],
      "execution_count": null,
      "outputs": [
        {
          "output_type": "stream",
          "text": [
            "Model: \"sequential\"\n",
            "_________________________________________________________________\n",
            "Layer (type)                 Output Shape              Param #   \n",
            "=================================================================\n",
            "text_vectorization (TextVect (None, 100)               0         \n",
            "_________________________________________________________________\n",
            "embedding (Embedding)        (None, 100, 16)           160000    \n",
            "_________________________________________________________________\n",
            "global_average_pooling1d (Gl (None, 16)                0         \n",
            "_________________________________________________________________\n",
            "dense (Dense)                (None, 16)                272       \n",
            "_________________________________________________________________\n",
            "dense_1 (Dense)              (None, 1)                 17        \n",
            "=================================================================\n",
            "Total params: 160,289\n",
            "Trainable params: 160,289\n",
            "Non-trainable params: 0\n",
            "_________________________________________________________________\n"
          ],
          "name": "stdout"
        }
      ]
    },
    {
      "cell_type": "markdown",
      "metadata": {
        "id": "Te2G8PN7T3Xs"
      },
      "source": [
        "## Retrive the trained word embeddings and save them to disk"
      ]
    },
    {
      "cell_type": "code",
      "metadata": {
        "id": "mpERWuVzUUvG"
      },
      "source": [
        "weights = model.get_layer('embedding').get_weights()[0]\n",
        "vocab = vectorize_layer.get_vocabulary()"
      ],
      "execution_count": null,
      "outputs": []
    },
    {
      "cell_type": "markdown",
      "metadata": {
        "id": "Bd3KBE20Uf9Q"
      },
      "source": [
        "Let's save them to disk and visuzlize in [Embedding Projector](http://projector.tensorflow.org/)"
      ]
    },
    {
      "cell_type": "code",
      "metadata": {
        "id": "BOyHX23kUsU0"
      },
      "source": [
        "out_v = io.open('vectors.tsv', 'w', encoding='utf-8')\n",
        "out_m = io.open('metadata.tsv', 'w', encoding='utf-8')\n",
        "\n",
        "for index, word in enumerate(vocab):\n",
        "  if index == 0:\n",
        "    continue  # skip 0, it's padding.\n",
        "  vec = weights[index]\n",
        "  out_v.write('\\t'.join([str(x) for x in vec]) + \"\\n\")\n",
        "  out_m.write(word + \"\\n\")\n",
        "out_v.close()\n",
        "out_m.close()"
      ],
      "execution_count": null,
      "outputs": []
    },
    {
      "cell_type": "code",
      "metadata": {
        "colab": {
          "base_uri": "https://localhost:8080/",
          "height": 17
        },
        "id": "c4bwQO91VTHb",
        "outputId": "8fb09fba-b979-43ef-ae43-fd48db2677d8"
      },
      "source": [
        "try:\n",
        "  from google.colab import files\n",
        "  files.download('vectors.tsv')\n",
        "  files.download('metadata.tsv')\n",
        "except Exception:\n",
        "  pass"
      ],
      "execution_count": null,
      "outputs": [
        {
          "output_type": "display_data",
          "data": {
            "application/javascript": [
              "\n",
              "    async function download(id, filename, size) {\n",
              "      if (!google.colab.kernel.accessAllowed) {\n",
              "        return;\n",
              "      }\n",
              "      const div = document.createElement('div');\n",
              "      const label = document.createElement('label');\n",
              "      label.textContent = `Downloading \"${filename}\": `;\n",
              "      div.appendChild(label);\n",
              "      const progress = document.createElement('progress');\n",
              "      progress.max = size;\n",
              "      div.appendChild(progress);\n",
              "      document.body.appendChild(div);\n",
              "\n",
              "      const buffers = [];\n",
              "      let downloaded = 0;\n",
              "\n",
              "      const channel = await google.colab.kernel.comms.open(id);\n",
              "      // Send a message to notify the kernel that we're ready.\n",
              "      channel.send({})\n",
              "\n",
              "      for await (const message of channel.messages) {\n",
              "        // Send a message to notify the kernel that we're ready.\n",
              "        channel.send({})\n",
              "        if (message.buffers) {\n",
              "          for (const buffer of message.buffers) {\n",
              "            buffers.push(buffer);\n",
              "            downloaded += buffer.byteLength;\n",
              "            progress.value = downloaded;\n",
              "          }\n",
              "        }\n",
              "      }\n",
              "      const blob = new Blob(buffers, {type: 'application/binary'});\n",
              "      const a = document.createElement('a');\n",
              "      a.href = window.URL.createObjectURL(blob);\n",
              "      a.download = filename;\n",
              "      div.appendChild(a);\n",
              "      a.click();\n",
              "      div.remove();\n",
              "    }\n",
              "  "
            ],
            "text/plain": [
              "<IPython.core.display.Javascript object>"
            ]
          },
          "metadata": {
            "tags": []
          }
        },
        {
          "output_type": "display_data",
          "data": {
            "application/javascript": [
              "download(\"download_719ee4d7-4134-4f21-be51-79e58a12dabf\", \"vectors.tsv\", 1862358)"
            ],
            "text/plain": [
              "<IPython.core.display.Javascript object>"
            ]
          },
          "metadata": {
            "tags": []
          }
        },
        {
          "output_type": "display_data",
          "data": {
            "application/javascript": [
              "\n",
              "    async function download(id, filename, size) {\n",
              "      if (!google.colab.kernel.accessAllowed) {\n",
              "        return;\n",
              "      }\n",
              "      const div = document.createElement('div');\n",
              "      const label = document.createElement('label');\n",
              "      label.textContent = `Downloading \"${filename}\": `;\n",
              "      div.appendChild(label);\n",
              "      const progress = document.createElement('progress');\n",
              "      progress.max = size;\n",
              "      div.appendChild(progress);\n",
              "      document.body.appendChild(div);\n",
              "\n",
              "      const buffers = [];\n",
              "      let downloaded = 0;\n",
              "\n",
              "      const channel = await google.colab.kernel.comms.open(id);\n",
              "      // Send a message to notify the kernel that we're ready.\n",
              "      channel.send({})\n",
              "\n",
              "      for await (const message of channel.messages) {\n",
              "        // Send a message to notify the kernel that we're ready.\n",
              "        channel.send({})\n",
              "        if (message.buffers) {\n",
              "          for (const buffer of message.buffers) {\n",
              "            buffers.push(buffer);\n",
              "            downloaded += buffer.byteLength;\n",
              "            progress.value = downloaded;\n",
              "          }\n",
              "        }\n",
              "      }\n",
              "      const blob = new Blob(buffers, {type: 'application/binary'});\n",
              "      const a = document.createElement('a');\n",
              "      a.href = window.URL.createObjectURL(blob);\n",
              "      a.download = filename;\n",
              "      div.appendChild(a);\n",
              "      a.click();\n",
              "      div.remove();\n",
              "    }\n",
              "  "
            ],
            "text/plain": [
              "<IPython.core.display.Javascript object>"
            ]
          },
          "metadata": {
            "tags": []
          }
        },
        {
          "output_type": "display_data",
          "data": {
            "application/javascript": [
              "download(\"download_f0dcc536-7c72-4e4f-9465-b2a6d689dcba\", \"metadata.tsv\", 76436)"
            ],
            "text/plain": [
              "<IPython.core.display.Javascript object>"
            ]
          },
          "metadata": {
            "tags": []
          }
        }
      ]
    },
    {
      "cell_type": "code",
      "metadata": {
        "id": "xDjW9LrdVcje"
      },
      "source": [
        ""
      ],
      "execution_count": null,
      "outputs": []
    }
  ]
}