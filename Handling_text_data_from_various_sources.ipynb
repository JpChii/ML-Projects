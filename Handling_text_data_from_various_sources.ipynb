{
  "nbformat": 4,
  "nbformat_minor": 0,
  "metadata": {
    "colab": {
      "name": "Handling text data from various sources.ipynb",
      "provenance": [],
      "collapsed_sections": [],
      "authorship_tag": "ABX9TyN1rNSvsMsJgs0hOJmw/j2T",
      "include_colab_link": true
    },
    "kernelspec": {
      "name": "python3",
      "display_name": "Python 3"
    },
    "language_info": {
      "name": "python"
    }
  },
  "cells": [
    {
      "cell_type": "markdown",
      "metadata": {
        "id": "view-in-github",
        "colab_type": "text"
      },
      "source": [
        "<a href=\"https://colab.research.google.com/github/JpChii/ML-Projects/blob/main/Handling_text_data_from_various_sources.ipynb\" target=\"_parent\"><img src=\"https://colab.research.google.com/assets/colab-badge.svg\" alt=\"Open In Colab\"/></a>"
      ]
    },
    {
      "cell_type": "markdown",
      "source": [
        "In this notebook, we'll be walkthrough and learn to dealing with variety of inputs on text data.\n",
        "\n",
        "Resources:\n",
        "* https://www.tensorflow.org/tutorials/load_data/text\n",
        "* https://realpython.com/read-write-files-python/"
      ],
      "metadata": {
        "id": "oukguLnYNbAT"
      }
    },
    {
      "cell_type": "markdown",
      "source": [
        "## Using Keras API"
      ],
      "metadata": {
        "id": "W3k7LznNNs_l"
      }
    },
    {
      "cell_type": "code",
      "source": [
        "!pip install \"tensorflow-text==2.8.*\""
      ],
      "metadata": {
        "colab": {
          "base_uri": "https://localhost:8080/"
        },
        "id": "D77IpFEbOXTm",
        "outputId": "610ac09c-8758-4b33-d4b0-e29305e69173"
      },
      "execution_count": 150,
      "outputs": [
        {
          "output_type": "stream",
          "name": "stdout",
          "text": [
            "Requirement already satisfied: tensorflow-text==2.8.* in /usr/local/lib/python3.7/dist-packages (2.8.1)\n",
            "Requirement already satisfied: tensorflow-hub>=0.8.0 in /usr/local/lib/python3.7/dist-packages (from tensorflow-text==2.8.*) (0.12.0)\n",
            "Requirement already satisfied: tensorflow<2.9,>=2.8.0 in /usr/local/lib/python3.7/dist-packages (from tensorflow-text==2.8.*) (2.8.0)\n",
            "Requirement already satisfied: typing-extensions>=3.6.6 in /usr/local/lib/python3.7/dist-packages (from tensorflow<2.9,>=2.8.0->tensorflow-text==2.8.*) (3.10.0.2)\n",
            "Requirement already satisfied: six>=1.12.0 in /usr/local/lib/python3.7/dist-packages (from tensorflow<2.9,>=2.8.0->tensorflow-text==2.8.*) (1.15.0)\n",
            "Requirement already satisfied: termcolor>=1.1.0 in /usr/local/lib/python3.7/dist-packages (from tensorflow<2.9,>=2.8.0->tensorflow-text==2.8.*) (1.1.0)\n",
            "Requirement already satisfied: google-pasta>=0.1.1 in /usr/local/lib/python3.7/dist-packages (from tensorflow<2.9,>=2.8.0->tensorflow-text==2.8.*) (0.2.0)\n",
            "Requirement already satisfied: tf-estimator-nightly==2.8.0.dev2021122109 in /usr/local/lib/python3.7/dist-packages (from tensorflow<2.9,>=2.8.0->tensorflow-text==2.8.*) (2.8.0.dev2021122109)\n",
            "Requirement already satisfied: setuptools in /usr/local/lib/python3.7/dist-packages (from tensorflow<2.9,>=2.8.0->tensorflow-text==2.8.*) (57.4.0)\n",
            "Requirement already satisfied: opt-einsum>=2.3.2 in /usr/local/lib/python3.7/dist-packages (from tensorflow<2.9,>=2.8.0->tensorflow-text==2.8.*) (3.3.0)\n",
            "Requirement already satisfied: absl-py>=0.4.0 in /usr/local/lib/python3.7/dist-packages (from tensorflow<2.9,>=2.8.0->tensorflow-text==2.8.*) (1.0.0)\n",
            "Requirement already satisfied: libclang>=9.0.1 in /usr/local/lib/python3.7/dist-packages (from tensorflow<2.9,>=2.8.0->tensorflow-text==2.8.*) (13.0.0)\n",
            "Requirement already satisfied: astunparse>=1.6.0 in /usr/local/lib/python3.7/dist-packages (from tensorflow<2.9,>=2.8.0->tensorflow-text==2.8.*) (1.6.3)\n",
            "Requirement already satisfied: wrapt>=1.11.0 in /usr/local/lib/python3.7/dist-packages (from tensorflow<2.9,>=2.8.0->tensorflow-text==2.8.*) (1.14.0)\n",
            "Requirement already satisfied: tensorflow-io-gcs-filesystem>=0.23.1 in /usr/local/lib/python3.7/dist-packages (from tensorflow<2.9,>=2.8.0->tensorflow-text==2.8.*) (0.24.0)\n",
            "Requirement already satisfied: gast>=0.2.1 in /usr/local/lib/python3.7/dist-packages (from tensorflow<2.9,>=2.8.0->tensorflow-text==2.8.*) (0.5.3)\n",
            "Requirement already satisfied: flatbuffers>=1.12 in /usr/local/lib/python3.7/dist-packages (from tensorflow<2.9,>=2.8.0->tensorflow-text==2.8.*) (2.0)\n",
            "Requirement already satisfied: protobuf>=3.9.2 in /usr/local/lib/python3.7/dist-packages (from tensorflow<2.9,>=2.8.0->tensorflow-text==2.8.*) (3.17.3)\n",
            "Requirement already satisfied: keras<2.9,>=2.8.0rc0 in /usr/local/lib/python3.7/dist-packages (from tensorflow<2.9,>=2.8.0->tensorflow-text==2.8.*) (2.8.0)\n",
            "Requirement already satisfied: h5py>=2.9.0 in /usr/local/lib/python3.7/dist-packages (from tensorflow<2.9,>=2.8.0->tensorflow-text==2.8.*) (3.1.0)\n",
            "Requirement already satisfied: tensorboard<2.9,>=2.8 in /usr/local/lib/python3.7/dist-packages (from tensorflow<2.9,>=2.8.0->tensorflow-text==2.8.*) (2.8.0)\n",
            "Requirement already satisfied: numpy>=1.20 in /usr/local/lib/python3.7/dist-packages (from tensorflow<2.9,>=2.8.0->tensorflow-text==2.8.*) (1.21.5)\n",
            "Requirement already satisfied: grpcio<2.0,>=1.24.3 in /usr/local/lib/python3.7/dist-packages (from tensorflow<2.9,>=2.8.0->tensorflow-text==2.8.*) (1.44.0)\n",
            "Requirement already satisfied: keras-preprocessing>=1.1.1 in /usr/local/lib/python3.7/dist-packages (from tensorflow<2.9,>=2.8.0->tensorflow-text==2.8.*) (1.1.2)\n",
            "Requirement already satisfied: wheel<1.0,>=0.23.0 in /usr/local/lib/python3.7/dist-packages (from astunparse>=1.6.0->tensorflow<2.9,>=2.8.0->tensorflow-text==2.8.*) (0.37.1)\n",
            "Requirement already satisfied: cached-property in /usr/local/lib/python3.7/dist-packages (from h5py>=2.9.0->tensorflow<2.9,>=2.8.0->tensorflow-text==2.8.*) (1.5.2)\n",
            "Requirement already satisfied: tensorboard-plugin-wit>=1.6.0 in /usr/local/lib/python3.7/dist-packages (from tensorboard<2.9,>=2.8->tensorflow<2.9,>=2.8.0->tensorflow-text==2.8.*) (1.8.1)\n",
            "Requirement already satisfied: requests<3,>=2.21.0 in /usr/local/lib/python3.7/dist-packages (from tensorboard<2.9,>=2.8->tensorflow<2.9,>=2.8.0->tensorflow-text==2.8.*) (2.23.0)\n",
            "Requirement already satisfied: tensorboard-data-server<0.7.0,>=0.6.0 in /usr/local/lib/python3.7/dist-packages (from tensorboard<2.9,>=2.8->tensorflow<2.9,>=2.8.0->tensorflow-text==2.8.*) (0.6.1)\n",
            "Requirement already satisfied: google-auth<3,>=1.6.3 in /usr/local/lib/python3.7/dist-packages (from tensorboard<2.9,>=2.8->tensorflow<2.9,>=2.8.0->tensorflow-text==2.8.*) (1.35.0)\n",
            "Requirement already satisfied: google-auth-oauthlib<0.5,>=0.4.1 in /usr/local/lib/python3.7/dist-packages (from tensorboard<2.9,>=2.8->tensorflow<2.9,>=2.8.0->tensorflow-text==2.8.*) (0.4.6)\n",
            "Requirement already satisfied: werkzeug>=0.11.15 in /usr/local/lib/python3.7/dist-packages (from tensorboard<2.9,>=2.8->tensorflow<2.9,>=2.8.0->tensorflow-text==2.8.*) (1.0.1)\n",
            "Requirement already satisfied: markdown>=2.6.8 in /usr/local/lib/python3.7/dist-packages (from tensorboard<2.9,>=2.8->tensorflow<2.9,>=2.8.0->tensorflow-text==2.8.*) (3.3.6)\n",
            "Requirement already satisfied: rsa<5,>=3.1.4 in /usr/local/lib/python3.7/dist-packages (from google-auth<3,>=1.6.3->tensorboard<2.9,>=2.8->tensorflow<2.9,>=2.8.0->tensorflow-text==2.8.*) (4.8)\n",
            "Requirement already satisfied: pyasn1-modules>=0.2.1 in /usr/local/lib/python3.7/dist-packages (from google-auth<3,>=1.6.3->tensorboard<2.9,>=2.8->tensorflow<2.9,>=2.8.0->tensorflow-text==2.8.*) (0.2.8)\n",
            "Requirement already satisfied: cachetools<5.0,>=2.0.0 in /usr/local/lib/python3.7/dist-packages (from google-auth<3,>=1.6.3->tensorboard<2.9,>=2.8->tensorflow<2.9,>=2.8.0->tensorflow-text==2.8.*) (4.2.4)\n",
            "Requirement already satisfied: requests-oauthlib>=0.7.0 in /usr/local/lib/python3.7/dist-packages (from google-auth-oauthlib<0.5,>=0.4.1->tensorboard<2.9,>=2.8->tensorflow<2.9,>=2.8.0->tensorflow-text==2.8.*) (1.3.1)\n",
            "Requirement already satisfied: importlib-metadata>=4.4 in /usr/local/lib/python3.7/dist-packages (from markdown>=2.6.8->tensorboard<2.9,>=2.8->tensorflow<2.9,>=2.8.0->tensorflow-text==2.8.*) (4.11.3)\n",
            "Requirement already satisfied: zipp>=0.5 in /usr/local/lib/python3.7/dist-packages (from importlib-metadata>=4.4->markdown>=2.6.8->tensorboard<2.9,>=2.8->tensorflow<2.9,>=2.8.0->tensorflow-text==2.8.*) (3.7.0)\n",
            "Requirement already satisfied: pyasn1<0.5.0,>=0.4.6 in /usr/local/lib/python3.7/dist-packages (from pyasn1-modules>=0.2.1->google-auth<3,>=1.6.3->tensorboard<2.9,>=2.8->tensorflow<2.9,>=2.8.0->tensorflow-text==2.8.*) (0.4.8)\n",
            "Requirement already satisfied: certifi>=2017.4.17 in /usr/local/lib/python3.7/dist-packages (from requests<3,>=2.21.0->tensorboard<2.9,>=2.8->tensorflow<2.9,>=2.8.0->tensorflow-text==2.8.*) (2021.10.8)\n",
            "Requirement already satisfied: idna<3,>=2.5 in /usr/local/lib/python3.7/dist-packages (from requests<3,>=2.21.0->tensorboard<2.9,>=2.8->tensorflow<2.9,>=2.8.0->tensorflow-text==2.8.*) (2.10)\n",
            "Requirement already satisfied: chardet<4,>=3.0.2 in /usr/local/lib/python3.7/dist-packages (from requests<3,>=2.21.0->tensorboard<2.9,>=2.8->tensorflow<2.9,>=2.8.0->tensorflow-text==2.8.*) (3.0.4)\n",
            "Requirement already satisfied: urllib3!=1.25.0,!=1.25.1,<1.26,>=1.21.1 in /usr/local/lib/python3.7/dist-packages (from requests<3,>=2.21.0->tensorboard<2.9,>=2.8->tensorflow<2.9,>=2.8.0->tensorflow-text==2.8.*) (1.24.3)\n",
            "Requirement already satisfied: oauthlib>=3.0.0 in /usr/local/lib/python3.7/dist-packages (from requests-oauthlib>=0.7.0->google-auth-oauthlib<0.5,>=0.4.1->tensorboard<2.9,>=2.8->tensorflow<2.9,>=2.8.0->tensorflow-text==2.8.*) (3.2.0)\n"
          ]
        }
      ]
    },
    {
      "cell_type": "code",
      "source": [
        "# Importing the libraries\n",
        "import collections\n",
        "import pathlib\n",
        "\n",
        "import tensorflow as tf\n",
        "\n",
        "from tensorflow.keras import layers, losses, utils\n",
        "from tensorflow.keras.layers import TextVectorization\n",
        "\n",
        "import tensorflow_datasets as tfds\n",
        "import tensorflow_text as tf_text"
      ],
      "metadata": {
        "id": "0bfN_SlaN_Pd"
      },
      "execution_count": 151,
      "outputs": []
    },
    {
      "cell_type": "markdown",
      "source": [
        "### Example 1: Predict the tag for a stack overflow question\n",
        "\n",
        "For this example, we'll use a dataset of programming questions from stack overflow to predict the tag for a question. This is an multi-class classification problem"
      ],
      "metadata": {
        "id": "kguNZghnOQUa"
      }
    },
    {
      "cell_type": "markdown",
      "source": [
        "#### Download and explore the dataset"
      ],
      "metadata": {
        "id": "pWjnPoTsOyXI"
      }
    },
    {
      "cell_type": "code",
      "source": [
        "data_url = 'https://storage.googleapis.com/download.tensorflow.org/data/stack_overflow_16k.tar.gz'"
      ],
      "metadata": {
        "id": "_jO_NoopO4lg"
      },
      "execution_count": 152,
      "outputs": []
    },
    {
      "cell_type": "code",
      "source": [
        "dataset_dir = utils.get_file(origin=data_url,\n",
        "                             untar=True,\n",
        "                             cache_dir='stack_overflow',\n",
        "                             cache_subdir='')\n",
        "\n",
        "dataset_dir = pathlib.Path(dataset_dir).parent"
      ],
      "metadata": {
        "colab": {
          "base_uri": "https://localhost:8080/"
        },
        "id": "KVjVzac6O7U8",
        "outputId": "b7cd6308-4c26-4b0f-d770-1d281859383b"
      },
      "execution_count": 153,
      "outputs": [
        {
          "output_type": "stream",
          "name": "stdout",
          "text": [
            "Downloading data from https://storage.googleapis.com/download.tensorflow.org/data/stack_overflow_16k.tar.gz\n",
            "6053888/6053168 [==============================] - 0s 0us/step\n",
            "6062080/6053168 [==============================] - 0s 0us/step\n"
          ]
        }
      ]
    },
    {
      "cell_type": "code",
      "source": [
        "list(dataset_dir.iterdir())"
      ],
      "metadata": {
        "colab": {
          "base_uri": "https://localhost:8080/"
        },
        "id": "kqyAUKsEPPKt",
        "outputId": "a308083c-0b17-43c1-8b08-efe99653a558"
      },
      "execution_count": 154,
      "outputs": [
        {
          "output_type": "execute_result",
          "data": {
            "text/plain": [
              "[PosixPath('/tmp/.keras/train'),\n",
              " PosixPath('/tmp/.keras/README.md'),\n",
              " PosixPath('/tmp/.keras/test'),\n",
              " PosixPath('/tmp/.keras/stack_overflow_16k.tar.gz')]"
            ]
          },
          "metadata": {},
          "execution_count": 154
        }
      ]
    },
    {
      "cell_type": "code",
      "source": [
        "train_dir = dataset_dir/'train'\n",
        "list(train_dir.iterdir())"
      ],
      "metadata": {
        "colab": {
          "base_uri": "https://localhost:8080/"
        },
        "id": "ZRdNxWxsPYRr",
        "outputId": "bbf5102f-114b-43b3-dfb1-65dcbe5c9868"
      },
      "execution_count": 155,
      "outputs": [
        {
          "output_type": "execute_result",
          "data": {
            "text/plain": [
              "[PosixPath('/tmp/.keras/train/python'),\n",
              " PosixPath('/tmp/.keras/train/csharp'),\n",
              " PosixPath('/tmp/.keras/train/java'),\n",
              " PosixPath('/tmp/.keras/train/javascript')]"
            ]
          },
          "metadata": {},
          "execution_count": 155
        }
      ]
    },
    {
      "cell_type": "code",
      "source": [
        "!ls /tmp/.keras/train/java | head"
      ],
      "metadata": {
        "colab": {
          "base_uri": "https://localhost:8080/"
        },
        "id": "JZB_VeoxPiiP",
        "outputId": "a2b44ca3-d9f3-4546-ca03-6370e56b43ac"
      },
      "execution_count": 156,
      "outputs": [
        {
          "output_type": "stream",
          "name": "stdout",
          "text": [
            "0.txt\n",
            "1000.txt\n",
            "1001.txt\n",
            "1002.txt\n",
            "1003.txt\n",
            "1004.txt\n",
            "1005.txt\n",
            "1006.txt\n",
            "1007.txt\n",
            "1008.txt\n"
          ]
        }
      ]
    },
    {
      "cell_type": "code",
      "source": [
        "sample_file = train_dir/'java/0.txt'\n",
        "\n",
        "with open(sample_file) as f:\n",
        "  print(f.read())"
      ],
      "metadata": {
        "colab": {
          "base_uri": "https://localhost:8080/"
        },
        "id": "b4deo9LMPqO2",
        "outputId": "c20258e7-2405-4252-f57b-54514e889c67"
      },
      "execution_count": 157,
      "outputs": [
        {
          "output_type": "stream",
          "name": "stdout",
          "text": [
            "\"how to download .msi file in blank i want to download .msi file using blank.  i have tried to download file using following code..printwriter out = null;.fileinputstream filetodownload = null;.bufferedreader bufferedreader = null;.try {.        out = response.getwriter();.        filetodownload = new fileinputstream(download_directory + file_name);.        bufferedreader = new bufferedreader(new inputstreamreader(filetodownload));..        //response.setcontenttype(\"\"application/text\"\");.        //response.setcontenttype(\"\"application/x-msi\"\");.        //response.setcontenttype(\"\"application/msi\"\");.        //response.setcontenttype(\"\"octet-stream\"\");.        response.setcontenttype(\"\"application/octet-stream\"\");.        //response.setcontenttype(\"\"application/x-7z-compressed\"\");.        //response.setcontenttype(\"\"application/zip\"\");.        response.setheader(\"\"content-disposition\"\",\"\"attachment; filename=\"\" +file_name );.        response.setcontentlength(filetodownload.available());..        system.out.println(\"\"n now file download is starting\"\");.        string nextline = \"\"\"\";.        while((nextline = bufferedreader.readline()) != null){.            out.println(nextline);.        }.        out.flush();                                ..    } catch (ioexception e) {.        out.write(\"\"&lt;center&gt;&lt;h2&gt;the installer is not available on server&lt;/h2&gt;&lt;/center&gt;\"\");.        system.out.println(\"\"n got exception while getting the input stream from the file==&gt;\"\"+e);.        log.error(\"\"error::\"\", e);.    }.    finally{.        if(null != bufferedreader){.            try {.                bufferedreader.close();.            } catch (ioexception e) {.                system.out.println(\"\"n error in closing buffer reader==&gt;\"\"+e);.                log.error(\"\"error::\"\", e);.            }.        }// end of if..        if(null != filetodownload){.            try {.                filetodownload.close();.            } catch (ioexception e) {.                system.out.println(\"\"n error in closing input stream==&gt;\"\"+e);.                log.error(\"\"error::\"\", e);.            }.        }// end of if.    }// end of finally\"\n",
            "\n"
          ]
        }
      ]
    },
    {
      "cell_type": "markdown",
      "source": [
        "#### Load the dataset\n",
        "\n",
        "Loading the data off disk and prepare it into a suitable format for traiing. We'll use `tf.keras.utils.text_dataset_from_directory` utility to create a `tf.data.Dataset`.\n",
        "\n",
        "The train directory is in the format `text_dataset_from_directory` API expects."
      ],
      "metadata": {
        "id": "IKnMRGWcP8_K"
      }
    },
    {
      "cell_type": "code",
      "source": [
        "# Test set is already present, splitting the train dataset into train and validation set\n",
        "BATCH_SIZE = 32\n",
        "SEED = 42\n",
        "\n",
        "raw_train_ds = utils.text_dataset_from_directory(train_dir,\n",
        "                                                  batch_size=BATCH_SIZE,\n",
        "                                                  seed=SEED,\n",
        "                                                  validation_split=0.2,\n",
        "                                                  subset='training')"
      ],
      "metadata": {
        "colab": {
          "base_uri": "https://localhost:8080/"
        },
        "id": "qAP16IGoQX7x",
        "outputId": "9da6a16a-fb43-4247-f9d6-fbfa58e2c316"
      },
      "execution_count": 158,
      "outputs": [
        {
          "output_type": "stream",
          "name": "stdout",
          "text": [
            "Found 8000 files belonging to 4 classes.\n",
            "Using 6400 files for training.\n"
          ]
        }
      ]
    },
    {
      "cell_type": "code",
      "source": [
        "# Iteratinf over the dataset to get a idea of the data\n",
        "for text_batch, label_batch in raw_train_ds.take(1):\n",
        "  for i in range(10):\n",
        "    print(f\"Question: {text_batch.numpy()[i]}\")\n",
        "    print(f\"Label: {label_batch.numpy()[i]}\")"
      ],
      "metadata": {
        "colab": {
          "base_uri": "https://localhost:8080/"
        },
        "id": "tcgyPF9cRKyY",
        "outputId": "6016cf52-283c-49fd-9963-c48bbc4eb7aa"
      },
      "execution_count": 159,
      "outputs": [
        {
          "output_type": "stream",
          "name": "stdout",
          "text": [
            "Question: b'\"my tester is going to the wrong constructor i am new to programming so if i ask a question that can be easily fixed, please forgive me. my program has a tester class with a main. when i send that to my regularpolygon class, it sends it to the wrong constructor. i have two constructors. 1 without perameters..public regularpolygon().    {.       mynumsides = 5;.       mysidelength = 30;.    }//end default constructor...and my second, with perameters. ..public regularpolygon(int numsides, double sidelength).    {.        mynumsides = numsides;.        mysidelength = sidelength;.    }// end constructor...in my tester class i have these two lines:..regularpolygon shape = new regularpolygon(numsides, sidelength);.        shape.menu();...numsides and sidelength were declared and initialized earlier in the testing class...so what i want to happen, is the tester class sends numsides and sidelength to the second constructor and use it in that class. but it only uses the default constructor, which therefor ruins the whole rest of the program. can somebody help me?..for those of you who want to see more of my code: here you go..public double vertexangle().    {.        system.out.println(\"\"the vertex angle method: \"\" + mynumsides);// prints out 5.        system.out.println(\"\"the vertex angle method: \"\" + mysidelength); // prints out 30..        double vertexangle;.        vertexangle = ((mynumsides - 2.0) / mynumsides) * 180.0;.        return vertexangle;.    }//end method vertexangle..public void menu().{.    system.out.println(mynumsides); // prints out what the user puts in.    system.out.println(mysidelength); // prints out what the user puts in.    gotographic();.    calcr(mynumsides, mysidelength);.    calcr(mynumsides, mysidelength);.    print(); .}// end menu...this is my entire tester class:..public static void main(string[] arg).{.    int numsides;.    double sidelength;.    scanner keyboard = new scanner(system.in);..    system.out.println(\"\"welcome to the regular polygon program!\"\");.    system.out.println();..    system.out.print(\"\"enter the number of sides of the polygon ==&gt; \"\");.    numsides = keyboard.nextint();.    system.out.println();..    system.out.print(\"\"enter the side length of each side ==&gt; \"\");.    sidelength = keyboard.nextdouble();.    system.out.println();..    regularpolygon shape = new regularpolygon(numsides, sidelength);.    shape.menu();.}//end main...for testing it i sent it numsides 4 and sidelength 100.\"\\n'\n",
            "Label: 1\n",
            "Question: b'\"blank code slow skin detection this code changes the color space to lab and using a threshold finds the skin area of an image. but it\\'s ridiculously slow. i don\\'t know how to make it faster ?    ..from colormath.color_objects import *..def skindetection(img, treshold=80, color=[255,20,147]):..    print img.shape.    res=img.copy().    for x in range(img.shape[0]):.        for y in range(img.shape[1]):.            rgbimg=rgbcolor(img[x,y,0],img[x,y,1],img[x,y,2]).            labimg=rgbimg.convert_to(\\'lab\\', debug=false).            if (labimg.lab_l &gt; treshold):.                res[x,y,:]=color.            else: .                res[x,y,:]=img[x,y,:]..    return res\"\\n'\n",
            "Label: 3\n",
            "Question: b'\"option and validation in blank i want to add a new option on my system where i want to add two text files, both rental.txt and customer.txt. inside each text are id numbers of the customer, the videotape they need and the price...i want to place it as an option on my code. right now i have:...add customer.rent return.view list.search.exit...i want to add this as my sixth option. say for example i ordered a video, it would display the price and would let me confirm the price and if i am going to buy it or not...here is my current code:..  import blank.io.*;.    import blank.util.arraylist;.    import static blank.lang.system.out;..    public class rentalsystem{.    static bufferedreader input = new bufferedreader(new inputstreamreader(system.in));.    static file file = new file(\"\"file.txt\"\");.    static arraylist&lt;string&gt; list = new arraylist&lt;string&gt;();.    static int rows;..    public static void main(string[] args) throws exception{.        introduction();.        system.out.print(\"\"nn\"\");.        login();.        system.out.print(\"\"nnnnnnnnnnnnnnnnnnnnnn\"\");.        introduction();.        string repeat;.        do{.            loadfile();.            system.out.print(\"\"nwhat do you want to do?nn\"\");.            system.out.print(\"\"n                    - - - - - - - - - - - - - - - - - - - - - - -\"\");.            system.out.print(\"\"nn                    |     1. add customer    |   2. rent return |n\"\");.            system.out.print(\"\"n                    - - - - - - - - - - - - - - - - - - - - - - -\"\");.            system.out.print(\"\"nn                    |     3. view list       |   4. search      |n\"\");.            system.out.print(\"\"n                    - - - - - - - - - - - - - - - - - - - - - - -\"\");.            system.out.print(\"\"nn                                             |   5. exit        |n\"\");.            system.out.print(\"\"n                                              - - - - - - - - - -\"\");.            system.out.print(\"\"nnchoice:\"\");.            int choice = integer.parseint(input.readline());.            switch(choice){.                case 1:.                    writedata();.                    break;.                case 2:.                    rentdata();.                    break;.                case 3:.                    viewlist();.                    break;.                case 4:.                    search();.                    break;.                case 5:.                    system.out.println(\"\"goodbye!\"\");.                    system.exit(0);.                default:.                    system.out.print(\"\"invalid choice: \"\");.                    break;.            }.            system.out.print(\"\"ndo another task? [y/n] \"\");.            repeat = input.readline();.        }while(repeat.equals(\"\"y\"\"));..        if(repeat!=\"\"y\"\") system.out.println(\"\"ngoodbye!\"\");..    }..    public static void writedata() throws exception{.        system.out.print(\"\"nname: \"\");.        string cname = input.readline();.        system.out.print(\"\"address: \"\");.        string add = input.readline();.        system.out.print(\"\"phone no.: \"\");.        string pno = input.readline();.        system.out.print(\"\"rental amount: \"\");.        string ramount = input.readline();.        system.out.print(\"\"tapenumber: \"\");.        string tno = input.readline();.        system.out.print(\"\"title: \"\");.        string title = input.readline();.        system.out.print(\"\"date borrowed: \"\");.        string dborrowed = input.readline();.        system.out.print(\"\"due date: \"\");.        string ddate = input.readline();.        createline(cname, add, pno, ramount,tno, title, dborrowed, ddate);.        rentdata();.    }..    public static void createline(string name, string address, string phone , string rental, string tapenumber, string title, string borrowed, string due) throws exception{.        filewriter fw = new filewriter(file, true);.        fw.write(\"\"nname: \"\"+name + \"\"naddress: \"\" + address +\"\"nphone no.: \"\"+ phone+\"\"nrentalamount: \"\"+rental+\"\"ntape no.: \"\"+ tapenumber+\"\"ntitle: \"\"+ title+\"\"ndate borrowed: \"\"+borrowed +\"\"ndue date: \"\"+ due+\"\":rn\"\");.        fw.close();.    }..    public static void loadfile() throws exception{.        try{.            list.clear();.            fileinputstream fstream = new fileinputstream(file);.            bufferedreader br = new bufferedreader(new inputstreamreader(fstream));.            rows = 0;.            while( br.ready()).            {.                list.add(br.readline());.                rows++;.            }.            br.close();.        } catch(exception e){.            system.out.println(\"\"list not yet loaded.\"\");.        }.    }..    public static void viewlist(){.        system.out.print(\"\"n~ ~ ~ ~ ~ ~ ~ ~ ~ ~ ~\"\");.        system.out.print(\"\" |list of all costumers|\"\");.        system.out.print(\"\"~ ~ ~ ~ ~ ~ ~ ~ ~ ~ ~\"\");.        for(int i = 0; i &lt;rows; i++){.            system.out.println(list.get(i));.        }.    }.        public static void rentdata()throws exception.    {   system.out.print(\"\"n~ ~ ~ ~ ~ ~ ~ ~ ~ ~ ~\"\");.        system.out.print(\"\" |rent data list|\"\");.        system.out.print(\"\"~ ~ ~ ~ ~ ~ ~ ~ ~ ~ ~\"\");.        system.out.print(\"\"nenter customer name: \"\");.        string cname = input.readline();.        system.out.print(\"\"date borrowed: \"\");.        string dborrowed = input.readline();.        system.out.print(\"\"due date: \"\");.        string ddate = input.readline();.        system.out.print(\"\"return date: \"\");.        string rdate = input.readline();.        system.out.print(\"\"rent amount: \"\");.        string ramount = input.readline();..        system.out.print(\"\"you pay:\"\"+ramount);...    }.    public static void search()throws exception.    {   system.out.print(\"\"n~ ~ ~ ~ ~ ~ ~ ~ ~ ~ ~\"\");.        system.out.print(\"\" |search costumers|\"\");.        system.out.print(\"\"~ ~ ~ ~ ~ ~ ~ ~ ~ ~ ~\"\");.        system.out.print(\"\"nenter costumer name: \"\");.        string cname = input.readline();.        boolean found = false;..        for(int i=0; i &lt; rows; i++){.            string temp[] = list.get(i).split(\"\",\"\");..            if(cname.equals(temp[0])){.            system.out.println(\"\"search result:nyou are \"\" + temp[0] + \"\" from \"\" + temp[1] + \"\".\"\"+ temp[2] + \"\".\"\"+ temp[3] + \"\".\"\"+ temp[4] + \"\".\"\"+ temp[5] + \"\" is \"\" + temp[6] + \"\".\"\"+ temp[7] + \"\" is \"\" + temp[8] + \"\".\"\");.                found = true;.            }.        }..        if(!found){.            system.out.print(\"\"no results.\"\");.        }..    }..        public static boolean evaluate(string uname, string pass){.        if (uname.equals(\"\"admin\"\")&amp;&amp;pass.equals(\"\"12345\"\")) return true;.        else return false;.    }..    public static string login()throws exception{.        bufferedreader input=new bufferedreader(new inputstreamreader(system.in));.        int counter=0;.        do{.            system.out.print(\"\"username:\"\");.            string uname =input.readline();.            system.out.print(\"\"password:\"\");.            string pass =input.readline();..            boolean accept= evaluate(uname,pass);..            if(accept){.                break;.                }else{.                    system.out.println(\"\"incorrect username or password!\"\");.                    counter ++;.                    }.        }while(counter&lt;3);..            if(counter !=3) return \"\"login successful\"\";.            else return \"\"login failed\"\";.            }.        public static void introduction() throws exception{..        system.out.println(\"\"                  - - - - - - - - - - - - - - - - - - - - - - - - -\"\");.        system.out.println(\"\"                  !                  r e n t a l                  !\"\");.        system.out.println(\"\"                   ! ~ ~ ~ ~ ~ !  =================  ! ~ ~ ~ ~ ~ !\"\");.        system.out.println(\"\"                  !                  s y s t e m                  !\"\");.        system.out.println(\"\"                  - - - - - - - - - - - - - - - - - - - - - - - - -\"\");.        }..}\"\\n'\n",
            "Label: 1\n",
            "Question: b'\"exception: dynamic sql generation for the updatecommand is not supported against a selectcommand that does not return any key i dont know what is the problem this my code : ..string nomtable;..datatable listeetablissementtable = new datatable();.datatable listeinteretstable = new datatable();.dataset ds = new dataset();.sqldataadapter da;.sqlcommandbuilder cmdb;..private void listeinterets_click(object sender, eventargs e).{.    nomtable = \"\"listeinteretstable\"\";.    d.cnx.open();.    da = new sqldataadapter(\"\"select nome from offices\"\", d.cnx);.    ds = new dataset();.    da.fill(ds, nomtable);.    datagridview1.datasource = ds.tables[nomtable];.}..private void sauvgarder_click(object sender, eventargs e).{.    d.cnx.open();.    cmdb = new sqlcommandbuilder(da);.    da.update(ds, nomtable);.    d.cnx.close();.}\"\\n'\n",
            "Label: 0\n",
            "Question: b'\"parameter with question mark and super in blank, i\\'ve come across a method that is formatted like this:..public final subscription subscribe(final action1&lt;? super t&gt; onnext, final action1&lt;throwable&gt; onerror) {.}...in the first parameter, what does the question mark and super mean?\"\\n'\n",
            "Label: 1\n",
            "Question: b'call two objects wsdl the first time i got a very strange wsdl. ..i would like to call the object (interface - invoicecheck_out) do you know how?....i would like to call the object (variable) do you know how?..try to call (it`s ok)....try to call (how call this?)\\n'\n",
            "Label: 0\n",
            "Question: b\"how to correctly make the icon for systemtray in blank using icon sizes of any dimension for systemtray doesn't look good overall. .what is the correct way of making icons for windows system tray?..screenshots: http://imgur.com/zsibwn9..icon: http://imgur.com/vsh4zo8\\n\"\n",
            "Label: 0\n",
            "Question: b'\"is there a way to check a variable that exists in a different script than the original one? i\\'m trying to check if a variable, which was previously set to true in 2.py in 1.py, as 1.py is only supposed to continue if the variable is true...2.py..import os..completed = false..#some stuff here..completed = true...1.py..import 2 ..if completed == true.   #do things...however i get a syntax error at ..if completed == true\"\\n'\n",
            "Label: 3\n",
            "Question: b'\"blank control flow i made a number which asks for 2 numbers with blank and responds with  the corresponding message for the case. how come it doesnt work  for the second number ? .regardless what i enter for the second number , i am getting the message \"\"your number is in the range 0-10\"\"...using system;.using system.collections.generic;.using system.linq;.using system.text;..namespace consoleapplication1.{.    class program.    {.        static void main(string[] args).        {.            string myinput;  // declaring the type of the variables.            int myint;..            string number1;.            int number;...            console.writeline(\"\"enter a number\"\");.            myinput = console.readline(); //muyinput is a string  which is entry input.            myint = int32.parse(myinput); // myint converts the string into an integer..            if (myint &gt; 0).                console.writeline(\"\"your number {0} is greater than zero.\"\", myint);.            else if (myint &lt; 0).                console.writeline(\"\"your number {0} is  less  than zero.\"\", myint);.            else.                console.writeline(\"\"your number {0} is equal zero.\"\", myint);..            console.writeline(\"\"enter another number\"\");.            number1 = console.readline(); .            number = int32.parse(myinput); ..            if (number &lt; 0 || number == 0).                console.writeline(\"\"your number {0} is  less  than zero or equal zero.\"\", number);.            else if (number &gt; 0 &amp;&amp; number &lt;= 10).                console.writeline(\"\"your number {0} is  in the range from 0 to 10.\"\", number);.            else.                console.writeline(\"\"your number {0} is greater than 10.\"\", number);..            console.writeline(\"\"enter another number\"\");..        }.    }    .}\"\\n'\n",
            "Label: 0\n",
            "Question: b'\"credentials cannot be used for ntlm authentication i am getting org.apache.commons.httpclient.auth.invalidcredentialsexception: credentials cannot be used for ntlm authentication: exception in eclipse..whether it is possible mention eclipse to take system proxy settings directly?..public class httpgetproxy {.    private static final string proxy_host = \"\"proxy.****.com\"\";.    private static final int proxy_port = 6050;..    public static void main(string[] args) {.        httpclient client = new httpclient();.        httpmethod method = new getmethod(\"\"https://kodeblank.org\"\");..        hostconfiguration config = client.gethostconfiguration();.        config.setproxy(proxy_host, proxy_port);..        string username = \"\"*****\"\";.        string password = \"\"*****\"\";.        credentials credentials = new usernamepasswordcredentials(username, password);.        authscope authscope = new authscope(proxy_host, proxy_port);..        client.getstate().setproxycredentials(authscope, credentials);..        try {.            client.executemethod(method);..            if (method.getstatuscode() == httpstatus.sc_ok) {.                string response = method.getresponsebodyasstring();.                system.out.println(\"\"response = \"\" + response);.            }.        } catch (ioexception e) {.            e.printstacktrace();.        } finally {.            method.releaseconnection();.        }.    }.}...exception:...  dec 08, 2017 1:41:39 pm .          org.apache.commons.httpclient.auth.authchallengeprocessor selectauthscheme.         info: ntlm authentication scheme selected.       dec 08, 2017 1:41:39 pm org.apache.commons.httpclient.httpmethoddirector executeconnect.         severe: credentials cannot be used for ntlm authentication: .           org.apache.commons.httpclient.usernamepasswordcredentials.           org.apache.commons.httpclient.auth.invalidcredentialsexception: credentials .         cannot be used for ntlm authentication: .        enter code here .          org.apache.commons.httpclient.usernamepasswordcredentials.      at org.apache.commons.httpclient.auth.ntlmscheme.authenticate(ntlmscheme.blank:332).        at org.apache.commons.httpclient.httpmethoddirector.authenticateproxy(httpmethoddirector.blank:320).      at org.apache.commons.httpclient.httpmethoddirector.executeconnect(httpmethoddirector.blank:491).      at org.apache.commons.httpclient.httpmethoddirector.executewithretry(httpmethoddirector.blank:391).      at org.apache.commons.httpclient.httpmethoddirector.executemethod(httpmethoddirector.blank:171).      at org.apache.commons.httpclient.httpclient.executemethod(httpclient.blank:397).      at org.apache.commons.httpclient.httpclient.executemethod(httpclient.blank:323).      at httpgetproxy.main(httpgetproxy.blank:31).  dec 08, 2017 1:41:39 pm org.apache.commons.httpclient.httpmethoddirector processproxyauthchallenge.  info: failure authenticating with ntlm @proxy.****.com:6050\"\\n'\n",
            "Label: 1\n"
          ]
        }
      ]
    },
    {
      "cell_type": "code",
      "source": [
        "# The label names are 0,1,2,3. Checking the class_names property to find corresponding class names.\n",
        "for i, label in enumerate(raw_train_ds.class_names):\n",
        "  print(f\"Label: {i}, corresponds to: {label}\")"
      ],
      "metadata": {
        "colab": {
          "base_uri": "https://localhost:8080/"
        },
        "id": "bLAq8erjRr9n",
        "outputId": "d41161e2-bf99-4ae8-9cef-f1646ee7c0e0"
      },
      "execution_count": 160,
      "outputs": [
        {
          "output_type": "stream",
          "name": "stdout",
          "text": [
            "Label: 0, corresponds to: csharp\n",
            "Label: 1, corresponds to: java\n",
            "Label: 2, corresponds to: javascript\n",
            "Label: 3, corresponds to: python\n"
          ]
        }
      ]
    },
    {
      "cell_type": "markdown",
      "source": [
        "Creating a validation set using the remaining 1600 reviws from the training set for validation.\n",
        "\n",
        "> With `validation_split` and `subset` arguments of `text_dataset_from_directory` make sure to sepcify random seed or pass shuffle-False, so the splits have no overlap."
      ],
      "metadata": {
        "id": "Nr6IDq5gSIDL"
      }
    },
    {
      "cell_type": "code",
      "source": [
        "# Creating a validatio set\n",
        "raw_val_ds = utils.text_dataset_from_directory(\n",
        "    directory=train_dir,\n",
        "    batch_size=BATCH_SIZE,\n",
        "    seed=SEED,\n",
        "    subset='validation',\n",
        "    validation_split=0.2\n",
        ")"
      ],
      "metadata": {
        "colab": {
          "base_uri": "https://localhost:8080/"
        },
        "id": "kSRM_0EDSdEz",
        "outputId": "a4032454-5391-4c36-eb5d-667182006cb0"
      },
      "execution_count": 161,
      "outputs": [
        {
          "output_type": "stream",
          "name": "stdout",
          "text": [
            "Found 8000 files belonging to 4 classes.\n",
            "Using 1600 files for validation.\n"
          ]
        }
      ]
    },
    {
      "cell_type": "code",
      "source": [
        "test_dir = dataset_dir/'test'\n",
        "\n",
        "# Createing test dataset\n",
        "raw_test_ds = utils.text_dataset_from_directory(\n",
        "    directory=test_dir,\n",
        "    batch_size=BATCH_SIZE\n",
        ")"
      ],
      "metadata": {
        "colab": {
          "base_uri": "https://localhost:8080/"
        },
        "id": "RYprza0WTAHP",
        "outputId": "f8d0f584-b16c-4bf7-80b2-9ebc48f12323"
      },
      "execution_count": 162,
      "outputs": [
        {
          "output_type": "stream",
          "name": "stdout",
          "text": [
            "Found 8000 files belonging to 4 classes.\n"
          ]
        }
      ]
    },
    {
      "cell_type": "markdown",
      "source": [
        "Now we've the datasets ready, we'll **`prepare the dataset for training`**\n",
        "\n",
        "Next steps:\n",
        "\n",
        "1. *`Standardization`* - preprocessing the text to remove punctuation and html elements to simplify the dataset\n",
        "2. *`Tokenization`* - Splitting the strings into tokens(based on whitespace or any other delimiter)\n",
        "3. *`Vecotrization`* - Converting tokens into numbers so they can be fed into a neural network\n",
        "\n",
        "Let's accompolish these tasks using `tf.keras.layers.TextVectorization` API\n",
        "\n",
        "To lean about the above three techniques we'll try the below two with TextVectorization:\n",
        "\n",
        "* First use `binry` vectorization mode to build a bag-of-words model.\n",
        "* Use `int` mode with a 1D ConvNet."
      ],
      "metadata": {
        "id": "FjG7IhaRTQLa"
      }
    },
    {
      "cell_type": "code",
      "source": [
        "VOCAB_SIZE = 10000\n",
        "binary_vectorize_layer = TextVectorization(\n",
        "    max_tokens=VOCAB_SIZE,\n",
        "    output_mode='binary'\n",
        ")\n"
      ],
      "metadata": {
        "id": "6G3-nAXhUscz"
      },
      "execution_count": 163,
      "outputs": []
    },
    {
      "cell_type": "markdown",
      "source": [
        "setting `output_sequence_length` parameter will cause the layer to pad or truncate sequences to the value of the parameter."
      ],
      "metadata": {
        "id": "OGF9RiHSU5RC"
      }
    },
    {
      "cell_type": "code",
      "source": [
        "MAX_SEQUENCE_LENGTH = 250\n",
        "int_vectorize_layer = TextVectorization(\n",
        "    max_tokens=VOCAB_SIZE,\n",
        "    output_mode='int',\n",
        "    output_sequence_length=MAX_SEQUENCE_LENGTH\n",
        ")"
      ],
      "metadata": {
        "id": "1Bq4y-bJVUdC"
      },
      "execution_count": 164,
      "outputs": []
    },
    {
      "cell_type": "markdown",
      "source": [
        "All set, calling `TextVectorization.adapt` to fit the state of the preprocessing layer to the dataset. This will cause the model to build an index of strings to integers."
      ],
      "metadata": {
        "id": "Fo4q5UZZVgPU"
      }
    },
    {
      "cell_type": "code",
      "source": [
        "# Make a text-only dataset (without labels), then call the adapt methods\n",
        "train_text = raw_train_ds.map(lambda text, labels: text)"
      ],
      "metadata": {
        "id": "k4fcks34WUhU"
      },
      "execution_count": 165,
      "outputs": []
    },
    {
      "cell_type": "code",
      "source": [
        "binary_vectorize_layer.adapt(train_text)\n",
        "int_vectorize_layer.adapt(train_text)"
      ],
      "metadata": {
        "id": "mAIPYGbKWfmG"
      },
      "execution_count": 166,
      "outputs": []
    },
    {
      "cell_type": "code",
      "source": [
        "# Printing the result of using these layers to preprocess data\n",
        "\n",
        "def binary_vectorize_text(text, label):\n",
        "  # To accomodatae batching\n",
        "  text = tf.expand_dims(text, -1)\n",
        "  return binary_vectorize_layer(text), label"
      ],
      "metadata": {
        "id": "WrcYwDnAWgk_"
      },
      "execution_count": 167,
      "outputs": []
    },
    {
      "cell_type": "code",
      "source": [
        "def int_vectorize_text(text, label):\n",
        "  text = tf.expand_dims(text, -1)\n",
        "  return int_vectorize_layer(text), label"
      ],
      "metadata": {
        "id": "bAtl7RpoW9rE"
      },
      "execution_count": 168,
      "outputs": []
    },
    {
      "cell_type": "code",
      "source": [
        "raw_train_ds"
      ],
      "metadata": {
        "colab": {
          "base_uri": "https://localhost:8080/"
        },
        "id": "Fg8zxI9GXr9H",
        "outputId": "f2bd8304-aa4a-49e7-b68d-31a49d21327b"
      },
      "execution_count": 169,
      "outputs": [
        {
          "output_type": "execute_result",
          "data": {
            "text/plain": [
              "<BatchDataset element_spec=(TensorSpec(shape=(None,), dtype=tf.string, name=None), TensorSpec(shape=(None,), dtype=tf.int32, name=None))>"
            ]
          },
          "metadata": {},
          "execution_count": 169
        }
      ]
    },
    {
      "cell_type": "code",
      "source": [
        "# Retrieve a batch from the dataset\n",
        "text_batch, label_batch = next(iter(raw_train_ds))\n",
        "first_question, first_label = text_batch[0], label_batch[0]\n",
        "print(f\"Question: {first_question}\")\n",
        "print(f\"Label: {label}\")"
      ],
      "metadata": {
        "colab": {
          "base_uri": "https://localhost:8080/"
        },
        "id": "taLujEgZW5V9",
        "outputId": "ea4e302f-ad5c-4fbd-c42e-70cec6447c80"
      },
      "execution_count": 170,
      "outputs": [
        {
          "output_type": "stream",
          "name": "stdout",
          "text": [
            "Question: b'\"what is the difference between these two ways to create an element? var a = document.createelement(\\'div\\');..a.id = \"\"mydiv\"\";...and..var a = document.createelement(\\'div\\').id = \"\"mydiv\"\";...what is the difference between them such that the first one works and the second one doesn\\'t?\"\\n'\n",
            "Label: python\n"
          ]
        }
      ]
    },
    {
      "cell_type": "code",
      "source": [
        "print(f\"\"\"\n",
        "binary vectorized question:\n",
        "{binary_vectorize_text(first_question, first_label)}\n",
        "\"\"\")"
      ],
      "metadata": {
        "colab": {
          "base_uri": "https://localhost:8080/"
        },
        "id": "5fxtYQ81W8UZ",
        "outputId": "f2f3d226-ce81-4c7a-8228-75d63b8fdefa"
      },
      "execution_count": 171,
      "outputs": [
        {
          "output_type": "stream",
          "name": "stdout",
          "text": [
            "\n",
            "binary vectorized question:\n",
            "(<tf.Tensor: shape=(1, 10000), dtype=float32, numpy=array([[1., 1., 0., ..., 0., 0., 0.]], dtype=float32)>, <tf.Tensor: shape=(), dtype=int32, numpy=2>)\n",
            "\n"
          ]
        }
      ]
    },
    {
      "cell_type": "code",
      "source": [
        "print(f\"\"\"\n",
        "int vectorized question:\n",
        "{int_vectorize_text(first_question, first_label)}\n",
        "\"\"\")"
      ],
      "metadata": {
        "colab": {
          "base_uri": "https://localhost:8080/"
        },
        "id": "uNgFiPNfYN2P",
        "outputId": "0abb6b27-930f-42b5-ebdd-baf3803f2c68"
      },
      "execution_count": 172,
      "outputs": [
        {
          "output_type": "stream",
          "name": "stdout",
          "text": [
            "\n",
            "int vectorized question:\n",
            "(<tf.Tensor: shape=(1, 250), dtype=int64, numpy=\n",
            "array([[ 55,   6,   2, 410, 211, 229, 121, 895,   4, 124,  32, 245,  43,\n",
            "          5,   1,   1,   5,   1,   1,   6,   2, 410, 211, 191, 318,  14,\n",
            "          2,  98,  71, 188,   8,   2, 199,  71, 178,   0,   0,   0,   0,\n",
            "          0,   0,   0,   0,   0,   0,   0,   0,   0,   0,   0,   0,   0,\n",
            "          0,   0,   0,   0,   0,   0,   0,   0,   0,   0,   0,   0,   0,\n",
            "          0,   0,   0,   0,   0,   0,   0,   0,   0,   0,   0,   0,   0,\n",
            "          0,   0,   0,   0,   0,   0,   0,   0,   0,   0,   0,   0,   0,\n",
            "          0,   0,   0,   0,   0,   0,   0,   0,   0,   0,   0,   0,   0,\n",
            "          0,   0,   0,   0,   0,   0,   0,   0,   0,   0,   0,   0,   0,\n",
            "          0,   0,   0,   0,   0,   0,   0,   0,   0,   0,   0,   0,   0,\n",
            "          0,   0,   0,   0,   0,   0,   0,   0,   0,   0,   0,   0,   0,\n",
            "          0,   0,   0,   0,   0,   0,   0,   0,   0,   0,   0,   0,   0,\n",
            "          0,   0,   0,   0,   0,   0,   0,   0,   0,   0,   0,   0,   0,\n",
            "          0,   0,   0,   0,   0,   0,   0,   0,   0,   0,   0,   0,   0,\n",
            "          0,   0,   0,   0,   0,   0,   0,   0,   0,   0,   0,   0,   0,\n",
            "          0,   0,   0,   0,   0,   0,   0,   0,   0,   0,   0,   0,   0,\n",
            "          0,   0,   0,   0,   0,   0,   0,   0,   0,   0,   0,   0,   0,\n",
            "          0,   0,   0,   0,   0,   0,   0,   0,   0,   0,   0,   0,   0,\n",
            "          0,   0,   0,   0,   0,   0,   0,   0,   0,   0,   0,   0,   0,\n",
            "          0,   0,   0]])>, <tf.Tensor: shape=(), dtype=int32, numpy=2>)\n",
            "\n"
          ]
        }
      ]
    },
    {
      "cell_type": "markdown",
      "source": [
        "As seen above,\n",
        "\n",
        "* `binary` mode creates a sparse matrix of VOCAB_SIZE and `1` where words are present\n",
        "* `int` mode replaces words with integers and adds or truncates max length of output to MAX_SEQUENCE_LENGTH"
      ],
      "metadata": {
        "id": "CF04TPUJYu8M"
      }
    },
    {
      "cell_type": "markdown",
      "source": [
        "We can lookup the word for token using good vocabulary"
      ],
      "metadata": {
        "id": "ik4ONqYrZIWt"
      }
    },
    {
      "cell_type": "code",
      "source": [
        "print(f\"1221---> {int_vectorize_layer.get_vocabulary()[1221]}\")\n",
        "print(f\"2---> {int_vectorize_layer.get_vocabulary()[2]}\")"
      ],
      "metadata": {
        "colab": {
          "base_uri": "https://localhost:8080/"
        },
        "id": "vnC9Ea1mZV0j",
        "outputId": "6996d657-46b6-4ac9-e03c-26d2b90c5877"
      },
      "execution_count": 173,
      "outputs": [
        {
          "output_type": "stream",
          "name": "stdout",
          "text": [
            "1221---> parsing\n",
            "2---> the\n"
          ]
        }
      ]
    },
    {
      "cell_type": "code",
      "source": [
        "len(int_vectorize_layer.get_vocabulary())"
      ],
      "metadata": {
        "colab": {
          "base_uri": "https://localhost:8080/"
        },
        "id": "dopcC2CzZeS-",
        "outputId": "e862ee8b-6c0c-4eb9-8a9c-68731862ca7e"
      },
      "execution_count": 174,
      "outputs": [
        {
          "output_type": "execute_result",
          "data": {
            "text/plain": [
              "10000"
            ]
          },
          "metadata": {},
          "execution_count": 174
        }
      ]
    },
    {
      "cell_type": "code",
      "source": [
        "print(f\"\"\"\n",
        "Top words in vocab: {int_vectorize_layer.get_vocabulary()[:10]},\n",
        "Bottom words in vocab: {int_vectorize_layer.get_vocabulary()[-10:]}\n",
        "\"\"\")"
      ],
      "metadata": {
        "colab": {
          "base_uri": "https://localhost:8080/"
        },
        "id": "sYYuRMMeZisj",
        "outputId": "c78030c7-7d71-4093-b0d6-46d9ee1afc81"
      },
      "execution_count": 175,
      "outputs": [
        {
          "output_type": "stream",
          "name": "stdout",
          "text": [
            "\n",
            "Top words in vocab: ['', '[UNK]', 'the', 'i', 'to', 'a', 'is', 'in', 'and', 'of'],\n",
            "Bottom words in vocab: ['excluded', 'exceptionthe', 'evnets', 'everyvarmathfloormathrandomeveryvarlength', 'eventtargetinnerhtml', 'evalinputplease', 'euros', 'ettercap', 'etos', 'essential']\n",
            "\n"
          ]
        }
      ]
    },
    {
      "cell_type": "markdown",
      "source": [
        "We're all set, let's apply the vectorization layer to the entire dataset."
      ],
      "metadata": {
        "id": "U8uQ3Hh8ZzMJ"
      }
    },
    {
      "cell_type": "code",
      "source": [
        "binary_train_ds = raw_train_ds.map(binary_vectorize_text)\n",
        "binary_val_ds = raw_val_ds.map(binary_vectorize_text)\n",
        "binary_test_ds = raw_test_ds.map(binary_vectorize_text)\n",
        "\n",
        "int_train_ds = raw_train_ds.map(int_vectorize_text)\n",
        "int_val_ds = raw_val_ds.map(int_vectorize_text)\n",
        "int_test_ds = raw_test_ds.map(int_vectorize_text)"
      ],
      "metadata": {
        "id": "wwLv5ASIaN6o"
      },
      "execution_count": 176,
      "outputs": []
    },
    {
      "cell_type": "code",
      "source": [
        "first_batch_question, first_batch_label = next(iter(binary_train_ds))"
      ],
      "metadata": {
        "id": "8Ax0_Ph4aqAe"
      },
      "execution_count": 177,
      "outputs": []
    },
    {
      "cell_type": "code",
      "source": [
        "first_batch_question.shape, first_batch_label.shape"
      ],
      "metadata": {
        "colab": {
          "base_uri": "https://localhost:8080/"
        },
        "id": "XwNgJbpiaser",
        "outputId": "02eccf26-b5dd-46a5-849e-af5e90b77246"
      },
      "execution_count": 178,
      "outputs": [
        {
          "output_type": "execute_result",
          "data": {
            "text/plain": [
              "(TensorShape([32, 10000]), TensorShape([32]))"
            ]
          },
          "metadata": {},
          "execution_count": 178
        }
      ]
    },
    {
      "cell_type": "markdown",
      "source": [
        "#### Configure the dataset for performance\n",
        "\n",
        "* `Dataset.cache` keeps data in memeory after it;s loaded off disk. This ensures the dataset does not become a bottleneck while training the model. If dataset is too large to fit into memeory, can also use ths method to create a performant on-disk cache, which is more effecient to read than many small files.\n",
        "\n",
        "* `Dataset.prefetch` overalaps data preprocessing and model execution while training."
      ],
      "metadata": {
        "id": "pB8I7chFa9Wd"
      }
    },
    {
      "cell_type": "code",
      "source": [
        "AUTOTUNE = tf.data.AUTOTUNE\n",
        "\n",
        "def configure_dataset(dataset):\n",
        "  return dataset.cache().prefetch(buffer_size=AUTOTUNE)"
      ],
      "metadata": {
        "id": "cabEB0_icQqC"
      },
      "execution_count": 179,
      "outputs": []
    },
    {
      "cell_type": "code",
      "source": [
        "binary_train_ds = configure_dataset(binary_train_ds)\n",
        "binary_val_ds = configure_dataset(binary_val_ds)\n",
        "binary_test_ds = configure_dataset(binary_test_ds)\n",
        "\n",
        "int_train_ds = configure_dataset(int_train_ds)\n",
        "int_val_ds = configure_dataset(int_val_ds)\n",
        "int_test_ds = configure_dataset(int_test_ds)"
      ],
      "metadata": {
        "id": "8Wbm4oQ3cYTJ"
      },
      "execution_count": 180,
      "outputs": []
    },
    {
      "cell_type": "code",
      "source": [
        "binary_train_ds"
      ],
      "metadata": {
        "colab": {
          "base_uri": "https://localhost:8080/"
        },
        "id": "ACz1ijKLcycq",
        "outputId": "f2ce2e5d-6f8a-4d34-80dc-9aaf6efad5a3"
      },
      "execution_count": 181,
      "outputs": [
        {
          "output_type": "execute_result",
          "data": {
            "text/plain": [
              "<PrefetchDataset element_spec=(TensorSpec(shape=(None, 10000), dtype=tf.float32, name=None), TensorSpec(shape=(None,), dtype=tf.int32, name=None))>"
            ]
          },
          "metadata": {},
          "execution_count": 181
        }
      ]
    },
    {
      "cell_type": "code",
      "source": [
        "binary_model = tf.keras.Sequential([layers.Dense(4)])\n",
        "\n",
        "binary_model.compile(\n",
        "    loss=losses.SparseCategoricalCrossentropy(from_logits=True),\n",
        "    optimizer='adam',\n",
        "    metrics=['accuracy']\n",
        ")"
      ],
      "metadata": {
        "id": "ifNMXybDc60y"
      },
      "execution_count": 182,
      "outputs": []
    },
    {
      "cell_type": "code",
      "source": [
        "history = binary_model.fit(\n",
        "    binary_train_ds,\n",
        "    validation_data=binary_val_ds,\n",
        "    epochs=10\n",
        ")"
      ],
      "metadata": {
        "colab": {
          "base_uri": "https://localhost:8080/"
        },
        "id": "SbKmXgdRds05",
        "outputId": "031c91c7-25fc-4a81-db23-f981bde5f29a"
      },
      "execution_count": 183,
      "outputs": [
        {
          "output_type": "stream",
          "name": "stdout",
          "text": [
            "Epoch 1/10\n",
            "200/200 [==============================] - 4s 16ms/step - loss: 1.1206 - accuracy: 0.6425 - val_loss: 0.9142 - val_accuracy: 0.7781\n",
            "Epoch 2/10\n",
            "200/200 [==============================] - 1s 4ms/step - loss: 0.7785 - accuracy: 0.8217 - val_loss: 0.7500 - val_accuracy: 0.7969\n",
            "Epoch 3/10\n",
            "200/200 [==============================] - 1s 4ms/step - loss: 0.6269 - accuracy: 0.8653 - val_loss: 0.6643 - val_accuracy: 0.8106\n",
            "Epoch 4/10\n",
            "200/200 [==============================] - 1s 4ms/step - loss: 0.5335 - accuracy: 0.8892 - val_loss: 0.6108 - val_accuracy: 0.8206\n",
            "Epoch 5/10\n",
            "200/200 [==============================] - 1s 4ms/step - loss: 0.4675 - accuracy: 0.9061 - val_loss: 0.5742 - val_accuracy: 0.8313\n",
            "Epoch 6/10\n",
            "200/200 [==============================] - 1s 4ms/step - loss: 0.4172 - accuracy: 0.9152 - val_loss: 0.5476 - val_accuracy: 0.8338\n",
            "Epoch 7/10\n",
            "200/200 [==============================] - 1s 4ms/step - loss: 0.3771 - accuracy: 0.9281 - val_loss: 0.5275 - val_accuracy: 0.8369\n",
            "Epoch 8/10\n",
            "200/200 [==============================] - 1s 4ms/step - loss: 0.3438 - accuracy: 0.9372 - val_loss: 0.5120 - val_accuracy: 0.8369\n",
            "Epoch 9/10\n",
            "200/200 [==============================] - 1s 4ms/step - loss: 0.3157 - accuracy: 0.9433 - val_loss: 0.4999 - val_accuracy: 0.8369\n",
            "Epoch 10/10\n",
            "200/200 [==============================] - 1s 4ms/step - loss: 0.2913 - accuracy: 0.9491 - val_loss: 0.4902 - val_accuracy: 0.8375\n"
          ]
        }
      ]
    },
    {
      "cell_type": "markdown",
      "source": [
        "Creating Conv1D model on `int` dataset"
      ],
      "metadata": {
        "id": "Q_HM1Ni0d2re"
      }
    },
    {
      "cell_type": "code",
      "source": [
        "def create_model(vocab_size, num_labels):\n",
        "  model = tf.keras.Sequential([\n",
        "      layers.Embedding(input_dim=vocab_size, \n",
        "                       output_dim=64, \n",
        "                       mask_zero=True),\n",
        "      layers.Conv1D(filters=64,\n",
        "                    kernel_size=5,\n",
        "                    strides=2,\n",
        "                    padding=\"valid\",\n",
        "                    activation=\"relu\"),\n",
        "      layers.GlobalMaxPool1D(),\n",
        "      layers.Dense(num_labels)\n",
        "  ])\n",
        "\n",
        "  return model"
      ],
      "metadata": {
        "id": "Lnz_w5T3eWaY"
      },
      "execution_count": 249,
      "outputs": []
    },
    {
      "cell_type": "code",
      "source": [
        "int_model = create_model(vocab_size=VOCAB_SIZE + 1, # 1 for 0 used in padding\n",
        "                         num_labels=4)"
      ],
      "metadata": {
        "id": "_Io-T9pMfEjj"
      },
      "execution_count": 186,
      "outputs": []
    },
    {
      "cell_type": "code",
      "source": [
        "int_model.compile(\n",
        "    loss=losses.SparseCategoricalCrossentropy(from_logits=True),\n",
        "    optimizer='adam',\n",
        "    metrics=['accuracy']\n",
        ")"
      ],
      "metadata": {
        "id": "7wZpo4HRfQHZ"
      },
      "execution_count": 187,
      "outputs": []
    },
    {
      "cell_type": "code",
      "source": [
        "history = int_model.fit(\n",
        "    int_train_ds,\n",
        "    validation_data=int_val_ds,\n",
        "    epochs=10\n",
        ")"
      ],
      "metadata": {
        "colab": {
          "base_uri": "https://localhost:8080/"
        },
        "id": "YYVzHcy6falN",
        "outputId": "30b1c2e0-c747-4d9a-cdae-f6bda02aeb8e"
      },
      "execution_count": 188,
      "outputs": [
        {
          "output_type": "stream",
          "name": "stdout",
          "text": [
            "Epoch 1/10\n",
            "200/200 [==============================] - 8s 38ms/step - loss: 1.1317 - accuracy: 0.4966 - val_loss: 0.7533 - val_accuracy: 0.6994\n",
            "Epoch 2/10\n",
            "200/200 [==============================] - 5s 27ms/step - loss: 0.6257 - accuracy: 0.7569 - val_loss: 0.5495 - val_accuracy: 0.7969\n",
            "Epoch 3/10\n",
            "200/200 [==============================] - 6s 28ms/step - loss: 0.3828 - accuracy: 0.8750 - val_loss: 0.4854 - val_accuracy: 0.8194\n",
            "Epoch 4/10\n",
            "200/200 [==============================] - 6s 28ms/step - loss: 0.2135 - accuracy: 0.9505 - val_loss: 0.4848 - val_accuracy: 0.8188\n",
            "Epoch 5/10\n",
            "200/200 [==============================] - 6s 28ms/step - loss: 0.1067 - accuracy: 0.9809 - val_loss: 0.5138 - val_accuracy: 0.8163\n",
            "Epoch 6/10\n",
            "200/200 [==============================] - 6s 28ms/step - loss: 0.0506 - accuracy: 0.9939 - val_loss: 0.5461 - val_accuracy: 0.8181\n",
            "Epoch 7/10\n",
            "200/200 [==============================] - 6s 28ms/step - loss: 0.0241 - accuracy: 0.9987 - val_loss: 0.5790 - val_accuracy: 0.8119\n",
            "Epoch 8/10\n",
            "200/200 [==============================] - 6s 28ms/step - loss: 0.0130 - accuracy: 0.9997 - val_loss: 0.6093 - val_accuracy: 0.8138\n",
            "Epoch 9/10\n",
            "200/200 [==============================] - 6s 28ms/step - loss: 0.0078 - accuracy: 1.0000 - val_loss: 0.6351 - val_accuracy: 0.8112\n",
            "Epoch 10/10\n",
            "200/200 [==============================] - 6s 28ms/step - loss: 0.0052 - accuracy: 1.0000 - val_loss: 0.6577 - val_accuracy: 0.8100\n"
          ]
        }
      ]
    },
    {
      "cell_type": "code",
      "source": [
        "binary_model.summary()"
      ],
      "metadata": {
        "colab": {
          "base_uri": "https://localhost:8080/"
        },
        "id": "pV4mN32BfoCg",
        "outputId": "dca20e9b-4bfa-4b57-8680-854bfa98900b"
      },
      "execution_count": 189,
      "outputs": [
        {
          "output_type": "stream",
          "name": "stdout",
          "text": [
            "Model: \"sequential_3\"\n",
            "_________________________________________________________________\n",
            " Layer (type)                Output Shape              Param #   \n",
            "=================================================================\n",
            " dense_3 (Dense)             (None, 4)                 40004     \n",
            "                                                                 \n",
            "=================================================================\n",
            "Total params: 40,004\n",
            "Trainable params: 40,004\n",
            "Non-trainable params: 0\n",
            "_________________________________________________________________\n"
          ]
        }
      ]
    },
    {
      "cell_type": "code",
      "source": [
        "int_model.summary()"
      ],
      "metadata": {
        "colab": {
          "base_uri": "https://localhost:8080/"
        },
        "id": "yYamVgv4gV4n",
        "outputId": "ae66f1a2-a6bc-4610-b309-ec6e9124b171"
      },
      "execution_count": 190,
      "outputs": [
        {
          "output_type": "stream",
          "name": "stdout",
          "text": [
            "Model: \"sequential_4\"\n",
            "_________________________________________________________________\n",
            " Layer (type)                Output Shape              Param #   \n",
            "=================================================================\n",
            " embedding_3 (Embedding)     (None, None, 64)          640000    \n",
            "                                                                 \n",
            " conv1d_3 (Conv1D)           (None, None, 64)          20544     \n",
            "                                                                 \n",
            " global_max_pooling1d_3 (Glo  (None, 64)               0         \n",
            " balMaxPooling1D)                                                \n",
            "                                                                 \n",
            " dense_4 (Dense)             (None, 4)                 260       \n",
            "                                                                 \n",
            "=================================================================\n",
            "Total params: 660,804\n",
            "Trainable params: 660,804\n",
            "Non-trainable params: 0\n",
            "_________________________________________________________________\n"
          ]
        }
      ]
    },
    {
      "cell_type": "code",
      "source": [
        "binary_loss, binary_accuracy = binary_model.evaluate(binary_test_ds)\n",
        "int_loss, int_accuracy = int_model.evaluate(int_test_ds)\n",
        "\n",
        "print(\"Binary model accuracy: {:2.2%}\".format(binary_accuracy))\n",
        "print(\"Int model accuracy: {:2.2%}\".format(int_accuracy))"
      ],
      "metadata": {
        "colab": {
          "base_uri": "https://localhost:8080/"
        },
        "id": "UwoXq662gXJ7",
        "outputId": "4324682a-b4ce-41e8-9c04-0aa63fcbe93c"
      },
      "execution_count": 191,
      "outputs": [
        {
          "output_type": "stream",
          "name": "stdout",
          "text": [
            "250/250 [==============================] - 3s 11ms/step - loss: 0.5174 - accuracy: 0.8152\n",
            "250/250 [==============================] - 4s 14ms/step - loss: 0.6471 - accuracy: 0.8090\n",
            "Binary model accuracy: 81.52%\n",
            "Int model accuracy: 80.90%\n"
          ]
        }
      ]
    },
    {
      "cell_type": "markdown",
      "source": [
        "Let's include preprocessing layer as part of the model to make it easier for predictions and use in production if needed."
      ],
      "metadata": {
        "id": "8AhduiJngcAv"
      }
    },
    {
      "cell_type": "code",
      "source": [
        "export_model = tf.keras.Sequential(\n",
        "    [\n",
        "     binary_vectorize_layer,\n",
        "     binary_model,\n",
        "     layers.Activation('sigmoid')\n",
        "    ]\n",
        ")\n",
        "\n",
        "export_model.compile(\n",
        "    loss=losses.SparseCategoricalCrossentropy(from_logits=True),\n",
        "    optimizer='adam',\n",
        "    metrics='accuracy'\n",
        ")"
      ],
      "metadata": {
        "id": "VkuPFaBHg5zA"
      },
      "execution_count": 192,
      "outputs": []
    },
    {
      "cell_type": "code",
      "source": [
        "export_model.summary()"
      ],
      "metadata": {
        "colab": {
          "base_uri": "https://localhost:8080/"
        },
        "id": "ODW7oifKh62d",
        "outputId": "29587bd3-9a9c-497c-f8c3-a5450cc7951a"
      },
      "execution_count": 193,
      "outputs": [
        {
          "output_type": "stream",
          "name": "stdout",
          "text": [
            "Model: \"sequential_5\"\n",
            "_________________________________________________________________\n",
            " Layer (type)                Output Shape              Param #   \n",
            "=================================================================\n",
            " text_vectorization_1 (TextV  (None, 10000)            0         \n",
            " ectorization)                                                   \n",
            "                                                                 \n",
            " sequential_3 (Sequential)   (None, 4)                 40004     \n",
            "                                                                 \n",
            " activation (Activation)     (None, 4)                 0         \n",
            "                                                                 \n",
            "=================================================================\n",
            "Total params: 40,004\n",
            "Trainable params: 40,004\n",
            "Non-trainable params: 0\n",
            "_________________________________________________________________\n"
          ]
        }
      ]
    },
    {
      "cell_type": "code",
      "source": [
        "loss, accuracy = export_model.evaluate(raw_test_ds)\n",
        "print(\"Accuracy: {:2.2%}\".format(binary_accuracy))"
      ],
      "metadata": {
        "colab": {
          "base_uri": "https://localhost:8080/"
        },
        "id": "kJyxqf0lhTSU",
        "outputId": "5c8dd3c0-41c0-45b9-ef9b-d7a6c729f49e"
      },
      "execution_count": 194,
      "outputs": [
        {
          "output_type": "stream",
          "name": "stderr",
          "text": [
            "/usr/local/lib/python3.7/dist-packages/tensorflow/python/util/dispatch.py:1082: UserWarning: \"`sparse_categorical_crossentropy` received `from_logits=True`, but the `output` argument was produced by a sigmoid or softmax activation and thus does not represent logits. Was this intended?\"\n",
            "  return dispatch_target(*args, **kwargs)\n"
          ]
        },
        {
          "output_type": "stream",
          "name": "stdout",
          "text": [
            "250/250 [==============================] - 3s 10ms/step - loss: 0.5174 - accuracy: 0.8152\n",
            "Accuracy: 81.52%\n"
          ]
        }
      ]
    },
    {
      "cell_type": "code",
      "source": [
        "def get_string_labels(predicted_scores_batch):\n",
        "  predicted_int_labels = tf.argmax(predicted_scores_batch, axis=1)\n",
        "  predicted_labels = tf.gather(raw_train_ds.class_names, predicted_int_labels)\n",
        "  return predicted_labels"
      ],
      "metadata": {
        "id": "phIpKZWmhmrm"
      },
      "execution_count": 195,
      "outputs": []
    },
    {
      "cell_type": "code",
      "source": [
        "inputs = [\n",
        "    \"how do I extract keys from a dict into a list?\",  # 'python'\n",
        "    \"debug public static void main(string[] args) {...}\",  # 'java'\n",
        "]\n",
        "predicted_scores = export_model.predict(inputs)\n",
        "predicted_labels = get_string_labels(predicted_scores)\n",
        "for input, label in zip(inputs, predicted_labels):\n",
        "  print(\"Question: \", input)\n",
        "  print(\"Predicted label: \", label.numpy())"
      ],
      "metadata": {
        "colab": {
          "base_uri": "https://localhost:8080/"
        },
        "id": "TeJWJyxHiFdO",
        "outputId": "6f4b6c1c-eadc-4a29-c255-2baa43d2f9bb"
      },
      "execution_count": 196,
      "outputs": [
        {
          "output_type": "stream",
          "name": "stdout",
          "text": [
            "Question:  how do I extract keys from a dict into a list?\n",
            "Predicted label:  b'python'\n",
            "Question:  debug public static void main(string[] args) {...}\n",
            "Predicted label:  b'java'\n"
          ]
        }
      ]
    },
    {
      "cell_type": "markdown",
      "source": [
        "### **Summary:**\n",
        "\n",
        "1. `utils.get_file` to download dataset from a url\n",
        "2. Loading text dataset from a directory using `utils.text_dataset_from_directory`\n",
        "3. Standardization, tokenization, vectorization using `TextVectorizationLayer`\n",
        "4. Mapping vectorization layer using function over the entire dataset\n",
        "5. I/O bottlenect prevention using `tf.data` API"
      ],
      "metadata": {
        "id": "aYGR7iBdiGlf"
      }
    },
    {
      "cell_type": "markdown",
      "source": [
        "## Using TensorFlow low level API"
      ],
      "metadata": {
        "id": "ZGvRRcdNjFEJ"
      }
    },
    {
      "cell_type": "markdown",
      "source": [
        "### Example 2: Predict the author of Iliad translations\n",
        "\n",
        "Using `tf.data.TextLineDataset` to load examples from text files and `TensorFlow Text` to preprocess the data. We'll use three different English translations of the same work, Homer's Iliad and train a model to identify the translator given a single line of text."
      ],
      "metadata": {
        "id": "Zuy2jHvEmWht"
      }
    },
    {
      "cell_type": "markdown",
      "source": [
        "#### Download and explore the dataset\n",
        "\n",
        "The texts of three translations are by:\n",
        "\n",
        "* [William Cowper:](https://en.wikipedia.org/wiki/William_Cowper)[ text](https://storage.googleapis.com/download.tensorflow.org/data/illiad/cowper.txt)\n",
        "\n",
        "* [Edaward, Earl of Derby:](https://en.wikipedia.org/wiki/Edward_Smith-Stanley,_14th_Earl_of_Derby)[ text](https://storage.googleapis.com/download.tensorflow.org/data/illiad/derby.txt)\n",
        "\n",
        "* [Samuel Butler: ](https://en.wikipedia.org/wiki/Samuel_Butler_%28novelist%29)[text](https://storage.googleapis.com/download.tensorflow.org/data/illiad/butler.txt)"
      ],
      "metadata": {
        "id": "GXfUJbNIm0WJ"
      }
    },
    {
      "cell_type": "markdown",
      "source": [
        "The text files used in this tutorial have undergone some typical preprocessing tasks like removing documnet header and footer, line numbers and chapter titles."
      ],
      "metadata": {
        "id": "4Eu9tATgnHG-"
      }
    },
    {
      "cell_type": "code",
      "source": [
        "# Download these lightly munged files locally:\n",
        "DIRECTORY_URL = 'https://storage.googleapis.com/download.tensorflow.org/data/illiad/'\n",
        "FILE_NAMES = ['cowper.txt', 'derby.txt', 'butler.txt']\n",
        "\n",
        "for name in FILE_NAMES:\n",
        "  text_dir = utils.get_file(name, origin=DIRECTORY_URL + name)\n",
        "\n",
        "parent_dir = pathlib.Path(text_dir).parent\n",
        "list(parent_dir.iterdir())"
      ],
      "metadata": {
        "colab": {
          "base_uri": "https://localhost:8080/"
        },
        "id": "uciOZJ9mn0bx",
        "outputId": "7dd33125-981e-42cc-d077-2e2dc17dbeba"
      },
      "execution_count": 197,
      "outputs": [
        {
          "output_type": "execute_result",
          "data": {
            "text/plain": [
              "[PosixPath('/root/.keras/datasets/cowper.txt'),\n",
              " PosixPath('/root/.keras/datasets/butler.txt'),\n",
              " PosixPath('/root/.keras/datasets/derby.txt')]"
            ]
          },
          "metadata": {},
          "execution_count": 197
        }
      ]
    },
    {
      "cell_type": "code",
      "source": [
        "text_dir"
      ],
      "metadata": {
        "colab": {
          "base_uri": "https://localhost:8080/",
          "height": 35
        },
        "id": "r5eW4Fcgn-uF",
        "outputId": "33a357c8-58b3-41b5-cb3e-db01703c0b22"
      },
      "execution_count": 198,
      "outputs": [
        {
          "output_type": "execute_result",
          "data": {
            "text/plain": [
              "'/root/.keras/datasets/butler.txt'"
            ],
            "application/vnd.google.colaboratory.intrinsic+json": {
              "type": "string"
            }
          },
          "metadata": {},
          "execution_count": 198
        }
      ]
    },
    {
      "cell_type": "markdown",
      "source": [
        "#### Load the dataset\n",
        "\n",
        "Previously with `tf.keras.utils.text_dataset_from_directory` all contents(lines) of a file were treated as a single example. Here, we'll use `tf.data.TextLineDataset` which is designed to create a `tf.data.Dataset` from a text file where example is a line of text from the original file.\n",
        "\n",
        "`TextLineDataset` is useful for text data that is primarily line-based (for example, poetry or error logs)\n",
        "\n",
        "Iterate through these files, loading each one into its own dataset. Each example(line) needs to be individually labelled, so use `Dataset.map` to apply a lebeler function to each one. This will iterate over evary example in the dataset, returning(`example, label`) pairs."
      ],
      "metadata": {
        "id": "NVJzelNroBgq"
      }
    },
    {
      "cell_type": "code",
      "source": [
        "def labeler(example, index):\n",
        "  return example, tf.cast(index, tf.int64)"
      ],
      "metadata": {
        "id": "M3QAuVUwpFOU"
      },
      "execution_count": 199,
      "outputs": []
    },
    {
      "cell_type": "code",
      "source": [
        "labeled_data_sets = []\n",
        "\n",
        "for i, file_name in enumerate(FILE_NAMES):\n",
        "  lines_dataset = tf.data.TextLineDataset(filenames=(str(parent_dir/file_name)))\n",
        "  labeled_dataset = lines_dataset.map(lambda ex: labeler(ex, i))\n",
        "  labeled_data_sets.append(labeled_dataset)"
      ],
      "metadata": {
        "id": "4ryvB32YpMNC"
      },
      "execution_count": 200,
      "outputs": []
    },
    {
      "cell_type": "code",
      "source": [
        "labeled_data_sets"
      ],
      "metadata": {
        "colab": {
          "base_uri": "https://localhost:8080/"
        },
        "id": "zPKIP-KHplZI",
        "outputId": "bfd27f53-036b-4d08-d9da-f82fa32e0275"
      },
      "execution_count": 201,
      "outputs": [
        {
          "output_type": "execute_result",
          "data": {
            "text/plain": [
              "[<MapDataset element_spec=(TensorSpec(shape=(), dtype=tf.string, name=None), TensorSpec(shape=(), dtype=tf.int64, name=None))>,\n",
              " <MapDataset element_spec=(TensorSpec(shape=(), dtype=tf.string, name=None), TensorSpec(shape=(), dtype=tf.int64, name=None))>,\n",
              " <MapDataset element_spec=(TensorSpec(shape=(), dtype=tf.string, name=None), TensorSpec(shape=(), dtype=tf.int64, name=None))>]"
            ]
          },
          "metadata": {},
          "execution_count": 201
        }
      ]
    },
    {
      "cell_type": "code",
      "source": [
        "example, label = next(iter(labeled_data_sets[0]))"
      ],
      "metadata": {
        "id": "D-sskbLWpnci"
      },
      "execution_count": 202,
      "outputs": []
    },
    {
      "cell_type": "code",
      "source": [
        "example.numpy(), label.numpy()"
      ],
      "metadata": {
        "colab": {
          "base_uri": "https://localhost:8080/"
        },
        "id": "gGpON1Lup5hj",
        "outputId": "e8b14620-d9a3-485f-8b1f-a482e42b37ff"
      },
      "execution_count": 203,
      "outputs": [
        {
          "output_type": "execute_result",
          "data": {
            "text/plain": [
              "(b\"\\xef\\xbb\\xbfAchilles sing, O Goddess! Peleus' son;\", 0)"
            ]
          },
          "metadata": {},
          "execution_count": 203
        }
      ]
    },
    {
      "cell_type": "markdown",
      "source": [
        "Next combining these labeled datasets into a single dataset using `Dataset.concatenate` and shuffle it with `Dataset.shuffle`"
      ],
      "metadata": {
        "id": "OH4uavvfp6wZ"
      }
    },
    {
      "cell_type": "code",
      "source": [
        "BUFFER_SIZE = 50000\n",
        "BATCH_SIZE = 64\n",
        "VALIDATION_SIZE = 5000"
      ],
      "metadata": {
        "id": "aW-t_UhqqKFw"
      },
      "execution_count": 204,
      "outputs": []
    },
    {
      "cell_type": "code",
      "source": [
        "all_labeled_data = labeled_data_sets[0]\n",
        "for labeled_dataset in labeled_data_sets[1:]:\n",
        "  all_labeled_data = all_labeled_data.concatenate(labeled_dataset)"
      ],
      "metadata": {
        "id": "3Y8sgi17qdZ2"
      },
      "execution_count": 205,
      "outputs": []
    },
    {
      "cell_type": "code",
      "source": [
        "# Shuffling the data\n",
        "all_labelled_data = all_labeled_data.shuffle(\n",
        "    BUFFER_SIZE, reshuffle_each_iteration=False\n",
        ")"
      ],
      "metadata": {
        "id": "rPN8FimoqqT8"
      },
      "execution_count": 206,
      "outputs": []
    },
    {
      "cell_type": "code",
      "source": [
        "# Printing out few examples\n",
        "for text, label in all_labeled_data.take(10):\n",
        "  print(f\"Sentence: {text.numpy()}\")\n",
        "  print(f\"Label: {label.numpy()}\")"
      ],
      "metadata": {
        "colab": {
          "base_uri": "https://localhost:8080/"
        },
        "id": "_K2kwcfVq5fF",
        "outputId": "bd7ea636-876d-4719-d34a-c20c2b4234e0"
      },
      "execution_count": 207,
      "outputs": [
        {
          "output_type": "stream",
          "name": "stdout",
          "text": [
            "Sentence: b\"\\xef\\xbb\\xbfAchilles sing, O Goddess! Peleus' son;\"\n",
            "Label: 0\n",
            "Sentence: b'His wrath pernicious, who ten thousand woes'\n",
            "Label: 0\n",
            "Sentence: b\"Caused to Achaia's host, sent many a soul\"\n",
            "Label: 0\n",
            "Sentence: b'Illustrious into Ades premature,'\n",
            "Label: 0\n",
            "Sentence: b'And Heroes gave (so stood the will of Jove)'\n",
            "Label: 0\n",
            "Sentence: b'To dogs and to all ravening fowls a prey,'\n",
            "Label: 0\n",
            "Sentence: b'When fierce dispute had separated once'\n",
            "Label: 0\n",
            "Sentence: b'The noble Chief Achilles from the son'\n",
            "Label: 0\n",
            "Sentence: b'Of Atreus, Agamemnon, King of men.'\n",
            "Label: 0\n",
            "Sentence: b\"Who them to strife impell'd? What power divine?\"\n",
            "Label: 0\n"
          ]
        }
      ]
    },
    {
      "cell_type": "markdown",
      "source": [
        "#### Prepare the dataset for training\n",
        "\n",
        "Instead of using `tf.keras.layers.TextVectorization` to preprocess the text dataset, will now use the TensorFlow Text APIs to standardize and tokenize the data, build a vocabulary and use `tf.lookup.StaticVocabularyTable` to map tokens to integers to feed to the model.\n",
        "\n",
        "Define a function to convert the text to lower-case and tokenize it.\n",
        "\n",
        "* TensorFlow Text provides various Tokenizers. In this example, we'll use the text `text.UnicodeScriotTokenizer` to tokenize the dataset.\n",
        "* Will use `Dataset.map` to apply the tokenization to the dataset."
      ],
      "metadata": {
        "id": "SWoVTxrNsu0k"
      }
    },
    {
      "cell_type": "code",
      "source": [
        "tokenizer = tf_text.UnicodeScriptTokenizer()"
      ],
      "metadata": {
        "id": "fwAABLkxthtt"
      },
      "execution_count": 208,
      "outputs": []
    },
    {
      "cell_type": "code",
      "source": [
        "def tokenize(text, unused_label):\n",
        "  # Lower case\n",
        "  lower_case = tf_text.case_fold_utf8(text)\n",
        "  return tokenizer.tokenize(lower_case)"
      ],
      "metadata": {
        "id": "m-YjEcxe5ghP"
      },
      "execution_count": 209,
      "outputs": []
    },
    {
      "cell_type": "code",
      "source": [
        "tokenized_ds = all_labeled_data.map(tokenize)"
      ],
      "metadata": {
        "id": "zI3EoY-m5kkM"
      },
      "execution_count": 210,
      "outputs": []
    },
    {
      "cell_type": "code",
      "source": [
        "for text_batch in tokenized_ds.take(5):\n",
        "  print(f\"Tokens: {text_batch.numpy()}\")"
      ],
      "metadata": {
        "colab": {
          "base_uri": "https://localhost:8080/"
        },
        "id": "j1JjFIq355TI",
        "outputId": "348d5b85-fcee-47c4-a652-3b6d4b1087a5"
      },
      "execution_count": 211,
      "outputs": [
        {
          "output_type": "stream",
          "name": "stdout",
          "text": [
            "Tokens: [b'achilles' b'sing' b',' b'o' b'goddess' b'!' b'peleus' b\"'\" b'son' b';']\n",
            "Tokens: [b'his' b'wrath' b'pernicious' b',' b'who' b'ten' b'thousand' b'woes']\n",
            "Tokens: [b'caused' b'to' b'achaia' b\"'\" b's' b'host' b',' b'sent' b'many' b'a'\n",
            " b'soul']\n",
            "Tokens: [b'illustrious' b'into' b'ades' b'premature' b',']\n",
            "Tokens: [b'and' b'heroes' b'gave' b'(' b'so' b'stood' b'the' b'will' b'of' b'jove'\n",
            " b')']\n"
          ]
        }
      ]
    },
    {
      "cell_type": "markdown",
      "source": [
        "Next building a vocabulary by sorting tokens by frequency and keeping the top `VOCAB_SIZE` tokens"
      ],
      "metadata": {
        "id": "mtzXVZlE575g"
      }
    },
    {
      "cell_type": "code",
      "source": [
        "tokenized_ds = configure_dataset(tokenized_ds)"
      ],
      "metadata": {
        "id": "AGwm_9uG6crK"
      },
      "execution_count": 212,
      "outputs": []
    },
    {
      "cell_type": "code",
      "source": [
        "vocab_dict = collections.defaultdict(lambda: 0)"
      ],
      "metadata": {
        "id": "E-VXsJA-6kgT"
      },
      "execution_count": 213,
      "outputs": []
    },
    {
      "cell_type": "code",
      "source": [
        "for tokens in tokenized_ds.as_numpy_iterator():\n",
        "  for token in tokens:\n",
        "    vocab_dict[token] += 1"
      ],
      "metadata": {
        "id": "NgS7PzTh64Gk"
      },
      "execution_count": 214,
      "outputs": []
    },
    {
      "cell_type": "code",
      "source": [
        "vocab = sorted(vocab_dict.items(), key=lambda x: x[1], reverse=True)"
      ],
      "metadata": {
        "id": "-j92cBAs8WQO"
      },
      "execution_count": 215,
      "outputs": []
    },
    {
      "cell_type": "code",
      "source": [
        "vocab[:5]"
      ],
      "metadata": {
        "colab": {
          "base_uri": "https://localhost:8080/"
        },
        "id": "NJPoFMqY64xk",
        "outputId": "9d6de3b3-6527-457a-81b0-dfc91a25b113"
      },
      "execution_count": 216,
      "outputs": [
        {
          "output_type": "execute_result",
          "data": {
            "text/plain": [
              "[(b',', 45478),\n",
              " (b'the', 28299),\n",
              " (b'and', 17012),\n",
              " (b\"'\", 15695),\n",
              " (b'of', 13489)]"
            ]
          },
          "metadata": {},
          "execution_count": 216
        }
      ]
    },
    {
      "cell_type": "code",
      "source": [
        "vocab = [token for token, count in vocab]\n",
        "vocab[:5]"
      ],
      "metadata": {
        "colab": {
          "base_uri": "https://localhost:8080/"
        },
        "id": "X2Pe_s2-9Xpq",
        "outputId": "dbc4cbf4-f94c-41cb-c4d7-762dd489df18"
      },
      "execution_count": 217,
      "outputs": [
        {
          "output_type": "execute_result",
          "data": {
            "text/plain": [
              "[b',', b'the', b'and', b\"'\", b'of']"
            ]
          },
          "metadata": {},
          "execution_count": 217
        }
      ]
    },
    {
      "cell_type": "code",
      "source": [
        "vocab = vocab[:VOCAB_SIZE]\n",
        "vocab_size = len(vocab)"
      ],
      "metadata": {
        "id": "HD7tNF9P-Nb5"
      },
      "execution_count": 218,
      "outputs": []
    },
    {
      "cell_type": "code",
      "source": [
        "print(f\"Vocab size: {vocab[:5]}\")"
      ],
      "metadata": {
        "colab": {
          "base_uri": "https://localhost:8080/"
        },
        "id": "SnSUR93C-W5Z",
        "outputId": "4662a19d-3d6a-48d1-ef9f-e9d8584ae275"
      },
      "execution_count": 219,
      "outputs": [
        {
          "output_type": "stream",
          "name": "stdout",
          "text": [
            "Vocab size: [b',', b'the', b'and', b\"'\", b'of']\n"
          ]
        }
      ]
    },
    {
      "cell_type": "markdown",
      "source": [
        "To convert tokens into integers, use the vocab to create a `tf.lookup.StaticVocabularyTable`. Will map tokens to integers in the range `[2, vocab_size + 2]`. As with `TextVectorization` layer, `0` is reserved to denote padding and `1` is reserved to denote an OOV token"
      ],
      "metadata": {
        "id": "GVb8usO_-gW0"
      }
    },
    {
      "cell_type": "code",
      "source": [
        "keys = vocab\n",
        "values = range(2, len(vocab) + 2) # Reserve 0 for padding and 1 for OOV tokens"
      ],
      "metadata": {
        "id": "U9LfExLd_rAb"
      },
      "execution_count": 220,
      "outputs": []
    },
    {
      "cell_type": "code",
      "source": [
        "init = tf.lookup.KeyValueTensorInitializer(\n",
        "    keys, values, key_dtype=tf.string, value_dtype=tf.int64\n",
        ")"
      ],
      "metadata": {
        "id": "aSRbCEQF_zO5"
      },
      "execution_count": 221,
      "outputs": []
    },
    {
      "cell_type": "code",
      "source": [
        "num_oov_buckets = 1\n",
        "vocab_table = tf.lookup.StaticVocabularyTable(init, num_oov_buckets)"
      ],
      "metadata": {
        "id": "wYLxFYvn_6rE"
      },
      "execution_count": 222,
      "outputs": []
    },
    {
      "cell_type": "markdown",
      "source": [
        "Finally define a function to standardize, tokenize and vectorize the dataset using the tokenizer and lookup table"
      ],
      "metadata": {
        "id": "GnehdMV0ABo3"
      }
    },
    {
      "cell_type": "code",
      "source": [
        "vocab_table.size()"
      ],
      "metadata": {
        "colab": {
          "base_uri": "https://localhost:8080/"
        },
        "id": "HJRPKUQgPbqN",
        "outputId": "243000fa-6a3a-4113-d43c-daf66b78a725"
      },
      "execution_count": 223,
      "outputs": [
        {
          "output_type": "execute_result",
          "data": {
            "text/plain": [
              "<tf.Tensor: shape=(), dtype=int64, numpy=10001>"
            ]
          },
          "metadata": {},
          "execution_count": 223
        }
      ]
    },
    {
      "cell_type": "code",
      "source": [
        "def preprocess_text(text, label):\n",
        "  standardized = tf_text.case_fold_utf8(text)\n",
        "  tokenized = tokenizer.tokenize(standardized)\n",
        "  vectorized = vocab_table.lookup(tokenized)\n",
        "  return vectorized, label"
      ],
      "metadata": {
        "id": "JP7BwU3mAdD1"
      },
      "execution_count": 224,
      "outputs": []
    },
    {
      "cell_type": "code",
      "source": [
        "# Try this on a single example\n",
        "example_text, example_label = next(iter(all_labeled_data))\n",
        "print(f\"Sentence: {example_text.numpy()}\")"
      ],
      "metadata": {
        "colab": {
          "base_uri": "https://localhost:8080/"
        },
        "id": "6h1I1jpmAswr",
        "outputId": "bcce3cf2-32e6-4b85-e96c-59d974227eca"
      },
      "execution_count": 225,
      "outputs": [
        {
          "output_type": "stream",
          "name": "stdout",
          "text": [
            "Sentence: b\"\\xef\\xbb\\xbfAchilles sing, O Goddess! Peleus' son;\"\n"
          ]
        }
      ]
    },
    {
      "cell_type": "code",
      "source": [
        "vectorized_txt, example_label = preprocess_text(example_text, example_label)\n",
        "print(f\"vectorized sentence: {vectorized_txt}\")"
      ],
      "metadata": {
        "colab": {
          "base_uri": "https://localhost:8080/"
        },
        "id": "QWD4YtQSA6e0",
        "outputId": "69c21f01-4aed-4593-d9a6-a6899bce60e0"
      },
      "execution_count": 226,
      "outputs": [
        {
          "output_type": "stream",
          "name": "stdout",
          "text": [
            "vectorized sentence: [  57 4110    2   95  284   59  182    5   28   10]\n"
          ]
        }
      ]
    },
    {
      "cell_type": "code",
      "source": [
        "# Preprocess entire data using map\n",
        "all_encoded_data = all_labeled_data.map(preprocess_text)"
      ],
      "metadata": {
        "id": "VN6dncMQBDr4"
      },
      "execution_count": 227,
      "outputs": []
    },
    {
      "cell_type": "code",
      "source": [
        "all_labeled_data"
      ],
      "metadata": {
        "colab": {
          "base_uri": "https://localhost:8080/"
        },
        "id": "S3mSIDEDBhgw",
        "outputId": "c8f9084a-02b3-4dff-ec31-ca60efb69d13"
      },
      "execution_count": 228,
      "outputs": [
        {
          "output_type": "execute_result",
          "data": {
            "text/plain": [
              "<ConcatenateDataset element_spec=(TensorSpec(shape=(), dtype=tf.string, name=None), TensorSpec(shape=(), dtype=tf.int64, name=None))>"
            ]
          },
          "metadata": {},
          "execution_count": 228
        }
      ]
    },
    {
      "cell_type": "markdown",
      "source": [
        "#### Split the dataset into training and test sets\n",
        "\n",
        "The keras `TextVectorization` layer also batches and pads vectorized data. Padding is required because the examples inside of a batch need to be the same size and shape, but the examples in these datasets are not all the same size - each line of text has different number of words.\n",
        "\n",
        "`tf.data.Dataset` supports splitting and padded-batchinf datasets"
      ],
      "metadata": {
        "id": "M6tJCSBtBkJr"
      }
    },
    {
      "cell_type": "code",
      "source": [
        "train_data = all_encoded_data.skip(VALIDATION_SIZE).shuffle(BUFFER_SIZE)\n",
        "validation_data = all_encoded_data.take(VALIDATION_SIZE)"
      ],
      "metadata": {
        "id": "u0ANN2a1LsVO"
      },
      "execution_count": 229,
      "outputs": []
    },
    {
      "cell_type": "code",
      "source": [
        "train_data = train_data.padded_batch(BATCH_SIZE)\n",
        "validation_data = validation_data.padded_batch(BATCH_SIZE)"
      ],
      "metadata": {
        "id": "1orrEX3mL9A8"
      },
      "execution_count": 230,
      "outputs": []
    },
    {
      "cell_type": "code",
      "source": [
        "sample_text, sample_labels = next(iter(validation_data))\n",
        "print(\"Text batch shape: \", sample_text.shape)\n",
        "print(\"Label batch shape: \", sample_labels.shape)\n",
        "print(\"First text example: \", sample_text[0])\n",
        "print(\"First label example: \", sample_labels[0])"
      ],
      "metadata": {
        "colab": {
          "base_uri": "https://localhost:8080/"
        },
        "id": "66NO4bwpMDN0",
        "outputId": "367c4e81-1b31-4f08-dc18-cfb9362c3905"
      },
      "execution_count": 231,
      "outputs": [
        {
          "output_type": "stream",
          "name": "stdout",
          "text": [
            "Text batch shape:  (64, 14)\n",
            "Label batch shape:  (64,)\n",
            "First text example:  tf.Tensor([  57 4110    2   95  284   59  182    5   28   10    0    0    0    0], shape=(14,), dtype=int64)\n",
            "First label example:  tf.Tensor(0, shape=(), dtype=int64)\n"
          ]
        }
      ]
    },
    {
      "cell_type": "code",
      "source": [
        "vocab_size"
      ],
      "metadata": {
        "colab": {
          "base_uri": "https://localhost:8080/"
        },
        "id": "8QhhGQa8MHwn",
        "outputId": "ead98b2f-4d2b-4260-a876-4059df30c07a"
      },
      "execution_count": 232,
      "outputs": [
        {
          "output_type": "execute_result",
          "data": {
            "text/plain": [
              "10000"
            ]
          },
          "metadata": {},
          "execution_count": 232
        }
      ]
    },
    {
      "cell_type": "code",
      "source": [
        "vocab_size += 2"
      ],
      "metadata": {
        "id": "nEX-rEJfMNem"
      },
      "execution_count": 233,
      "outputs": []
    },
    {
      "cell_type": "code",
      "source": [
        "vocab_table.size()"
      ],
      "metadata": {
        "colab": {
          "base_uri": "https://localhost:8080/"
        },
        "id": "VhWmxT92MOpx",
        "outputId": "42689b36-925a-4cd7-bede-3860b04de2f0"
      },
      "execution_count": 234,
      "outputs": [
        {
          "output_type": "execute_result",
          "data": {
            "text/plain": [
              "<tf.Tensor: shape=(), dtype=int64, numpy=10001>"
            ]
          },
          "metadata": {},
          "execution_count": 234
        }
      ]
    },
    {
      "cell_type": "code",
      "source": [
        "train_data = configure_dataset(train_data)\n",
        "validation_data = configure_dataset(validation_data)"
      ],
      "metadata": {
        "id": "ulmozIcMMPmr"
      },
      "execution_count": 235,
      "outputs": []
    },
    {
      "cell_type": "code",
      "source": [
        "vocab_size"
      ],
      "metadata": {
        "colab": {
          "base_uri": "https://localhost:8080/"
        },
        "id": "0twz92TwNx_k",
        "outputId": "fdc730ae-f71b-466f-b45d-a99776f888e7"
      },
      "execution_count": 236,
      "outputs": [
        {
          "output_type": "execute_result",
          "data": {
            "text/plain": [
              "10002"
            ]
          },
          "metadata": {},
          "execution_count": 236
        }
      ]
    },
    {
      "cell_type": "code",
      "source": [
        "model = create_model(vocab_size=vocab_size, num_labels=3)\n",
        "\n",
        "model.compile(\n",
        "    optimizer='adam',\n",
        "    loss=losses.SparseCategoricalCrossentropy(from_logits=True),\n",
        "    metrics=['accuracy'])\n",
        "\n",
        "history = model.fit(train_data, validation_data=validation_data, epochs=3)"
      ],
      "metadata": {
        "colab": {
          "base_uri": "https://localhost:8080/"
        },
        "id": "7ABU8vkTMQqV",
        "outputId": "76ce5629-b04e-4f5f-e11f-e5fffbe742ab"
      },
      "execution_count": 239,
      "outputs": [
        {
          "output_type": "stream",
          "name": "stdout",
          "text": [
            "Epoch 1/3\n",
            "697/697 [==============================] - 41s 17ms/step - loss: 0.5154 - accuracy: 0.7698 - val_loss: 1.0077 - val_accuracy: 0.5870\n",
            "Epoch 2/3\n",
            "697/697 [==============================] - 8s 11ms/step - loss: 0.2767 - accuracy: 0.8877 - val_loss: 0.9750 - val_accuracy: 0.6358\n",
            "Epoch 3/3\n",
            "697/697 [==============================] - 8s 11ms/step - loss: 0.1837 - accuracy: 0.9307 - val_loss: 1.0634 - val_accuracy: 0.6462\n"
          ]
        }
      ]
    },
    {
      "cell_type": "code",
      "source": [
        "loss, accuracy = model.evaluate(validation_data)\n",
        "\n",
        "print(f\"Loss: {loss}\")\n",
        "print(f\"Accuracy: {accuracy}\")"
      ],
      "metadata": {
        "colab": {
          "base_uri": "https://localhost:8080/"
        },
        "id": "p0WyzO3XMbGj",
        "outputId": "db104026-a073-4ce3-f82c-09bff781f71d"
      },
      "execution_count": 240,
      "outputs": [
        {
          "output_type": "stream",
          "name": "stdout",
          "text": [
            "79/79 [==============================] - 1s 3ms/step - loss: 1.0634 - accuracy: 0.6462\n",
            "Loss: 1.0633639097213745\n",
            "Accuracy: 0.6462000012397766\n"
          ]
        }
      ]
    },
    {
      "cell_type": "code",
      "source": [
        "model.summary()"
      ],
      "metadata": {
        "colab": {
          "base_uri": "https://localhost:8080/"
        },
        "id": "SJMBFQOzV-3O",
        "outputId": "105cc44f-947d-4fbf-a560-2d773859b6f8"
      },
      "execution_count": 250,
      "outputs": [
        {
          "output_type": "stream",
          "name": "stdout",
          "text": [
            "Model: \"sequential_7\"\n",
            "_________________________________________________________________\n",
            " Layer (type)                Output Shape              Param #   \n",
            "=================================================================\n",
            " embedding_5 (Embedding)     (None, None, 64)          640128    \n",
            "                                                                 \n",
            " conv1d_5 (Conv1D)           (None, None, 64)          20544     \n",
            "                                                                 \n",
            " global_max_pooling1d_5 (Glo  (None, 64)               0         \n",
            " balMaxPooling1D)                                                \n",
            "                                                                 \n",
            " dense_6 (Dense)             (None, 3)                 195       \n",
            "                                                                 \n",
            "=================================================================\n",
            "Total params: 660,867\n",
            "Trainable params: 660,867\n",
            "Non-trainable params: 0\n",
            "_________________________________________________________________\n"
          ]
        }
      ]
    },
    {
      "cell_type": "markdown",
      "source": [
        "#### Export the model\n",
        "\n",
        "To make the model capabale of taking raw strings as input, will use keras `TextVectorization` layer that performs the same steps as our custom preprocessing function."
      ],
      "metadata": {
        "id": "8ynCJq6vUH1l"
      }
    },
    {
      "cell_type": "code",
      "source": [
        "preprocess_layer = TextVectorization(\n",
        "    max_tokens=vocab_size,\n",
        "    standardize=tf_text.case_fold_utf8,\n",
        "    split=tokenizer.tokenize,\n",
        "    output_mode='int',\n",
        "    output_sequence_length=MAX_SEQUENCE_LENGTH\n",
        ")"
      ],
      "metadata": {
        "id": "79iyJRkeUwKd"
      },
      "execution_count": 241,
      "outputs": []
    },
    {
      "cell_type": "code",
      "source": [
        "preprocess_layer.set_vocabulary(vocab)"
      ],
      "metadata": {
        "id": "YgyHvD7FVB-d"
      },
      "execution_count": 242,
      "outputs": []
    },
    {
      "cell_type": "code",
      "source": [
        "export_model = tf.keras.Sequential(\n",
        "    [preprocess_layer, model,\n",
        "     layers.Activation('sigmoid')])\n",
        "\n",
        "export_model.compile(\n",
        "    loss=losses.SparseCategoricalCrossentropy(from_logits=False),\n",
        "    optimizer='adam',\n",
        "    metrics=['accuracy'])"
      ],
      "metadata": {
        "id": "fZk1k3cfVE-K"
      },
      "execution_count": 261,
      "outputs": []
    },
    {
      "cell_type": "code",
      "source": [
        "# Create a test dataset of raw strings.\n",
        "test_ds = all_labeled_data.take(VALIDATION_SIZE).batch(BATCH_SIZE)\n",
        "test_ds = configure_dataset(test_ds)\n",
        "\n",
        "loss, accuracy = export_model.evaluate(test_ds)\n",
        "\n",
        "print(\"Loss: \", loss)\n",
        "print(\"Accuracy: {:2.2%}\".format(accuracy))"
      ],
      "metadata": {
        "colab": {
          "base_uri": "https://localhost:8080/"
        },
        "id": "-CRqDEY3VHx5",
        "outputId": "a30257a4-11d0-42a5-ce2c-555312edb997"
      },
      "execution_count": 262,
      "outputs": [
        {
          "output_type": "stream",
          "name": "stdout",
          "text": [
            "79/79 [==============================] - 7s 13ms/step - loss: 0.6702 - accuracy: 0.7478\n",
            "Loss:  0.6702016592025757\n",
            "Accuracy: 74.78%\n"
          ]
        }
      ]
    },
    {
      "cell_type": "code",
      "source": [
        "export_model.summary()"
      ],
      "metadata": {
        "colab": {
          "base_uri": "https://localhost:8080/"
        },
        "id": "V7XIp2B0VOzV",
        "outputId": "7f7ea19c-9dd0-4d07-b5e9-952c87b54c5e"
      },
      "execution_count": 248,
      "outputs": [
        {
          "output_type": "stream",
          "name": "stdout",
          "text": [
            "Model: \"sequential_9\"\n",
            "_________________________________________________________________\n",
            " Layer (type)                Output Shape              Param #   \n",
            "=================================================================\n",
            " text_vectorization_3 (TextV  (None, 250)              0         \n",
            " ectorization)                                                   \n",
            "                                                                 \n",
            " sequential_7 (Sequential)   (None, 3)                 660867    \n",
            "                                                                 \n",
            " activation_2 (Activation)   (None, 3)                 0         \n",
            "                                                                 \n",
            "=================================================================\n",
            "Total params: 660,867\n",
            "Trainable params: 660,867\n",
            "Non-trainable params: 0\n",
            "_________________________________________________________________\n"
          ]
        }
      ]
    },
    {
      "cell_type": "code",
      "source": [
        "%%time\n",
        "inputs = [\n",
        "    \"Join'd to th' Ionians with their flowing robes,\",  # Label: 1\n",
        "    \"the allies, and his armour flashed about him so that he seemed to all\",  # Label: 2\n",
        "    \"And with loud clangor of his arms he fell.\",  # Label: 0\n",
        "]\n",
        "\n",
        "predicted_scores = export_model.predict(inputs)\n",
        "predicted_labels = tf.argmax(predicted_scores, axis=1)\n",
        "\n",
        "for input, label in zip(inputs, predicted_labels):\n",
        "  print(\"Question: \", input)\n",
        "  print(\"Predicted label: \", label.numpy())"
      ],
      "metadata": {
        "colab": {
          "base_uri": "https://localhost:8080/"
        },
        "id": "QjGI5VrTVSla",
        "outputId": "9b95c21a-7e40-4b79-c3ca-5ff60bee9ca3"
      },
      "execution_count": 263,
      "outputs": [
        {
          "output_type": "stream",
          "name": "stdout",
          "text": [
            "WARNING:tensorflow:5 out of the last 5 calls to <function Model.make_predict_function.<locals>.predict_function at 0x7f75ac3d7d40> triggered tf.function retracing. Tracing is expensive and the excessive number of tracings could be due to (1) creating @tf.function repeatedly in a loop, (2) passing tensors with different shapes, (3) passing Python objects instead of tensors. For (1), please define your @tf.function outside of the loop. For (2), @tf.function has experimental_relax_shapes=True option that relaxes argument shapes that can avoid unnecessary retracing. For (3), please refer to https://www.tensorflow.org/guide/function#controlling_retracing and https://www.tensorflow.org/api_docs/python/tf/function for  more details.\n",
            "Question:  Join'd to th' Ionians with their flowing robes,\n",
            "Predicted label:  1\n",
            "Question:  the allies, and his armour flashed about him so that he seemed to all\n",
            "Predicted label:  2\n",
            "Question:  And with loud clangor of his arms he fell.\n",
            "Predicted label:  0\n",
            "CPU times: user 2.51 s, sys: 57.3 ms, total: 2.57 s\n",
            "Wall time: 2.55 s\n"
          ]
        }
      ]
    },
    {
      "cell_type": "code",
      "source": [
        "predicted_scores[0]"
      ],
      "metadata": {
        "colab": {
          "base_uri": "https://localhost:8080/"
        },
        "id": "zFhvvQciXrhS",
        "outputId": "9ebeae18-25e6-4f5e-a9cb-25d137ef1322"
      },
      "execution_count": 258,
      "outputs": [
        {
          "output_type": "execute_result",
          "data": {
            "text/plain": [
              "array([6.0442750e-07, 9.9999893e-01, 5.0214715e-07], dtype=float32)"
            ]
          },
          "metadata": {},
          "execution_count": 258
        }
      ]
    },
    {
      "cell_type": "code",
      "source": [
        ""
      ],
      "metadata": {
        "id": "STlUdoZEXvXY"
      },
      "execution_count": null,
      "outputs": []
    }
  ]
}