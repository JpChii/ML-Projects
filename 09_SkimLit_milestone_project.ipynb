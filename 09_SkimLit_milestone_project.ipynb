{
  "nbformat": 4,
  "nbformat_minor": 0,
  "metadata": {
    "accelerator": "GPU",
    "colab": {
      "name": "09_SkimLit_milestone_project.ipynb",
      "provenance": [],
      "collapsed_sections": [],
      "authorship_tag": "ABX9TyOQ8qQ8cBZK1bZaiQFRjC8G",
      "include_colab_link": true
    },
    "kernelspec": {
      "display_name": "Python 3",
      "name": "python3"
    },
    "language_info": {
      "name": "python"
    }
  },
  "cells": [
    {
      "cell_type": "markdown",
      "metadata": {
        "id": "view-in-github",
        "colab_type": "text"
      },
      "source": [
        "<a href=\"https://colab.research.google.com/github/JpChii/ML-Projects/blob/main/09_SkimLit_milestone_project.ipynb\" target=\"_parent\"><img src=\"https://colab.research.google.com/assets/colab-badge.svg\" alt=\"Open In Colab\"/></a>"
      ]
    },
    {
      "cell_type": "code",
      "metadata": {
        "id": "TMqMIaALBXSI"
      },
      "source": [
        "# Setting up extensions\n",
        "%load_ext google.colab.data_table"
      ],
      "execution_count": 1,
      "outputs": []
    },
    {
      "cell_type": "markdown",
      "metadata": {
        "id": "M5BXMAATDfjK"
      },
      "source": [
        "# SkimLit\n",
        "\n",
        "In this project, we're going to replicate the deep learning model behind the 2017 paper [*PubMed 200k RCT: a Dataset for Sequenctial Sentence Classification in Medical Abstracts*](https://arxiv.org/abs/1710.06071).\n",
        "\n",
        "When it was release, the paper presented a new dataset called PubMed 200k RCT which consists of ~200,000 labelled RCT abstracts.\n",
        "\n",
        "The goal of the dataset was to explore the ability for NLP models to classify sentences which appear in sequential order.\n",
        "\n",
        "In other words, given the abstract of a RCT, what role does each sentence serve in the absrtract?\n",
        "\n",
        "*Example inputs ([harder to read abstract from PubMed](https://pubmed.ncbi.nlm.nih.gov/28942748/)) and outputs ([easier to read abstract](https://pubmed.ncbi.nlm.nih.gov/32537182/)) of the model we're going to build. The model will take an abstract wall of text and predict the section label each sentence should have.*  \n",
        "\n",
        "### Model Input\n",
        "\n",
        "For example, can we train an NLP model which takes the following input (note: the following sample has had all numerical symbols replaced with \"@\"):\n",
        "\n",
        "> To investigate the efficacy of @ weeks of daily low-dose oral prednisolone in improving pain , mobility , and systemic low-grade inflammation in the short term and whether the effect would be sustained at @ weeks in older adults with moderate to severe knee osteoarthritis ( OA ). A total of @ patients with primary knee OA were randomized @:@ ; @ received @ mg/day of prednisolone and @ received placebo for @ weeks. Outcome measures included pain reduction and improvement in function scores and systemic inflammation markers. Pain was assessed using the visual analog pain scale ( @-@ mm ).\n",
        "Secondary outcome measures included the Western Ontario and McMaster Universities Osteoarthritis Index scores , patient global assessment ( PGA ) of the severity of knee OA , and @-min walk distance ( @MWD ).,\n",
        "Serum levels of interleukin @ ( IL-@ ) , IL-@ , tumor necrosis factor ( TNF ) - , and high-sensitivity C-reactive protein ( hsCRP ) were measured.\n",
        "There was a clinically relevant reduction in the intervention group compared to the placebo group for knee pain , physical function , PGA , and @MWD at @ weeks. The mean difference between treatment arms ( @ % CI ) was @ ( @-@ @ ) , p < @ ; @ ( @-@ @ ) , p < @ ; @ ( @-@ @ ) , p < @ ; and @ ( @-@ @ ) , p < @ , respectively. Further , there was a clinically relevant reduction in the serum levels of IL-@ , IL-@ , TNF - , and hsCRP at @ weeks in the intervention group when compared to the placebo group. These differences remained significant at @ weeks. The Outcome Measures in Rheumatology Clinical Trials-Osteoarthritis Research Society International responder rate was @ % in the intervention group and @ % in the placebo group ( p < @ ). Low-dose oral prednisolone had both a short-term and a longer sustained effect resulting in less knee pain , better physical function , and attenuation of systemic inflammation in older patients with knee OA ( ClinicalTrials.gov identifier NCT@ ).\n",
        "\n",
        "### Model output\n",
        "\n",
        "And returns the following output:\n",
        "\n",
        "```\n",
        "['###24293578\\n',\n",
        " 'OBJECTIVE\\tTo investigate the efficacy of @ weeks of daily low-dose oral prednisolone in improving pain , mobility , and systemic low-grade inflammation in the short term and whether the effect would be sustained at @ weeks in older adults with moderate to severe knee osteoarthritis ( OA ) .\\n',\n",
        " 'METHODS\\tA total of @ patients with primary knee OA were randomized @:@ ; @ received @ mg/day of prednisolone and @ received placebo for @ weeks .\\n',\n",
        " 'METHODS\\tOutcome measures included pain reduction and improvement in function scores and systemic inflammation markers .\\n',\n",
        " 'METHODS\\tPain was assessed using the visual analog pain scale ( @-@ mm ) .\\n',\n",
        " 'METHODS\\tSecondary outcome measures included the Western Ontario and McMaster Universities Osteoarthritis Index scores , patient global assessment ( PGA ) of the severity of knee OA , and @-min walk distance ( @MWD ) .\\n',\n",
        " 'METHODS\\tSerum levels of interleukin @ ( IL-@ ) , IL-@ , tumor necrosis factor ( TNF ) - , and high-sensitivity C-reactive protein ( hsCRP ) were measured .\\n',\n",
        " 'RESULTS\\tThere was a clinically relevant reduction in the intervention group compared to the placebo group for knee pain , physical function , PGA , and @MWD at @ weeks .\\n',\n",
        " 'RESULTS\\tThe mean difference between treatment arms ( @ % CI ) was @ ( @-@ @ ) , p < @ ; @ ( @-@ @ ) , p < @ ; @ ( @-@ @ ) , p < @ ; and @ ( @-@ @ ) , p < @ , respectively .\\n',\n",
        " 'RESULTS\\tFurther , there was a clinically relevant reduction in the serum levels of IL-@ , IL-@ , TNF - , and hsCRP at @ weeks in the intervention group when compared to the placebo group .\\n',\n",
        " 'RESULTS\\tThese differences remained significant at @ weeks .\\n',\n",
        " 'RESULTS\\tThe Outcome Measures in Rheumatology Clinical Trials-Osteoarthritis Research Society International responder rate was @ % in the intervention group and @ % in the placebo group ( p < @ ) .\\n',\n",
        " 'CONCLUSIONS\\tLow-dose oral prednisolone had both a short-term and a longer sustained effect resulting in less knee pain , better physical function , and attenuation of systemic inflammation in older patients with knee OA ( ClinicalTrials.gov identifier NCT@ ) .\\n',\n",
        " '\\n']\n",
        " ```\n"
      ]
    },
    {
      "cell_type": "markdown",
      "metadata": {
        "id": "mcguLJbN9IbY"
      },
      "source": [
        "### Problem in a sentence\n",
        "\n",
        "The number of RCT papers release is continuing to increase, those without structured abstracts can be hard to read and in turn slow down the researchers moving theough the literature.\n",
        "\n",
        "### Solution in a sentence\n",
        "\n",
        "Create an NLP mode to classify abstract sentences into the role they play (e.g. objective, methods, results, etc) to enable researches to skim through the literature.\n",
        "\n",
        "> Papers to read before code:\n",
        "\n",
        "1. Where our data is coming from: [*PubMed 200k RCT: a Dataset for Sequential Sentence Classification in Medical Abstracts*](https://arxiv.org/abs/1710.06071)\n",
        "2. Where our model is coming from: [*Neural networks for joint sentence\n",
        "classification in medical paper abstracts*](https://arxiv.org/pdf/1612.05251.pdf)."
      ]
    },
    {
      "cell_type": "markdown",
      "metadata": {
        "id": "OBxFUMNP96D5"
      },
      "source": [
        "## What is going to be covered(broadly)?\n",
        "\n",
        "* Downloading the dataset\n",
        "* Writing a preprocessinf function for our text data\n",
        "* Setting up multiple modelling experiments with different levels of embeddings\n",
        "* Building a multinominal model to take in different sources of data\n",
        "* Replicating the model from above paper\n",
        "* Finding the most wrong predictions"
      ]
    },
    {
      "cell_type": "markdown",
      "metadata": {
        "id": "bOHIF7_XukR6"
      },
      "source": [
        "## Confirm GPU access"
      ]
    },
    {
      "cell_type": "code",
      "metadata": {
        "colab": {
          "base_uri": "https://localhost:8080/"
        },
        "id": "oXuZAKyD01wW",
        "outputId": "66fc1a4e-91d3-409e-ba27-7ecdac9f2c95"
      },
      "source": [
        "!nvidia-smi -L"
      ],
      "execution_count": 2,
      "outputs": [
        {
          "output_type": "stream",
          "text": [
            "GPU 0: Tesla T4 (UUID: GPU-01536259-9df5-ec4d-c1bd-f6df29f7139c)\n"
          ],
          "name": "stdout"
        }
      ]
    },
    {
      "cell_type": "markdown",
      "metadata": {
        "id": "8Y8YHCu9021K"
      },
      "source": [
        "## Get the data\n",
        "\n",
        "Since we're replicating PubMed 200k paper, let's download the dataset they've used.\n",
        "\n",
        "The github location of the data is shared in the paper [Data Github](https://github.com/Franck-Dernoncourt/pubmed-rct)"
      ]
    },
    {
      "cell_type": "code",
      "metadata": {
        "colab": {
          "base_uri": "https://localhost:8080/"
        },
        "id": "g-qWwbfW1aGh",
        "outputId": "2491dfae-a769-48e8-b67a-7df0f00ccfe4"
      },
      "source": [
        "!git clone https://github.com/Franck-Dernoncourt/pubmed-rct.git"
      ],
      "execution_count": 3,
      "outputs": [
        {
          "output_type": "stream",
          "text": [
            "Cloning into 'pubmed-rct'...\n",
            "remote: Enumerating objects: 30, done.\u001b[K\n",
            "remote: Total 30 (delta 0), reused 0 (delta 0), pack-reused 30\u001b[K\n",
            "Unpacking objects: 100% (30/30), done.\n"
          ],
          "name": "stdout"
        }
      ]
    },
    {
      "cell_type": "code",
      "metadata": {
        "colab": {
          "base_uri": "https://localhost:8080/"
        },
        "id": "MRSU3FZs190J",
        "outputId": "e583c1ac-0878-49d5-8174-d84ae36eb612"
      },
      "source": [
        "!ls /content/pubmed-rct"
      ],
      "execution_count": 4,
      "outputs": [
        {
          "output_type": "stream",
          "text": [
            "PubMed_200k_RCT\n",
            "PubMed_200k_RCT_numbers_replaced_with_at_sign\n",
            "PubMed_20k_RCT\n",
            "PubMed_20k_RCT_numbers_replaced_with_at_sign\n",
            "README.md\n"
          ],
          "name": "stdout"
        }
      ]
    },
    {
      "cell_type": "markdown",
      "metadata": {
        "id": "T5vtcB-12Hyq"
      },
      "source": [
        "Great, as machine learning practionier, it's good to start small and go big. And the authors have done this for us and have created a seperate 20K RCT."
      ]
    },
    {
      "cell_type": "code",
      "metadata": {
        "colab": {
          "base_uri": "https://localhost:8080/"
        },
        "id": "9_OvZ7082SeB",
        "outputId": "8e2d2ccf-1537-48c6-eeb5-87c10ffc1b8b"
      },
      "source": [
        "!ls /content/pubmed-rct/PubMed_20k_RCT_numbers_replaced_with_at_sign/"
      ],
      "execution_count": 5,
      "outputs": [
        {
          "output_type": "stream",
          "text": [
            "dev.txt  test.txt  train.txt\n"
          ],
          "name": "stdout"
        }
      ]
    },
    {
      "cell_type": "markdown",
      "metadata": {
        "id": "hX4ZrR8r2VQA"
      },
      "source": [
        "There are three text files,\n",
        "\n",
        "* train\n",
        "* test\n",
        "* dev(val)\n",
        "\n",
        "The data is already split into train, test, val sets."
      ]
    },
    {
      "cell_type": "code",
      "metadata": {
        "id": "aF0-KD0N2uzm"
      },
      "source": [
        "# Start our experiments using the 20k dataset with numbers replaced by \"@\" sign\n",
        "data_dir = \"/content/pubmed-rct/PubMed_20k_RCT_numbers_replaced_with_at_sign/\""
      ],
      "execution_count": 6,
      "outputs": []
    },
    {
      "cell_type": "code",
      "metadata": {
        "colab": {
          "base_uri": "https://localhost:8080/"
        },
        "id": "i_FS0zyl3ipI",
        "outputId": "00bd8faf-51ea-4e38-93fc-7f6d5dbef367"
      },
      "source": [
        "# Check all the filenames in the target directory\n",
        "import os\n",
        "filenames = [data_dir + filename for filename in os.listdir(data_dir)]\n",
        "filenames"
      ],
      "execution_count": 7,
      "outputs": [
        {
          "output_type": "execute_result",
          "data": {
            "text/plain": [
              "['/content/pubmed-rct/PubMed_20k_RCT_numbers_replaced_with_at_sign/test.txt',\n",
              " '/content/pubmed-rct/PubMed_20k_RCT_numbers_replaced_with_at_sign/dev.txt',\n",
              " '/content/pubmed-rct/PubMed_20k_RCT_numbers_replaced_with_at_sign/train.txt']"
            ]
          },
          "metadata": {
            "tags": []
          },
          "execution_count": 7
        }
      ]
    },
    {
      "cell_type": "markdown",
      "metadata": {
        "id": "KUabydUn3t7E"
      },
      "source": [
        "The data is really well formatted, but it's still not ready to be passed into the model. Preprocessing will be done after getting one with the data.\n",
        "\n",
        "## Getting one with the data(visualize examples from dataset)\n",
        "\n",
        "Let's write a function to read all of the lines of a target text file,\n",
        "\n",
        "[Checkout the real python document for file realted activities](https://realpython.com/read-write-files-python/)"
      ]
    },
    {
      "cell_type": "code",
      "metadata": {
        "id": "nMe83ooN4Faf"
      },
      "source": [
        "# Create a function to read the lines of a document\n",
        "def get_lines(filename):\n",
        "  \"\"\"\n",
        "  Reads a filename (text filename) and returns the lines of text as a list.\n",
        "  Args:\n",
        "    filename: a string containing the target filepath\n",
        "  Returns:\n",
        "    A lsit of strings with one string per line from target filename\n",
        "  \"\"\"\n",
        "\n",
        "  with open(filename, \"r\") as f:\n",
        "    return f.readlines()"
      ],
      "execution_count": 8,
      "outputs": []
    },
    {
      "cell_type": "code",
      "metadata": {
        "colab": {
          "base_uri": "https://localhost:8080/"
        },
        "id": "E_XKDbgK8Cwd",
        "outputId": "9c3eb368-7119-4e4c-fead-af3397e9c1c8"
      },
      "source": [
        "# Let's read in the training lines\n",
        "train_lines = get_lines(data_dir + \"train.txt\")\n",
        "train_lines[:30]"
      ],
      "execution_count": 9,
      "outputs": [
        {
          "output_type": "execute_result",
          "data": {
            "text/plain": [
              "['###24293578\\n',\n",
              " 'OBJECTIVE\\tTo investigate the efficacy of @ weeks of daily low-dose oral prednisolone in improving pain , mobility , and systemic low-grade inflammation in the short term and whether the effect would be sustained at @ weeks in older adults with moderate to severe knee osteoarthritis ( OA ) .\\n',\n",
              " 'METHODS\\tA total of @ patients with primary knee OA were randomized @:@ ; @ received @ mg/day of prednisolone and @ received placebo for @ weeks .\\n',\n",
              " 'METHODS\\tOutcome measures included pain reduction and improvement in function scores and systemic inflammation markers .\\n',\n",
              " 'METHODS\\tPain was assessed using the visual analog pain scale ( @-@ mm ) .\\n',\n",
              " 'METHODS\\tSecondary outcome measures included the Western Ontario and McMaster Universities Osteoarthritis Index scores , patient global assessment ( PGA ) of the severity of knee OA , and @-min walk distance ( @MWD ) .\\n',\n",
              " 'METHODS\\tSerum levels of interleukin @ ( IL-@ ) , IL-@ , tumor necrosis factor ( TNF ) - , and high-sensitivity C-reactive protein ( hsCRP ) were measured .\\n',\n",
              " 'RESULTS\\tThere was a clinically relevant reduction in the intervention group compared to the placebo group for knee pain , physical function , PGA , and @MWD at @ weeks .\\n',\n",
              " 'RESULTS\\tThe mean difference between treatment arms ( @ % CI ) was @ ( @-@ @ ) , p < @ ; @ ( @-@ @ ) , p < @ ; @ ( @-@ @ ) , p < @ ; and @ ( @-@ @ ) , p < @ , respectively .\\n',\n",
              " 'RESULTS\\tFurther , there was a clinically relevant reduction in the serum levels of IL-@ , IL-@ , TNF - , and hsCRP at @ weeks in the intervention group when compared to the placebo group .\\n',\n",
              " 'RESULTS\\tThese differences remained significant at @ weeks .\\n',\n",
              " 'RESULTS\\tThe Outcome Measures in Rheumatology Clinical Trials-Osteoarthritis Research Society International responder rate was @ % in the intervention group and @ % in the placebo group ( p < @ ) .\\n',\n",
              " 'CONCLUSIONS\\tLow-dose oral prednisolone had both a short-term and a longer sustained effect resulting in less knee pain , better physical function , and attenuation of systemic inflammation in older patients with knee OA ( ClinicalTrials.gov identifier NCT@ ) .\\n',\n",
              " '\\n',\n",
              " '###24854809\\n',\n",
              " 'BACKGROUND\\tEmotional eating is associated with overeating and the development of obesity .\\n',\n",
              " 'BACKGROUND\\tYet , empirical evidence for individual ( trait ) differences in emotional eating and cognitive mechanisms that contribute to eating during sad mood remain equivocal .\\n',\n",
              " 'OBJECTIVE\\tThe aim of this study was to test if attention bias for food moderates the effect of self-reported emotional eating during sad mood ( vs neutral mood ) on actual food intake .\\n',\n",
              " 'OBJECTIVE\\tIt was expected that emotional eating is predictive of elevated attention for food and higher food intake after an experimentally induced sad mood and that attentional maintenance on food predicts food intake during a sad versus a neutral mood .\\n',\n",
              " 'METHODS\\tParticipants ( N = @ ) were randomly assigned to one of the two experimental mood induction conditions ( sad/neutral ) .\\n',\n",
              " 'METHODS\\tAttentional biases for high caloric foods were measured by eye tracking during a visual probe task with pictorial food and neutral stimuli .\\n',\n",
              " 'METHODS\\tSelf-reported emotional eating was assessed with the Dutch Eating Behavior Questionnaire ( DEBQ ) and ad libitum food intake was tested by a disguised food offer .\\n',\n",
              " 'RESULTS\\tHierarchical multivariate regression modeling showed that self-reported emotional eating did not account for changes in attention allocation for food or food intake in either condition .\\n',\n",
              " 'RESULTS\\tYet , attention maintenance on food cues was significantly related to increased intake specifically in the neutral condition , but not in the sad mood condition .\\n',\n",
              " 'CONCLUSIONS\\tThe current findings show that self-reported emotional eating ( based on the DEBQ ) might not validly predict who overeats when sad , at least not in a laboratory setting with healthy women .\\n',\n",
              " 'CONCLUSIONS\\tResults further suggest that attention maintenance on food relates to eating motivation when in a neutral affective state , and might therefore be a cognitive mechanism contributing to increased food intake in general , but maybe not during sad mood .\\n',\n",
              " '\\n',\n",
              " '###25165090\\n',\n",
              " 'BACKGROUND\\tAlthough working smoke alarms halve deaths in residential fires , many households do not keep alarms operational .\\n',\n",
              " 'BACKGROUND\\tWe tested whether theory-based education increases alarm operability .\\n']"
            ]
          },
          "metadata": {
            "tags": []
          },
          "execution_count": 9
        }
      ]
    },
    {
      "cell_type": "markdown",
      "metadata": {
        "id": "pQFUZ5E_8S3M"
      },
      "source": [
        "### Preprocessing data\n",
        "\n",
        "Each document starts with ###uniquenumber and ends with `\\n`.\n",
        "\n",
        "The label and sequence is seperated by `\\t`.\n",
        "\n",
        "The data is read via python but it still needs some preprocessing.\n",
        "\n",
        "Let's write out how we want the data to look...\n",
        "\n",
        "```\n",
        "[{'line_number': 0,\n",
        "  'target': 'label',\n",
        "  'text': 'Single Sequence',\n",
        "  'total_lines': Total Sequences count},....]\n",
        "```"
      ]
    },
    {
      "cell_type": "code",
      "metadata": {
        "id": "etHeGNI68_ba"
      },
      "source": [
        "def preprocess_text_with_line_numbers(filename):\n",
        "  \"\"\"\n",
        "  Return a list of dictionaries of abstract line data.\n",
        "\n",
        "  Takes in filename, reads it contents and sorts through each line,\n",
        "  extracting label, sequence, how many sentences are in current abstract.\n",
        "  \"\"\"\n",
        "\n",
        "  # Get all lines into a list\n",
        "  input_lines = get_lines(filename)\n",
        "  # Create an empty abstract\n",
        "  abstract_lines = \"\"\n",
        "  # Create an empty list of abstracts\n",
        "  abstract_samples = []\n",
        "\n",
        "  # Loop through each line in the target file\n",
        "  for line in input_lines:\n",
        "\n",
        "    # Check if the line is ID line\n",
        "    if line.startswith(\"###\"):\n",
        "      abstract_id = line\n",
        "      abstract_lines = \"\" # reset the abstract string ig the line is an ID line\n",
        "    elif line.isspace(): # Check to see if line is a new line\n",
        "      abstract_line_split = abstract_lines.splitlines() # split abstract into seperate lines\n",
        "\n",
        "      # Iterate through each line in a single abstracr and count them at the same line\n",
        "      for abstract_line_number, abstract_line in enumerate(abstract_line_split):\n",
        "        line_data = {} # Create empty dictionary for each line\n",
        "        target_text_split = abstract_line.split(\"\\t\") # Split target label from text\n",
        "        line_data[\"target\"] = target_text_split[0]\n",
        "        line_data[\"text\"] = target_text_split[1].lower() # Get target text and lower it\n",
        "        line_data[\"line_number\"] = abstract_line_number\n",
        "        line_data[\"total_lines\"] = len(abstract_line_split) -1\n",
        "        abstract_samples.append(line_data) \n",
        "\n",
        "    else: # If the above conditions aren't fullfilled, the line contains a labelled sentence\n",
        "      abstract_lines += line\n",
        "\n",
        "  return abstract_samples"
      ],
      "execution_count": 10,
      "outputs": []
    },
    {
      "cell_type": "code",
      "metadata": {
        "colab": {
          "base_uri": "https://localhost:8080/"
        },
        "id": "5MTPI-X1A5u2",
        "outputId": "dc8a84d4-19bd-4ca3-bafc-30651095d5a7"
      },
      "source": [
        "%%time\n",
        "train_samples = preprocess_text_with_line_numbers(data_dir+\"train.txt\")\n",
        "val_samples = preprocess_text_with_line_numbers(data_dir+\"dev.txt\")\n",
        "test_samples = preprocess_text_with_line_numbers(data_dir+\"test.txt\")"
      ],
      "execution_count": 11,
      "outputs": [
        {
          "output_type": "stream",
          "text": [
            "CPU times: user 423 ms, sys: 96.3 ms, total: 519 ms\n",
            "Wall time: 513 ms\n"
          ],
          "name": "stdout"
        }
      ]
    },
    {
      "cell_type": "code",
      "metadata": {
        "colab": {
          "base_uri": "https://localhost:8080/"
        },
        "id": "JudWyZBiHTzW",
        "outputId": "8191081c-14f2-4dcf-80b6-6fed338806be"
      },
      "source": [
        "train_samples[:12]"
      ],
      "execution_count": 12,
      "outputs": [
        {
          "output_type": "execute_result",
          "data": {
            "text/plain": [
              "[{'line_number': 0,\n",
              "  'target': 'OBJECTIVE',\n",
              "  'text': 'to investigate the efficacy of @ weeks of daily low-dose oral prednisolone in improving pain , mobility , and systemic low-grade inflammation in the short term and whether the effect would be sustained at @ weeks in older adults with moderate to severe knee osteoarthritis ( oa ) .',\n",
              "  'total_lines': 11},\n",
              " {'line_number': 1,\n",
              "  'target': 'METHODS',\n",
              "  'text': 'a total of @ patients with primary knee oa were randomized @:@ ; @ received @ mg/day of prednisolone and @ received placebo for @ weeks .',\n",
              "  'total_lines': 11},\n",
              " {'line_number': 2,\n",
              "  'target': 'METHODS',\n",
              "  'text': 'outcome measures included pain reduction and improvement in function scores and systemic inflammation markers .',\n",
              "  'total_lines': 11},\n",
              " {'line_number': 3,\n",
              "  'target': 'METHODS',\n",
              "  'text': 'pain was assessed using the visual analog pain scale ( @-@ mm ) .',\n",
              "  'total_lines': 11},\n",
              " {'line_number': 4,\n",
              "  'target': 'METHODS',\n",
              "  'text': 'secondary outcome measures included the western ontario and mcmaster universities osteoarthritis index scores , patient global assessment ( pga ) of the severity of knee oa , and @-min walk distance ( @mwd ) .',\n",
              "  'total_lines': 11},\n",
              " {'line_number': 5,\n",
              "  'target': 'METHODS',\n",
              "  'text': 'serum levels of interleukin @ ( il-@ ) , il-@ , tumor necrosis factor ( tnf ) - , and high-sensitivity c-reactive protein ( hscrp ) were measured .',\n",
              "  'total_lines': 11},\n",
              " {'line_number': 6,\n",
              "  'target': 'RESULTS',\n",
              "  'text': 'there was a clinically relevant reduction in the intervention group compared to the placebo group for knee pain , physical function , pga , and @mwd at @ weeks .',\n",
              "  'total_lines': 11},\n",
              " {'line_number': 7,\n",
              "  'target': 'RESULTS',\n",
              "  'text': 'the mean difference between treatment arms ( @ % ci ) was @ ( @-@ @ ) , p < @ ; @ ( @-@ @ ) , p < @ ; @ ( @-@ @ ) , p < @ ; and @ ( @-@ @ ) , p < @ , respectively .',\n",
              "  'total_lines': 11},\n",
              " {'line_number': 8,\n",
              "  'target': 'RESULTS',\n",
              "  'text': 'further , there was a clinically relevant reduction in the serum levels of il-@ , il-@ , tnf - , and hscrp at @ weeks in the intervention group when compared to the placebo group .',\n",
              "  'total_lines': 11},\n",
              " {'line_number': 9,\n",
              "  'target': 'RESULTS',\n",
              "  'text': 'these differences remained significant at @ weeks .',\n",
              "  'total_lines': 11},\n",
              " {'line_number': 10,\n",
              "  'target': 'RESULTS',\n",
              "  'text': 'the outcome measures in rheumatology clinical trials-osteoarthritis research society international responder rate was @ % in the intervention group and @ % in the placebo group ( p < @ ) .',\n",
              "  'total_lines': 11},\n",
              " {'line_number': 11,\n",
              "  'target': 'CONCLUSIONS',\n",
              "  'text': 'low-dose oral prednisolone had both a short-term and a longer sustained effect resulting in less knee pain , better physical function , and attenuation of systemic inflammation in older patients with knee oa ( clinicaltrials.gov identifier nct@ ) .',\n",
              "  'total_lines': 11}]"
            ]
          },
          "metadata": {
            "tags": []
          },
          "execution_count": 12
        }
      ]
    },
    {
      "cell_type": "code",
      "metadata": {
        "colab": {
          "base_uri": "https://localhost:8080/"
        },
        "id": "JVzlNjkDHc1H",
        "outputId": "e7b607de-3fad-451d-b76e-9824bb4084f8"
      },
      "source": [
        "len(train_samples), len(val_samples), len(test_samples)"
      ],
      "execution_count": 13,
      "outputs": [
        {
          "output_type": "execute_result",
          "data": {
            "text/plain": [
              "(180040, 30212, 30135)"
            ]
          },
          "metadata": {
            "tags": []
          },
          "execution_count": 13
        }
      ]
    },
    {
      "cell_type": "markdown",
      "metadata": {
        "id": "IFwreQnROMak"
      },
      "source": [
        "Uncomment and run the below cell to understand the preprocessing function better."
      ]
    },
    {
      "cell_type": "code",
      "metadata": {
        "id": "SHP5knsrJATV"
      },
      "source": [
        "# # Get all lines into a list\n",
        "# input_lines = get_lines(data_dir + \"train.txt\")\n",
        "# # Create an empty abstract\n",
        "# abstract_lines = \"\"\n",
        "# # Create an empty list of abstracts\n",
        "# abstract_samples = []\n",
        "\n",
        "#   # Loop through each line in the target file\n",
        "# for line in input_lines:\n",
        "\n",
        "#     print(f\"line: {line}\")\n",
        "\n",
        "#     # Check if the line is ID line\n",
        "#     if line.startswith(\"###\"):\n",
        "#       abstract_id = line\n",
        "#       print(f\"Id: {abstract_id}\")\n",
        "#       abstract_lines = \"\" # reset the abstract string ig the line is an ID line\n",
        "#     elif line.isspace(): # Check to see if line is a new line\n",
        "#       print(f\"Line after isspace check: {line}\")\n",
        "#       print(line.isspace())\n",
        "#       abstract_line_split = abstract_lines.splitlines() # split abstract into seperate lines\n",
        "#       print(f\"abstract_line_split: {abstract_line_split}\")\n",
        "#       # Iterate through each line in a single abstracr and count them at the same line\n",
        "#       for abstract_line_number, abstract_line in enumerate(abstract_line_split):\n",
        "#         print(f\"abstract_line_number: {abstract_line_number}, abstract_line: {abstract_line}\")\n",
        "#         line_data = {} # Create empty dictionary for each line\n",
        "#         target_text_split = abstract_line.split(\"\\t\") # Split target label from text\n",
        "#         line_data[\"target\"] = target_text_split[0]\n",
        "#         line_data[\"text\"] = target_text_split[1].lower() # Get target text and lower it\n",
        "#         line_data[\"line_number\"] = abstract_line_number\n",
        "#         line_data[\"total_lines\"] = len(abstract_line_split) -1\n",
        "#         abstract_samples.append(line_data) \n",
        "\n",
        "#     else: # If the above conditions aren't fullfilled, the line contains a labelled sentence\n",
        "#       abstract_lines += line\n",
        "#       print(f\"Else condition abstract_lines: {abstract_lines}\")\n",
        "\n",
        "#     if line == \"\\n\":\n",
        "#       break"
      ],
      "execution_count": 14,
      "outputs": []
    },
    {
      "cell_type": "markdown",
      "metadata": {
        "id": "c0-d7_SNL1uW"
      },
      "source": [
        "### Visualizing preprocessed data\n",
        "\n",
        "Now the data is in the format of a list of dictionaries, how about we turn into a datafram to further visualizing the data."
      ]
    },
    {
      "cell_type": "code",
      "metadata": {
        "colab": {
          "base_uri": "https://localhost:8080/",
          "height": 1743
        },
        "id": "Xmfnzwb1SNiu",
        "outputId": "5d3e5703-ae50-4c94-daa0-55a14107c7cd"
      },
      "source": [
        "import pandas as pd\n",
        "train_df = pd.DataFrame(train_samples)\n",
        "val_df = pd.DataFrame(val_samples)\n",
        "test_df = pd.DataFrame(test_samples)\n",
        "\n",
        "train_df[:50]"
      ],
      "execution_count": 15,
      "outputs": [
        {
          "output_type": "execute_result",
          "data": {
            "application/vnd.google.colaboratory.module+javascript": "\n      import \"https://ssl.gstatic.com/colaboratory/data_table/a6224c040fa35dcf/data_table.js\";\n\n      window.createDataTable({\n        data: [[{\n            'v': 0,\n            'f': \"0\",\n        },\n\"OBJECTIVE\",\n\"to investigate the efficacy of @ weeks of daily low-dose oral prednisolone in improving pain , mobility , and systemic low-grade inflammation in the short term and whether the effect would be sustained at @ weeks in older adults with moderate to severe knee osteoarthritis ( oa ) .\",\n{\n            'v': 0,\n            'f': \"0\",\n        },\n{\n            'v': 11,\n            'f': \"11\",\n        }],\n [{\n            'v': 1,\n            'f': \"1\",\n        },\n\"METHODS\",\n\"a total of @ patients with primary knee oa were randomized @:@ ; @ received @ mg/day of prednisolone and @ received placebo for @ weeks .\",\n{\n            'v': 1,\n            'f': \"1\",\n        },\n{\n            'v': 11,\n            'f': \"11\",\n        }],\n [{\n            'v': 2,\n            'f': \"2\",\n        },\n\"METHODS\",\n\"outcome measures included pain reduction and improvement in function scores and systemic inflammation markers .\",\n{\n            'v': 2,\n            'f': \"2\",\n        },\n{\n            'v': 11,\n            'f': \"11\",\n        }],\n [{\n            'v': 3,\n            'f': \"3\",\n        },\n\"METHODS\",\n\"pain was assessed using the visual analog pain scale ( @-@ mm ) .\",\n{\n            'v': 3,\n            'f': \"3\",\n        },\n{\n            'v': 11,\n            'f': \"11\",\n        }],\n [{\n            'v': 4,\n            'f': \"4\",\n        },\n\"METHODS\",\n\"secondary outcome measures included the western ontario and mcmaster universities osteoarthritis index scores , patient global assessment ( pga ) of the severity of knee oa , and @-min walk distance ( @mwd ) .\",\n{\n            'v': 4,\n            'f': \"4\",\n        },\n{\n            'v': 11,\n            'f': \"11\",\n        }],\n [{\n            'v': 5,\n            'f': \"5\",\n        },\n\"METHODS\",\n\"serum levels of interleukin @ ( il-@ ) , il-@ , tumor necrosis factor ( tnf ) - , and high-sensitivity c-reactive protein ( hscrp ) were measured .\",\n{\n            'v': 5,\n            'f': \"5\",\n        },\n{\n            'v': 11,\n            'f': \"11\",\n        }],\n [{\n            'v': 6,\n            'f': \"6\",\n        },\n\"RESULTS\",\n\"there was a clinically relevant reduction in the intervention group compared to the placebo group for knee pain , physical function , pga , and @mwd at @ weeks .\",\n{\n            'v': 6,\n            'f': \"6\",\n        },\n{\n            'v': 11,\n            'f': \"11\",\n        }],\n [{\n            'v': 7,\n            'f': \"7\",\n        },\n\"RESULTS\",\n\"the mean difference between treatment arms ( @ % ci ) was @ ( @-@ @ ) , p < @ ; @ ( @-@ @ ) , p < @ ; @ ( @-@ @ ) , p < @ ; and @ ( @-@ @ ) , p < @ , respectively .\",\n{\n            'v': 7,\n            'f': \"7\",\n        },\n{\n            'v': 11,\n            'f': \"11\",\n        }],\n [{\n            'v': 8,\n            'f': \"8\",\n        },\n\"RESULTS\",\n\"further , there was a clinically relevant reduction in the serum levels of il-@ , il-@ , tnf - , and hscrp at @ weeks in the intervention group when compared to the placebo group .\",\n{\n            'v': 8,\n            'f': \"8\",\n        },\n{\n            'v': 11,\n            'f': \"11\",\n        }],\n [{\n            'v': 9,\n            'f': \"9\",\n        },\n\"RESULTS\",\n\"these differences remained significant at @ weeks .\",\n{\n            'v': 9,\n            'f': \"9\",\n        },\n{\n            'v': 11,\n            'f': \"11\",\n        }],\n [{\n            'v': 10,\n            'f': \"10\",\n        },\n\"RESULTS\",\n\"the outcome measures in rheumatology clinical trials-osteoarthritis research society international responder rate was @ % in the intervention group and @ % in the placebo group ( p < @ ) .\",\n{\n            'v': 10,\n            'f': \"10\",\n        },\n{\n            'v': 11,\n            'f': \"11\",\n        }],\n [{\n            'v': 11,\n            'f': \"11\",\n        },\n\"CONCLUSIONS\",\n\"low-dose oral prednisolone had both a short-term and a longer sustained effect resulting in less knee pain , better physical function , and attenuation of systemic inflammation in older patients with knee oa ( clinicaltrials.gov identifier nct@ ) .\",\n{\n            'v': 11,\n            'f': \"11\",\n        },\n{\n            'v': 11,\n            'f': \"11\",\n        }],\n [{\n            'v': 12,\n            'f': \"12\",\n        },\n\"BACKGROUND\",\n\"emotional eating is associated with overeating and the development of obesity .\",\n{\n            'v': 0,\n            'f': \"0\",\n        },\n{\n            'v': 10,\n            'f': \"10\",\n        }],\n [{\n            'v': 13,\n            'f': \"13\",\n        },\n\"BACKGROUND\",\n\"yet , empirical evidence for individual ( trait ) differences in emotional eating and cognitive mechanisms that contribute to eating during sad mood remain equivocal .\",\n{\n            'v': 1,\n            'f': \"1\",\n        },\n{\n            'v': 10,\n            'f': \"10\",\n        }],\n [{\n            'v': 14,\n            'f': \"14\",\n        },\n\"OBJECTIVE\",\n\"the aim of this study was to test if attention bias for food moderates the effect of self-reported emotional eating during sad mood ( vs neutral mood ) on actual food intake .\",\n{\n            'v': 2,\n            'f': \"2\",\n        },\n{\n            'v': 10,\n            'f': \"10\",\n        }],\n [{\n            'v': 15,\n            'f': \"15\",\n        },\n\"OBJECTIVE\",\n\"it was expected that emotional eating is predictive of elevated attention for food and higher food intake after an experimentally induced sad mood and that attentional maintenance on food predicts food intake during a sad versus a neutral mood .\",\n{\n            'v': 3,\n            'f': \"3\",\n        },\n{\n            'v': 10,\n            'f': \"10\",\n        }],\n [{\n            'v': 16,\n            'f': \"16\",\n        },\n\"METHODS\",\n\"participants ( n = @ ) were randomly assigned to one of the two experimental mood induction conditions ( sad/neutral ) .\",\n{\n            'v': 4,\n            'f': \"4\",\n        },\n{\n            'v': 10,\n            'f': \"10\",\n        }],\n [{\n            'v': 17,\n            'f': \"17\",\n        },\n\"METHODS\",\n\"attentional biases for high caloric foods were measured by eye tracking during a visual probe task with pictorial food and neutral stimuli .\",\n{\n            'v': 5,\n            'f': \"5\",\n        },\n{\n            'v': 10,\n            'f': \"10\",\n        }],\n [{\n            'v': 18,\n            'f': \"18\",\n        },\n\"METHODS\",\n\"self-reported emotional eating was assessed with the dutch eating behavior questionnaire ( debq ) and ad libitum food intake was tested by a disguised food offer .\",\n{\n            'v': 6,\n            'f': \"6\",\n        },\n{\n            'v': 10,\n            'f': \"10\",\n        }],\n [{\n            'v': 19,\n            'f': \"19\",\n        },\n\"RESULTS\",\n\"hierarchical multivariate regression modeling showed that self-reported emotional eating did not account for changes in attention allocation for food or food intake in either condition .\",\n{\n            'v': 7,\n            'f': \"7\",\n        },\n{\n            'v': 10,\n            'f': \"10\",\n        }],\n [{\n            'v': 20,\n            'f': \"20\",\n        },\n\"RESULTS\",\n\"yet , attention maintenance on food cues was significantly related to increased intake specifically in the neutral condition , but not in the sad mood condition .\",\n{\n            'v': 8,\n            'f': \"8\",\n        },\n{\n            'v': 10,\n            'f': \"10\",\n        }],\n [{\n            'v': 21,\n            'f': \"21\",\n        },\n\"CONCLUSIONS\",\n\"the current findings show that self-reported emotional eating ( based on the debq ) might not validly predict who overeats when sad , at least not in a laboratory setting with healthy women .\",\n{\n            'v': 9,\n            'f': \"9\",\n        },\n{\n            'v': 10,\n            'f': \"10\",\n        }],\n [{\n            'v': 22,\n            'f': \"22\",\n        },\n\"CONCLUSIONS\",\n\"results further suggest that attention maintenance on food relates to eating motivation when in a neutral affective state , and might therefore be a cognitive mechanism contributing to increased food intake in general , but maybe not during sad mood .\",\n{\n            'v': 10,\n            'f': \"10\",\n        },\n{\n            'v': 10,\n            'f': \"10\",\n        }],\n [{\n            'v': 23,\n            'f': \"23\",\n        },\n\"BACKGROUND\",\n\"although working smoke alarms halve deaths in residential fires , many households do not keep alarms operational .\",\n{\n            'v': 0,\n            'f': \"0\",\n        },\n{\n            'v': 14,\n            'f': \"14\",\n        }],\n [{\n            'v': 24,\n            'f': \"24\",\n        },\n\"BACKGROUND\",\n\"we tested whether theory-based education increases alarm operability .\",\n{\n            'v': 1,\n            'f': \"1\",\n        },\n{\n            'v': 14,\n            'f': \"14\",\n        }],\n [{\n            'v': 25,\n            'f': \"25\",\n        },\n\"METHODS\",\n\"randomised multiarm trial , with a single arm randomly selected for use each day , in low-income neighbourhoods in maryland , usa .\",\n{\n            'v': 2,\n            'f': \"2\",\n        },\n{\n            'v': 14,\n            'f': \"14\",\n        }],\n [{\n            'v': 26,\n            'f': \"26\",\n        },\n\"METHODS\",\n\"intervention arms : ( @ ) full education combining a health belief module with a social-cognitive theory module that provided hands-on practice installing alarm batteries and using the alarm 's hush button ; ( @ ) hands-on practice social-cognitive module supplemented by typical fire department education ; ( @ ) current norm receiving typical fire department education only .\",\n{\n            'v': 3,\n            'f': \"3\",\n        },\n{\n            'v': 14,\n            'f': \"14\",\n        }],\n [{\n            'v': 27,\n            'f': \"27\",\n        },\n\"METHODS\",\n\"four hundred and thirty-six homes recruited through churches or by knocking on doors in @-@ .\",\n{\n            'v': 4,\n            'f': \"4\",\n        },\n{\n            'v': 14,\n            'f': \"14\",\n        }],\n [{\n            'v': 28,\n            'f': \"28\",\n        },\n\"METHODS\",\n\"follow-up visits checked alarm operability in @ homes ( @ % ) @-@ @ years after installation .\",\n{\n            'v': 5,\n            'f': \"5\",\n        },\n{\n            'v': 14,\n            'f': \"14\",\n        }],\n [{\n            'v': 29,\n            'f': \"29\",\n        },\n\"METHODS\",\n\"number of homes with working alarms defined as alarms with working batteries or hard-wired and number of working alarms per home .\",\n{\n            'v': 6,\n            'f': \"6\",\n        },\n{\n            'v': 14,\n            'f': \"14\",\n        }],\n [{\n            'v': 30,\n            'f': \"30\",\n        },\n\"METHODS\",\n\"regressions controlled for alarm status preintervention ; demographics and beliefs about fire risks and alarm effectiveness .\",\n{\n            'v': 7,\n            'f': \"7\",\n        },\n{\n            'v': 14,\n            'f': \"14\",\n        }],\n [{\n            'v': 31,\n            'f': \"31\",\n        },\n\"RESULTS\",\n\"homes in the full education and practice arms were more likely to have a functioning smoke alarm at follow-up ( or = @ , @ % ci @ to @ ) and had an average of @ more working alarms per home ( @ % ci @ to @ ) .\",\n{\n            'v': 8,\n            'f': \"8\",\n        },\n{\n            'v': 14,\n            'f': \"14\",\n        }],\n [{\n            'v': 32,\n            'f': \"32\",\n        },\n\"RESULTS\",\n\"working alarms per home rose @ % .\",\n{\n            'v': 9,\n            'f': \"9\",\n        },\n{\n            'v': 14,\n            'f': \"14\",\n        }],\n [{\n            'v': 33,\n            'f': \"33\",\n        },\n\"RESULTS\",\n\"full education and practice had similar effectiveness ( p = @ on both outcome measures ) .\",\n{\n            'v': 10,\n            'f': \"10\",\n        },\n{\n            'v': 14,\n            'f': \"14\",\n        }],\n [{\n            'v': 34,\n            'f': \"34\",\n        },\n\"CONCLUSIONS\",\n\"without exceeding typical fire department installation time , installers can achieve greater smoke alarm operability .\",\n{\n            'v': 11,\n            'f': \"11\",\n        },\n{\n            'v': 14,\n            'f': \"14\",\n        }],\n [{\n            'v': 35,\n            'f': \"35\",\n        },\n\"CONCLUSIONS\",\n\"hands-on practice is key .\",\n{\n            'v': 12,\n            'f': \"12\",\n        },\n{\n            'v': 14,\n            'f': \"14\",\n        }],\n [{\n            'v': 36,\n            'f': \"36\",\n        },\n\"CONCLUSIONS\",\n\"two years after installation , for every three homes that received hands-on practice , one had an additional working alarm .\",\n{\n            'v': 13,\n            'f': \"13\",\n        },\n{\n            'v': 14,\n            'f': \"14\",\n        }],\n [{\n            'v': 37,\n            'f': \"37\",\n        },\n\"BACKGROUND\",\n\"http://www.clinicaltrials.gov number nct@ .\",\n{\n            'v': 14,\n            'f': \"14\",\n        },\n{\n            'v': 14,\n            'f': \"14\",\n        }],\n [{\n            'v': 38,\n            'f': \"38\",\n        },\n\"OBJECTIVE\",\n\"to evaluate the performance ( efficacy , safety and acceptability ) of a new micro-adherent absorbent dressing ( urgoclean ) compared with a hydrofiber dressing ( aquacel ) in the local management of venous leg ulcers , in the debridement stage .\",\n{\n            'v': 0,\n            'f': \"0\",\n        },\n{\n            'v': 16,\n            'f': \"16\",\n        }],\n [{\n            'v': 39,\n            'f': \"39\",\n        },\n\"METHODS\",\n\"a non-inferiority european randomised controlled clinical trial ( rct ) was conducted in @ centres , on patients presenting with venous or predominantly venous , mixed aetiology leg ulcers at their sloughy stage ( with more than @ % of the wound bed covered with slough at baseline ) .\",\n{\n            'v': 1,\n            'f': \"1\",\n        },\n{\n            'v': 16,\n            'f': \"16\",\n        }],\n [{\n            'v': 40,\n            'f': \"40\",\n        },\n\"METHODS\",\n\"patients were followed over a @-week period and assessed weekly .\",\n{\n            'v': 2,\n            'f': \"2\",\n        },\n{\n            'v': 16,\n            'f': \"16\",\n        }],\n [{\n            'v': 41,\n            'f': \"41\",\n        },\n\"METHODS\",\n\"the primary judgement criteria was the relative regression of the wound surface area after the @-week treatment period .\",\n{\n            'v': 3,\n            'f': \"3\",\n        },\n{\n            'v': 16,\n            'f': \"16\",\n        }],\n [{\n            'v': 42,\n            'f': \"42\",\n        },\n\"METHODS\",\n\"secondary endpoints were the relative reduction of sloughy tissue and the percentage of patients presenting with a debrided wound .\",\n{\n            'v': 4,\n            'f': \"4\",\n        },\n{\n            'v': 16,\n            'f': \"16\",\n        }],\n [{\n            'v': 43,\n            'f': \"43\",\n        },\n\"RESULTS\",\n\"altogether , @ patients were randomised to either urgoclean ( test group ; n = @ ) or aquacel ( control group ; n = @ ) dressings .\",\n{\n            'v': 5,\n            'f': \"5\",\n        },\n{\n            'v': 16,\n            'f': \"16\",\n        }],\n [{\n            'v': 44,\n            'f': \"44\",\n        },\n\"RESULTS\",\n\"regarding the wound healing process predictive factors ( wound area , duration , abpi value , recurrence ) , at baseline , the two groups were well balanced , for both wound and patient characteristics .\",\n{\n            'v': 6,\n            'f': \"6\",\n        },\n{\n            'v': 16,\n            'f': \"16\",\n        }],\n [{\n            'v': 45,\n            'f': \"45\",\n        },\n\"RESULTS\",\n\"compression therapy was administered to both groups and after a median @-day treatment period , the percentage of relative reduction of the wound surface area was very similar ( -@ % vs -@ % in the urgoclean and control groups , respectively ) .\",\n{\n            'v': 7,\n            'f': \"7\",\n        },\n{\n            'v': 16,\n            'f': \"16\",\n        }],\n [{\n            'v': 46,\n            'f': \"46\",\n        },\n\"RESULTS\",\n\"when considering the secondary criteria at week @ , the relative reduction of sloughy tissue was significantly higher in the urgoclean group than in the control group ( -@ % vs -@,@ % ; p = @ ) .\",\n{\n            'v': 8,\n            'f': \"8\",\n        },\n{\n            'v': 16,\n            'f': \"16\",\n        }],\n [{\n            'v': 47,\n            'f': \"47\",\n        },\n\"RESULTS\",\n\"the percentage of debrided wounds was also significantly higher in the test group ( @ % vs @ % ; p = @ ) .\",\n{\n            'v': 9,\n            'f': \"9\",\n        },\n{\n            'v': 16,\n            'f': \"16\",\n        }],\n [{\n            'v': 48,\n            'f': \"48\",\n        },\n\"CONCLUSIONS\",\n\"this ` earth ' rct confirmed that the urgoclean dressing has similar efficacy and safety compared to aquacel .\",\n{\n            'v': 10,\n            'f': \"10\",\n        },\n{\n            'v': 16,\n            'f': \"16\",\n        }],\n [{\n            'v': 49,\n            'f': \"49\",\n        },\n\"CONCLUSIONS\",\n\"however , urgoclean also showed better autolytic properties than the control group in the management of venous leg ulcers at the sloughy stage .\",\n{\n            'v': 11,\n            'f': \"11\",\n        },\n{\n            'v': 16,\n            'f': \"16\",\n        }]],\n        columns: [[\"number\", \"index\"], [\"string\", \"target\"], [\"string\", \"text\"], [\"number\", \"line_number\"], [\"number\", \"total_lines\"]],\n        columnOptions: [{\"width\": \"1px\", \"className\": \"index_column\"}],\n        rowsPerPage: 25,\n        helpUrl: \"https://colab.research.google.com/notebooks/data_table.ipynb\",\n        suppressOutputScrolling: true,\n        minimumWidth: undefined,\n      });\n    ",
            "text/html": [
              "<div>\n",
              "<style scoped>\n",
              "    .dataframe tbody tr th:only-of-type {\n",
              "        vertical-align: middle;\n",
              "    }\n",
              "\n",
              "    .dataframe tbody tr th {\n",
              "        vertical-align: top;\n",
              "    }\n",
              "\n",
              "    .dataframe thead th {\n",
              "        text-align: right;\n",
              "    }\n",
              "</style>\n",
              "<table border=\"1\" class=\"dataframe\">\n",
              "  <thead>\n",
              "    <tr style=\"text-align: right;\">\n",
              "      <th></th>\n",
              "      <th>target</th>\n",
              "      <th>text</th>\n",
              "      <th>line_number</th>\n",
              "      <th>total_lines</th>\n",
              "    </tr>\n",
              "  </thead>\n",
              "  <tbody>\n",
              "    <tr>\n",
              "      <th>0</th>\n",
              "      <td>OBJECTIVE</td>\n",
              "      <td>to investigate the efficacy of @ weeks of dail...</td>\n",
              "      <td>0</td>\n",
              "      <td>11</td>\n",
              "    </tr>\n",
              "    <tr>\n",
              "      <th>1</th>\n",
              "      <td>METHODS</td>\n",
              "      <td>a total of @ patients with primary knee oa wer...</td>\n",
              "      <td>1</td>\n",
              "      <td>11</td>\n",
              "    </tr>\n",
              "    <tr>\n",
              "      <th>2</th>\n",
              "      <td>METHODS</td>\n",
              "      <td>outcome measures included pain reduction and i...</td>\n",
              "      <td>2</td>\n",
              "      <td>11</td>\n",
              "    </tr>\n",
              "    <tr>\n",
              "      <th>3</th>\n",
              "      <td>METHODS</td>\n",
              "      <td>pain was assessed using the visual analog pain...</td>\n",
              "      <td>3</td>\n",
              "      <td>11</td>\n",
              "    </tr>\n",
              "    <tr>\n",
              "      <th>4</th>\n",
              "      <td>METHODS</td>\n",
              "      <td>secondary outcome measures included the wester...</td>\n",
              "      <td>4</td>\n",
              "      <td>11</td>\n",
              "    </tr>\n",
              "    <tr>\n",
              "      <th>5</th>\n",
              "      <td>METHODS</td>\n",
              "      <td>serum levels of interleukin @ ( il-@ ) , il-@ ...</td>\n",
              "      <td>5</td>\n",
              "      <td>11</td>\n",
              "    </tr>\n",
              "    <tr>\n",
              "      <th>6</th>\n",
              "      <td>RESULTS</td>\n",
              "      <td>there was a clinically relevant reduction in t...</td>\n",
              "      <td>6</td>\n",
              "      <td>11</td>\n",
              "    </tr>\n",
              "    <tr>\n",
              "      <th>7</th>\n",
              "      <td>RESULTS</td>\n",
              "      <td>the mean difference between treatment arms ( @...</td>\n",
              "      <td>7</td>\n",
              "      <td>11</td>\n",
              "    </tr>\n",
              "    <tr>\n",
              "      <th>8</th>\n",
              "      <td>RESULTS</td>\n",
              "      <td>further , there was a clinically relevant redu...</td>\n",
              "      <td>8</td>\n",
              "      <td>11</td>\n",
              "    </tr>\n",
              "    <tr>\n",
              "      <th>9</th>\n",
              "      <td>RESULTS</td>\n",
              "      <td>these differences remained significant at @ we...</td>\n",
              "      <td>9</td>\n",
              "      <td>11</td>\n",
              "    </tr>\n",
              "    <tr>\n",
              "      <th>10</th>\n",
              "      <td>RESULTS</td>\n",
              "      <td>the outcome measures in rheumatology clinical ...</td>\n",
              "      <td>10</td>\n",
              "      <td>11</td>\n",
              "    </tr>\n",
              "    <tr>\n",
              "      <th>11</th>\n",
              "      <td>CONCLUSIONS</td>\n",
              "      <td>low-dose oral prednisolone had both a short-te...</td>\n",
              "      <td>11</td>\n",
              "      <td>11</td>\n",
              "    </tr>\n",
              "    <tr>\n",
              "      <th>12</th>\n",
              "      <td>BACKGROUND</td>\n",
              "      <td>emotional eating is associated with overeating...</td>\n",
              "      <td>0</td>\n",
              "      <td>10</td>\n",
              "    </tr>\n",
              "    <tr>\n",
              "      <th>13</th>\n",
              "      <td>BACKGROUND</td>\n",
              "      <td>yet , empirical evidence for individual ( trai...</td>\n",
              "      <td>1</td>\n",
              "      <td>10</td>\n",
              "    </tr>\n",
              "    <tr>\n",
              "      <th>14</th>\n",
              "      <td>OBJECTIVE</td>\n",
              "      <td>the aim of this study was to test if attention...</td>\n",
              "      <td>2</td>\n",
              "      <td>10</td>\n",
              "    </tr>\n",
              "    <tr>\n",
              "      <th>15</th>\n",
              "      <td>OBJECTIVE</td>\n",
              "      <td>it was expected that emotional eating is predi...</td>\n",
              "      <td>3</td>\n",
              "      <td>10</td>\n",
              "    </tr>\n",
              "    <tr>\n",
              "      <th>16</th>\n",
              "      <td>METHODS</td>\n",
              "      <td>participants ( n = @ ) were randomly assigned ...</td>\n",
              "      <td>4</td>\n",
              "      <td>10</td>\n",
              "    </tr>\n",
              "    <tr>\n",
              "      <th>17</th>\n",
              "      <td>METHODS</td>\n",
              "      <td>attentional biases for high caloric foods were...</td>\n",
              "      <td>5</td>\n",
              "      <td>10</td>\n",
              "    </tr>\n",
              "    <tr>\n",
              "      <th>18</th>\n",
              "      <td>METHODS</td>\n",
              "      <td>self-reported emotional eating was assessed wi...</td>\n",
              "      <td>6</td>\n",
              "      <td>10</td>\n",
              "    </tr>\n",
              "    <tr>\n",
              "      <th>19</th>\n",
              "      <td>RESULTS</td>\n",
              "      <td>hierarchical multivariate regression modeling ...</td>\n",
              "      <td>7</td>\n",
              "      <td>10</td>\n",
              "    </tr>\n",
              "    <tr>\n",
              "      <th>20</th>\n",
              "      <td>RESULTS</td>\n",
              "      <td>yet , attention maintenance on food cues was s...</td>\n",
              "      <td>8</td>\n",
              "      <td>10</td>\n",
              "    </tr>\n",
              "    <tr>\n",
              "      <th>21</th>\n",
              "      <td>CONCLUSIONS</td>\n",
              "      <td>the current findings show that self-reported e...</td>\n",
              "      <td>9</td>\n",
              "      <td>10</td>\n",
              "    </tr>\n",
              "    <tr>\n",
              "      <th>22</th>\n",
              "      <td>CONCLUSIONS</td>\n",
              "      <td>results further suggest that attention mainten...</td>\n",
              "      <td>10</td>\n",
              "      <td>10</td>\n",
              "    </tr>\n",
              "    <tr>\n",
              "      <th>23</th>\n",
              "      <td>BACKGROUND</td>\n",
              "      <td>although working smoke alarms halve deaths in ...</td>\n",
              "      <td>0</td>\n",
              "      <td>14</td>\n",
              "    </tr>\n",
              "    <tr>\n",
              "      <th>24</th>\n",
              "      <td>BACKGROUND</td>\n",
              "      <td>we tested whether theory-based education incre...</td>\n",
              "      <td>1</td>\n",
              "      <td>14</td>\n",
              "    </tr>\n",
              "    <tr>\n",
              "      <th>25</th>\n",
              "      <td>METHODS</td>\n",
              "      <td>randomised multiarm trial , with a single arm ...</td>\n",
              "      <td>2</td>\n",
              "      <td>14</td>\n",
              "    </tr>\n",
              "    <tr>\n",
              "      <th>26</th>\n",
              "      <td>METHODS</td>\n",
              "      <td>intervention arms : ( @ ) full education combi...</td>\n",
              "      <td>3</td>\n",
              "      <td>14</td>\n",
              "    </tr>\n",
              "    <tr>\n",
              "      <th>27</th>\n",
              "      <td>METHODS</td>\n",
              "      <td>four hundred and thirty-six homes recruited th...</td>\n",
              "      <td>4</td>\n",
              "      <td>14</td>\n",
              "    </tr>\n",
              "    <tr>\n",
              "      <th>28</th>\n",
              "      <td>METHODS</td>\n",
              "      <td>follow-up visits checked alarm operability in ...</td>\n",
              "      <td>5</td>\n",
              "      <td>14</td>\n",
              "    </tr>\n",
              "    <tr>\n",
              "      <th>29</th>\n",
              "      <td>METHODS</td>\n",
              "      <td>number of homes with working alarms defined as...</td>\n",
              "      <td>6</td>\n",
              "      <td>14</td>\n",
              "    </tr>\n",
              "    <tr>\n",
              "      <th>30</th>\n",
              "      <td>METHODS</td>\n",
              "      <td>regressions controlled for alarm status preint...</td>\n",
              "      <td>7</td>\n",
              "      <td>14</td>\n",
              "    </tr>\n",
              "    <tr>\n",
              "      <th>31</th>\n",
              "      <td>RESULTS</td>\n",
              "      <td>homes in the full education and practice arms ...</td>\n",
              "      <td>8</td>\n",
              "      <td>14</td>\n",
              "    </tr>\n",
              "    <tr>\n",
              "      <th>32</th>\n",
              "      <td>RESULTS</td>\n",
              "      <td>working alarms per home rose @ % .</td>\n",
              "      <td>9</td>\n",
              "      <td>14</td>\n",
              "    </tr>\n",
              "    <tr>\n",
              "      <th>33</th>\n",
              "      <td>RESULTS</td>\n",
              "      <td>full education and practice had similar effect...</td>\n",
              "      <td>10</td>\n",
              "      <td>14</td>\n",
              "    </tr>\n",
              "    <tr>\n",
              "      <th>34</th>\n",
              "      <td>CONCLUSIONS</td>\n",
              "      <td>without exceeding typical fire department inst...</td>\n",
              "      <td>11</td>\n",
              "      <td>14</td>\n",
              "    </tr>\n",
              "    <tr>\n",
              "      <th>35</th>\n",
              "      <td>CONCLUSIONS</td>\n",
              "      <td>hands-on practice is key .</td>\n",
              "      <td>12</td>\n",
              "      <td>14</td>\n",
              "    </tr>\n",
              "    <tr>\n",
              "      <th>36</th>\n",
              "      <td>CONCLUSIONS</td>\n",
              "      <td>two years after installation , for every three...</td>\n",
              "      <td>13</td>\n",
              "      <td>14</td>\n",
              "    </tr>\n",
              "    <tr>\n",
              "      <th>37</th>\n",
              "      <td>BACKGROUND</td>\n",
              "      <td>http://www.clinicaltrials.gov number nct@ .</td>\n",
              "      <td>14</td>\n",
              "      <td>14</td>\n",
              "    </tr>\n",
              "    <tr>\n",
              "      <th>38</th>\n",
              "      <td>OBJECTIVE</td>\n",
              "      <td>to evaluate the performance ( efficacy , safet...</td>\n",
              "      <td>0</td>\n",
              "      <td>16</td>\n",
              "    </tr>\n",
              "    <tr>\n",
              "      <th>39</th>\n",
              "      <td>METHODS</td>\n",
              "      <td>a non-inferiority european randomised controll...</td>\n",
              "      <td>1</td>\n",
              "      <td>16</td>\n",
              "    </tr>\n",
              "    <tr>\n",
              "      <th>40</th>\n",
              "      <td>METHODS</td>\n",
              "      <td>patients were followed over a @-week period an...</td>\n",
              "      <td>2</td>\n",
              "      <td>16</td>\n",
              "    </tr>\n",
              "    <tr>\n",
              "      <th>41</th>\n",
              "      <td>METHODS</td>\n",
              "      <td>the primary judgement criteria was the relativ...</td>\n",
              "      <td>3</td>\n",
              "      <td>16</td>\n",
              "    </tr>\n",
              "    <tr>\n",
              "      <th>42</th>\n",
              "      <td>METHODS</td>\n",
              "      <td>secondary endpoints were the relative reductio...</td>\n",
              "      <td>4</td>\n",
              "      <td>16</td>\n",
              "    </tr>\n",
              "    <tr>\n",
              "      <th>43</th>\n",
              "      <td>RESULTS</td>\n",
              "      <td>altogether , @ patients were randomised to eit...</td>\n",
              "      <td>5</td>\n",
              "      <td>16</td>\n",
              "    </tr>\n",
              "    <tr>\n",
              "      <th>44</th>\n",
              "      <td>RESULTS</td>\n",
              "      <td>regarding the wound healing process predictive...</td>\n",
              "      <td>6</td>\n",
              "      <td>16</td>\n",
              "    </tr>\n",
              "    <tr>\n",
              "      <th>45</th>\n",
              "      <td>RESULTS</td>\n",
              "      <td>compression therapy was administered to both g...</td>\n",
              "      <td>7</td>\n",
              "      <td>16</td>\n",
              "    </tr>\n",
              "    <tr>\n",
              "      <th>46</th>\n",
              "      <td>RESULTS</td>\n",
              "      <td>when considering the secondary criteria at wee...</td>\n",
              "      <td>8</td>\n",
              "      <td>16</td>\n",
              "    </tr>\n",
              "    <tr>\n",
              "      <th>47</th>\n",
              "      <td>RESULTS</td>\n",
              "      <td>the percentage of debrided wounds was also sig...</td>\n",
              "      <td>9</td>\n",
              "      <td>16</td>\n",
              "    </tr>\n",
              "    <tr>\n",
              "      <th>48</th>\n",
              "      <td>CONCLUSIONS</td>\n",
              "      <td>this ` earth ' rct confirmed that the urgoclea...</td>\n",
              "      <td>10</td>\n",
              "      <td>16</td>\n",
              "    </tr>\n",
              "    <tr>\n",
              "      <th>49</th>\n",
              "      <td>CONCLUSIONS</td>\n",
              "      <td>however , urgoclean also showed better autolyt...</td>\n",
              "      <td>11</td>\n",
              "      <td>16</td>\n",
              "    </tr>\n",
              "  </tbody>\n",
              "</table>\n",
              "</div>"
            ],
            "text/plain": [
              "         target  ... total_lines\n",
              "0     OBJECTIVE  ...          11\n",
              "1       METHODS  ...          11\n",
              "2       METHODS  ...          11\n",
              "3       METHODS  ...          11\n",
              "4       METHODS  ...          11\n",
              "5       METHODS  ...          11\n",
              "6       RESULTS  ...          11\n",
              "7       RESULTS  ...          11\n",
              "8       RESULTS  ...          11\n",
              "9       RESULTS  ...          11\n",
              "10      RESULTS  ...          11\n",
              "11  CONCLUSIONS  ...          11\n",
              "12   BACKGROUND  ...          10\n",
              "13   BACKGROUND  ...          10\n",
              "14    OBJECTIVE  ...          10\n",
              "15    OBJECTIVE  ...          10\n",
              "16      METHODS  ...          10\n",
              "17      METHODS  ...          10\n",
              "18      METHODS  ...          10\n",
              "19      RESULTS  ...          10\n",
              "20      RESULTS  ...          10\n",
              "21  CONCLUSIONS  ...          10\n",
              "22  CONCLUSIONS  ...          10\n",
              "23   BACKGROUND  ...          14\n",
              "24   BACKGROUND  ...          14\n",
              "25      METHODS  ...          14\n",
              "26      METHODS  ...          14\n",
              "27      METHODS  ...          14\n",
              "28      METHODS  ...          14\n",
              "29      METHODS  ...          14\n",
              "30      METHODS  ...          14\n",
              "31      RESULTS  ...          14\n",
              "32      RESULTS  ...          14\n",
              "33      RESULTS  ...          14\n",
              "34  CONCLUSIONS  ...          14\n",
              "35  CONCLUSIONS  ...          14\n",
              "36  CONCLUSIONS  ...          14\n",
              "37   BACKGROUND  ...          14\n",
              "38    OBJECTIVE  ...          16\n",
              "39      METHODS  ...          16\n",
              "40      METHODS  ...          16\n",
              "41      METHODS  ...          16\n",
              "42      METHODS  ...          16\n",
              "43      RESULTS  ...          16\n",
              "44      RESULTS  ...          16\n",
              "45      RESULTS  ...          16\n",
              "46      RESULTS  ...          16\n",
              "47      RESULTS  ...          16\n",
              "48  CONCLUSIONS  ...          16\n",
              "49  CONCLUSIONS  ...          16\n",
              "\n",
              "[50 rows x 4 columns]"
            ]
          },
          "metadata": {
            "tags": []
          },
          "execution_count": 15
        }
      ]
    },
    {
      "cell_type": "code",
      "metadata": {
        "colab": {
          "base_uri": "https://localhost:8080/",
          "height": 194
        },
        "id": "JlwD8vKxSavU",
        "outputId": "453ca2b7-e864-424c-d27c-b651bcf1a6ec"
      },
      "source": [
        "# Distribution of labels in training data\n",
        "label_dist = pd.DataFrame(train_df.target.value_counts()).reset_index()\n",
        "label_dist"
      ],
      "execution_count": 16,
      "outputs": [
        {
          "output_type": "execute_result",
          "data": {
            "application/vnd.google.colaboratory.module+javascript": "\n      import \"https://ssl.gstatic.com/colaboratory/data_table/a6224c040fa35dcf/data_table.js\";\n\n      window.createDataTable({\n        data: [[{\n            'v': 0,\n            'f': \"0\",\n        },\n\"METHODS\",\n{\n            'v': 59353,\n            'f': \"59353\",\n        }],\n [{\n            'v': 1,\n            'f': \"1\",\n        },\n\"RESULTS\",\n{\n            'v': 57953,\n            'f': \"57953\",\n        }],\n [{\n            'v': 2,\n            'f': \"2\",\n        },\n\"CONCLUSIONS\",\n{\n            'v': 27168,\n            'f': \"27168\",\n        }],\n [{\n            'v': 3,\n            'f': \"3\",\n        },\n\"BACKGROUND\",\n{\n            'v': 21727,\n            'f': \"21727\",\n        }],\n [{\n            'v': 4,\n            'f': \"4\",\n        },\n\"OBJECTIVE\",\n{\n            'v': 13839,\n            'f': \"13839\",\n        }]],\n        columns: [[\"number\", \"level_0\"], [\"string\", \"index\"], [\"number\", \"target\"]],\n        columnOptions: [{\"width\": \"1px\", \"className\": \"index_column\"}],\n        rowsPerPage: 25,\n        helpUrl: \"https://colab.research.google.com/notebooks/data_table.ipynb\",\n        suppressOutputScrolling: true,\n        minimumWidth: undefined,\n      });\n    ",
            "text/html": [
              "<div>\n",
              "<style scoped>\n",
              "    .dataframe tbody tr th:only-of-type {\n",
              "        vertical-align: middle;\n",
              "    }\n",
              "\n",
              "    .dataframe tbody tr th {\n",
              "        vertical-align: top;\n",
              "    }\n",
              "\n",
              "    .dataframe thead th {\n",
              "        text-align: right;\n",
              "    }\n",
              "</style>\n",
              "<table border=\"1\" class=\"dataframe\">\n",
              "  <thead>\n",
              "    <tr style=\"text-align: right;\">\n",
              "      <th></th>\n",
              "      <th>index</th>\n",
              "      <th>target</th>\n",
              "    </tr>\n",
              "  </thead>\n",
              "  <tbody>\n",
              "    <tr>\n",
              "      <th>0</th>\n",
              "      <td>METHODS</td>\n",
              "      <td>59353</td>\n",
              "    </tr>\n",
              "    <tr>\n",
              "      <th>1</th>\n",
              "      <td>RESULTS</td>\n",
              "      <td>57953</td>\n",
              "    </tr>\n",
              "    <tr>\n",
              "      <th>2</th>\n",
              "      <td>CONCLUSIONS</td>\n",
              "      <td>27168</td>\n",
              "    </tr>\n",
              "    <tr>\n",
              "      <th>3</th>\n",
              "      <td>BACKGROUND</td>\n",
              "      <td>21727</td>\n",
              "    </tr>\n",
              "    <tr>\n",
              "      <th>4</th>\n",
              "      <td>OBJECTIVE</td>\n",
              "      <td>13839</td>\n",
              "    </tr>\n",
              "  </tbody>\n",
              "</table>\n",
              "</div>"
            ],
            "text/plain": [
              "         index  target\n",
              "0      METHODS   59353\n",
              "1      RESULTS   57953\n",
              "2  CONCLUSIONS   27168\n",
              "3   BACKGROUND   21727\n",
              "4    OBJECTIVE   13839"
            ]
          },
          "metadata": {
            "tags": []
          },
          "execution_count": 16
        }
      ]
    },
    {
      "cell_type": "code",
      "metadata": {
        "colab": {
          "base_uri": "https://localhost:8080/",
          "height": 442
        },
        "id": "HGXfVmIMStMP",
        "outputId": "5dd1d5cd-9a08-4f63-df49-766b72226110"
      },
      "source": [
        "import matplotlib.pyplot as plt\n",
        "import seaborn as sns\n",
        "plt.figure(figsize=(10,7))\n",
        "plot = sns.barplot(x=\"index\", y=\"target\", data=label_dist)\n",
        "\n",
        "# Iterating over bars one by one\n",
        "for bar in plot.patches:\n",
        "  plot.annotate(format(bar.get_height(), '.2f'), # gets the value\n",
        "                (bar.get_x() + bar.get_width() / 2, bar.get_height()), # point in the plot fot text\n",
        "                ha='center',\n",
        "                va='center',\n",
        "                size=15,\n",
        "                xytext=(0,8),\n",
        "                textcoords='offset points')\n",
        "  \n",
        "plt.show()"
      ],
      "execution_count": 17,
      "outputs": [
        {
          "output_type": "display_data",
          "data": {
            "image/png": "[encoded data removed]",
            "text/plain": [
              "<Figure size 720x504 with 1 Axes>"
            ]
          },
          "metadata": {
            "tags": [],
            "needs_background": "light"
          }
        }
      ]
    },
    {
      "cell_type": "markdown",
      "metadata": {
        "id": "1ocxPu83Su8H"
      },
      "source": [
        "There is a little imbalance between `objective` and `method` but it's not big like 10x or 100x."
      ]
    },
    {
      "cell_type": "code",
      "metadata": {
        "colab": {
          "base_uri": "https://localhost:8080/",
          "height": 284
        },
        "id": "M5VnZzBmS6Sd",
        "outputId": "0b691c78-1181-4b92-b331-cddd52e8bc23"
      },
      "source": [
        "# Let's check the length of different lines\n",
        "train_df.total_lines.plot.hist()"
      ],
      "execution_count": 18,
      "outputs": [
        {
          "output_type": "execute_result",
          "data": {
            "text/plain": [
              "<matplotlib.axes._subplots.AxesSubplot at 0x7f2259413550>"
            ]
          },
          "metadata": {
            "tags": []
          },
          "execution_count": 18
        },
        {
          "output_type": "display_data",
          "data": {
            "image/png": "[encoded data removed]",
            "text/plain": [
              "<Figure size 432x288 with 1 Axes>"
            ]
          },
          "metadata": {
            "tags": [],
            "needs_background": "light"
          }
        }
      ]
    },
    {
      "cell_type": "markdown",
      "metadata": {
        "id": "SvHbq5h-TAsH"
      },
      "source": [
        "### Get list of sentences"
      ]
    },
    {
      "cell_type": "code",
      "metadata": {
        "colab": {
          "base_uri": "https://localhost:8080/"
        },
        "id": "4IBGtfSZTJHs",
        "outputId": "d8339706-7c39-496a-f7e6-1d044c88dacc"
      },
      "source": [
        "# Convert abstract text lines into lists\n",
        "train_sentences = train_df.text.to_list()\n",
        "val_sentences = val_df.text.to_list()\n",
        "test_sentences = test_df.text.to_list()\n",
        "len(train_sentences), len(val_sentences), len(test_sentences)"
      ],
      "execution_count": 19,
      "outputs": [
        {
          "output_type": "execute_result",
          "data": {
            "text/plain": [
              "(180040, 30212, 30135)"
            ]
          },
          "metadata": {
            "tags": []
          },
          "execution_count": 19
        }
      ]
    },
    {
      "cell_type": "code",
      "metadata": {
        "colab": {
          "base_uri": "https://localhost:8080/"
        },
        "id": "L-H7nxbgTds3",
        "outputId": "20e3c418-8767-4654-ce95-a1f38681c9b3"
      },
      "source": [
        "train_sentences[:10]"
      ],
      "execution_count": 20,
      "outputs": [
        {
          "output_type": "execute_result",
          "data": {
            "text/plain": [
              "['to investigate the efficacy of @ weeks of daily low-dose oral prednisolone in improving pain , mobility , and systemic low-grade inflammation in the short term and whether the effect would be sustained at @ weeks in older adults with moderate to severe knee osteoarthritis ( oa ) .',\n",
              " 'a total of @ patients with primary knee oa were randomized @:@ ; @ received @ mg/day of prednisolone and @ received placebo for @ weeks .',\n",
              " 'outcome measures included pain reduction and improvement in function scores and systemic inflammation markers .',\n",
              " 'pain was assessed using the visual analog pain scale ( @-@ mm ) .',\n",
              " 'secondary outcome measures included the western ontario and mcmaster universities osteoarthritis index scores , patient global assessment ( pga ) of the severity of knee oa , and @-min walk distance ( @mwd ) .',\n",
              " 'serum levels of interleukin @ ( il-@ ) , il-@ , tumor necrosis factor ( tnf ) - , and high-sensitivity c-reactive protein ( hscrp ) were measured .',\n",
              " 'there was a clinically relevant reduction in the intervention group compared to the placebo group for knee pain , physical function , pga , and @mwd at @ weeks .',\n",
              " 'the mean difference between treatment arms ( @ % ci ) was @ ( @-@ @ ) , p < @ ; @ ( @-@ @ ) , p < @ ; @ ( @-@ @ ) , p < @ ; and @ ( @-@ @ ) , p < @ , respectively .',\n",
              " 'further , there was a clinically relevant reduction in the serum levels of il-@ , il-@ , tnf - , and hscrp at @ weeks in the intervention group when compared to the placebo group .',\n",
              " 'these differences remained significant at @ weeks .']"
            ]
          },
          "metadata": {
            "tags": []
          },
          "execution_count": 20
        }
      ]
    },
    {
      "cell_type": "markdown",
      "metadata": {
        "id": "jizajoVfThhg"
      },
      "source": [
        "## Turning our target labels into numbers\n",
        "\n",
        "### One-Hot encode"
      ]
    },
    {
      "cell_type": "code",
      "metadata": {
        "id": "t6aWkswRZ9YL"
      },
      "source": [
        "# One-hot encode labels\n",
        "from sklearn.preprocessing import OneHotEncoder\n",
        "one_hot_encoder = OneHotEncoder(sparse=False)\n",
        "train_labels_one_hot = one_hot_encoder.fit_transform(train_df['target'].to_numpy().reshape(-1,1))\n",
        "val_labels_one_hot = one_hot_encoder.transform(val_df['target'].to_numpy().reshape(-1,1))\n",
        "test_labels_one_hot = one_hot_encoder.transform(test_df['target'].to_numpy().reshape(-1,1))"
      ],
      "execution_count": 21,
      "outputs": []
    },
    {
      "cell_type": "markdown",
      "metadata": {
        "id": "J70iDSKDaMpY"
      },
      "source": [
        "In one-hot encoded labels the lables are sorted in alphabetical order and encoded."
      ]
    },
    {
      "cell_type": "markdown",
      "metadata": {
        "id": "w8SofZQ0aflv"
      },
      "source": [
        "### Label encode labels"
      ]
    },
    {
      "cell_type": "code",
      "metadata": {
        "id": "tRf97sAibBi-"
      },
      "source": [
        "from sklearn.preprocessing import LabelEncoder\n",
        "label_encoder = LabelEncoder()"
      ],
      "execution_count": 22,
      "outputs": []
    },
    {
      "cell_type": "code",
      "metadata": {
        "colab": {
          "base_uri": "https://localhost:8080/"
        },
        "id": "ZlrWF29Eb1UV",
        "outputId": "ced754cf-5d64-4cdd-bad3-860a28f632f6"
      },
      "source": [
        "train_labels_encoded = label_encoder.fit_transform(train_df['target'].to_numpy())\n",
        "val_labels_encoded = label_encoder.transform(val_df['target'].to_numpy())\n",
        "test_labels_encoded = label_encoder.transform(test_df['target'].to_numpy())\n",
        "train_labels_encoded[:5]"
      ],
      "execution_count": 23,
      "outputs": [
        {
          "output_type": "execute_result",
          "data": {
            "text/plain": [
              "array([3, 2, 2, 2, 2])"
            ]
          },
          "metadata": {
            "tags": []
          },
          "execution_count": 23
        }
      ]
    },
    {
      "cell_type": "code",
      "metadata": {
        "colab": {
          "base_uri": "https://localhost:8080/"
        },
        "id": "Fhnf5UKOcSdK",
        "outputId": "4eda17b9-262e-4b7e-af9e-4c792b52b031"
      },
      "source": [
        "# Get class names and number of classes using one hot encoder\n",
        "print(one_hot_encoder.categories_)\n",
        "# Get class names and number of classes using label encoder\n",
        "print(label_encoder.classes_)"
      ],
      "execution_count": 24,
      "outputs": [
        {
          "output_type": "stream",
          "text": [
            "[array(['BACKGROUND', 'CONCLUSIONS', 'METHODS', 'OBJECTIVE', 'RESULTS'],\n",
            "      dtype=object)]\n",
            "['BACKGROUND' 'CONCLUSIONS' 'METHODS' 'OBJECTIVE' 'RESULTS']\n"
          ],
          "name": "stdout"
        }
      ]
    },
    {
      "cell_type": "code",
      "metadata": {
        "colab": {
          "base_uri": "https://localhost:8080/"
        },
        "id": "aguKfrJkceXx",
        "outputId": "d84efba9-0dce-45b5-ba72-fa894daecf61"
      },
      "source": [
        "# Store the classes\n",
        "class_names = label_encoder.classes_\n",
        "print(class_names)"
      ],
      "execution_count": 25,
      "outputs": [
        {
          "output_type": "stream",
          "text": [
            "['BACKGROUND' 'CONCLUSIONS' 'METHODS' 'OBJECTIVE' 'RESULTS']\n"
          ],
          "name": "stdout"
        }
      ]
    },
    {
      "cell_type": "markdown",
      "metadata": {
        "id": "ZawsiW_8cz-H"
      },
      "source": [
        "Now er're ready for modelling experiments, let's list them down.\n",
        "\n",
        "## Model Experimentaion\n",
        "\n",
        "* Model 0: Naive Bayes with TF-IDF encoder(baseline)\n",
        "* Model 1: Conv 1D with Token embeddings\n",
        "* model 2: TensorFlow Hub Pretrained Feature extractor\n",
        "* model 3: Conv1D with character embeddings\n",
        "* mode 4: Pretrained token embedding (same as 2) + character embeddings (same as 3)\n",
        "* model 5: Pretrained token embeddings + character embeddings + positional embeddings"
      ]
    },
    {
      "cell_type": "markdown",
      "metadata": {
        "id": "18n008kWeOhK"
      },
      "source": [
        "### Model 0: Baseline - Naive Bayes with TF-IDF encoder"
      ]
    },
    {
      "cell_type": "code",
      "metadata": {
        "id": "Ig82EQkI1jMQ"
      },
      "source": [
        "# Importing\n",
        "from sklearn.naive_bayes import MultinomialNB\n",
        "from sklearn.feature_extraction.text import TfidfVectorizer\n",
        "from sklearn.pipeline import Pipeline"
      ],
      "execution_count": 26,
      "outputs": []
    },
    {
      "cell_type": "code",
      "metadata": {
        "colab": {
          "base_uri": "https://localhost:8080/"
        },
        "id": "mcqk-DDm13mW",
        "outputId": "8f194ffd-5ec3-4e52-e69c-f8e8fb6fe43e"
      },
      "source": [
        "# Building the model\n",
        "model0 = Pipeline([(\"tfidf\", TfidfVectorizer()), # Converts word to numbers using tfidf\n",
        "                 (\"clf\", MultinomialNB())]) # Model the text\n",
        "\n",
        "# Fit the data\n",
        "model0.fit(train_sentences,\n",
        "           train_labels_encoded)\n",
        "# One hot encoded labels are not working with input shape error"
      ],
      "execution_count": 27,
      "outputs": [
        {
          "output_type": "execute_result",
          "data": {
            "text/plain": [
              "Pipeline(memory=None,\n",
              "         steps=[('tfidf',\n",
              "                 TfidfVectorizer(analyzer='word', binary=False,\n",
              "                                 decode_error='strict',\n",
              "                                 dtype=<class 'numpy.float64'>,\n",
              "                                 encoding='utf-8', input='content',\n",
              "                                 lowercase=True, max_df=1.0, max_features=None,\n",
              "                                 min_df=1, ngram_range=(1, 1), norm='l2',\n",
              "                                 preprocessor=None, smooth_idf=True,\n",
              "                                 stop_words=None, strip_accents=None,\n",
              "                                 sublinear_tf=False,\n",
              "                                 token_pattern='(?u)\\\\b\\\\w\\\\w+\\\\b',\n",
              "                                 tokenizer=None, use_idf=True,\n",
              "                                 vocabulary=None)),\n",
              "                ('clf',\n",
              "                 MultinomialNB(alpha=1.0, class_prior=None, fit_prior=True))],\n",
              "         verbose=False)"
            ]
          },
          "metadata": {
            "tags": []
          },
          "execution_count": 27
        }
      ]
    },
    {
      "cell_type": "code",
      "metadata": {
        "colab": {
          "base_uri": "https://localhost:8080/"
        },
        "id": "u11rk6F52Pdu",
        "outputId": "4fe19b2c-17d9-4772-e170-cdb8f9d1fe8e"
      },
      "source": [
        "# Evaluating the model\n",
        "model0.score(val_sentences,\n",
        "             val_labels_encoded)"
      ],
      "execution_count": 28,
      "outputs": [
        {
          "output_type": "execute_result",
          "data": {
            "text/plain": [
              "0.7218323844829869"
            ]
          },
          "metadata": {
            "tags": []
          },
          "execution_count": 28
        }
      ]
    },
    {
      "cell_type": "markdown",
      "metadata": {
        "id": "SAqdT0sw3mvM"
      },
      "source": [
        "Getting the helper function"
      ]
    },
    {
      "cell_type": "code",
      "metadata": {
        "colab": {
          "base_uri": "https://localhost:8080/"
        },
        "id": "RxrgkbF72qnZ",
        "outputId": "f6931557-b98b-4667-9a01-829ad2a39930"
      },
      "source": [
        "!wget https://raw.githubusercontent.com/JpChii/ML-Tools/main/dl_helper.py"
      ],
      "execution_count": 29,
      "outputs": [
        {
          "output_type": "stream",
          "text": [
            "--2021-06-07 10:37:16--  https://raw.githubusercontent.com/JpChii/ML-Tools/main/dl_helper.py\n",
            "Resolving raw.githubusercontent.com (raw.githubusercontent.com)... 185.199.108.133, 185.199.109.133, 185.199.110.133, ...\n",
            "Connecting to raw.githubusercontent.com (raw.githubusercontent.com)|185.199.108.133|:443... connected.\n",
            "HTTP request sent, awaiting response... 200 OK\n",
            "Length: 17973 (18K) [text/plain]\n",
            "Saving to: ‘dl_helper.py’\n",
            "\n",
            "dl_helper.py        100%[===================>]  17.55K  --.-KB/s    in 0s      \n",
            "\n",
            "2021-06-07 10:37:16 (124 MB/s) - ‘dl_helper.py’ saved [17973/17973]\n",
            "\n"
          ],
          "name": "stdout"
        }
      ]
    },
    {
      "cell_type": "code",
      "metadata": {
        "id": "n8AFih533ggH"
      },
      "source": [
        "from dl_helper import calculate_results, plot_loss_curves"
      ],
      "execution_count": 30,
      "outputs": []
    },
    {
      "cell_type": "code",
      "metadata": {
        "id": "z1YbeTmF3lmY"
      },
      "source": [
        "preds_model0 = model0.predict(val_sentences)"
      ],
      "execution_count": 31,
      "outputs": []
    },
    {
      "cell_type": "code",
      "metadata": {
        "colab": {
          "base_uri": "https://localhost:8080/"
        },
        "id": "E4AYZ0uAojrs",
        "outputId": "317ab7cf-89ed-4c29-c50c-b0bd4af1b7ae"
      },
      "source": [
        "preds_model0[:5], val_labels_encoded[:5]"
      ],
      "execution_count": 32,
      "outputs": [
        {
          "output_type": "execute_result",
          "data": {
            "text/plain": [
              "(array([4, 1, 3, 2, 2]), array([0, 0, 3, 2, 2]))"
            ]
          },
          "metadata": {
            "tags": []
          },
          "execution_count": 32
        }
      ]
    },
    {
      "cell_type": "code",
      "metadata": {
        "colab": {
          "base_uri": "https://localhost:8080/"
        },
        "id": "PzSFO4xf3yuB",
        "outputId": "3962361d-e923-451a-f4fe-6404e011e31e"
      },
      "source": [
        "# Caluclate metrics\n",
        "results_baseline = calculate_results(y_true=val_labels_encoded,\n",
        "                                     y_pred=preds_model0)\n",
        "results_baseline"
      ],
      "execution_count": 33,
      "outputs": [
        {
          "output_type": "execute_result",
          "data": {
            "text/plain": [
              "{'accuracy': 0.7218323844829869,\n",
              " 'f1': 0.6989250353450294,\n",
              " 'precision': 0.7186466952323352,\n",
              " 'recall': 0.7218323844829869}"
            ]
          },
          "metadata": {
            "tags": []
          },
          "execution_count": 33
        }
      ]
    },
    {
      "cell_type": "markdown",
      "metadata": {
        "id": "e3R0c3Ed31dj"
      },
      "source": [
        "Let's create a dataframe to store the baseline reulst and future results."
      ]
    },
    {
      "cell_type": "code",
      "metadata": {
        "colab": {
          "base_uri": "https://localhost:8080/",
          "height": 110
        },
        "id": "MuP_0dl4l2c3",
        "outputId": "6a960877-bffc-49bd-d390-6bacee572fa8"
      },
      "source": [
        "results_df = pd.DataFrame({\"baseline\": results_baseline})\n",
        "results_df.T"
      ],
      "execution_count": 34,
      "outputs": [
        {
          "output_type": "execute_result",
          "data": {
            "application/vnd.google.colaboratory.module+javascript": "\n      import \"https://ssl.gstatic.com/colaboratory/data_table/a6224c040fa35dcf/data_table.js\";\n\n      window.createDataTable({\n        data: [[\"baseline\",\n{\n            'v': 0.7218323844829869,\n            'f': \"0.7218323844829869\",\n        },\n{\n            'v': 0.6989250353450294,\n            'f': \"0.6989250353450294\",\n        },\n{\n            'v': 0.7186466952323352,\n            'f': \"0.7186466952323352\",\n        },\n{\n            'v': 0.7218323844829869,\n            'f': \"0.7218323844829869\",\n        }]],\n        columns: [[\"string\", \"index\"], [\"number\", \"accuracy\"], [\"number\", \"f1\"], [\"number\", \"precision\"], [\"number\", \"recall\"]],\n        columnOptions: [{\"width\": \"1px\", \"className\": \"index_column\"}],\n        rowsPerPage: 25,\n        helpUrl: \"https://colab.research.google.com/notebooks/data_table.ipynb\",\n        suppressOutputScrolling: true,\n        minimumWidth: undefined,\n      });\n    ",
            "text/html": [
              "<div>\n",
              "<style scoped>\n",
              "    .dataframe tbody tr th:only-of-type {\n",
              "        vertical-align: middle;\n",
              "    }\n",
              "\n",
              "    .dataframe tbody tr th {\n",
              "        vertical-align: top;\n",
              "    }\n",
              "\n",
              "    .dataframe thead th {\n",
              "        text-align: right;\n",
              "    }\n",
              "</style>\n",
              "<table border=\"1\" class=\"dataframe\">\n",
              "  <thead>\n",
              "    <tr style=\"text-align: right;\">\n",
              "      <th></th>\n",
              "      <th>accuracy</th>\n",
              "      <th>f1</th>\n",
              "      <th>precision</th>\n",
              "      <th>recall</th>\n",
              "    </tr>\n",
              "  </thead>\n",
              "  <tbody>\n",
              "    <tr>\n",
              "      <th>baseline</th>\n",
              "      <td>0.721832</td>\n",
              "      <td>0.698925</td>\n",
              "      <td>0.718647</td>\n",
              "      <td>0.721832</td>\n",
              "    </tr>\n",
              "  </tbody>\n",
              "</table>\n",
              "</div>"
            ],
            "text/plain": [
              "          accuracy        f1  precision    recall\n",
              "baseline  0.721832  0.698925   0.718647  0.721832"
            ]
          },
          "metadata": {
            "tags": []
          },
          "execution_count": 34
        }
      ]
    },
    {
      "cell_type": "markdown",
      "metadata": {
        "id": "wXtbvW44mB31"
      },
      "source": [
        "## Preparing our data for deep sequence models\n",
        "\n",
        "Before we start deeper models, we've to create vectorization embedding layers."
      ]
    },
    {
      "cell_type": "code",
      "metadata": {
        "id": "oUGRlqOgpf-o"
      },
      "source": [
        "import numpy as np\n",
        "import tensorflow as tf\n",
        "from tensorflow.keras import layers"
      ],
      "execution_count": 35,
      "outputs": []
    },
    {
      "cell_type": "code",
      "metadata": {
        "colab": {
          "base_uri": "https://localhost:8080/"
        },
        "id": "PmaSds9IqMSv",
        "outputId": "537774b6-eaf4-412d-e6cf-d7da88c4133e"
      },
      "source": [
        "# How long is each sentence in average?\n",
        "sent_lens = [len(sentence.split()) for sentence in train_sentences]\n",
        "average_sent_len = np.mean(sent_lens)\n",
        "average_sent_len"
      ],
      "execution_count": 36,
      "outputs": [
        {
          "output_type": "execute_result",
          "data": {
            "text/plain": [
              "26.338269273494777"
            ]
          },
          "metadata": {
            "tags": []
          },
          "execution_count": 36
        }
      ]
    },
    {
      "cell_type": "markdown",
      "metadata": {
        "id": "e5CN9PRfqiOn"
      },
      "source": [
        "Why this length is importatn, tensorflow likes all it's input to be in the same shape. So what we might do is fit all the sentences to the average sentence length."
      ]
    },
    {
      "cell_type": "code",
      "metadata": {
        "colab": {
          "base_uri": "https://localhost:8080/",
          "height": 265
        },
        "id": "7UG_XSbrq8iW",
        "outputId": "92aab695-d53c-4d4c-c439-836748289ce1"
      },
      "source": [
        "# What's distribution look like\n",
        "plt.hist(sent_lens, bins=20);"
      ],
      "execution_count": 37,
      "outputs": [
        {
          "output_type": "display_data",
          "data": {
            "image/png": "[encoded data removed]",
            "text/plain": [
              "<Figure size 432x288 with 1 Axes>"
            ]
          },
          "metadata": {
            "tags": [],
            "needs_background": "light"
          }
        }
      ]
    },
    {
      "cell_type": "code",
      "metadata": {
        "colab": {
          "base_uri": "https://localhost:8080/"
        },
        "id": "kBrk3neBrCYx",
        "outputId": "af0c7565-89b8-4933-fbe3-9066f6347ebf"
      },
      "source": [
        "# How long of a sentence lenght covers 95% examples?\n",
        "output_seq_len = int(np.percentile(sent_lens,95))\n",
        "output_seq_len"
      ],
      "execution_count": 38,
      "outputs": [
        {
          "output_type": "execute_result",
          "data": {
            "text/plain": [
              "55"
            ]
          },
          "metadata": {
            "tags": []
          },
          "execution_count": 38
        }
      ]
    },
    {
      "cell_type": "markdown",
      "metadata": {
        "id": "jBd77Zpsrr_g"
      },
      "source": [
        "So what above `np.percentile` does is let us knowthe length of `95%` of sequences in `train_sentences`.\n",
        "\n",
        "So we already know the data has to be in fixed shape but using too small size, we might lose valuable information. Using too large size we might have lot's of `0's` in our data."
      ]
    },
    {
      "cell_type": "code",
      "metadata": {
        "colab": {
          "base_uri": "https://localhost:8080/"
        },
        "id": "3NzkOxTLsQum",
        "outputId": "309d9263-f8aa-4f6e-c838-f8e3df2b1393"
      },
      "source": [
        "# What's the maximum length in training set?\n",
        "max(sent_lens)"
      ],
      "execution_count": 39,
      "outputs": [
        {
          "output_type": "execute_result",
          "data": {
            "text/plain": [
              "296"
            ]
          },
          "metadata": {
            "tags": []
          },
          "execution_count": 39
        }
      ]
    },
    {
      "cell_type": "markdown",
      "metadata": {
        "id": "ZaesWwpLshvt"
      },
      "source": [
        "Okay now, we've the ouput sequence length.let's setup  text vectorizer.\n",
        "\n",
        "### Text Vectorizer\n",
        "\n",
        "Convert words to numbers using `TextVectorization layer`"
      ]
    },
    {
      "cell_type": "code",
      "metadata": {
        "id": "SshaM0a3s1q3"
      },
      "source": [
        "from tensorflow.keras.layers.experimental.preprocessing import TextVectorization"
      ],
      "execution_count": 40,
      "outputs": []
    },
    {
      "cell_type": "code",
      "metadata": {
        "id": "BKSjIMAbuAG7"
      },
      "source": [
        "# The vocabulary size for 20k pubmed dataset in paper is 68k\n",
        "# We'll use this vocab size for our text vectorization layer\n",
        "vocab=68000 # How many words from our dataset, we want our text vectoriztion layer to convert to number\n",
        "\n",
        "text_vectorizer = TextVectorization(max_tokens=vocab,\n",
        "                                    output_sequence_length=output_seq_len) # Desired output lenght of vectorized sequences\n",
        "# We'll leave the remaining in defaults"
      ],
      "execution_count": 41,
      "outputs": []
    },
    {
      "cell_type": "code",
      "metadata": {
        "colab": {
          "base_uri": "https://localhost:8080/"
        },
        "id": "iIvBjuaiuhu7",
        "outputId": "682406a9-9ed8-4af3-a397-5cc867bd64c9"
      },
      "source": [
        "%%time\n",
        "# Adapt the vectorizer to dataset\n",
        "text_vectorizer.adapt(train_sentences)"
      ],
      "execution_count": 42,
      "outputs": [
        {
          "output_type": "stream",
          "text": [
            "CPU times: user 42.7 s, sys: 283 ms, total: 42.9 s\n",
            "Wall time: 42.9 s\n"
          ],
          "name": "stdout"
        }
      ]
    },
    {
      "cell_type": "code",
      "metadata": {
        "id": "Lrl1kfDIymr1",
        "colab": {
          "base_uri": "https://localhost:8080/"
        },
        "outputId": "afacd710-5a8e-4fc7-c64f-9e57a15accfb"
      },
      "source": [
        "# How many words in our training vocabulary?\n",
        "rct_20k_text_vocab = text_vectorizer.get_vocabulary()\n",
        "print(f\"Number of words in vocabulary: {len(rct_20k_text_vocab)}\"), \n",
        "print(f\"Most common words in the vocabulary: {rct_20k_text_vocab[:5]}\")\n",
        "print(f\"Least common words in the vocabulary: {rct_20k_text_vocab[-5:]}\")"
      ],
      "execution_count": 43,
      "outputs": [
        {
          "output_type": "stream",
          "text": [
            "Number of words in vocabulary: 64841\n",
            "Most common words in the vocabulary: ['', '[UNK]', 'the', 'and', 'of']\n",
            "Least common words in the vocabulary: ['aainduced', 'aaigroup', 'aachener', 'aachen', 'aaacp']\n"
          ],
          "name": "stdout"
        }
      ]
    },
    {
      "cell_type": "code",
      "metadata": {
        "colab": {
          "base_uri": "https://localhost:8080/"
        },
        "id": "oOnvQ47rZlbU",
        "outputId": "8950a732-0795-4c1a-d041-e381587e22dc"
      },
      "source": [
        "# Get the config of our text vectorizer\n",
        "text_vectorizer.get_config()"
      ],
      "execution_count": 44,
      "outputs": [
        {
          "output_type": "execute_result",
          "data": {
            "text/plain": [
              "{'dtype': 'string',\n",
              " 'max_tokens': 68000,\n",
              " 'name': 'text_vectorization',\n",
              " 'ngrams': None,\n",
              " 'output_mode': 'int',\n",
              " 'output_sequence_length': 55,\n",
              " 'pad_to_max_tokens': False,\n",
              " 'split': 'whitespace',\n",
              " 'standardize': 'lower_and_strip_punctuation',\n",
              " 'trainable': True,\n",
              " 'vocabulary_size': 64841}"
            ]
          },
          "metadata": {
            "tags": []
          },
          "execution_count": 44
        }
      ]
    },
    {
      "cell_type": "markdown",
      "metadata": {
        "id": "Mhrns4DVZm6g"
      },
      "source": [
        "### Create Embedding"
      ]
    },
    {
      "cell_type": "code",
      "metadata": {
        "colab": {
          "base_uri": "https://localhost:8080/"
        },
        "id": "NzPpfzTPZwGG",
        "outputId": "897aac21-d783-41d4-b4ed-ac5399697614"
      },
      "source": [
        "# Create token embedding layer\n",
        "embedding = layers.Embedding(input_dim=len(rct_20k_text_vocab), # length of vocabulary\n",
        "                               output_dim=128, # Note: different embedding sizes result in drastically different numbers of parameters to train\n",
        "                               # Use masking to handle variable sequence lengths (save space)\n",
        "                               mask_zero=True,\n",
        "                               name=\"embedding_layer\") \n",
        "\n",
        "import random\n",
        "target_sentence = random.choice(train_sentences)\n",
        "# Show example embedding\n",
        "print(f\"Sentence before vectorization:\\n{target_sentence}\\n\")\n",
        "vectorized_sentence = text_vectorizer([target_sentence])\n",
        "print(f\"Sentence after vectorization (before embedding):\\n{vectorized_sentence}\\n\")\n",
        "embedded_sentence = embedding(vectorized_sentence)\n",
        "print(f\"Sentence after embedding:\\n{embedded_sentence}\\n\")\n",
        "print(f\"Embedded sentence shape: {embedded_sentence.shape}\")"
      ],
      "execution_count": 45,
      "outputs": [
        {
          "output_type": "stream",
          "text": [
            "Sentence before vectorization:\n",
            "the proportion of patients gaining @ letters was @ % versus @ % ( p < @ ) at week @ , @ % versus @ % ( p < @ ) at week @ , and @ % versus @ % ( p < @ ) at week @ in the iai @q@ + prn and sham + iai prn groups , respectively .\n",
            "\n",
            "Sentence after vectorization (before embedding):\n",
            "[[   2  443    4   12 8450 2510   10  110   14   15   89  110   14   15\n",
            "    89    3  110   14   15   89    5    2 7207 2204 3682    3  786 7207\n",
            "  3682   24   83    0    0    0    0    0    0    0    0    0    0    0\n",
            "     0    0    0    0    0    0    0    0    0    0    0    0    0]]\n",
            "\n",
            "Sentence after embedding:\n",
            "[[[ 0.00686603  0.0420067   0.01229328 ... -0.00265133 -0.02319591\n",
            "   -0.04996933]\n",
            "  [-0.00762014  0.03626512  0.0352466  ... -0.0399223  -0.00083752\n",
            "    0.04803742]\n",
            "  [ 0.02255125 -0.00012701  0.00787784 ...  0.02993418  0.01515373\n",
            "   -0.04274318]\n",
            "  ...\n",
            "  [-0.02137583  0.00947616  0.03900475 ...  0.04581556 -0.04143285\n",
            "    0.03092756]\n",
            "  [-0.02137583  0.00947616  0.03900475 ...  0.04581556 -0.04143285\n",
            "    0.03092756]\n",
            "  [-0.02137583  0.00947616  0.03900475 ...  0.04581556 -0.04143285\n",
            "    0.03092756]]]\n",
            "\n",
            "Embedded sentence shape: (1, 55, 128)\n"
          ],
          "name": "stdout"
        }
      ]
    },
    {
      "cell_type": "markdown",
      "metadata": {
        "id": "ipqwxWLKZxSo"
      },
      "source": [
        "### Speed up the loading of data using `tf.data` API"
      ]
    },
    {
      "cell_type": "code",
      "metadata": {
        "colab": {
          "base_uri": "https://localhost:8080/"
        },
        "id": "_AdJB5N7aBtc",
        "outputId": "4fc2dc40-6d44-4ec4-c1d3-daf9b0face67"
      },
      "source": [
        "# Turn our data into TensorFlow Datasets\n",
        "train_dataset = tf.data.Dataset.from_tensor_slices((train_sentences, train_labels_one_hot))\n",
        "val_dataset = tf.data.Dataset.from_tensor_slices((val_sentences, val_labels_one_hot))\n",
        "test_dataset = tf.data.Dataset.from_tensor_slices((test_sentences, test_labels_one_hot))\n",
        "train_dataset"
      ],
      "execution_count": 46,
      "outputs": [
        {
          "output_type": "execute_result",
          "data": {
            "text/plain": [
              "<TensorSliceDataset shapes: ((), (5,)), types: (tf.string, tf.float64)>"
            ]
          },
          "metadata": {
            "tags": []
          },
          "execution_count": 46
        }
      ]
    },
    {
      "cell_type": "code",
      "metadata": {
        "colab": {
          "base_uri": "https://localhost:8080/"
        },
        "id": "1DMMvkL9aDIo",
        "outputId": "fb7e40e8-7b90-4ed1-dd50-338c023076bd"
      },
      "source": [
        "# Take the TensorSliceDataset's and turn them into prefetched batches\n",
        "train_dataset = train_dataset.batch(32).prefetch(tf.data.AUTOTUNE)\n",
        "val_dataset = val_dataset.batch(32).prefetch(tf.data.AUTOTUNE)\n",
        "test_dataset = test_dataset.batch(32).prefetch(tf.data.AUTOTUNE)\n",
        "\n",
        "train_dataset"
      ],
      "execution_count": 47,
      "outputs": [
        {
          "output_type": "execute_result",
          "data": {
            "text/plain": [
              "<PrefetchDataset shapes: ((None,), (None, 5)), types: (tf.string, tf.float64)>"
            ]
          },
          "metadata": {
            "tags": []
          },
          "execution_count": 47
        }
      ]
    },
    {
      "cell_type": "markdown",
      "metadata": {
        "id": "y-g75e_MaFew"
      },
      "source": [
        "### Model 1: Conv1D with token embeddings"
      ]
    },
    {
      "cell_type": "code",
      "metadata": {
        "id": "4gZ4rnJ7aL-K"
      },
      "source": [
        "# Building the model\n",
        "inputs = layers.Input(shape=(1,), dtype=tf.string)\n",
        "vectors = text_vectorizer(inputs)\n",
        "embeds = embedding(vectors)\n",
        "# x = layers.Conv1D(64, kernel_size=5, padding=\"same\", activation=\"relu\")(embeds)\n",
        "x = layers.Conv1D(64, kernel_size=5, padding=\"same\", activation=\"relu\")(embeds)\n",
        "x = layers.GlobalAveragePooling1D()(x)\n",
        "outputs = layers.Dense(5, activation=\"softmax\")(x)\n",
        "\n",
        "model1 = tf.keras.Model(inputs, outputs)"
      ],
      "execution_count": 48,
      "outputs": []
    },
    {
      "cell_type": "code",
      "metadata": {
        "id": "DTsDzDh2yNOD"
      },
      "source": [
        "# Compile the model\n",
        "model1.compile(loss=tf.keras.losses.CategoricalCrossentropy(),\n",
        "               optimizer=tf.keras.optimizers.Adam(),\n",
        "               metrics=[\"accuracy\"])"
      ],
      "execution_count": 49,
      "outputs": []
    },
    {
      "cell_type": "code",
      "metadata": {
        "colab": {
          "base_uri": "https://localhost:8080/"
        },
        "id": "h4th5XwxyXDm",
        "outputId": "63704259-8bc3-4569-d5f2-9735c3eb4bfc"
      },
      "source": [
        "# Checkout the model\n",
        "model1.summary()"
      ],
      "execution_count": 50,
      "outputs": [
        {
          "output_type": "stream",
          "text": [
            "Model: \"model\"\n",
            "_________________________________________________________________\n",
            "Layer (type)                 Output Shape              Param #   \n",
            "=================================================================\n",
            "input_1 (InputLayer)         [(None, 1)]               0         \n",
            "_________________________________________________________________\n",
            "text_vectorization (TextVect (None, 55)                0         \n",
            "_________________________________________________________________\n",
            "embedding_layer (Embedding)  (None, 55, 128)           8299648   \n",
            "_________________________________________________________________\n",
            "conv1d (Conv1D)              (None, 55, 64)            41024     \n",
            "_________________________________________________________________\n",
            "global_average_pooling1d (Gl (None, 64)                0         \n",
            "_________________________________________________________________\n",
            "dense (Dense)                (None, 5)                 325       \n",
            "=================================================================\n",
            "Total params: 8,340,997\n",
            "Trainable params: 8,340,997\n",
            "Non-trainable params: 0\n",
            "_________________________________________________________________\n"
          ],
          "name": "stdout"
        }
      ]
    },
    {
      "cell_type": "markdown",
      "metadata": {
        "id": "VLJFs8gjzqN_"
      },
      "source": [
        "> **Note:** As ML practioniers, we've to reduce our initial experimentation time as much as possible to find out what is not working quicky. In line with this we're using only 10% of 20k dataset during training. One disadvantage is model will not see the entire data. But this is the tradeoff"
      ]
    },
    {
      "cell_type": "code",
      "metadata": {
        "colab": {
          "base_uri": "https://localhost:8080/"
        },
        "id": "4A6Wfcv7aNX6",
        "outputId": "ddea7815-09e0-4342-934e-098d7d0c9a9e"
      },
      "source": [
        "# Fit the model\n",
        "history1 = model1.fit(train_dataset,\n",
        "                              steps_per_epoch=int(0.1 * len(train_dataset)), # only fit on 10% of batches for faster training time\n",
        "                              epochs=3,\n",
        "                              validation_data=val_dataset,\n",
        "                              validation_steps=int(0.1 * len(val_dataset))) # only validate on 10% of batches"
      ],
      "execution_count": 51,
      "outputs": [
        {
          "output_type": "stream",
          "text": [
            "Epoch 1/3\n",
            "562/562 [==============================] - 74s 76ms/step - loss: 0.9091 - accuracy: 0.6400 - val_loss: 0.6835 - val_accuracy: 0.7364\n",
            "Epoch 2/3\n",
            "562/562 [==============================] - 43s 76ms/step - loss: 0.6606 - accuracy: 0.7546 - val_loss: 0.6387 - val_accuracy: 0.7706\n",
            "Epoch 3/3\n",
            "562/562 [==============================] - 43s 76ms/step - loss: 0.6194 - accuracy: 0.7722 - val_loss: 0.5979 - val_accuracy: 0.7869\n"
          ],
          "name": "stdout"
        }
      ]
    },
    {
      "cell_type": "code",
      "metadata": {
        "id": "aspzX9L7aTrH",
        "colab": {
          "base_uri": "https://localhost:8080/",
          "height": 573
        },
        "outputId": "33371345-defc-4403-a202-e97168bbd6ce"
      },
      "source": [
        "# LEt's checkout the loss curve\n",
        "plot_loss_curves(history1)"
      ],
      "execution_count": 52,
      "outputs": [
        {
          "output_type": "display_data",
          "data": {
            "image/png": "[encoded data removed]",
            "text/plain": [
              "<Figure size 432x288 with 1 Axes>"
            ]
          },
          "metadata": {
            "tags": [],
            "needs_background": "light"
          }
        },
        {
          "output_type": "display_data",
          "data": {
            "image/png": "[encoded data removed]",
            "text/plain": [
              "<Figure size 432x288 with 1 Axes>"
            ]
          },
          "metadata": {
            "tags": [],
            "needs_background": "light"
          }
        }
      ]
    },
    {
      "cell_type": "markdown",
      "metadata": {
        "id": "GO79Z7yc0UKk"
      },
      "source": [
        "Okay the loss curves look good, validation curve is closley folloeing the training curve. Let's calculate some metrics."
      ]
    },
    {
      "cell_type": "code",
      "metadata": {
        "colab": {
          "base_uri": "https://localhost:8080/"
        },
        "id": "1YG2rhzQ0eyb",
        "outputId": "3631a604-7602-4db0-a343-da06ba9a9498"
      },
      "source": [
        "# Make predictions\n",
        "pred_probs_model1 = model1.predict(val_dataset)\n",
        "preds_model1 = tf.argmax(tf.squeeze(tf.round(pred_probs_model1)), axis=1).numpy()\n",
        "preds_model1[:5]"
      ],
      "execution_count": 53,
      "outputs": [
        {
          "output_type": "execute_result",
          "data": {
            "text/plain": [
              "array([0, 0, 3, 2, 4])"
            ]
          },
          "metadata": {
            "tags": []
          },
          "execution_count": 53
        }
      ]
    },
    {
      "cell_type": "code",
      "metadata": {
        "colab": {
          "base_uri": "https://localhost:8080/"
        },
        "id": "qb5ocmPf0oj2",
        "outputId": "0c781d45-906c-45bb-fd71-429a42fcfe71"
      },
      "source": [
        "from dl_helper import calculate_results\n",
        "results_model1 = calculate_results(y_true=val_labels_encoded,\n",
        "                                   y_pred=preds_model1)\n",
        "results_model1"
      ],
      "execution_count": 54,
      "outputs": [
        {
          "output_type": "execute_result",
          "data": {
            "text/plain": [
              "{'accuracy': 0.7574142724745134,\n",
              " 'f1': 0.7665896232581451,\n",
              " 'precision': 0.7897339787380335,\n",
              " 'recall': 0.7574142724745134}"
            ]
          },
          "metadata": {
            "tags": []
          },
          "execution_count": 54
        }
      ]
    },
    {
      "cell_type": "code",
      "metadata": {
        "colab": {
          "base_uri": "https://localhost:8080/",
          "height": 131
        },
        "id": "AclWytb62zn0",
        "outputId": "f2a2535f-8240-4fb2-db8e-7ae8a6515690"
      },
      "source": [
        "# add the results to dataframe\n",
        "results_df[\"model1_conv1d\"] = results_model1.values()\n",
        "results_df.T"
      ],
      "execution_count": 55,
      "outputs": [
        {
          "output_type": "execute_result",
          "data": {
            "application/vnd.google.colaboratory.module+javascript": "\n      import \"https://ssl.gstatic.com/colaboratory/data_table/a6224c040fa35dcf/data_table.js\";\n\n      window.createDataTable({\n        data: [[\"baseline\",\n{\n            'v': 0.7218323844829869,\n            'f': \"0.7218323844829869\",\n        },\n{\n            'v': 0.6989250353450294,\n            'f': \"0.6989250353450294\",\n        },\n{\n            'v': 0.7186466952323352,\n            'f': \"0.7186466952323352\",\n        },\n{\n            'v': 0.7218323844829869,\n            'f': \"0.7218323844829869\",\n        }],\n [\"model1_conv1d\",\n{\n            'v': 0.7574142724745134,\n            'f': \"0.7574142724745134\",\n        },\n{\n            'v': 0.7897339787380335,\n            'f': \"0.7897339787380335\",\n        },\n{\n            'v': 0.7574142724745134,\n            'f': \"0.7574142724745134\",\n        },\n{\n            'v': 0.7665896232581451,\n            'f': \"0.7665896232581451\",\n        }]],\n        columns: [[\"string\", \"index\"], [\"number\", \"accuracy\"], [\"number\", \"f1\"], [\"number\", \"precision\"], [\"number\", \"recall\"]],\n        columnOptions: [{\"width\": \"1px\", \"className\": \"index_column\"}],\n        rowsPerPage: 25,\n        helpUrl: \"https://colab.research.google.com/notebooks/data_table.ipynb\",\n        suppressOutputScrolling: true,\n        minimumWidth: undefined,\n      });\n    ",
            "text/html": [
              "<div>\n",
              "<style scoped>\n",
              "    .dataframe tbody tr th:only-of-type {\n",
              "        vertical-align: middle;\n",
              "    }\n",
              "\n",
              "    .dataframe tbody tr th {\n",
              "        vertical-align: top;\n",
              "    }\n",
              "\n",
              "    .dataframe thead th {\n",
              "        text-align: right;\n",
              "    }\n",
              "</style>\n",
              "<table border=\"1\" class=\"dataframe\">\n",
              "  <thead>\n",
              "    <tr style=\"text-align: right;\">\n",
              "      <th></th>\n",
              "      <th>accuracy</th>\n",
              "      <th>f1</th>\n",
              "      <th>precision</th>\n",
              "      <th>recall</th>\n",
              "    </tr>\n",
              "  </thead>\n",
              "  <tbody>\n",
              "    <tr>\n",
              "      <th>baseline</th>\n",
              "      <td>0.721832</td>\n",
              "      <td>0.698925</td>\n",
              "      <td>0.718647</td>\n",
              "      <td>0.721832</td>\n",
              "    </tr>\n",
              "    <tr>\n",
              "      <th>model1_conv1d</th>\n",
              "      <td>0.757414</td>\n",
              "      <td>0.789734</td>\n",
              "      <td>0.757414</td>\n",
              "      <td>0.766590</td>\n",
              "    </tr>\n",
              "  </tbody>\n",
              "</table>\n",
              "</div>"
            ],
            "text/plain": [
              "               accuracy        f1  precision    recall\n",
              "baseline       0.721832  0.698925   0.718647  0.721832\n",
              "model1_conv1d  0.757414  0.789734   0.757414  0.766590"
            ]
          },
          "metadata": {
            "tags": []
          },
          "execution_count": 55
        }
      ]
    },
    {
      "cell_type": "markdown",
      "metadata": {
        "id": "xT-9FjPC28kt"
      },
      "source": [
        "### Model 2: TensorFlow Hub Pretrained Extrctor\n",
        "\n",
        "In the paper, model is intialized with glove embedding pretrained on wikipedia and gigaword. \n",
        "\n",
        "The above pretrained embedding is not available in tensorflow hub, so we're going to use [Universal Sentence Encoder](https://www.aclweb.org/anthology/D18-2029.pdf) from [TensorFlowHub](https://tfhub.dev/google/universal-sentence-encoder/4).\n",
        "\n",
        "We can get other NLP models from [HuggingFace.co](https://huggingface.co/models)"
      ]
    },
    {
      "cell_type": "code",
      "metadata": {
        "id": "JJv9kv9yWXNv"
      },
      "source": [
        "import tensorflow_hub as hub"
      ],
      "execution_count": 56,
      "outputs": []
    },
    {
      "cell_type": "code",
      "metadata": {
        "id": "WW2UMeuAYkJF"
      },
      "source": [
        "# Loading in the embedding\n",
        "universal_sentence_encoder = hub.KerasLayer(\"https://tfhub.dev/google/universal-sentence-encoder/4\",\n",
        "                                             trainable=False,\n",
        "                                             input_shape=[],\n",
        "                                             dtype=tf.string,\n",
        "                                             name=\"USE\")"
      ],
      "execution_count": 57,
      "outputs": []
    },
    {
      "cell_type": "code",
      "metadata": {
        "id": "UI8t6MerhVeX",
        "colab": {
          "base_uri": "https://localhost:8080/"
        },
        "outputId": "9bf9d8e0-cb5b-4f10-a125-daa84f539875"
      },
      "source": [
        "embedding_sentence = universal_sentence_encoder([\n",
        "    \"The quick brown fox jumps over the lazy dog.\",\n",
        "    \"I am a sentence for which I would like to get its embedding\"])\n",
        "print(f\"USE embedding output shape: {embedding_sentence.shape}\")"
      ],
      "execution_count": 58,
      "outputs": [
        {
          "output_type": "stream",
          "text": [
            "USE embedding output shape: (2, 512)\n"
          ],
          "name": "stdout"
        }
      ]
    },
    {
      "cell_type": "code",
      "metadata": {
        "id": "lJZDT795Zyxh"
      },
      "source": [
        "# Building the model\n",
        "model2 = tf.keras.Sequential([\n",
        "    universal_sentence_encoder,\n",
        "    layers.Dense(128, activation=\"relu\"),\n",
        "    layers.Dense(5, activation=\"softmax\")\n",
        "])\n",
        "\n",
        "# Compile the model\n",
        "model2.compile(loss=tf.keras.losses.CategoricalCrossentropy(),\n",
        "               optimizer=tf.keras.optimizers.Adam(),\n",
        "               metrics=[\"accuracy\"])"
      ],
      "execution_count": 59,
      "outputs": []
    },
    {
      "cell_type": "code",
      "metadata": {
        "id": "vPMKGFcpat2r",
        "colab": {
          "base_uri": "https://localhost:8080/"
        },
        "outputId": "e7bfe983-1986-479f-9fa2-371e176df804"
      },
      "source": [
        "# Checkout the summary\n",
        "model2.summary()"
      ],
      "execution_count": 60,
      "outputs": [
        {
          "output_type": "stream",
          "text": [
            "Model: \"sequential\"\n",
            "_________________________________________________________________\n",
            "Layer (type)                 Output Shape              Param #   \n",
            "=================================================================\n",
            "USE (KerasLayer)             (None, 512)               256797824 \n",
            "_________________________________________________________________\n",
            "dense_1 (Dense)              (None, 128)               65664     \n",
            "_________________________________________________________________\n",
            "dense_2 (Dense)              (None, 5)                 645       \n",
            "=================================================================\n",
            "Total params: 256,864,133\n",
            "Trainable params: 66,309\n",
            "Non-trainable params: 256,797,824\n",
            "_________________________________________________________________\n"
          ],
          "name": "stdout"
        }
      ]
    },
    {
      "cell_type": "markdown",
      "metadata": {
        "id": "bOwDJG_dbeqz"
      },
      "source": [
        "The number parameters is highest at sequence encoder. But we're keeping the pretrained embeddings for this experiment."
      ]
    },
    {
      "cell_type": "code",
      "metadata": {
        "id": "ENXZYGwdbtqa",
        "colab": {
          "base_uri": "https://localhost:8080/"
        },
        "outputId": "73724398-b956-4a86-ca13-6fb5cef77bf5"
      },
      "source": [
        "# Fit the model\n",
        "history2 = model2.fit(train_dataset,\n",
        "                      steps_per_epoch=int(0.1 * len(train_dataset)),\n",
        "                      epochs=3,\n",
        "                      validation_data=val_dataset,\n",
        "                      validation_steps=int(0.1 * len(val_dataset)))"
      ],
      "execution_count": 61,
      "outputs": [
        {
          "output_type": "stream",
          "text": [
            "Epoch 1/3\n",
            "562/562 [==============================] - 8s 11ms/step - loss: 0.9137 - accuracy: 0.6506 - val_loss: 0.7950 - val_accuracy: 0.6888\n",
            "Epoch 2/3\n",
            "562/562 [==============================] - 6s 11ms/step - loss: 0.7681 - accuracy: 0.7011 - val_loss: 0.7540 - val_accuracy: 0.7028\n",
            "Epoch 3/3\n",
            "562/562 [==============================] - 6s 11ms/step - loss: 0.7511 - accuracy: 0.7117 - val_loss: 0.7395 - val_accuracy: 0.7148\n"
          ],
          "name": "stdout"
        }
      ]
    },
    {
      "cell_type": "code",
      "metadata": {
        "id": "lH-53d7fcB7N",
        "colab": {
          "base_uri": "https://localhost:8080/",
          "height": 573
        },
        "outputId": "36d67996-713d-4567-86fa-19c1dc040214"
      },
      "source": [
        "# Checkout the loss curves\n",
        "plot_loss_curves(history2)"
      ],
      "execution_count": 62,
      "outputs": [
        {
          "output_type": "display_data",
          "data": {
            "image/png": "[encoded data removed]",
            "text/plain": [
              "<Figure size 432x288 with 1 Axes>"
            ]
          },
          "metadata": {
            "tags": [],
            "needs_background": "light"
          }
        },
        {
          "output_type": "display_data",
          "data": {
            "image/png": "[encoded data removed]",
            "text/plain": [
              "<Figure size 432x288 with 1 Axes>"
            ]
          },
          "metadata": {
            "tags": [],
            "needs_background": "light"
          }
        }
      ]
    },
    {
      "cell_type": "markdown",
      "metadata": {
        "id": "pdIrqq59cNxO"
      },
      "source": [
        "Looks like the validation accuracy cruve is starting to dip a little.\n",
        "\n",
        "Let's calculate the metrics."
      ]
    },
    {
      "cell_type": "code",
      "metadata": {
        "id": "mKKQ5m3PcYDl",
        "colab": {
          "base_uri": "https://localhost:8080/"
        },
        "outputId": "2c3fcec0-8808-4cca-8f0e-d99aad55be5f"
      },
      "source": [
        "# Make predictions\n",
        "pred_probs_model2 = model2.predict(val_dataset)\n",
        "# Convert pred probs to preds\n",
        "preds_model2 = tf.argmax(pred_probs_model2, axis=1)\n",
        "preds_model2[:5]"
      ],
      "execution_count": 63,
      "outputs": [
        {
          "output_type": "execute_result",
          "data": {
            "text/plain": [
              "<tf.Tensor: shape=(5,), dtype=int64, numpy=array([0, 1, 3, 2, 4])>"
            ]
          },
          "metadata": {
            "tags": []
          },
          "execution_count": 63
        }
      ]
    },
    {
      "cell_type": "code",
      "metadata": {
        "id": "wOh3BJ_0cyiV",
        "colab": {
          "base_uri": "https://localhost:8080/"
        },
        "outputId": "d9c965d4-9f5a-42ac-bef9-bde1c598b203"
      },
      "source": [
        "# Calculate metrics\n",
        "results_model2 = calculate_results(y_true=val_labels_encoded,\n",
        "                                   y_pred=preds_model2)\n",
        "results_model2"
      ],
      "execution_count": 64,
      "outputs": [
        {
          "output_type": "execute_result",
          "data": {
            "text/plain": [
              "{'accuracy': 0.7140209188401959,\n",
              " 'f1': 0.7111600737912002,\n",
              " 'precision': 0.7152861936728832,\n",
              " 'recall': 0.7140209188401959}"
            ]
          },
          "metadata": {
            "tags": []
          },
          "execution_count": 64
        }
      ]
    },
    {
      "cell_type": "code",
      "metadata": {
        "id": "NFJYt9wrc9ci",
        "colab": {
          "base_uri": "https://localhost:8080/",
          "height": 152
        },
        "outputId": "31645e4b-63fa-4904-836c-e130664c8ba7"
      },
      "source": [
        "# Add the result to results dataframe\n",
        "results_df[\"model2_use\"] = results_model2.values()\n",
        "results_df.T"
      ],
      "execution_count": 65,
      "outputs": [
        {
          "output_type": "execute_result",
          "data": {
            "application/vnd.google.colaboratory.module+javascript": "\n      import \"https://ssl.gstatic.com/colaboratory/data_table/a6224c040fa35dcf/data_table.js\";\n\n      window.createDataTable({\n        data: [[\"baseline\",\n{\n            'v': 0.7218323844829869,\n            'f': \"0.7218323844829869\",\n        },\n{\n            'v': 0.6989250353450294,\n            'f': \"0.6989250353450294\",\n        },\n{\n            'v': 0.7186466952323352,\n            'f': \"0.7186466952323352\",\n        },\n{\n            'v': 0.7218323844829869,\n            'f': \"0.7218323844829869\",\n        }],\n [\"model1_conv1d\",\n{\n            'v': 0.7574142724745134,\n            'f': \"0.7574142724745134\",\n        },\n{\n            'v': 0.7897339787380335,\n            'f': \"0.7897339787380335\",\n        },\n{\n            'v': 0.7574142724745134,\n            'f': \"0.7574142724745134\",\n        },\n{\n            'v': 0.7665896232581451,\n            'f': \"0.7665896232581451\",\n        }],\n [\"model2_use\",\n{\n            'v': 0.7140209188401959,\n            'f': \"0.7140209188401959\",\n        },\n{\n            'v': 0.7152861936728832,\n            'f': \"0.7152861936728832\",\n        },\n{\n            'v': 0.7140209188401959,\n            'f': \"0.7140209188401959\",\n        },\n{\n            'v': 0.7111600737912002,\n            'f': \"0.7111600737912002\",\n        }]],\n        columns: [[\"string\", \"index\"], [\"number\", \"accuracy\"], [\"number\", \"f1\"], [\"number\", \"precision\"], [\"number\", \"recall\"]],\n        columnOptions: [{\"width\": \"1px\", \"className\": \"index_column\"}],\n        rowsPerPage: 25,\n        helpUrl: \"https://colab.research.google.com/notebooks/data_table.ipynb\",\n        suppressOutputScrolling: true,\n        minimumWidth: undefined,\n      });\n    ",
            "text/html": [
              "<div>\n",
              "<style scoped>\n",
              "    .dataframe tbody tr th:only-of-type {\n",
              "        vertical-align: middle;\n",
              "    }\n",
              "\n",
              "    .dataframe tbody tr th {\n",
              "        vertical-align: top;\n",
              "    }\n",
              "\n",
              "    .dataframe thead th {\n",
              "        text-align: right;\n",
              "    }\n",
              "</style>\n",
              "<table border=\"1\" class=\"dataframe\">\n",
              "  <thead>\n",
              "    <tr style=\"text-align: right;\">\n",
              "      <th></th>\n",
              "      <th>accuracy</th>\n",
              "      <th>f1</th>\n",
              "      <th>precision</th>\n",
              "      <th>recall</th>\n",
              "    </tr>\n",
              "  </thead>\n",
              "  <tbody>\n",
              "    <tr>\n",
              "      <th>baseline</th>\n",
              "      <td>0.721832</td>\n",
              "      <td>0.698925</td>\n",
              "      <td>0.718647</td>\n",
              "      <td>0.721832</td>\n",
              "    </tr>\n",
              "    <tr>\n",
              "      <th>model1_conv1d</th>\n",
              "      <td>0.757414</td>\n",
              "      <td>0.789734</td>\n",
              "      <td>0.757414</td>\n",
              "      <td>0.766590</td>\n",
              "    </tr>\n",
              "    <tr>\n",
              "      <th>model2_use</th>\n",
              "      <td>0.714021</td>\n",
              "      <td>0.715286</td>\n",
              "      <td>0.714021</td>\n",
              "      <td>0.711160</td>\n",
              "    </tr>\n",
              "  </tbody>\n",
              "</table>\n",
              "</div>"
            ],
            "text/plain": [
              "               accuracy        f1  precision    recall\n",
              "baseline       0.721832  0.698925   0.718647  0.721832\n",
              "model1_conv1d  0.757414  0.789734   0.757414  0.766590\n",
              "model2_use     0.714021  0.715286   0.714021  0.711160"
            ]
          },
          "metadata": {
            "tags": []
          },
          "execution_count": 65
        }
      ]
    },
    {
      "cell_type": "markdown",
      "metadata": {
        "id": "BC90jIeBdyQF"
      },
      "source": [
        "The performance of this model is less than the performance of our model 2."
      ]
    },
    {
      "cell_type": "code",
      "metadata": {
        "id": "sVfnaeRAilu2",
        "colab": {
          "base_uri": "https://localhost:8080/",
          "height": 351
        },
        "outputId": "85d714d5-7379-434c-9dff-993c12d63165"
      },
      "source": [
        "results_df.T.plot(kind=\"bar\")"
      ],
      "execution_count": 66,
      "outputs": [
        {
          "output_type": "execute_result",
          "data": {
            "text/plain": [
              "<matplotlib.axes._subplots.AxesSubplot at 0x7f211a1dbf50>"
            ]
          },
          "metadata": {
            "tags": []
          },
          "execution_count": 66
        },
        {
          "output_type": "display_data",
          "data": {
            "image/png": "[encoded data removed]",
            "text/plain": [
              "<Figure size 432x288 with 1 Axes>"
            ]
          },
          "metadata": {
            "tags": [],
            "needs_background": "light"
          }
        }
      ]
    },
    {
      "cell_type": "markdown",
      "metadata": {
        "id": "sN9w6Xg1jU2V"
      },
      "source": [
        "### Model 3: Conv1D with character embeddings\n",
        "\n",
        "The paper we're replicating used a combination of token and character-level embeddings.\n",
        "\n",
        "Previously we've token level embeddings but we'll need to similar steps for characters if we want to use character-level embeddings."
      ]
    },
    {
      "cell_type": "markdown",
      "metadata": {
        "id": "KNP9s6MTyw9P"
      },
      "source": [
        "#### Creating a character-level tokenizer"
      ]
    },
    {
      "cell_type": "code",
      "metadata": {
        "colab": {
          "base_uri": "https://localhost:8080/"
        },
        "id": "jwIyiXvUzPP9",
        "outputId": "d2d349cd-0596-401e-f5c1-0d1fd61d065d"
      },
      "source": [
        "train_sentences[:5]"
      ],
      "execution_count": 67,
      "outputs": [
        {
          "output_type": "execute_result",
          "data": {
            "text/plain": [
              "['to investigate the efficacy of @ weeks of daily low-dose oral prednisolone in improving pain , mobility , and systemic low-grade inflammation in the short term and whether the effect would be sustained at @ weeks in older adults with moderate to severe knee osteoarthritis ( oa ) .',\n",
              " 'a total of @ patients with primary knee oa were randomized @:@ ; @ received @ mg/day of prednisolone and @ received placebo for @ weeks .',\n",
              " 'outcome measures included pain reduction and improvement in function scores and systemic inflammation markers .',\n",
              " 'pain was assessed using the visual analog pain scale ( @-@ mm ) .',\n",
              " 'secondary outcome measures included the western ontario and mcmaster universities osteoarthritis index scores , patient global assessment ( pga ) of the severity of knee oa , and @-min walk distance ( @mwd ) .']"
            ]
          },
          "metadata": {
            "tags": []
          },
          "execution_count": 67
        }
      ]
    },
    {
      "cell_type": "code",
      "metadata": {
        "id": "nuUylMHpzU3f"
      },
      "source": [
        "# Make function to split sentences into characters\n",
        "def split_chars(text):\n",
        "  return \" \".join(list(text))"
      ],
      "execution_count": 68,
      "outputs": []
    },
    {
      "cell_type": "code",
      "metadata": {
        "colab": {
          "base_uri": "https://localhost:8080/",
          "height": 154
        },
        "id": "3p40FMSwznOJ",
        "outputId": "d79a8496-9aa0-4a35-ccc8-deb150b3dab0"
      },
      "source": [
        "\" \".join(list(train_sentences[0]))"
      ],
      "execution_count": 69,
      "outputs": [
        {
          "output_type": "execute_result",
          "data": {
            "application/vnd.google.colaboratory.intrinsic+json": {
              "type": "string"
            },
            "text/plain": [
              "'t o   i n v e s t i g a t e   t h e   e f f i c a c y   o f   @   w e e k s   o f   d a i l y   l o w - d o s e   o r a l   p r e d n i s o l o n e   i n   i m p r o v i n g   p a i n   ,   m o b i l i t y   ,   a n d   s y s t e m i c   l o w - g r a d e   i n f l a m m a t i o n   i n   t h e   s h o r t   t e r m   a n d   w h e t h e r   t h e   e f f e c t   w o u l d   b e   s u s t a i n e d   a t   @   w e e k s   i n   o l d e r   a d u l t s   w i t h   m o d e r a t e   t o   s e v e r e   k n e e   o s t e o a r t h r i t i s   (   o a   )   .'"
            ]
          },
          "metadata": {
            "tags": []
          },
          "execution_count": 69
        }
      ]
    },
    {
      "cell_type": "code",
      "metadata": {
        "colab": {
          "base_uri": "https://localhost:8080/",
          "height": 154
        },
        "id": "qw5nR5eZz1Sl",
        "outputId": "71079db1-3f17-41f1-fbad-2f860cb5b977"
      },
      "source": [
        "# Text splitting non-character-level sequence into characters\n",
        "split_chars(train_sentences[0])"
      ],
      "execution_count": 70,
      "outputs": [
        {
          "output_type": "execute_result",
          "data": {
            "application/vnd.google.colaboratory.intrinsic+json": {
              "type": "string"
            },
            "text/plain": [
              "'t o   i n v e s t i g a t e   t h e   e f f i c a c y   o f   @   w e e k s   o f   d a i l y   l o w - d o s e   o r a l   p r e d n i s o l o n e   i n   i m p r o v i n g   p a i n   ,   m o b i l i t y   ,   a n d   s y s t e m i c   l o w - g r a d e   i n f l a m m a t i o n   i n   t h e   s h o r t   t e r m   a n d   w h e t h e r   t h e   e f f e c t   w o u l d   b e   s u s t a i n e d   a t   @   w e e k s   i n   o l d e r   a d u l t s   w i t h   m o d e r a t e   t o   s e v e r e   k n e e   o s t e o a r t h r i t i s   (   o a   )   .'"
            ]
          },
          "metadata": {
            "tags": []
          },
          "execution_count": 70
        }
      ]
    },
    {
      "cell_type": "code",
      "metadata": {
        "colab": {
          "base_uri": "https://localhost:8080/"
        },
        "id": "KMtDbARZ0JAk",
        "outputId": "1a6e5c32-dc1a-474f-e565-329933bc7d1b"
      },
      "source": [
        "# Split sequence-level data splits into character-level data splits\n",
        "train_chars = [split_chars(sentence) for sentence in train_sentences]\n",
        "val_chars = [split_chars(sentence) for sentence in val_sentences]\n",
        "test_chars = [split_chars(sentence) for sentence in test_sentences]\n",
        "train_chars[:5]"
      ],
      "execution_count": 71,
      "outputs": [
        {
          "output_type": "execute_result",
          "data": {
            "text/plain": [
              "['t o   i n v e s t i g a t e   t h e   e f f i c a c y   o f   @   w e e k s   o f   d a i l y   l o w - d o s e   o r a l   p r e d n i s o l o n e   i n   i m p r o v i n g   p a i n   ,   m o b i l i t y   ,   a n d   s y s t e m i c   l o w - g r a d e   i n f l a m m a t i o n   i n   t h e   s h o r t   t e r m   a n d   w h e t h e r   t h e   e f f e c t   w o u l d   b e   s u s t a i n e d   a t   @   w e e k s   i n   o l d e r   a d u l t s   w i t h   m o d e r a t e   t o   s e v e r e   k n e e   o s t e o a r t h r i t i s   (   o a   )   .',\n",
              " 'a   t o t a l   o f   @   p a t i e n t s   w i t h   p r i m a r y   k n e e   o a   w e r e   r a n d o m i z e d   @ : @   ;   @   r e c e i v e d   @   m g / d a y   o f   p r e d n i s o l o n e   a n d   @   r e c e i v e d   p l a c e b o   f o r   @   w e e k s   .',\n",
              " 'o u t c o m e   m e a s u r e s   i n c l u d e d   p a i n   r e d u c t i o n   a n d   i m p r o v e m e n t   i n   f u n c t i o n   s c o r e s   a n d   s y s t e m i c   i n f l a m m a t i o n   m a r k e r s   .',\n",
              " 'p a i n   w a s   a s s e s s e d   u s i n g   t h e   v i s u a l   a n a l o g   p a i n   s c a l e   (   @ - @   m m   )   .',\n",
              " 's e c o n d a r y   o u t c o m e   m e a s u r e s   i n c l u d e d   t h e   w e s t e r n   o n t a r i o   a n d   m c m a s t e r   u n i v e r s i t i e s   o s t e o a r t h r i t i s   i n d e x   s c o r e s   ,   p a t i e n t   g l o b a l   a s s e s s m e n t   (   p g a   )   o f   t h e   s e v e r i t y   o f   k n e e   o a   ,   a n d   @ - m i n   w a l k   d i s t a n c e   (   @ m w d   )   .']"
            ]
          },
          "metadata": {
            "tags": []
          },
          "execution_count": 71
        }
      ]
    },
    {
      "cell_type": "code",
      "metadata": {
        "colab": {
          "base_uri": "https://localhost:8080/"
        },
        "id": "4yVeAP6i0sT9",
        "outputId": "7bbbf63d-ef04-4297-d918-00e4d20c1505"
      },
      "source": [
        "# what's the average character length\n",
        "char_lens = [len(sentence) for sentence in train_sentences]\n",
        "mean_char_len = np.mean(char_lens)\n",
        "mean_char_len"
      ],
      "execution_count": 72,
      "outputs": [
        {
          "output_type": "execute_result",
          "data": {
            "text/plain": [
              "149.3662574983337"
            ]
          },
          "metadata": {
            "tags": []
          },
          "execution_count": 72
        }
      ]
    },
    {
      "cell_type": "code",
      "metadata": {
        "colab": {
          "base_uri": "https://localhost:8080/",
          "height": 350
        },
        "id": "KYEIaC6E1K7y",
        "outputId": "e2fa26f4-6749-4c3d-ef13-4424f647daca"
      },
      "source": [
        "# Checkthe distribution of sequence at charcter level\n",
        "plt.hist(char_lens, bins=7)"
      ],
      "execution_count": 73,
      "outputs": [
        {
          "output_type": "execute_result",
          "data": {
            "text/plain": [
              "(array([1.41175e+05, 3.71110e+04, 1.60000e+03, 1.27000e+02, 2.10000e+01,\n",
              "        5.00000e+00, 1.00000e+00]),\n",
              " array([1.00000000e+00, 1.98857143e+02, 3.96714286e+02, 5.94571429e+02,\n",
              "        7.92428571e+02, 9.90285714e+02, 1.18814286e+03, 1.38600000e+03]),\n",
              " <a list of 7 Patch objects>)"
            ]
          },
          "metadata": {
            "tags": []
          },
          "execution_count": 73
        },
        {
          "output_type": "display_data",
          "data": {
            "image/png": "[encoded data removed]",
            "text/plain": [
              "<Figure size 432x288 with 1 Axes>"
            ]
          },
          "metadata": {
            "tags": [],
            "needs_background": "light"
          }
        }
      ]
    },
    {
      "cell_type": "code",
      "metadata": {
        "colab": {
          "base_uri": "https://localhost:8080/"
        },
        "id": "1GLKaPRY2S0e",
        "outputId": "8ec70f29-ccfb-4135-f2be-ff1e027fef3e"
      },
      "source": [
        "# What character length covers 95% of sequences\n",
        "output_seq_char_len = int(np.percentile(char_lens, 95))\n",
        "output_seq_char_len"
      ],
      "execution_count": 74,
      "outputs": [
        {
          "output_type": "execute_result",
          "data": {
            "text/plain": [
              "290"
            ]
          },
          "metadata": {
            "tags": []
          },
          "execution_count": 74
        }
      ]
    },
    {
      "cell_type": "code",
      "metadata": {
        "colab": {
          "base_uri": "https://localhost:8080/",
          "height": 35
        },
        "id": "uLcrFqq23qx9",
        "outputId": "8d923f42-2de5-4e46-e1ac-359c00a67568"
      },
      "source": [
        "# Get all keyboard characters\n",
        "import string\n",
        "alphabet = string.ascii_lowercase + string.digits + string.punctuation\n",
        "alphabet"
      ],
      "execution_count": 75,
      "outputs": [
        {
          "output_type": "execute_result",
          "data": {
            "application/vnd.google.colaboratory.intrinsic+json": {
              "type": "string"
            },
            "text/plain": [
              "'abcdefghijklmnopqrstuvwxyz0123456789!\"#$%&\\'()*+,-./:;<=>?@[\\\\]^_`{|}~'"
            ]
          },
          "metadata": {
            "tags": []
          },
          "execution_count": 75
        }
      ]
    },
    {
      "cell_type": "code",
      "metadata": {
        "id": "YMPEKsiF4TYO"
      },
      "source": [
        "# Create char-level token ectorizer instance\n",
        "NUM_CHAR_TOKENS = len(alphabet) + 2 # add for space and OOV token (OOV = out of vocab)\n",
        "char_vectorizer = TextVectorization(max_tokens=NUM_CHAR_TOKENS,\n",
        "                                    output_sequence_length=output_seq_char_len,\n",
        "                                    # standardize=None, Use this if you want punctuation in your vocab\n",
        "                                    name=\"char_vectorizer\")"
      ],
      "execution_count": 76,
      "outputs": []
    },
    {
      "cell_type": "code",
      "metadata": {
        "id": "1iSUYbj045AN"
      },
      "source": [
        "# ADapt character vectorizer to training characters\n",
        "char_vectorizer.adapt(train_chars)"
      ],
      "execution_count": 77,
      "outputs": []
    },
    {
      "cell_type": "code",
      "metadata": {
        "colab": {
          "base_uri": "https://localhost:8080/"
        },
        "id": "bhaI7uw65Ce8",
        "outputId": "661e0dc3-b5c3-446a-9583-07f489b89747"
      },
      "source": [
        "# Check character vocab stats\n",
        "char_vocab = char_vectorizer.get_vocabulary()\n",
        "print(f\"Number of different characters in character vocab: {len(char_vocab)}\")\n",
        "print(f\"Top characters: {char_vocab[:5]}\")\n",
        "print(f\"Bottom characters: {char_vocab[-5:]}\")"
      ],
      "execution_count": 78,
      "outputs": [
        {
          "output_type": "stream",
          "text": [
            "Number of different characters in character vocab: 28\n",
            "Top characters: ['', '[UNK]', 'e', 't', 'i']\n",
            "Bottom characters: ['k', 'x', 'z', 'q', 'j']\n"
          ],
          "name": "stdout"
        }
      ]
    },
    {
      "cell_type": "code",
      "metadata": {
        "colab": {
          "base_uri": "https://localhost:8080/"
        },
        "id": "Q7yX4RQJ5KGX",
        "outputId": "a75df04e-4121-484f-e30c-4b51ea0f24e9"
      },
      "source": [
        "# Check character vocab stats with punctuation\n",
        "char_vocab = char_vectorizer.get_vocabulary()\n",
        "print(f\"Number of different characters in character vocab: {len(char_vocab)}\")\n",
        "print(f\"Top characters: {char_vocab[:5]}\")\n",
        "print(f\"Bottom characters: {char_vocab[-5:]}\")"
      ],
      "execution_count": 79,
      "outputs": [
        {
          "output_type": "stream",
          "text": [
            "Number of different characters in character vocab: 28\n",
            "Top characters: ['', '[UNK]', 'e', 't', 'i']\n",
            "Bottom characters: ['k', 'x', 'z', 'q', 'j']\n"
          ],
          "name": "stdout"
        }
      ]
    },
    {
      "cell_type": "code",
      "metadata": {
        "colab": {
          "base_uri": "https://localhost:8080/"
        },
        "id": "5iVwCYxV58fN",
        "outputId": "fdeec42c-0f81-4c90-a34b-ec7887e3bf22"
      },
      "source": [
        "# Test out our character vectorizer\n",
        "target_char = random.choice(train_chars)\n",
        "char_token = char_vectorizer([target_char])\n",
        "print(f\"target character: {target_char}\")\n",
        "print(f\"target character length: {len(target_char)}\")\n",
        "print(f\"target character token: {char_token}\")\n",
        "print(f\"Length of character token: {len(char_token[0])}\")\n",
        "print(f\"Shape of character token: {char_token.shape}\")"
      ],
      "execution_count": 80,
      "outputs": [
        {
          "output_type": "stream",
          "text": [
            "target character: r o m a r k   l a b o r a t o r i e s   l c   .\n",
            "target character length: 47\n",
            "target character token: [[ 8  7 15  5  8 23 12  5 22  7  8  5  3  7  8  4  2  9 12 11  0  0  0  0\n",
            "   0  0  0  0  0  0  0  0  0  0  0  0  0  0  0  0  0  0  0  0  0  0  0  0\n",
            "   0  0  0  0  0  0  0  0  0  0  0  0  0  0  0  0  0  0  0  0  0  0  0  0\n",
            "   0  0  0  0  0  0  0  0  0  0  0  0  0  0  0  0  0  0  0  0  0  0  0  0\n",
            "   0  0  0  0  0  0  0  0  0  0  0  0  0  0  0  0  0  0  0  0  0  0  0  0\n",
            "   0  0  0  0  0  0  0  0  0  0  0  0  0  0  0  0  0  0  0  0  0  0  0  0\n",
            "   0  0  0  0  0  0  0  0  0  0  0  0  0  0  0  0  0  0  0  0  0  0  0  0\n",
            "   0  0  0  0  0  0  0  0  0  0  0  0  0  0  0  0  0  0  0  0  0  0  0  0\n",
            "   0  0  0  0  0  0  0  0  0  0  0  0  0  0  0  0  0  0  0  0  0  0  0  0\n",
            "   0  0  0  0  0  0  0  0  0  0  0  0  0  0  0  0  0  0  0  0  0  0  0  0\n",
            "   0  0  0  0  0  0  0  0  0  0  0  0  0  0  0  0  0  0  0  0  0  0  0  0\n",
            "   0  0  0  0  0  0  0  0  0  0  0  0  0  0  0  0  0  0  0  0  0  0  0  0\n",
            "   0  0]]\n",
            "Length of character token: 290\n",
            "Shape of character token: (1, 290)\n"
          ],
          "name": "stdout"
        }
      ]
    },
    {
      "cell_type": "markdown",
      "metadata": {
        "id": "jF8Hvs_u7ILU"
      },
      "source": [
        "#### Creating  a character-level embdedding"
      ]
    },
    {
      "cell_type": "code",
      "metadata": {
        "id": "up0AmWPN9MnF"
      },
      "source": [
        "embedding_char = tf.keras.layers.Embedding(input_dim=len(char_vocab), # number of diffetent characters\n",
        "                                           output_dim=25, # Size of char embeding from paper\n",
        "                                           mask_zero=True,\n",
        "                                           name=\"char_embedding_layer\")"
      ],
      "execution_count": 81,
      "outputs": []
    },
    {
      "cell_type": "code",
      "metadata": {
        "colab": {
          "base_uri": "https://localhost:8080/"
        },
        "id": "TTTKLy8S9fEu",
        "outputId": "21791456-2915-4b4d-fac9-1775eabfbce5"
      },
      "source": [
        "# Test our embedding layer\n",
        "target_char = random.choice(train_chars)\n",
        "char_token = char_vectorizer([target_char])\n",
        "char_embed = embedding_char(char_token)\n",
        "print(f\"target character: {target_char}\")\n",
        "print(f\"target character length: {len(target_char)}\")\n",
        "print(f\"target character token: {char_token}\")\n",
        "print(f\"Length of character token: {len(char_token[0])}\")\n",
        "print(f\"Shape of character token: {char_token.shape}\")\n",
        "\n",
        "print(f\"target embed character: {char_embed}\")\n",
        "print(f\"Length of embed character: {len(char_embed[0])}\")\n",
        "print(f\"Shape of embed character token: {char_embed.shape}\")"
      ],
      "execution_count": 82,
      "outputs": [
        {
          "output_type": "stream",
          "text": [
            "target character: t h e   c u m u l a t i v e   p r o p o r t i o n   o f   t h r o m b o s i s - f r e e   i n d i v i d u a l s   w a s   l o w e r   i n   p a t i e n t s   w h o s e   g a p s s   w a s   i n c r e a s e d   b y   @   o r   m o r e   p o i n t s   (   p   =   @   )   .\n",
            "target character length: 271\n",
            "target character token: [[ 3 13  2 11 16 15 16 12  5  3  4 21  2 14  8  7 14  7  8  3  4  7  6  7\n",
            "  17  3 13  8  7 15 22  7  9  4  9 17  8  2  2  4  6 10  4 21  4 10 16  5\n",
            "  12  9 20  5  9 12  7 20  2  8  4  6 14  5  3  4  2  6  3  9 20 13  7  9\n",
            "   2 18  5 14  9  9 20  5  9  4  6 11  8  2  5  9  2 10 22 19  7  8 15  7\n",
            "   8  2 14  7  4  6  3  9 14  0  0  0  0  0  0  0  0  0  0  0  0  0  0  0\n",
            "   0  0  0  0  0  0  0  0  0  0  0  0  0  0  0  0  0  0  0  0  0  0  0  0\n",
            "   0  0  0  0  0  0  0  0  0  0  0  0  0  0  0  0  0  0  0  0  0  0  0  0\n",
            "   0  0  0  0  0  0  0  0  0  0  0  0  0  0  0  0  0  0  0  0  0  0  0  0\n",
            "   0  0  0  0  0  0  0  0  0  0  0  0  0  0  0  0  0  0  0  0  0  0  0  0\n",
            "   0  0  0  0  0  0  0  0  0  0  0  0  0  0  0  0  0  0  0  0  0  0  0  0\n",
            "   0  0  0  0  0  0  0  0  0  0  0  0  0  0  0  0  0  0  0  0  0  0  0  0\n",
            "   0  0  0  0  0  0  0  0  0  0  0  0  0  0  0  0  0  0  0  0  0  0  0  0\n",
            "   0  0]]\n",
            "Length of character token: 290\n",
            "Shape of character token: (1, 290)\n",
            "target embed character: [[[ 0.01235064 -0.03599359  0.03259683 ...  0.04259563  0.03405459\n",
            "   -0.00459265]\n",
            "  [ 0.0108588   0.0113796   0.00176456 ... -0.00695995  0.02770202\n",
            "   -0.02010104]\n",
            "  [-0.01701205  0.02225837 -0.02182336 ... -0.03897975  0.04767427\n",
            "    0.04427303]\n",
            "  ...\n",
            "  [-0.04656957 -0.01213585 -0.00067148 ... -0.03066927 -0.04462062\n",
            "   -0.00829748]\n",
            "  [-0.04656957 -0.01213585 -0.00067148 ... -0.03066927 -0.04462062\n",
            "   -0.00829748]\n",
            "  [-0.04656957 -0.01213585 -0.00067148 ... -0.03066927 -0.04462062\n",
            "   -0.00829748]]]\n",
            "Length of embed character: 290\n",
            "Shape of embed character token: (1, 290, 25)\n"
          ],
          "name": "stdout"
        }
      ]
    },
    {
      "cell_type": "markdown",
      "metadata": {
        "id": "Cmfw8G0Z-5F1"
      },
      "source": [
        "Character level embedding layers are ready now,let's build the model.\n",
        "\n",
        "#### Building model"
      ]
    },
    {
      "cell_type": "code",
      "metadata": {
        "id": "kdrny1i8_zw_"
      },
      "source": [
        "# Build model\n",
        "inputs = layers.Input(shape=(1,), dtype=tf.string)\n",
        "char_tokens = char_vectorizer(inputs)\n",
        "char_embeds = embedding_char(char_tokens)\n",
        "x = layers.Conv1D(filters=64,\n",
        "                  kernel_size=5,\n",
        "                  padding=\"same\",\n",
        "                  activation=\"relu\")(char_embeds)\n",
        "x = layers.GlobalMaxPool1D()(x)\n",
        "x = layers.Dropout(0.5)(x)\n",
        "x = layers.Conv1D(filters=64,\n",
        "                  kernel_size=5,\n",
        "                  padding=\"same\",\n",
        "                  activation=\"relu\")(char_embeds)\n",
        "x = layers.GlobalMaxPool1D()(x)\n",
        "x = layers.Dropout(0.5)(x)\n",
        "outputs = layers.Dense(5, activation=\"softmax\")(x)\n",
        "model3 = tf.keras.Model(inputs, outputs)"
      ],
      "execution_count": 83,
      "outputs": []
    },
    {
      "cell_type": "code",
      "metadata": {
        "id": "U-1ns2-CA1V8"
      },
      "source": [
        "# Compile the model\n",
        "model3.compile(loss=tf.keras.losses.CategoricalCrossentropy(),\n",
        "               optimizer=tf.keras.optimizers.Adam(),\n",
        "               metrics=[\"accuracy\"])"
      ],
      "execution_count": 84,
      "outputs": []
    },
    {
      "cell_type": "code",
      "metadata": {
        "colab": {
          "base_uri": "https://localhost:8080/"
        },
        "id": "kfgdg8u_BJhT",
        "outputId": "d2a13ae8-179b-481b-9f01-4b2e6f6b7a80"
      },
      "source": [
        "# Checkout the mode summary\n",
        "model3.summary()"
      ],
      "execution_count": 85,
      "outputs": [
        {
          "output_type": "stream",
          "text": [
            "Model: \"model_1\"\n",
            "_________________________________________________________________\n",
            "Layer (type)                 Output Shape              Param #   \n",
            "=================================================================\n",
            "input_2 (InputLayer)         [(None, 1)]               0         \n",
            "_________________________________________________________________\n",
            "char_vectorizer (TextVectori (None, 290)               0         \n",
            "_________________________________________________________________\n",
            "char_embedding_layer (Embedd (None, 290, 25)           700       \n",
            "_________________________________________________________________\n",
            "conv1d_2 (Conv1D)            (None, 290, 64)           8064      \n",
            "_________________________________________________________________\n",
            "global_max_pooling1d_1 (Glob (None, 64)                0         \n",
            "_________________________________________________________________\n",
            "dropout_1 (Dropout)          (None, 64)                0         \n",
            "_________________________________________________________________\n",
            "dense_3 (Dense)              (None, 5)                 325       \n",
            "=================================================================\n",
            "Total params: 9,089\n",
            "Trainable params: 9,089\n",
            "Non-trainable params: 0\n",
            "_________________________________________________________________\n"
          ],
          "name": "stdout"
        }
      ]
    },
    {
      "cell_type": "code",
      "metadata": {
        "id": "0GUg41_ED-1Y"
      },
      "source": [
        "train_char_dataset = tf.data.Dataset.from_tensor_slices((train_chars,train_labels_one_hot))\n",
        "val_char_dataset = tf.data.Dataset.from_tensor_slices((val_chars, val_labels_one_hot))\n",
        "test_char_dataset = tf.data.Dataset.from_tensor_slices((test_chars, test_labels_one_hot)) "
      ],
      "execution_count": 86,
      "outputs": []
    },
    {
      "cell_type": "code",
      "metadata": {
        "id": "EYFFvsETEdui"
      },
      "source": [
        "# Stting up fast loadig of character level data\n",
        "train_char_dataset = train_char_dataset.batch(batch_size=32).prefetch(buffer_size=tf.data.AUTOTUNE)\n",
        "val_char_dataset = val_char_dataset.batch(batch_size=32).prefetch(buffer_size=tf.data.AUTOTUNE)\n",
        "test_char_dataset = test_char_dataset.batch(batch_size=32).prefetch(buffer_size=tf.data.AUTOTUNE)"
      ],
      "execution_count": 87,
      "outputs": []
    },
    {
      "cell_type": "markdown",
      "metadata": {
        "id": "V_53fgPSBN7p"
      },
      "source": [
        "Character level embedding model has drastically less parameters compared to the other model, because the vocab size of word level tokenization was big and embeddig output size was 128."
      ]
    },
    {
      "cell_type": "code",
      "metadata": {
        "colab": {
          "base_uri": "https://localhost:8080/"
        },
        "id": "0Qsv-fhwBgVN",
        "outputId": "3ca8b2ff-b067-492e-8964-270d75b186ba"
      },
      "source": [
        "# Fit the model\n",
        "history3 = model3.fit(train_char_dataset,\n",
        "                      epochs=3,\n",
        "                      steps_per_epoch=int(0.1 * len(train_char_dataset)),\n",
        "                      validation_data=val_char_dataset,\n",
        "                      validation_steps=int(0.1 * len(val_char_dataset)))"
      ],
      "execution_count": 88,
      "outputs": [
        {
          "output_type": "stream",
          "text": [
            "Epoch 1/3\n",
            "562/562 [==============================] - 4s 6ms/step - loss: 1.3864 - accuracy: 0.4093 - val_loss: 1.2023 - val_accuracy: 0.5100\n",
            "Epoch 2/3\n",
            "562/562 [==============================] - 3s 6ms/step - loss: 1.1805 - accuracy: 0.5175 - val_loss: 1.0394 - val_accuracy: 0.5984\n",
            "Epoch 3/3\n",
            "562/562 [==============================] - 3s 6ms/step - loss: 1.0810 - accuracy: 0.5669 - val_loss: 0.9609 - val_accuracy: 0.6406\n"
          ],
          "name": "stdout"
        }
      ]
    },
    {
      "cell_type": "code",
      "metadata": {
        "colab": {
          "base_uri": "https://localhost:8080/"
        },
        "id": "9G5fVkO1B3gL",
        "outputId": "8d2ffb27-a4a4-4ab8-cc80-f0fd6da93676"
      },
      "source": [
        "# Get prediction probabalities\n",
        "pred_probs_model3 = model3.predict(val_char_dataset)\n",
        "# Get predictions\n",
        "preds_model3 = tf.argmax(pred_probs_model3, axis=1)\n",
        "preds_model3[:5]"
      ],
      "execution_count": 89,
      "outputs": [
        {
          "output_type": "execute_result",
          "data": {
            "text/plain": [
              "<tf.Tensor: shape=(5,), dtype=int64, numpy=array([1, 1, 1, 2, 2])>"
            ]
          },
          "metadata": {
            "tags": []
          },
          "execution_count": 89
        }
      ]
    },
    {
      "cell_type": "code",
      "metadata": {
        "colab": {
          "base_uri": "https://localhost:8080/"
        },
        "id": "mh3CxitZFvNl",
        "outputId": "2a0bdee7-aa02-41de-ce79-cbeb4b5ead8a"
      },
      "source": [
        "# Calculate metrics\n",
        "results_model3 = calculate_results(y_true=val_labels_encoded,\n",
        "                                   y_pred=preds_model3)\n",
        "results_model3"
      ],
      "execution_count": 90,
      "outputs": [
        {
          "output_type": "execute_result",
          "data": {
            "text/plain": [
              "{'accuracy': 0.6384218191447107,\n",
              " 'f1': 0.6255510123351958,\n",
              " 'precision': 0.6394079249745033,\n",
              " 'recall': 0.6384218191447107}"
            ]
          },
          "metadata": {
            "tags": []
          },
          "execution_count": 90
        }
      ]
    },
    {
      "cell_type": "code",
      "metadata": {
        "colab": {
          "base_uri": "https://localhost:8080/",
          "height": 173
        },
        "id": "LDJ_HjYHF8qI",
        "outputId": "c149f48f-dae1-4754-f14d-e89e894f32e9"
      },
      "source": [
        "# Add this to results df\n",
        "results_df[\"model3_conv_with_char_embed\"] = results_model3.values()\n",
        "results_df.T"
      ],
      "execution_count": 91,
      "outputs": [
        {
          "output_type": "execute_result",
          "data": {
            "application/vnd.google.colaboratory.module+javascript": "\n      import \"https://ssl.gstatic.com/colaboratory/data_table/a6224c040fa35dcf/data_table.js\";\n\n      window.createDataTable({\n        data: [[\"baseline\",\n{\n            'v': 0.7218323844829869,\n            'f': \"0.7218323844829869\",\n        },\n{\n            'v': 0.6989250353450294,\n            'f': \"0.6989250353450294\",\n        },\n{\n            'v': 0.7186466952323352,\n            'f': \"0.7186466952323352\",\n        },\n{\n            'v': 0.7218323844829869,\n            'f': \"0.7218323844829869\",\n        }],\n [\"model1_conv1d\",\n{\n            'v': 0.7574142724745134,\n            'f': \"0.7574142724745134\",\n        },\n{\n            'v': 0.7897339787380335,\n            'f': \"0.7897339787380335\",\n        },\n{\n            'v': 0.7574142724745134,\n            'f': \"0.7574142724745134\",\n        },\n{\n            'v': 0.7665896232581451,\n            'f': \"0.7665896232581451\",\n        }],\n [\"model2_use\",\n{\n            'v': 0.7140209188401959,\n            'f': \"0.7140209188401959\",\n        },\n{\n            'v': 0.7152861936728832,\n            'f': \"0.7152861936728832\",\n        },\n{\n            'v': 0.7140209188401959,\n            'f': \"0.7140209188401959\",\n        },\n{\n            'v': 0.7111600737912002,\n            'f': \"0.7111600737912002\",\n        }],\n [\"model3_conv_with_char_embed\",\n{\n            'v': 0.6384218191447107,\n            'f': \"0.6384218191447107\",\n        },\n{\n            'v': 0.6394079249745033,\n            'f': \"0.6394079249745033\",\n        },\n{\n            'v': 0.6384218191447107,\n            'f': \"0.6384218191447107\",\n        },\n{\n            'v': 0.6255510123351958,\n            'f': \"0.6255510123351958\",\n        }]],\n        columns: [[\"string\", \"index\"], [\"number\", \"accuracy\"], [\"number\", \"f1\"], [\"number\", \"precision\"], [\"number\", \"recall\"]],\n        columnOptions: [{\"width\": \"1px\", \"className\": \"index_column\"}],\n        rowsPerPage: 25,\n        helpUrl: \"https://colab.research.google.com/notebooks/data_table.ipynb\",\n        suppressOutputScrolling: true,\n        minimumWidth: undefined,\n      });\n    ",
            "text/html": [
              "<div>\n",
              "<style scoped>\n",
              "    .dataframe tbody tr th:only-of-type {\n",
              "        vertical-align: middle;\n",
              "    }\n",
              "\n",
              "    .dataframe tbody tr th {\n",
              "        vertical-align: top;\n",
              "    }\n",
              "\n",
              "    .dataframe thead th {\n",
              "        text-align: right;\n",
              "    }\n",
              "</style>\n",
              "<table border=\"1\" class=\"dataframe\">\n",
              "  <thead>\n",
              "    <tr style=\"text-align: right;\">\n",
              "      <th></th>\n",
              "      <th>accuracy</th>\n",
              "      <th>f1</th>\n",
              "      <th>precision</th>\n",
              "      <th>recall</th>\n",
              "    </tr>\n",
              "  </thead>\n",
              "  <tbody>\n",
              "    <tr>\n",
              "      <th>baseline</th>\n",
              "      <td>0.721832</td>\n",
              "      <td>0.698925</td>\n",
              "      <td>0.718647</td>\n",
              "      <td>0.721832</td>\n",
              "    </tr>\n",
              "    <tr>\n",
              "      <th>model1_conv1d</th>\n",
              "      <td>0.757414</td>\n",
              "      <td>0.789734</td>\n",
              "      <td>0.757414</td>\n",
              "      <td>0.766590</td>\n",
              "    </tr>\n",
              "    <tr>\n",
              "      <th>model2_use</th>\n",
              "      <td>0.714021</td>\n",
              "      <td>0.715286</td>\n",
              "      <td>0.714021</td>\n",
              "      <td>0.711160</td>\n",
              "    </tr>\n",
              "    <tr>\n",
              "      <th>model3_conv_with_char_embed</th>\n",
              "      <td>0.638422</td>\n",
              "      <td>0.639408</td>\n",
              "      <td>0.638422</td>\n",
              "      <td>0.625551</td>\n",
              "    </tr>\n",
              "  </tbody>\n",
              "</table>\n",
              "</div>"
            ],
            "text/plain": [
              "                             accuracy        f1  precision    recall\n",
              "baseline                     0.721832  0.698925   0.718647  0.721832\n",
              "model1_conv1d                0.757414  0.789734   0.757414  0.766590\n",
              "model2_use                   0.714021  0.715286   0.714021  0.711160\n",
              "model3_conv_with_char_embed  0.638422  0.639408   0.638422  0.625551"
            ]
          },
          "metadata": {
            "tags": []
          },
          "execution_count": 91
        }
      ]
    },
    {
      "cell_type": "code",
      "metadata": {
        "colab": {
          "base_uri": "https://localhost:8080/",
          "height": 431
        },
        "id": "EdPia8xWGOhO",
        "outputId": "8e5c776c-b302-464e-f527-38296e6de9fd"
      },
      "source": [
        "results_df.T.plot(kind=\"bar\").legend(bbox_to_anchor=(1.05, 1))"
      ],
      "execution_count": 92,
      "outputs": [
        {
          "output_type": "execute_result",
          "data": {
            "text/plain": [
              "<matplotlib.legend.Legend at 0x7f20e2430b90>"
            ]
          },
          "metadata": {
            "tags": []
          },
          "execution_count": 92
        },
        {
          "output_type": "display_data",
          "data": {
            "image/png": "[encoded data removed]",
            "text/plain": [
              "<Figure size 432x288 with 1 Axes>"
            ]
          },
          "metadata": {
            "tags": [],
            "needs_background": "light"
          }
        }
      ]
    },
    {
      "cell_type": "markdown",
      "metadata": {
        "id": "GOgbaxa-Jc6a"
      },
      "source": [
        "### Model 4: Pretrained token embedding plus character embeddings(hybrid embedding layer)\n",
        "\n",
        "\n",
        "1. Create a token-level embedding model(similar to `model_1`)\n",
        "2. Create a character-level model(similar to `model_3` with a slight modification)\n",
        "3. Combine 1 & 2 with a concatenate (`layers.concatenate`)\n",
        "4. build output layers on top of 3 similar to figure 1 and section 4.2 of the [paper](https://arxiv.org/pdf/1612.05251.pdf)\n",
        "5. Cosntruct a model which takes token and character-level sequences as inputs and produces sequence level probabalities as outputs"
      ]
    },
    {
      "cell_type": "markdown",
      "metadata": {
        "id": "ZH6MtE56EvXn"
      },
      "source": [
        "#### 4.1 Token level embeddding model"
      ]
    },
    {
      "cell_type": "code",
      "metadata": {
        "colab": {
          "base_uri": "https://localhost:8080/"
        },
        "id": "Xz4FBQkBFKpA",
        "outputId": "bd6dedde-a803-47d3-a948-f2106a926086"
      },
      "source": [
        "# Checkout the existing model summary\n",
        "model2.summary()"
      ],
      "execution_count": 93,
      "outputs": [
        {
          "output_type": "stream",
          "text": [
            "Model: \"sequential\"\n",
            "_________________________________________________________________\n",
            "Layer (type)                 Output Shape              Param #   \n",
            "=================================================================\n",
            "USE (KerasLayer)             (None, 512)               256797824 \n",
            "_________________________________________________________________\n",
            "dense_1 (Dense)              (None, 128)               65664     \n",
            "_________________________________________________________________\n",
            "dense_2 (Dense)              (None, 5)                 645       \n",
            "=================================================================\n",
            "Total params: 256,864,133\n",
            "Trainable params: 66,309\n",
            "Non-trainable params: 256,797,824\n",
            "_________________________________________________________________\n"
          ],
          "name": "stdout"
        }
      ]
    },
    {
      "cell_type": "code",
      "metadata": {
        "id": "thfVB_ZfFOVL"
      },
      "source": [
        "# We can clone the model2, pretrained weights will be retained and the weights of other layers will be resetted\n",
        "# But let's rewrite it for practice\n",
        "# Create another instance of universal sentence encoder from thub\n",
        "universal_sentence_encoder_41 = hub.KerasLayer(handle=\"https://tfhub.dev/google/universal-sentence-encoder/4\",\n",
        "                                               trainable=False,\n",
        "                                               input_shape=[],\n",
        "                                               dtype=tf.string)"
      ],
      "execution_count": 97,
      "outputs": []
    },
    {
      "cell_type": "code",
      "metadata": {
        "id": "aiVwvp0DGBSU"
      },
      "source": [
        "# Build the model\n",
        "model41_use = tf.keras.Sequential([\n",
        "      universal_sentence_encoder_41,\n",
        "      layers.Dense(128, activation=\"relu\"),\n",
        "      layers.Dense(5, activation=\"softmax\")\n",
        "], name=\"model41_token_use\")\n",
        "\n",
        "# Compile the model\n",
        "model41_use.compile(loss=tf.keras.losses.CategoricalCrossentropy(),\n",
        "                    optimizer=tf.keras.optimizers.Adam(),\n",
        "                    metrics=[\"accuracy\"])"
      ],
      "execution_count": 102,
      "outputs": []
    },
    {
      "cell_type": "markdown",
      "metadata": {
        "id": "UW8FvkshGNDO"
      },
      "source": [
        "#### 4.2 Character level model"
      ]
    },
    {
      "cell_type": "code",
      "metadata": {
        "colab": {
          "base_uri": "https://localhost:8080/"
        },
        "id": "IUy8m4yCHpwE",
        "outputId": "175e302d-a0c9-4bd1-b377-3e3f52b3ab37"
      },
      "source": [
        "# Checkout model3 summary\n",
        "model3.summary()"
      ],
      "execution_count": 103,
      "outputs": [
        {
          "output_type": "stream",
          "text": [
            "Model: \"model_1\"\n",
            "_________________________________________________________________\n",
            "Layer (type)                 Output Shape              Param #   \n",
            "=================================================================\n",
            "input_2 (InputLayer)         [(None, 1)]               0         \n",
            "_________________________________________________________________\n",
            "char_vectorizer (TextVectori (None, 290)               0         \n",
            "_________________________________________________________________\n",
            "char_embedding_layer (Embedd (None, 290, 25)           700       \n",
            "_________________________________________________________________\n",
            "conv1d_2 (Conv1D)            (None, 290, 64)           8064      \n",
            "_________________________________________________________________\n",
            "global_max_pooling1d_1 (Glob (None, 64)                0         \n",
            "_________________________________________________________________\n",
            "dropout_1 (Dropout)          (None, 64)                0         \n",
            "_________________________________________________________________\n",
            "dense_3 (Dense)              (None, 5)                 325       \n",
            "=================================================================\n",
            "Total params: 9,089\n",
            "Trainable params: 9,089\n",
            "Non-trainable params: 0\n",
            "_________________________________________________________________\n"
          ],
          "name": "stdout"
        }
      ]
    },
    {
      "cell_type": "code",
      "metadata": {
        "id": "C_OLbs22Hhy0"
      },
      "source": [
        "# Building the model\n",
        "inputs = layers.Input(shape=(1, ), dtype=tf.string)\n",
        "tokens = char_vectorizer(inputs)\n",
        "embeds = embedding_char(tokens)\n",
        "x = layers.Conv1D(filters=64, kernel_size=5, padding=\"same\", activation=\"relu\")(embeds)\n",
        "x = layers.GlobalMaxPool1D()(x)\n",
        "x = layers.Dropout(0.5)(x)\n",
        "outputs = layers.Dense(5, activation=\"softmax\")(x)\n",
        "\n",
        "modle42_char = tf.keras.Model(inputs=inputs,\n",
        "                              outputs=outputs,\n",
        "                              name=\"model41_chara_embed\")\n",
        "\n",
        "# Compile the model\n",
        "model42_char = "
      ],
      "execution_count": null,
      "outputs": []
    }
  ]
}