{
  "nbformat": 4,
  "nbformat_minor": 0,
  "metadata": {
    "accelerator": "GPU",
    "colab": {
      "name": "09_SkimLit_milestone_project.ipynb",
      "provenance": [],
      "collapsed_sections": [],
      "authorship_tag": "ABX9TyPYSEZh20PFrAIKYmRrhnjx",
      "include_colab_link": true
    },
    "kernelspec": {
      "display_name": "Python 3",
      "name": "python3"
    },
    "language_info": {
      "name": "python"
    }
  },
  "cells": [
    {
      "cell_type": "markdown",
      "metadata": {
        "id": "view-in-github",
        "colab_type": "text"
      },
      "source": [
        "<a href=\"https://colab.research.google.com/github/JpChii/ML-Projects/blob/main/09_SkimLit_milestone_project.ipynb\" target=\"_parent\"><img src=\"https://colab.research.google.com/assets/colab-badge.svg\" alt=\"Open In Colab\"/></a>"
      ]
    },
    {
      "cell_type": "code",
      "metadata": {
        "id": "TMqMIaALBXSI"
      },
      "source": [
        "# Setting up extensions\n",
        "%load_ext google.colab.data_table"
      ],
      "execution_count": 1,
      "outputs": []
    },
    {
      "cell_type": "markdown",
      "metadata": {
        "id": "M5BXMAATDfjK"
      },
      "source": [
        "# SkimLit\n",
        "\n",
        "In this project, we're going to replicate the deep learning model behind the 2017 paper [*PubMed 200k RCT: a Dataset for Sequenctial Sentence Classification in Medical Abstracts*](https://arxiv.org/abs/1710.06071).\n",
        "\n",
        "When it was release, the paper presented a new dataset called PubMed 200k RCT which consists of ~200,000 labelled RCT abstracts.\n",
        "\n",
        "The goal of the dataset was to explore the ability for NLP models to classify sentences which appear in sequential order.\n",
        "\n",
        "In other words, given the abstract of a RCT, what role does each sentence serve in the absrtract?\n",
        "\n",
        "*Example inputs ([harder to read abstract from PubMed](https://pubmed.ncbi.nlm.nih.gov/28942748/)) and outputs ([easier to read abstract](https://pubmed.ncbi.nlm.nih.gov/32537182/)) of the model we're going to build. The model will take an abstract wall of text and predict the section label each sentence should have.*  \n",
        "\n",
        "### Model Input\n",
        "\n",
        "For example, can we train an NLP model which takes the following input (note: the following sample has had all numerical symbols replaced with \"@\"):\n",
        "\n",
        "> To investigate the efficacy of @ weeks of daily low-dose oral prednisolone in improving pain , mobility , and systemic low-grade inflammation in the short term and whether the effect would be sustained at @ weeks in older adults with moderate to severe knee osteoarthritis ( OA ). A total of @ patients with primary knee OA were randomized @:@ ; @ received @ mg/day of prednisolone and @ received placebo for @ weeks. Outcome measures included pain reduction and improvement in function scores and systemic inflammation markers. Pain was assessed using the visual analog pain scale ( @-@ mm ).\n",
        "Secondary outcome measures included the Western Ontario and McMaster Universities Osteoarthritis Index scores , patient global assessment ( PGA ) of the severity of knee OA , and @-min walk distance ( @MWD ).,\n",
        "Serum levels of interleukin @ ( IL-@ ) , IL-@ , tumor necrosis factor ( TNF ) - , and high-sensitivity C-reactive protein ( hsCRP ) were measured.\n",
        "There was a clinically relevant reduction in the intervention group compared to the placebo group for knee pain , physical function , PGA , and @MWD at @ weeks. The mean difference between treatment arms ( @ % CI ) was @ ( @-@ @ ) , p < @ ; @ ( @-@ @ ) , p < @ ; @ ( @-@ @ ) , p < @ ; and @ ( @-@ @ ) , p < @ , respectively. Further , there was a clinically relevant reduction in the serum levels of IL-@ , IL-@ , TNF - , and hsCRP at @ weeks in the intervention group when compared to the placebo group. These differences remained significant at @ weeks. The Outcome Measures in Rheumatology Clinical Trials-Osteoarthritis Research Society International responder rate was @ % in the intervention group and @ % in the placebo group ( p < @ ). Low-dose oral prednisolone had both a short-term and a longer sustained effect resulting in less knee pain , better physical function , and attenuation of systemic inflammation in older patients with knee OA ( ClinicalTrials.gov identifier NCT@ ).\n",
        "\n",
        "### Model output\n",
        "\n",
        "And returns the following output:\n",
        "\n",
        "```\n",
        "['###24293578\\n',\n",
        " 'OBJECTIVE\\tTo investigate the efficacy of @ weeks of daily low-dose oral prednisolone in improving pain , mobility , and systemic low-grade inflammation in the short term and whether the effect would be sustained at @ weeks in older adults with moderate to severe knee osteoarthritis ( OA ) .\\n',\n",
        " 'METHODS\\tA total of @ patients with primary knee OA were randomized @:@ ; @ received @ mg/day of prednisolone and @ received placebo for @ weeks .\\n',\n",
        " 'METHODS\\tOutcome measures included pain reduction and improvement in function scores and systemic inflammation markers .\\n',\n",
        " 'METHODS\\tPain was assessed using the visual analog pain scale ( @-@ mm ) .\\n',\n",
        " 'METHODS\\tSecondary outcome measures included the Western Ontario and McMaster Universities Osteoarthritis Index scores , patient global assessment ( PGA ) of the severity of knee OA , and @-min walk distance ( @MWD ) .\\n',\n",
        " 'METHODS\\tSerum levels of interleukin @ ( IL-@ ) , IL-@ , tumor necrosis factor ( TNF ) - , and high-sensitivity C-reactive protein ( hsCRP ) were measured .\\n',\n",
        " 'RESULTS\\tThere was a clinically relevant reduction in the intervention group compared to the placebo group for knee pain , physical function , PGA , and @MWD at @ weeks .\\n',\n",
        " 'RESULTS\\tThe mean difference between treatment arms ( @ % CI ) was @ ( @-@ @ ) , p < @ ; @ ( @-@ @ ) , p < @ ; @ ( @-@ @ ) , p < @ ; and @ ( @-@ @ ) , p < @ , respectively .\\n',\n",
        " 'RESULTS\\tFurther , there was a clinically relevant reduction in the serum levels of IL-@ , IL-@ , TNF - , and hsCRP at @ weeks in the intervention group when compared to the placebo group .\\n',\n",
        " 'RESULTS\\tThese differences remained significant at @ weeks .\\n',\n",
        " 'RESULTS\\tThe Outcome Measures in Rheumatology Clinical Trials-Osteoarthritis Research Society International responder rate was @ % in the intervention group and @ % in the placebo group ( p < @ ) .\\n',\n",
        " 'CONCLUSIONS\\tLow-dose oral prednisolone had both a short-term and a longer sustained effect resulting in less knee pain , better physical function , and attenuation of systemic inflammation in older patients with knee OA ( ClinicalTrials.gov identifier NCT@ ) .\\n',\n",
        " '\\n']\n",
        " ```\n"
      ]
    },
    {
      "cell_type": "markdown",
      "metadata": {
        "id": "mcguLJbN9IbY"
      },
      "source": [
        "### Problem in a sentence\n",
        "\n",
        "The number of RCT papers release is continuing to increase, those without structured abstracts can be hard to read and in turn slow down the researchers moving theough the literature.\n",
        "\n",
        "### Solution in a sentence\n",
        "\n",
        "Create an NLP mode to classify abstract sentences into the role they play (e.g. objective, methods, results, etc) to enable researches to skim through the literature.\n",
        "\n",
        "> Papers to read before code:\n",
        "\n",
        "1. Where our data is coming from: [*PubMed 200k RCT: a Dataset for Sequential Sentence Classification in Medical Abstracts*](https://arxiv.org/abs/1710.06071)\n",
        "2. Where our model is coming from: [*Neural networks for joint sentence\n",
        "classification in medical paper abstracts*](https://arxiv.org/pdf/1612.05251.pdf)."
      ]
    },
    {
      "cell_type": "markdown",
      "metadata": {
        "id": "OBxFUMNP96D5"
      },
      "source": [
        "## What is going to be covered(broadly)?\n",
        "\n",
        "* Downloading the dataset\n",
        "* Writing a preprocessinf function for our text data\n",
        "* Setting up multiple modelling experiments with different levels of embeddings\n",
        "* Building a multinominal model to take in different sources of data\n",
        "* Replicating the model from above paper\n",
        "* Finding the most wrong predictions"
      ]
    },
    {
      "cell_type": "markdown",
      "metadata": {
        "id": "bOHIF7_XukR6"
      },
      "source": [
        "## Confirm GPU access"
      ]
    },
    {
      "cell_type": "code",
      "metadata": {
        "colab": {
          "base_uri": "https://localhost:8080/"
        },
        "id": "oXuZAKyD01wW",
        "outputId": "5e297966-7b29-4fbe-a18a-4fc94b5697d3"
      },
      "source": [
        "!nvidia-smi -L"
      ],
      "execution_count": 2,
      "outputs": [
        {
          "output_type": "stream",
          "text": [
            "GPU 0: Tesla T4 (UUID: GPU-c6f36ff3-7416-0cd7-dfdb-24dc512bdf23)\n"
          ],
          "name": "stdout"
        }
      ]
    },
    {
      "cell_type": "markdown",
      "metadata": {
        "id": "8Y8YHCu9021K"
      },
      "source": [
        "## Get the data\n",
        "\n",
        "Since we're replicating PubMed 200k paper, let's download the dataset they've used.\n",
        "\n",
        "The github location of the data is shared in the paper [Data Github](https://github.com/Franck-Dernoncourt/pubmed-rct)"
      ]
    },
    {
      "cell_type": "code",
      "metadata": {
        "colab": {
          "base_uri": "https://localhost:8080/"
        },
        "id": "g-qWwbfW1aGh",
        "outputId": "16bb0fcc-cfff-4dbf-bf58-86a1bee4e549"
      },
      "source": [
        "!git clone https://github.com/Franck-Dernoncourt/pubmed-rct.git"
      ],
      "execution_count": 3,
      "outputs": [
        {
          "output_type": "stream",
          "text": [
            "Cloning into 'pubmed-rct'...\n",
            "remote: Enumerating objects: 30, done.\u001b[K\n",
            "remote: Total 30 (delta 0), reused 0 (delta 0), pack-reused 30\u001b[K\n",
            "Unpacking objects: 100% (30/30), done.\n"
          ],
          "name": "stdout"
        }
      ]
    },
    {
      "cell_type": "code",
      "metadata": {
        "colab": {
          "base_uri": "https://localhost:8080/"
        },
        "id": "MRSU3FZs190J",
        "outputId": "6e6dc656-353f-4e52-eaec-8247992d54b0"
      },
      "source": [
        "!ls /content/pubmed-rct"
      ],
      "execution_count": 4,
      "outputs": [
        {
          "output_type": "stream",
          "text": [
            "PubMed_200k_RCT\n",
            "PubMed_200k_RCT_numbers_replaced_with_at_sign\n",
            "PubMed_20k_RCT\n",
            "PubMed_20k_RCT_numbers_replaced_with_at_sign\n",
            "README.md\n"
          ],
          "name": "stdout"
        }
      ]
    },
    {
      "cell_type": "markdown",
      "metadata": {
        "id": "T5vtcB-12Hyq"
      },
      "source": [
        "Great, as machine learning practionier, it's good to start small and go big. And the authors have done this for us and have created a seperate 20K RCT."
      ]
    },
    {
      "cell_type": "code",
      "metadata": {
        "colab": {
          "base_uri": "https://localhost:8080/"
        },
        "id": "9_OvZ7082SeB",
        "outputId": "7befeeaf-3589-4ad1-9358-2c54c632059d"
      },
      "source": [
        "!ls /content/pubmed-rct/PubMed_20k_RCT_numbers_replaced_with_at_sign/"
      ],
      "execution_count": 5,
      "outputs": [
        {
          "output_type": "stream",
          "text": [
            "dev.txt  test.txt  train.txt\n"
          ],
          "name": "stdout"
        }
      ]
    },
    {
      "cell_type": "markdown",
      "metadata": {
        "id": "hX4ZrR8r2VQA"
      },
      "source": [
        "There are three text files,\n",
        "\n",
        "* train\n",
        "* test\n",
        "* dev(val)\n",
        "\n",
        "The data is already split into train, test, val sets."
      ]
    },
    {
      "cell_type": "code",
      "metadata": {
        "id": "aF0-KD0N2uzm"
      },
      "source": [
        "# Start our experiments using the 20k dataset with numbers replaced by \"@\" sign\n",
        "data_dir = \"/content/pubmed-rct/PubMed_20k_RCT_numbers_replaced_with_at_sign/\""
      ],
      "execution_count": 6,
      "outputs": []
    },
    {
      "cell_type": "code",
      "metadata": {
        "colab": {
          "base_uri": "https://localhost:8080/"
        },
        "id": "i_FS0zyl3ipI",
        "outputId": "c0b6e1ef-33fa-41d8-9715-76a4f1f84fdc"
      },
      "source": [
        "# Check all the filenames in the target directory\n",
        "import os\n",
        "filenames = [data_dir + filename for filename in os.listdir(data_dir)]\n",
        "filenames"
      ],
      "execution_count": 7,
      "outputs": [
        {
          "output_type": "execute_result",
          "data": {
            "text/plain": [
              "['/content/pubmed-rct/PubMed_20k_RCT_numbers_replaced_with_at_sign/train.txt',\n",
              " '/content/pubmed-rct/PubMed_20k_RCT_numbers_replaced_with_at_sign/test.txt',\n",
              " '/content/pubmed-rct/PubMed_20k_RCT_numbers_replaced_with_at_sign/dev.txt']"
            ]
          },
          "metadata": {
            "tags": []
          },
          "execution_count": 7
        }
      ]
    },
    {
      "cell_type": "markdown",
      "metadata": {
        "id": "KUabydUn3t7E"
      },
      "source": [
        "The data is really well formatted, but it's still not ready to be passed into the model. Preprocessing will be done after getting one with the data.\n",
        "\n",
        "## Getting one with the data(visualize examples from dataset)\n",
        "\n",
        "Let's write a function to read all of the lines of a target text file,\n",
        "\n",
        "[Checkout the real python document for file realted activities](https://realpython.com/read-write-files-python/)"
      ]
    },
    {
      "cell_type": "code",
      "metadata": {
        "id": "nMe83ooN4Faf"
      },
      "source": [
        "# Create a function to read the lines of a document\n",
        "def get_lines(filename):\n",
        "  \"\"\"\n",
        "  Reads a filename (text filename) and returns the lines of text as a list.\n",
        "  Args:\n",
        "    filename: a string containing the target filepath\n",
        "  Returns:\n",
        "    A lsit of strings with one string per line from target filename\n",
        "  \"\"\"\n",
        "\n",
        "  with open(filename, \"r\") as f:\n",
        "    return f.readlines()"
      ],
      "execution_count": 8,
      "outputs": []
    },
    {
      "cell_type": "code",
      "metadata": {
        "colab": {
          "base_uri": "https://localhost:8080/"
        },
        "id": "E_XKDbgK8Cwd",
        "outputId": "aaec5fe5-eb37-4617-cb22-eb5671ed434f"
      },
      "source": [
        "# Let's read in the training lines\n",
        "train_lines = get_lines(data_dir + \"train.txt\")\n",
        "train_lines[:30]"
      ],
      "execution_count": 9,
      "outputs": [
        {
          "output_type": "execute_result",
          "data": {
            "text/plain": [
              "['###24293578\\n',\n",
              " 'OBJECTIVE\\tTo investigate the efficacy of @ weeks of daily low-dose oral prednisolone in improving pain , mobility , and systemic low-grade inflammation in the short term and whether the effect would be sustained at @ weeks in older adults with moderate to severe knee osteoarthritis ( OA ) .\\n',\n",
              " 'METHODS\\tA total of @ patients with primary knee OA were randomized @:@ ; @ received @ mg/day of prednisolone and @ received placebo for @ weeks .\\n',\n",
              " 'METHODS\\tOutcome measures included pain reduction and improvement in function scores and systemic inflammation markers .\\n',\n",
              " 'METHODS\\tPain was assessed using the visual analog pain scale ( @-@ mm ) .\\n',\n",
              " 'METHODS\\tSecondary outcome measures included the Western Ontario and McMaster Universities Osteoarthritis Index scores , patient global assessment ( PGA ) of the severity of knee OA , and @-min walk distance ( @MWD ) .\\n',\n",
              " 'METHODS\\tSerum levels of interleukin @ ( IL-@ ) , IL-@ , tumor necrosis factor ( TNF ) - , and high-sensitivity C-reactive protein ( hsCRP ) were measured .\\n',\n",
              " 'RESULTS\\tThere was a clinically relevant reduction in the intervention group compared to the placebo group for knee pain , physical function , PGA , and @MWD at @ weeks .\\n',\n",
              " 'RESULTS\\tThe mean difference between treatment arms ( @ % CI ) was @ ( @-@ @ ) , p < @ ; @ ( @-@ @ ) , p < @ ; @ ( @-@ @ ) , p < @ ; and @ ( @-@ @ ) , p < @ , respectively .\\n',\n",
              " 'RESULTS\\tFurther , there was a clinically relevant reduction in the serum levels of IL-@ , IL-@ , TNF - , and hsCRP at @ weeks in the intervention group when compared to the placebo group .\\n',\n",
              " 'RESULTS\\tThese differences remained significant at @ weeks .\\n',\n",
              " 'RESULTS\\tThe Outcome Measures in Rheumatology Clinical Trials-Osteoarthritis Research Society International responder rate was @ % in the intervention group and @ % in the placebo group ( p < @ ) .\\n',\n",
              " 'CONCLUSIONS\\tLow-dose oral prednisolone had both a short-term and a longer sustained effect resulting in less knee pain , better physical function , and attenuation of systemic inflammation in older patients with knee OA ( ClinicalTrials.gov identifier NCT@ ) .\\n',\n",
              " '\\n',\n",
              " '###24854809\\n',\n",
              " 'BACKGROUND\\tEmotional eating is associated with overeating and the development of obesity .\\n',\n",
              " 'BACKGROUND\\tYet , empirical evidence for individual ( trait ) differences in emotional eating and cognitive mechanisms that contribute to eating during sad mood remain equivocal .\\n',\n",
              " 'OBJECTIVE\\tThe aim of this study was to test if attention bias for food moderates the effect of self-reported emotional eating during sad mood ( vs neutral mood ) on actual food intake .\\n',\n",
              " 'OBJECTIVE\\tIt was expected that emotional eating is predictive of elevated attention for food and higher food intake after an experimentally induced sad mood and that attentional maintenance on food predicts food intake during a sad versus a neutral mood .\\n',\n",
              " 'METHODS\\tParticipants ( N = @ ) were randomly assigned to one of the two experimental mood induction conditions ( sad/neutral ) .\\n',\n",
              " 'METHODS\\tAttentional biases for high caloric foods were measured by eye tracking during a visual probe task with pictorial food and neutral stimuli .\\n',\n",
              " 'METHODS\\tSelf-reported emotional eating was assessed with the Dutch Eating Behavior Questionnaire ( DEBQ ) and ad libitum food intake was tested by a disguised food offer .\\n',\n",
              " 'RESULTS\\tHierarchical multivariate regression modeling showed that self-reported emotional eating did not account for changes in attention allocation for food or food intake in either condition .\\n',\n",
              " 'RESULTS\\tYet , attention maintenance on food cues was significantly related to increased intake specifically in the neutral condition , but not in the sad mood condition .\\n',\n",
              " 'CONCLUSIONS\\tThe current findings show that self-reported emotional eating ( based on the DEBQ ) might not validly predict who overeats when sad , at least not in a laboratory setting with healthy women .\\n',\n",
              " 'CONCLUSIONS\\tResults further suggest that attention maintenance on food relates to eating motivation when in a neutral affective state , and might therefore be a cognitive mechanism contributing to increased food intake in general , but maybe not during sad mood .\\n',\n",
              " '\\n',\n",
              " '###25165090\\n',\n",
              " 'BACKGROUND\\tAlthough working smoke alarms halve deaths in residential fires , many households do not keep alarms operational .\\n',\n",
              " 'BACKGROUND\\tWe tested whether theory-based education increases alarm operability .\\n']"
            ]
          },
          "metadata": {
            "tags": []
          },
          "execution_count": 9
        }
      ]
    },
    {
      "cell_type": "markdown",
      "metadata": {
        "id": "pQFUZ5E_8S3M"
      },
      "source": [
        "### Preprocessing data\n",
        "\n",
        "Each document starts with ###uniquenumber and ends with `\\n`.\n",
        "\n",
        "The label and sequence is seperated by `\\t`.\n",
        "\n",
        "The data is read via python but it still needs some preprocessing.\n",
        "\n",
        "Let's write out how we want the data to look...\n",
        "\n",
        "```\n",
        "[{'line_number': 0,\n",
        "  'target': 'label',\n",
        "  'text': 'Single Sequence',\n",
        "  'total_lines': Total Sequences count},....]\n",
        "```"
      ]
    },
    {
      "cell_type": "code",
      "metadata": {
        "id": "etHeGNI68_ba"
      },
      "source": [
        "def preprocess_text_with_line_numbers(filename):\n",
        "  \"\"\"\n",
        "  Return a list of dictionaries of abstract line data.\n",
        "\n",
        "  Takes in filename, reads it contents and sorts through each line,\n",
        "  extracting label, sequence, how many sentences are in current abstract.\n",
        "  \"\"\"\n",
        "\n",
        "  # Get all lines into a list\n",
        "  input_lines = get_lines(filename)\n",
        "  # Create an empty abstract\n",
        "  abstract_lines = \"\"\n",
        "  # Create an empty list of abstracts\n",
        "  abstract_samples = []\n",
        "\n",
        "  # Loop through each line in the target file\n",
        "  for line in input_lines:\n",
        "\n",
        "    # Check if the line is ID line\n",
        "    if line.startswith(\"###\"):\n",
        "      abstract_id = line\n",
        "      abstract_lines = \"\" # reset the abstract string ig the line is an ID line\n",
        "    elif line.isspace(): # Check to see if line is a new line\n",
        "      abstract_line_split = abstract_lines.splitlines() # split abstract into seperate lines\n",
        "\n",
        "      # Iterate through each line in a single abstracr and count them at the same line\n",
        "      for abstract_line_number, abstract_line in enumerate(abstract_line_split):\n",
        "        line_data = {} # Create empty dictionary for each line\n",
        "        target_text_split = abstract_line.split(\"\\t\") # Split target label from text\n",
        "        line_data[\"target\"] = target_text_split[0]\n",
        "        line_data[\"text\"] = target_text_split[1].lower() # Get target text and lower it\n",
        "        line_data[\"line_number\"] = abstract_line_number\n",
        "        line_data[\"total_lines\"] = len(abstract_line_split) -1\n",
        "        abstract_samples.append(line_data) \n",
        "\n",
        "    else: # If the above conditions aren't fullfilled, the line contains a labelled sentence\n",
        "      abstract_lines += line\n",
        "\n",
        "  return abstract_samples"
      ],
      "execution_count": 10,
      "outputs": []
    },
    {
      "cell_type": "code",
      "metadata": {
        "colab": {
          "base_uri": "https://localhost:8080/"
        },
        "id": "5MTPI-X1A5u2",
        "outputId": "ade57f98-2d27-44ca-a0d6-b698c3d23443"
      },
      "source": [
        "%%time\n",
        "train_samples = preprocess_text_with_line_numbers(data_dir+\"train.txt\")\n",
        "val_samples = preprocess_text_with_line_numbers(data_dir+\"dev.txt\")\n",
        "test_samples = preprocess_text_with_line_numbers(data_dir+\"test.txt\")"
      ],
      "execution_count": 11,
      "outputs": [
        {
          "output_type": "stream",
          "text": [
            "CPU times: user 418 ms, sys: 96.2 ms, total: 515 ms\n",
            "Wall time: 518 ms\n"
          ],
          "name": "stdout"
        }
      ]
    },
    {
      "cell_type": "code",
      "metadata": {
        "colab": {
          "base_uri": "https://localhost:8080/"
        },
        "id": "JudWyZBiHTzW",
        "outputId": "7b30c39e-cb3f-4db0-83e1-2887302ba3f1"
      },
      "source": [
        "train_samples[:12]"
      ],
      "execution_count": 12,
      "outputs": [
        {
          "output_type": "execute_result",
          "data": {
            "text/plain": [
              "[{'line_number': 0,\n",
              "  'target': 'OBJECTIVE',\n",
              "  'text': 'to investigate the efficacy of @ weeks of daily low-dose oral prednisolone in improving pain , mobility , and systemic low-grade inflammation in the short term and whether the effect would be sustained at @ weeks in older adults with moderate to severe knee osteoarthritis ( oa ) .',\n",
              "  'total_lines': 11},\n",
              " {'line_number': 1,\n",
              "  'target': 'METHODS',\n",
              "  'text': 'a total of @ patients with primary knee oa were randomized @:@ ; @ received @ mg/day of prednisolone and @ received placebo for @ weeks .',\n",
              "  'total_lines': 11},\n",
              " {'line_number': 2,\n",
              "  'target': 'METHODS',\n",
              "  'text': 'outcome measures included pain reduction and improvement in function scores and systemic inflammation markers .',\n",
              "  'total_lines': 11},\n",
              " {'line_number': 3,\n",
              "  'target': 'METHODS',\n",
              "  'text': 'pain was assessed using the visual analog pain scale ( @-@ mm ) .',\n",
              "  'total_lines': 11},\n",
              " {'line_number': 4,\n",
              "  'target': 'METHODS',\n",
              "  'text': 'secondary outcome measures included the western ontario and mcmaster universities osteoarthritis index scores , patient global assessment ( pga ) of the severity of knee oa , and @-min walk distance ( @mwd ) .',\n",
              "  'total_lines': 11},\n",
              " {'line_number': 5,\n",
              "  'target': 'METHODS',\n",
              "  'text': 'serum levels of interleukin @ ( il-@ ) , il-@ , tumor necrosis factor ( tnf ) - , and high-sensitivity c-reactive protein ( hscrp ) were measured .',\n",
              "  'total_lines': 11},\n",
              " {'line_number': 6,\n",
              "  'target': 'RESULTS',\n",
              "  'text': 'there was a clinically relevant reduction in the intervention group compared to the placebo group for knee pain , physical function , pga , and @mwd at @ weeks .',\n",
              "  'total_lines': 11},\n",
              " {'line_number': 7,\n",
              "  'target': 'RESULTS',\n",
              "  'text': 'the mean difference between treatment arms ( @ % ci ) was @ ( @-@ @ ) , p < @ ; @ ( @-@ @ ) , p < @ ; @ ( @-@ @ ) , p < @ ; and @ ( @-@ @ ) , p < @ , respectively .',\n",
              "  'total_lines': 11},\n",
              " {'line_number': 8,\n",
              "  'target': 'RESULTS',\n",
              "  'text': 'further , there was a clinically relevant reduction in the serum levels of il-@ , il-@ , tnf - , and hscrp at @ weeks in the intervention group when compared to the placebo group .',\n",
              "  'total_lines': 11},\n",
              " {'line_number': 9,\n",
              "  'target': 'RESULTS',\n",
              "  'text': 'these differences remained significant at @ weeks .',\n",
              "  'total_lines': 11},\n",
              " {'line_number': 10,\n",
              "  'target': 'RESULTS',\n",
              "  'text': 'the outcome measures in rheumatology clinical trials-osteoarthritis research society international responder rate was @ % in the intervention group and @ % in the placebo group ( p < @ ) .',\n",
              "  'total_lines': 11},\n",
              " {'line_number': 11,\n",
              "  'target': 'CONCLUSIONS',\n",
              "  'text': 'low-dose oral prednisolone had both a short-term and a longer sustained effect resulting in less knee pain , better physical function , and attenuation of systemic inflammation in older patients with knee oa ( clinicaltrials.gov identifier nct@ ) .',\n",
              "  'total_lines': 11}]"
            ]
          },
          "metadata": {
            "tags": []
          },
          "execution_count": 12
        }
      ]
    },
    {
      "cell_type": "code",
      "metadata": {
        "colab": {
          "base_uri": "https://localhost:8080/"
        },
        "id": "JVzlNjkDHc1H",
        "outputId": "49c19a1a-7c56-49ee-bdbd-29d1e07e45bd"
      },
      "source": [
        "len(train_samples), len(val_samples), len(test_samples)"
      ],
      "execution_count": 13,
      "outputs": [
        {
          "output_type": "execute_result",
          "data": {
            "text/plain": [
              "(180040, 30212, 30135)"
            ]
          },
          "metadata": {
            "tags": []
          },
          "execution_count": 13
        }
      ]
    },
    {
      "cell_type": "markdown",
      "metadata": {
        "id": "IFwreQnROMak"
      },
      "source": [
        "Uncomment and run the below cell to understand the preprocessing function better."
      ]
    },
    {
      "cell_type": "code",
      "metadata": {
        "id": "SHP5knsrJATV"
      },
      "source": [
        "# # Get all lines into a list\n",
        "# input_lines = get_lines(data_dir + \"train.txt\")\n",
        "# # Create an empty abstract\n",
        "# abstract_lines = \"\"\n",
        "# # Create an empty list of abstracts\n",
        "# abstract_samples = []\n",
        "\n",
        "#   # Loop through each line in the target file\n",
        "# for line in input_lines:\n",
        "\n",
        "#     print(f\"line: {line}\")\n",
        "\n",
        "#     # Check if the line is ID line\n",
        "#     if line.startswith(\"###\"):\n",
        "#       abstract_id = line\n",
        "#       print(f\"Id: {abstract_id}\")\n",
        "#       abstract_lines = \"\" # reset the abstract string ig the line is an ID line\n",
        "#     elif line.isspace(): # Check to see if line is a new line\n",
        "#       print(f\"Line after isspace check: {line}\")\n",
        "#       print(line.isspace())\n",
        "#       abstract_line_split = abstract_lines.splitlines() # split abstract into seperate lines\n",
        "#       print(f\"abstract_line_split: {abstract_line_split}\")\n",
        "#       # Iterate through each line in a single abstracr and count them at the same line\n",
        "#       for abstract_line_number, abstract_line in enumerate(abstract_line_split):\n",
        "#         print(f\"abstract_line_number: {abstract_line_number}, abstract_line: {abstract_line}\")\n",
        "#         line_data = {} # Create empty dictionary for each line\n",
        "#         target_text_split = abstract_line.split(\"\\t\") # Split target label from text\n",
        "#         line_data[\"target\"] = target_text_split[0]\n",
        "#         line_data[\"text\"] = target_text_split[1].lower() # Get target text and lower it\n",
        "#         line_data[\"line_number\"] = abstract_line_number\n",
        "#         line_data[\"total_lines\"] = len(abstract_line_split) -1\n",
        "#         abstract_samples.append(line_data) \n",
        "\n",
        "#     else: # If the above conditions aren't fullfilled, the line contains a labelled sentence\n",
        "#       abstract_lines += line\n",
        "#       print(f\"Else condition abstract_lines: {abstract_lines}\")\n",
        "\n",
        "#     if line == \"\\n\":\n",
        "#       break"
      ],
      "execution_count": 14,
      "outputs": []
    },
    {
      "cell_type": "markdown",
      "metadata": {
        "id": "c0-d7_SNL1uW"
      },
      "source": [
        "### Visualizing preprocessed data\n",
        "\n",
        "Now the data is in the format of a list of dictionaries, how about we turn into a datafram to further visualizing the data."
      ]
    },
    {
      "cell_type": "code",
      "metadata": {
        "colab": {
          "base_uri": "https://localhost:8080/",
          "height": 879
        },
        "id": "Xmfnzwb1SNiu",
        "outputId": "0a626f66-3d51-4f25-cee1-12a61bc36537"
      },
      "source": [
        "import pandas as pd\n",
        "train_df = pd.DataFrame(train_samples)\n",
        "val_df = pd.DataFrame(val_samples)\n",
        "test_df = pd.DataFrame(test_samples)\n",
        "\n",
        "train_df[:50]"
      ],
      "execution_count": 15,
      "outputs": [
        {
          "output_type": "execute_result",
          "data": {
            "application/vnd.google.colaboratory.module+javascript": "\n      import \"https://ssl.gstatic.com/colaboratory/data_table/a6224c040fa35dcf/data_table.js\";\n\n      window.createDataTable({\n        data: [[{\n            'v': 0,\n            'f': \"0\",\n        },\n\"OBJECTIVE\",\n\"to investigate the efficacy of @ weeks of daily low-dose oral prednisolone in improving pain , mobility , and systemic low-grade inflammation in the short term and whether the effect would be sustained at @ weeks in older adults with moderate to severe knee osteoarthritis ( oa ) .\",\n{\n            'v': 0,\n            'f': \"0\",\n        },\n{\n            'v': 11,\n            'f': \"11\",\n        }],\n [{\n            'v': 1,\n            'f': \"1\",\n        },\n\"METHODS\",\n\"a total of @ patients with primary knee oa were randomized @:@ ; @ received @ mg/day of prednisolone and @ received placebo for @ weeks .\",\n{\n            'v': 1,\n            'f': \"1\",\n        },\n{\n            'v': 11,\n            'f': \"11\",\n        }],\n [{\n            'v': 2,\n            'f': \"2\",\n        },\n\"METHODS\",\n\"outcome measures included pain reduction and improvement in function scores and systemic inflammation markers .\",\n{\n            'v': 2,\n            'f': \"2\",\n        },\n{\n            'v': 11,\n            'f': \"11\",\n        }],\n [{\n            'v': 3,\n            'f': \"3\",\n        },\n\"METHODS\",\n\"pain was assessed using the visual analog pain scale ( @-@ mm ) .\",\n{\n            'v': 3,\n            'f': \"3\",\n        },\n{\n            'v': 11,\n            'f': \"11\",\n        }],\n [{\n            'v': 4,\n            'f': \"4\",\n        },\n\"METHODS\",\n\"secondary outcome measures included the western ontario and mcmaster universities osteoarthritis index scores , patient global assessment ( pga ) of the severity of knee oa , and @-min walk distance ( @mwd ) .\",\n{\n            'v': 4,\n            'f': \"4\",\n        },\n{\n            'v': 11,\n            'f': \"11\",\n        }],\n [{\n            'v': 5,\n            'f': \"5\",\n        },\n\"METHODS\",\n\"serum levels of interleukin @ ( il-@ ) , il-@ , tumor necrosis factor ( tnf ) - , and high-sensitivity c-reactive protein ( hscrp ) were measured .\",\n{\n            'v': 5,\n            'f': \"5\",\n        },\n{\n            'v': 11,\n            'f': \"11\",\n        }],\n [{\n            'v': 6,\n            'f': \"6\",\n        },\n\"RESULTS\",\n\"there was a clinically relevant reduction in the intervention group compared to the placebo group for knee pain , physical function , pga , and @mwd at @ weeks .\",\n{\n            'v': 6,\n            'f': \"6\",\n        },\n{\n            'v': 11,\n            'f': \"11\",\n        }],\n [{\n            'v': 7,\n            'f': \"7\",\n        },\n\"RESULTS\",\n\"the mean difference between treatment arms ( @ % ci ) was @ ( @-@ @ ) , p < @ ; @ ( @-@ @ ) , p < @ ; @ ( @-@ @ ) , p < @ ; and @ ( @-@ @ ) , p < @ , respectively .\",\n{\n            'v': 7,\n            'f': \"7\",\n        },\n{\n            'v': 11,\n            'f': \"11\",\n        }],\n [{\n            'v': 8,\n            'f': \"8\",\n        },\n\"RESULTS\",\n\"further , there was a clinically relevant reduction in the serum levels of il-@ , il-@ , tnf - , and hscrp at @ weeks in the intervention group when compared to the placebo group .\",\n{\n            'v': 8,\n            'f': \"8\",\n        },\n{\n            'v': 11,\n            'f': \"11\",\n        }],\n [{\n            'v': 9,\n            'f': \"9\",\n        },\n\"RESULTS\",\n\"these differences remained significant at @ weeks .\",\n{\n            'v': 9,\n            'f': \"9\",\n        },\n{\n            'v': 11,\n            'f': \"11\",\n        }],\n [{\n            'v': 10,\n            'f': \"10\",\n        },\n\"RESULTS\",\n\"the outcome measures in rheumatology clinical trials-osteoarthritis research society international responder rate was @ % in the intervention group and @ % in the placebo group ( p < @ ) .\",\n{\n            'v': 10,\n            'f': \"10\",\n        },\n{\n            'v': 11,\n            'f': \"11\",\n        }],\n [{\n            'v': 11,\n            'f': \"11\",\n        },\n\"CONCLUSIONS\",\n\"low-dose oral prednisolone had both a short-term and a longer sustained effect resulting in less knee pain , better physical function , and attenuation of systemic inflammation in older patients with knee oa ( clinicaltrials.gov identifier nct@ ) .\",\n{\n            'v': 11,\n            'f': \"11\",\n        },\n{\n            'v': 11,\n            'f': \"11\",\n        }],\n [{\n            'v': 12,\n            'f': \"12\",\n        },\n\"BACKGROUND\",\n\"emotional eating is associated with overeating and the development of obesity .\",\n{\n            'v': 0,\n            'f': \"0\",\n        },\n{\n            'v': 10,\n            'f': \"10\",\n        }],\n [{\n            'v': 13,\n            'f': \"13\",\n        },\n\"BACKGROUND\",\n\"yet , empirical evidence for individual ( trait ) differences in emotional eating and cognitive mechanisms that contribute to eating during sad mood remain equivocal .\",\n{\n            'v': 1,\n            'f': \"1\",\n        },\n{\n            'v': 10,\n            'f': \"10\",\n        }],\n [{\n            'v': 14,\n            'f': \"14\",\n        },\n\"OBJECTIVE\",\n\"the aim of this study was to test if attention bias for food moderates the effect of self-reported emotional eating during sad mood ( vs neutral mood ) on actual food intake .\",\n{\n            'v': 2,\n            'f': \"2\",\n        },\n{\n            'v': 10,\n            'f': \"10\",\n        }],\n [{\n            'v': 15,\n            'f': \"15\",\n        },\n\"OBJECTIVE\",\n\"it was expected that emotional eating is predictive of elevated attention for food and higher food intake after an experimentally induced sad mood and that attentional maintenance on food predicts food intake during a sad versus a neutral mood .\",\n{\n            'v': 3,\n            'f': \"3\",\n        },\n{\n            'v': 10,\n            'f': \"10\",\n        }],\n [{\n            'v': 16,\n            'f': \"16\",\n        },\n\"METHODS\",\n\"participants ( n = @ ) were randomly assigned to one of the two experimental mood induction conditions ( sad/neutral ) .\",\n{\n            'v': 4,\n            'f': \"4\",\n        },\n{\n            'v': 10,\n            'f': \"10\",\n        }],\n [{\n            'v': 17,\n            'f': \"17\",\n        },\n\"METHODS\",\n\"attentional biases for high caloric foods were measured by eye tracking during a visual probe task with pictorial food and neutral stimuli .\",\n{\n            'v': 5,\n            'f': \"5\",\n        },\n{\n            'v': 10,\n            'f': \"10\",\n        }],\n [{\n            'v': 18,\n            'f': \"18\",\n        },\n\"METHODS\",\n\"self-reported emotional eating was assessed with the dutch eating behavior questionnaire ( debq ) and ad libitum food intake was tested by a disguised food offer .\",\n{\n            'v': 6,\n            'f': \"6\",\n        },\n{\n            'v': 10,\n            'f': \"10\",\n        }],\n [{\n            'v': 19,\n            'f': \"19\",\n        },\n\"RESULTS\",\n\"hierarchical multivariate regression modeling showed that self-reported emotional eating did not account for changes in attention allocation for food or food intake in either condition .\",\n{\n            'v': 7,\n            'f': \"7\",\n        },\n{\n            'v': 10,\n            'f': \"10\",\n        }],\n [{\n            'v': 20,\n            'f': \"20\",\n        },\n\"RESULTS\",\n\"yet , attention maintenance on food cues was significantly related to increased intake specifically in the neutral condition , but not in the sad mood condition .\",\n{\n            'v': 8,\n            'f': \"8\",\n        },\n{\n            'v': 10,\n            'f': \"10\",\n        }],\n [{\n            'v': 21,\n            'f': \"21\",\n        },\n\"CONCLUSIONS\",\n\"the current findings show that self-reported emotional eating ( based on the debq ) might not validly predict who overeats when sad , at least not in a laboratory setting with healthy women .\",\n{\n            'v': 9,\n            'f': \"9\",\n        },\n{\n            'v': 10,\n            'f': \"10\",\n        }],\n [{\n            'v': 22,\n            'f': \"22\",\n        },\n\"CONCLUSIONS\",\n\"results further suggest that attention maintenance on food relates to eating motivation when in a neutral affective state , and might therefore be a cognitive mechanism contributing to increased food intake in general , but maybe not during sad mood .\",\n{\n            'v': 10,\n            'f': \"10\",\n        },\n{\n            'v': 10,\n            'f': \"10\",\n        }],\n [{\n            'v': 23,\n            'f': \"23\",\n        },\n\"BACKGROUND\",\n\"although working smoke alarms halve deaths in residential fires , many households do not keep alarms operational .\",\n{\n            'v': 0,\n            'f': \"0\",\n        },\n{\n            'v': 14,\n            'f': \"14\",\n        }],\n [{\n            'v': 24,\n            'f': \"24\",\n        },\n\"BACKGROUND\",\n\"we tested whether theory-based education increases alarm operability .\",\n{\n            'v': 1,\n            'f': \"1\",\n        },\n{\n            'v': 14,\n            'f': \"14\",\n        }],\n [{\n            'v': 25,\n            'f': \"25\",\n        },\n\"METHODS\",\n\"randomised multiarm trial , with a single arm randomly selected for use each day , in low-income neighbourhoods in maryland , usa .\",\n{\n            'v': 2,\n            'f': \"2\",\n        },\n{\n            'v': 14,\n            'f': \"14\",\n        }],\n [{\n            'v': 26,\n            'f': \"26\",\n        },\n\"METHODS\",\n\"intervention arms : ( @ ) full education combining a health belief module with a social-cognitive theory module that provided hands-on practice installing alarm batteries and using the alarm 's hush button ; ( @ ) hands-on practice social-cognitive module supplemented by typical fire department education ; ( @ ) current norm receiving typical fire department education only .\",\n{\n            'v': 3,\n            'f': \"3\",\n        },\n{\n            'v': 14,\n            'f': \"14\",\n        }],\n [{\n            'v': 27,\n            'f': \"27\",\n        },\n\"METHODS\",\n\"four hundred and thirty-six homes recruited through churches or by knocking on doors in @-@ .\",\n{\n            'v': 4,\n            'f': \"4\",\n        },\n{\n            'v': 14,\n            'f': \"14\",\n        }],\n [{\n            'v': 28,\n            'f': \"28\",\n        },\n\"METHODS\",\n\"follow-up visits checked alarm operability in @ homes ( @ % ) @-@ @ years after installation .\",\n{\n            'v': 5,\n            'f': \"5\",\n        },\n{\n            'v': 14,\n            'f': \"14\",\n        }],\n [{\n            'v': 29,\n            'f': \"29\",\n        },\n\"METHODS\",\n\"number of homes with working alarms defined as alarms with working batteries or hard-wired and number of working alarms per home .\",\n{\n            'v': 6,\n            'f': \"6\",\n        },\n{\n            'v': 14,\n            'f': \"14\",\n        }],\n [{\n            'v': 30,\n            'f': \"30\",\n        },\n\"METHODS\",\n\"regressions controlled for alarm status preintervention ; demographics and beliefs about fire risks and alarm effectiveness .\",\n{\n            'v': 7,\n            'f': \"7\",\n        },\n{\n            'v': 14,\n            'f': \"14\",\n        }],\n [{\n            'v': 31,\n            'f': \"31\",\n        },\n\"RESULTS\",\n\"homes in the full education and practice arms were more likely to have a functioning smoke alarm at follow-up ( or = @ , @ % ci @ to @ ) and had an average of @ more working alarms per home ( @ % ci @ to @ ) .\",\n{\n            'v': 8,\n            'f': \"8\",\n        },\n{\n            'v': 14,\n            'f': \"14\",\n        }],\n [{\n            'v': 32,\n            'f': \"32\",\n        },\n\"RESULTS\",\n\"working alarms per home rose @ % .\",\n{\n            'v': 9,\n            'f': \"9\",\n        },\n{\n            'v': 14,\n            'f': \"14\",\n        }],\n [{\n            'v': 33,\n            'f': \"33\",\n        },\n\"RESULTS\",\n\"full education and practice had similar effectiveness ( p = @ on both outcome measures ) .\",\n{\n            'v': 10,\n            'f': \"10\",\n        },\n{\n            'v': 14,\n            'f': \"14\",\n        }],\n [{\n            'v': 34,\n            'f': \"34\",\n        },\n\"CONCLUSIONS\",\n\"without exceeding typical fire department installation time , installers can achieve greater smoke alarm operability .\",\n{\n            'v': 11,\n            'f': \"11\",\n        },\n{\n            'v': 14,\n            'f': \"14\",\n        }],\n [{\n            'v': 35,\n            'f': \"35\",\n        },\n\"CONCLUSIONS\",\n\"hands-on practice is key .\",\n{\n            'v': 12,\n            'f': \"12\",\n        },\n{\n            'v': 14,\n            'f': \"14\",\n        }],\n [{\n            'v': 36,\n            'f': \"36\",\n        },\n\"CONCLUSIONS\",\n\"two years after installation , for every three homes that received hands-on practice , one had an additional working alarm .\",\n{\n            'v': 13,\n            'f': \"13\",\n        },\n{\n            'v': 14,\n            'f': \"14\",\n        }],\n [{\n            'v': 37,\n            'f': \"37\",\n        },\n\"BACKGROUND\",\n\"http://www.clinicaltrials.gov number nct@ .\",\n{\n            'v': 14,\n            'f': \"14\",\n        },\n{\n            'v': 14,\n            'f': \"14\",\n        }],\n [{\n            'v': 38,\n            'f': \"38\",\n        },\n\"OBJECTIVE\",\n\"to evaluate the performance ( efficacy , safety and acceptability ) of a new micro-adherent absorbent dressing ( urgoclean ) compared with a hydrofiber dressing ( aquacel ) in the local management of venous leg ulcers , in the debridement stage .\",\n{\n            'v': 0,\n            'f': \"0\",\n        },\n{\n            'v': 16,\n            'f': \"16\",\n        }],\n [{\n            'v': 39,\n            'f': \"39\",\n        },\n\"METHODS\",\n\"a non-inferiority european randomised controlled clinical trial ( rct ) was conducted in @ centres , on patients presenting with venous or predominantly venous , mixed aetiology leg ulcers at their sloughy stage ( with more than @ % of the wound bed covered with slough at baseline ) .\",\n{\n            'v': 1,\n            'f': \"1\",\n        },\n{\n            'v': 16,\n            'f': \"16\",\n        }],\n [{\n            'v': 40,\n            'f': \"40\",\n        },\n\"METHODS\",\n\"patients were followed over a @-week period and assessed weekly .\",\n{\n            'v': 2,\n            'f': \"2\",\n        },\n{\n            'v': 16,\n            'f': \"16\",\n        }],\n [{\n            'v': 41,\n            'f': \"41\",\n        },\n\"METHODS\",\n\"the primary judgement criteria was the relative regression of the wound surface area after the @-week treatment period .\",\n{\n            'v': 3,\n            'f': \"3\",\n        },\n{\n            'v': 16,\n            'f': \"16\",\n        }],\n [{\n            'v': 42,\n            'f': \"42\",\n        },\n\"METHODS\",\n\"secondary endpoints were the relative reduction of sloughy tissue and the percentage of patients presenting with a debrided wound .\",\n{\n            'v': 4,\n            'f': \"4\",\n        },\n{\n            'v': 16,\n            'f': \"16\",\n        }],\n [{\n            'v': 43,\n            'f': \"43\",\n        },\n\"RESULTS\",\n\"altogether , @ patients were randomised to either urgoclean ( test group ; n = @ ) or aquacel ( control group ; n = @ ) dressings .\",\n{\n            'v': 5,\n            'f': \"5\",\n        },\n{\n            'v': 16,\n            'f': \"16\",\n        }],\n [{\n            'v': 44,\n            'f': \"44\",\n        },\n\"RESULTS\",\n\"regarding the wound healing process predictive factors ( wound area , duration , abpi value , recurrence ) , at baseline , the two groups were well balanced , for both wound and patient characteristics .\",\n{\n            'v': 6,\n            'f': \"6\",\n        },\n{\n            'v': 16,\n            'f': \"16\",\n        }],\n [{\n            'v': 45,\n            'f': \"45\",\n        },\n\"RESULTS\",\n\"compression therapy was administered to both groups and after a median @-day treatment period , the percentage of relative reduction of the wound surface area was very similar ( -@ % vs -@ % in the urgoclean and control groups , respectively ) .\",\n{\n            'v': 7,\n            'f': \"7\",\n        },\n{\n            'v': 16,\n            'f': \"16\",\n        }],\n [{\n            'v': 46,\n            'f': \"46\",\n        },\n\"RESULTS\",\n\"when considering the secondary criteria at week @ , the relative reduction of sloughy tissue was significantly higher in the urgoclean group than in the control group ( -@ % vs -@,@ % ; p = @ ) .\",\n{\n            'v': 8,\n            'f': \"8\",\n        },\n{\n            'v': 16,\n            'f': \"16\",\n        }],\n [{\n            'v': 47,\n            'f': \"47\",\n        },\n\"RESULTS\",\n\"the percentage of debrided wounds was also significantly higher in the test group ( @ % vs @ % ; p = @ ) .\",\n{\n            'v': 9,\n            'f': \"9\",\n        },\n{\n            'v': 16,\n            'f': \"16\",\n        }],\n [{\n            'v': 48,\n            'f': \"48\",\n        },\n\"CONCLUSIONS\",\n\"this ` earth ' rct confirmed that the urgoclean dressing has similar efficacy and safety compared to aquacel .\",\n{\n            'v': 10,\n            'f': \"10\",\n        },\n{\n            'v': 16,\n            'f': \"16\",\n        }],\n [{\n            'v': 49,\n            'f': \"49\",\n        },\n\"CONCLUSIONS\",\n\"however , urgoclean also showed better autolytic properties than the control group in the management of venous leg ulcers at the sloughy stage .\",\n{\n            'v': 11,\n            'f': \"11\",\n        },\n{\n            'v': 16,\n            'f': \"16\",\n        }]],\n        columns: [[\"number\", \"index\"], [\"string\", \"target\"], [\"string\", \"text\"], [\"number\", \"line_number\"], [\"number\", \"total_lines\"]],\n        columnOptions: [{\"width\": \"1px\", \"className\": \"index_column\"}],\n        rowsPerPage: 25,\n        helpUrl: \"https://colab.research.google.com/notebooks/data_table.ipynb\",\n        suppressOutputScrolling: true,\n        minimumWidth: undefined,\n      });\n    ",
            "text/html": [
              "<div>\n",
              "<style scoped>\n",
              "    .dataframe tbody tr th:only-of-type {\n",
              "        vertical-align: middle;\n",
              "    }\n",
              "\n",
              "    .dataframe tbody tr th {\n",
              "        vertical-align: top;\n",
              "    }\n",
              "\n",
              "    .dataframe thead th {\n",
              "        text-align: right;\n",
              "    }\n",
              "</style>\n",
              "<table border=\"1\" class=\"dataframe\">\n",
              "  <thead>\n",
              "    <tr style=\"text-align: right;\">\n",
              "      <th></th>\n",
              "      <th>target</th>\n",
              "      <th>text</th>\n",
              "      <th>line_number</th>\n",
              "      <th>total_lines</th>\n",
              "    </tr>\n",
              "  </thead>\n",
              "  <tbody>\n",
              "    <tr>\n",
              "      <th>0</th>\n",
              "      <td>OBJECTIVE</td>\n",
              "      <td>to investigate the efficacy of @ weeks of dail...</td>\n",
              "      <td>0</td>\n",
              "      <td>11</td>\n",
              "    </tr>\n",
              "    <tr>\n",
              "      <th>1</th>\n",
              "      <td>METHODS</td>\n",
              "      <td>a total of @ patients with primary knee oa wer...</td>\n",
              "      <td>1</td>\n",
              "      <td>11</td>\n",
              "    </tr>\n",
              "    <tr>\n",
              "      <th>2</th>\n",
              "      <td>METHODS</td>\n",
              "      <td>outcome measures included pain reduction and i...</td>\n",
              "      <td>2</td>\n",
              "      <td>11</td>\n",
              "    </tr>\n",
              "    <tr>\n",
              "      <th>3</th>\n",
              "      <td>METHODS</td>\n",
              "      <td>pain was assessed using the visual analog pain...</td>\n",
              "      <td>3</td>\n",
              "      <td>11</td>\n",
              "    </tr>\n",
              "    <tr>\n",
              "      <th>4</th>\n",
              "      <td>METHODS</td>\n",
              "      <td>secondary outcome measures included the wester...</td>\n",
              "      <td>4</td>\n",
              "      <td>11</td>\n",
              "    </tr>\n",
              "    <tr>\n",
              "      <th>5</th>\n",
              "      <td>METHODS</td>\n",
              "      <td>serum levels of interleukin @ ( il-@ ) , il-@ ...</td>\n",
              "      <td>5</td>\n",
              "      <td>11</td>\n",
              "    </tr>\n",
              "    <tr>\n",
              "      <th>6</th>\n",
              "      <td>RESULTS</td>\n",
              "      <td>there was a clinically relevant reduction in t...</td>\n",
              "      <td>6</td>\n",
              "      <td>11</td>\n",
              "    </tr>\n",
              "    <tr>\n",
              "      <th>7</th>\n",
              "      <td>RESULTS</td>\n",
              "      <td>the mean difference between treatment arms ( @...</td>\n",
              "      <td>7</td>\n",
              "      <td>11</td>\n",
              "    </tr>\n",
              "    <tr>\n",
              "      <th>8</th>\n",
              "      <td>RESULTS</td>\n",
              "      <td>further , there was a clinically relevant redu...</td>\n",
              "      <td>8</td>\n",
              "      <td>11</td>\n",
              "    </tr>\n",
              "    <tr>\n",
              "      <th>9</th>\n",
              "      <td>RESULTS</td>\n",
              "      <td>these differences remained significant at @ we...</td>\n",
              "      <td>9</td>\n",
              "      <td>11</td>\n",
              "    </tr>\n",
              "    <tr>\n",
              "      <th>10</th>\n",
              "      <td>RESULTS</td>\n",
              "      <td>the outcome measures in rheumatology clinical ...</td>\n",
              "      <td>10</td>\n",
              "      <td>11</td>\n",
              "    </tr>\n",
              "    <tr>\n",
              "      <th>11</th>\n",
              "      <td>CONCLUSIONS</td>\n",
              "      <td>low-dose oral prednisolone had both a short-te...</td>\n",
              "      <td>11</td>\n",
              "      <td>11</td>\n",
              "    </tr>\n",
              "    <tr>\n",
              "      <th>12</th>\n",
              "      <td>BACKGROUND</td>\n",
              "      <td>emotional eating is associated with overeating...</td>\n",
              "      <td>0</td>\n",
              "      <td>10</td>\n",
              "    </tr>\n",
              "    <tr>\n",
              "      <th>13</th>\n",
              "      <td>BACKGROUND</td>\n",
              "      <td>yet , empirical evidence for individual ( trai...</td>\n",
              "      <td>1</td>\n",
              "      <td>10</td>\n",
              "    </tr>\n",
              "    <tr>\n",
              "      <th>14</th>\n",
              "      <td>OBJECTIVE</td>\n",
              "      <td>the aim of this study was to test if attention...</td>\n",
              "      <td>2</td>\n",
              "      <td>10</td>\n",
              "    </tr>\n",
              "    <tr>\n",
              "      <th>15</th>\n",
              "      <td>OBJECTIVE</td>\n",
              "      <td>it was expected that emotional eating is predi...</td>\n",
              "      <td>3</td>\n",
              "      <td>10</td>\n",
              "    </tr>\n",
              "    <tr>\n",
              "      <th>16</th>\n",
              "      <td>METHODS</td>\n",
              "      <td>participants ( n = @ ) were randomly assigned ...</td>\n",
              "      <td>4</td>\n",
              "      <td>10</td>\n",
              "    </tr>\n",
              "    <tr>\n",
              "      <th>17</th>\n",
              "      <td>METHODS</td>\n",
              "      <td>attentional biases for high caloric foods were...</td>\n",
              "      <td>5</td>\n",
              "      <td>10</td>\n",
              "    </tr>\n",
              "    <tr>\n",
              "      <th>18</th>\n",
              "      <td>METHODS</td>\n",
              "      <td>self-reported emotional eating was assessed wi...</td>\n",
              "      <td>6</td>\n",
              "      <td>10</td>\n",
              "    </tr>\n",
              "    <tr>\n",
              "      <th>19</th>\n",
              "      <td>RESULTS</td>\n",
              "      <td>hierarchical multivariate regression modeling ...</td>\n",
              "      <td>7</td>\n",
              "      <td>10</td>\n",
              "    </tr>\n",
              "    <tr>\n",
              "      <th>20</th>\n",
              "      <td>RESULTS</td>\n",
              "      <td>yet , attention maintenance on food cues was s...</td>\n",
              "      <td>8</td>\n",
              "      <td>10</td>\n",
              "    </tr>\n",
              "    <tr>\n",
              "      <th>21</th>\n",
              "      <td>CONCLUSIONS</td>\n",
              "      <td>the current findings show that self-reported e...</td>\n",
              "      <td>9</td>\n",
              "      <td>10</td>\n",
              "    </tr>\n",
              "    <tr>\n",
              "      <th>22</th>\n",
              "      <td>CONCLUSIONS</td>\n",
              "      <td>results further suggest that attention mainten...</td>\n",
              "      <td>10</td>\n",
              "      <td>10</td>\n",
              "    </tr>\n",
              "    <tr>\n",
              "      <th>23</th>\n",
              "      <td>BACKGROUND</td>\n",
              "      <td>although working smoke alarms halve deaths in ...</td>\n",
              "      <td>0</td>\n",
              "      <td>14</td>\n",
              "    </tr>\n",
              "    <tr>\n",
              "      <th>24</th>\n",
              "      <td>BACKGROUND</td>\n",
              "      <td>we tested whether theory-based education incre...</td>\n",
              "      <td>1</td>\n",
              "      <td>14</td>\n",
              "    </tr>\n",
              "    <tr>\n",
              "      <th>25</th>\n",
              "      <td>METHODS</td>\n",
              "      <td>randomised multiarm trial , with a single arm ...</td>\n",
              "      <td>2</td>\n",
              "      <td>14</td>\n",
              "    </tr>\n",
              "    <tr>\n",
              "      <th>26</th>\n",
              "      <td>METHODS</td>\n",
              "      <td>intervention arms : ( @ ) full education combi...</td>\n",
              "      <td>3</td>\n",
              "      <td>14</td>\n",
              "    </tr>\n",
              "    <tr>\n",
              "      <th>27</th>\n",
              "      <td>METHODS</td>\n",
              "      <td>four hundred and thirty-six homes recruited th...</td>\n",
              "      <td>4</td>\n",
              "      <td>14</td>\n",
              "    </tr>\n",
              "    <tr>\n",
              "      <th>28</th>\n",
              "      <td>METHODS</td>\n",
              "      <td>follow-up visits checked alarm operability in ...</td>\n",
              "      <td>5</td>\n",
              "      <td>14</td>\n",
              "    </tr>\n",
              "    <tr>\n",
              "      <th>29</th>\n",
              "      <td>METHODS</td>\n",
              "      <td>number of homes with working alarms defined as...</td>\n",
              "      <td>6</td>\n",
              "      <td>14</td>\n",
              "    </tr>\n",
              "    <tr>\n",
              "      <th>30</th>\n",
              "      <td>METHODS</td>\n",
              "      <td>regressions controlled for alarm status preint...</td>\n",
              "      <td>7</td>\n",
              "      <td>14</td>\n",
              "    </tr>\n",
              "    <tr>\n",
              "      <th>31</th>\n",
              "      <td>RESULTS</td>\n",
              "      <td>homes in the full education and practice arms ...</td>\n",
              "      <td>8</td>\n",
              "      <td>14</td>\n",
              "    </tr>\n",
              "    <tr>\n",
              "      <th>32</th>\n",
              "      <td>RESULTS</td>\n",
              "      <td>working alarms per home rose @ % .</td>\n",
              "      <td>9</td>\n",
              "      <td>14</td>\n",
              "    </tr>\n",
              "    <tr>\n",
              "      <th>33</th>\n",
              "      <td>RESULTS</td>\n",
              "      <td>full education and practice had similar effect...</td>\n",
              "      <td>10</td>\n",
              "      <td>14</td>\n",
              "    </tr>\n",
              "    <tr>\n",
              "      <th>34</th>\n",
              "      <td>CONCLUSIONS</td>\n",
              "      <td>without exceeding typical fire department inst...</td>\n",
              "      <td>11</td>\n",
              "      <td>14</td>\n",
              "    </tr>\n",
              "    <tr>\n",
              "      <th>35</th>\n",
              "      <td>CONCLUSIONS</td>\n",
              "      <td>hands-on practice is key .</td>\n",
              "      <td>12</td>\n",
              "      <td>14</td>\n",
              "    </tr>\n",
              "    <tr>\n",
              "      <th>36</th>\n",
              "      <td>CONCLUSIONS</td>\n",
              "      <td>two years after installation , for every three...</td>\n",
              "      <td>13</td>\n",
              "      <td>14</td>\n",
              "    </tr>\n",
              "    <tr>\n",
              "      <th>37</th>\n",
              "      <td>BACKGROUND</td>\n",
              "      <td>http://www.clinicaltrials.gov number nct@ .</td>\n",
              "      <td>14</td>\n",
              "      <td>14</td>\n",
              "    </tr>\n",
              "    <tr>\n",
              "      <th>38</th>\n",
              "      <td>OBJECTIVE</td>\n",
              "      <td>to evaluate the performance ( efficacy , safet...</td>\n",
              "      <td>0</td>\n",
              "      <td>16</td>\n",
              "    </tr>\n",
              "    <tr>\n",
              "      <th>39</th>\n",
              "      <td>METHODS</td>\n",
              "      <td>a non-inferiority european randomised controll...</td>\n",
              "      <td>1</td>\n",
              "      <td>16</td>\n",
              "    </tr>\n",
              "    <tr>\n",
              "      <th>40</th>\n",
              "      <td>METHODS</td>\n",
              "      <td>patients were followed over a @-week period an...</td>\n",
              "      <td>2</td>\n",
              "      <td>16</td>\n",
              "    </tr>\n",
              "    <tr>\n",
              "      <th>41</th>\n",
              "      <td>METHODS</td>\n",
              "      <td>the primary judgement criteria was the relativ...</td>\n",
              "      <td>3</td>\n",
              "      <td>16</td>\n",
              "    </tr>\n",
              "    <tr>\n",
              "      <th>42</th>\n",
              "      <td>METHODS</td>\n",
              "      <td>secondary endpoints were the relative reductio...</td>\n",
              "      <td>4</td>\n",
              "      <td>16</td>\n",
              "    </tr>\n",
              "    <tr>\n",
              "      <th>43</th>\n",
              "      <td>RESULTS</td>\n",
              "      <td>altogether , @ patients were randomised to eit...</td>\n",
              "      <td>5</td>\n",
              "      <td>16</td>\n",
              "    </tr>\n",
              "    <tr>\n",
              "      <th>44</th>\n",
              "      <td>RESULTS</td>\n",
              "      <td>regarding the wound healing process predictive...</td>\n",
              "      <td>6</td>\n",
              "      <td>16</td>\n",
              "    </tr>\n",
              "    <tr>\n",
              "      <th>45</th>\n",
              "      <td>RESULTS</td>\n",
              "      <td>compression therapy was administered to both g...</td>\n",
              "      <td>7</td>\n",
              "      <td>16</td>\n",
              "    </tr>\n",
              "    <tr>\n",
              "      <th>46</th>\n",
              "      <td>RESULTS</td>\n",
              "      <td>when considering the secondary criteria at wee...</td>\n",
              "      <td>8</td>\n",
              "      <td>16</td>\n",
              "    </tr>\n",
              "    <tr>\n",
              "      <th>47</th>\n",
              "      <td>RESULTS</td>\n",
              "      <td>the percentage of debrided wounds was also sig...</td>\n",
              "      <td>9</td>\n",
              "      <td>16</td>\n",
              "    </tr>\n",
              "    <tr>\n",
              "      <th>48</th>\n",
              "      <td>CONCLUSIONS</td>\n",
              "      <td>this ` earth ' rct confirmed that the urgoclea...</td>\n",
              "      <td>10</td>\n",
              "      <td>16</td>\n",
              "    </tr>\n",
              "    <tr>\n",
              "      <th>49</th>\n",
              "      <td>CONCLUSIONS</td>\n",
              "      <td>however , urgoclean also showed better autolyt...</td>\n",
              "      <td>11</td>\n",
              "      <td>16</td>\n",
              "    </tr>\n",
              "  </tbody>\n",
              "</table>\n",
              "</div>"
            ],
            "text/plain": [
              "         target  ... total_lines\n",
              "0     OBJECTIVE  ...          11\n",
              "1       METHODS  ...          11\n",
              "2       METHODS  ...          11\n",
              "3       METHODS  ...          11\n",
              "4       METHODS  ...          11\n",
              "5       METHODS  ...          11\n",
              "6       RESULTS  ...          11\n",
              "7       RESULTS  ...          11\n",
              "8       RESULTS  ...          11\n",
              "9       RESULTS  ...          11\n",
              "10      RESULTS  ...          11\n",
              "11  CONCLUSIONS  ...          11\n",
              "12   BACKGROUND  ...          10\n",
              "13   BACKGROUND  ...          10\n",
              "14    OBJECTIVE  ...          10\n",
              "15    OBJECTIVE  ...          10\n",
              "16      METHODS  ...          10\n",
              "17      METHODS  ...          10\n",
              "18      METHODS  ...          10\n",
              "19      RESULTS  ...          10\n",
              "20      RESULTS  ...          10\n",
              "21  CONCLUSIONS  ...          10\n",
              "22  CONCLUSIONS  ...          10\n",
              "23   BACKGROUND  ...          14\n",
              "24   BACKGROUND  ...          14\n",
              "25      METHODS  ...          14\n",
              "26      METHODS  ...          14\n",
              "27      METHODS  ...          14\n",
              "28      METHODS  ...          14\n",
              "29      METHODS  ...          14\n",
              "30      METHODS  ...          14\n",
              "31      RESULTS  ...          14\n",
              "32      RESULTS  ...          14\n",
              "33      RESULTS  ...          14\n",
              "34  CONCLUSIONS  ...          14\n",
              "35  CONCLUSIONS  ...          14\n",
              "36  CONCLUSIONS  ...          14\n",
              "37   BACKGROUND  ...          14\n",
              "38    OBJECTIVE  ...          16\n",
              "39      METHODS  ...          16\n",
              "40      METHODS  ...          16\n",
              "41      METHODS  ...          16\n",
              "42      METHODS  ...          16\n",
              "43      RESULTS  ...          16\n",
              "44      RESULTS  ...          16\n",
              "45      RESULTS  ...          16\n",
              "46      RESULTS  ...          16\n",
              "47      RESULTS  ...          16\n",
              "48  CONCLUSIONS  ...          16\n",
              "49  CONCLUSIONS  ...          16\n",
              "\n",
              "[50 rows x 4 columns]"
            ]
          },
          "metadata": {
            "tags": []
          },
          "execution_count": 15
        }
      ]
    },
    {
      "cell_type": "code",
      "metadata": {
        "colab": {
          "base_uri": "https://localhost:8080/",
          "height": 194
        },
        "id": "JlwD8vKxSavU",
        "outputId": "fc8ce34e-6fd5-46c2-cc34-5d4e298d9e2e"
      },
      "source": [
        "# Distribution of labels in training data\n",
        "label_dist = pd.DataFrame(train_df.target.value_counts()).reset_index()\n",
        "label_dist"
      ],
      "execution_count": 16,
      "outputs": [
        {
          "output_type": "execute_result",
          "data": {
            "application/vnd.google.colaboratory.module+javascript": "\n      import \"https://ssl.gstatic.com/colaboratory/data_table/a6224c040fa35dcf/data_table.js\";\n\n      window.createDataTable({\n        data: [[{\n            'v': 0,\n            'f': \"0\",\n        },\n\"METHODS\",\n{\n            'v': 59353,\n            'f': \"59353\",\n        }],\n [{\n            'v': 1,\n            'f': \"1\",\n        },\n\"RESULTS\",\n{\n            'v': 57953,\n            'f': \"57953\",\n        }],\n [{\n            'v': 2,\n            'f': \"2\",\n        },\n\"CONCLUSIONS\",\n{\n            'v': 27168,\n            'f': \"27168\",\n        }],\n [{\n            'v': 3,\n            'f': \"3\",\n        },\n\"BACKGROUND\",\n{\n            'v': 21727,\n            'f': \"21727\",\n        }],\n [{\n            'v': 4,\n            'f': \"4\",\n        },\n\"OBJECTIVE\",\n{\n            'v': 13839,\n            'f': \"13839\",\n        }]],\n        columns: [[\"number\", \"level_0\"], [\"string\", \"index\"], [\"number\", \"target\"]],\n        columnOptions: [{\"width\": \"1px\", \"className\": \"index_column\"}],\n        rowsPerPage: 25,\n        helpUrl: \"https://colab.research.google.com/notebooks/data_table.ipynb\",\n        suppressOutputScrolling: true,\n        minimumWidth: undefined,\n      });\n    ",
            "text/html": [
              "<div>\n",
              "<style scoped>\n",
              "    .dataframe tbody tr th:only-of-type {\n",
              "        vertical-align: middle;\n",
              "    }\n",
              "\n",
              "    .dataframe tbody tr th {\n",
              "        vertical-align: top;\n",
              "    }\n",
              "\n",
              "    .dataframe thead th {\n",
              "        text-align: right;\n",
              "    }\n",
              "</style>\n",
              "<table border=\"1\" class=\"dataframe\">\n",
              "  <thead>\n",
              "    <tr style=\"text-align: right;\">\n",
              "      <th></th>\n",
              "      <th>index</th>\n",
              "      <th>target</th>\n",
              "    </tr>\n",
              "  </thead>\n",
              "  <tbody>\n",
              "    <tr>\n",
              "      <th>0</th>\n",
              "      <td>METHODS</td>\n",
              "      <td>59353</td>\n",
              "    </tr>\n",
              "    <tr>\n",
              "      <th>1</th>\n",
              "      <td>RESULTS</td>\n",
              "      <td>57953</td>\n",
              "    </tr>\n",
              "    <tr>\n",
              "      <th>2</th>\n",
              "      <td>CONCLUSIONS</td>\n",
              "      <td>27168</td>\n",
              "    </tr>\n",
              "    <tr>\n",
              "      <th>3</th>\n",
              "      <td>BACKGROUND</td>\n",
              "      <td>21727</td>\n",
              "    </tr>\n",
              "    <tr>\n",
              "      <th>4</th>\n",
              "      <td>OBJECTIVE</td>\n",
              "      <td>13839</td>\n",
              "    </tr>\n",
              "  </tbody>\n",
              "</table>\n",
              "</div>"
            ],
            "text/plain": [
              "         index  target\n",
              "0      METHODS   59353\n",
              "1      RESULTS   57953\n",
              "2  CONCLUSIONS   27168\n",
              "3   BACKGROUND   21727\n",
              "4    OBJECTIVE   13839"
            ]
          },
          "metadata": {
            "tags": []
          },
          "execution_count": 16
        }
      ]
    },
    {
      "cell_type": "code",
      "metadata": {
        "colab": {
          "base_uri": "https://localhost:8080/",
          "height": 442
        },
        "id": "HGXfVmIMStMP",
        "outputId": "2cd39bbb-15d7-4b23-ff27-1a0f17a66421"
      },
      "source": [
        "import matplotlib.pyplot as plt\n",
        "import seaborn as sns\n",
        "plt.figure(figsize=(10,7))\n",
        "plot = sns.barplot(x=\"index\", y=\"target\", data=label_dist)\n",
        "\n",
        "# Iterating over bars one by one\n",
        "for bar in plot.patches:\n",
        "  plot.annotate(format(bar.get_height(), '.2f'), # gets the value\n",
        "                (bar.get_x() + bar.get_width() / 2, bar.get_height()), # point in the plot fot text\n",
        "                ha='center',\n",
        "                va='center',\n",
        "                size=15,\n",
        "                xytext=(0,8),\n",
        "                textcoords='offset points')\n",
        "  \n",
        "plt.show()"
      ],
      "execution_count": 17,
      "outputs": [
        {
          "output_type": "display_data",
          "data": {
            "image/png": "[encoded data removed]",
            "text/plain": [
              "<Figure size 720x504 with 1 Axes>"
            ]
          },
          "metadata": {
            "tags": [],
            "needs_background": "light"
          }
        }
      ]
    },
    {
      "cell_type": "markdown",
      "metadata": {
        "id": "1ocxPu83Su8H"
      },
      "source": [
        "There is a little imbalance between `objective` and `method` but it's not big like 10x or 100x."
      ]
    },
    {
      "cell_type": "code",
      "metadata": {
        "colab": {
          "base_uri": "https://localhost:8080/",
          "height": 284
        },
        "id": "M5VnZzBmS6Sd",
        "outputId": "e7e6a173-db84-401f-ed14-5c1904c64f69"
      },
      "source": [
        "# Let's check the length of different lines\n",
        "train_df.total_lines.plot.hist()"
      ],
      "execution_count": 18,
      "outputs": [
        {
          "output_type": "execute_result",
          "data": {
            "text/plain": [
              "<matplotlib.axes._subplots.AxesSubplot at 0x7f9b007cf2d0>"
            ]
          },
          "metadata": {
            "tags": []
          },
          "execution_count": 18
        },
        {
          "output_type": "display_data",
          "data": {
            "image/png": "[encoded data removed]",
            "text/plain": [
              "<Figure size 432x288 with 1 Axes>"
            ]
          },
          "metadata": {
            "tags": [],
            "needs_background": "light"
          }
        }
      ]
    },
    {
      "cell_type": "markdown",
      "metadata": {
        "id": "SvHbq5h-TAsH"
      },
      "source": [
        "### Get list of sentences"
      ]
    },
    {
      "cell_type": "code",
      "metadata": {
        "colab": {
          "base_uri": "https://localhost:8080/"
        },
        "id": "4IBGtfSZTJHs",
        "outputId": "1dc47afd-57fb-4836-e3d8-91403d4019fa"
      },
      "source": [
        "# Convert abstract text lines into lists\n",
        "train_sentences = train_df.text.to_list()\n",
        "val_sentences = val_df.text.to_list()\n",
        "test_sentences = test_df.text.to_list()\n",
        "len(train_sentences), len(val_sentences), len(test_sentences)"
      ],
      "execution_count": 19,
      "outputs": [
        {
          "output_type": "execute_result",
          "data": {
            "text/plain": [
              "(180040, 30212, 30135)"
            ]
          },
          "metadata": {
            "tags": []
          },
          "execution_count": 19
        }
      ]
    },
    {
      "cell_type": "markdown",
      "metadata": {
        "id": "LboMdZDdBr-r"
      },
      "source": [
        "We're converting setences to list here, because these will be converted to `tf.data.Dataset` for fast loading data using `tf.data.Dataset.from_tensor_slices()` method which accepts lists."
      ]
    },
    {
      "cell_type": "code",
      "metadata": {
        "colab": {
          "base_uri": "https://localhost:8080/"
        },
        "id": "L-H7nxbgTds3",
        "outputId": "8f2f3089-a7ca-4787-c657-cea66b1c740e"
      },
      "source": [
        "train_sentences[:10]"
      ],
      "execution_count": 20,
      "outputs": [
        {
          "output_type": "execute_result",
          "data": {
            "text/plain": [
              "['to investigate the efficacy of @ weeks of daily low-dose oral prednisolone in improving pain , mobility , and systemic low-grade inflammation in the short term and whether the effect would be sustained at @ weeks in older adults with moderate to severe knee osteoarthritis ( oa ) .',\n",
              " 'a total of @ patients with primary knee oa were randomized @:@ ; @ received @ mg/day of prednisolone and @ received placebo for @ weeks .',\n",
              " 'outcome measures included pain reduction and improvement in function scores and systemic inflammation markers .',\n",
              " 'pain was assessed using the visual analog pain scale ( @-@ mm ) .',\n",
              " 'secondary outcome measures included the western ontario and mcmaster universities osteoarthritis index scores , patient global assessment ( pga ) of the severity of knee oa , and @-min walk distance ( @mwd ) .',\n",
              " 'serum levels of interleukin @ ( il-@ ) , il-@ , tumor necrosis factor ( tnf ) - , and high-sensitivity c-reactive protein ( hscrp ) were measured .',\n",
              " 'there was a clinically relevant reduction in the intervention group compared to the placebo group for knee pain , physical function , pga , and @mwd at @ weeks .',\n",
              " 'the mean difference between treatment arms ( @ % ci ) was @ ( @-@ @ ) , p < @ ; @ ( @-@ @ ) , p < @ ; @ ( @-@ @ ) , p < @ ; and @ ( @-@ @ ) , p < @ , respectively .',\n",
              " 'further , there was a clinically relevant reduction in the serum levels of il-@ , il-@ , tnf - , and hscrp at @ weeks in the intervention group when compared to the placebo group .',\n",
              " 'these differences remained significant at @ weeks .']"
            ]
          },
          "metadata": {
            "tags": []
          },
          "execution_count": 20
        }
      ]
    },
    {
      "cell_type": "markdown",
      "metadata": {
        "id": "jizajoVfThhg"
      },
      "source": [
        "## Turning our target labels into numbers\n",
        "\n",
        "### One-Hot encode"
      ]
    },
    {
      "cell_type": "code",
      "metadata": {
        "id": "t6aWkswRZ9YL"
      },
      "source": [
        "# One-hot encode labels\n",
        "from sklearn.preprocessing import OneHotEncoder\n",
        "one_hot_encoder = OneHotEncoder(sparse=False)\n",
        "train_labels_one_hot = one_hot_encoder.fit_transform(train_df['target'].to_numpy().reshape(-1,1))\n",
        "val_labels_one_hot = one_hot_encoder.transform(val_df['target'].to_numpy().reshape(-1,1))\n",
        "test_labels_one_hot = one_hot_encoder.transform(test_df['target'].to_numpy().reshape(-1,1))"
      ],
      "execution_count": 21,
      "outputs": []
    },
    {
      "cell_type": "markdown",
      "metadata": {
        "id": "J70iDSKDaMpY"
      },
      "source": [
        "In one-hot encoded labels the lables are sorted in alphabetical order and encoded."
      ]
    },
    {
      "cell_type": "markdown",
      "metadata": {
        "id": "w8SofZQ0aflv"
      },
      "source": [
        "### Label encode labels"
      ]
    },
    {
      "cell_type": "code",
      "metadata": {
        "id": "tRf97sAibBi-"
      },
      "source": [
        "from sklearn.preprocessing import LabelEncoder\n",
        "label_encoder = LabelEncoder()"
      ],
      "execution_count": 22,
      "outputs": []
    },
    {
      "cell_type": "code",
      "metadata": {
        "colab": {
          "base_uri": "https://localhost:8080/"
        },
        "id": "ZlrWF29Eb1UV",
        "outputId": "ca75bef9-5386-4a77-90f7-8e4071dc1b80"
      },
      "source": [
        "train_labels_encoded = label_encoder.fit_transform(train_df['target'].to_numpy())\n",
        "val_labels_encoded = label_encoder.transform(val_df['target'].to_numpy())\n",
        "test_labels_encoded = label_encoder.transform(test_df['target'].to_numpy())\n",
        "train_labels_encoded[:5]"
      ],
      "execution_count": 23,
      "outputs": [
        {
          "output_type": "execute_result",
          "data": {
            "text/plain": [
              "array([3, 2, 2, 2, 2])"
            ]
          },
          "metadata": {
            "tags": []
          },
          "execution_count": 23
        }
      ]
    },
    {
      "cell_type": "code",
      "metadata": {
        "colab": {
          "base_uri": "https://localhost:8080/"
        },
        "id": "Fhnf5UKOcSdK",
        "outputId": "b1417a2b-b8bd-4382-fc0f-02018be5790b"
      },
      "source": [
        "# Get class names and number of classes using one hot encoder\n",
        "print(one_hot_encoder.categories_)\n",
        "# Get class names and number of classes using label encoder\n",
        "print(label_encoder.classes_)"
      ],
      "execution_count": 24,
      "outputs": [
        {
          "output_type": "stream",
          "text": [
            "[array(['BACKGROUND', 'CONCLUSIONS', 'METHODS', 'OBJECTIVE', 'RESULTS'],\n",
            "      dtype=object)]\n",
            "['BACKGROUND' 'CONCLUSIONS' 'METHODS' 'OBJECTIVE' 'RESULTS']\n"
          ],
          "name": "stdout"
        }
      ]
    },
    {
      "cell_type": "code",
      "metadata": {
        "colab": {
          "base_uri": "https://localhost:8080/"
        },
        "id": "aguKfrJkceXx",
        "outputId": "7d1bf593-2bfb-4692-f73d-a5255454a492"
      },
      "source": [
        "# Store the classes\n",
        "class_names = label_encoder.classes_\n",
        "print(class_names)"
      ],
      "execution_count": 25,
      "outputs": [
        {
          "output_type": "stream",
          "text": [
            "['BACKGROUND' 'CONCLUSIONS' 'METHODS' 'OBJECTIVE' 'RESULTS']\n"
          ],
          "name": "stdout"
        }
      ]
    },
    {
      "cell_type": "markdown",
      "metadata": {
        "id": "ZawsiW_8cz-H"
      },
      "source": [
        "Now er're ready for modelling experiments, let's list them down.\n",
        "\n",
        "## Model Experimentaion\n",
        "\n",
        "* Model 0: Naive Bayes with TF-IDF encoder(baseline)\n",
        "* Model 1: Conv 1D with Token embeddings\n",
        "* model 2: TensorFlow Hub Pretrained Feature extractor\n",
        "* model 3: Conv1D with character embeddings\n",
        "* mode 4: Pretrained token embedding (same as 2) + character embeddings (same as 3)\n",
        "* model 5: Pretrained token embeddings + character embeddings + positional embeddings"
      ]
    },
    {
      "cell_type": "markdown",
      "metadata": {
        "id": "18n008kWeOhK"
      },
      "source": [
        "### Model 0: Baseline - Naive Bayes with TF-IDF encoder"
      ]
    },
    {
      "cell_type": "code",
      "metadata": {
        "id": "Ig82EQkI1jMQ"
      },
      "source": [
        "# Importing\n",
        "from sklearn.naive_bayes import MultinomialNB\n",
        "from sklearn.feature_extraction.text import TfidfVectorizer\n",
        "from sklearn.pipeline import Pipeline"
      ],
      "execution_count": 26,
      "outputs": []
    },
    {
      "cell_type": "code",
      "metadata": {
        "colab": {
          "base_uri": "https://localhost:8080/"
        },
        "id": "mcqk-DDm13mW",
        "outputId": "250931d9-a156-4256-f096-e43a9dbffa88"
      },
      "source": [
        "# Building the model\n",
        "model0 = Pipeline([(\"tfidf\", TfidfVectorizer()), # Converts word to numbers using tfidf\n",
        "                 (\"clf\", MultinomialNB())]) # Model the text\n",
        "\n",
        "# Fit the data\n",
        "model0.fit(train_sentences,\n",
        "           train_labels_encoded)\n",
        "# One hot encoded labels are not working with input shape error"
      ],
      "execution_count": 27,
      "outputs": [
        {
          "output_type": "execute_result",
          "data": {
            "text/plain": [
              "Pipeline(memory=None,\n",
              "         steps=[('tfidf',\n",
              "                 TfidfVectorizer(analyzer='word', binary=False,\n",
              "                                 decode_error='strict',\n",
              "                                 dtype=<class 'numpy.float64'>,\n",
              "                                 encoding='utf-8', input='content',\n",
              "                                 lowercase=True, max_df=1.0, max_features=None,\n",
              "                                 min_df=1, ngram_range=(1, 1), norm='l2',\n",
              "                                 preprocessor=None, smooth_idf=True,\n",
              "                                 stop_words=None, strip_accents=None,\n",
              "                                 sublinear_tf=False,\n",
              "                                 token_pattern='(?u)\\\\b\\\\w\\\\w+\\\\b',\n",
              "                                 tokenizer=None, use_idf=True,\n",
              "                                 vocabulary=None)),\n",
              "                ('clf',\n",
              "                 MultinomialNB(alpha=1.0, class_prior=None, fit_prior=True))],\n",
              "         verbose=False)"
            ]
          },
          "metadata": {
            "tags": []
          },
          "execution_count": 27
        }
      ]
    },
    {
      "cell_type": "code",
      "metadata": {
        "colab": {
          "base_uri": "https://localhost:8080/"
        },
        "id": "u11rk6F52Pdu",
        "outputId": "92c5db0e-c75d-4588-81fe-182f6a5c92c2"
      },
      "source": [
        "# Evaluating the model\n",
        "model0.score(val_sentences,\n",
        "             val_labels_encoded)"
      ],
      "execution_count": 28,
      "outputs": [
        {
          "output_type": "execute_result",
          "data": {
            "text/plain": [
              "0.7218323844829869"
            ]
          },
          "metadata": {
            "tags": []
          },
          "execution_count": 28
        }
      ]
    },
    {
      "cell_type": "markdown",
      "metadata": {
        "id": "SAqdT0sw3mvM"
      },
      "source": [
        "Getting the helper function"
      ]
    },
    {
      "cell_type": "code",
      "metadata": {
        "colab": {
          "base_uri": "https://localhost:8080/"
        },
        "id": "RxrgkbF72qnZ",
        "outputId": "49f24532-a7a7-4fcb-89f3-102c70452316"
      },
      "source": [
        "!wget https://raw.githubusercontent.com/JpChii/ML-Tools/main/dl_helper.py"
      ],
      "execution_count": 29,
      "outputs": [
        {
          "output_type": "stream",
          "text": [
            "--2021-06-08 05:14:14--  https://raw.githubusercontent.com/JpChii/ML-Tools/main/dl_helper.py\n",
            "Resolving raw.githubusercontent.com (raw.githubusercontent.com)... 185.199.108.133, 185.199.110.133, 185.199.109.133, ...\n",
            "Connecting to raw.githubusercontent.com (raw.githubusercontent.com)|185.199.108.133|:443... connected.\n",
            "HTTP request sent, awaiting response... 200 OK\n",
            "Length: 17973 (18K) [text/plain]\n",
            "Saving to: ‘dl_helper.py’\n",
            "\n",
            "\rdl_helper.py          0%[                    ]       0  --.-KB/s               \rdl_helper.py        100%[===================>]  17.55K  --.-KB/s    in 0.001s  \n",
            "\n",
            "2021-06-08 05:14:14 (22.4 MB/s) - ‘dl_helper.py’ saved [17973/17973]\n",
            "\n"
          ],
          "name": "stdout"
        }
      ]
    },
    {
      "cell_type": "code",
      "metadata": {
        "id": "n8AFih533ggH"
      },
      "source": [
        "from dl_helper import calculate_results, plot_loss_curves"
      ],
      "execution_count": 30,
      "outputs": []
    },
    {
      "cell_type": "code",
      "metadata": {
        "id": "z1YbeTmF3lmY"
      },
      "source": [
        "preds_model0 = model0.predict(val_sentences)"
      ],
      "execution_count": 31,
      "outputs": []
    },
    {
      "cell_type": "code",
      "metadata": {
        "colab": {
          "base_uri": "https://localhost:8080/"
        },
        "id": "E4AYZ0uAojrs",
        "outputId": "c9559c5e-7490-4810-c6e6-41a86019bbac"
      },
      "source": [
        "preds_model0[:5], val_labels_encoded[:5]"
      ],
      "execution_count": 32,
      "outputs": [
        {
          "output_type": "execute_result",
          "data": {
            "text/plain": [
              "(array([4, 1, 3, 2, 2]), array([0, 0, 3, 2, 2]))"
            ]
          },
          "metadata": {
            "tags": []
          },
          "execution_count": 32
        }
      ]
    },
    {
      "cell_type": "code",
      "metadata": {
        "colab": {
          "base_uri": "https://localhost:8080/"
        },
        "id": "PzSFO4xf3yuB",
        "outputId": "42660aa6-6186-469f-96e3-b4f50233c392"
      },
      "source": [
        "# Caluclate metrics\n",
        "results_baseline = calculate_results(y_true=val_labels_encoded,\n",
        "                                     y_pred=preds_model0)\n",
        "results_baseline"
      ],
      "execution_count": 33,
      "outputs": [
        {
          "output_type": "execute_result",
          "data": {
            "text/plain": [
              "{'accuracy': 0.7218323844829869,\n",
              " 'f1': 0.6989250353450294,\n",
              " 'precision': 0.7186466952323352,\n",
              " 'recall': 0.7218323844829869}"
            ]
          },
          "metadata": {
            "tags": []
          },
          "execution_count": 33
        }
      ]
    },
    {
      "cell_type": "markdown",
      "metadata": {
        "id": "e3R0c3Ed31dj"
      },
      "source": [
        "Let's create a dataframe to store the baseline reulst and future results."
      ]
    },
    {
      "cell_type": "code",
      "metadata": {
        "colab": {
          "base_uri": "https://localhost:8080/",
          "height": 110
        },
        "id": "MuP_0dl4l2c3",
        "outputId": "b46bddb2-c768-4a0b-c8bf-86f20635abcb"
      },
      "source": [
        "results_df = pd.DataFrame({\"baseline\": results_baseline})\n",
        "results_df.T"
      ],
      "execution_count": 34,
      "outputs": [
        {
          "output_type": "execute_result",
          "data": {
            "application/vnd.google.colaboratory.module+javascript": "\n      import \"https://ssl.gstatic.com/colaboratory/data_table/a6224c040fa35dcf/data_table.js\";\n\n      window.createDataTable({\n        data: [[\"baseline\",\n{\n            'v': 0.7218323844829869,\n            'f': \"0.7218323844829869\",\n        },\n{\n            'v': 0.6989250353450294,\n            'f': \"0.6989250353450294\",\n        },\n{\n            'v': 0.7186466952323352,\n            'f': \"0.7186466952323352\",\n        },\n{\n            'v': 0.7218323844829869,\n            'f': \"0.7218323844829869\",\n        }]],\n        columns: [[\"string\", \"index\"], [\"number\", \"accuracy\"], [\"number\", \"f1\"], [\"number\", \"precision\"], [\"number\", \"recall\"]],\n        columnOptions: [{\"width\": \"1px\", \"className\": \"index_column\"}],\n        rowsPerPage: 25,\n        helpUrl: \"https://colab.research.google.com/notebooks/data_table.ipynb\",\n        suppressOutputScrolling: true,\n        minimumWidth: undefined,\n      });\n    ",
            "text/html": [
              "<div>\n",
              "<style scoped>\n",
              "    .dataframe tbody tr th:only-of-type {\n",
              "        vertical-align: middle;\n",
              "    }\n",
              "\n",
              "    .dataframe tbody tr th {\n",
              "        vertical-align: top;\n",
              "    }\n",
              "\n",
              "    .dataframe thead th {\n",
              "        text-align: right;\n",
              "    }\n",
              "</style>\n",
              "<table border=\"1\" class=\"dataframe\">\n",
              "  <thead>\n",
              "    <tr style=\"text-align: right;\">\n",
              "      <th></th>\n",
              "      <th>accuracy</th>\n",
              "      <th>f1</th>\n",
              "      <th>precision</th>\n",
              "      <th>recall</th>\n",
              "    </tr>\n",
              "  </thead>\n",
              "  <tbody>\n",
              "    <tr>\n",
              "      <th>baseline</th>\n",
              "      <td>0.721832</td>\n",
              "      <td>0.698925</td>\n",
              "      <td>0.718647</td>\n",
              "      <td>0.721832</td>\n",
              "    </tr>\n",
              "  </tbody>\n",
              "</table>\n",
              "</div>"
            ],
            "text/plain": [
              "          accuracy        f1  precision    recall\n",
              "baseline  0.721832  0.698925   0.718647  0.721832"
            ]
          },
          "metadata": {
            "tags": []
          },
          "execution_count": 34
        }
      ]
    },
    {
      "cell_type": "markdown",
      "metadata": {
        "id": "wXtbvW44mB31"
      },
      "source": [
        "## Preparing our data for deep sequence models\n",
        "\n",
        "Before we start deeper models, we've to create vectorization embedding layers."
      ]
    },
    {
      "cell_type": "code",
      "metadata": {
        "id": "oUGRlqOgpf-o"
      },
      "source": [
        "import numpy as np\n",
        "import tensorflow as tf\n",
        "from tensorflow.keras import layers"
      ],
      "execution_count": 35,
      "outputs": []
    },
    {
      "cell_type": "code",
      "metadata": {
        "colab": {
          "base_uri": "https://localhost:8080/"
        },
        "id": "PmaSds9IqMSv",
        "outputId": "0361962f-c22f-41cc-aa0a-4c7dcb457fc0"
      },
      "source": [
        "# How long is each sentence in average?\n",
        "sent_lens = [len(sentence.split()) for sentence in train_sentences]\n",
        "average_sent_len = np.mean(sent_lens)\n",
        "average_sent_len"
      ],
      "execution_count": 36,
      "outputs": [
        {
          "output_type": "execute_result",
          "data": {
            "text/plain": [
              "26.338269273494777"
            ]
          },
          "metadata": {
            "tags": []
          },
          "execution_count": 36
        }
      ]
    },
    {
      "cell_type": "markdown",
      "metadata": {
        "id": "e5CN9PRfqiOn"
      },
      "source": [
        "Why this length is importatn, tensorflow likes all it's input to be in the same shape. So what we might do is fit all the sentences to the average sentence length."
      ]
    },
    {
      "cell_type": "code",
      "metadata": {
        "colab": {
          "base_uri": "https://localhost:8080/",
          "height": 265
        },
        "id": "7UG_XSbrq8iW",
        "outputId": "361da9f5-acef-425c-b76d-eeed46f5836f"
      },
      "source": [
        "# What's distribution look like\n",
        "plt.hist(sent_lens, bins=20);"
      ],
      "execution_count": 37,
      "outputs": [
        {
          "output_type": "display_data",
          "data": {
            "image/png": "[encoded data removed]",
            "text/plain": [
              "<Figure size 432x288 with 1 Axes>"
            ]
          },
          "metadata": {
            "tags": [],
            "needs_background": "light"
          }
        }
      ]
    },
    {
      "cell_type": "code",
      "metadata": {
        "colab": {
          "base_uri": "https://localhost:8080/"
        },
        "id": "kBrk3neBrCYx",
        "outputId": "744c9162-2208-46de-afe3-8b289fd2f657"
      },
      "source": [
        "# How long of a sentence lenght covers 95% examples?\n",
        "output_seq_len = int(np.percentile(sent_lens,95))\n",
        "output_seq_len"
      ],
      "execution_count": 38,
      "outputs": [
        {
          "output_type": "execute_result",
          "data": {
            "text/plain": [
              "55"
            ]
          },
          "metadata": {
            "tags": []
          },
          "execution_count": 38
        }
      ]
    },
    {
      "cell_type": "markdown",
      "metadata": {
        "id": "jBd77Zpsrr_g"
      },
      "source": [
        "So what above `np.percentile` does is let us knowthe length of `95%` of sequences in `train_sentences`.\n",
        "\n",
        "So we already know the data has to be in fixed shape but using too small size, we might lose valuable information. Using too large size we might have lot's of `0's` in our data."
      ]
    },
    {
      "cell_type": "code",
      "metadata": {
        "colab": {
          "base_uri": "https://localhost:8080/"
        },
        "id": "3NzkOxTLsQum",
        "outputId": "945be10c-1950-42ba-dce2-09180878f0a3"
      },
      "source": [
        "# What's the maximum length in training set?\n",
        "max(sent_lens)"
      ],
      "execution_count": 39,
      "outputs": [
        {
          "output_type": "execute_result",
          "data": {
            "text/plain": [
              "296"
            ]
          },
          "metadata": {
            "tags": []
          },
          "execution_count": 39
        }
      ]
    },
    {
      "cell_type": "markdown",
      "metadata": {
        "id": "ZaesWwpLshvt"
      },
      "source": [
        "Okay now, we've the ouput sequence length.let's setup  text vectorizer.\n",
        "\n",
        "### Text Vectorizer\n",
        "\n",
        "Convert words to numbers using `TextVectorization layer`"
      ]
    },
    {
      "cell_type": "code",
      "metadata": {
        "id": "SshaM0a3s1q3"
      },
      "source": [
        "from tensorflow.keras.layers.experimental.preprocessing import TextVectorization"
      ],
      "execution_count": 40,
      "outputs": []
    },
    {
      "cell_type": "code",
      "metadata": {
        "id": "BKSjIMAbuAG7"
      },
      "source": [
        "# The vocabulary size for 20k pubmed dataset in paper is 68k\n",
        "# We'll use this vocab size for our text vectorization layer\n",
        "vocab=68000 # How many words from our dataset, we want our text vectoriztion layer to convert to number\n",
        "\n",
        "text_vectorizer = TextVectorization(max_tokens=vocab,\n",
        "                                    output_sequence_length=output_seq_len) # Desired output lenght of vectorized sequences\n",
        "# We'll leave the remaining in defaults"
      ],
      "execution_count": 41,
      "outputs": []
    },
    {
      "cell_type": "code",
      "metadata": {
        "colab": {
          "base_uri": "https://localhost:8080/"
        },
        "id": "iIvBjuaiuhu7",
        "outputId": "7eb5e112-b9ef-4fbb-a28a-46737f4bd7c9"
      },
      "source": [
        "%%time\n",
        "# Adapt the vectorizer to dataset\n",
        "text_vectorizer.adapt(train_sentences)"
      ],
      "execution_count": 42,
      "outputs": [
        {
          "output_type": "stream",
          "text": [
            "CPU times: user 44.1 s, sys: 341 ms, total: 44.4 s\n",
            "Wall time: 44.4 s\n"
          ],
          "name": "stdout"
        }
      ]
    },
    {
      "cell_type": "code",
      "metadata": {
        "id": "Lrl1kfDIymr1",
        "colab": {
          "base_uri": "https://localhost:8080/"
        },
        "outputId": "f9287b4c-bc43-4d87-e9c8-dded9f5664b3"
      },
      "source": [
        "# How many words in our training vocabulary?\n",
        "rct_20k_text_vocab = text_vectorizer.get_vocabulary()\n",
        "print(f\"Number of words in vocabulary: {len(rct_20k_text_vocab)}\"), \n",
        "print(f\"Most common words in the vocabulary: {rct_20k_text_vocab[:5]}\")\n",
        "print(f\"Least common words in the vocabulary: {rct_20k_text_vocab[-5:]}\")"
      ],
      "execution_count": 43,
      "outputs": [
        {
          "output_type": "stream",
          "text": [
            "Number of words in vocabulary: 64841\n",
            "Most common words in the vocabulary: ['', '[UNK]', 'the', 'and', 'of']\n",
            "Least common words in the vocabulary: ['aainduced', 'aaigroup', 'aachener', 'aachen', 'aaacp']\n"
          ],
          "name": "stdout"
        }
      ]
    },
    {
      "cell_type": "code",
      "metadata": {
        "colab": {
          "base_uri": "https://localhost:8080/"
        },
        "id": "oOnvQ47rZlbU",
        "outputId": "020c330c-1677-4dc8-d256-7464ecec254c"
      },
      "source": [
        "# Get the config of our text vectorizer\n",
        "text_vectorizer.get_config()"
      ],
      "execution_count": 44,
      "outputs": [
        {
          "output_type": "execute_result",
          "data": {
            "text/plain": [
              "{'dtype': 'string',\n",
              " 'max_tokens': 68000,\n",
              " 'name': 'text_vectorization',\n",
              " 'ngrams': None,\n",
              " 'output_mode': 'int',\n",
              " 'output_sequence_length': 55,\n",
              " 'pad_to_max_tokens': False,\n",
              " 'split': 'whitespace',\n",
              " 'standardize': 'lower_and_strip_punctuation',\n",
              " 'trainable': True,\n",
              " 'vocabulary_size': 64841}"
            ]
          },
          "metadata": {
            "tags": []
          },
          "execution_count": 44
        }
      ]
    },
    {
      "cell_type": "markdown",
      "metadata": {
        "id": "Mhrns4DVZm6g"
      },
      "source": [
        "### Create Embedding"
      ]
    },
    {
      "cell_type": "code",
      "metadata": {
        "colab": {
          "base_uri": "https://localhost:8080/"
        },
        "id": "NzPpfzTPZwGG",
        "outputId": "fd524d17-e1b7-43eb-d53c-f4037c224f5d"
      },
      "source": [
        "# Create token embedding layer\n",
        "embedding = layers.Embedding(input_dim=len(rct_20k_text_vocab), # length of vocabulary\n",
        "                               output_dim=128, # Note: different embedding sizes result in drastically different numbers of parameters to train\n",
        "                               # Use masking to handle variable sequence lengths (save space)\n",
        "                               mask_zero=True,\n",
        "                               name=\"embedding_layer\") \n",
        "\n",
        "import random\n",
        "target_sentence = random.choice(train_sentences)\n",
        "# Show example embedding\n",
        "print(f\"Sentence before vectorization:\\n{target_sentence}\\n\")\n",
        "vectorized_sentence = text_vectorizer([target_sentence])\n",
        "print(f\"Sentence after vectorization (before embedding):\\n{vectorized_sentence}\\n\")\n",
        "embedded_sentence = embedding(vectorized_sentence)\n",
        "print(f\"Sentence after embedding:\\n{embedded_sentence}\\n\")\n",
        "print(f\"Embedded sentence shape: {embedded_sentence.shape}\")"
      ],
      "execution_count": 45,
      "outputs": [
        {
          "output_type": "stream",
          "text": [
            "Sentence before vectorization:\n",
            "in boys with duchenne muscular dystrophy and preserved ejection fraction , addition of eplerenone to background acei or arb therapy attenuates the progressive decline in left ventricular systolic function .\n",
            "\n",
            "Sentence after vectorization (before embedding):\n",
            "[[    5  1987     7 14083  3334  7541     3  2384  1396  1015   333     4\n",
            "   7229     6  2937  9011    16  8317    66  5597     2  1754  1078     5\n",
            "    601   773   680   149     0     0     0     0     0     0     0     0\n",
            "      0     0     0     0     0     0     0     0     0     0     0     0\n",
            "      0     0     0     0     0     0     0]]\n",
            "\n",
            "Sentence after embedding:\n",
            "[[[ 0.02335938  0.0134766  -0.02846391 ... -0.00608821  0.00326859\n",
            "   -0.04810634]\n",
            "  [-0.0235587  -0.00700574 -0.03896123 ... -0.04887695 -0.0165459\n",
            "    0.02130148]\n",
            "  [ 0.0084479   0.04071093  0.04007483 ... -0.04335388 -0.04371623\n",
            "    0.03584928]\n",
            "  ...\n",
            "  [-0.01289229  0.0486615   0.04344047 ... -0.00584978  0.02605439\n",
            "   -0.04255159]\n",
            "  [-0.01289229  0.0486615   0.04344047 ... -0.00584978  0.02605439\n",
            "   -0.04255159]\n",
            "  [-0.01289229  0.0486615   0.04344047 ... -0.00584978  0.02605439\n",
            "   -0.04255159]]]\n",
            "\n",
            "Embedded sentence shape: (1, 55, 128)\n"
          ],
          "name": "stdout"
        }
      ]
    },
    {
      "cell_type": "markdown",
      "metadata": {
        "id": "ipqwxWLKZxSo"
      },
      "source": [
        "### Speed up the loading of data using `tf.data` API"
      ]
    },
    {
      "cell_type": "code",
      "metadata": {
        "colab": {
          "base_uri": "https://localhost:8080/"
        },
        "id": "_AdJB5N7aBtc",
        "outputId": "c9c38c80-a4ca-4a9b-b98b-15fe0d42c876"
      },
      "source": [
        "# Turn our data into TensorFlow Datasets\n",
        "train_dataset = tf.data.Dataset.from_tensor_slices((train_sentences, train_labels_one_hot))\n",
        "val_dataset = tf.data.Dataset.from_tensor_slices((val_sentences, val_labels_one_hot))\n",
        "test_dataset = tf.data.Dataset.from_tensor_slices((test_sentences, test_labels_one_hot))\n",
        "train_dataset"
      ],
      "execution_count": 46,
      "outputs": [
        {
          "output_type": "execute_result",
          "data": {
            "text/plain": [
              "<TensorSliceDataset shapes: ((), (5,)), types: (tf.string, tf.float64)>"
            ]
          },
          "metadata": {
            "tags": []
          },
          "execution_count": 46
        }
      ]
    },
    {
      "cell_type": "code",
      "metadata": {
        "colab": {
          "base_uri": "https://localhost:8080/"
        },
        "id": "1DMMvkL9aDIo",
        "outputId": "d1fd2d9e-dd88-4cd5-d0ee-8f5395000daf"
      },
      "source": [
        "# Take the TensorSliceDataset's and turn them into prefetched batches\n",
        "train_dataset = train_dataset.batch(32).prefetch(tf.data.AUTOTUNE)\n",
        "val_dataset = val_dataset.batch(32).prefetch(tf.data.AUTOTUNE)\n",
        "test_dataset = test_dataset.batch(32).prefetch(tf.data.AUTOTUNE)\n",
        "\n",
        "train_dataset"
      ],
      "execution_count": 47,
      "outputs": [
        {
          "output_type": "execute_result",
          "data": {
            "text/plain": [
              "<PrefetchDataset shapes: ((None,), (None, 5)), types: (tf.string, tf.float64)>"
            ]
          },
          "metadata": {
            "tags": []
          },
          "execution_count": 47
        }
      ]
    },
    {
      "cell_type": "markdown",
      "metadata": {
        "id": "y-g75e_MaFew"
      },
      "source": [
        "### Model 1: Conv1D with token embeddings"
      ]
    },
    {
      "cell_type": "code",
      "metadata": {
        "id": "4gZ4rnJ7aL-K"
      },
      "source": [
        "# Building the model\n",
        "inputs = layers.Input(shape=(1,), dtype=tf.string)\n",
        "vectors = text_vectorizer(inputs)\n",
        "embeds = embedding(vectors)\n",
        "# x = layers.Conv1D(64, kernel_size=5, padding=\"same\", activation=\"relu\")(embeds)\n",
        "x = layers.Conv1D(64, kernel_size=5, padding=\"same\", activation=\"relu\")(embeds)\n",
        "x = layers.GlobalAveragePooling1D()(x)\n",
        "outputs = layers.Dense(5, activation=\"softmax\")(x)\n",
        "\n",
        "model1 = tf.keras.Model(inputs, outputs)"
      ],
      "execution_count": 48,
      "outputs": []
    },
    {
      "cell_type": "code",
      "metadata": {
        "id": "DTsDzDh2yNOD"
      },
      "source": [
        "# Compile the model\n",
        "model1.compile(loss=tf.keras.losses.CategoricalCrossentropy(),\n",
        "               optimizer=tf.keras.optimizers.Adam(),\n",
        "               metrics=[\"accuracy\"])"
      ],
      "execution_count": 49,
      "outputs": []
    },
    {
      "cell_type": "code",
      "metadata": {
        "colab": {
          "base_uri": "https://localhost:8080/"
        },
        "id": "h4th5XwxyXDm",
        "outputId": "715e4737-e1ab-474b-b8bd-664d68d75c71"
      },
      "source": [
        "# Checkout the model\n",
        "model1.summary()"
      ],
      "execution_count": 50,
      "outputs": [
        {
          "output_type": "stream",
          "text": [
            "Model: \"model\"\n",
            "_________________________________________________________________\n",
            "Layer (type)                 Output Shape              Param #   \n",
            "=================================================================\n",
            "input_1 (InputLayer)         [(None, 1)]               0         \n",
            "_________________________________________________________________\n",
            "text_vectorization (TextVect (None, 55)                0         \n",
            "_________________________________________________________________\n",
            "embedding_layer (Embedding)  (None, 55, 128)           8299648   \n",
            "_________________________________________________________________\n",
            "conv1d (Conv1D)              (None, 55, 64)            41024     \n",
            "_________________________________________________________________\n",
            "global_average_pooling1d (Gl (None, 64)                0         \n",
            "_________________________________________________________________\n",
            "dense (Dense)                (None, 5)                 325       \n",
            "=================================================================\n",
            "Total params: 8,340,997\n",
            "Trainable params: 8,340,997\n",
            "Non-trainable params: 0\n",
            "_________________________________________________________________\n"
          ],
          "name": "stdout"
        }
      ]
    },
    {
      "cell_type": "markdown",
      "metadata": {
        "id": "VLJFs8gjzqN_"
      },
      "source": [
        "> **Note:** As ML practioniers, we've to reduce our initial experimentation time as much as possible to find out what is not working quicky. In line with this we're using only 10% of 20k dataset during training. One disadvantage is model will not see the entire data. But this is the tradeoff"
      ]
    },
    {
      "cell_type": "code",
      "metadata": {
        "colab": {
          "base_uri": "https://localhost:8080/"
        },
        "id": "4A6Wfcv7aNX6",
        "outputId": "b2b6dd2e-4711-4de2-903e-496602354fc0"
      },
      "source": [
        "# Fit the model\n",
        "history1 = model1.fit(train_dataset,\n",
        "                              steps_per_epoch=int(0.1 * len(train_dataset)), # only fit on 10% of batches for faster training time\n",
        "                              epochs=3,\n",
        "                              validation_data=val_dataset,\n",
        "                              validation_steps=int(0.1 * len(val_dataset))) # only validate on 10% of batches"
      ],
      "execution_count": 51,
      "outputs": [
        {
          "output_type": "stream",
          "text": [
            "Epoch 1/3\n",
            "562/562 [==============================] - 77s 80ms/step - loss: 0.9176 - accuracy: 0.6382 - val_loss: 0.6870 - val_accuracy: 0.7350\n",
            "Epoch 2/3\n",
            "562/562 [==============================] - 45s 80ms/step - loss: 0.6608 - accuracy: 0.7539 - val_loss: 0.6358 - val_accuracy: 0.7680\n",
            "Epoch 3/3\n",
            "562/562 [==============================] - 45s 80ms/step - loss: 0.6209 - accuracy: 0.7712 - val_loss: 0.5989 - val_accuracy: 0.7842\n"
          ],
          "name": "stdout"
        }
      ]
    },
    {
      "cell_type": "code",
      "metadata": {
        "id": "aspzX9L7aTrH",
        "colab": {
          "base_uri": "https://localhost:8080/",
          "height": 573
        },
        "outputId": "2d2f4174-8211-46a1-e7b6-e7cfc82287bf"
      },
      "source": [
        "# LEt's checkout the loss curve\n",
        "plot_loss_curves(history1)"
      ],
      "execution_count": 52,
      "outputs": [
        {
          "output_type": "display_data",
          "data": {
            "image/png": "[encoded data removed]",
            "text/plain": [
              "<Figure size 432x288 with 1 Axes>"
            ]
          },
          "metadata": {
            "tags": [],
            "needs_background": "light"
          }
        },
        {
          "output_type": "display_data",
          "data": {
            "image/png": "[encoded data removed]",
            "text/plain": [
              "<Figure size 432x288 with 1 Axes>"
            ]
          },
          "metadata": {
            "tags": [],
            "needs_background": "light"
          }
        }
      ]
    },
    {
      "cell_type": "markdown",
      "metadata": {
        "id": "GO79Z7yc0UKk"
      },
      "source": [
        "Okay the loss curves look good, validation curve is closley folloeing the training curve. Let's calculate some metrics."
      ]
    },
    {
      "cell_type": "code",
      "metadata": {
        "colab": {
          "base_uri": "https://localhost:8080/"
        },
        "id": "1YG2rhzQ0eyb",
        "outputId": "101d8ab1-6ca2-431a-f3d7-82633819adcb"
      },
      "source": [
        "# Make predictions\n",
        "pred_probs_model1 = model1.predict(val_dataset)\n",
        "preds_model1 = tf.argmax(tf.squeeze(tf.round(pred_probs_model1)), axis=1).numpy()\n",
        "preds_model1[:5]"
      ],
      "execution_count": 53,
      "outputs": [
        {
          "output_type": "execute_result",
          "data": {
            "text/plain": [
              "array([0, 0, 3, 2, 4])"
            ]
          },
          "metadata": {
            "tags": []
          },
          "execution_count": 53
        }
      ]
    },
    {
      "cell_type": "code",
      "metadata": {
        "colab": {
          "base_uri": "https://localhost:8080/"
        },
        "id": "qb5ocmPf0oj2",
        "outputId": "92f589aa-f8d7-4d44-c0d1-259abab67ade"
      },
      "source": [
        "from dl_helper import calculate_results\n",
        "results_model1 = calculate_results(y_true=val_labels_encoded,\n",
        "                                   y_pred=preds_model1)\n",
        "results_model1"
      ],
      "execution_count": 54,
      "outputs": [
        {
          "output_type": "execute_result",
          "data": {
            "text/plain": [
              "{'accuracy': 0.7591354428703826,\n",
              " 'f1': 0.7683973325083314,\n",
              " 'precision': 0.7912592849157648,\n",
              " 'recall': 0.7591354428703826}"
            ]
          },
          "metadata": {
            "tags": []
          },
          "execution_count": 54
        }
      ]
    },
    {
      "cell_type": "code",
      "metadata": {
        "colab": {
          "base_uri": "https://localhost:8080/",
          "height": 131
        },
        "id": "AclWytb62zn0",
        "outputId": "18541a31-985a-4169-b64d-2c4bfdd0ac44"
      },
      "source": [
        "# add the results to dataframe\n",
        "results_df[\"model1_conv1d\"] = results_model1.values()\n",
        "results_df.T"
      ],
      "execution_count": 55,
      "outputs": [
        {
          "output_type": "execute_result",
          "data": {
            "application/vnd.google.colaboratory.module+javascript": "\n      import \"https://ssl.gstatic.com/colaboratory/data_table/a6224c040fa35dcf/data_table.js\";\n\n      window.createDataTable({\n        data: [[\"baseline\",\n{\n            'v': 0.7218323844829869,\n            'f': \"0.7218323844829869\",\n        },\n{\n            'v': 0.6989250353450294,\n            'f': \"0.6989250353450294\",\n        },\n{\n            'v': 0.7186466952323352,\n            'f': \"0.7186466952323352\",\n        },\n{\n            'v': 0.7218323844829869,\n            'f': \"0.7218323844829869\",\n        }],\n [\"model1_conv1d\",\n{\n            'v': 0.7591354428703826,\n            'f': \"0.7591354428703826\",\n        },\n{\n            'v': 0.7912592849157648,\n            'f': \"0.7912592849157648\",\n        },\n{\n            'v': 0.7591354428703826,\n            'f': \"0.7591354428703826\",\n        },\n{\n            'v': 0.7683973325083314,\n            'f': \"0.7683973325083314\",\n        }]],\n        columns: [[\"string\", \"index\"], [\"number\", \"accuracy\"], [\"number\", \"f1\"], [\"number\", \"precision\"], [\"number\", \"recall\"]],\n        columnOptions: [{\"width\": \"1px\", \"className\": \"index_column\"}],\n        rowsPerPage: 25,\n        helpUrl: \"https://colab.research.google.com/notebooks/data_table.ipynb\",\n        suppressOutputScrolling: true,\n        minimumWidth: undefined,\n      });\n    ",
            "text/html": [
              "<div>\n",
              "<style scoped>\n",
              "    .dataframe tbody tr th:only-of-type {\n",
              "        vertical-align: middle;\n",
              "    }\n",
              "\n",
              "    .dataframe tbody tr th {\n",
              "        vertical-align: top;\n",
              "    }\n",
              "\n",
              "    .dataframe thead th {\n",
              "        text-align: right;\n",
              "    }\n",
              "</style>\n",
              "<table border=\"1\" class=\"dataframe\">\n",
              "  <thead>\n",
              "    <tr style=\"text-align: right;\">\n",
              "      <th></th>\n",
              "      <th>accuracy</th>\n",
              "      <th>f1</th>\n",
              "      <th>precision</th>\n",
              "      <th>recall</th>\n",
              "    </tr>\n",
              "  </thead>\n",
              "  <tbody>\n",
              "    <tr>\n",
              "      <th>baseline</th>\n",
              "      <td>0.721832</td>\n",
              "      <td>0.698925</td>\n",
              "      <td>0.718647</td>\n",
              "      <td>0.721832</td>\n",
              "    </tr>\n",
              "    <tr>\n",
              "      <th>model1_conv1d</th>\n",
              "      <td>0.759135</td>\n",
              "      <td>0.791259</td>\n",
              "      <td>0.759135</td>\n",
              "      <td>0.768397</td>\n",
              "    </tr>\n",
              "  </tbody>\n",
              "</table>\n",
              "</div>"
            ],
            "text/plain": [
              "               accuracy        f1  precision    recall\n",
              "baseline       0.721832  0.698925   0.718647  0.721832\n",
              "model1_conv1d  0.759135  0.791259   0.759135  0.768397"
            ]
          },
          "metadata": {
            "tags": []
          },
          "execution_count": 55
        }
      ]
    },
    {
      "cell_type": "markdown",
      "metadata": {
        "id": "xT-9FjPC28kt"
      },
      "source": [
        "### Model 2: TensorFlow Hub Pretrained Extrctor\n",
        "\n",
        "In the paper, model is intialized with glove embedding pretrained on wikipedia and gigaword. \n",
        "\n",
        "The above pretrained embedding is not available in tensorflow hub, so we're going to use [Universal Sentence Encoder](https://www.aclweb.org/anthology/D18-2029.pdf) from [TensorFlowHub](https://tfhub.dev/google/universal-sentence-encoder/4).\n",
        "\n",
        "We can get other NLP models from [HuggingFace.co](https://huggingface.co/models)"
      ]
    },
    {
      "cell_type": "code",
      "metadata": {
        "id": "JJv9kv9yWXNv"
      },
      "source": [
        "import tensorflow_hub as hub"
      ],
      "execution_count": 56,
      "outputs": []
    },
    {
      "cell_type": "code",
      "metadata": {
        "id": "WW2UMeuAYkJF"
      },
      "source": [
        "# Loading in the embedding\n",
        "universal_sentence_encoder = hub.KerasLayer(\"https://tfhub.dev/google/universal-sentence-encoder/4\",\n",
        "                                             trainable=False,\n",
        "                                             input_shape=[],\n",
        "                                             dtype=tf.string,\n",
        "                                             name=\"USE\")"
      ],
      "execution_count": 57,
      "outputs": []
    },
    {
      "cell_type": "code",
      "metadata": {
        "id": "UI8t6MerhVeX",
        "colab": {
          "base_uri": "https://localhost:8080/"
        },
        "outputId": "7109684a-715e-44d6-e153-42271a84f709"
      },
      "source": [
        "embedding_sentence = universal_sentence_encoder([\n",
        "    \"The quick brown fox jumps over the lazy dog.\",\n",
        "    \"I am a sentence for which I would like to get its embedding\"])\n",
        "print(f\"USE embedding output shape: {embedding_sentence.shape}\")"
      ],
      "execution_count": 58,
      "outputs": [
        {
          "output_type": "stream",
          "text": [
            "USE embedding output shape: (2, 512)\n"
          ],
          "name": "stdout"
        }
      ]
    },
    {
      "cell_type": "code",
      "metadata": {
        "id": "lJZDT795Zyxh"
      },
      "source": [
        "# Building the model\n",
        "model2 = tf.keras.Sequential([\n",
        "    universal_sentence_encoder,\n",
        "    layers.Dense(128, activation=\"relu\"),\n",
        "    layers.Dense(5, activation=\"softmax\")\n",
        "])\n",
        "\n",
        "# Compile the model\n",
        "model2.compile(loss=tf.keras.losses.CategoricalCrossentropy(),\n",
        "               optimizer=tf.keras.optimizers.Adam(),\n",
        "               metrics=[\"accuracy\"])"
      ],
      "execution_count": 59,
      "outputs": []
    },
    {
      "cell_type": "code",
      "metadata": {
        "id": "vPMKGFcpat2r",
        "colab": {
          "base_uri": "https://localhost:8080/"
        },
        "outputId": "dd6405e8-440c-461b-c8ad-cf4a1d38264f"
      },
      "source": [
        "# Checkout the summary\n",
        "model2.summary()"
      ],
      "execution_count": 60,
      "outputs": [
        {
          "output_type": "stream",
          "text": [
            "Model: \"sequential\"\n",
            "_________________________________________________________________\n",
            "Layer (type)                 Output Shape              Param #   \n",
            "=================================================================\n",
            "USE (KerasLayer)             (None, 512)               256797824 \n",
            "_________________________________________________________________\n",
            "dense_1 (Dense)              (None, 128)               65664     \n",
            "_________________________________________________________________\n",
            "dense_2 (Dense)              (None, 5)                 645       \n",
            "=================================================================\n",
            "Total params: 256,864,133\n",
            "Trainable params: 66,309\n",
            "Non-trainable params: 256,797,824\n",
            "_________________________________________________________________\n"
          ],
          "name": "stdout"
        }
      ]
    },
    {
      "cell_type": "markdown",
      "metadata": {
        "id": "bOwDJG_dbeqz"
      },
      "source": [
        "The number parameters is highest at sequence encoder. But we're keeping the pretrained embeddings for this experiment."
      ]
    },
    {
      "cell_type": "code",
      "metadata": {
        "id": "ENXZYGwdbtqa",
        "colab": {
          "base_uri": "https://localhost:8080/"
        },
        "outputId": "5a507ca7-a03d-48f0-bc8a-bfd84dd2b388"
      },
      "source": [
        "# Fit the model\n",
        "history2 = model2.fit(train_dataset,\n",
        "                      steps_per_epoch=int(0.1 * len(train_dataset)),\n",
        "                      epochs=3,\n",
        "                      validation_data=val_dataset,\n",
        "                      validation_steps=int(0.1 * len(val_dataset)))"
      ],
      "execution_count": 61,
      "outputs": [
        {
          "output_type": "stream",
          "text": [
            "Epoch 1/3\n",
            "562/562 [==============================] - 9s 12ms/step - loss: 0.9160 - accuracy: 0.6519 - val_loss: 0.7950 - val_accuracy: 0.6898\n",
            "Epoch 2/3\n",
            "562/562 [==============================] - 6s 11ms/step - loss: 0.7692 - accuracy: 0.7018 - val_loss: 0.7546 - val_accuracy: 0.7061\n",
            "Epoch 3/3\n",
            "562/562 [==============================] - 6s 11ms/step - loss: 0.7536 - accuracy: 0.7119 - val_loss: 0.7411 - val_accuracy: 0.7114\n"
          ],
          "name": "stdout"
        }
      ]
    },
    {
      "cell_type": "code",
      "metadata": {
        "id": "lH-53d7fcB7N",
        "colab": {
          "base_uri": "https://localhost:8080/",
          "height": 573
        },
        "outputId": "dc94be6e-c6ee-4e51-c7db-adf50d71e53a"
      },
      "source": [
        "# Checkout the loss curves\n",
        "plot_loss_curves(history2)"
      ],
      "execution_count": 62,
      "outputs": [
        {
          "output_type": "display_data",
          "data": {
            "image/png": "[encoded data removed]",
            "text/plain": [
              "<Figure size 432x288 with 1 Axes>"
            ]
          },
          "metadata": {
            "tags": [],
            "needs_background": "light"
          }
        },
        {
          "output_type": "display_data",
          "data": {
            "image/png": "[encoded data removed]",
            "text/plain": [
              "<Figure size 432x288 with 1 Axes>"
            ]
          },
          "metadata": {
            "tags": [],
            "needs_background": "light"
          }
        }
      ]
    },
    {
      "cell_type": "markdown",
      "metadata": {
        "id": "pdIrqq59cNxO"
      },
      "source": [
        "Looks like the validation accuracy cruve is starting to dip a little.\n",
        "\n",
        "Let's calculate the metrics."
      ]
    },
    {
      "cell_type": "code",
      "metadata": {
        "id": "mKKQ5m3PcYDl",
        "colab": {
          "base_uri": "https://localhost:8080/"
        },
        "outputId": "84b0f238-3c07-4d37-c62f-8603dce78df1"
      },
      "source": [
        "# Make predictions\n",
        "pred_probs_model2 = model2.predict(val_dataset)\n",
        "# Convert pred probs to preds\n",
        "preds_model2 = tf.argmax(pred_probs_model2, axis=1)\n",
        "preds_model2[:5]"
      ],
      "execution_count": 63,
      "outputs": [
        {
          "output_type": "execute_result",
          "data": {
            "text/plain": [
              "<tf.Tensor: shape=(5,), dtype=int64, numpy=array([0, 1, 3, 2, 4])>"
            ]
          },
          "metadata": {
            "tags": []
          },
          "execution_count": 63
        }
      ]
    },
    {
      "cell_type": "code",
      "metadata": {
        "id": "wOh3BJ_0cyiV",
        "colab": {
          "base_uri": "https://localhost:8080/"
        },
        "outputId": "396ef625-1910-4134-e414-b4198aa1ce87"
      },
      "source": [
        "# Calculate metrics\n",
        "results_model2 = calculate_results(y_true=val_labels_encoded,\n",
        "                                   y_pred=preds_model2)\n",
        "results_model2"
      ],
      "execution_count": 64,
      "outputs": [
        {
          "output_type": "execute_result",
          "data": {
            "text/plain": [
              "{'accuracy': 0.7128293393353634,\n",
              " 'f1': 0.7098348859983751,\n",
              " 'precision': 0.713530032037143,\n",
              " 'recall': 0.7128293393353634}"
            ]
          },
          "metadata": {
            "tags": []
          },
          "execution_count": 64
        }
      ]
    },
    {
      "cell_type": "code",
      "metadata": {
        "id": "NFJYt9wrc9ci",
        "colab": {
          "base_uri": "https://localhost:8080/",
          "height": 152
        },
        "outputId": "73e80811-4b7d-42c7-9b96-1f84da5dbafb"
      },
      "source": [
        "# Add the result to results dataframe\n",
        "results_df[\"model2_use\"] = results_model2.values()\n",
        "results_df.T"
      ],
      "execution_count": 65,
      "outputs": [
        {
          "output_type": "execute_result",
          "data": {
            "application/vnd.google.colaboratory.module+javascript": "\n      import \"https://ssl.gstatic.com/colaboratory/data_table/a6224c040fa35dcf/data_table.js\";\n\n      window.createDataTable({\n        data: [[\"baseline\",\n{\n            'v': 0.7218323844829869,\n            'f': \"0.7218323844829869\",\n        },\n{\n            'v': 0.6989250353450294,\n            'f': \"0.6989250353450294\",\n        },\n{\n            'v': 0.7186466952323352,\n            'f': \"0.7186466952323352\",\n        },\n{\n            'v': 0.7218323844829869,\n            'f': \"0.7218323844829869\",\n        }],\n [\"model1_conv1d\",\n{\n            'v': 0.7591354428703826,\n            'f': \"0.7591354428703826\",\n        },\n{\n            'v': 0.7912592849157648,\n            'f': \"0.7912592849157648\",\n        },\n{\n            'v': 0.7591354428703826,\n            'f': \"0.7591354428703826\",\n        },\n{\n            'v': 0.7683973325083314,\n            'f': \"0.7683973325083314\",\n        }],\n [\"model2_use\",\n{\n            'v': 0.7128293393353634,\n            'f': \"0.7128293393353634\",\n        },\n{\n            'v': 0.713530032037143,\n            'f': \"0.713530032037143\",\n        },\n{\n            'v': 0.7128293393353634,\n            'f': \"0.7128293393353634\",\n        },\n{\n            'v': 0.7098348859983751,\n            'f': \"0.7098348859983751\",\n        }]],\n        columns: [[\"string\", \"index\"], [\"number\", \"accuracy\"], [\"number\", \"f1\"], [\"number\", \"precision\"], [\"number\", \"recall\"]],\n        columnOptions: [{\"width\": \"1px\", \"className\": \"index_column\"}],\n        rowsPerPage: 25,\n        helpUrl: \"https://colab.research.google.com/notebooks/data_table.ipynb\",\n        suppressOutputScrolling: true,\n        minimumWidth: undefined,\n      });\n    ",
            "text/html": [
              "<div>\n",
              "<style scoped>\n",
              "    .dataframe tbody tr th:only-of-type {\n",
              "        vertical-align: middle;\n",
              "    }\n",
              "\n",
              "    .dataframe tbody tr th {\n",
              "        vertical-align: top;\n",
              "    }\n",
              "\n",
              "    .dataframe thead th {\n",
              "        text-align: right;\n",
              "    }\n",
              "</style>\n",
              "<table border=\"1\" class=\"dataframe\">\n",
              "  <thead>\n",
              "    <tr style=\"text-align: right;\">\n",
              "      <th></th>\n",
              "      <th>accuracy</th>\n",
              "      <th>f1</th>\n",
              "      <th>precision</th>\n",
              "      <th>recall</th>\n",
              "    </tr>\n",
              "  </thead>\n",
              "  <tbody>\n",
              "    <tr>\n",
              "      <th>baseline</th>\n",
              "      <td>0.721832</td>\n",
              "      <td>0.698925</td>\n",
              "      <td>0.718647</td>\n",
              "      <td>0.721832</td>\n",
              "    </tr>\n",
              "    <tr>\n",
              "      <th>model1_conv1d</th>\n",
              "      <td>0.759135</td>\n",
              "      <td>0.791259</td>\n",
              "      <td>0.759135</td>\n",
              "      <td>0.768397</td>\n",
              "    </tr>\n",
              "    <tr>\n",
              "      <th>model2_use</th>\n",
              "      <td>0.712829</td>\n",
              "      <td>0.713530</td>\n",
              "      <td>0.712829</td>\n",
              "      <td>0.709835</td>\n",
              "    </tr>\n",
              "  </tbody>\n",
              "</table>\n",
              "</div>"
            ],
            "text/plain": [
              "               accuracy        f1  precision    recall\n",
              "baseline       0.721832  0.698925   0.718647  0.721832\n",
              "model1_conv1d  0.759135  0.791259   0.759135  0.768397\n",
              "model2_use     0.712829  0.713530   0.712829  0.709835"
            ]
          },
          "metadata": {
            "tags": []
          },
          "execution_count": 65
        }
      ]
    },
    {
      "cell_type": "markdown",
      "metadata": {
        "id": "BC90jIeBdyQF"
      },
      "source": [
        "The performance of this model is less than the performance of our model 2."
      ]
    },
    {
      "cell_type": "code",
      "metadata": {
        "id": "sVfnaeRAilu2",
        "colab": {
          "base_uri": "https://localhost:8080/",
          "height": 351
        },
        "outputId": "7df02cd2-ce9b-4b84-a5d9-154621b32d6c"
      },
      "source": [
        "results_df.T.plot(kind=\"bar\")"
      ],
      "execution_count": 66,
      "outputs": [
        {
          "output_type": "execute_result",
          "data": {
            "text/plain": [
              "<matplotlib.axes._subplots.AxesSubplot at 0x7f998e01e950>"
            ]
          },
          "metadata": {
            "tags": []
          },
          "execution_count": 66
        },
        {
          "output_type": "display_data",
          "data": {
            "image/png": "[encoded data removed]",
            "text/plain": [
              "<Figure size 432x288 with 1 Axes>"
            ]
          },
          "metadata": {
            "tags": [],
            "needs_background": "light"
          }
        }
      ]
    },
    {
      "cell_type": "markdown",
      "metadata": {
        "id": "sN9w6Xg1jU2V"
      },
      "source": [
        "### Model 3: Conv1D with character embeddings\n",
        "\n",
        "The paper we're replicating used a combination of token and character-level embeddings.\n",
        "\n",
        "Previously we've token level embeddings but we'll need to similar steps for characters if we want to use character-level embeddings."
      ]
    },
    {
      "cell_type": "markdown",
      "metadata": {
        "id": "KNP9s6MTyw9P"
      },
      "source": [
        "#### Creating a character-level tokenizer"
      ]
    },
    {
      "cell_type": "code",
      "metadata": {
        "colab": {
          "base_uri": "https://localhost:8080/"
        },
        "id": "jwIyiXvUzPP9",
        "outputId": "c62e0e69-8af3-40e0-93c6-a0e784979d7c"
      },
      "source": [
        "train_sentences[:5]"
      ],
      "execution_count": 67,
      "outputs": [
        {
          "output_type": "execute_result",
          "data": {
            "text/plain": [
              "['to investigate the efficacy of @ weeks of daily low-dose oral prednisolone in improving pain , mobility , and systemic low-grade inflammation in the short term and whether the effect would be sustained at @ weeks in older adults with moderate to severe knee osteoarthritis ( oa ) .',\n",
              " 'a total of @ patients with primary knee oa were randomized @:@ ; @ received @ mg/day of prednisolone and @ received placebo for @ weeks .',\n",
              " 'outcome measures included pain reduction and improvement in function scores and systemic inflammation markers .',\n",
              " 'pain was assessed using the visual analog pain scale ( @-@ mm ) .',\n",
              " 'secondary outcome measures included the western ontario and mcmaster universities osteoarthritis index scores , patient global assessment ( pga ) of the severity of knee oa , and @-min walk distance ( @mwd ) .']"
            ]
          },
          "metadata": {
            "tags": []
          },
          "execution_count": 67
        }
      ]
    },
    {
      "cell_type": "code",
      "metadata": {
        "id": "nuUylMHpzU3f"
      },
      "source": [
        "# Make function to split sentences into characters\n",
        "def split_chars(text):\n",
        "  return \" \".join(list(text))"
      ],
      "execution_count": 68,
      "outputs": []
    },
    {
      "cell_type": "code",
      "metadata": {
        "colab": {
          "base_uri": "https://localhost:8080/",
          "height": 86
        },
        "id": "3p40FMSwznOJ",
        "outputId": "9cb06717-58cb-4148-9b52-f3f958f07688"
      },
      "source": [
        "\" \".join(list(train_sentences[0]))"
      ],
      "execution_count": 69,
      "outputs": [
        {
          "output_type": "execute_result",
          "data": {
            "application/vnd.google.colaboratory.intrinsic+json": {
              "type": "string"
            },
            "text/plain": [
              "'t o   i n v e s t i g a t e   t h e   e f f i c a c y   o f   @   w e e k s   o f   d a i l y   l o w - d o s e   o r a l   p r e d n i s o l o n e   i n   i m p r o v i n g   p a i n   ,   m o b i l i t y   ,   a n d   s y s t e m i c   l o w - g r a d e   i n f l a m m a t i o n   i n   t h e   s h o r t   t e r m   a n d   w h e t h e r   t h e   e f f e c t   w o u l d   b e   s u s t a i n e d   a t   @   w e e k s   i n   o l d e r   a d u l t s   w i t h   m o d e r a t e   t o   s e v e r e   k n e e   o s t e o a r t h r i t i s   (   o a   )   .'"
            ]
          },
          "metadata": {
            "tags": []
          },
          "execution_count": 69
        }
      ]
    },
    {
      "cell_type": "code",
      "metadata": {
        "colab": {
          "base_uri": "https://localhost:8080/",
          "height": 86
        },
        "id": "qw5nR5eZz1Sl",
        "outputId": "bd885633-6b56-4901-a886-3c109d4f5692"
      },
      "source": [
        "# Text splitting non-character-level sequence into characters\n",
        "split_chars(train_sentences[0])"
      ],
      "execution_count": 70,
      "outputs": [
        {
          "output_type": "execute_result",
          "data": {
            "application/vnd.google.colaboratory.intrinsic+json": {
              "type": "string"
            },
            "text/plain": [
              "'t o   i n v e s t i g a t e   t h e   e f f i c a c y   o f   @   w e e k s   o f   d a i l y   l o w - d o s e   o r a l   p r e d n i s o l o n e   i n   i m p r o v i n g   p a i n   ,   m o b i l i t y   ,   a n d   s y s t e m i c   l o w - g r a d e   i n f l a m m a t i o n   i n   t h e   s h o r t   t e r m   a n d   w h e t h e r   t h e   e f f e c t   w o u l d   b e   s u s t a i n e d   a t   @   w e e k s   i n   o l d e r   a d u l t s   w i t h   m o d e r a t e   t o   s e v e r e   k n e e   o s t e o a r t h r i t i s   (   o a   )   .'"
            ]
          },
          "metadata": {
            "tags": []
          },
          "execution_count": 70
        }
      ]
    },
    {
      "cell_type": "code",
      "metadata": {
        "colab": {
          "base_uri": "https://localhost:8080/"
        },
        "id": "KMtDbARZ0JAk",
        "outputId": "d848e380-732f-4665-dce1-dda07982b18e"
      },
      "source": [
        "# Split sequence-level data splits into character-level data splits\n",
        "train_chars = [split_chars(sentence) for sentence in train_sentences]\n",
        "val_chars = [split_chars(sentence) for sentence in val_sentences]\n",
        "test_chars = [split_chars(sentence) for sentence in test_sentences]\n",
        "train_chars[:5]"
      ],
      "execution_count": 71,
      "outputs": [
        {
          "output_type": "execute_result",
          "data": {
            "text/plain": [
              "['t o   i n v e s t i g a t e   t h e   e f f i c a c y   o f   @   w e e k s   o f   d a i l y   l o w - d o s e   o r a l   p r e d n i s o l o n e   i n   i m p r o v i n g   p a i n   ,   m o b i l i t y   ,   a n d   s y s t e m i c   l o w - g r a d e   i n f l a m m a t i o n   i n   t h e   s h o r t   t e r m   a n d   w h e t h e r   t h e   e f f e c t   w o u l d   b e   s u s t a i n e d   a t   @   w e e k s   i n   o l d e r   a d u l t s   w i t h   m o d e r a t e   t o   s e v e r e   k n e e   o s t e o a r t h r i t i s   (   o a   )   .',\n",
              " 'a   t o t a l   o f   @   p a t i e n t s   w i t h   p r i m a r y   k n e e   o a   w e r e   r a n d o m i z e d   @ : @   ;   @   r e c e i v e d   @   m g / d a y   o f   p r e d n i s o l o n e   a n d   @   r e c e i v e d   p l a c e b o   f o r   @   w e e k s   .',\n",
              " 'o u t c o m e   m e a s u r e s   i n c l u d e d   p a i n   r e d u c t i o n   a n d   i m p r o v e m e n t   i n   f u n c t i o n   s c o r e s   a n d   s y s t e m i c   i n f l a m m a t i o n   m a r k e r s   .',\n",
              " 'p a i n   w a s   a s s e s s e d   u s i n g   t h e   v i s u a l   a n a l o g   p a i n   s c a l e   (   @ - @   m m   )   .',\n",
              " 's e c o n d a r y   o u t c o m e   m e a s u r e s   i n c l u d e d   t h e   w e s t e r n   o n t a r i o   a n d   m c m a s t e r   u n i v e r s i t i e s   o s t e o a r t h r i t i s   i n d e x   s c o r e s   ,   p a t i e n t   g l o b a l   a s s e s s m e n t   (   p g a   )   o f   t h e   s e v e r i t y   o f   k n e e   o a   ,   a n d   @ - m i n   w a l k   d i s t a n c e   (   @ m w d   )   .']"
            ]
          },
          "metadata": {
            "tags": []
          },
          "execution_count": 71
        }
      ]
    },
    {
      "cell_type": "code",
      "metadata": {
        "colab": {
          "base_uri": "https://localhost:8080/"
        },
        "id": "4yVeAP6i0sT9",
        "outputId": "5e101978-b70c-40e8-d602-a4ab36f0ea9d"
      },
      "source": [
        "# what's the average character length\n",
        "char_lens = [len(sentence) for sentence in train_sentences]\n",
        "mean_char_len = np.mean(char_lens)\n",
        "mean_char_len"
      ],
      "execution_count": 72,
      "outputs": [
        {
          "output_type": "execute_result",
          "data": {
            "text/plain": [
              "149.3662574983337"
            ]
          },
          "metadata": {
            "tags": []
          },
          "execution_count": 72
        }
      ]
    },
    {
      "cell_type": "code",
      "metadata": {
        "colab": {
          "base_uri": "https://localhost:8080/",
          "height": 350
        },
        "id": "KYEIaC6E1K7y",
        "outputId": "f823a67a-66ff-4345-8b58-aa1d2bc9459d"
      },
      "source": [
        "# Checkthe distribution of sequence at charcter level\n",
        "plt.hist(char_lens, bins=7)"
      ],
      "execution_count": 73,
      "outputs": [
        {
          "output_type": "execute_result",
          "data": {
            "text/plain": [
              "(array([1.41175e+05, 3.71110e+04, 1.60000e+03, 1.27000e+02, 2.10000e+01,\n",
              "        5.00000e+00, 1.00000e+00]),\n",
              " array([1.00000000e+00, 1.98857143e+02, 3.96714286e+02, 5.94571429e+02,\n",
              "        7.92428571e+02, 9.90285714e+02, 1.18814286e+03, 1.38600000e+03]),\n",
              " <a list of 7 Patch objects>)"
            ]
          },
          "metadata": {
            "tags": []
          },
          "execution_count": 73
        },
        {
          "output_type": "display_data",
          "data": {
            "image/png": "[encoded data removed]",
            "text/plain": [
              "<Figure size 432x288 with 1 Axes>"
            ]
          },
          "metadata": {
            "tags": [],
            "needs_background": "light"
          }
        }
      ]
    },
    {
      "cell_type": "code",
      "metadata": {
        "colab": {
          "base_uri": "https://localhost:8080/"
        },
        "id": "1GLKaPRY2S0e",
        "outputId": "41a8ed16-9082-481d-96db-abf0af27cf8b"
      },
      "source": [
        "# What character length covers 95% of sequences\n",
        "output_seq_char_len = int(np.percentile(char_lens, 95))\n",
        "output_seq_char_len"
      ],
      "execution_count": 74,
      "outputs": [
        {
          "output_type": "execute_result",
          "data": {
            "text/plain": [
              "290"
            ]
          },
          "metadata": {
            "tags": []
          },
          "execution_count": 74
        }
      ]
    },
    {
      "cell_type": "code",
      "metadata": {
        "colab": {
          "base_uri": "https://localhost:8080/",
          "height": 35
        },
        "id": "uLcrFqq23qx9",
        "outputId": "040bdb59-4670-4b2d-b3bb-cd5df93f1c0b"
      },
      "source": [
        "# Get all keyboard characters\n",
        "import string\n",
        "alphabet = string.ascii_lowercase + string.digits + string.punctuation\n",
        "alphabet"
      ],
      "execution_count": 75,
      "outputs": [
        {
          "output_type": "execute_result",
          "data": {
            "application/vnd.google.colaboratory.intrinsic+json": {
              "type": "string"
            },
            "text/plain": [
              "'abcdefghijklmnopqrstuvwxyz0123456789!\"#$%&\\'()*+,-./:;<=>?@[\\\\]^_`{|}~'"
            ]
          },
          "metadata": {
            "tags": []
          },
          "execution_count": 75
        }
      ]
    },
    {
      "cell_type": "code",
      "metadata": {
        "id": "YMPEKsiF4TYO"
      },
      "source": [
        "# Create char-level token ectorizer instance\n",
        "NUM_CHAR_TOKENS = len(alphabet) + 2 # add for space and OOV token (OOV = out of vocab)\n",
        "char_vectorizer = TextVectorization(max_tokens=NUM_CHAR_TOKENS,\n",
        "                                    output_sequence_length=output_seq_char_len,\n",
        "                                    # standardize=None, Use this if you want punctuation in your vocab\n",
        "                                    name=\"char_vectorizer\")"
      ],
      "execution_count": 76,
      "outputs": []
    },
    {
      "cell_type": "code",
      "metadata": {
        "id": "1iSUYbj045AN"
      },
      "source": [
        "# ADapt character vectorizer to training characters\n",
        "char_vectorizer.adapt(train_chars)"
      ],
      "execution_count": 77,
      "outputs": []
    },
    {
      "cell_type": "code",
      "metadata": {
        "colab": {
          "base_uri": "https://localhost:8080/"
        },
        "id": "bhaI7uw65Ce8",
        "outputId": "c22892ca-b843-4ae2-a905-80e76a9a2aa0"
      },
      "source": [
        "# Check character vocab stats\n",
        "char_vocab = char_vectorizer.get_vocabulary()\n",
        "print(f\"Number of different characters in character vocab: {len(char_vocab)}\")\n",
        "print(f\"Top characters: {char_vocab[:5]}\")\n",
        "print(f\"Bottom characters: {char_vocab[-5:]}\")"
      ],
      "execution_count": 78,
      "outputs": [
        {
          "output_type": "stream",
          "text": [
            "Number of different characters in character vocab: 28\n",
            "Top characters: ['', '[UNK]', 'e', 't', 'i']\n",
            "Bottom characters: ['k', 'x', 'z', 'q', 'j']\n"
          ],
          "name": "stdout"
        }
      ]
    },
    {
      "cell_type": "code",
      "metadata": {
        "colab": {
          "base_uri": "https://localhost:8080/"
        },
        "id": "Q7yX4RQJ5KGX",
        "outputId": "f652ded6-8f72-4b65-b27e-159573e0a087"
      },
      "source": [
        "# Check character vocab stats with punctuation\n",
        "char_vocab = char_vectorizer.get_vocabulary()\n",
        "print(f\"Number of different characters in character vocab: {len(char_vocab)}\")\n",
        "print(f\"Top characters: {char_vocab[:5]}\")\n",
        "print(f\"Bottom characters: {char_vocab[-5:]}\")"
      ],
      "execution_count": 79,
      "outputs": [
        {
          "output_type": "stream",
          "text": [
            "Number of different characters in character vocab: 28\n",
            "Top characters: ['', '[UNK]', 'e', 't', 'i']\n",
            "Bottom characters: ['k', 'x', 'z', 'q', 'j']\n"
          ],
          "name": "stdout"
        }
      ]
    },
    {
      "cell_type": "code",
      "metadata": {
        "colab": {
          "base_uri": "https://localhost:8080/"
        },
        "id": "5iVwCYxV58fN",
        "outputId": "e4f738ff-139c-4799-ca9a-61c934914b36"
      },
      "source": [
        "# Test out our character vectorizer\n",
        "target_char = random.choice(train_chars)\n",
        "char_token = char_vectorizer([target_char])\n",
        "print(f\"target character: {target_char}\")\n",
        "print(f\"target character length: {len(target_char)}\")\n",
        "print(f\"target character token: {char_token}\")\n",
        "print(f\"Length of character token: {len(char_token[0])}\")\n",
        "print(f\"Shape of character token: {char_token.shape}\")"
      ],
      "execution_count": 80,
      "outputs": [
        {
          "output_type": "stream",
          "text": [
            "target character: t h e   d i f f e r e n c e   b e t w e e n   t r e a t m e n t s   w a s   - @   (   @   %   c i   o f   - @   ,   @   )   .\n",
            "target character length: 125\n",
            "target character token: [[ 3 13  2 10  4 17 17  2  8  2  6 11  2 22  2  3 20  2  2  6  3  8  2  5\n",
            "   3 15  2  6  3  9 20  5  9 11  4  7 17  0  0  0  0  0  0  0  0  0  0  0\n",
            "   0  0  0  0  0  0  0  0  0  0  0  0  0  0  0  0  0  0  0  0  0  0  0  0\n",
            "   0  0  0  0  0  0  0  0  0  0  0  0  0  0  0  0  0  0  0  0  0  0  0  0\n",
            "   0  0  0  0  0  0  0  0  0  0  0  0  0  0  0  0  0  0  0  0  0  0  0  0\n",
            "   0  0  0  0  0  0  0  0  0  0  0  0  0  0  0  0  0  0  0  0  0  0  0  0\n",
            "   0  0  0  0  0  0  0  0  0  0  0  0  0  0  0  0  0  0  0  0  0  0  0  0\n",
            "   0  0  0  0  0  0  0  0  0  0  0  0  0  0  0  0  0  0  0  0  0  0  0  0\n",
            "   0  0  0  0  0  0  0  0  0  0  0  0  0  0  0  0  0  0  0  0  0  0  0  0\n",
            "   0  0  0  0  0  0  0  0  0  0  0  0  0  0  0  0  0  0  0  0  0  0  0  0\n",
            "   0  0  0  0  0  0  0  0  0  0  0  0  0  0  0  0  0  0  0  0  0  0  0  0\n",
            "   0  0  0  0  0  0  0  0  0  0  0  0  0  0  0  0  0  0  0  0  0  0  0  0\n",
            "   0  0]]\n",
            "Length of character token: 290\n",
            "Shape of character token: (1, 290)\n"
          ],
          "name": "stdout"
        }
      ]
    },
    {
      "cell_type": "markdown",
      "metadata": {
        "id": "jF8Hvs_u7ILU"
      },
      "source": [
        "#### Creating  a character-level embdedding"
      ]
    },
    {
      "cell_type": "code",
      "metadata": {
        "id": "up0AmWPN9MnF"
      },
      "source": [
        "embedding_char = tf.keras.layers.Embedding(input_dim=len(char_vocab), # number of diffetent characters\n",
        "                                           output_dim=25, # Size of char embeding from paper\n",
        "                                           mask_zero=True,\n",
        "                                           name=\"char_embedding_layer\")"
      ],
      "execution_count": 81,
      "outputs": []
    },
    {
      "cell_type": "code",
      "metadata": {
        "colab": {
          "base_uri": "https://localhost:8080/"
        },
        "id": "TTTKLy8S9fEu",
        "outputId": "3d3d3906-aa41-4814-ab30-a3e8e1bb628a"
      },
      "source": [
        "# Test our embedding layer\n",
        "target_char = random.choice(train_chars)\n",
        "char_token = char_vectorizer([target_char])\n",
        "char_embed = embedding_char(char_token)\n",
        "print(f\"target character: {target_char}\")\n",
        "print(f\"target character length: {len(target_char)}\")\n",
        "print(f\"target character token: {char_token}\")\n",
        "print(f\"Length of character token: {len(char_token[0])}\")\n",
        "print(f\"Shape of character token: {char_token.shape}\")\n",
        "\n",
        "print(f\"target embed character: {char_embed}\")\n",
        "print(f\"Length of embed character: {len(char_embed[0])}\")\n",
        "print(f\"Shape of embed character token: {char_embed.shape}\")"
      ],
      "execution_count": 82,
      "outputs": [
        {
          "output_type": "stream",
          "text": [
            "target character: a   s t u d y   g r o u p   (   n   =   @   )   r e c e i v e d   c y t o f l a v i n   i n   a   d o s e   o f   @   t a b l e t s   b . i . d .   o n   d a y s   @   t o   @   d a y s   i n c l u s i v e   d u r i n g   s t a n d a r d   b a s i c   t h e r a p y   .\n",
            "target character length: 269\n",
            "target character token: [[ 5  9  3 16 10 19 18  8  7 16 14  6  8  2 11  2  4 21  2 10 11 19  3  7\n",
            "  17 12  5 21  4  6  4  6  5 10  7  9  2  7 17  3  5 22 12  2  3  9 22  4\n",
            "  10  7  6 10  5 19  9  3  7 10  5 19  9  4  6 11 12 16  9  4 21  2 10 16\n",
            "   8  4  6 18  9  3  5  6 10  5  8 10 22  5  9  4 11  3 13  2  8  5 14 19\n",
            "   0  0  0  0  0  0  0  0  0  0  0  0  0  0  0  0  0  0  0  0  0  0  0  0\n",
            "   0  0  0  0  0  0  0  0  0  0  0  0  0  0  0  0  0  0  0  0  0  0  0  0\n",
            "   0  0  0  0  0  0  0  0  0  0  0  0  0  0  0  0  0  0  0  0  0  0  0  0\n",
            "   0  0  0  0  0  0  0  0  0  0  0  0  0  0  0  0  0  0  0  0  0  0  0  0\n",
            "   0  0  0  0  0  0  0  0  0  0  0  0  0  0  0  0  0  0  0  0  0  0  0  0\n",
            "   0  0  0  0  0  0  0  0  0  0  0  0  0  0  0  0  0  0  0  0  0  0  0  0\n",
            "   0  0  0  0  0  0  0  0  0  0  0  0  0  0  0  0  0  0  0  0  0  0  0  0\n",
            "   0  0  0  0  0  0  0  0  0  0  0  0  0  0  0  0  0  0  0  0  0  0  0  0\n",
            "   0  0]]\n",
            "Length of character token: 290\n",
            "Shape of character token: (1, 290)\n",
            "target embed character: [[[-0.04775356  0.04779467 -0.00444707 ... -0.02710946  0.02912518\n",
            "   -0.04409975]\n",
            "  [ 0.00902332 -0.02766951 -0.0064379  ...  0.00260633  0.01809963\n",
            "    0.0003037 ]\n",
            "  [-0.01476233 -0.02465812  0.00312809 ...  0.01204586 -0.02766554\n",
            "   -0.00440427]\n",
            "  ...\n",
            "  [ 0.0175725  -0.04077063  0.01644099 ... -0.01794875 -0.00744516\n",
            "   -0.04846007]\n",
            "  [ 0.0175725  -0.04077063  0.01644099 ... -0.01794875 -0.00744516\n",
            "   -0.04846007]\n",
            "  [ 0.0175725  -0.04077063  0.01644099 ... -0.01794875 -0.00744516\n",
            "   -0.04846007]]]\n",
            "Length of embed character: 290\n",
            "Shape of embed character token: (1, 290, 25)\n"
          ],
          "name": "stdout"
        }
      ]
    },
    {
      "cell_type": "markdown",
      "metadata": {
        "id": "Cmfw8G0Z-5F1"
      },
      "source": [
        "Character level embedding layers are ready now,let's build the model.\n",
        "\n",
        "#### Building model"
      ]
    },
    {
      "cell_type": "code",
      "metadata": {
        "id": "kdrny1i8_zw_"
      },
      "source": [
        "# Build model\n",
        "inputs = layers.Input(shape=(1,), dtype=tf.string)\n",
        "char_tokens = char_vectorizer(inputs)\n",
        "char_embeds = embedding_char(char_tokens)\n",
        "x = layers.Conv1D(filters=64,\n",
        "                  kernel_size=5,\n",
        "                  padding=\"same\",\n",
        "                  activation=\"relu\")(char_embeds)\n",
        "x = layers.GlobalMaxPool1D()(x)\n",
        "x = layers.Dropout(0.5)(x)\n",
        "x = layers.Conv1D(filters=64,\n",
        "                  kernel_size=5,\n",
        "                  padding=\"same\",\n",
        "                  activation=\"relu\")(char_embeds)\n",
        "x = layers.GlobalMaxPool1D()(x)\n",
        "x = layers.Dropout(0.5)(x)\n",
        "outputs = layers.Dense(5, activation=\"softmax\")(x)\n",
        "model3 = tf.keras.Model(inputs, outputs)"
      ],
      "execution_count": 83,
      "outputs": []
    },
    {
      "cell_type": "code",
      "metadata": {
        "id": "U-1ns2-CA1V8"
      },
      "source": [
        "# Compile the model\n",
        "model3.compile(loss=tf.keras.losses.CategoricalCrossentropy(),\n",
        "               optimizer=tf.keras.optimizers.Adam(),\n",
        "               metrics=[\"accuracy\"])"
      ],
      "execution_count": 84,
      "outputs": []
    },
    {
      "cell_type": "code",
      "metadata": {
        "colab": {
          "base_uri": "https://localhost:8080/"
        },
        "id": "kfgdg8u_BJhT",
        "outputId": "c6cfdab1-a5a9-46b7-a834-b9de051bb538"
      },
      "source": [
        "# Checkout the mode summary\n",
        "model3.summary()"
      ],
      "execution_count": 85,
      "outputs": [
        {
          "output_type": "stream",
          "text": [
            "Model: \"model_1\"\n",
            "_________________________________________________________________\n",
            "Layer (type)                 Output Shape              Param #   \n",
            "=================================================================\n",
            "input_2 (InputLayer)         [(None, 1)]               0         \n",
            "_________________________________________________________________\n",
            "char_vectorizer (TextVectori (None, 290)               0         \n",
            "_________________________________________________________________\n",
            "char_embedding_layer (Embedd (None, 290, 25)           700       \n",
            "_________________________________________________________________\n",
            "conv1d_2 (Conv1D)            (None, 290, 64)           8064      \n",
            "_________________________________________________________________\n",
            "global_max_pooling1d_1 (Glob (None, 64)                0         \n",
            "_________________________________________________________________\n",
            "dropout_1 (Dropout)          (None, 64)                0         \n",
            "_________________________________________________________________\n",
            "dense_3 (Dense)              (None, 5)                 325       \n",
            "=================================================================\n",
            "Total params: 9,089\n",
            "Trainable params: 9,089\n",
            "Non-trainable params: 0\n",
            "_________________________________________________________________\n"
          ],
          "name": "stdout"
        }
      ]
    },
    {
      "cell_type": "code",
      "metadata": {
        "id": "0GUg41_ED-1Y"
      },
      "source": [
        "train_char_dataset = tf.data.Dataset.from_tensor_slices((train_chars,train_labels_one_hot))\n",
        "val_char_dataset = tf.data.Dataset.from_tensor_slices((val_chars, val_labels_one_hot))\n",
        "test_char_dataset = tf.data.Dataset.from_tensor_slices((test_chars, test_labels_one_hot)) "
      ],
      "execution_count": 86,
      "outputs": []
    },
    {
      "cell_type": "code",
      "metadata": {
        "id": "EYFFvsETEdui"
      },
      "source": [
        "# Stting up fast loadig of character level data\n",
        "train_char_dataset = train_char_dataset.batch(batch_size=32).prefetch(buffer_size=tf.data.AUTOTUNE)\n",
        "val_char_dataset = val_char_dataset.batch(batch_size=32).prefetch(buffer_size=tf.data.AUTOTUNE)\n",
        "test_char_dataset = test_char_dataset.batch(batch_size=32).prefetch(buffer_size=tf.data.AUTOTUNE)"
      ],
      "execution_count": 87,
      "outputs": []
    },
    {
      "cell_type": "markdown",
      "metadata": {
        "id": "V_53fgPSBN7p"
      },
      "source": [
        "Character level embedding model has drastically less parameters compared to the other model, because the vocab size of word level tokenization was big and embeddig output size was 128."
      ]
    },
    {
      "cell_type": "code",
      "metadata": {
        "colab": {
          "base_uri": "https://localhost:8080/"
        },
        "id": "0Qsv-fhwBgVN",
        "outputId": "9205eb5d-46dc-418e-d4f6-8d73cd0cf2a3"
      },
      "source": [
        "# Fit the model\n",
        "history3 = model3.fit(train_char_dataset,\n",
        "                      epochs=3,\n",
        "                      steps_per_epoch=int(0.1 * len(train_char_dataset)),\n",
        "                      validation_data=val_char_dataset,\n",
        "                      validation_steps=int(0.1 * len(val_char_dataset)))"
      ],
      "execution_count": 88,
      "outputs": [
        {
          "output_type": "stream",
          "text": [
            "Epoch 1/3\n",
            "562/562 [==============================] - 4s 6ms/step - loss: 1.3831 - accuracy: 0.4080 - val_loss: 1.2051 - val_accuracy: 0.5160\n",
            "Epoch 2/3\n",
            "562/562 [==============================] - 3s 6ms/step - loss: 1.1802 - accuracy: 0.5178 - val_loss: 1.0491 - val_accuracy: 0.5834\n",
            "Epoch 3/3\n",
            "562/562 [==============================] - 3s 6ms/step - loss: 1.1015 - accuracy: 0.5564 - val_loss: 0.9979 - val_accuracy: 0.6160\n"
          ],
          "name": "stdout"
        }
      ]
    },
    {
      "cell_type": "code",
      "metadata": {
        "colab": {
          "base_uri": "https://localhost:8080/"
        },
        "id": "9G5fVkO1B3gL",
        "outputId": "41dd4b90-7746-4532-f1a5-30c9c65dec83"
      },
      "source": [
        "# Get prediction probabalities\n",
        "pred_probs_model3 = model3.predict(val_char_dataset)\n",
        "# Get predictions\n",
        "preds_model3 = tf.argmax(pred_probs_model3, axis=1)\n",
        "preds_model3[:5]"
      ],
      "execution_count": 89,
      "outputs": [
        {
          "output_type": "execute_result",
          "data": {
            "text/plain": [
              "<tf.Tensor: shape=(5,), dtype=int64, numpy=array([1, 1, 2, 2, 2])>"
            ]
          },
          "metadata": {
            "tags": []
          },
          "execution_count": 89
        }
      ]
    },
    {
      "cell_type": "code",
      "metadata": {
        "colab": {
          "base_uri": "https://localhost:8080/"
        },
        "id": "mh3CxitZFvNl",
        "outputId": "843bf287-ee16-4884-9871-cd6dac04005a"
      },
      "source": [
        "# Calculate metrics\n",
        "results_model3 = calculate_results(y_true=val_labels_encoded,\n",
        "                                   y_pred=preds_model3)\n",
        "results_model3"
      ],
      "execution_count": 90,
      "outputs": [
        {
          "output_type": "execute_result",
          "data": {
            "text/plain": [
              "{'accuracy': 0.6125049649146035,\n",
              " 'f1': 0.5972358249296831,\n",
              " 'precision': 0.6000042617776941,\n",
              " 'recall': 0.6125049649146035}"
            ]
          },
          "metadata": {
            "tags": []
          },
          "execution_count": 90
        }
      ]
    },
    {
      "cell_type": "code",
      "metadata": {
        "colab": {
          "base_uri": "https://localhost:8080/",
          "height": 173
        },
        "id": "LDJ_HjYHF8qI",
        "outputId": "426f3a81-8195-4eb5-d8ed-f940dbe4aee8"
      },
      "source": [
        "# Add this to results df\n",
        "results_df[\"model3_conv_with_char_embed\"] = results_model3.values()\n",
        "results_df.T"
      ],
      "execution_count": 91,
      "outputs": [
        {
          "output_type": "execute_result",
          "data": {
            "application/vnd.google.colaboratory.module+javascript": "\n      import \"https://ssl.gstatic.com/colaboratory/data_table/a6224c040fa35dcf/data_table.js\";\n\n      window.createDataTable({\n        data: [[\"baseline\",\n{\n            'v': 0.7218323844829869,\n            'f': \"0.7218323844829869\",\n        },\n{\n            'v': 0.6989250353450294,\n            'f': \"0.6989250353450294\",\n        },\n{\n            'v': 0.7186466952323352,\n            'f': \"0.7186466952323352\",\n        },\n{\n            'v': 0.7218323844829869,\n            'f': \"0.7218323844829869\",\n        }],\n [\"model1_conv1d\",\n{\n            'v': 0.7591354428703826,\n            'f': \"0.7591354428703826\",\n        },\n{\n            'v': 0.7912592849157648,\n            'f': \"0.7912592849157648\",\n        },\n{\n            'v': 0.7591354428703826,\n            'f': \"0.7591354428703826\",\n        },\n{\n            'v': 0.7683973325083314,\n            'f': \"0.7683973325083314\",\n        }],\n [\"model2_use\",\n{\n            'v': 0.7128293393353634,\n            'f': \"0.7128293393353634\",\n        },\n{\n            'v': 0.713530032037143,\n            'f': \"0.713530032037143\",\n        },\n{\n            'v': 0.7128293393353634,\n            'f': \"0.7128293393353634\",\n        },\n{\n            'v': 0.7098348859983751,\n            'f': \"0.7098348859983751\",\n        }],\n [\"model3_conv_with_char_embed\",\n{\n            'v': 0.6125049649146035,\n            'f': \"0.6125049649146035\",\n        },\n{\n            'v': 0.6000042617776941,\n            'f': \"0.6000042617776941\",\n        },\n{\n            'v': 0.6125049649146035,\n            'f': \"0.6125049649146035\",\n        },\n{\n            'v': 0.5972358249296831,\n            'f': \"0.5972358249296831\",\n        }]],\n        columns: [[\"string\", \"index\"], [\"number\", \"accuracy\"], [\"number\", \"f1\"], [\"number\", \"precision\"], [\"number\", \"recall\"]],\n        columnOptions: [{\"width\": \"1px\", \"className\": \"index_column\"}],\n        rowsPerPage: 25,\n        helpUrl: \"https://colab.research.google.com/notebooks/data_table.ipynb\",\n        suppressOutputScrolling: true,\n        minimumWidth: undefined,\n      });\n    ",
            "text/html": [
              "<div>\n",
              "<style scoped>\n",
              "    .dataframe tbody tr th:only-of-type {\n",
              "        vertical-align: middle;\n",
              "    }\n",
              "\n",
              "    .dataframe tbody tr th {\n",
              "        vertical-align: top;\n",
              "    }\n",
              "\n",
              "    .dataframe thead th {\n",
              "        text-align: right;\n",
              "    }\n",
              "</style>\n",
              "<table border=\"1\" class=\"dataframe\">\n",
              "  <thead>\n",
              "    <tr style=\"text-align: right;\">\n",
              "      <th></th>\n",
              "      <th>accuracy</th>\n",
              "      <th>f1</th>\n",
              "      <th>precision</th>\n",
              "      <th>recall</th>\n",
              "    </tr>\n",
              "  </thead>\n",
              "  <tbody>\n",
              "    <tr>\n",
              "      <th>baseline</th>\n",
              "      <td>0.721832</td>\n",
              "      <td>0.698925</td>\n",
              "      <td>0.718647</td>\n",
              "      <td>0.721832</td>\n",
              "    </tr>\n",
              "    <tr>\n",
              "      <th>model1_conv1d</th>\n",
              "      <td>0.759135</td>\n",
              "      <td>0.791259</td>\n",
              "      <td>0.759135</td>\n",
              "      <td>0.768397</td>\n",
              "    </tr>\n",
              "    <tr>\n",
              "      <th>model2_use</th>\n",
              "      <td>0.712829</td>\n",
              "      <td>0.713530</td>\n",
              "      <td>0.712829</td>\n",
              "      <td>0.709835</td>\n",
              "    </tr>\n",
              "    <tr>\n",
              "      <th>model3_conv_with_char_embed</th>\n",
              "      <td>0.612505</td>\n",
              "      <td>0.600004</td>\n",
              "      <td>0.612505</td>\n",
              "      <td>0.597236</td>\n",
              "    </tr>\n",
              "  </tbody>\n",
              "</table>\n",
              "</div>"
            ],
            "text/plain": [
              "                             accuracy        f1  precision    recall\n",
              "baseline                     0.721832  0.698925   0.718647  0.721832\n",
              "model1_conv1d                0.759135  0.791259   0.759135  0.768397\n",
              "model2_use                   0.712829  0.713530   0.712829  0.709835\n",
              "model3_conv_with_char_embed  0.612505  0.600004   0.612505  0.597236"
            ]
          },
          "metadata": {
            "tags": []
          },
          "execution_count": 91
        }
      ]
    },
    {
      "cell_type": "code",
      "metadata": {
        "colab": {
          "base_uri": "https://localhost:8080/",
          "height": 431
        },
        "id": "EdPia8xWGOhO",
        "outputId": "fc14b380-af02-479f-eb87-857976c81358"
      },
      "source": [
        "results_df.T.plot(kind=\"bar\").legend(bbox_to_anchor=(1.05, 1))"
      ],
      "execution_count": 92,
      "outputs": [
        {
          "output_type": "execute_result",
          "data": {
            "text/plain": [
              "<matplotlib.legend.Legend at 0x7f9988257490>"
            ]
          },
          "metadata": {
            "tags": []
          },
          "execution_count": 92
        },
        {
          "output_type": "display_data",
          "data": {
            "image/png": "[encoded data removed]",
            "text/plain": [
              "<Figure size 432x288 with 1 Axes>"
            ]
          },
          "metadata": {
            "tags": [],
            "needs_background": "light"
          }
        }
      ]
    },
    {
      "cell_type": "markdown",
      "metadata": {
        "id": "GOgbaxa-Jc6a"
      },
      "source": [
        "### Model 4: Pretrained token embedding plus character embeddings(hybrid embedding layer)\n",
        "\n",
        "\n",
        "1. Create a token-level embedding model(similar to `model_1`)\n",
        "2. Create a character-level model(similar to `model_3` with a slight modification)\n",
        "3. Combine 1 & 2 with a concatenate (`layers.concatenate`)\n",
        "4. build output layers on top of 3 similar to figure 1 and section 4.2 of the [paper](https://arxiv.org/pdf/1612.05251.pdf)\n",
        "5. Cosntruct a model which takes token and character-level sequences as inputs and produces sequence level probabalities as outputs"
      ]
    },
    {
      "cell_type": "markdown",
      "metadata": {
        "id": "ZH6MtE56EvXn"
      },
      "source": [
        "#### Token level embeddding model"
      ]
    },
    {
      "cell_type": "code",
      "metadata": {
        "colab": {
          "base_uri": "https://localhost:8080/"
        },
        "id": "Xz4FBQkBFKpA",
        "outputId": "935a9280-8ba6-42f8-8b35-de2038fe0e67"
      },
      "source": [
        "# Checkout the existing model summary\n",
        "model2.summary()"
      ],
      "execution_count": 93,
      "outputs": [
        {
          "output_type": "stream",
          "text": [
            "Model: \"sequential\"\n",
            "_________________________________________________________________\n",
            "Layer (type)                 Output Shape              Param #   \n",
            "=================================================================\n",
            "USE (KerasLayer)             (None, 512)               256797824 \n",
            "_________________________________________________________________\n",
            "dense_1 (Dense)              (None, 128)               65664     \n",
            "_________________________________________________________________\n",
            "dense_2 (Dense)              (None, 5)                 645       \n",
            "=================================================================\n",
            "Total params: 256,864,133\n",
            "Trainable params: 66,309\n",
            "Non-trainable params: 256,797,824\n",
            "_________________________________________________________________\n"
          ],
          "name": "stdout"
        }
      ]
    },
    {
      "cell_type": "code",
      "metadata": {
        "id": "thfVB_ZfFOVL"
      },
      "source": [
        "# We can clone the model2, pretrained weights will be retained and the weights of other layers will be resetted\n",
        "# But let's rewrite it for practice\n",
        "# Create another instance of universal sentence encoder from thub\n",
        "universal_sentence_encoder_41 = hub.KerasLayer(handle=\"https://tfhub.dev/google/universal-sentence-encoder/4\",\n",
        "                                               trainable=False,\n",
        "                                               input_shape=[],\n",
        "                                               dtype=tf.string,\n",
        "                                               name=\"universal_sentence_encoder\")"
      ],
      "execution_count": 94,
      "outputs": []
    },
    {
      "cell_type": "code",
      "metadata": {
        "id": "aiVwvp0DGBSU"
      },
      "source": [
        "# Build the model\n",
        "token_inputs = layers.Input(shape=[], dtype=tf.string)\n",
        "token_embeddings = universal_sentence_encoder_41(token_inputs)\n",
        "token_outputs = layers.Dense(128, activation=\"relu\")(token_embeddings)\n",
        "\n",
        "token_model = tf.keras.Model(inputs=token_inputs,\n",
        "                            outputs=token_outputs)"
      ],
      "execution_count": 95,
      "outputs": []
    },
    {
      "cell_type": "markdown",
      "metadata": {
        "id": "UW8FvkshGNDO"
      },
      "source": [
        "#### Character level model"
      ]
    },
    {
      "cell_type": "code",
      "metadata": {
        "colab": {
          "base_uri": "https://localhost:8080/"
        },
        "id": "IUy8m4yCHpwE",
        "outputId": "a232d484-1ee4-4880-a4fc-d76a4a71f843"
      },
      "source": [
        "# Checkout model3 summary\n",
        "model3.summary()"
      ],
      "execution_count": 96,
      "outputs": [
        {
          "output_type": "stream",
          "text": [
            "Model: \"model_1\"\n",
            "_________________________________________________________________\n",
            "Layer (type)                 Output Shape              Param #   \n",
            "=================================================================\n",
            "input_2 (InputLayer)         [(None, 1)]               0         \n",
            "_________________________________________________________________\n",
            "char_vectorizer (TextVectori (None, 290)               0         \n",
            "_________________________________________________________________\n",
            "char_embedding_layer (Embedd (None, 290, 25)           700       \n",
            "_________________________________________________________________\n",
            "conv1d_2 (Conv1D)            (None, 290, 64)           8064      \n",
            "_________________________________________________________________\n",
            "global_max_pooling1d_1 (Glob (None, 64)                0         \n",
            "_________________________________________________________________\n",
            "dropout_1 (Dropout)          (None, 64)                0         \n",
            "_________________________________________________________________\n",
            "dense_3 (Dense)              (None, 5)                 325       \n",
            "=================================================================\n",
            "Total params: 9,089\n",
            "Trainable params: 9,089\n",
            "Non-trainable params: 0\n",
            "_________________________________________________________________\n"
          ],
          "name": "stdout"
        }
      ]
    },
    {
      "cell_type": "code",
      "metadata": {
        "id": "C_OLbs22Hhy0"
      },
      "source": [
        "# Building the model\n",
        "inputs = layers.Input(shape=(1, ), dtype=tf.string)\n",
        "tokens = char_vectorizer(inputs)\n",
        "embeds = embedding_char(tokens)\n",
        "char_bi_lstm = layers.Bidirectional(layers.LSTM(24))(embeds) # from the paper\n",
        "char_model = tf.keras.Model(inputs, char_bi_lstm)"
      ],
      "execution_count": 97,
      "outputs": []
    },
    {
      "cell_type": "markdown",
      "metadata": {
        "id": "hx9iew2FIrlW"
      },
      "source": [
        "#### Concatenate token and character inputs"
      ]
    },
    {
      "cell_type": "code",
      "metadata": {
        "id": "brzLSkodJaDL"
      },
      "source": [
        "token_char_concat = layers.Concatenate(name=\"token_char_hybrid\")([token_model.output, char_model.output])"
      ],
      "execution_count": 98,
      "outputs": []
    },
    {
      "cell_type": "markdown",
      "metadata": {
        "id": "8aH_ECgOLgR4"
      },
      "source": [
        "#### Create output layers - adding in droput, from section 4.2 of paper  "
      ]
    },
    {
      "cell_type": "code",
      "metadata": {
        "id": "HEszt9NHL8Vn"
      },
      "source": [
        "combined_droput = layers.Dropout(0.5)(token_char_concat)\n",
        "combined_dense = layers.Dense(128, activation=\"relu\")(combined_droput)\n",
        "final_dropout = layers.Dropout(0.5)(combined_dense)\n",
        "output_layer = layers.Dense(5, activation=\"softmax\")(final_dropout)"
      ],
      "execution_count": 99,
      "outputs": []
    },
    {
      "cell_type": "code",
      "metadata": {
        "id": "Lo6Y47oHNBzQ"
      },
      "source": [
        "# Construct model with char and token inputs\n",
        "model4 = tf.keras.Model([token_model.input, char_model.input],\n",
        "                        outputs=output_layer,\n",
        "                        name=\"model4_token_and_char_embeds\")"
      ],
      "execution_count": 100,
      "outputs": []
    },
    {
      "cell_type": "code",
      "metadata": {
        "id": "kvx-CMxSNQLO"
      },
      "source": [
        "# Compile the model\n",
        "model4.compile(loss=tf.keras.losses.CategoricalCrossentropy(),\n",
        "               optimizer=tf.keras.optimizers.Adam(),\n",
        "               metrics=[\"accuracy\"])"
      ],
      "execution_count": 101,
      "outputs": []
    },
    {
      "cell_type": "code",
      "metadata": {
        "colab": {
          "base_uri": "https://localhost:8080/"
        },
        "id": "W0rcKoFDNe4B",
        "outputId": "af2eed12-8948-4e3a-af23-5e45465e91a4"
      },
      "source": [
        "# Checkout the model summary\n",
        "model4.summary()"
      ],
      "execution_count": 102,
      "outputs": [
        {
          "output_type": "stream",
          "text": [
            "Model: \"model4_token_and_char_embeds\"\n",
            "__________________________________________________________________________________________________\n",
            "Layer (type)                    Output Shape         Param #     Connected to                     \n",
            "==================================================================================================\n",
            "input_4 (InputLayer)            [(None, 1)]          0                                            \n",
            "__________________________________________________________________________________________________\n",
            "input_3 (InputLayer)            [(None,)]            0                                            \n",
            "__________________________________________________________________________________________________\n",
            "char_vectorizer (TextVectorizat (None, 290)          0           input_4[0][0]                    \n",
            "__________________________________________________________________________________________________\n",
            "universal_sentence_encoder (Ker (None, 512)          256797824   input_3[0][0]                    \n",
            "__________________________________________________________________________________________________\n",
            "char_embedding_layer (Embedding (None, 290, 25)      700         char_vectorizer[1][0]            \n",
            "__________________________________________________________________________________________________\n",
            "dense_4 (Dense)                 (None, 128)          65664       universal_sentence_encoder[0][0] \n",
            "__________________________________________________________________________________________________\n",
            "bidirectional (Bidirectional)   (None, 48)           9600        char_embedding_layer[1][0]       \n",
            "__________________________________________________________________________________________________\n",
            "token_char_hybrid (Concatenate) (None, 176)          0           dense_4[0][0]                    \n",
            "                                                                 bidirectional[0][0]              \n",
            "__________________________________________________________________________________________________\n",
            "dropout_2 (Dropout)             (None, 176)          0           token_char_hybrid[0][0]          \n",
            "__________________________________________________________________________________________________\n",
            "dense_5 (Dense)                 (None, 128)          22656       dropout_2[0][0]                  \n",
            "__________________________________________________________________________________________________\n",
            "dropout_3 (Dropout)             (None, 128)          0           dense_5[0][0]                    \n",
            "__________________________________________________________________________________________________\n",
            "dense_6 (Dense)                 (None, 5)            645         dropout_3[0][0]                  \n",
            "==================================================================================================\n",
            "Total params: 256,897,089\n",
            "Trainable params: 99,265\n",
            "Non-trainable params: 256,797,824\n",
            "__________________________________________________________________________________________________\n"
          ],
          "name": "stdout"
        }
      ]
    },
    {
      "cell_type": "code",
      "metadata": {
        "colab": {
          "base_uri": "https://localhost:8080/",
          "height": 976
        },
        "id": "RlYn5aBeNlMZ",
        "outputId": "523f9199-5bc9-4116-91aa-64585d7e71f7"
      },
      "source": [
        "from tensorflow.keras.utils import plot_model\n",
        "plot_model(model4, show_shapes=True, show_layer_names=True)"
      ],
      "execution_count": 103,
      "outputs": [
        {
          "output_type": "execute_result",
          "data": {
            "image/png": "[encoded data removed]",
            "text/plain": [
              "<IPython.core.display.Image object>"
            ]
          },
          "metadata": {
            "tags": []
          },
          "execution_count": 103
        }
      ]
    },
    {
      "cell_type": "code",
      "metadata": {
        "id": "uxQ9lkXNN0ZL"
      },
      "source": [
        "# Compile the model\n",
        "model4.compile(loss=tf.keras.losses.CategoricalCrossentropy(),\n",
        "               optimizer=tf.keras.optimizers.Adam(), # Paper uses SGD but we're going with Adam\n",
        "               metrics=[\"accuracy\"])"
      ],
      "execution_count": 104,
      "outputs": []
    },
    {
      "cell_type": "markdown",
      "metadata": {
        "id": "5VLfDI-xQJHX"
      },
      "source": [
        "#### Creating multi-input fast loading dataset for model4\n",
        "\n",
        "We're going to combine token dataset and character dataset into `tf.data` Dataset\n",
        "\n",
        "Even though the token character dataset are different both of them have the same labels."
      ]
    },
    {
      "cell_type": "code",
      "metadata": {
        "id": "zwMwdDyVQgzy"
      },
      "source": [
        "# Combine chars and tokens into a dataset\n",
        "train_token_char_data = tf.data.Dataset.from_tensor_slices((train_sentences, train_chars)) # Make features\n",
        "train_token_char_labels = tf.data.Dataset.from_tensor_slices(train_labels_one_hot) # Make label\n",
        "train_token_char_dataset = tf.data.Dataset.zip((train_token_char_data, train_token_char_labels))\n",
        "\n",
        "# Prefetch and batch train data\n",
        "train_token_char_dataset = train_token_char_dataset.batch(32).prefetch(tf.data.AUTOTUNE)"
      ],
      "execution_count": 105,
      "outputs": []
    },
    {
      "cell_type": "code",
      "metadata": {
        "id": "oCNRyqvYQ1It"
      },
      "source": [
        "# For validation data\n",
        "# Combine chars and tokens into a dataset\n",
        "val_token_char_data = tf.data.Dataset.from_tensor_slices((val_sentences, val_chars)) # Make features\n",
        "val_token_char_labels = tf.data.Dataset.from_tensor_slices(val_labels_one_hot) # Make label\n",
        "val_token_char_dataset = tf.data.Dataset.zip((val_token_char_data, val_token_char_labels))\n",
        "\n",
        "# Prefetch and batch train data\n",
        "val_token_char_dataset = val_token_char_dataset.batch(32).prefetch(tf.data.AUTOTUNE)"
      ],
      "execution_count": 106,
      "outputs": []
    },
    {
      "cell_type": "code",
      "metadata": {
        "id": "qp8hXQVB7xFJ"
      },
      "source": [
        "# For test data\n",
        "# Combine chars and tokens into a dataset\n",
        "test_token_char_data = tf.data.Dataset.from_tensor_slices((test_sentences, test_chars)) # Make features\n",
        "test_token_char_labels = tf.data.Dataset.from_tensor_slices(test_labels_one_hot) # Make label\n",
        "test_token_char_dataset = tf.data.Dataset.zip((test_token_char_data, test_token_char_labels))\n",
        "\n",
        "# Prefetch and batch train data\n",
        "test_token_char_dataset = test_token_char_dataset.batch(32).prefetch(tf.data.AUTOTUNE)"
      ],
      "execution_count": 107,
      "outputs": []
    },
    {
      "cell_type": "code",
      "metadata": {
        "colab": {
          "base_uri": "https://localhost:8080/"
        },
        "id": "lD5hTtcZ77uN",
        "outputId": "05b3c9ee-bed6-4429-d54c-7f2bb897cff1"
      },
      "source": [
        "# Checkout training and token char embedding dataset\n",
        "train_token_char_dataset, val_token_char_dataset"
      ],
      "execution_count": 108,
      "outputs": [
        {
          "output_type": "execute_result",
          "data": {
            "text/plain": [
              "(<PrefetchDataset shapes: (((None,), (None,)), (None, 5)), types: ((tf.string, tf.string), tf.float64)>,\n",
              " <PrefetchDataset shapes: (((None,), (None,)), (None, 5)), types: ((tf.string, tf.string), tf.float64)>)"
            ]
          },
          "metadata": {
            "tags": []
          },
          "execution_count": 108
        }
      ]
    },
    {
      "cell_type": "markdown",
      "metadata": {
        "id": "Zj3p99JJ8DUL"
      },
      "source": [
        "So the prefetch data shape is `((None,), (None,)), (None, 5))` tuple of token sentences, char sentences and labels.\n",
        "\n",
        "> 🔑  **Note:** The order in which the input is created is same as the model, token level sentences first followed by character level sentences. Below is the snippet used above for creating the model token input followed by char input\n",
        "\n",
        "```\n",
        "model4 = tf.keras.Model([token_model.input, char_model.input],\n",
        "                        outputs=output_layer,\n",
        "                        name=\"model4_token_and_char_embeds\")\n",
        "```"
      ]
    },
    {
      "cell_type": "code",
      "metadata": {
        "colab": {
          "base_uri": "https://localhost:8080/"
        },
        "id": "cxaDcWG48lVP",
        "outputId": "a8ce40ff-2f66-496e-d88c-1f93e11147c6"
      },
      "source": [
        "# Fitting the mode\n",
        "history4 = model4.fit(train_token_char_dataset,\n",
        "                      epochs=3,\n",
        "                      steps_per_epoch=int(0.1 * len(train_token_char_dataset)),\n",
        "                      validation_data=val_token_char_dataset,\n",
        "                      validation_steps=int(0.1 * len(val_token_char_dataset)))"
      ],
      "execution_count": 109,
      "outputs": [
        {
          "output_type": "stream",
          "text": [
            "Epoch 1/3\n",
            "562/562 [==============================] - 36s 49ms/step - loss: 0.9943 - accuracy: 0.6000 - val_loss: 0.7893 - val_accuracy: 0.6918\n",
            "Epoch 2/3\n",
            "562/562 [==============================] - 26s 47ms/step - loss: 0.8101 - accuracy: 0.6843 - val_loss: 0.7289 - val_accuracy: 0.7261\n",
            "Epoch 3/3\n",
            "562/562 [==============================] - 24s 43ms/step - loss: 0.7792 - accuracy: 0.7025 - val_loss: 0.7057 - val_accuracy: 0.7297\n"
          ],
          "name": "stdout"
        }
      ]
    },
    {
      "cell_type": "code",
      "metadata": {
        "colab": {
          "base_uri": "https://localhost:8080/",
          "height": 573
        },
        "id": "tyO337dr9BpJ",
        "outputId": "d39f2d92-8ca7-48e0-82dc-0e9c98ec74f6"
      },
      "source": [
        "# Checkout the loss curves\n",
        "plot_loss_curves(history4)"
      ],
      "execution_count": 110,
      "outputs": [
        {
          "output_type": "display_data",
          "data": {
            "image/png": "[encoded data removed]",
            "text/plain": [
              "<Figure size 432x288 with 1 Axes>"
            ]
          },
          "metadata": {
            "tags": [],
            "needs_background": "light"
          }
        },
        {
          "output_type": "display_data",
          "data": {
            "image/png": "[encoded data removed]",
            "text/plain": [
              "<Figure size 432x288 with 1 Axes>"
            ]
          },
          "metadata": {
            "tags": [],
            "needs_background": "light"
          }
        }
      ]
    },
    {
      "cell_type": "markdown",
      "metadata": {
        "id": "6MScNM3C-KPI"
      },
      "source": [
        "Looking at the curves the model seems to be underfitting."
      ]
    },
    {
      "cell_type": "code",
      "metadata": {
        "colab": {
          "base_uri": "https://localhost:8080/"
        },
        "id": "jv9sfxTL-R2Y",
        "outputId": "39568a78-707a-4624-d067-969aab2d248b"
      },
      "source": [
        "# Make prediction probabalities\n",
        "pred_probs_model4 = model4.predict(val_token_char_dataset)\n",
        "# Make preds\n",
        "preds_model4 = tf.argmax(pred_probs_model4, axis=1)\n",
        "preds_model4[:5]"
      ],
      "execution_count": 111,
      "outputs": [
        {
          "output_type": "execute_result",
          "data": {
            "text/plain": [
              "<tf.Tensor: shape=(5,), dtype=int64, numpy=array([0, 0, 3, 2, 2])>"
            ]
          },
          "metadata": {
            "tags": []
          },
          "execution_count": 111
        }
      ]
    },
    {
      "cell_type": "code",
      "metadata": {
        "colab": {
          "base_uri": "https://localhost:8080/"
        },
        "id": "6mhX6Lay-ef2",
        "outputId": "ea40b170-b905-470c-8e4c-fd36d27ee61f"
      },
      "source": [
        "# Calculate metrics\n",
        "results_model4 = calculate_results(y_true=val_labels_encoded,\n",
        "                                   y_pred=preds_model4)\n",
        "results_model4"
      ],
      "execution_count": 112,
      "outputs": [
        {
          "output_type": "execute_result",
          "data": {
            "text/plain": [
              "{'accuracy': 0.7260029127499007,\n",
              " 'f1': 0.7257677388149212,\n",
              " 'precision': 0.7291307954902486,\n",
              " 'recall': 0.7260029127499007}"
            ]
          },
          "metadata": {
            "tags": []
          },
          "execution_count": 112
        }
      ]
    },
    {
      "cell_type": "code",
      "metadata": {
        "id": "8msAZlaH-yhN"
      },
      "source": [
        "# Add this to results df\n",
        "results_df[\"model4_tok_plus_char\"] = results_model4.values()"
      ],
      "execution_count": 113,
      "outputs": []
    },
    {
      "cell_type": "code",
      "metadata": {
        "colab": {
          "base_uri": "https://localhost:8080/",
          "height": 194
        },
        "id": "2FC73WUT-8Uc",
        "outputId": "31fd4b46-a411-49d1-aca1-5f8c12d5e8ea"
      },
      "source": [
        "results_df.T"
      ],
      "execution_count": 114,
      "outputs": [
        {
          "output_type": "execute_result",
          "data": {
            "application/vnd.google.colaboratory.module+javascript": "\n      import \"https://ssl.gstatic.com/colaboratory/data_table/a6224c040fa35dcf/data_table.js\";\n\n      window.createDataTable({\n        data: [[\"baseline\",\n{\n            'v': 0.7218323844829869,\n            'f': \"0.7218323844829869\",\n        },\n{\n            'v': 0.6989250353450294,\n            'f': \"0.6989250353450294\",\n        },\n{\n            'v': 0.7186466952323352,\n            'f': \"0.7186466952323352\",\n        },\n{\n            'v': 0.7218323844829869,\n            'f': \"0.7218323844829869\",\n        }],\n [\"model1_conv1d\",\n{\n            'v': 0.7591354428703826,\n            'f': \"0.7591354428703826\",\n        },\n{\n            'v': 0.7912592849157648,\n            'f': \"0.7912592849157648\",\n        },\n{\n            'v': 0.7591354428703826,\n            'f': \"0.7591354428703826\",\n        },\n{\n            'v': 0.7683973325083314,\n            'f': \"0.7683973325083314\",\n        }],\n [\"model2_use\",\n{\n            'v': 0.7128293393353634,\n            'f': \"0.7128293393353634\",\n        },\n{\n            'v': 0.713530032037143,\n            'f': \"0.713530032037143\",\n        },\n{\n            'v': 0.7128293393353634,\n            'f': \"0.7128293393353634\",\n        },\n{\n            'v': 0.7098348859983751,\n            'f': \"0.7098348859983751\",\n        }],\n [\"model3_conv_with_char_embed\",\n{\n            'v': 0.6125049649146035,\n            'f': \"0.6125049649146035\",\n        },\n{\n            'v': 0.6000042617776941,\n            'f': \"0.6000042617776941\",\n        },\n{\n            'v': 0.6125049649146035,\n            'f': \"0.6125049649146035\",\n        },\n{\n            'v': 0.5972358249296831,\n            'f': \"0.5972358249296831\",\n        }],\n [\"model4_tok_plus_char\",\n{\n            'v': 0.7260029127499007,\n            'f': \"0.7260029127499007\",\n        },\n{\n            'v': 0.7291307954902486,\n            'f': \"0.7291307954902486\",\n        },\n{\n            'v': 0.7260029127499007,\n            'f': \"0.7260029127499007\",\n        },\n{\n            'v': 0.7257677388149212,\n            'f': \"0.7257677388149212\",\n        }]],\n        columns: [[\"string\", \"index\"], [\"number\", \"accuracy\"], [\"number\", \"f1\"], [\"number\", \"precision\"], [\"number\", \"recall\"]],\n        columnOptions: [{\"width\": \"1px\", \"className\": \"index_column\"}],\n        rowsPerPage: 25,\n        helpUrl: \"https://colab.research.google.com/notebooks/data_table.ipynb\",\n        suppressOutputScrolling: true,\n        minimumWidth: undefined,\n      });\n    ",
            "text/html": [
              "<div>\n",
              "<style scoped>\n",
              "    .dataframe tbody tr th:only-of-type {\n",
              "        vertical-align: middle;\n",
              "    }\n",
              "\n",
              "    .dataframe tbody tr th {\n",
              "        vertical-align: top;\n",
              "    }\n",
              "\n",
              "    .dataframe thead th {\n",
              "        text-align: right;\n",
              "    }\n",
              "</style>\n",
              "<table border=\"1\" class=\"dataframe\">\n",
              "  <thead>\n",
              "    <tr style=\"text-align: right;\">\n",
              "      <th></th>\n",
              "      <th>accuracy</th>\n",
              "      <th>f1</th>\n",
              "      <th>precision</th>\n",
              "      <th>recall</th>\n",
              "    </tr>\n",
              "  </thead>\n",
              "  <tbody>\n",
              "    <tr>\n",
              "      <th>baseline</th>\n",
              "      <td>0.721832</td>\n",
              "      <td>0.698925</td>\n",
              "      <td>0.718647</td>\n",
              "      <td>0.721832</td>\n",
              "    </tr>\n",
              "    <tr>\n",
              "      <th>model1_conv1d</th>\n",
              "      <td>0.759135</td>\n",
              "      <td>0.791259</td>\n",
              "      <td>0.759135</td>\n",
              "      <td>0.768397</td>\n",
              "    </tr>\n",
              "    <tr>\n",
              "      <th>model2_use</th>\n",
              "      <td>0.712829</td>\n",
              "      <td>0.713530</td>\n",
              "      <td>0.712829</td>\n",
              "      <td>0.709835</td>\n",
              "    </tr>\n",
              "    <tr>\n",
              "      <th>model3_conv_with_char_embed</th>\n",
              "      <td>0.612505</td>\n",
              "      <td>0.600004</td>\n",
              "      <td>0.612505</td>\n",
              "      <td>0.597236</td>\n",
              "    </tr>\n",
              "    <tr>\n",
              "      <th>model4_tok_plus_char</th>\n",
              "      <td>0.726003</td>\n",
              "      <td>0.729131</td>\n",
              "      <td>0.726003</td>\n",
              "      <td>0.725768</td>\n",
              "    </tr>\n",
              "  </tbody>\n",
              "</table>\n",
              "</div>"
            ],
            "text/plain": [
              "                             accuracy        f1  precision    recall\n",
              "baseline                     0.721832  0.698925   0.718647  0.721832\n",
              "model1_conv1d                0.759135  0.791259   0.759135  0.768397\n",
              "model2_use                   0.712829  0.713530   0.712829  0.709835\n",
              "model3_conv_with_char_embed  0.612505  0.600004   0.612505  0.597236\n",
              "model4_tok_plus_char         0.726003  0.729131   0.726003  0.725768"
            ]
          },
          "metadata": {
            "tags": []
          },
          "execution_count": 114
        }
      ]
    },
    {
      "cell_type": "code",
      "metadata": {
        "colab": {
          "base_uri": "https://localhost:8080/",
          "height": 431
        },
        "id": "czeHPDrz_A5Y",
        "outputId": "b72063db-91dd-4115-916d-7f4db88f1d46"
      },
      "source": [
        "results_df.T.plot(kind=\"bar\").legend(bbox_to_anchor=(1.05,1))"
      ],
      "execution_count": 115,
      "outputs": [
        {
          "output_type": "execute_result",
          "data": {
            "text/plain": [
              "<matplotlib.legend.Legend at 0x7f9a6fa7ad10>"
            ]
          },
          "metadata": {
            "tags": []
          },
          "execution_count": 115
        },
        {
          "output_type": "display_data",
          "data": {
            "image/png": "[encoded data removed]",
            "text/plain": [
              "<Figure size 432x288 with 1 Axes>"
            ]
          },
          "metadata": {
            "tags": [],
            "needs_background": "light"
          }
        }
      ]
    },
    {
      "cell_type": "markdown",
      "metadata": {
        "id": "HJYJfreS_5HU"
      },
      "source": [
        "So this model's performance is less than `model_1` with our custom embedding. What we can do is "
      ]
    },
    {
      "cell_type": "markdown",
      "metadata": {
        "id": "_Y9k1YYEhU57"
      },
      "source": [
        "### Model 5: Pretrained token embedding plus character embedding plus positional embedding\n",
        "\n",
        "It seems combining tokn and character embeddings gave the model a little performance boost but not enough.\n",
        "\n",
        "But there's one more piece we can add in to the input.\n",
        "\n",
        "What if we engineered our own features into the model?\n",
        "\n",
        "Meaningm if we tokk our own knowledge about the data and encoded it in a way to give our model more information about our samples?\n",
        "\n",
        "Process of applying our own knowledge to build features as input to a model is called **feature engineering**.\n",
        "\n",
        "In our data there is order in our sequences, objective to conclusions. This information is captures in `train_df` line_number and total_lines features created by us."
      ]
    },
    {
      "cell_type": "code",
      "metadata": {
        "colab": {
          "base_uri": "https://localhost:8080/",
          "height": 173
        },
        "id": "sRn8ska5hc_6",
        "outputId": "8480e07d-c9b7-4b77-8eab-30e1d64258e4"
      },
      "source": [
        "results_df.head()"
      ],
      "execution_count": 116,
      "outputs": [
        {
          "output_type": "execute_result",
          "data": {
            "application/vnd.google.colaboratory.module+javascript": "\n      import \"https://ssl.gstatic.com/colaboratory/data_table/a6224c040fa35dcf/data_table.js\";\n\n      window.createDataTable({\n        data: [[\"accuracy\",\n{\n            'v': 0.7218323844829869,\n            'f': \"0.7218323844829869\",\n        },\n{\n            'v': 0.7591354428703826,\n            'f': \"0.7591354428703826\",\n        },\n{\n            'v': 0.7128293393353634,\n            'f': \"0.7128293393353634\",\n        },\n{\n            'v': 0.6125049649146035,\n            'f': \"0.6125049649146035\",\n        },\n{\n            'v': 0.7260029127499007,\n            'f': \"0.7260029127499007\",\n        }],\n [\"f1\",\n{\n            'v': 0.6989250353450294,\n            'f': \"0.6989250353450294\",\n        },\n{\n            'v': 0.7912592849157648,\n            'f': \"0.7912592849157648\",\n        },\n{\n            'v': 0.713530032037143,\n            'f': \"0.713530032037143\",\n        },\n{\n            'v': 0.6000042617776941,\n            'f': \"0.6000042617776941\",\n        },\n{\n            'v': 0.7291307954902486,\n            'f': \"0.7291307954902486\",\n        }],\n [\"precision\",\n{\n            'v': 0.7186466952323352,\n            'f': \"0.7186466952323352\",\n        },\n{\n            'v': 0.7591354428703826,\n            'f': \"0.7591354428703826\",\n        },\n{\n            'v': 0.7128293393353634,\n            'f': \"0.7128293393353634\",\n        },\n{\n            'v': 0.6125049649146035,\n            'f': \"0.6125049649146035\",\n        },\n{\n            'v': 0.7260029127499007,\n            'f': \"0.7260029127499007\",\n        }],\n [\"recall\",\n{\n            'v': 0.7218323844829869,\n            'f': \"0.7218323844829869\",\n        },\n{\n            'v': 0.7683973325083314,\n            'f': \"0.7683973325083314\",\n        },\n{\n            'v': 0.7098348859983751,\n            'f': \"0.7098348859983751\",\n        },\n{\n            'v': 0.5972358249296831,\n            'f': \"0.5972358249296831\",\n        },\n{\n            'v': 0.7257677388149212,\n            'f': \"0.7257677388149212\",\n        }]],\n        columns: [[\"string\", \"index\"], [\"number\", \"baseline\"], [\"number\", \"model1_conv1d\"], [\"number\", \"model2_use\"], [\"number\", \"model3_conv_with_char_embed\"], [\"number\", \"model4_tok_plus_char\"]],\n        columnOptions: [{\"width\": \"1px\", \"className\": \"index_column\"}],\n        rowsPerPage: 25,\n        helpUrl: \"https://colab.research.google.com/notebooks/data_table.ipynb\",\n        suppressOutputScrolling: true,\n        minimumWidth: undefined,\n      });\n    ",
            "text/html": [
              "<div>\n",
              "<style scoped>\n",
              "    .dataframe tbody tr th:only-of-type {\n",
              "        vertical-align: middle;\n",
              "    }\n",
              "\n",
              "    .dataframe tbody tr th {\n",
              "        vertical-align: top;\n",
              "    }\n",
              "\n",
              "    .dataframe thead th {\n",
              "        text-align: right;\n",
              "    }\n",
              "</style>\n",
              "<table border=\"1\" class=\"dataframe\">\n",
              "  <thead>\n",
              "    <tr style=\"text-align: right;\">\n",
              "      <th></th>\n",
              "      <th>baseline</th>\n",
              "      <th>model1_conv1d</th>\n",
              "      <th>model2_use</th>\n",
              "      <th>model3_conv_with_char_embed</th>\n",
              "      <th>model4_tok_plus_char</th>\n",
              "    </tr>\n",
              "  </thead>\n",
              "  <tbody>\n",
              "    <tr>\n",
              "      <th>accuracy</th>\n",
              "      <td>0.721832</td>\n",
              "      <td>0.759135</td>\n",
              "      <td>0.712829</td>\n",
              "      <td>0.612505</td>\n",
              "      <td>0.726003</td>\n",
              "    </tr>\n",
              "    <tr>\n",
              "      <th>f1</th>\n",
              "      <td>0.698925</td>\n",
              "      <td>0.791259</td>\n",
              "      <td>0.713530</td>\n",
              "      <td>0.600004</td>\n",
              "      <td>0.729131</td>\n",
              "    </tr>\n",
              "    <tr>\n",
              "      <th>precision</th>\n",
              "      <td>0.718647</td>\n",
              "      <td>0.759135</td>\n",
              "      <td>0.712829</td>\n",
              "      <td>0.612505</td>\n",
              "      <td>0.726003</td>\n",
              "    </tr>\n",
              "    <tr>\n",
              "      <th>recall</th>\n",
              "      <td>0.721832</td>\n",
              "      <td>0.768397</td>\n",
              "      <td>0.709835</td>\n",
              "      <td>0.597236</td>\n",
              "      <td>0.725768</td>\n",
              "    </tr>\n",
              "  </tbody>\n",
              "</table>\n",
              "</div>"
            ],
            "text/plain": [
              "           baseline  ...  model4_tok_plus_char\n",
              "accuracy   0.721832  ...              0.726003\n",
              "f1         0.698925  ...              0.729131\n",
              "precision  0.718647  ...              0.726003\n",
              "recall     0.721832  ...              0.725768\n",
              "\n",
              "[4 rows x 5 columns]"
            ]
          },
          "metadata": {
            "tags": []
          },
          "execution_count": 116
        }
      ]
    },
    {
      "cell_type": "markdown",
      "metadata": {
        "id": "8rQzAOZdioS5"
      },
      "source": [
        "The `\"line_number\"` and `\"total_lines\"` columns are features which didn't necessarily come with the training data but can be passed to our model as a **positional embedding**. In other words, the positional embedding is where the sentence appears in an abstract.\n",
        "\n",
        "> **Note:** One of the important thing to consider during feature engineering is, are the hand engineered features availabel during test time or not? Why this is important because, if we built our model with these features and test data doesn't have these and we're application on top of the model it won't work. So make sure hand-engineered features are available during test time.\n",
        "\n",
        "In SkimLit, Yes `line_number` and `total_lines` are available during `test_time`.\n",
        "\n",
        "Meaning, if we were to predict the labels of sequences in an abstract our model had never seen, we could count the number of lines and the track the position of each individual line and pass it to our model.\n",
        "\n",
        "> 🛠 **Exercise:** Another way of creating our positional embedding feature would be to combine the `\"line_number\"` and `\"total_lines\"` columns into one, for example a `\"line_position\"` column may contain values like `1_of_11`, `2_of_11`, etc. Where `1_of_11` would be the first line in an abstract 11 sentences long. After going through the following steps, you might want to revisit this positional embedding stage and see how a combined column of `\"line_position\"` goes against two separate columns."
      ]
    },
    {
      "cell_type": "markdown",
      "metadata": {
        "id": "5wx_xe-biqDl"
      },
      "source": [
        "#### Create positional embeddings\n",
        "\n",
        "We're going to one-hot encode `line_number` and `total_number`.\n",
        "\n",
        "Why one-hot encode, to avoid a potential discrepeancy of model assuming `line_number 2` is twice greater than `line_number 0` "
      ]
    },
    {
      "cell_type": "code",
      "metadata": {
        "colab": {
          "base_uri": "https://localhost:8080/"
        },
        "id": "GSgOcC9cmQDq",
        "outputId": "02d7a1cd-a1ae-4798-fb31-a6ad29197d4b"
      },
      "source": [
        "# How many different line numbers are there\n",
        "train_df.line_number.value_counts()"
      ],
      "execution_count": 205,
      "outputs": [
        {
          "output_type": "execute_result",
          "data": {
            "text/plain": [
              "0     15000\n",
              "1     15000\n",
              "2     15000\n",
              "3     15000\n",
              "4     14992\n",
              "5     14949\n",
              "6     14758\n",
              "7     14279\n",
              "8     13346\n",
              "9     11981\n",
              "10    10041\n",
              "11     7892\n",
              "12     5853\n",
              "13     4152\n",
              "14     2835\n",
              "15     1861\n",
              "16     1188\n",
              "17      751\n",
              "18      462\n",
              "19      286\n",
              "20      162\n",
              "21      101\n",
              "22       66\n",
              "23       33\n",
              "24       22\n",
              "25       14\n",
              "26        7\n",
              "27        4\n",
              "28        3\n",
              "29        1\n",
              "30        1\n",
              "Name: line_number, dtype: int64"
            ]
          },
          "metadata": {
            "tags": []
          },
          "execution_count": 205
        }
      ]
    },
    {
      "cell_type": "code",
      "metadata": {
        "colab": {
          "base_uri": "https://localhost:8080/",
          "height": 265
        },
        "id": "nLEwMe47md-q",
        "outputId": "2e733f67-475b-46ca-b554-96739bcd1263"
      },
      "source": [
        "# Checkout the distribution of \"line_number\" colum\n",
        "train_df.line_number.plot(kind=\"hist\");"
      ],
      "execution_count": 206,
      "outputs": [
        {
          "output_type": "display_data",
          "data": {
            "image/png": "[encoded data removed]",
            "text/plain": [
              "<Figure size 432x288 with 1 Axes>"
            ]
          },
          "metadata": {
            "tags": [],
            "needs_background": "light"
          }
        }
      ]
    },
    {
      "cell_type": "code",
      "metadata": {
        "colab": {
          "base_uri": "https://localhost:8080/"
        },
        "id": "u97os_Xem4oH",
        "outputId": "aa106bd9-35c3-45de-ddd1-32c7d51ad948"
      },
      "source": [
        "# Use percentile\n",
        "np.percentile(train_df.line_number, 98)"
      ],
      "execution_count": 207,
      "outputs": [
        {
          "output_type": "execute_result",
          "data": {
            "text/plain": [
              "15.0"
            ]
          },
          "metadata": {
            "tags": []
          },
          "execution_count": 207
        }
      ]
    },
    {
      "cell_type": "markdown",
      "metadata": {
        "id": "Aa3N8VGgm_lJ"
      },
      "source": [
        "Let's use `tf.one_hot` for this encoding.\n",
        "\n",
        "Setting the `depth` parameter of `tf.one_hot` to 15 means any sample with a `\"line_number\"` value of over 15 gets set to a tensor of all 0's, where as any sample with a `\"line_number\"` of under 15 gets turned into a tensor of all 0's but with a 1 at the index equal to the `\"line_number\"` value.\n",
        "\n",
        "> 🔑 **Note:** We could create a one-hot tensor which has room for all of the potential values of `\"line_number\"` (`depth=30`), however, this would end up in a tensor of double the size of our current one (`depth=15`) where the vast majority of values are 0. Plus, only ~2,000/180,000 samples have a `\"line_number\"` value of over 15. So we would not be gaining much information about our data for doubling our feature space. This kind of problem is called the **curse of dimensionality**. However, since this we're working with deep models, it might be worth trying to throw as much information at the model as possible and seeing what happens. I'll leave exploring values of the `depth` parameter as an extension."
      ]
    },
    {
      "cell_type": "code",
      "metadata": {
        "id": "FfcQxv7pnz6E",
        "colab": {
          "base_uri": "https://localhost:8080/"
        },
        "outputId": "8e220f7a-f818-4dd4-ce03-c7441101ed33"
      },
      "source": [
        "# Use tensorflow to create one-hot encoded tensors of line_number feature\n",
        "train_line_numbers_one_hot = tf.one_hot(train_df.line_number.to_numpy(), depth=15)\n",
        "train_line_numbers_one_hot[:5]"
      ],
      "execution_count": 208,
      "outputs": [
        {
          "output_type": "execute_result",
          "data": {
            "text/plain": [
              "<tf.Tensor: shape=(5, 15), dtype=float32, numpy=\n",
              "array([[1., 0., 0., 0., 0., 0., 0., 0., 0., 0., 0., 0., 0., 0., 0.],\n",
              "       [0., 1., 0., 0., 0., 0., 0., 0., 0., 0., 0., 0., 0., 0., 0.],\n",
              "       [0., 0., 1., 0., 0., 0., 0., 0., 0., 0., 0., 0., 0., 0., 0.],\n",
              "       [0., 0., 0., 1., 0., 0., 0., 0., 0., 0., 0., 0., 0., 0., 0.],\n",
              "       [0., 0., 0., 0., 1., 0., 0., 0., 0., 0., 0., 0., 0., 0., 0.]],\n",
              "      dtype=float32)>"
            ]
          },
          "metadata": {
            "tags": []
          },
          "execution_count": 208
        }
      ]
    },
    {
      "cell_type": "code",
      "metadata": {
        "id": "t5lz0_k5oPbZ",
        "colab": {
          "base_uri": "https://localhost:8080/"
        },
        "outputId": "3e5a2c58-8c70-43ad-f0d8-c89bf07ea41e"
      },
      "source": [
        "# Setting up the same for val and test\n",
        "val_line_numbers_one_hot = tf.one_hot(val_df.line_number.to_numpy(), depth=15)\n",
        "test_line_numbers_one_hot = tf.one_hot(test_df.line_number.to_numpy(), depth=15)\n",
        "val_line_numbers_one_hot.shape"
      ],
      "execution_count": 209,
      "outputs": [
        {
          "output_type": "execute_result",
          "data": {
            "text/plain": [
              "TensorShape([30212, 15])"
            ]
          },
          "metadata": {
            "tags": []
          },
          "execution_count": 209
        }
      ]
    },
    {
      "cell_type": "markdown",
      "metadata": {
        "id": "1ogSqdHvov37"
      },
      "source": [
        "Let's replicate the same for total lines"
      ]
    },
    {
      "cell_type": "code",
      "metadata": {
        "colab": {
          "base_uri": "https://localhost:8080/",
          "height": 267
        },
        "id": "YFEdT1zDol6D",
        "outputId": "7eaf3363-dd47-4886-e177-95a1e9e81aba"
      },
      "source": [
        "# Let's checkout the distribution of total_lines feature\n",
        "train_df.total_lines.plot(kind=\"hist\");"
      ],
      "execution_count": 210,
      "outputs": [
        {
          "output_type": "display_data",
          "data": {
            "image/png": "[encoded data removed]",
            "text/plain": [
              "<Figure size 432x288 with 1 Axes>"
            ]
          },
          "metadata": {
            "tags": [],
            "needs_background": "light"
          }
        }
      ]
    },
    {
      "cell_type": "code",
      "metadata": {
        "colab": {
          "base_uri": "https://localhost:8080/"
        },
        "id": "VA8nHTMOpAx7",
        "outputId": "fc25c7f3-7d78-4ad8-d9f8-b4893f25f152"
      },
      "source": [
        "# Checkout the 98% percentage\n",
        "np.percentile(train_df.total_lines, 98)"
      ],
      "execution_count": 211,
      "outputs": [
        {
          "output_type": "execute_result",
          "data": {
            "text/plain": [
              "20.0"
            ]
          },
          "metadata": {
            "tags": []
          },
          "execution_count": 211
        }
      ]
    },
    {
      "cell_type": "markdown",
      "metadata": {
        "id": "pi1SiKJ9pGp9"
      },
      "source": [
        "So we'll use `20` as the depth for one-hot encoding total lines feature."
      ]
    },
    {
      "cell_type": "code",
      "metadata": {
        "colab": {
          "base_uri": "https://localhost:8080/"
        },
        "id": "_P55pLldpNEt",
        "outputId": "ff9380fb-fc24-4da8-dc97-d14c1e308381"
      },
      "source": [
        "# One-hot encode total lines feature\n",
        "train_total_lines_one_hot = tf.one_hot(train_df.total_lines.to_numpy(), depth=20)\n",
        "train_total_lines_one_hot[:5], train_total_lines_one_hot.shape"
      ],
      "execution_count": 212,
      "outputs": [
        {
          "output_type": "execute_result",
          "data": {
            "text/plain": [
              "(<tf.Tensor: shape=(5, 20), dtype=float32, numpy=\n",
              " array([[0., 0., 0., 0., 0., 0., 0., 0., 0., 0., 0., 1., 0., 0., 0., 0.,\n",
              "         0., 0., 0., 0.],\n",
              "        [0., 0., 0., 0., 0., 0., 0., 0., 0., 0., 0., 1., 0., 0., 0., 0.,\n",
              "         0., 0., 0., 0.],\n",
              "        [0., 0., 0., 0., 0., 0., 0., 0., 0., 0., 0., 1., 0., 0., 0., 0.,\n",
              "         0., 0., 0., 0.],\n",
              "        [0., 0., 0., 0., 0., 0., 0., 0., 0., 0., 0., 1., 0., 0., 0., 0.,\n",
              "         0., 0., 0., 0.],\n",
              "        [0., 0., 0., 0., 0., 0., 0., 0., 0., 0., 0., 1., 0., 0., 0., 0.,\n",
              "         0., 0., 0., 0.]], dtype=float32)>, TensorShape([180040, 20]))"
            ]
          },
          "metadata": {
            "tags": []
          },
          "execution_count": 212
        }
      ]
    },
    {
      "cell_type": "code",
      "metadata": {
        "id": "_yn7aXCHpcXu",
        "colab": {
          "base_uri": "https://localhost:8080/"
        },
        "outputId": "017c7f71-ae52-4fae-d437-bda7973e5b4c"
      },
      "source": [
        "# Do the same for val and test\n",
        "val_total_lines_one_hot = tf.one_hot(val_df.total_lines.to_numpy(), depth=20)\n",
        "test_toal_lines_one_hot = tf.one_hot(test_df.total_lines.to_numpy(), depth=20)\n",
        "val_total_lines_one_hot.shape"
      ],
      "execution_count": 213,
      "outputs": [
        {
          "output_type": "execute_result",
          "data": {
            "text/plain": [
              "TensorShape([30212, 20])"
            ]
          },
          "metadata": {
            "tags": []
          },
          "execution_count": 213
        }
      ]
    },
    {
      "cell_type": "markdown",
      "metadata": {
        "id": "q-W5efxJpwRU"
      },
      "source": [
        "#### Steps for building Model 5(tribrid embedding model)\n",
        "\n",
        "1. Create token-level model\n",
        "2. Create character-level model\n",
        "3. Create model for \"line_number\" feature\n",
        "4. Create model for \"total_lines\" feature\n",
        "5. Combine outputs of 1 & 2 using layer.Concatenate\n",
        "6. Combine the ouputs of 3, 4, 5 using layers.Concatenate\n",
        "7. Create an output layer to accept tribrid embedding and output label probabalities\n",
        "8. Combine the inputs of 1,2,3,4 and the outputs of into a tf.keras.Model"
      ]
    },
    {
      "cell_type": "code",
      "metadata": {
        "id": "pCFXw1QUCtY5"
      },
      "source": [
        "# 1. Create token-level model\n",
        "token_inputs = layers.Input(shape=[], dtype=tf.string, name=\"token_input_layer\")\n",
        "token_embeds = universal_sentence_encoder_41(token_inputs)\n",
        "token_outputs = layers.Dense(128, activation=\"relu\", name=\"token_output_layer\")(token_embeds)\n",
        "token_model = tf.keras.Model(token_inputs, token_outputs, name=\"token_level_model\")"
      ],
      "execution_count": 232,
      "outputs": []
    },
    {
      "cell_type": "code",
      "metadata": {
        "id": "_w9db7A_FGZ5"
      },
      "source": [
        "# 2. Create character-level model\n",
        "char_inputs = layers.Input(shape=(1,), dtype=tf.string, name=\"char_input_layer\")\n",
        "char_vectors = char_vectorizer(char_inputs)\n",
        "char_embeds = embedding_char(char_vectors)\n",
        "char_bi_lstm = layers.Bidirectional(layers.LSTM(24), name=\"char_bi_lstm_layer\")(char_embeds)\n",
        "char_model = tf.keras.Model(inputs=char_inputs,\n",
        "                            outputs=char_bi_lstm,\n",
        "                            name=\"char_level_model\")"
      ],
      "execution_count": 233,
      "outputs": []
    },
    {
      "cell_type": "code",
      "metadata": {
        "id": "CiIHh3IJGKsU"
      },
      "source": [
        "# 3. Create line number model\n",
        "line_number_inputs = layers.Input(shape=(15,), dtype=tf.int32, name=\"line_number_input_layer\")\n",
        "line_number_outputs = layers.Dense(32, activation=\"relu\")(line_number_inputs)\n",
        "line_number_model = tf.keras.Model(inputs=line_number_inputs,\n",
        "                                   outputs=line_number_outputs)"
      ],
      "execution_count": 234,
      "outputs": []
    },
    {
      "cell_type": "code",
      "metadata": {
        "id": "4_HJJH8hGYEo"
      },
      "source": [
        "# 4. Create total lines model\n",
        "total_lines_inputs = layers.Input(shape=(20,), dtype=tf.int32, name=\"total_lines_input_layer\")\n",
        "total_lines_outputs = layers.Dense(32, activation=\"relu\")(total_lines_inputs)\n",
        "total_lines_model = tf.keras.Model(inputs=total_lines_inputs,\n",
        "                                   outputs=total_lines_outputs)"
      ],
      "execution_count": 236,
      "outputs": []
    },
    {
      "cell_type": "code",
      "metadata": {
        "id": "UP8YAC4vGilN"
      },
      "source": [
        "# 5. Combine token and character level outputs\n",
        "z = layers.Concatenate(name=\"token_char_concat_layer\")([token_model.output, char_model.output])\n",
        "z = layers.Dense(256, activation=\"relu\")(z)\n",
        "# Adding droput on top of character token concat layer from paper [https://arxiv.org/pdf/1612.05251.pdf]\n",
        "z = layers.Dropout(0.5)(z)"
      ],
      "execution_count": 237,
      "outputs": []
    },
    {
      "cell_type": "code",
      "metadata": {
        "id": "swjBOZrkH2sI"
      },
      "source": [
        "# 6. Combine 5 with 3 and 4\n",
        "tri_concat = layers.Concatenate(name=\"ln_tl_to_ch_layer\")([line_number_model.output, total_lines_model.output, z])"
      ],
      "execution_count": 238,
      "outputs": []
    },
    {
      "cell_type": "code",
      "metadata": {
        "id": "4_-poYqkIQlq"
      },
      "source": [
        "# 7. Add label prediction output layer on top of 6\n",
        "output_layer = layers.Dense(5, activation=\"softmax\", name=\"output_layer\")(tri_concat)"
      ],
      "execution_count": 240,
      "outputs": []
    },
    {
      "cell_type": "code",
      "metadata": {
        "id": "CiN3LBh6IlxL"
      },
      "source": [
        "# 8. Create multi input mode\n",
        "model5 = tf.keras.Model(inputs=[line_number_model.input, total_lines_model.input, token_model.input, char_model.input],\n",
        "                        outputs=output_layer)"
      ],
      "execution_count": 242,
      "outputs": []
    },
    {
      "cell_type": "markdown",
      "metadata": {
        "id": "Yckh4MI9I16k"
      },
      "source": [
        "Whewww... that was big. Now all the model building steps are done.Let's checkout the model architecture"
      ]
    },
    {
      "cell_type": "code",
      "metadata": {
        "colab": {
          "base_uri": "https://localhost:8080/",
          "height": 569
        },
        "id": "PI-RqanXI9XC",
        "outputId": "f96443e4-172b-48c1-e892-fb97236a647d"
      },
      "source": [
        "# Plot model\n",
        "plot_model(model5, show_layer_names=True, show_shapes=True, show_dtype=True)"
      ],
      "execution_count": 243,
      "outputs": [
        {
          "output_type": "execute_result",
          "data": {
            "image/png": "[encoded data removed]",
            "text/plain": [
              "<IPython.core.display.Image object>"
            ]
          },
          "metadata": {
            "tags": []
          },
          "execution_count": 243
        }
      ]
    },
    {
      "cell_type": "markdown",
      "metadata": {
        "id": "AYNIginqJAZ1"
      },
      "source": [
        "Okay now the model is created, next step is to create fast loading data for this model.\n",
        "\n",
        "#### Create fast loading data `[line_no, total_lines, token, char]`\n",
        "\n",
        "This is the order in which the inputs are passed during model creation, so this is the order that data must be created."
      ]
    },
    {
      "cell_type": "code",
      "metadata": {
        "id": "BSBY-H6hMCaH"
      },
      "source": [
        "# Creating training data\n",
        "train_ln_tl_to_ch_data = tf.data.Dataset.from_tensor_slices((train_line_numbers_one_hot, train_total_lines_one_hot, train_sentences, train_chars))\n",
        "train_ln_tl_to_ch_labels = tf.data.Dataset.from_tensor_slices(train_labels_one_hot)\n",
        "train_ln_tl_to_ch_dataset = tf.data.Dataset.zip((train_ln_tl_to_ch_data, train_ln_tl_to_ch_labels))"
      ],
      "execution_count": 245,
      "outputs": []
    },
    {
      "cell_type": "markdown",
      "metadata": {
        "id": "tVw5oZZYMouv"
      },
      "source": [
        "The shapes are matching with the one-hot encoding depth."
      ]
    },
    {
      "cell_type": "code",
      "metadata": {
        "id": "rVVMSlisMwWO"
      },
      "source": [
        "# Create val\n",
        "val_ln_tl_to_ch_data = tf.data.Dataset.from_tensor_slices((val_line_numbers_one_hot, val_total_lines_one_hot, val_sentences, val_chars))\n",
        "val_ln_tl_to_ch_labels = tf.data.Dataset.from_tensor_slices(val_labels_one_hot)\n",
        "val_ln_tl_to_ch_dataset = tf.data.Dataset.zip((val_ln_tl_to_ch_data, val_ln_tl_to_ch_labels))"
      ],
      "execution_count": 246,
      "outputs": []
    },
    {
      "cell_type": "code",
      "metadata": {
        "id": "FcuTTRhUO4F3"
      },
      "source": [
        "# Create test\n",
        "test_ln_tl_to_ch_data = tf.data.Dataset.from_tensor_slices((test_line_numbers_one_hot, test_toal_lines_one_hot, test_sentences, test_chars))\n",
        "test_ln_tl_to_ch_labels = tf.data.Dataset.from_tensor_slices(test_labels_one_hot)\n",
        "test_ln_tl_to_ch_dataset = tf.data.Dataset.zip((test_ln_tl_to_ch_data, test_ln_tl_to_ch_labels))"
      ],
      "execution_count": 247,
      "outputs": []
    },
    {
      "cell_type": "markdown",
      "metadata": {
        "id": "6JPLFsmzNLyM"
      },
      "source": [
        "Now the data is availabel in tensors, let's make it performant using prefetch and batch it."
      ]
    },
    {
      "cell_type": "code",
      "metadata": {
        "colab": {
          "base_uri": "https://localhost:8080/"
        },
        "id": "XOuaeSpdNSMi",
        "outputId": "106e3a46-b6a6-4c13-9102-68362ff2fbe6"
      },
      "source": [
        "train_ln_tl_to_ch_dataset = train_ln_tl_to_ch_dataset.batch(32).prefetch(tf.data.AUTOTUNE)\n",
        "train_ln_tl_to_ch_dataset"
      ],
      "execution_count": 248,
      "outputs": [
        {
          "output_type": "execute_result",
          "data": {
            "text/plain": [
              "<PrefetchDataset shapes: (((None, 15), (None, 20), (None,), (None,)), (None, 5)), types: ((tf.float32, tf.float32, tf.string, tf.string), tf.float64)>"
            ]
          },
          "metadata": {
            "tags": []
          },
          "execution_count": 248
        }
      ]
    },
    {
      "cell_type": "code",
      "metadata": {
        "id": "i3O12lZHNY1o"
      },
      "source": [
        "# Create val and test prefetch\n",
        "val_ln_tl_to_ch_dataset = val_ln_tl_to_ch_dataset.batch(32).prefetch(tf.data.AUTOTUNE)\n",
        "test_ln_tl_to_ch_dataset = test_ln_tl_to_ch_dataset.batch(32).prefetch(tf.data.AUTOTUNE)"
      ],
      "execution_count": 249,
      "outputs": []
    },
    {
      "cell_type": "markdown",
      "metadata": {
        "id": "qnIFylJTNnAl"
      },
      "source": [
        "Now the data is ready and roaring... Let's compile and fit the model."
      ]
    },
    {
      "cell_type": "code",
      "metadata": {
        "id": "uJ7LnhsvNrZr"
      },
      "source": [
        "# Compile the mode\n",
        "model5.compile(loss=tf.keras.losses.CategoricalCrossentropy(label_smoothing=0.2), # Helps to prevent overfitting\n",
        "               optimizer=tf.keras.optimizers.Adam(),\n",
        "               metrics=[\"accuracy\"])"
      ],
      "execution_count": 250,
      "outputs": []
    },
    {
      "cell_type": "markdown",
      "metadata": {
        "id": "xc5XagfcYwmG"
      },
      "source": [
        "> **Note:** **What is Label smoothing?** for example if the model gets too confident on a single class(e.g. prediction probablity is really high), it may get stuck on that class and not consider other classes.\n",
        "> What Label smoothing does is it assigns some of the values from the highest probablity to other class, in turn, hopefully improving generalisation."
      ]
    },
    {
      "cell_type": "code",
      "metadata": {
        "colab": {
          "base_uri": "https://localhost:8080/"
        },
        "id": "8PR24s4_ONqB",
        "outputId": "01cd9b71-976b-4170-8cb7-ad5000d7ef91"
      },
      "source": [
        "# Fit the mode\n",
        "history5 = model5.fit(train_ln_tl_to_ch_dataset,\n",
        "                      epochs=3,\n",
        "                      steps_per_epoch=int(0.1 * len(train_ln_tl_to_ch_dataset)),\n",
        "                      validation_data=val_ln_tl_to_ch_dataset,\n",
        "                      validation_steps=int(0.1 * len(val_ln_tl_to_ch_dataset)))"
      ],
      "execution_count": 251,
      "outputs": [
        {
          "output_type": "stream",
          "text": [
            "Epoch 1/3\n",
            "562/562 [==============================] - 35s 50ms/step - loss: 1.0994 - accuracy: 0.7233 - val_loss: 0.9866 - val_accuracy: 0.8029\n",
            "Epoch 2/3\n",
            "562/562 [==============================] - 26s 46ms/step - loss: 0.9679 - accuracy: 0.8144 - val_loss: 0.9509 - val_accuracy: 0.8215\n",
            "Epoch 3/3\n",
            "562/562 [==============================] - 24s 42ms/step - loss: 0.9485 - accuracy: 0.8237 - val_loss: 0.9396 - val_accuracy: 0.8311\n"
          ],
          "name": "stdout"
        }
      ]
    },
    {
      "cell_type": "code",
      "metadata": {
        "id": "E4lOF2TOZfRY"
      },
      "source": [
        ""
      ],
      "execution_count": null,
      "outputs": []
    }
  ]
}