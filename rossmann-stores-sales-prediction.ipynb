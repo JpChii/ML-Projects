{
 "cells": [
  {
   "cell_type": "markdown",
   "id": "f9669521",
   "metadata": {},
   "source": [
    "# Rossmann Stores Sales Prediction\n",
    "\n",
    "We're provided with historic data of sales, given this will the future sales of the stores can be predicted.\n",
    "Predicting a number based on other feature (i.e) Regression Problem."
   ]
  },
  {
   "cell_type": "code",
   "execution_count": 213,
   "id": "816a1439",
   "metadata": {},
   "outputs": [],
   "source": [
    "# import pandas as pd\n",
    "import numpy as np\n",
    "import pandas as pd\n",
    "import matplotlib.pyplot as plt\n",
    "import seaborn as sns\n",
    "import sklearn\n",
    "\n",
    "TEST_SIZE = 0.2\n",
    "SEED = 42"
   ]
  },
  {
   "cell_type": "markdown",
   "id": "4ce24074",
   "metadata": {},
   "source": [
    "## 1. Get the data and getting one with it"
   ]
  },
  {
   "cell_type": "code",
   "execution_count": 10,
   "id": "d82d8931",
   "metadata": {},
   "outputs": [
    {
     "name": "stdout",
     "output_type": "stream",
     "text": [
      "sample_submission.csv test.csv\r\n",
      "store.csv             train.csv\r\n"
     ]
    }
   ],
   "source": [
    "!ls data/rossmann-store-sales/"
   ]
  },
  {
   "cell_type": "code",
   "execution_count": 48,
   "id": "ccbf1b15",
   "metadata": {},
   "outputs": [
    {
     "name": "stderr",
     "output_type": "stream",
     "text": [
      "/Users/jayaprakashsivagami/Documents/Tech/ML/Projects/env/lib/python3.7/site-packages/IPython/core/interactiveshell.py:3457: DtypeWarning: Columns (7) have mixed types.Specify dtype option on import or set low_memory=False.\n",
      "  exec(code_obj, self.user_global_ns, self.user_ns)\n"
     ]
    }
   ],
   "source": [
    "train_df = pd.read_csv(\"data/rossmann-store-sales/train.csv\", parse_dates=['Date'])\n",
    "train_df.set_index([\"Date\"], inplace=True)\n",
    "store_df = pd.read_csv(\"data/rossmann-store-sales/store.csv\")"
   ]
  },
  {
   "cell_type": "code",
   "execution_count": 49,
   "id": "5b5f2d63",
   "metadata": {},
   "outputs": [
    {
     "data": {
      "text/html": [
       "<div>\n",
       "<style scoped>\n",
       "    .dataframe tbody tr th:only-of-type {\n",
       "        vertical-align: middle;\n",
       "    }\n",
       "\n",
       "    .dataframe tbody tr th {\n",
       "        vertical-align: top;\n",
       "    }\n",
       "\n",
       "    .dataframe thead th {\n",
       "        text-align: right;\n",
       "    }\n",
       "</style>\n",
       "<table border=\"1\" class=\"dataframe\">\n",
       "  <thead>\n",
       "    <tr style=\"text-align: right;\">\n",
       "      <th></th>\n",
       "      <th>Store</th>\n",
       "      <th>DayOfWeek</th>\n",
       "      <th>Sales</th>\n",
       "      <th>Customers</th>\n",
       "      <th>Open</th>\n",
       "      <th>Promo</th>\n",
       "      <th>StateHoliday</th>\n",
       "      <th>SchoolHoliday</th>\n",
       "    </tr>\n",
       "    <tr>\n",
       "      <th>Date</th>\n",
       "      <th></th>\n",
       "      <th></th>\n",
       "      <th></th>\n",
       "      <th></th>\n",
       "      <th></th>\n",
       "      <th></th>\n",
       "      <th></th>\n",
       "      <th></th>\n",
       "    </tr>\n",
       "  </thead>\n",
       "  <tbody>\n",
       "    <tr>\n",
       "      <th>2015-07-31</th>\n",
       "      <td>1</td>\n",
       "      <td>5</td>\n",
       "      <td>5263</td>\n",
       "      <td>555</td>\n",
       "      <td>1</td>\n",
       "      <td>1</td>\n",
       "      <td>0</td>\n",
       "      <td>1</td>\n",
       "    </tr>\n",
       "    <tr>\n",
       "      <th>2015-07-31</th>\n",
       "      <td>2</td>\n",
       "      <td>5</td>\n",
       "      <td>6064</td>\n",
       "      <td>625</td>\n",
       "      <td>1</td>\n",
       "      <td>1</td>\n",
       "      <td>0</td>\n",
       "      <td>1</td>\n",
       "    </tr>\n",
       "    <tr>\n",
       "      <th>2015-07-31</th>\n",
       "      <td>3</td>\n",
       "      <td>5</td>\n",
       "      <td>8314</td>\n",
       "      <td>821</td>\n",
       "      <td>1</td>\n",
       "      <td>1</td>\n",
       "      <td>0</td>\n",
       "      <td>1</td>\n",
       "    </tr>\n",
       "    <tr>\n",
       "      <th>2015-07-31</th>\n",
       "      <td>4</td>\n",
       "      <td>5</td>\n",
       "      <td>13995</td>\n",
       "      <td>1498</td>\n",
       "      <td>1</td>\n",
       "      <td>1</td>\n",
       "      <td>0</td>\n",
       "      <td>1</td>\n",
       "    </tr>\n",
       "    <tr>\n",
       "      <th>2015-07-31</th>\n",
       "      <td>5</td>\n",
       "      <td>5</td>\n",
       "      <td>4822</td>\n",
       "      <td>559</td>\n",
       "      <td>1</td>\n",
       "      <td>1</td>\n",
       "      <td>0</td>\n",
       "      <td>1</td>\n",
       "    </tr>\n",
       "  </tbody>\n",
       "</table>\n",
       "</div>"
      ],
      "text/plain": [
       "            Store  DayOfWeek  Sales  Customers  Open  Promo StateHoliday  \\\n",
       "Date                                                                       \n",
       "2015-07-31      1          5   5263        555     1      1            0   \n",
       "2015-07-31      2          5   6064        625     1      1            0   \n",
       "2015-07-31      3          5   8314        821     1      1            0   \n",
       "2015-07-31      4          5  13995       1498     1      1            0   \n",
       "2015-07-31      5          5   4822        559     1      1            0   \n",
       "\n",
       "            SchoolHoliday  \n",
       "Date                       \n",
       "2015-07-31              1  \n",
       "2015-07-31              1  \n",
       "2015-07-31              1  \n",
       "2015-07-31              1  \n",
       "2015-07-31              1  "
      ]
     },
     "execution_count": 49,
     "metadata": {},
     "output_type": "execute_result"
    }
   ],
   "source": [
    "train_df.head()"
   ]
  },
  {
   "cell_type": "code",
   "execution_count": 16,
   "id": "eb5031ab",
   "metadata": {},
   "outputs": [
    {
     "name": "stdout",
     "output_type": "stream",
     "text": [
      "<class 'pandas.core.frame.DataFrame'>\n",
      "DatetimeIndex: 1017209 entries, 2015-07-31 to 2013-01-01\n",
      "Data columns (total 8 columns):\n",
      " #   Column         Non-Null Count    Dtype \n",
      "---  ------         --------------    ----- \n",
      " 0   Store          1017209 non-null  int64 \n",
      " 1   DayOfWeek      1017209 non-null  int64 \n",
      " 2   Sales          1017209 non-null  int64 \n",
      " 3   Customers      1017209 non-null  int64 \n",
      " 4   Open           1017209 non-null  int64 \n",
      " 5   Promo          1017209 non-null  int64 \n",
      " 6   StateHoliday   1017209 non-null  object\n",
      " 7   SchoolHoliday  1017209 non-null  int64 \n",
      "dtypes: int64(7), object(1)\n",
      "memory usage: 69.8+ MB\n"
     ]
    }
   ],
   "source": [
    "train_df.info()"
   ]
  },
  {
   "cell_type": "code",
   "execution_count": 25,
   "id": "4340ac47",
   "metadata": {},
   "outputs": [
    {
     "data": {
      "text/html": [
       "<div>\n",
       "<style scoped>\n",
       "    .dataframe tbody tr th:only-of-type {\n",
       "        vertical-align: middle;\n",
       "    }\n",
       "\n",
       "    .dataframe tbody tr th {\n",
       "        vertical-align: top;\n",
       "    }\n",
       "\n",
       "    .dataframe thead th {\n",
       "        text-align: right;\n",
       "    }\n",
       "</style>\n",
       "<table border=\"1\" class=\"dataframe\">\n",
       "  <thead>\n",
       "    <tr style=\"text-align: right;\">\n",
       "      <th></th>\n",
       "      <th>Store</th>\n",
       "      <th>DayOfWeek</th>\n",
       "      <th>Sales</th>\n",
       "      <th>Customers</th>\n",
       "      <th>Open</th>\n",
       "      <th>Promo</th>\n",
       "      <th>SchoolHoliday</th>\n",
       "    </tr>\n",
       "  </thead>\n",
       "  <tbody>\n",
       "    <tr>\n",
       "      <th>count</th>\n",
       "      <td>1.017209e+06</td>\n",
       "      <td>1.017209e+06</td>\n",
       "      <td>1.017209e+06</td>\n",
       "      <td>1.017209e+06</td>\n",
       "      <td>1.017209e+06</td>\n",
       "      <td>1.017209e+06</td>\n",
       "      <td>1.017209e+06</td>\n",
       "    </tr>\n",
       "    <tr>\n",
       "      <th>mean</th>\n",
       "      <td>5.584297e+02</td>\n",
       "      <td>3.998341e+00</td>\n",
       "      <td>5.773819e+03</td>\n",
       "      <td>6.331459e+02</td>\n",
       "      <td>8.301067e-01</td>\n",
       "      <td>3.815145e-01</td>\n",
       "      <td>1.786467e-01</td>\n",
       "    </tr>\n",
       "    <tr>\n",
       "      <th>std</th>\n",
       "      <td>3.219087e+02</td>\n",
       "      <td>1.997391e+00</td>\n",
       "      <td>3.849926e+03</td>\n",
       "      <td>4.644117e+02</td>\n",
       "      <td>3.755392e-01</td>\n",
       "      <td>4.857586e-01</td>\n",
       "      <td>3.830564e-01</td>\n",
       "    </tr>\n",
       "    <tr>\n",
       "      <th>min</th>\n",
       "      <td>1.000000e+00</td>\n",
       "      <td>1.000000e+00</td>\n",
       "      <td>0.000000e+00</td>\n",
       "      <td>0.000000e+00</td>\n",
       "      <td>0.000000e+00</td>\n",
       "      <td>0.000000e+00</td>\n",
       "      <td>0.000000e+00</td>\n",
       "    </tr>\n",
       "    <tr>\n",
       "      <th>25%</th>\n",
       "      <td>2.800000e+02</td>\n",
       "      <td>2.000000e+00</td>\n",
       "      <td>3.727000e+03</td>\n",
       "      <td>4.050000e+02</td>\n",
       "      <td>1.000000e+00</td>\n",
       "      <td>0.000000e+00</td>\n",
       "      <td>0.000000e+00</td>\n",
       "    </tr>\n",
       "    <tr>\n",
       "      <th>50%</th>\n",
       "      <td>5.580000e+02</td>\n",
       "      <td>4.000000e+00</td>\n",
       "      <td>5.744000e+03</td>\n",
       "      <td>6.090000e+02</td>\n",
       "      <td>1.000000e+00</td>\n",
       "      <td>0.000000e+00</td>\n",
       "      <td>0.000000e+00</td>\n",
       "    </tr>\n",
       "    <tr>\n",
       "      <th>75%</th>\n",
       "      <td>8.380000e+02</td>\n",
       "      <td>6.000000e+00</td>\n",
       "      <td>7.856000e+03</td>\n",
       "      <td>8.370000e+02</td>\n",
       "      <td>1.000000e+00</td>\n",
       "      <td>1.000000e+00</td>\n",
       "      <td>0.000000e+00</td>\n",
       "    </tr>\n",
       "    <tr>\n",
       "      <th>max</th>\n",
       "      <td>1.115000e+03</td>\n",
       "      <td>7.000000e+00</td>\n",
       "      <td>4.155100e+04</td>\n",
       "      <td>7.388000e+03</td>\n",
       "      <td>1.000000e+00</td>\n",
       "      <td>1.000000e+00</td>\n",
       "      <td>1.000000e+00</td>\n",
       "    </tr>\n",
       "  </tbody>\n",
       "</table>\n",
       "</div>"
      ],
      "text/plain": [
       "              Store     DayOfWeek         Sales     Customers          Open  \\\n",
       "count  1.017209e+06  1.017209e+06  1.017209e+06  1.017209e+06  1.017209e+06   \n",
       "mean   5.584297e+02  3.998341e+00  5.773819e+03  6.331459e+02  8.301067e-01   \n",
       "std    3.219087e+02  1.997391e+00  3.849926e+03  4.644117e+02  3.755392e-01   \n",
       "min    1.000000e+00  1.000000e+00  0.000000e+00  0.000000e+00  0.000000e+00   \n",
       "25%    2.800000e+02  2.000000e+00  3.727000e+03  4.050000e+02  1.000000e+00   \n",
       "50%    5.580000e+02  4.000000e+00  5.744000e+03  6.090000e+02  1.000000e+00   \n",
       "75%    8.380000e+02  6.000000e+00  7.856000e+03  8.370000e+02  1.000000e+00   \n",
       "max    1.115000e+03  7.000000e+00  4.155100e+04  7.388000e+03  1.000000e+00   \n",
       "\n",
       "              Promo  SchoolHoliday  \n",
       "count  1.017209e+06   1.017209e+06  \n",
       "mean   3.815145e-01   1.786467e-01  \n",
       "std    4.857586e-01   3.830564e-01  \n",
       "min    0.000000e+00   0.000000e+00  \n",
       "25%    0.000000e+00   0.000000e+00  \n",
       "50%    0.000000e+00   0.000000e+00  \n",
       "75%    1.000000e+00   0.000000e+00  \n",
       "max    1.000000e+00   1.000000e+00  "
      ]
     },
     "execution_count": 25,
     "metadata": {},
     "output_type": "execute_result"
    }
   ],
   "source": [
    "train_df.describe()"
   ]
  },
  {
   "cell_type": "code",
   "execution_count": 50,
   "id": "fc6043b5",
   "metadata": {},
   "outputs": [
    {
     "name": "stdout",
     "output_type": "stream",
     "text": [
      "\n",
      "Value counts for feature Store:\n",
      "1      942\n",
      "726    942\n",
      "708    942\n",
      "709    942\n",
      "713    942\n",
      "      ... \n",
      "159    758\n",
      "637    758\n",
      "636    758\n",
      "633    758\n",
      "155    758\n",
      "Name: Store, Length: 1115, dtype: int64\n",
      "    \n",
      "\n",
      "Value counts for feature DayOfWeek:\n",
      "5    145845\n",
      "4    145845\n",
      "3    145665\n",
      "2    145664\n",
      "1    144730\n",
      "7    144730\n",
      "6    144730\n",
      "Name: DayOfWeek, dtype: int64\n",
      "    \n",
      "\n",
      "Value counts for feature Sales:\n",
      "0        172871\n",
      "5674        215\n",
      "5558        197\n",
      "5483        196\n",
      "6214        195\n",
      "          ...  \n",
      "23806         1\n",
      "24183         1\n",
      "20651         1\n",
      "25083         1\n",
      "23303         1\n",
      "Name: Sales, Length: 21734, dtype: int64\n",
      "    \n",
      "\n",
      "Value counts for feature Customers:\n",
      "0       172869\n",
      "560       2414\n",
      "576       2363\n",
      "603       2337\n",
      "571       2330\n",
      "         ...  \n",
      "4815         1\n",
      "3998         1\n",
      "4210         1\n",
      "4920         1\n",
      "4065         1\n",
      "Name: Customers, Length: 4086, dtype: int64\n",
      "    \n",
      "\n",
      "Value counts for feature Open:\n",
      "1    844392\n",
      "0    172817\n",
      "Name: Open, dtype: int64\n",
      "    \n",
      "\n",
      "Value counts for feature Promo:\n",
      "0    629129\n",
      "1    388080\n",
      "Name: Promo, dtype: int64\n",
      "    \n",
      "\n",
      "Value counts for feature StateHoliday:\n",
      "0    855087\n",
      "0    131072\n",
      "a     20260\n",
      "b      6690\n",
      "c      4100\n",
      "Name: StateHoliday, dtype: int64\n",
      "    \n",
      "\n",
      "Value counts for feature SchoolHoliday:\n",
      "0    835488\n",
      "1    181721\n",
      "Name: SchoolHoliday, dtype: int64\n",
      "    \n"
     ]
    }
   ],
   "source": [
    "for feature in train_df.columns:\n",
    "    print(f\"\"\"\n",
    "Value counts for feature {feature}:\n",
    "{train_df[feature].value_counts()}\n",
    "    \"\"\")"
   ]
  },
  {
   "cell_type": "code",
   "execution_count": 51,
   "id": "70087aff",
   "metadata": {},
   "outputs": [],
   "source": [
    "# There's 0 and '0' for StateHoliday, let's convert all of them into a string\n",
    "train_df.StateHoliday = train_df.StateHoliday.astype('str')"
   ]
  },
  {
   "cell_type": "code",
   "execution_count": 52,
   "id": "31a36731",
   "metadata": {},
   "outputs": [
    {
     "data": {
      "text/plain": [
       "0    986159\n",
       "a     20260\n",
       "b      6690\n",
       "c      4100\n",
       "Name: StateHoliday, dtype: int64"
      ]
     },
     "execution_count": 52,
     "metadata": {},
     "output_type": "execute_result"
    }
   ],
   "source": [
    "train_df.StateHoliday.value_counts()"
   ]
  },
  {
   "cell_type": "markdown",
   "id": "cf8c3454",
   "metadata": {},
   "source": [
    "Now that the datatype mismatch for 0 is fixed in `StateHoliday` feature"
   ]
  },
  {
   "cell_type": "markdown",
   "id": "5059b641",
   "metadata": {},
   "source": [
    "### Some description for the features of `train_df`\n",
    "\n",
    "Let's write a one-liner for each feature for better clarity:\n",
    "\n",
    "1. `Store` - Unique Id for each store\n",
    "2. `DayOfWeek` - Day of sale in the week with values form 1 to 7 for each day\n",
    "3. `Date` - Sale date for the datapoint or instance\n",
    "4. `Customers` - Number of customers on the day\n",
    "5. `Open` - Whether the store is open or not 0-closed, 1-open\n",
    "6. `Promo` Indicates whether a store is running a promo on the day\n",
    "  * `0` - store is not participating\n",
    "  * `1` - store is participating\n",
    "7. `StateHoliday` - Indicate the type of stateholiday, all the stores with few exceptions are always closed on holidays\n",
    "  * `a` - public holiday\n",
    "  * `b` - easter holiday\n",
    "  * `c` - christmas holiday\n",
    "  * `0` - No holiday\n",
    "8. `SchoolHoliday` - Indicate whether the school is open or not\n",
    "  * `0` - Open\n",
    "  * `1` - Closed\n",
    "9. `Sales` - Sales for the day, the target feature to be predicted"
   ]
  },
  {
   "cell_type": "markdown",
   "id": "68e10d06",
   "metadata": {},
   "source": [
    "We have only one feature in train dataset `StateHoliday` in object type and can be concluded as a categorical feature because it has only four values. Let's convert it to categorical feature and replace it with cat codes converting it into a numerical making our life easier for eda."
   ]
  },
  {
   "cell_type": "code",
   "execution_count": 60,
   "id": "8e2986ef",
   "metadata": {},
   "outputs": [],
   "source": [
    "train_df[\"StateHoliday\"] = train_df.StateHoliday.astype(\"category\").cat.as_ordered()"
   ]
  },
  {
   "cell_type": "code",
   "execution_count": 61,
   "id": "02c90b7a",
   "metadata": {},
   "outputs": [
    {
     "data": {
      "text/plain": [
       "CategoricalDtype(categories=[0, 1, 2, 3], ordered=True)"
      ]
     },
     "execution_count": 61,
     "metadata": {},
     "output_type": "execute_result"
    }
   ],
   "source": [
    "train_df.StateHoliday.dtype"
   ]
  },
  {
   "cell_type": "code",
   "execution_count": 62,
   "id": "0265c1d3",
   "metadata": {},
   "outputs": [
    {
     "data": {
      "text/plain": [
       "Int64Index([0, 1, 2, 3], dtype='int64')"
      ]
     },
     "execution_count": 62,
     "metadata": {},
     "output_type": "execute_result"
    }
   ],
   "source": [
    "train_df.StateHoliday.cat.categories"
   ]
  },
  {
   "cell_type": "code",
   "execution_count": 63,
   "id": "803dd686",
   "metadata": {},
   "outputs": [
    {
     "data": {
      "text/plain": [
       "0    986159\n",
       "1     20260\n",
       "2      6690\n",
       "3      4100\n",
       "Name: StateHoliday, dtype: int64"
      ]
     },
     "execution_count": 63,
     "metadata": {},
     "output_type": "execute_result"
    }
   ],
   "source": [
    "train_df.StateHoliday.value_counts()"
   ]
  },
  {
   "cell_type": "code",
   "execution_count": 64,
   "id": "85cecf3e",
   "metadata": {},
   "outputs": [],
   "source": [
    "train_df.StateHoliday = train_df.StateHoliday.cat.codes"
   ]
  },
  {
   "cell_type": "code",
   "execution_count": 65,
   "id": "03709a49",
   "metadata": {},
   "outputs": [
    {
     "data": {
      "text/plain": [
       "0    986159\n",
       "1     20260\n",
       "2      6690\n",
       "3      4100\n",
       "Name: StateHoliday, dtype: int64"
      ]
     },
     "execution_count": 65,
     "metadata": {},
     "output_type": "execute_result"
    }
   ],
   "source": [
    "train_df.StateHoliday.value_counts()"
   ]
  },
  {
   "cell_type": "code",
   "execution_count": 68,
   "id": "670469fc",
   "metadata": {},
   "outputs": [
    {
     "data": {
      "image/png": "[encoded data removed]",
      "text/plain": [
       "<Figure size 1440x1008 with 9 Axes>"
      ]
     },
     "metadata": {
      "needs_background": "light"
     },
     "output_type": "display_data"
    }
   ],
   "source": [
    "# Let's do a hist for all the features\n",
    "train_df.hist(figsize=(20, 14), bins=50);"
   ]
  },
  {
   "cell_type": "markdown",
   "id": "9be6ff87",
   "metadata": {},
   "source": [
    "To avoid *Sneak Bias* Let's split the data before going further into EDA of dataset"
   ]
  },
  {
   "cell_type": "code",
   "execution_count": 69,
   "id": "e8ed9054",
   "metadata": {},
   "outputs": [
    {
     "data": {
      "text/plain": [
       "Store            0\n",
       "DayOfWeek        0\n",
       "Sales            0\n",
       "Customers        0\n",
       "Open             0\n",
       "Promo            0\n",
       "StateHoliday     0\n",
       "SchoolHoliday    0\n",
       "dtype: int64"
      ]
     },
     "execution_count": 69,
     "metadata": {},
     "output_type": "execute_result"
    }
   ],
   "source": [
    "# Before that let's check for any nan datapoints\n",
    "train_df.isna().sum()"
   ]
  },
  {
   "cell_type": "code",
   "execution_count": 72,
   "id": "b7695ff9",
   "metadata": {},
   "outputs": [],
   "source": [
    "# Splitting features and labels\n",
    "X, y = train_df.drop(\"Sales\", axis=1), train_df[\"Sales\"]"
   ]
  },
  {
   "cell_type": "code",
   "execution_count": 80,
   "id": "6875d56d",
   "metadata": {},
   "outputs": [],
   "source": [
    "# Writing a function to see a dataframe's features to get an insight\n",
    "def dataset_info(df: pd.DataFrame or pd.Series):\n",
    "    \"\"\"\n",
    "    Function accepts a pandas dataframe or series\n",
    "    and gives information on the dataset\n",
    "    \"\"\"\n",
    "    \n",
    "    print(f\"Shape of dataset is: {df.shape}\")\n",
    "    print(f\"Number of dimensions is: {df.ndim}\")"
   ]
  },
  {
   "cell_type": "code",
   "execution_count": 81,
   "id": "c37895b0",
   "metadata": {},
   "outputs": [
    {
     "name": "stdout",
     "output_type": "stream",
     "text": [
      "Shape of dataset is: (1017209, 7)\n",
      "Number of dimensions is: 2\n"
     ]
    }
   ],
   "source": [
    "dataset_info(X)"
   ]
  },
  {
   "cell_type": "code",
   "execution_count": 82,
   "id": "191218f5",
   "metadata": {},
   "outputs": [
    {
     "name": "stdout",
     "output_type": "stream",
     "text": [
      "Shape of dataset is: (1017209,)\n",
      "Number of dimensions is: 1\n"
     ]
    }
   ],
   "source": [
    "dataset_info(y)"
   ]
  },
  {
   "cell_type": "code",
   "execution_count": 87,
   "id": "1930ace0",
   "metadata": {},
   "outputs": [],
   "source": [
    "SEED=42\n",
    "# Splitting the data\n",
    "from sklearn.model_selection import train_test_split\n",
    "X_train, X_test, y_train, y_test = train_test_split(X, y, test_size=0.2, random_state=SEED)"
   ]
  },
  {
   "cell_type": "code",
   "execution_count": 88,
   "id": "a2eda001",
   "metadata": {},
   "outputs": [
    {
     "name": "stdout",
     "output_type": "stream",
     "text": [
      "Shape of dataset is: (813767, 7)\n",
      "Number of dimensions is: 2\n",
      "Shape of dataset is: (203442, 7)\n",
      "Number of dimensions is: 2\n",
      "Shape of dataset is: (813767,)\n",
      "Number of dimensions is: 1\n",
      "Shape of dataset is: (203442,)\n",
      "Number of dimensions is: 1\n"
     ]
    },
    {
     "data": {
      "text/plain": [
       "(None, None, None, None)"
      ]
     },
     "execution_count": 88,
     "metadata": {},
     "output_type": "execute_result"
    }
   ],
   "source": [
    "dataset_info(X_train), dataset_info(X_test), dataset_info(y_train), dataset_info(y_test)"
   ]
  },
  {
   "cell_type": "markdown",
   "id": "31adfc2f",
   "metadata": {},
   "source": [
    "Let's look if we can get any useful feature from store df to train df before we go any further on train df."
   ]
  },
  {
   "cell_type": "code",
   "execution_count": 17,
   "id": "9f30de12",
   "metadata": {},
   "outputs": [
    {
     "name": "stdout",
     "output_type": "stream",
     "text": [
      "<class 'pandas.core.frame.DataFrame'>\n",
      "RangeIndex: 1115 entries, 0 to 1114\n",
      "Data columns (total 10 columns):\n",
      " #   Column                     Non-Null Count  Dtype  \n",
      "---  ------                     --------------  -----  \n",
      " 0   Store                      1115 non-null   int64  \n",
      " 1   StoreType                  1115 non-null   object \n",
      " 2   Assortment                 1115 non-null   object \n",
      " 3   CompetitionDistance        1112 non-null   float64\n",
      " 4   CompetitionOpenSinceMonth  761 non-null    float64\n",
      " 5   CompetitionOpenSinceYear   761 non-null    float64\n",
      " 6   Promo2                     1115 non-null   int64  \n",
      " 7   Promo2SinceWeek            571 non-null    float64\n",
      " 8   Promo2SinceYear            571 non-null    float64\n",
      " 9   PromoInterval              571 non-null    object \n",
      "dtypes: float64(5), int64(2), object(3)\n",
      "memory usage: 87.2+ KB\n"
     ]
    }
   ],
   "source": [
    "store_df.info()"
   ]
  },
  {
   "cell_type": "code",
   "execution_count": 19,
   "id": "9f2ba871",
   "metadata": {},
   "outputs": [
    {
     "data": {
      "text/plain": [
       "Store                          0\n",
       "StoreType                      0\n",
       "Assortment                     0\n",
       "CompetitionDistance            3\n",
       "CompetitionOpenSinceMonth    354\n",
       "CompetitionOpenSinceYear     354\n",
       "Promo2                         0\n",
       "Promo2SinceWeek              544\n",
       "Promo2SinceYear              544\n",
       "PromoInterval                544\n",
       "dtype: int64"
      ]
     },
     "execution_count": 19,
     "metadata": {},
     "output_type": "execute_result"
    }
   ],
   "source": [
    "store_df.isna().sum()"
   ]
  },
  {
   "cell_type": "code",
   "execution_count": 91,
   "id": "471aa9a8",
   "metadata": {},
   "outputs": [
    {
     "name": "stdout",
     "output_type": "stream",
     "text": [
      "\n",
      "Value counts for feature: Store\n",
      "1       1\n",
      "742     1\n",
      "748     1\n",
      "747     1\n",
      "746     1\n",
      "       ..\n",
      "378     1\n",
      "379     1\n",
      "380     1\n",
      "381     1\n",
      "1115    1\n",
      "Name: Store, Length: 1115, dtype: int64\n",
      "    \n",
      "Nan values for Store out of total 1115 is 0\n",
      "\n",
      "Value counts for feature: StoreType\n",
      "a    602\n",
      "d    348\n",
      "c    148\n",
      "b     17\n",
      "Name: StoreType, dtype: int64\n",
      "    \n",
      "Nan values for StoreType out of total 1115 is 0\n",
      "\n",
      "Value counts for feature: Assortment\n",
      "a    593\n",
      "c    513\n",
      "b      9\n",
      "Name: Assortment, dtype: int64\n",
      "    \n",
      "Nan values for Assortment out of total 1115 is 0\n",
      "\n",
      "Value counts for feature: CompetitionDistance\n",
      "250.0     12\n",
      "1200.0     9\n",
      "190.0      8\n",
      "350.0      8\n",
      "50.0       8\n",
      "          ..\n",
      "4490.0     1\n",
      "8970.0     1\n",
      "9720.0     1\n",
      "5290.0     1\n",
      "1880.0     1\n",
      "Name: CompetitionDistance, Length: 654, dtype: int64\n",
      "    \n",
      "Nan values for CompetitionDistance out of total 1115 is 3\n",
      "\n",
      "Value counts for feature: CompetitionOpenSinceMonth\n",
      "9.0     125\n",
      "4.0      94\n",
      "11.0     92\n",
      "3.0      70\n",
      "7.0      67\n",
      "12.0     64\n",
      "10.0     61\n",
      "6.0      50\n",
      "5.0      44\n",
      "2.0      41\n",
      "8.0      39\n",
      "1.0      14\n",
      "Name: CompetitionOpenSinceMonth, dtype: int64\n",
      "    \n",
      "Nan values for CompetitionOpenSinceMonth out of total 1115 is 354\n",
      "\n",
      "Value counts for feature: CompetitionOpenSinceYear\n",
      "2013.0    83\n",
      "2012.0    82\n",
      "2014.0    70\n",
      "2005.0    62\n",
      "2010.0    55\n",
      "2008.0    54\n",
      "2009.0    54\n",
      "2011.0    54\n",
      "2007.0    48\n",
      "2006.0    47\n",
      "2015.0    38\n",
      "2002.0    27\n",
      "2004.0    22\n",
      "2003.0    19\n",
      "2001.0    16\n",
      "2000.0    10\n",
      "1999.0     8\n",
      "1990.0     5\n",
      "1995.0     2\n",
      "1994.0     2\n",
      "1961.0     1\n",
      "1900.0     1\n",
      "1998.0     1\n",
      "Name: CompetitionOpenSinceYear, dtype: int64\n",
      "    \n",
      "Nan values for CompetitionOpenSinceYear out of total 1115 is 354\n",
      "\n",
      "Value counts for feature: Promo2\n",
      "1    571\n",
      "0    544\n",
      "Name: Promo2, dtype: int64\n",
      "    \n",
      "Nan values for Promo2 out of total 1115 is 0\n",
      "\n",
      "Value counts for feature: Promo2SinceWeek\n",
      "14.0    81\n",
      "40.0    77\n",
      "31.0    44\n",
      "10.0    42\n",
      "5.0     39\n",
      "1.0     35\n",
      "37.0    35\n",
      "13.0    34\n",
      "45.0    34\n",
      "22.0    33\n",
      "18.0    29\n",
      "35.0    25\n",
      "9.0     14\n",
      "27.0    11\n",
      "36.0    10\n",
      "48.0     9\n",
      "39.0     6\n",
      "23.0     5\n",
      "44.0     3\n",
      "6.0      1\n",
      "26.0     1\n",
      "50.0     1\n",
      "49.0     1\n",
      "28.0     1\n",
      "Name: Promo2SinceWeek, dtype: int64\n",
      "    \n",
      "Nan values for Promo2SinceWeek out of total 1115 is 544\n",
      "\n",
      "Value counts for feature: Promo2SinceYear\n",
      "2011.0    128\n",
      "2013.0    120\n",
      "2014.0     95\n",
      "2012.0     81\n",
      "2009.0     73\n",
      "2010.0     64\n",
      "2015.0     10\n",
      "Name: Promo2SinceYear, dtype: int64\n",
      "    \n",
      "Nan values for Promo2SinceYear out of total 1115 is 544\n",
      "\n",
      "Value counts for feature: PromoInterval\n",
      "Jan,Apr,Jul,Oct     335\n",
      "Feb,May,Aug,Nov     130\n",
      "Mar,Jun,Sept,Dec    106\n",
      "Name: PromoInterval, dtype: int64\n",
      "    \n",
      "Nan values for PromoInterval out of total 1115 is 544\n"
     ]
    }
   ],
   "source": [
    "for feature in store_df.columns:\n",
    "    print(f\"\"\"\n",
    "Value counts for feature: {feature}\n",
    "{store_df[feature].value_counts()}\n",
    "    \"\"\")\n",
    "    print(f\"Nan values for {feature} out of total {len(store_df)} is {store_df[feature].isna().sum()}\")"
   ]
  },
  {
   "cell_type": "code",
   "execution_count": 92,
   "id": "4196c780",
   "metadata": {},
   "outputs": [
    {
     "data": {
      "text/plain": [
       "Index(['Store', 'StoreType', 'Assortment', 'CompetitionDistance',\n",
       "       'CompetitionOpenSinceMonth', 'CompetitionOpenSinceYear', 'Promo2',\n",
       "       'Promo2SinceWeek', 'Promo2SinceYear', 'PromoInterval'],\n",
       "      dtype='object')"
      ]
     },
     "execution_count": 92,
     "metadata": {},
     "output_type": "execute_result"
    }
   ],
   "source": [
    "store_df.columns"
   ]
  },
  {
   "cell_type": "markdown",
   "id": "c7fcde08",
   "metadata": {},
   "source": [
    "### descriptions for `store_df` features\n",
    "\n",
    "1. `Store` - Unique id for each store\n",
    "2. `StoreType` - Differentiat between four different store models ['a', 'b', 'c', 'd']\n",
    "    * don't know what each store type means, but we can check whether there's any correlation between store type and sales\n",
    "3. `Assortment` - Describes assortment level for the stores ['a', 'b', ''c]\n",
    "    * Similar to StoreType this can also be checked\n",
    "4. `CompetitionDistance` - Distance to the nearest competiton\n",
    "    * Competitor can play a role on the sales, except three stores all others have competitor (based on 3 nan values)\n",
    "5. `Promo2` - Promo2 is already in store_df as `Promo`\n",
    "6. `Promo2Since[Year/Week]` - describes the year and calendar week when the store started participating in Promo2\n",
    "7. `PromoInterval` - describes the consecutive intervals Promo2 is started, naming the months the promotion is started anew. E.g. \"Feb,May,Aug,Nov\" means each round starts in February, May, August, November of any given year for that store\n",
    "\n",
    "We'll check on the other features later, right now we'll add `StoreType, Assortment, CompetitorDistance` to train_df"
   ]
  },
  {
   "cell_type": "code",
   "execution_count": 103,
   "id": "234954a0",
   "metadata": {},
   "outputs": [
    {
     "data": {
      "text/html": [
       "<div>\n",
       "<style scoped>\n",
       "    .dataframe tbody tr th:only-of-type {\n",
       "        vertical-align: middle;\n",
       "    }\n",
       "\n",
       "    .dataframe tbody tr th {\n",
       "        vertical-align: top;\n",
       "    }\n",
       "\n",
       "    .dataframe thead th {\n",
       "        text-align: right;\n",
       "    }\n",
       "</style>\n",
       "<table border=\"1\" class=\"dataframe\">\n",
       "  <thead>\n",
       "    <tr style=\"text-align: right;\">\n",
       "      <th></th>\n",
       "      <th>Store</th>\n",
       "      <th>StoreType</th>\n",
       "      <th>Assortment</th>\n",
       "      <th>CompetitionDistance</th>\n",
       "      <th>CompetitionOpenSinceMonth</th>\n",
       "      <th>CompetitionOpenSinceYear</th>\n",
       "      <th>Promo2</th>\n",
       "      <th>Promo2SinceWeek</th>\n",
       "      <th>Promo2SinceYear</th>\n",
       "      <th>PromoInterval</th>\n",
       "    </tr>\n",
       "  </thead>\n",
       "  <tbody>\n",
       "    <tr>\n",
       "      <th>290</th>\n",
       "      <td>291</td>\n",
       "      <td>d</td>\n",
       "      <td>a</td>\n",
       "      <td>NaN</td>\n",
       "      <td>NaN</td>\n",
       "      <td>NaN</td>\n",
       "      <td>0</td>\n",
       "      <td>NaN</td>\n",
       "      <td>NaN</td>\n",
       "      <td>NaN</td>\n",
       "    </tr>\n",
       "    <tr>\n",
       "      <th>621</th>\n",
       "      <td>622</td>\n",
       "      <td>a</td>\n",
       "      <td>c</td>\n",
       "      <td>NaN</td>\n",
       "      <td>NaN</td>\n",
       "      <td>NaN</td>\n",
       "      <td>0</td>\n",
       "      <td>NaN</td>\n",
       "      <td>NaN</td>\n",
       "      <td>NaN</td>\n",
       "    </tr>\n",
       "    <tr>\n",
       "      <th>878</th>\n",
       "      <td>879</td>\n",
       "      <td>d</td>\n",
       "      <td>a</td>\n",
       "      <td>NaN</td>\n",
       "      <td>NaN</td>\n",
       "      <td>NaN</td>\n",
       "      <td>1</td>\n",
       "      <td>5.0</td>\n",
       "      <td>2013.0</td>\n",
       "      <td>Feb,May,Aug,Nov</td>\n",
       "    </tr>\n",
       "  </tbody>\n",
       "</table>\n",
       "</div>"
      ],
      "text/plain": [
       "     Store StoreType Assortment  CompetitionDistance  \\\n",
       "290    291         d          a                  NaN   \n",
       "621    622         a          c                  NaN   \n",
       "878    879         d          a                  NaN   \n",
       "\n",
       "     CompetitionOpenSinceMonth  CompetitionOpenSinceYear  Promo2  \\\n",
       "290                        NaN                       NaN       0   \n",
       "621                        NaN                       NaN       0   \n",
       "878                        NaN                       NaN       1   \n",
       "\n",
       "     Promo2SinceWeek  Promo2SinceYear    PromoInterval  \n",
       "290              NaN              NaN              NaN  \n",
       "621              NaN              NaN              NaN  \n",
       "878              5.0           2013.0  Feb,May,Aug,Nov  "
      ]
     },
     "execution_count": 103,
     "metadata": {},
     "output_type": "execute_result"
    }
   ],
   "source": [
    "# What stores has nan for CompetitorDistance\n",
    "store_df[store_df[\"CompetitionDistance\"].isna()]"
   ]
  },
  {
   "cell_type": "markdown",
   "id": "367ae4f8",
   "metadata": {},
   "source": [
    "So, let's fill this with median of competition distance assuming even if there's competition now. Competition might come in the future"
   ]
  },
  {
   "cell_type": "code",
   "execution_count": 153,
   "id": "cab024bb",
   "metadata": {},
   "outputs": [],
   "source": [
    "train_df.loc[train_df.Store == 1, 'test'] = 1"
   ]
  },
  {
   "cell_type": "code",
   "execution_count": 192,
   "id": "55f768a3",
   "metadata": {},
   "outputs": [],
   "source": [
    "# Creating new features\n",
    "train_df[\"storeType\"] = \"\"\n",
    "train_df[\"Assortment\"] = \"\"\n",
    "train_df[\"competitionDistance\"] = \"\""
   ]
  },
  {
   "cell_type": "code",
   "execution_count": 198,
   "id": "904bf59a",
   "metadata": {},
   "outputs": [
    {
     "data": {
      "text/plain": [
       "Index(['Store', 'DayOfWeek', 'Sales', 'Customers', 'Open', 'Promo',\n",
       "       'StateHoliday', 'SchoolHoliday', 'storeType', 'Assortment',\n",
       "       'competitionDistance'],\n",
       "      dtype='object')"
      ]
     },
     "execution_count": 198,
     "metadata": {},
     "output_type": "execute_result"
    }
   ],
   "source": [
    "train_df.columns"
   ]
  },
  {
   "cell_type": "code",
   "execution_count": 208,
   "id": "d869af9e",
   "metadata": {},
   "outputs": [],
   "source": [
    "for row in store_df.itertuples():\n",
    "    store, storetype, assortment, competitiondistance = row.Store, row.StoreType, row.Assortment, row.CompetitionDistance\n",
    "    train_df.loc[train_df[\"Store\"] == store, \"storeType\"] = storetype\n",
    "    train_df.loc[train_df[\"Store\"] == store, \"Assortment\"] = assortment\n",
    "    train_df.loc[train_df[\"Store\"] == store, \"competitionDistance\"] = competitiondistance"
   ]
  },
  {
   "cell_type": "code",
   "execution_count": 209,
   "id": "3077a7db",
   "metadata": {},
   "outputs": [
    {
     "data": {
      "text/html": [
       "<div>\n",
       "<style scoped>\n",
       "    .dataframe tbody tr th:only-of-type {\n",
       "        vertical-align: middle;\n",
       "    }\n",
       "\n",
       "    .dataframe tbody tr th {\n",
       "        vertical-align: top;\n",
       "    }\n",
       "\n",
       "    .dataframe thead th {\n",
       "        text-align: right;\n",
       "    }\n",
       "</style>\n",
       "<table border=\"1\" class=\"dataframe\">\n",
       "  <thead>\n",
       "    <tr style=\"text-align: right;\">\n",
       "      <th></th>\n",
       "      <th>Store</th>\n",
       "      <th>DayOfWeek</th>\n",
       "      <th>Sales</th>\n",
       "      <th>Customers</th>\n",
       "      <th>Open</th>\n",
       "      <th>Promo</th>\n",
       "      <th>StateHoliday</th>\n",
       "      <th>SchoolHoliday</th>\n",
       "      <th>storeType</th>\n",
       "      <th>Assortment</th>\n",
       "      <th>competitionDistance</th>\n",
       "    </tr>\n",
       "    <tr>\n",
       "      <th>Date</th>\n",
       "      <th></th>\n",
       "      <th></th>\n",
       "      <th></th>\n",
       "      <th></th>\n",
       "      <th></th>\n",
       "      <th></th>\n",
       "      <th></th>\n",
       "      <th></th>\n",
       "      <th></th>\n",
       "      <th></th>\n",
       "      <th></th>\n",
       "    </tr>\n",
       "  </thead>\n",
       "  <tbody>\n",
       "    <tr>\n",
       "      <th>2015-07-31</th>\n",
       "      <td>1</td>\n",
       "      <td>5</td>\n",
       "      <td>5263</td>\n",
       "      <td>555</td>\n",
       "      <td>1</td>\n",
       "      <td>1</td>\n",
       "      <td>0</td>\n",
       "      <td>1</td>\n",
       "      <td>c</td>\n",
       "      <td>a</td>\n",
       "      <td>1270.0</td>\n",
       "    </tr>\n",
       "    <tr>\n",
       "      <th>2015-07-31</th>\n",
       "      <td>2</td>\n",
       "      <td>5</td>\n",
       "      <td>6064</td>\n",
       "      <td>625</td>\n",
       "      <td>1</td>\n",
       "      <td>1</td>\n",
       "      <td>0</td>\n",
       "      <td>1</td>\n",
       "      <td>a</td>\n",
       "      <td>a</td>\n",
       "      <td>570.0</td>\n",
       "    </tr>\n",
       "    <tr>\n",
       "      <th>2015-07-31</th>\n",
       "      <td>3</td>\n",
       "      <td>5</td>\n",
       "      <td>8314</td>\n",
       "      <td>821</td>\n",
       "      <td>1</td>\n",
       "      <td>1</td>\n",
       "      <td>0</td>\n",
       "      <td>1</td>\n",
       "      <td>a</td>\n",
       "      <td>a</td>\n",
       "      <td>14130.0</td>\n",
       "    </tr>\n",
       "    <tr>\n",
       "      <th>2015-07-31</th>\n",
       "      <td>4</td>\n",
       "      <td>5</td>\n",
       "      <td>13995</td>\n",
       "      <td>1498</td>\n",
       "      <td>1</td>\n",
       "      <td>1</td>\n",
       "      <td>0</td>\n",
       "      <td>1</td>\n",
       "      <td>c</td>\n",
       "      <td>c</td>\n",
       "      <td>620.0</td>\n",
       "    </tr>\n",
       "    <tr>\n",
       "      <th>2015-07-31</th>\n",
       "      <td>5</td>\n",
       "      <td>5</td>\n",
       "      <td>4822</td>\n",
       "      <td>559</td>\n",
       "      <td>1</td>\n",
       "      <td>1</td>\n",
       "      <td>0</td>\n",
       "      <td>1</td>\n",
       "      <td>a</td>\n",
       "      <td>a</td>\n",
       "      <td>29910.0</td>\n",
       "    </tr>\n",
       "  </tbody>\n",
       "</table>\n",
       "</div>"
      ],
      "text/plain": [
       "            Store  DayOfWeek  Sales  Customers  Open  Promo  StateHoliday  \\\n",
       "Date                                                                        \n",
       "2015-07-31      1          5   5263        555     1      1             0   \n",
       "2015-07-31      2          5   6064        625     1      1             0   \n",
       "2015-07-31      3          5   8314        821     1      1             0   \n",
       "2015-07-31      4          5  13995       1498     1      1             0   \n",
       "2015-07-31      5          5   4822        559     1      1             0   \n",
       "\n",
       "            SchoolHoliday storeType Assortment competitionDistance  \n",
       "Date                                                                \n",
       "2015-07-31              1         c          a              1270.0  \n",
       "2015-07-31              1         a          a               570.0  \n",
       "2015-07-31              1         a          a             14130.0  \n",
       "2015-07-31              1         c          c               620.0  \n",
       "2015-07-31              1         a          a             29910.0  "
      ]
     },
     "execution_count": 209,
     "metadata": {},
     "output_type": "execute_result"
    }
   ],
   "source": [
    "train_df.head()"
   ]
  },
  {
   "cell_type": "markdown",
   "id": "8d73677d",
   "metadata": {},
   "source": [
    "So now, added the features that we considered might have influence on the sale. Since we added new features to the dataset, we've to do the splitting of data again."
   ]
  },
  {
   "cell_type": "code",
   "execution_count": 210,
   "id": "50d7efe2",
   "metadata": {},
   "outputs": [],
   "source": [
    "# First let's save the new dataset\n",
    "# Commenting this to avoid repeating saving the df\n",
    "# train_df.to_csv(\"data/rossman-sales-dataset-with-stores.csv\")"
   ]
  },
  {
   "cell_type": "code",
   "execution_count": 220,
   "id": "867f08bf",
   "metadata": {},
   "outputs": [
    {
     "data": {
      "text/plain": [
       "Date                      0\n",
       "Store                     0\n",
       "DayOfWeek                 0\n",
       "Sales                     0\n",
       "Customers                 0\n",
       "Open                      0\n",
       "Promo                     0\n",
       "StateHoliday              0\n",
       "SchoolHoliday             0\n",
       "storeType                 0\n",
       "Assortment                0\n",
       "competitionDistance    2642\n",
       "dtype: int64"
      ]
     },
     "execution_count": 220,
     "metadata": {},
     "output_type": "execute_result"
    }
   ],
   "source": [
    "train_df = pd.read_csv(\"data/rossman-sales-dataset-with-stores.csv\")\n",
    "train_df.isna().sum()"
   ]
  },
  {
   "cell_type": "code",
   "execution_count": 223,
   "id": "e4bbced3",
   "metadata": {},
   "outputs": [
    {
     "data": {
      "text/plain": [
       "count    1.014567e+06\n",
       "mean     5.430086e+03\n",
       "std      7.715324e+03\n",
       "min      2.000000e+01\n",
       "25%      7.100000e+02\n",
       "50%      2.330000e+03\n",
       "75%      6.890000e+03\n",
       "max      7.586000e+04\n",
       "Name: competitionDistance, dtype: float64"
      ]
     },
     "execution_count": 223,
     "metadata": {},
     "output_type": "execute_result"
    }
   ],
   "source": [
    "train_df.competitionDistance.describe()"
   ]
  },
  {
   "cell_type": "code",
   "execution_count": 233,
   "id": "e6c16528",
   "metadata": {},
   "outputs": [
    {
     "data": {
      "text/plain": [
       "2330.0"
      ]
     },
     "execution_count": 233,
     "metadata": {},
     "output_type": "execute_result"
    }
   ],
   "source": [
    "np.median(train_df[\"competitionDistance\"].loc[train_df[\"competitionDistance\"].notnull()])"
   ]
  },
  {
   "cell_type": "code",
   "execution_count": 240,
   "id": "c932a68b",
   "metadata": {},
   "outputs": [],
   "source": [
    "# Filling na values for three stores with median(why median because, it takes care if any outliers are there)\n",
    "train_df.competitionDistance.fillna(value=2330.0, inplace=True)"
   ]
  },
  {
   "cell_type": "code",
   "execution_count": 241,
   "id": "4cf663ab",
   "metadata": {},
   "outputs": [],
   "source": [
    "X, y = train_df.drop(columns=\"Sales\", axis=1), train_df[\"Sales\"]"
   ]
  },
  {
   "cell_type": "code",
   "execution_count": 242,
   "id": "b282c13d",
   "metadata": {},
   "outputs": [
    {
     "name": "stdout",
     "output_type": "stream",
     "text": [
      "Shape of dataset is: (1017209, 11)\n",
      "Number of dimensions is: 2\n",
      "Shape of dataset is: (1017209,)\n",
      "Number of dimensions is: 1\n"
     ]
    },
    {
     "data": {
      "text/plain": [
       "(None, None)"
      ]
     },
     "execution_count": 242,
     "metadata": {},
     "output_type": "execute_result"
    }
   ],
   "source": [
    "dataset_info(X), dataset_info(y)"
   ]
  },
  {
   "cell_type": "code",
   "execution_count": 243,
   "id": "78e2670f",
   "metadata": {},
   "outputs": [],
   "source": [
    "X_train, X_test, y_train, y_test = train_test_split(X, y, test_size=TEST_SIZE, random_state=SEED)"
   ]
  },
  {
   "cell_type": "code",
   "execution_count": 244,
   "id": "b2a01e35",
   "metadata": {},
   "outputs": [
    {
     "name": "stdout",
     "output_type": "stream",
     "text": [
      "Shape of dataset is: (813767, 11)\n",
      "Number of dimensions is: 2\n",
      "Shape of dataset is: (203442, 11)\n",
      "Number of dimensions is: 2\n",
      "Shape of dataset is: (813767,)\n",
      "Number of dimensions is: 1\n",
      "Shape of dataset is: (203442,)\n",
      "Number of dimensions is: 1\n"
     ]
    },
    {
     "data": {
      "text/plain": [
       "(None, None, None, None)"
      ]
     },
     "execution_count": 244,
     "metadata": {},
     "output_type": "execute_result"
    }
   ],
   "source": [
    "dataset_info(X_train), dataset_info(X_test), dataset_info(y_train), dataset_info(y_test)"
   ]
  },
  {
   "cell_type": "code",
   "execution_count": 245,
   "id": "e2540139",
   "metadata": {},
   "outputs": [
    {
     "data": {
      "text/plain": [
       "Date                   0\n",
       "Store                  0\n",
       "DayOfWeek              0\n",
       "Customers              0\n",
       "Open                   0\n",
       "Promo                  0\n",
       "StateHoliday           0\n",
       "SchoolHoliday          0\n",
       "storeType              0\n",
       "Assortment             0\n",
       "competitionDistance    0\n",
       "dtype: int64"
      ]
     },
     "execution_count": 245,
     "metadata": {},
     "output_type": "execute_result"
    }
   ],
   "source": [
    "X_train.isna().sum()"
   ]
  },
  {
   "cell_type": "code",
   "execution_count": 246,
   "id": "d6875588",
   "metadata": {},
   "outputs": [
    {
     "name": "stdout",
     "output_type": "stream",
     "text": [
      "<class 'pandas.core.frame.DataFrame'>\n",
      "Int64Index: 813767 entries, 417683 to 121958\n",
      "Data columns (total 11 columns):\n",
      " #   Column               Non-Null Count   Dtype  \n",
      "---  ------               --------------   -----  \n",
      " 0   Date                 813767 non-null  object \n",
      " 1   Store                813767 non-null  int64  \n",
      " 2   DayOfWeek            813767 non-null  int64  \n",
      " 3   Customers            813767 non-null  int64  \n",
      " 4   Open                 813767 non-null  int64  \n",
      " 5   Promo                813767 non-null  int64  \n",
      " 6   StateHoliday         813767 non-null  int64  \n",
      " 7   SchoolHoliday        813767 non-null  int64  \n",
      " 8   storeType            813767 non-null  object \n",
      " 9   Assortment           813767 non-null  object \n",
      " 10  competitionDistance  813767 non-null  float64\n",
      "dtypes: float64(1), int64(7), object(3)\n",
      "memory usage: 74.5+ MB\n"
     ]
    }
   ],
   "source": [
    "X_train.info()"
   ]
  },
  {
   "cell_type": "markdown",
   "id": "074d0c91",
   "metadata": {},
   "source": [
    "Still store type and assortment are object type, they are categorica values as we've already seen let's convert them to numerical."
   ]
  },
  {
   "cell_type": "code",
   "execution_count": 251,
   "id": "8ec8fcd9",
   "metadata": {},
   "outputs": [],
   "source": [
    "train_df.storeType = train_df.storeType.astype('category').cat.as_ordered()\n",
    "train_df.Assortment = train_df.Assortment.astype('category').cat.as_ordered()"
   ]
  },
  {
   "cell_type": "code",
   "execution_count": 252,
   "id": "8a2e6275",
   "metadata": {},
   "outputs": [
    {
     "name": "stdout",
     "output_type": "stream",
     "text": [
      "<class 'pandas.core.frame.DataFrame'>\n",
      "RangeIndex: 1017209 entries, 0 to 1017208\n",
      "Data columns (total 12 columns):\n",
      " #   Column               Non-Null Count    Dtype   \n",
      "---  ------               --------------    -----   \n",
      " 0   Date                 1017209 non-null  object  \n",
      " 1   Store                1017209 non-null  int64   \n",
      " 2   DayOfWeek            1017209 non-null  int64   \n",
      " 3   Sales                1017209 non-null  int64   \n",
      " 4   Customers            1017209 non-null  int64   \n",
      " 5   Open                 1017209 non-null  int64   \n",
      " 6   Promo                1017209 non-null  int64   \n",
      " 7   StateHoliday         1017209 non-null  int64   \n",
      " 8   SchoolHoliday        1017209 non-null  int64   \n",
      " 9   storeType            1017209 non-null  category\n",
      " 10  Assortment           1017209 non-null  category\n",
      " 11  competitionDistance  1017209 non-null  float64 \n",
      "dtypes: category(2), float64(1), int64(8), object(1)\n",
      "memory usage: 79.5+ MB\n"
     ]
    }
   ],
   "source": [
    "train_df.info()"
   ]
  },
  {
   "cell_type": "code",
   "execution_count": 256,
   "id": "cf94cdc5",
   "metadata": {},
   "outputs": [
    {
     "data": {
      "text/plain": [
       "(a    551627\n",
       " d    312912\n",
       " c    136840\n",
       " b     15830\n",
       " Name: storeType, dtype: int64,\n",
       " a    537445\n",
       " c    471470\n",
       " b      8294\n",
       " Name: Assortment, dtype: int64)"
      ]
     },
     "execution_count": 256,
     "metadata": {},
     "output_type": "execute_result"
    }
   ],
   "source": [
    "train_df.storeType.value_counts(), train_df.Assortment.value_counts()"
   ]
  },
  {
   "cell_type": "code",
   "execution_count": 257,
   "id": "0ed89513",
   "metadata": {},
   "outputs": [],
   "source": [
    "train_df.storeType = train_df.storeType.cat.codes\n",
    "train_df.Assortment = train_df.Assortment.cat.codes"
   ]
  },
  {
   "cell_type": "code",
   "execution_count": 258,
   "id": "ef81f34c",
   "metadata": {},
   "outputs": [
    {
     "data": {
      "text/plain": [
       "(0    551627\n",
       " 3    312912\n",
       " 2    136840\n",
       " 1     15830\n",
       " Name: storeType, dtype: int64,\n",
       " 0    537445\n",
       " 2    471470\n",
       " 1      8294\n",
       " Name: Assortment, dtype: int64)"
      ]
     },
     "execution_count": 258,
     "metadata": {},
     "output_type": "execute_result"
    }
   ],
   "source": [
    "train_df.storeType.value_counts(), train_df.Assortment.value_counts()"
   ]
  },
  {
   "cell_type": "code",
   "execution_count": 259,
   "id": "cdf8ce9e",
   "metadata": {},
   "outputs": [
    {
     "name": "stdout",
     "output_type": "stream",
     "text": [
      "<class 'pandas.core.frame.DataFrame'>\n",
      "RangeIndex: 1017209 entries, 0 to 1017208\n",
      "Data columns (total 12 columns):\n",
      " #   Column               Non-Null Count    Dtype  \n",
      "---  ------               --------------    -----  \n",
      " 0   Date                 1017209 non-null  object \n",
      " 1   Store                1017209 non-null  int64  \n",
      " 2   DayOfWeek            1017209 non-null  int64  \n",
      " 3   Sales                1017209 non-null  int64  \n",
      " 4   Customers            1017209 non-null  int64  \n",
      " 5   Open                 1017209 non-null  int64  \n",
      " 6   Promo                1017209 non-null  int64  \n",
      " 7   StateHoliday         1017209 non-null  int64  \n",
      " 8   SchoolHoliday        1017209 non-null  int64  \n",
      " 9   storeType            1017209 non-null  int8   \n",
      " 10  Assortment           1017209 non-null  int8   \n",
      " 11  competitionDistance  1017209 non-null  float64\n",
      "dtypes: float64(1), int64(8), int8(2), object(1)\n",
      "memory usage: 79.5+ MB\n"
     ]
    }
   ],
   "source": [
    "train_df.info()"
   ]
  },
  {
   "cell_type": "markdown",
   "id": "2801a4c8",
   "metadata": {},
   "source": [
    "All done, let's move the date column to index and then create a seperate feature for month and year to check the seasonality of the dataset and how the performance has been."
   ]
  },
  {
   "cell_type": "code",
   "execution_count": 260,
   "id": "682b7525",
   "metadata": {},
   "outputs": [
    {
     "data": {
      "text/html": [
       "<div>\n",
       "<style scoped>\n",
       "    .dataframe tbody tr th:only-of-type {\n",
       "        vertical-align: middle;\n",
       "    }\n",
       "\n",
       "    .dataframe tbody tr th {\n",
       "        vertical-align: top;\n",
       "    }\n",
       "\n",
       "    .dataframe thead th {\n",
       "        text-align: right;\n",
       "    }\n",
       "</style>\n",
       "<table border=\"1\" class=\"dataframe\">\n",
       "  <thead>\n",
       "    <tr style=\"text-align: right;\">\n",
       "      <th></th>\n",
       "      <th>Date</th>\n",
       "      <th>Store</th>\n",
       "      <th>DayOfWeek</th>\n",
       "      <th>Sales</th>\n",
       "      <th>Customers</th>\n",
       "      <th>Open</th>\n",
       "      <th>Promo</th>\n",
       "      <th>StateHoliday</th>\n",
       "      <th>SchoolHoliday</th>\n",
       "      <th>storeType</th>\n",
       "      <th>Assortment</th>\n",
       "      <th>competitionDistance</th>\n",
       "    </tr>\n",
       "  </thead>\n",
       "  <tbody>\n",
       "    <tr>\n",
       "      <th>0</th>\n",
       "      <td>2015-07-31</td>\n",
       "      <td>1</td>\n",
       "      <td>5</td>\n",
       "      <td>5263</td>\n",
       "      <td>555</td>\n",
       "      <td>1</td>\n",
       "      <td>1</td>\n",
       "      <td>0</td>\n",
       "      <td>1</td>\n",
       "      <td>2</td>\n",
       "      <td>0</td>\n",
       "      <td>1270.0</td>\n",
       "    </tr>\n",
       "    <tr>\n",
       "      <th>1</th>\n",
       "      <td>2015-07-31</td>\n",
       "      <td>2</td>\n",
       "      <td>5</td>\n",
       "      <td>6064</td>\n",
       "      <td>625</td>\n",
       "      <td>1</td>\n",
       "      <td>1</td>\n",
       "      <td>0</td>\n",
       "      <td>1</td>\n",
       "      <td>0</td>\n",
       "      <td>0</td>\n",
       "      <td>570.0</td>\n",
       "    </tr>\n",
       "    <tr>\n",
       "      <th>2</th>\n",
       "      <td>2015-07-31</td>\n",
       "      <td>3</td>\n",
       "      <td>5</td>\n",
       "      <td>8314</td>\n",
       "      <td>821</td>\n",
       "      <td>1</td>\n",
       "      <td>1</td>\n",
       "      <td>0</td>\n",
       "      <td>1</td>\n",
       "      <td>0</td>\n",
       "      <td>0</td>\n",
       "      <td>14130.0</td>\n",
       "    </tr>\n",
       "    <tr>\n",
       "      <th>3</th>\n",
       "      <td>2015-07-31</td>\n",
       "      <td>4</td>\n",
       "      <td>5</td>\n",
       "      <td>13995</td>\n",
       "      <td>1498</td>\n",
       "      <td>1</td>\n",
       "      <td>1</td>\n",
       "      <td>0</td>\n",
       "      <td>1</td>\n",
       "      <td>2</td>\n",
       "      <td>2</td>\n",
       "      <td>620.0</td>\n",
       "    </tr>\n",
       "    <tr>\n",
       "      <th>4</th>\n",
       "      <td>2015-07-31</td>\n",
       "      <td>5</td>\n",
       "      <td>5</td>\n",
       "      <td>4822</td>\n",
       "      <td>559</td>\n",
       "      <td>1</td>\n",
       "      <td>1</td>\n",
       "      <td>0</td>\n",
       "      <td>1</td>\n",
       "      <td>0</td>\n",
       "      <td>0</td>\n",
       "      <td>29910.0</td>\n",
       "    </tr>\n",
       "  </tbody>\n",
       "</table>\n",
       "</div>"
      ],
      "text/plain": [
       "         Date  Store  DayOfWeek  Sales  Customers  Open  Promo  StateHoliday  \\\n",
       "0  2015-07-31      1          5   5263        555     1      1             0   \n",
       "1  2015-07-31      2          5   6064        625     1      1             0   \n",
       "2  2015-07-31      3          5   8314        821     1      1             0   \n",
       "3  2015-07-31      4          5  13995       1498     1      1             0   \n",
       "4  2015-07-31      5          5   4822        559     1      1             0   \n",
       "\n",
       "   SchoolHoliday  storeType  Assortment  competitionDistance  \n",
       "0              1          2           0               1270.0  \n",
       "1              1          0           0                570.0  \n",
       "2              1          0           0              14130.0  \n",
       "3              1          2           2                620.0  \n",
       "4              1          0           0              29910.0  "
      ]
     },
     "execution_count": 260,
     "metadata": {},
     "output_type": "execute_result"
    }
   ],
   "source": [
    "train_df.head()"
   ]
  },
  {
   "cell_type": "raw",
   "id": "0a190fa8",
   "metadata": {},
   "source": []
  }
 ],
 "metadata": {
  "kernelspec": {
   "display_name": "Python 3 (ipykernel)",
   "language": "python",
   "name": "python3"
  },
  "language_info": {
   "codemirror_mode": {
    "name": "ipython",
    "version": 3
   },
   "file_extension": ".py",
   "mimetype": "text/x-python",
   "name": "python",
   "nbconvert_exporter": "python",
   "pygments_lexer": "ipython3",
   "version": "3.7.5"
  }
 },
 "nbformat": 4,
 "nbformat_minor": 5
}
