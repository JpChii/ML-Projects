{
 "cells": [
  {
   "cell_type": "markdown",
   "id": "f9669521",
   "metadata": {},
   "source": [
    "# Rossmann Stores Sales Prediction\n",
    "\n",
    "We're provided with historic data of sales, given this will the future sales of the stores can be predicted.\n",
    "Predicting a number based on other feature (i.e) Regression Problem."
   ]
  },
  {
   "cell_type": "code",
   "execution_count": 1,
   "id": "816a1439",
   "metadata": {},
   "outputs": [],
   "source": [
    "# import pandas as pd\n",
    "import numpy as np\n",
    "import pandas as pd\n",
    "import matplotlib.pyplot as plt\n",
    "import seaborn as sns\n",
    "import sklearn\n",
    "\n",
    "TEST_SIZE = 0.2\n",
    "SEED = 42"
   ]
  },
  {
   "cell_type": "markdown",
   "id": "4ce24074",
   "metadata": {},
   "source": [
    "## 1. Get the data and getting one with it"
   ]
  },
  {
   "cell_type": "code",
   "execution_count": 2,
   "id": "d82d8931",
   "metadata": {},
   "outputs": [
    {
     "name": "stdout",
     "output_type": "stream",
     "text": [
      "sample_submission.csv test.csv\r\n",
      "store.csv             train.csv\r\n"
     ]
    }
   ],
   "source": [
    "!ls data/rossmann-store-sales/"
   ]
  },
  {
   "cell_type": "code",
   "execution_count": 3,
   "id": "ccbf1b15",
   "metadata": {},
   "outputs": [
    {
     "name": "stderr",
     "output_type": "stream",
     "text": [
      "/Users/jayaprakashsivagami/Documents/Tech/ML/Projects/env/lib/python3.7/site-packages/IPython/core/interactiveshell.py:3457: DtypeWarning: Columns (7) have mixed types.Specify dtype option on import or set low_memory=False.\n",
      "  exec(code_obj, self.user_global_ns, self.user_ns)\n"
     ]
    }
   ],
   "source": [
    "train_df = pd.read_csv(\"data/rossmann-store-sales/train.csv\", parse_dates=['Date'])\n",
    "train_df.set_index([\"Date\"], inplace=True)\n",
    "store_df = pd.read_csv(\"data/rossmann-store-sales/store.csv\")"
   ]
  },
  {
   "cell_type": "code",
   "execution_count": 4,
   "id": "5b5f2d63",
   "metadata": {},
   "outputs": [
    {
     "data": {
      "text/html": [
       "<div>\n",
       "<style scoped>\n",
       "    .dataframe tbody tr th:only-of-type {\n",
       "        vertical-align: middle;\n",
       "    }\n",
       "\n",
       "    .dataframe tbody tr th {\n",
       "        vertical-align: top;\n",
       "    }\n",
       "\n",
       "    .dataframe thead th {\n",
       "        text-align: right;\n",
       "    }\n",
       "</style>\n",
       "<table border=\"1\" class=\"dataframe\">\n",
       "  <thead>\n",
       "    <tr style=\"text-align: right;\">\n",
       "      <th></th>\n",
       "      <th>Store</th>\n",
       "      <th>DayOfWeek</th>\n",
       "      <th>Sales</th>\n",
       "      <th>Customers</th>\n",
       "      <th>Open</th>\n",
       "      <th>Promo</th>\n",
       "      <th>StateHoliday</th>\n",
       "      <th>SchoolHoliday</th>\n",
       "    </tr>\n",
       "    <tr>\n",
       "      <th>Date</th>\n",
       "      <th></th>\n",
       "      <th></th>\n",
       "      <th></th>\n",
       "      <th></th>\n",
       "      <th></th>\n",
       "      <th></th>\n",
       "      <th></th>\n",
       "      <th></th>\n",
       "    </tr>\n",
       "  </thead>\n",
       "  <tbody>\n",
       "    <tr>\n",
       "      <th>2015-07-31</th>\n",
       "      <td>1</td>\n",
       "      <td>5</td>\n",
       "      <td>5263</td>\n",
       "      <td>555</td>\n",
       "      <td>1</td>\n",
       "      <td>1</td>\n",
       "      <td>0</td>\n",
       "      <td>1</td>\n",
       "    </tr>\n",
       "    <tr>\n",
       "      <th>2015-07-31</th>\n",
       "      <td>2</td>\n",
       "      <td>5</td>\n",
       "      <td>6064</td>\n",
       "      <td>625</td>\n",
       "      <td>1</td>\n",
       "      <td>1</td>\n",
       "      <td>0</td>\n",
       "      <td>1</td>\n",
       "    </tr>\n",
       "    <tr>\n",
       "      <th>2015-07-31</th>\n",
       "      <td>3</td>\n",
       "      <td>5</td>\n",
       "      <td>8314</td>\n",
       "      <td>821</td>\n",
       "      <td>1</td>\n",
       "      <td>1</td>\n",
       "      <td>0</td>\n",
       "      <td>1</td>\n",
       "    </tr>\n",
       "    <tr>\n",
       "      <th>2015-07-31</th>\n",
       "      <td>4</td>\n",
       "      <td>5</td>\n",
       "      <td>13995</td>\n",
       "      <td>1498</td>\n",
       "      <td>1</td>\n",
       "      <td>1</td>\n",
       "      <td>0</td>\n",
       "      <td>1</td>\n",
       "    </tr>\n",
       "    <tr>\n",
       "      <th>2015-07-31</th>\n",
       "      <td>5</td>\n",
       "      <td>5</td>\n",
       "      <td>4822</td>\n",
       "      <td>559</td>\n",
       "      <td>1</td>\n",
       "      <td>1</td>\n",
       "      <td>0</td>\n",
       "      <td>1</td>\n",
       "    </tr>\n",
       "  </tbody>\n",
       "</table>\n",
       "</div>"
      ],
      "text/plain": [
       "            Store  DayOfWeek  Sales  Customers  Open  Promo StateHoliday  \\\n",
       "Date                                                                       \n",
       "2015-07-31      1          5   5263        555     1      1            0   \n",
       "2015-07-31      2          5   6064        625     1      1            0   \n",
       "2015-07-31      3          5   8314        821     1      1            0   \n",
       "2015-07-31      4          5  13995       1498     1      1            0   \n",
       "2015-07-31      5          5   4822        559     1      1            0   \n",
       "\n",
       "            SchoolHoliday  \n",
       "Date                       \n",
       "2015-07-31              1  \n",
       "2015-07-31              1  \n",
       "2015-07-31              1  \n",
       "2015-07-31              1  \n",
       "2015-07-31              1  "
      ]
     },
     "execution_count": 4,
     "metadata": {},
     "output_type": "execute_result"
    }
   ],
   "source": [
    "train_df.head()"
   ]
  },
  {
   "cell_type": "code",
   "execution_count": 5,
   "id": "eb5031ab",
   "metadata": {},
   "outputs": [
    {
     "name": "stdout",
     "output_type": "stream",
     "text": [
      "<class 'pandas.core.frame.DataFrame'>\n",
      "DatetimeIndex: 1017209 entries, 2015-07-31 to 2013-01-01\n",
      "Data columns (total 8 columns):\n",
      " #   Column         Non-Null Count    Dtype \n",
      "---  ------         --------------    ----- \n",
      " 0   Store          1017209 non-null  int64 \n",
      " 1   DayOfWeek      1017209 non-null  int64 \n",
      " 2   Sales          1017209 non-null  int64 \n",
      " 3   Customers      1017209 non-null  int64 \n",
      " 4   Open           1017209 non-null  int64 \n",
      " 5   Promo          1017209 non-null  int64 \n",
      " 6   StateHoliday   1017209 non-null  object\n",
      " 7   SchoolHoliday  1017209 non-null  int64 \n",
      "dtypes: int64(7), object(1)\n",
      "memory usage: 69.8+ MB\n"
     ]
    }
   ],
   "source": [
    "train_df.info()"
   ]
  },
  {
   "cell_type": "code",
   "execution_count": 6,
   "id": "4340ac47",
   "metadata": {},
   "outputs": [
    {
     "data": {
      "text/html": [
       "<div>\n",
       "<style scoped>\n",
       "    .dataframe tbody tr th:only-of-type {\n",
       "        vertical-align: middle;\n",
       "    }\n",
       "\n",
       "    .dataframe tbody tr th {\n",
       "        vertical-align: top;\n",
       "    }\n",
       "\n",
       "    .dataframe thead th {\n",
       "        text-align: right;\n",
       "    }\n",
       "</style>\n",
       "<table border=\"1\" class=\"dataframe\">\n",
       "  <thead>\n",
       "    <tr style=\"text-align: right;\">\n",
       "      <th></th>\n",
       "      <th>Store</th>\n",
       "      <th>DayOfWeek</th>\n",
       "      <th>Sales</th>\n",
       "      <th>Customers</th>\n",
       "      <th>Open</th>\n",
       "      <th>Promo</th>\n",
       "      <th>SchoolHoliday</th>\n",
       "    </tr>\n",
       "  </thead>\n",
       "  <tbody>\n",
       "    <tr>\n",
       "      <th>count</th>\n",
       "      <td>1.017209e+06</td>\n",
       "      <td>1.017209e+06</td>\n",
       "      <td>1.017209e+06</td>\n",
       "      <td>1.017209e+06</td>\n",
       "      <td>1.017209e+06</td>\n",
       "      <td>1.017209e+06</td>\n",
       "      <td>1.017209e+06</td>\n",
       "    </tr>\n",
       "    <tr>\n",
       "      <th>mean</th>\n",
       "      <td>5.584297e+02</td>\n",
       "      <td>3.998341e+00</td>\n",
       "      <td>5.773819e+03</td>\n",
       "      <td>6.331459e+02</td>\n",
       "      <td>8.301067e-01</td>\n",
       "      <td>3.815145e-01</td>\n",
       "      <td>1.786467e-01</td>\n",
       "    </tr>\n",
       "    <tr>\n",
       "      <th>std</th>\n",
       "      <td>3.219087e+02</td>\n",
       "      <td>1.997391e+00</td>\n",
       "      <td>3.849926e+03</td>\n",
       "      <td>4.644117e+02</td>\n",
       "      <td>3.755392e-01</td>\n",
       "      <td>4.857586e-01</td>\n",
       "      <td>3.830564e-01</td>\n",
       "    </tr>\n",
       "    <tr>\n",
       "      <th>min</th>\n",
       "      <td>1.000000e+00</td>\n",
       "      <td>1.000000e+00</td>\n",
       "      <td>0.000000e+00</td>\n",
       "      <td>0.000000e+00</td>\n",
       "      <td>0.000000e+00</td>\n",
       "      <td>0.000000e+00</td>\n",
       "      <td>0.000000e+00</td>\n",
       "    </tr>\n",
       "    <tr>\n",
       "      <th>25%</th>\n",
       "      <td>2.800000e+02</td>\n",
       "      <td>2.000000e+00</td>\n",
       "      <td>3.727000e+03</td>\n",
       "      <td>4.050000e+02</td>\n",
       "      <td>1.000000e+00</td>\n",
       "      <td>0.000000e+00</td>\n",
       "      <td>0.000000e+00</td>\n",
       "    </tr>\n",
       "    <tr>\n",
       "      <th>50%</th>\n",
       "      <td>5.580000e+02</td>\n",
       "      <td>4.000000e+00</td>\n",
       "      <td>5.744000e+03</td>\n",
       "      <td>6.090000e+02</td>\n",
       "      <td>1.000000e+00</td>\n",
       "      <td>0.000000e+00</td>\n",
       "      <td>0.000000e+00</td>\n",
       "    </tr>\n",
       "    <tr>\n",
       "      <th>75%</th>\n",
       "      <td>8.380000e+02</td>\n",
       "      <td>6.000000e+00</td>\n",
       "      <td>7.856000e+03</td>\n",
       "      <td>8.370000e+02</td>\n",
       "      <td>1.000000e+00</td>\n",
       "      <td>1.000000e+00</td>\n",
       "      <td>0.000000e+00</td>\n",
       "    </tr>\n",
       "    <tr>\n",
       "      <th>max</th>\n",
       "      <td>1.115000e+03</td>\n",
       "      <td>7.000000e+00</td>\n",
       "      <td>4.155100e+04</td>\n",
       "      <td>7.388000e+03</td>\n",
       "      <td>1.000000e+00</td>\n",
       "      <td>1.000000e+00</td>\n",
       "      <td>1.000000e+00</td>\n",
       "    </tr>\n",
       "  </tbody>\n",
       "</table>\n",
       "</div>"
      ],
      "text/plain": [
       "              Store     DayOfWeek         Sales     Customers          Open  \\\n",
       "count  1.017209e+06  1.017209e+06  1.017209e+06  1.017209e+06  1.017209e+06   \n",
       "mean   5.584297e+02  3.998341e+00  5.773819e+03  6.331459e+02  8.301067e-01   \n",
       "std    3.219087e+02  1.997391e+00  3.849926e+03  4.644117e+02  3.755392e-01   \n",
       "min    1.000000e+00  1.000000e+00  0.000000e+00  0.000000e+00  0.000000e+00   \n",
       "25%    2.800000e+02  2.000000e+00  3.727000e+03  4.050000e+02  1.000000e+00   \n",
       "50%    5.580000e+02  4.000000e+00  5.744000e+03  6.090000e+02  1.000000e+00   \n",
       "75%    8.380000e+02  6.000000e+00  7.856000e+03  8.370000e+02  1.000000e+00   \n",
       "max    1.115000e+03  7.000000e+00  4.155100e+04  7.388000e+03  1.000000e+00   \n",
       "\n",
       "              Promo  SchoolHoliday  \n",
       "count  1.017209e+06   1.017209e+06  \n",
       "mean   3.815145e-01   1.786467e-01  \n",
       "std    4.857586e-01   3.830564e-01  \n",
       "min    0.000000e+00   0.000000e+00  \n",
       "25%    0.000000e+00   0.000000e+00  \n",
       "50%    0.000000e+00   0.000000e+00  \n",
       "75%    1.000000e+00   0.000000e+00  \n",
       "max    1.000000e+00   1.000000e+00  "
      ]
     },
     "execution_count": 6,
     "metadata": {},
     "output_type": "execute_result"
    }
   ],
   "source": [
    "train_df.describe()"
   ]
  },
  {
   "cell_type": "code",
   "execution_count": 7,
   "id": "fc6043b5",
   "metadata": {},
   "outputs": [
    {
     "name": "stdout",
     "output_type": "stream",
     "text": [
      "\n",
      "Value counts for feature Store:\n",
      "1      942\n",
      "726    942\n",
      "708    942\n",
      "709    942\n",
      "713    942\n",
      "      ... \n",
      "159    758\n",
      "637    758\n",
      "636    758\n",
      "633    758\n",
      "155    758\n",
      "Name: Store, Length: 1115, dtype: int64\n",
      "    \n",
      "\n",
      "Value counts for feature DayOfWeek:\n",
      "5    145845\n",
      "4    145845\n",
      "3    145665\n",
      "2    145664\n",
      "1    144730\n",
      "7    144730\n",
      "6    144730\n",
      "Name: DayOfWeek, dtype: int64\n",
      "    \n",
      "\n",
      "Value counts for feature Sales:\n",
      "0        172871\n",
      "5674        215\n",
      "5558        197\n",
      "5483        196\n",
      "6214        195\n",
      "          ...  \n",
      "23806         1\n",
      "24183         1\n",
      "20651         1\n",
      "25083         1\n",
      "23303         1\n",
      "Name: Sales, Length: 21734, dtype: int64\n",
      "    \n",
      "\n",
      "Value counts for feature Customers:\n",
      "0       172869\n",
      "560       2414\n",
      "576       2363\n",
      "603       2337\n",
      "571       2330\n",
      "         ...  \n",
      "4815         1\n",
      "3998         1\n",
      "4210         1\n",
      "4920         1\n",
      "4065         1\n",
      "Name: Customers, Length: 4086, dtype: int64\n",
      "    \n",
      "\n",
      "Value counts for feature Open:\n",
      "1    844392\n",
      "0    172817\n",
      "Name: Open, dtype: int64\n",
      "    \n",
      "\n",
      "Value counts for feature Promo:\n",
      "0    629129\n",
      "1    388080\n",
      "Name: Promo, dtype: int64\n",
      "    \n",
      "\n",
      "Value counts for feature StateHoliday:\n",
      "0    855087\n",
      "0    131072\n",
      "a     20260\n",
      "b      6690\n",
      "c      4100\n",
      "Name: StateHoliday, dtype: int64\n",
      "    \n",
      "\n",
      "Value counts for feature SchoolHoliday:\n",
      "0    835488\n",
      "1    181721\n",
      "Name: SchoolHoliday, dtype: int64\n",
      "    \n"
     ]
    }
   ],
   "source": [
    "for feature in train_df.columns:\n",
    "    print(f\"\"\"\n",
    "Value counts for feature {feature}:\n",
    "{train_df[feature].value_counts()}\n",
    "    \"\"\")"
   ]
  },
  {
   "cell_type": "code",
   "execution_count": 8,
   "id": "70087aff",
   "metadata": {},
   "outputs": [],
   "source": [
    "# There's 0 and '0' for StateHoliday, let's convert all of them into a string\n",
    "train_df.StateHoliday = train_df.StateHoliday.astype('str')"
   ]
  },
  {
   "cell_type": "code",
   "execution_count": 9,
   "id": "31a36731",
   "metadata": {},
   "outputs": [
    {
     "data": {
      "text/plain": [
       "0    986159\n",
       "a     20260\n",
       "b      6690\n",
       "c      4100\n",
       "Name: StateHoliday, dtype: int64"
      ]
     },
     "execution_count": 9,
     "metadata": {},
     "output_type": "execute_result"
    }
   ],
   "source": [
    "train_df.StateHoliday.value_counts()"
   ]
  },
  {
   "cell_type": "markdown",
   "id": "cf8c3454",
   "metadata": {},
   "source": [
    "Now that the datatype mismatch for 0 is fixed in `StateHoliday` feature"
   ]
  },
  {
   "cell_type": "markdown",
   "id": "5059b641",
   "metadata": {},
   "source": [
    "### Some description for the features of `train_df`\n",
    "\n",
    "Let's write a one-liner for each feature for better clarity:\n",
    "\n",
    "1. `Store` - Unique Id for each store\n",
    "2. `DayOfWeek` - Day of sale in the week with values form 1 to 7 for each day\n",
    "3. `Date` - Sale date for the datapoint or instance\n",
    "4. `Customers` - Number of customers on the day\n",
    "5. `Open` - Whether the store is open or not 0-closed, 1-open\n",
    "6. `Promo` Indicates whether a store is running a promo on the day\n",
    "  * `0` - store is not participating\n",
    "  * `1` - store is participating\n",
    "7. `StateHoliday` - Indicate the type of stateholiday, all the stores with few exceptions are always closed on holidays\n",
    "  * `a` - public holiday\n",
    "  * `b` - easter holiday\n",
    "  * `c` - christmas holiday\n",
    "  * `0` - No holiday\n",
    "8. `SchoolHoliday` - Indicate whether the school is open or not\n",
    "  * `0` - Open\n",
    "  * `1` - Closed\n",
    "9. `Sales` - Sales for the day, the target feature to be predicted"
   ]
  },
  {
   "cell_type": "markdown",
   "id": "68e10d06",
   "metadata": {},
   "source": [
    "We have only one feature in train dataset `StateHoliday` in object type and can be concluded as a categorical feature because it has only four values. Let's convert it to categorical feature and replace it with cat codes converting it into a numerical making our life easier for eda."
   ]
  },
  {
   "cell_type": "code",
   "execution_count": 10,
   "id": "8e2986ef",
   "metadata": {},
   "outputs": [],
   "source": [
    "train_df[\"StateHoliday\"] = train_df.StateHoliday.astype(\"category\").cat.as_ordered()"
   ]
  },
  {
   "cell_type": "code",
   "execution_count": 11,
   "id": "02c90b7a",
   "metadata": {},
   "outputs": [
    {
     "data": {
      "text/plain": [
       "CategoricalDtype(categories=['0', 'a', 'b', 'c'], ordered=True)"
      ]
     },
     "execution_count": 11,
     "metadata": {},
     "output_type": "execute_result"
    }
   ],
   "source": [
    "train_df.StateHoliday.dtype"
   ]
  },
  {
   "cell_type": "code",
   "execution_count": 12,
   "id": "0265c1d3",
   "metadata": {},
   "outputs": [
    {
     "data": {
      "text/plain": [
       "Index(['0', 'a', 'b', 'c'], dtype='object')"
      ]
     },
     "execution_count": 12,
     "metadata": {},
     "output_type": "execute_result"
    }
   ],
   "source": [
    "train_df.StateHoliday.cat.categories"
   ]
  },
  {
   "cell_type": "code",
   "execution_count": 13,
   "id": "803dd686",
   "metadata": {},
   "outputs": [
    {
     "data": {
      "text/plain": [
       "0    986159\n",
       "a     20260\n",
       "b      6690\n",
       "c      4100\n",
       "Name: StateHoliday, dtype: int64"
      ]
     },
     "execution_count": 13,
     "metadata": {},
     "output_type": "execute_result"
    }
   ],
   "source": [
    "train_df.StateHoliday.value_counts()"
   ]
  },
  {
   "cell_type": "code",
   "execution_count": 14,
   "id": "85cecf3e",
   "metadata": {},
   "outputs": [],
   "source": [
    "train_df.StateHoliday = train_df.StateHoliday.cat.codes"
   ]
  },
  {
   "cell_type": "code",
   "execution_count": 15,
   "id": "03709a49",
   "metadata": {},
   "outputs": [
    {
     "data": {
      "text/plain": [
       "0    986159\n",
       "1     20260\n",
       "2      6690\n",
       "3      4100\n",
       "Name: StateHoliday, dtype: int64"
      ]
     },
     "execution_count": 15,
     "metadata": {},
     "output_type": "execute_result"
    }
   ],
   "source": [
    "train_df.StateHoliday.value_counts()"
   ]
  },
  {
   "cell_type": "code",
   "execution_count": 16,
   "id": "670469fc",
   "metadata": {},
   "outputs": [
    {
     "data": {
      "image/png": "[encoded data removed]",
      "text/plain": [
       "<Figure size 1440x1008 with 9 Axes>"
      ]
     },
     "metadata": {
      "needs_background": "light"
     },
     "output_type": "display_data"
    }
   ],
   "source": [
    "# Let's do a hist for all the features\n",
    "train_df.hist(figsize=(20, 14), bins=50);"
   ]
  },
  {
   "cell_type": "markdown",
   "id": "9be6ff87",
   "metadata": {},
   "source": [
    "To avoid *Sneak Bias* Let's split the data before going further into EDA of dataset"
   ]
  },
  {
   "cell_type": "code",
   "execution_count": 17,
   "id": "e8ed9054",
   "metadata": {},
   "outputs": [
    {
     "data": {
      "text/plain": [
       "Store            0\n",
       "DayOfWeek        0\n",
       "Sales            0\n",
       "Customers        0\n",
       "Open             0\n",
       "Promo            0\n",
       "StateHoliday     0\n",
       "SchoolHoliday    0\n",
       "dtype: int64"
      ]
     },
     "execution_count": 17,
     "metadata": {},
     "output_type": "execute_result"
    }
   ],
   "source": [
    "# Before that let's check for any nan datapoints\n",
    "train_df.isna().sum()"
   ]
  },
  {
   "cell_type": "code",
   "execution_count": 18,
   "id": "b7695ff9",
   "metadata": {},
   "outputs": [],
   "source": [
    "# Splitting features and labels\n",
    "X, y = train_df.drop(\"Sales\", axis=1), train_df[\"Sales\"]"
   ]
  },
  {
   "cell_type": "code",
   "execution_count": 19,
   "id": "6875d56d",
   "metadata": {},
   "outputs": [],
   "source": [
    "# Writing a function to see a dataframe's features to get an insight\n",
    "def dataset_info(df: pd.DataFrame or pd.Series):\n",
    "    \"\"\"\n",
    "    Function accepts a pandas dataframe or series\n",
    "    and gives information on the dataset\n",
    "    \"\"\"\n",
    "    \n",
    "    print(f\"Shape of dataset is: {df.shape}\")\n",
    "    print(f\"Number of dimensions is: {df.ndim}\")"
   ]
  },
  {
   "cell_type": "code",
   "execution_count": 20,
   "id": "c37895b0",
   "metadata": {},
   "outputs": [
    {
     "name": "stdout",
     "output_type": "stream",
     "text": [
      "Shape of dataset is: (1017209, 7)\n",
      "Number of dimensions is: 2\n"
     ]
    }
   ],
   "source": [
    "dataset_info(X)"
   ]
  },
  {
   "cell_type": "code",
   "execution_count": 21,
   "id": "191218f5",
   "metadata": {},
   "outputs": [
    {
     "name": "stdout",
     "output_type": "stream",
     "text": [
      "Shape of dataset is: (1017209,)\n",
      "Number of dimensions is: 1\n"
     ]
    }
   ],
   "source": [
    "dataset_info(y)"
   ]
  },
  {
   "cell_type": "code",
   "execution_count": 22,
   "id": "1930ace0",
   "metadata": {},
   "outputs": [],
   "source": [
    "SEED=42\n",
    "# Splitting the data\n",
    "from sklearn.model_selection import train_test_split\n",
    "X_train, X_test, y_train, y_test = train_test_split(X, y, test_size=0.2, random_state=SEED)"
   ]
  },
  {
   "cell_type": "code",
   "execution_count": 23,
   "id": "a2eda001",
   "metadata": {},
   "outputs": [
    {
     "name": "stdout",
     "output_type": "stream",
     "text": [
      "Shape of dataset is: (813767, 7)\n",
      "Number of dimensions is: 2\n",
      "Shape of dataset is: (203442, 7)\n",
      "Number of dimensions is: 2\n",
      "Shape of dataset is: (813767,)\n",
      "Number of dimensions is: 1\n",
      "Shape of dataset is: (203442,)\n",
      "Number of dimensions is: 1\n"
     ]
    },
    {
     "data": {
      "text/plain": [
       "(None, None, None, None)"
      ]
     },
     "execution_count": 23,
     "metadata": {},
     "output_type": "execute_result"
    }
   ],
   "source": [
    "dataset_info(X_train), dataset_info(X_test), dataset_info(y_train), dataset_info(y_test)"
   ]
  },
  {
   "cell_type": "markdown",
   "id": "31adfc2f",
   "metadata": {},
   "source": [
    "Let's look if we can get any useful feature from store df to train df before we go any further on train df."
   ]
  },
  {
   "cell_type": "code",
   "execution_count": 24,
   "id": "9f30de12",
   "metadata": {},
   "outputs": [
    {
     "name": "stdout",
     "output_type": "stream",
     "text": [
      "<class 'pandas.core.frame.DataFrame'>\n",
      "RangeIndex: 1115 entries, 0 to 1114\n",
      "Data columns (total 10 columns):\n",
      " #   Column                     Non-Null Count  Dtype  \n",
      "---  ------                     --------------  -----  \n",
      " 0   Store                      1115 non-null   int64  \n",
      " 1   StoreType                  1115 non-null   object \n",
      " 2   Assortment                 1115 non-null   object \n",
      " 3   CompetitionDistance        1112 non-null   float64\n",
      " 4   CompetitionOpenSinceMonth  761 non-null    float64\n",
      " 5   CompetitionOpenSinceYear   761 non-null    float64\n",
      " 6   Promo2                     1115 non-null   int64  \n",
      " 7   Promo2SinceWeek            571 non-null    float64\n",
      " 8   Promo2SinceYear            571 non-null    float64\n",
      " 9   PromoInterval              571 non-null    object \n",
      "dtypes: float64(5), int64(2), object(3)\n",
      "memory usage: 87.2+ KB\n"
     ]
    }
   ],
   "source": [
    "store_df.info()"
   ]
  },
  {
   "cell_type": "code",
   "execution_count": 25,
   "id": "9f2ba871",
   "metadata": {},
   "outputs": [
    {
     "data": {
      "text/plain": [
       "Store                          0\n",
       "StoreType                      0\n",
       "Assortment                     0\n",
       "CompetitionDistance            3\n",
       "CompetitionOpenSinceMonth    354\n",
       "CompetitionOpenSinceYear     354\n",
       "Promo2                         0\n",
       "Promo2SinceWeek              544\n",
       "Promo2SinceYear              544\n",
       "PromoInterval                544\n",
       "dtype: int64"
      ]
     },
     "execution_count": 25,
     "metadata": {},
     "output_type": "execute_result"
    }
   ],
   "source": [
    "store_df.isna().sum()"
   ]
  },
  {
   "cell_type": "code",
   "execution_count": 26,
   "id": "471aa9a8",
   "metadata": {},
   "outputs": [
    {
     "name": "stdout",
     "output_type": "stream",
     "text": [
      "\n",
      "Value counts for feature: Store\n",
      "1       1\n",
      "742     1\n",
      "748     1\n",
      "747     1\n",
      "746     1\n",
      "       ..\n",
      "378     1\n",
      "379     1\n",
      "380     1\n",
      "381     1\n",
      "1115    1\n",
      "Name: Store, Length: 1115, dtype: int64\n",
      "    \n",
      "Nan values for Store out of total 1115 is 0\n",
      "\n",
      "Value counts for feature: StoreType\n",
      "a    602\n",
      "d    348\n",
      "c    148\n",
      "b     17\n",
      "Name: StoreType, dtype: int64\n",
      "    \n",
      "Nan values for StoreType out of total 1115 is 0\n",
      "\n",
      "Value counts for feature: Assortment\n",
      "a    593\n",
      "c    513\n",
      "b      9\n",
      "Name: Assortment, dtype: int64\n",
      "    \n",
      "Nan values for Assortment out of total 1115 is 0\n",
      "\n",
      "Value counts for feature: CompetitionDistance\n",
      "250.0     12\n",
      "1200.0     9\n",
      "190.0      8\n",
      "350.0      8\n",
      "50.0       8\n",
      "          ..\n",
      "4490.0     1\n",
      "8970.0     1\n",
      "9720.0     1\n",
      "5290.0     1\n",
      "1880.0     1\n",
      "Name: CompetitionDistance, Length: 654, dtype: int64\n",
      "    \n",
      "Nan values for CompetitionDistance out of total 1115 is 3\n",
      "\n",
      "Value counts for feature: CompetitionOpenSinceMonth\n",
      "9.0     125\n",
      "4.0      94\n",
      "11.0     92\n",
      "3.0      70\n",
      "7.0      67\n",
      "12.0     64\n",
      "10.0     61\n",
      "6.0      50\n",
      "5.0      44\n",
      "2.0      41\n",
      "8.0      39\n",
      "1.0      14\n",
      "Name: CompetitionOpenSinceMonth, dtype: int64\n",
      "    \n",
      "Nan values for CompetitionOpenSinceMonth out of total 1115 is 354\n",
      "\n",
      "Value counts for feature: CompetitionOpenSinceYear\n",
      "2013.0    83\n",
      "2012.0    82\n",
      "2014.0    70\n",
      "2005.0    62\n",
      "2010.0    55\n",
      "2008.0    54\n",
      "2009.0    54\n",
      "2011.0    54\n",
      "2007.0    48\n",
      "2006.0    47\n",
      "2015.0    38\n",
      "2002.0    27\n",
      "2004.0    22\n",
      "2003.0    19\n",
      "2001.0    16\n",
      "2000.0    10\n",
      "1999.0     8\n",
      "1990.0     5\n",
      "1995.0     2\n",
      "1994.0     2\n",
      "1961.0     1\n",
      "1900.0     1\n",
      "1998.0     1\n",
      "Name: CompetitionOpenSinceYear, dtype: int64\n",
      "    \n",
      "Nan values for CompetitionOpenSinceYear out of total 1115 is 354\n",
      "\n",
      "Value counts for feature: Promo2\n",
      "1    571\n",
      "0    544\n",
      "Name: Promo2, dtype: int64\n",
      "    \n",
      "Nan values for Promo2 out of total 1115 is 0\n",
      "\n",
      "Value counts for feature: Promo2SinceWeek\n",
      "14.0    81\n",
      "40.0    77\n",
      "31.0    44\n",
      "10.0    42\n",
      "5.0     39\n",
      "1.0     35\n",
      "37.0    35\n",
      "13.0    34\n",
      "45.0    34\n",
      "22.0    33\n",
      "18.0    29\n",
      "35.0    25\n",
      "9.0     14\n",
      "27.0    11\n",
      "36.0    10\n",
      "48.0     9\n",
      "39.0     6\n",
      "23.0     5\n",
      "44.0     3\n",
      "6.0      1\n",
      "26.0     1\n",
      "50.0     1\n",
      "49.0     1\n",
      "28.0     1\n",
      "Name: Promo2SinceWeek, dtype: int64\n",
      "    \n",
      "Nan values for Promo2SinceWeek out of total 1115 is 544\n",
      "\n",
      "Value counts for feature: Promo2SinceYear\n",
      "2011.0    128\n",
      "2013.0    120\n",
      "2014.0     95\n",
      "2012.0     81\n",
      "2009.0     73\n",
      "2010.0     64\n",
      "2015.0     10\n",
      "Name: Promo2SinceYear, dtype: int64\n",
      "    \n",
      "Nan values for Promo2SinceYear out of total 1115 is 544\n",
      "\n",
      "Value counts for feature: PromoInterval\n",
      "Jan,Apr,Jul,Oct     335\n",
      "Feb,May,Aug,Nov     130\n",
      "Mar,Jun,Sept,Dec    106\n",
      "Name: PromoInterval, dtype: int64\n",
      "    \n",
      "Nan values for PromoInterval out of total 1115 is 544\n"
     ]
    }
   ],
   "source": [
    "for feature in store_df.columns:\n",
    "    print(f\"\"\"\n",
    "Value counts for feature: {feature}\n",
    "{store_df[feature].value_counts()}\n",
    "    \"\"\")\n",
    "    print(f\"Nan values for {feature} out of total {len(store_df)} is {store_df[feature].isna().sum()}\")"
   ]
  },
  {
   "cell_type": "code",
   "execution_count": 27,
   "id": "4196c780",
   "metadata": {},
   "outputs": [
    {
     "data": {
      "text/plain": [
       "Index(['Store', 'StoreType', 'Assortment', 'CompetitionDistance',\n",
       "       'CompetitionOpenSinceMonth', 'CompetitionOpenSinceYear', 'Promo2',\n",
       "       'Promo2SinceWeek', 'Promo2SinceYear', 'PromoInterval'],\n",
       "      dtype='object')"
      ]
     },
     "execution_count": 27,
     "metadata": {},
     "output_type": "execute_result"
    }
   ],
   "source": [
    "store_df.columns"
   ]
  },
  {
   "cell_type": "markdown",
   "id": "c7fcde08",
   "metadata": {},
   "source": [
    "### descriptions for `store_df` features\n",
    "\n",
    "1. `Store` - Unique id for each store\n",
    "2. `StoreType` - Differentiat between four different store models ['a', 'b', 'c', 'd']\n",
    "    * don't know what each store type means, but we can check whether there's any correlation between store type and sales\n",
    "3. `Assortment` - Describes assortment level for the stores ['a', 'b', ''c]\n",
    "    * Similar to StoreType this can also be checked\n",
    "4. `CompetitionDistance` - Distance to the nearest competiton\n",
    "    * Competitor can play a role on the sales, except three stores all others have competitor (based on 3 nan values)\n",
    "5. `Promo2` - Promo2 is already in store_df as `Promo`\n",
    "6. `Promo2Since[Year/Week]` - describes the year and calendar week when the store started participating in Promo2\n",
    "7. `PromoInterval` - describes the consecutive intervals Promo2 is started, naming the months the promotion is started anew. E.g. \"Feb,May,Aug,Nov\" means each round starts in February, May, August, November of any given year for that store\n",
    "\n",
    "We'll check on the other features later, right now we'll add `StoreType, Assortment, CompetitorDistance` to train_df"
   ]
  },
  {
   "cell_type": "code",
   "execution_count": 28,
   "id": "234954a0",
   "metadata": {},
   "outputs": [
    {
     "data": {
      "text/html": [
       "<div>\n",
       "<style scoped>\n",
       "    .dataframe tbody tr th:only-of-type {\n",
       "        vertical-align: middle;\n",
       "    }\n",
       "\n",
       "    .dataframe tbody tr th {\n",
       "        vertical-align: top;\n",
       "    }\n",
       "\n",
       "    .dataframe thead th {\n",
       "        text-align: right;\n",
       "    }\n",
       "</style>\n",
       "<table border=\"1\" class=\"dataframe\">\n",
       "  <thead>\n",
       "    <tr style=\"text-align: right;\">\n",
       "      <th></th>\n",
       "      <th>Store</th>\n",
       "      <th>StoreType</th>\n",
       "      <th>Assortment</th>\n",
       "      <th>CompetitionDistance</th>\n",
       "      <th>CompetitionOpenSinceMonth</th>\n",
       "      <th>CompetitionOpenSinceYear</th>\n",
       "      <th>Promo2</th>\n",
       "      <th>Promo2SinceWeek</th>\n",
       "      <th>Promo2SinceYear</th>\n",
       "      <th>PromoInterval</th>\n",
       "    </tr>\n",
       "  </thead>\n",
       "  <tbody>\n",
       "    <tr>\n",
       "      <th>290</th>\n",
       "      <td>291</td>\n",
       "      <td>d</td>\n",
       "      <td>a</td>\n",
       "      <td>NaN</td>\n",
       "      <td>NaN</td>\n",
       "      <td>NaN</td>\n",
       "      <td>0</td>\n",
       "      <td>NaN</td>\n",
       "      <td>NaN</td>\n",
       "      <td>NaN</td>\n",
       "    </tr>\n",
       "    <tr>\n",
       "      <th>621</th>\n",
       "      <td>622</td>\n",
       "      <td>a</td>\n",
       "      <td>c</td>\n",
       "      <td>NaN</td>\n",
       "      <td>NaN</td>\n",
       "      <td>NaN</td>\n",
       "      <td>0</td>\n",
       "      <td>NaN</td>\n",
       "      <td>NaN</td>\n",
       "      <td>NaN</td>\n",
       "    </tr>\n",
       "    <tr>\n",
       "      <th>878</th>\n",
       "      <td>879</td>\n",
       "      <td>d</td>\n",
       "      <td>a</td>\n",
       "      <td>NaN</td>\n",
       "      <td>NaN</td>\n",
       "      <td>NaN</td>\n",
       "      <td>1</td>\n",
       "      <td>5.0</td>\n",
       "      <td>2013.0</td>\n",
       "      <td>Feb,May,Aug,Nov</td>\n",
       "    </tr>\n",
       "  </tbody>\n",
       "</table>\n",
       "</div>"
      ],
      "text/plain": [
       "     Store StoreType Assortment  CompetitionDistance  \\\n",
       "290    291         d          a                  NaN   \n",
       "621    622         a          c                  NaN   \n",
       "878    879         d          a                  NaN   \n",
       "\n",
       "     CompetitionOpenSinceMonth  CompetitionOpenSinceYear  Promo2  \\\n",
       "290                        NaN                       NaN       0   \n",
       "621                        NaN                       NaN       0   \n",
       "878                        NaN                       NaN       1   \n",
       "\n",
       "     Promo2SinceWeek  Promo2SinceYear    PromoInterval  \n",
       "290              NaN              NaN              NaN  \n",
       "621              NaN              NaN              NaN  \n",
       "878              5.0           2013.0  Feb,May,Aug,Nov  "
      ]
     },
     "execution_count": 28,
     "metadata": {},
     "output_type": "execute_result"
    }
   ],
   "source": [
    "# What stores has nan for CompetitorDistance\n",
    "store_df[store_df[\"CompetitionDistance\"].isna()]"
   ]
  },
  {
   "cell_type": "markdown",
   "id": "367ae4f8",
   "metadata": {},
   "source": [
    "So, let's fill this with median of competition distance assuming even if there's competition now. Competition might come in the future"
   ]
  },
  {
   "cell_type": "code",
   "execution_count": 29,
   "id": "cab024bb",
   "metadata": {},
   "outputs": [],
   "source": [
    "train_df.loc[train_df.Store == 1, 'test'] = 1"
   ]
  },
  {
   "cell_type": "code",
   "execution_count": 30,
   "id": "55f768a3",
   "metadata": {},
   "outputs": [],
   "source": [
    "# Creating new features\n",
    "train_df[\"storeType\"] = \"\"\n",
    "train_df[\"Assortment\"] = \"\"\n",
    "train_df[\"competitionDistance\"] = \"\""
   ]
  },
  {
   "cell_type": "code",
   "execution_count": 31,
   "id": "904bf59a",
   "metadata": {},
   "outputs": [
    {
     "data": {
      "text/plain": [
       "Index(['Store', 'DayOfWeek', 'Sales', 'Customers', 'Open', 'Promo',\n",
       "       'StateHoliday', 'SchoolHoliday', 'test', 'storeType', 'Assortment',\n",
       "       'competitionDistance'],\n",
       "      dtype='object')"
      ]
     },
     "execution_count": 31,
     "metadata": {},
     "output_type": "execute_result"
    }
   ],
   "source": [
    "train_df.columns"
   ]
  },
  {
   "cell_type": "code",
   "execution_count": 32,
   "id": "d869af9e",
   "metadata": {},
   "outputs": [],
   "source": [
    "for row in store_df.itertuples():\n",
    "    store, storetype, assortment, competitiondistance = row.Store, row.StoreType, row.Assortment, row.CompetitionDistance\n",
    "    train_df.loc[train_df[\"Store\"] == store, \"storeType\"] = storetype\n",
    "    train_df.loc[train_df[\"Store\"] == store, \"Assortment\"] = assortment\n",
    "    train_df.loc[train_df[\"Store\"] == store, \"competitionDistance\"] = competitiondistance"
   ]
  },
  {
   "cell_type": "code",
   "execution_count": 33,
   "id": "3077a7db",
   "metadata": {},
   "outputs": [
    {
     "data": {
      "text/html": [
       "<div>\n",
       "<style scoped>\n",
       "    .dataframe tbody tr th:only-of-type {\n",
       "        vertical-align: middle;\n",
       "    }\n",
       "\n",
       "    .dataframe tbody tr th {\n",
       "        vertical-align: top;\n",
       "    }\n",
       "\n",
       "    .dataframe thead th {\n",
       "        text-align: right;\n",
       "    }\n",
       "</style>\n",
       "<table border=\"1\" class=\"dataframe\">\n",
       "  <thead>\n",
       "    <tr style=\"text-align: right;\">\n",
       "      <th></th>\n",
       "      <th>Store</th>\n",
       "      <th>DayOfWeek</th>\n",
       "      <th>Sales</th>\n",
       "      <th>Customers</th>\n",
       "      <th>Open</th>\n",
       "      <th>Promo</th>\n",
       "      <th>StateHoliday</th>\n",
       "      <th>SchoolHoliday</th>\n",
       "      <th>test</th>\n",
       "      <th>storeType</th>\n",
       "      <th>Assortment</th>\n",
       "      <th>competitionDistance</th>\n",
       "    </tr>\n",
       "    <tr>\n",
       "      <th>Date</th>\n",
       "      <th></th>\n",
       "      <th></th>\n",
       "      <th></th>\n",
       "      <th></th>\n",
       "      <th></th>\n",
       "      <th></th>\n",
       "      <th></th>\n",
       "      <th></th>\n",
       "      <th></th>\n",
       "      <th></th>\n",
       "      <th></th>\n",
       "      <th></th>\n",
       "    </tr>\n",
       "  </thead>\n",
       "  <tbody>\n",
       "    <tr>\n",
       "      <th>2015-07-31</th>\n",
       "      <td>1</td>\n",
       "      <td>5</td>\n",
       "      <td>5263</td>\n",
       "      <td>555</td>\n",
       "      <td>1</td>\n",
       "      <td>1</td>\n",
       "      <td>0</td>\n",
       "      <td>1</td>\n",
       "      <td>1.0</td>\n",
       "      <td>c</td>\n",
       "      <td>a</td>\n",
       "      <td>1270.0</td>\n",
       "    </tr>\n",
       "    <tr>\n",
       "      <th>2015-07-31</th>\n",
       "      <td>2</td>\n",
       "      <td>5</td>\n",
       "      <td>6064</td>\n",
       "      <td>625</td>\n",
       "      <td>1</td>\n",
       "      <td>1</td>\n",
       "      <td>0</td>\n",
       "      <td>1</td>\n",
       "      <td>NaN</td>\n",
       "      <td>a</td>\n",
       "      <td>a</td>\n",
       "      <td>570.0</td>\n",
       "    </tr>\n",
       "    <tr>\n",
       "      <th>2015-07-31</th>\n",
       "      <td>3</td>\n",
       "      <td>5</td>\n",
       "      <td>8314</td>\n",
       "      <td>821</td>\n",
       "      <td>1</td>\n",
       "      <td>1</td>\n",
       "      <td>0</td>\n",
       "      <td>1</td>\n",
       "      <td>NaN</td>\n",
       "      <td>a</td>\n",
       "      <td>a</td>\n",
       "      <td>14130.0</td>\n",
       "    </tr>\n",
       "    <tr>\n",
       "      <th>2015-07-31</th>\n",
       "      <td>4</td>\n",
       "      <td>5</td>\n",
       "      <td>13995</td>\n",
       "      <td>1498</td>\n",
       "      <td>1</td>\n",
       "      <td>1</td>\n",
       "      <td>0</td>\n",
       "      <td>1</td>\n",
       "      <td>NaN</td>\n",
       "      <td>c</td>\n",
       "      <td>c</td>\n",
       "      <td>620.0</td>\n",
       "    </tr>\n",
       "    <tr>\n",
       "      <th>2015-07-31</th>\n",
       "      <td>5</td>\n",
       "      <td>5</td>\n",
       "      <td>4822</td>\n",
       "      <td>559</td>\n",
       "      <td>1</td>\n",
       "      <td>1</td>\n",
       "      <td>0</td>\n",
       "      <td>1</td>\n",
       "      <td>NaN</td>\n",
       "      <td>a</td>\n",
       "      <td>a</td>\n",
       "      <td>29910.0</td>\n",
       "    </tr>\n",
       "  </tbody>\n",
       "</table>\n",
       "</div>"
      ],
      "text/plain": [
       "            Store  DayOfWeek  Sales  Customers  Open  Promo  StateHoliday  \\\n",
       "Date                                                                        \n",
       "2015-07-31      1          5   5263        555     1      1             0   \n",
       "2015-07-31      2          5   6064        625     1      1             0   \n",
       "2015-07-31      3          5   8314        821     1      1             0   \n",
       "2015-07-31      4          5  13995       1498     1      1             0   \n",
       "2015-07-31      5          5   4822        559     1      1             0   \n",
       "\n",
       "            SchoolHoliday  test storeType Assortment competitionDistance  \n",
       "Date                                                                      \n",
       "2015-07-31              1   1.0         c          a              1270.0  \n",
       "2015-07-31              1   NaN         a          a               570.0  \n",
       "2015-07-31              1   NaN         a          a             14130.0  \n",
       "2015-07-31              1   NaN         c          c               620.0  \n",
       "2015-07-31              1   NaN         a          a             29910.0  "
      ]
     },
     "execution_count": 33,
     "metadata": {},
     "output_type": "execute_result"
    }
   ],
   "source": [
    "train_df.head()"
   ]
  },
  {
   "cell_type": "markdown",
   "id": "8d73677d",
   "metadata": {},
   "source": [
    "So now, added the features that we considered might have influence on the sale. Since we added new features to the dataset, we've to do the splitting of data again."
   ]
  },
  {
   "cell_type": "code",
   "execution_count": 34,
   "id": "50d7efe2",
   "metadata": {},
   "outputs": [],
   "source": [
    "# First let's save the new dataset\n",
    "# Commenting this to avoid repeating saving the df\n",
    "# train_df.to_csv(\"data/rossman-sales-dataset-with-stores.csv\")"
   ]
  },
  {
   "cell_type": "code",
   "execution_count": 35,
   "id": "867f08bf",
   "metadata": {},
   "outputs": [
    {
     "data": {
      "text/plain": [
       "Date                      0\n",
       "Store                     0\n",
       "DayOfWeek                 0\n",
       "Sales                     0\n",
       "Customers                 0\n",
       "Open                      0\n",
       "Promo                     0\n",
       "StateHoliday              0\n",
       "SchoolHoliday             0\n",
       "storeType                 0\n",
       "Assortment                0\n",
       "competitionDistance    2642\n",
       "dtype: int64"
      ]
     },
     "execution_count": 35,
     "metadata": {},
     "output_type": "execute_result"
    }
   ],
   "source": [
    "train_df = pd.read_csv(\"data/rossman-sales-dataset-with-stores.csv\")\n",
    "train_df.isna().sum()"
   ]
  },
  {
   "cell_type": "code",
   "execution_count": 36,
   "id": "e4bbced3",
   "metadata": {},
   "outputs": [
    {
     "data": {
      "text/plain": [
       "count    1.014567e+06\n",
       "mean     5.430086e+03\n",
       "std      7.715324e+03\n",
       "min      2.000000e+01\n",
       "25%      7.100000e+02\n",
       "50%      2.330000e+03\n",
       "75%      6.890000e+03\n",
       "max      7.586000e+04\n",
       "Name: competitionDistance, dtype: float64"
      ]
     },
     "execution_count": 36,
     "metadata": {},
     "output_type": "execute_result"
    }
   ],
   "source": [
    "train_df.competitionDistance.describe()"
   ]
  },
  {
   "cell_type": "code",
   "execution_count": 37,
   "id": "e6c16528",
   "metadata": {},
   "outputs": [
    {
     "data": {
      "text/plain": [
       "2330.0"
      ]
     },
     "execution_count": 37,
     "metadata": {},
     "output_type": "execute_result"
    }
   ],
   "source": [
    "np.median(train_df[\"competitionDistance\"].loc[train_df[\"competitionDistance\"].notnull()])"
   ]
  },
  {
   "cell_type": "code",
   "execution_count": 38,
   "id": "c932a68b",
   "metadata": {},
   "outputs": [],
   "source": [
    "# Filling na values for three stores with median(why median because, it takes care if any outliers are there)\n",
    "train_df.competitionDistance.fillna(value=2330.0, inplace=True)"
   ]
  },
  {
   "cell_type": "code",
   "execution_count": 39,
   "id": "4cf663ab",
   "metadata": {},
   "outputs": [],
   "source": [
    "X, y = train_df.drop(columns=\"Sales\", axis=1), train_df[\"Sales\"]"
   ]
  },
  {
   "cell_type": "code",
   "execution_count": 40,
   "id": "b282c13d",
   "metadata": {},
   "outputs": [
    {
     "name": "stdout",
     "output_type": "stream",
     "text": [
      "Shape of dataset is: (1017209, 11)\n",
      "Number of dimensions is: 2\n",
      "Shape of dataset is: (1017209,)\n",
      "Number of dimensions is: 1\n"
     ]
    },
    {
     "data": {
      "text/plain": [
       "(None, None)"
      ]
     },
     "execution_count": 40,
     "metadata": {},
     "output_type": "execute_result"
    }
   ],
   "source": [
    "dataset_info(X), dataset_info(y)"
   ]
  },
  {
   "cell_type": "code",
   "execution_count": 41,
   "id": "78e2670f",
   "metadata": {},
   "outputs": [],
   "source": [
    "X_train, X_test, y_train, y_test = train_test_split(X, y, test_size=TEST_SIZE, random_state=SEED)"
   ]
  },
  {
   "cell_type": "code",
   "execution_count": 42,
   "id": "b2a01e35",
   "metadata": {},
   "outputs": [
    {
     "name": "stdout",
     "output_type": "stream",
     "text": [
      "Shape of dataset is: (813767, 11)\n",
      "Number of dimensions is: 2\n",
      "Shape of dataset is: (203442, 11)\n",
      "Number of dimensions is: 2\n",
      "Shape of dataset is: (813767,)\n",
      "Number of dimensions is: 1\n",
      "Shape of dataset is: (203442,)\n",
      "Number of dimensions is: 1\n"
     ]
    },
    {
     "data": {
      "text/plain": [
       "(None, None, None, None)"
      ]
     },
     "execution_count": 42,
     "metadata": {},
     "output_type": "execute_result"
    }
   ],
   "source": [
    "dataset_info(X_train), dataset_info(X_test), dataset_info(y_train), dataset_info(y_test)"
   ]
  },
  {
   "cell_type": "code",
   "execution_count": 43,
   "id": "e2540139",
   "metadata": {},
   "outputs": [
    {
     "data": {
      "text/plain": [
       "Date                   0\n",
       "Store                  0\n",
       "DayOfWeek              0\n",
       "Customers              0\n",
       "Open                   0\n",
       "Promo                  0\n",
       "StateHoliday           0\n",
       "SchoolHoliday          0\n",
       "storeType              0\n",
       "Assortment             0\n",
       "competitionDistance    0\n",
       "dtype: int64"
      ]
     },
     "execution_count": 43,
     "metadata": {},
     "output_type": "execute_result"
    }
   ],
   "source": [
    "X_train.isna().sum()"
   ]
  },
  {
   "cell_type": "code",
   "execution_count": 44,
   "id": "d6875588",
   "metadata": {},
   "outputs": [
    {
     "name": "stdout",
     "output_type": "stream",
     "text": [
      "<class 'pandas.core.frame.DataFrame'>\n",
      "Int64Index: 813767 entries, 417683 to 121958\n",
      "Data columns (total 11 columns):\n",
      " #   Column               Non-Null Count   Dtype  \n",
      "---  ------               --------------   -----  \n",
      " 0   Date                 813767 non-null  object \n",
      " 1   Store                813767 non-null  int64  \n",
      " 2   DayOfWeek            813767 non-null  int64  \n",
      " 3   Customers            813767 non-null  int64  \n",
      " 4   Open                 813767 non-null  int64  \n",
      " 5   Promo                813767 non-null  int64  \n",
      " 6   StateHoliday         813767 non-null  int64  \n",
      " 7   SchoolHoliday        813767 non-null  int64  \n",
      " 8   storeType            813767 non-null  object \n",
      " 9   Assortment           813767 non-null  object \n",
      " 10  competitionDistance  813767 non-null  float64\n",
      "dtypes: float64(1), int64(7), object(3)\n",
      "memory usage: 74.5+ MB\n"
     ]
    }
   ],
   "source": [
    "X_train.info()"
   ]
  },
  {
   "cell_type": "markdown",
   "id": "074d0c91",
   "metadata": {},
   "source": [
    "Still store type and assortment are object type, they are categorica values as we've already seen let's convert them to numerical."
   ]
  },
  {
   "cell_type": "code",
   "execution_count": 45,
   "id": "8ec8fcd9",
   "metadata": {},
   "outputs": [],
   "source": [
    "train_df.storeType = train_df.storeType.astype('category').cat.as_ordered()\n",
    "train_df.Assortment = train_df.Assortment.astype('category').cat.as_ordered()"
   ]
  },
  {
   "cell_type": "code",
   "execution_count": 46,
   "id": "8a2e6275",
   "metadata": {},
   "outputs": [
    {
     "name": "stdout",
     "output_type": "stream",
     "text": [
      "<class 'pandas.core.frame.DataFrame'>\n",
      "RangeIndex: 1017209 entries, 0 to 1017208\n",
      "Data columns (total 12 columns):\n",
      " #   Column               Non-Null Count    Dtype   \n",
      "---  ------               --------------    -----   \n",
      " 0   Date                 1017209 non-null  object  \n",
      " 1   Store                1017209 non-null  int64   \n",
      " 2   DayOfWeek            1017209 non-null  int64   \n",
      " 3   Sales                1017209 non-null  int64   \n",
      " 4   Customers            1017209 non-null  int64   \n",
      " 5   Open                 1017209 non-null  int64   \n",
      " 6   Promo                1017209 non-null  int64   \n",
      " 7   StateHoliday         1017209 non-null  int64   \n",
      " 8   SchoolHoliday        1017209 non-null  int64   \n",
      " 9   storeType            1017209 non-null  category\n",
      " 10  Assortment           1017209 non-null  category\n",
      " 11  competitionDistance  1017209 non-null  float64 \n",
      "dtypes: category(2), float64(1), int64(8), object(1)\n",
      "memory usage: 79.5+ MB\n"
     ]
    }
   ],
   "source": [
    "train_df.info()"
   ]
  },
  {
   "cell_type": "code",
   "execution_count": 47,
   "id": "cf94cdc5",
   "metadata": {},
   "outputs": [
    {
     "data": {
      "text/plain": [
       "(a    551627\n",
       " d    312912\n",
       " c    136840\n",
       " b     15830\n",
       " Name: storeType, dtype: int64,\n",
       " a    537445\n",
       " c    471470\n",
       " b      8294\n",
       " Name: Assortment, dtype: int64)"
      ]
     },
     "execution_count": 47,
     "metadata": {},
     "output_type": "execute_result"
    }
   ],
   "source": [
    "train_df.storeType.value_counts(), train_df.Assortment.value_counts()"
   ]
  },
  {
   "cell_type": "code",
   "execution_count": 48,
   "id": "0ed89513",
   "metadata": {},
   "outputs": [],
   "source": [
    "train_df.storeType = train_df.storeType.cat.codes\n",
    "train_df.Assortment = train_df.Assortment.cat.codes"
   ]
  },
  {
   "cell_type": "code",
   "execution_count": 49,
   "id": "ef81f34c",
   "metadata": {},
   "outputs": [
    {
     "data": {
      "text/plain": [
       "(0    551627\n",
       " 3    312912\n",
       " 2    136840\n",
       " 1     15830\n",
       " Name: storeType, dtype: int64,\n",
       " 0    537445\n",
       " 2    471470\n",
       " 1      8294\n",
       " Name: Assortment, dtype: int64)"
      ]
     },
     "execution_count": 49,
     "metadata": {},
     "output_type": "execute_result"
    }
   ],
   "source": [
    "train_df.storeType.value_counts(), train_df.Assortment.value_counts()"
   ]
  },
  {
   "cell_type": "code",
   "execution_count": 50,
   "id": "cdf8ce9e",
   "metadata": {},
   "outputs": [
    {
     "name": "stdout",
     "output_type": "stream",
     "text": [
      "<class 'pandas.core.frame.DataFrame'>\n",
      "RangeIndex: 1017209 entries, 0 to 1017208\n",
      "Data columns (total 12 columns):\n",
      " #   Column               Non-Null Count    Dtype  \n",
      "---  ------               --------------    -----  \n",
      " 0   Date                 1017209 non-null  object \n",
      " 1   Store                1017209 non-null  int64  \n",
      " 2   DayOfWeek            1017209 non-null  int64  \n",
      " 3   Sales                1017209 non-null  int64  \n",
      " 4   Customers            1017209 non-null  int64  \n",
      " 5   Open                 1017209 non-null  int64  \n",
      " 6   Promo                1017209 non-null  int64  \n",
      " 7   StateHoliday         1017209 non-null  int64  \n",
      " 8   SchoolHoliday        1017209 non-null  int64  \n",
      " 9   storeType            1017209 non-null  int8   \n",
      " 10  Assortment           1017209 non-null  int8   \n",
      " 11  competitionDistance  1017209 non-null  float64\n",
      "dtypes: float64(1), int64(8), int8(2), object(1)\n",
      "memory usage: 79.5+ MB\n"
     ]
    }
   ],
   "source": [
    "train_df.info()"
   ]
  },
  {
   "cell_type": "markdown",
   "id": "2801a4c8",
   "metadata": {},
   "source": [
    "All done, let's move the date column to index and then create a seperate feature for month and year to check the seasonality of the dataset and how the performance has been."
   ]
  },
  {
   "cell_type": "code",
   "execution_count": 51,
   "id": "682b7525",
   "metadata": {},
   "outputs": [
    {
     "data": {
      "text/html": [
       "<div>\n",
       "<style scoped>\n",
       "    .dataframe tbody tr th:only-of-type {\n",
       "        vertical-align: middle;\n",
       "    }\n",
       "\n",
       "    .dataframe tbody tr th {\n",
       "        vertical-align: top;\n",
       "    }\n",
       "\n",
       "    .dataframe thead th {\n",
       "        text-align: right;\n",
       "    }\n",
       "</style>\n",
       "<table border=\"1\" class=\"dataframe\">\n",
       "  <thead>\n",
       "    <tr style=\"text-align: right;\">\n",
       "      <th></th>\n",
       "      <th>Date</th>\n",
       "      <th>Store</th>\n",
       "      <th>DayOfWeek</th>\n",
       "      <th>Sales</th>\n",
       "      <th>Customers</th>\n",
       "      <th>Open</th>\n",
       "      <th>Promo</th>\n",
       "      <th>StateHoliday</th>\n",
       "      <th>SchoolHoliday</th>\n",
       "      <th>storeType</th>\n",
       "      <th>Assortment</th>\n",
       "      <th>competitionDistance</th>\n",
       "    </tr>\n",
       "  </thead>\n",
       "  <tbody>\n",
       "    <tr>\n",
       "      <th>0</th>\n",
       "      <td>2015-07-31</td>\n",
       "      <td>1</td>\n",
       "      <td>5</td>\n",
       "      <td>5263</td>\n",
       "      <td>555</td>\n",
       "      <td>1</td>\n",
       "      <td>1</td>\n",
       "      <td>0</td>\n",
       "      <td>1</td>\n",
       "      <td>2</td>\n",
       "      <td>0</td>\n",
       "      <td>1270.0</td>\n",
       "    </tr>\n",
       "    <tr>\n",
       "      <th>1</th>\n",
       "      <td>2015-07-31</td>\n",
       "      <td>2</td>\n",
       "      <td>5</td>\n",
       "      <td>6064</td>\n",
       "      <td>625</td>\n",
       "      <td>1</td>\n",
       "      <td>1</td>\n",
       "      <td>0</td>\n",
       "      <td>1</td>\n",
       "      <td>0</td>\n",
       "      <td>0</td>\n",
       "      <td>570.0</td>\n",
       "    </tr>\n",
       "    <tr>\n",
       "      <th>2</th>\n",
       "      <td>2015-07-31</td>\n",
       "      <td>3</td>\n",
       "      <td>5</td>\n",
       "      <td>8314</td>\n",
       "      <td>821</td>\n",
       "      <td>1</td>\n",
       "      <td>1</td>\n",
       "      <td>0</td>\n",
       "      <td>1</td>\n",
       "      <td>0</td>\n",
       "      <td>0</td>\n",
       "      <td>14130.0</td>\n",
       "    </tr>\n",
       "    <tr>\n",
       "      <th>3</th>\n",
       "      <td>2015-07-31</td>\n",
       "      <td>4</td>\n",
       "      <td>5</td>\n",
       "      <td>13995</td>\n",
       "      <td>1498</td>\n",
       "      <td>1</td>\n",
       "      <td>1</td>\n",
       "      <td>0</td>\n",
       "      <td>1</td>\n",
       "      <td>2</td>\n",
       "      <td>2</td>\n",
       "      <td>620.0</td>\n",
       "    </tr>\n",
       "    <tr>\n",
       "      <th>4</th>\n",
       "      <td>2015-07-31</td>\n",
       "      <td>5</td>\n",
       "      <td>5</td>\n",
       "      <td>4822</td>\n",
       "      <td>559</td>\n",
       "      <td>1</td>\n",
       "      <td>1</td>\n",
       "      <td>0</td>\n",
       "      <td>1</td>\n",
       "      <td>0</td>\n",
       "      <td>0</td>\n",
       "      <td>29910.0</td>\n",
       "    </tr>\n",
       "  </tbody>\n",
       "</table>\n",
       "</div>"
      ],
      "text/plain": [
       "         Date  Store  DayOfWeek  Sales  Customers  Open  Promo  StateHoliday  \\\n",
       "0  2015-07-31      1          5   5263        555     1      1             0   \n",
       "1  2015-07-31      2          5   6064        625     1      1             0   \n",
       "2  2015-07-31      3          5   8314        821     1      1             0   \n",
       "3  2015-07-31      4          5  13995       1498     1      1             0   \n",
       "4  2015-07-31      5          5   4822        559     1      1             0   \n",
       "\n",
       "   SchoolHoliday  storeType  Assortment  competitionDistance  \n",
       "0              1          2           0               1270.0  \n",
       "1              1          0           0                570.0  \n",
       "2              1          0           0              14130.0  \n",
       "3              1          2           2                620.0  \n",
       "4              1          0           0              29910.0  "
      ]
     },
     "execution_count": 51,
     "metadata": {},
     "output_type": "execute_result"
    }
   ],
   "source": [
    "train_df.head()"
   ]
  },
  {
   "cell_type": "code",
   "execution_count": 55,
   "id": "6ee4ebb2",
   "metadata": {},
   "outputs": [],
   "source": [
    "train_df.Date = pd.to_datetime(train_df.Date)"
   ]
  },
  {
   "cell_type": "code",
   "execution_count": 57,
   "id": "54546731",
   "metadata": {},
   "outputs": [
    {
     "data": {
      "text/plain": [
       "Date                   datetime64[ns]\n",
       "Store                           int64\n",
       "DayOfWeek                       int64\n",
       "Sales                           int64\n",
       "Customers                       int64\n",
       "Open                            int64\n",
       "Promo                           int64\n",
       "StateHoliday                    int64\n",
       "SchoolHoliday                   int64\n",
       "storeType                        int8\n",
       "Assortment                       int8\n",
       "competitionDistance           float64\n",
       "dtype: object"
      ]
     },
     "execution_count": 57,
     "metadata": {},
     "output_type": "execute_result"
    }
   ],
   "source": [
    "train_df.dtypes"
   ]
  },
  {
   "cell_type": "code",
   "execution_count": 58,
   "id": "7ee723c9",
   "metadata": {},
   "outputs": [
    {
     "data": {
      "text/plain": [
       "0          2015\n",
       "1          2015\n",
       "2          2015\n",
       "3          2015\n",
       "4          2015\n",
       "           ... \n",
       "1017204    2013\n",
       "1017205    2013\n",
       "1017206    2013\n",
       "1017207    2013\n",
       "1017208    2013\n",
       "Name: Date, Length: 1017209, dtype: int64"
      ]
     },
     "execution_count": 58,
     "metadata": {},
     "output_type": "execute_result"
    }
   ],
   "source": [
    "train_df.Date.dt.year"
   ]
  },
  {
   "cell_type": "code",
   "execution_count": 59,
   "id": "d7414eea",
   "metadata": {},
   "outputs": [
    {
     "data": {
      "text/html": [
       "<div>\n",
       "<style scoped>\n",
       "    .dataframe tbody tr th:only-of-type {\n",
       "        vertical-align: middle;\n",
       "    }\n",
       "\n",
       "    .dataframe tbody tr th {\n",
       "        vertical-align: top;\n",
       "    }\n",
       "\n",
       "    .dataframe thead th {\n",
       "        text-align: right;\n",
       "    }\n",
       "</style>\n",
       "<table border=\"1\" class=\"dataframe\">\n",
       "  <thead>\n",
       "    <tr style=\"text-align: right;\">\n",
       "      <th></th>\n",
       "      <th>Store</th>\n",
       "      <th>DayOfWeek</th>\n",
       "      <th>Sales</th>\n",
       "      <th>Customers</th>\n",
       "      <th>Open</th>\n",
       "      <th>Promo</th>\n",
       "      <th>StateHoliday</th>\n",
       "      <th>SchoolHoliday</th>\n",
       "      <th>storeType</th>\n",
       "      <th>Assortment</th>\n",
       "      <th>competitionDistance</th>\n",
       "      <th>Month</th>\n",
       "      <th>Year</th>\n",
       "    </tr>\n",
       "    <tr>\n",
       "      <th>Date</th>\n",
       "      <th></th>\n",
       "      <th></th>\n",
       "      <th></th>\n",
       "      <th></th>\n",
       "      <th></th>\n",
       "      <th></th>\n",
       "      <th></th>\n",
       "      <th></th>\n",
       "      <th></th>\n",
       "      <th></th>\n",
       "      <th></th>\n",
       "      <th></th>\n",
       "      <th></th>\n",
       "    </tr>\n",
       "  </thead>\n",
       "  <tbody>\n",
       "    <tr>\n",
       "      <th>2015-07-31</th>\n",
       "      <td>1</td>\n",
       "      <td>5</td>\n",
       "      <td>5263</td>\n",
       "      <td>555</td>\n",
       "      <td>1</td>\n",
       "      <td>1</td>\n",
       "      <td>0</td>\n",
       "      <td>1</td>\n",
       "      <td>2</td>\n",
       "      <td>0</td>\n",
       "      <td>1270.0</td>\n",
       "      <td>7</td>\n",
       "      <td>2015</td>\n",
       "    </tr>\n",
       "    <tr>\n",
       "      <th>2015-07-31</th>\n",
       "      <td>2</td>\n",
       "      <td>5</td>\n",
       "      <td>6064</td>\n",
       "      <td>625</td>\n",
       "      <td>1</td>\n",
       "      <td>1</td>\n",
       "      <td>0</td>\n",
       "      <td>1</td>\n",
       "      <td>0</td>\n",
       "      <td>0</td>\n",
       "      <td>570.0</td>\n",
       "      <td>7</td>\n",
       "      <td>2015</td>\n",
       "    </tr>\n",
       "    <tr>\n",
       "      <th>2015-07-31</th>\n",
       "      <td>3</td>\n",
       "      <td>5</td>\n",
       "      <td>8314</td>\n",
       "      <td>821</td>\n",
       "      <td>1</td>\n",
       "      <td>1</td>\n",
       "      <td>0</td>\n",
       "      <td>1</td>\n",
       "      <td>0</td>\n",
       "      <td>0</td>\n",
       "      <td>14130.0</td>\n",
       "      <td>7</td>\n",
       "      <td>2015</td>\n",
       "    </tr>\n",
       "    <tr>\n",
       "      <th>2015-07-31</th>\n",
       "      <td>4</td>\n",
       "      <td>5</td>\n",
       "      <td>13995</td>\n",
       "      <td>1498</td>\n",
       "      <td>1</td>\n",
       "      <td>1</td>\n",
       "      <td>0</td>\n",
       "      <td>1</td>\n",
       "      <td>2</td>\n",
       "      <td>2</td>\n",
       "      <td>620.0</td>\n",
       "      <td>7</td>\n",
       "      <td>2015</td>\n",
       "    </tr>\n",
       "    <tr>\n",
       "      <th>2015-07-31</th>\n",
       "      <td>5</td>\n",
       "      <td>5</td>\n",
       "      <td>4822</td>\n",
       "      <td>559</td>\n",
       "      <td>1</td>\n",
       "      <td>1</td>\n",
       "      <td>0</td>\n",
       "      <td>1</td>\n",
       "      <td>0</td>\n",
       "      <td>0</td>\n",
       "      <td>29910.0</td>\n",
       "      <td>7</td>\n",
       "      <td>2015</td>\n",
       "    </tr>\n",
       "  </tbody>\n",
       "</table>\n",
       "</div>"
      ],
      "text/plain": [
       "            Store  DayOfWeek  Sales  Customers  Open  Promo  StateHoliday  \\\n",
       "Date                                                                        \n",
       "2015-07-31      1          5   5263        555     1      1             0   \n",
       "2015-07-31      2          5   6064        625     1      1             0   \n",
       "2015-07-31      3          5   8314        821     1      1             0   \n",
       "2015-07-31      4          5  13995       1498     1      1             0   \n",
       "2015-07-31      5          5   4822        559     1      1             0   \n",
       "\n",
       "            SchoolHoliday  storeType  Assortment  competitionDistance  Month  \\\n",
       "Date                                                                           \n",
       "2015-07-31              1          2           0               1270.0      7   \n",
       "2015-07-31              1          0           0                570.0      7   \n",
       "2015-07-31              1          0           0              14130.0      7   \n",
       "2015-07-31              1          2           2                620.0      7   \n",
       "2015-07-31              1          0           0              29910.0      7   \n",
       "\n",
       "            Year  \n",
       "Date              \n",
       "2015-07-31  2015  \n",
       "2015-07-31  2015  \n",
       "2015-07-31  2015  \n",
       "2015-07-31  2015  \n",
       "2015-07-31  2015  "
      ]
     },
     "execution_count": 59,
     "metadata": {},
     "output_type": "execute_result"
    }
   ],
   "source": [
    "# Adding month, year as seperate features for eda and moving date to indesx\n",
    "train_df[\"Month\"] = train_df.Date.dt.month\n",
    "train_df[\"Year\"] = train_df.Date.dt.year\n",
    "train_df.set_index(keys=\"Date\", inplace=True)\n",
    "train_df.head()"
   ]
  },
  {
   "cell_type": "code",
   "execution_count": 60,
   "id": "3dbaa275",
   "metadata": {},
   "outputs": [
    {
     "data": {
      "text/plain": [
       "Store                    int64\n",
       "DayOfWeek                int64\n",
       "Sales                    int64\n",
       "Customers                int64\n",
       "Open                     int64\n",
       "Promo                    int64\n",
       "StateHoliday             int64\n",
       "SchoolHoliday            int64\n",
       "storeType                 int8\n",
       "Assortment                int8\n",
       "competitionDistance    float64\n",
       "Month                    int64\n",
       "Year                     int64\n",
       "dtype: object"
      ]
     },
     "execution_count": 60,
     "metadata": {},
     "output_type": "execute_result"
    }
   ],
   "source": [
    "train_df.dtypes"
   ]
  },
  {
   "cell_type": "code",
   "execution_count": 76,
   "id": "3ea06094",
   "metadata": {},
   "outputs": [],
   "source": [
    "X, y = train_df.drop(columns=\"Sales\", axis=1), train_df[\"Sales\"]\n",
    "X_train, X_test, y_train, y_test = train_test_split(X, y, test_size=TEST_SIZE, random_state=SEED)"
   ]
  },
  {
   "cell_type": "code",
   "execution_count": 78,
   "id": "793c7fb9",
   "metadata": {},
   "outputs": [
    {
     "data": {
      "image/png": "[encoded data removed]",
      "text/plain": [
       "<Figure size 432x288 with 1 Axes>"
      ]
     },
     "metadata": {
      "needs_background": "light"
     },
     "output_type": "display_data"
    }
   ],
   "source": [
    "X_train.Month.hist(bins=12);"
   ]
  },
  {
   "cell_type": "code",
   "execution_count": 79,
   "id": "2431a187",
   "metadata": {},
   "outputs": [
    {
     "data": {
      "text/plain": [
       "5     83073\n",
       "1     82929\n",
       "3     82923\n",
       "6     80507\n",
       "4     80303\n",
       "7     78438\n",
       "2     74750\n",
       "10    50955\n",
       "12    50774\n",
       "8     50739\n",
       "9     49302\n",
       "11    49074\n",
       "Name: Month, dtype: int64"
      ]
     },
     "execution_count": 79,
     "metadata": {},
     "output_type": "execute_result"
    }
   ],
   "source": [
    "X_train.Month.value_counts()"
   ]
  },
  {
   "cell_type": "markdown",
   "id": "91540aab",
   "metadata": {},
   "source": [
    "More datapoints are available for the months of 1,3,4,5,6 compared to others"
   ]
  },
  {
   "cell_type": "code",
   "execution_count": 81,
   "id": "ef4f83c5",
   "metadata": {},
   "outputs": [
    {
     "data": {
      "text/plain": [
       "array([2013, 2014, 2015])"
      ]
     },
     "execution_count": 81,
     "metadata": {},
     "output_type": "execute_result"
    }
   ],
   "source": [
    "np.unique(X_train.Year)"
   ]
  },
  {
   "cell_type": "markdown",
   "id": "4f39426e",
   "metadata": {},
   "source": [
    "The available data is for only three years"
   ]
  },
  {
   "cell_type": "code",
   "execution_count": 88,
   "id": "8e7ccc48",
   "metadata": {},
   "outputs": [
    {
     "data": {
      "image/png": "[encoded data removed]",
      "text/plain": [
       "<Figure size 3600x2160 with 12 Axes>"
      ]
     },
     "metadata": {
      "needs_background": "light"
     },
     "output_type": "display_data"
    }
   ],
   "source": [
    "%matplotlib inline\n",
    "X_train.hist(figsize=(50, 30), bins=50);"
   ]
  },
  {
   "cell_type": "code",
   "execution_count": 97,
   "id": "046eaff2",
   "metadata": {},
   "outputs": [
    {
     "data": {
      "text/html": [
       "<div>\n",
       "<style scoped>\n",
       "    .dataframe tbody tr th:only-of-type {\n",
       "        vertical-align: middle;\n",
       "    }\n",
       "\n",
       "    .dataframe tbody tr th {\n",
       "        vertical-align: top;\n",
       "    }\n",
       "\n",
       "    .dataframe thead th {\n",
       "        text-align: right;\n",
       "    }\n",
       "</style>\n",
       "<table border=\"1\" class=\"dataframe\">\n",
       "  <thead>\n",
       "    <tr style=\"text-align: right;\">\n",
       "      <th></th>\n",
       "      <th>Store</th>\n",
       "      <th>DayOfWeek</th>\n",
       "      <th>Customers</th>\n",
       "      <th>Open</th>\n",
       "      <th>Promo</th>\n",
       "      <th>StateHoliday</th>\n",
       "      <th>SchoolHoliday</th>\n",
       "      <th>storeType</th>\n",
       "      <th>Assortment</th>\n",
       "      <th>competitionDistance</th>\n",
       "      <th>Month</th>\n",
       "      <th>Year</th>\n",
       "    </tr>\n",
       "  </thead>\n",
       "  <tbody>\n",
       "    <tr>\n",
       "      <th>Store</th>\n",
       "      <td>1.000000</td>\n",
       "      <td>0.000155</td>\n",
       "      <td>0.024652</td>\n",
       "      <td>0.000114</td>\n",
       "      <td>0.000907</td>\n",
       "      <td>-0.000262</td>\n",
       "      <td>0.000177</td>\n",
       "      <td>-0.021206</td>\n",
       "      <td>0.003589</td>\n",
       "      <td>-0.026358</td>\n",
       "      <td>0.001861</td>\n",
       "      <td>-0.000144</td>\n",
       "    </tr>\n",
       "    <tr>\n",
       "      <th>DayOfWeek</th>\n",
       "      <td>0.000155</td>\n",
       "      <td>1.000000</td>\n",
       "      <td>-0.386176</td>\n",
       "      <td>-0.529249</td>\n",
       "      <td>-0.392517</td>\n",
       "      <td>-0.043897</td>\n",
       "      <td>-0.205682</td>\n",
       "      <td>0.000711</td>\n",
       "      <td>0.000044</td>\n",
       "      <td>0.000396</td>\n",
       "      <td>-0.006102</td>\n",
       "      <td>0.001525</td>\n",
       "    </tr>\n",
       "    <tr>\n",
       "      <th>Customers</th>\n",
       "      <td>0.024652</td>\n",
       "      <td>-0.386176</td>\n",
       "      <td>1.000000</td>\n",
       "      <td>0.616736</td>\n",
       "      <td>0.316572</td>\n",
       "      <td>-0.204437</td>\n",
       "      <td>0.071994</td>\n",
       "      <td>-0.142005</td>\n",
       "      <td>0.006852</td>\n",
       "      <td>-0.102243</td>\n",
       "      <td>0.038894</td>\n",
       "      <td>-0.001270</td>\n",
       "    </tr>\n",
       "    <tr>\n",
       "      <th>Open</th>\n",
       "      <td>0.000114</td>\n",
       "      <td>-0.529249</td>\n",
       "      <td>0.616736</td>\n",
       "      <td>1.000000</td>\n",
       "      <td>0.295153</td>\n",
       "      <td>-0.340898</td>\n",
       "      <td>0.086536</td>\n",
       "      <td>-0.003076</td>\n",
       "      <td>0.003323</td>\n",
       "      <td>0.008530</td>\n",
       "      <td>0.000006</td>\n",
       "      <td>-0.001406</td>\n",
       "    </tr>\n",
       "    <tr>\n",
       "      <th>Promo</th>\n",
       "      <td>0.000907</td>\n",
       "      <td>-0.392517</td>\n",
       "      <td>0.316572</td>\n",
       "      <td>0.295153</td>\n",
       "      <td>1.000000</td>\n",
       "      <td>-0.024258</td>\n",
       "      <td>0.067571</td>\n",
       "      <td>-0.000557</td>\n",
       "      <td>-0.000104</td>\n",
       "      <td>0.000534</td>\n",
       "      <td>-0.010954</td>\n",
       "      <td>0.024117</td>\n",
       "    </tr>\n",
       "    <tr>\n",
       "      <th>StateHoliday</th>\n",
       "      <td>-0.000262</td>\n",
       "      <td>-0.043897</td>\n",
       "      <td>-0.204437</td>\n",
       "      <td>-0.340898</td>\n",
       "      <td>-0.024258</td>\n",
       "      <td>1.000000</td>\n",
       "      <td>0.196317</td>\n",
       "      <td>0.000701</td>\n",
       "      <td>-0.002154</td>\n",
       "      <td>-0.001417</td>\n",
       "      <td>0.038849</td>\n",
       "      <td>-0.005354</td>\n",
       "    </tr>\n",
       "    <tr>\n",
       "      <th>SchoolHoliday</th>\n",
       "      <td>0.000177</td>\n",
       "      <td>-0.205682</td>\n",
       "      <td>0.071994</td>\n",
       "      <td>0.086536</td>\n",
       "      <td>0.067571</td>\n",
       "      <td>0.196317</td>\n",
       "      <td>1.000000</td>\n",
       "      <td>0.000025</td>\n",
       "      <td>-0.002005</td>\n",
       "      <td>-0.004864</td>\n",
       "      <td>0.103683</td>\n",
       "      <td>-0.037488</td>\n",
       "    </tr>\n",
       "    <tr>\n",
       "      <th>storeType</th>\n",
       "      <td>-0.021206</td>\n",
       "      <td>0.000711</td>\n",
       "      <td>-0.142005</td>\n",
       "      <td>-0.003076</td>\n",
       "      <td>-0.000557</td>\n",
       "      <td>0.000701</td>\n",
       "      <td>0.000025</td>\n",
       "      <td>1.000000</td>\n",
       "      <td>0.233287</td>\n",
       "      <td>0.077054</td>\n",
       "      <td>-0.007031</td>\n",
       "      <td>-0.001869</td>\n",
       "    </tr>\n",
       "    <tr>\n",
       "      <th>Assortment</th>\n",
       "      <td>0.003589</td>\n",
       "      <td>0.000044</td>\n",
       "      <td>0.006852</td>\n",
       "      <td>0.003323</td>\n",
       "      <td>-0.000104</td>\n",
       "      <td>-0.002154</td>\n",
       "      <td>-0.002005</td>\n",
       "      <td>0.233287</td>\n",
       "      <td>1.000000</td>\n",
       "      <td>0.146863</td>\n",
       "      <td>0.008321</td>\n",
       "      <td>0.001093</td>\n",
       "    </tr>\n",
       "    <tr>\n",
       "      <th>competitionDistance</th>\n",
       "      <td>-0.026358</td>\n",
       "      <td>0.000396</td>\n",
       "      <td>-0.102243</td>\n",
       "      <td>0.008530</td>\n",
       "      <td>0.000534</td>\n",
       "      <td>-0.001417</td>\n",
       "      <td>-0.004864</td>\n",
       "      <td>0.077054</td>\n",
       "      <td>0.146863</td>\n",
       "      <td>1.000000</td>\n",
       "      <td>0.003155</td>\n",
       "      <td>-0.000276</td>\n",
       "    </tr>\n",
       "    <tr>\n",
       "      <th>Month</th>\n",
       "      <td>0.001861</td>\n",
       "      <td>-0.006102</td>\n",
       "      <td>0.038894</td>\n",
       "      <td>0.000006</td>\n",
       "      <td>-0.010954</td>\n",
       "      <td>0.038849</td>\n",
       "      <td>0.103683</td>\n",
       "      <td>-0.007031</td>\n",
       "      <td>0.008321</td>\n",
       "      <td>0.003155</td>\n",
       "      <td>1.000000</td>\n",
       "      <td>-0.269030</td>\n",
       "    </tr>\n",
       "    <tr>\n",
       "      <th>Year</th>\n",
       "      <td>-0.000144</td>\n",
       "      <td>0.001525</td>\n",
       "      <td>-0.001270</td>\n",
       "      <td>-0.001406</td>\n",
       "      <td>0.024117</td>\n",
       "      <td>-0.005354</td>\n",
       "      <td>-0.037488</td>\n",
       "      <td>-0.001869</td>\n",
       "      <td>0.001093</td>\n",
       "      <td>-0.000276</td>\n",
       "      <td>-0.269030</td>\n",
       "      <td>1.000000</td>\n",
       "    </tr>\n",
       "  </tbody>\n",
       "</table>\n",
       "</div>"
      ],
      "text/plain": [
       "                        Store  DayOfWeek  Customers      Open     Promo  \\\n",
       "Store                1.000000   0.000155   0.024652  0.000114  0.000907   \n",
       "DayOfWeek            0.000155   1.000000  -0.386176 -0.529249 -0.392517   \n",
       "Customers            0.024652  -0.386176   1.000000  0.616736  0.316572   \n",
       "Open                 0.000114  -0.529249   0.616736  1.000000  0.295153   \n",
       "Promo                0.000907  -0.392517   0.316572  0.295153  1.000000   \n",
       "StateHoliday        -0.000262  -0.043897  -0.204437 -0.340898 -0.024258   \n",
       "SchoolHoliday        0.000177  -0.205682   0.071994  0.086536  0.067571   \n",
       "storeType           -0.021206   0.000711  -0.142005 -0.003076 -0.000557   \n",
       "Assortment           0.003589   0.000044   0.006852  0.003323 -0.000104   \n",
       "competitionDistance -0.026358   0.000396  -0.102243  0.008530  0.000534   \n",
       "Month                0.001861  -0.006102   0.038894  0.000006 -0.010954   \n",
       "Year                -0.000144   0.001525  -0.001270 -0.001406  0.024117   \n",
       "\n",
       "                     StateHoliday  SchoolHoliday  storeType  Assortment  \\\n",
       "Store                   -0.000262       0.000177  -0.021206    0.003589   \n",
       "DayOfWeek               -0.043897      -0.205682   0.000711    0.000044   \n",
       "Customers               -0.204437       0.071994  -0.142005    0.006852   \n",
       "Open                    -0.340898       0.086536  -0.003076    0.003323   \n",
       "Promo                   -0.024258       0.067571  -0.000557   -0.000104   \n",
       "StateHoliday             1.000000       0.196317   0.000701   -0.002154   \n",
       "SchoolHoliday            0.196317       1.000000   0.000025   -0.002005   \n",
       "storeType                0.000701       0.000025   1.000000    0.233287   \n",
       "Assortment              -0.002154      -0.002005   0.233287    1.000000   \n",
       "competitionDistance     -0.001417      -0.004864   0.077054    0.146863   \n",
       "Month                    0.038849       0.103683  -0.007031    0.008321   \n",
       "Year                    -0.005354      -0.037488  -0.001869    0.001093   \n",
       "\n",
       "                     competitionDistance     Month      Year  \n",
       "Store                          -0.026358  0.001861 -0.000144  \n",
       "DayOfWeek                       0.000396 -0.006102  0.001525  \n",
       "Customers                      -0.102243  0.038894 -0.001270  \n",
       "Open                            0.008530  0.000006 -0.001406  \n",
       "Promo                           0.000534 -0.010954  0.024117  \n",
       "StateHoliday                   -0.001417  0.038849 -0.005354  \n",
       "SchoolHoliday                  -0.004864  0.103683 -0.037488  \n",
       "storeType                       0.077054 -0.007031 -0.001869  \n",
       "Assortment                      0.146863  0.008321  0.001093  \n",
       "competitionDistance             1.000000  0.003155 -0.000276  \n",
       "Month                           0.003155  1.000000 -0.269030  \n",
       "Year                           -0.000276 -0.269030  1.000000  "
      ]
     },
     "execution_count": 97,
     "metadata": {},
     "output_type": "execute_result"
    }
   ],
   "source": [
    "X_train.corr()"
   ]
  },
  {
   "cell_type": "code",
   "execution_count": 102,
   "id": "6fc2c4ca",
   "metadata": {},
   "outputs": [
    {
     "data": {
      "image/png": "[encoded data removed]",
      "text/plain": [
       "<Figure size 1440x504 with 2 Axes>"
      ]
     },
     "metadata": {
      "needs_background": "light"
     },
     "output_type": "display_data"
    }
   ],
   "source": [
    "plt.figure(figsize=(20, 7))\n",
    "sns.heatmap(X.corr(), annot=True);"
   ]
  },
  {
   "cell_type": "markdown",
   "id": "63abc5ed",
   "metadata": {},
   "source": [
    "Correlation matrix only captures linear relationships, `Customer` feature has positive correlation with `Sales`. \n",
    "Inturn `Customers` have `0.62` and `0.32` correlation with `Open` and `Promo` respectivley and has a negative correlation of `-0.2` with `StateHoliday`.\n",
    "\n",
    "Let's use pandas `ScatterPlot()` to check out the correlation in visualization."
   ]
  },
  {
   "cell_type": "code",
   "execution_count": 107,
   "id": "5963a063",
   "metadata": {},
   "outputs": [
    {
     "data": {
      "image/png": "[encoded data removed]",
      "text/plain": [
       "<Figure size 1440x504 with 16 Axes>"
      ]
     },
     "metadata": {
      "needs_background": "light"
     },
     "output_type": "display_data"
    }
   ],
   "source": [
    "attributes = [\"Customers\", \"Open\", \"Promo\", \"StateHoliday\"]\n",
    "pd.plotting.scatter_matrix(X_train[attributes], figsize=(20, 7), grid=True);"
   ]
  },
  {
   "cell_type": "markdown",
   "id": "7e65897b",
   "metadata": {},
   "source": [
    "In turn in EDA, transformation of categorical variables are completed using `pd.categorical()`,we can alsos use `Imputer` or `Encoder` and include them as part of the transformation pipeline which will be better and can use it for new instance or test instances to get prediction."
   ]
  },
  {
   "cell_type": "markdown",
   "id": "dfc507cd",
   "metadata": {},
   "source": [
    "## Preparing data for ML Algorithm"
   ]
  },
  {
   "cell_type": "code",
   "execution_count": 108,
   "id": "226a8f47",
   "metadata": {},
   "outputs": [
    {
     "name": "stderr",
     "output_type": "stream",
     "text": [
      "/Users/jayaprakashsivagami/Documents/Tech/ML/Projects/env/lib/python3.7/site-packages/IPython/core/interactiveshell.py:3457: DtypeWarning: Columns (7) have mixed types.Specify dtype option on import or set low_memory=False.\n",
      "  exec(code_obj, self.user_global_ns, self.user_ns)\n"
     ]
    }
   ],
   "source": [
    "# Loading the datasets again\n",
    "train_df = pd.read_csv(\"data/rossmann-store-sales/train.csv\")\n",
    "train_df_mod = pd.read_csv(\"data/rossman-sales-dataset-with-stores.csv\")"
   ]
  },
  {
   "cell_type": "code",
   "execution_count": 110,
   "id": "65df4021",
   "metadata": {},
   "outputs": [
    {
     "data": {
      "text/plain": [
       "(1017209, 1017209)"
      ]
     },
     "execution_count": 110,
     "metadata": {},
     "output_type": "execute_result"
    }
   ],
   "source": [
    "len(train_df), len(train_df_mod)"
   ]
  },
  {
   "cell_type": "code",
   "execution_count": 111,
   "id": "18207a3b",
   "metadata": {},
   "outputs": [
    {
     "data": {
      "text/html": [
       "<div>\n",
       "<style scoped>\n",
       "    .dataframe tbody tr th:only-of-type {\n",
       "        vertical-align: middle;\n",
       "    }\n",
       "\n",
       "    .dataframe tbody tr th {\n",
       "        vertical-align: top;\n",
       "    }\n",
       "\n",
       "    .dataframe thead th {\n",
       "        text-align: right;\n",
       "    }\n",
       "</style>\n",
       "<table border=\"1\" class=\"dataframe\">\n",
       "  <thead>\n",
       "    <tr style=\"text-align: right;\">\n",
       "      <th></th>\n",
       "      <th>Store</th>\n",
       "      <th>DayOfWeek</th>\n",
       "      <th>Date</th>\n",
       "      <th>Sales</th>\n",
       "      <th>Customers</th>\n",
       "      <th>Open</th>\n",
       "      <th>Promo</th>\n",
       "      <th>StateHoliday</th>\n",
       "      <th>SchoolHoliday</th>\n",
       "    </tr>\n",
       "  </thead>\n",
       "  <tbody>\n",
       "    <tr>\n",
       "      <th>0</th>\n",
       "      <td>1</td>\n",
       "      <td>5</td>\n",
       "      <td>2015-07-31</td>\n",
       "      <td>5263</td>\n",
       "      <td>555</td>\n",
       "      <td>1</td>\n",
       "      <td>1</td>\n",
       "      <td>0</td>\n",
       "      <td>1</td>\n",
       "    </tr>\n",
       "    <tr>\n",
       "      <th>1</th>\n",
       "      <td>2</td>\n",
       "      <td>5</td>\n",
       "      <td>2015-07-31</td>\n",
       "      <td>6064</td>\n",
       "      <td>625</td>\n",
       "      <td>1</td>\n",
       "      <td>1</td>\n",
       "      <td>0</td>\n",
       "      <td>1</td>\n",
       "    </tr>\n",
       "    <tr>\n",
       "      <th>2</th>\n",
       "      <td>3</td>\n",
       "      <td>5</td>\n",
       "      <td>2015-07-31</td>\n",
       "      <td>8314</td>\n",
       "      <td>821</td>\n",
       "      <td>1</td>\n",
       "      <td>1</td>\n",
       "      <td>0</td>\n",
       "      <td>1</td>\n",
       "    </tr>\n",
       "    <tr>\n",
       "      <th>3</th>\n",
       "      <td>4</td>\n",
       "      <td>5</td>\n",
       "      <td>2015-07-31</td>\n",
       "      <td>13995</td>\n",
       "      <td>1498</td>\n",
       "      <td>1</td>\n",
       "      <td>1</td>\n",
       "      <td>0</td>\n",
       "      <td>1</td>\n",
       "    </tr>\n",
       "    <tr>\n",
       "      <th>4</th>\n",
       "      <td>5</td>\n",
       "      <td>5</td>\n",
       "      <td>2015-07-31</td>\n",
       "      <td>4822</td>\n",
       "      <td>559</td>\n",
       "      <td>1</td>\n",
       "      <td>1</td>\n",
       "      <td>0</td>\n",
       "      <td>1</td>\n",
       "    </tr>\n",
       "  </tbody>\n",
       "</table>\n",
       "</div>"
      ],
      "text/plain": [
       "   Store  DayOfWeek        Date  Sales  Customers  Open  Promo StateHoliday  \\\n",
       "0      1          5  2015-07-31   5263        555     1      1            0   \n",
       "1      2          5  2015-07-31   6064        625     1      1            0   \n",
       "2      3          5  2015-07-31   8314        821     1      1            0   \n",
       "3      4          5  2015-07-31  13995       1498     1      1            0   \n",
       "4      5          5  2015-07-31   4822        559     1      1            0   \n",
       "\n",
       "   SchoolHoliday  \n",
       "0              1  \n",
       "1              1  \n",
       "2              1  \n",
       "3              1  \n",
       "4              1  "
      ]
     },
     "execution_count": 111,
     "metadata": {},
     "output_type": "execute_result"
    }
   ],
   "source": [
    "train_df.head()"
   ]
  },
  {
   "cell_type": "code",
   "execution_count": 113,
   "id": "2bb7a46e",
   "metadata": {},
   "outputs": [
    {
     "data": {
      "text/plain": [
       "0    855087\n",
       "0    131072\n",
       "a     20260\n",
       "b      6690\n",
       "c      4100\n",
       "Name: StateHoliday, dtype: int64"
      ]
     },
     "execution_count": 113,
     "metadata": {},
     "output_type": "execute_result"
    }
   ],
   "source": [
    "train_df.StateHoliday.value_counts()"
   ]
  },
  {
   "cell_type": "code",
   "execution_count": 119,
   "id": "f5007290",
   "metadata": {},
   "outputs": [],
   "source": [
    "# Let's convert 0 to 0 string and store it to avoid repeating\n",
    "train_df.StateHoliday = train_df.StateHoliday.astype(\"str\")"
   ]
  },
  {
   "cell_type": "code",
   "execution_count": 120,
   "id": "8c52bbef",
   "metadata": {},
   "outputs": [
    {
     "data": {
      "text/plain": [
       "0    986159\n",
       "a     20260\n",
       "b      6690\n",
       "c      4100\n",
       "Name: StateHoliday, dtype: int64"
      ]
     },
     "execution_count": 120,
     "metadata": {},
     "output_type": "execute_result"
    }
   ],
   "source": [
    "train_df.StateHoliday.value_counts()"
   ]
  },
  {
   "cell_type": "code",
   "execution_count": 121,
   "id": "f8da2bfd",
   "metadata": {},
   "outputs": [],
   "source": [
    "train_df.to_csv(\"data/train_sh.csv\")"
   ]
  },
  {
   "cell_type": "code",
   "execution_count": 123,
   "id": "3fd4ecdd",
   "metadata": {},
   "outputs": [
    {
     "data": {
      "text/plain": [
       "Index(['Date', 'Store', 'DayOfWeek', 'Sales', 'Customers', 'Open', 'Promo',\n",
       "       'StateHoliday', 'SchoolHoliday', 'storeType', 'Assortment',\n",
       "       'competitionDistance'],\n",
       "      dtype='object')"
      ]
     },
     "execution_count": 123,
     "metadata": {},
     "output_type": "execute_result"
    }
   ],
   "source": [
    "# Adding other features from train_df_mod to train_df\n",
    "train_df_mod.columns"
   ]
  },
  {
   "cell_type": "code",
   "execution_count": 125,
   "id": "9d5fa0ed",
   "metadata": {},
   "outputs": [],
   "source": [
    "train_df[\"StoreType\"] = train_df_mod[\"storeType\"]\n",
    "train_df[\"Assortment\"] = train_df_mod[\"Assortment\"]\n",
    "train_df[\"CompetitionDistance\"] = train_df_mod[\"competitionDistance\"]"
   ]
  },
  {
   "cell_type": "code",
   "execution_count": 126,
   "id": "928a4560",
   "metadata": {},
   "outputs": [
    {
     "data": {
      "text/html": [
       "<div>\n",
       "<style scoped>\n",
       "    .dataframe tbody tr th:only-of-type {\n",
       "        vertical-align: middle;\n",
       "    }\n",
       "\n",
       "    .dataframe tbody tr th {\n",
       "        vertical-align: top;\n",
       "    }\n",
       "\n",
       "    .dataframe thead th {\n",
       "        text-align: right;\n",
       "    }\n",
       "</style>\n",
       "<table border=\"1\" class=\"dataframe\">\n",
       "  <thead>\n",
       "    <tr style=\"text-align: right;\">\n",
       "      <th></th>\n",
       "      <th>Store</th>\n",
       "      <th>DayOfWeek</th>\n",
       "      <th>Date</th>\n",
       "      <th>Sales</th>\n",
       "      <th>Customers</th>\n",
       "      <th>Open</th>\n",
       "      <th>Promo</th>\n",
       "      <th>StateHoliday</th>\n",
       "      <th>SchoolHoliday</th>\n",
       "      <th>StoreType</th>\n",
       "      <th>Assortment</th>\n",
       "      <th>CompetitionDistance</th>\n",
       "    </tr>\n",
       "  </thead>\n",
       "  <tbody>\n",
       "    <tr>\n",
       "      <th>0</th>\n",
       "      <td>1</td>\n",
       "      <td>5</td>\n",
       "      <td>2015-07-31</td>\n",
       "      <td>5263</td>\n",
       "      <td>555</td>\n",
       "      <td>1</td>\n",
       "      <td>1</td>\n",
       "      <td>0</td>\n",
       "      <td>1</td>\n",
       "      <td>c</td>\n",
       "      <td>a</td>\n",
       "      <td>1270.0</td>\n",
       "    </tr>\n",
       "    <tr>\n",
       "      <th>1</th>\n",
       "      <td>2</td>\n",
       "      <td>5</td>\n",
       "      <td>2015-07-31</td>\n",
       "      <td>6064</td>\n",
       "      <td>625</td>\n",
       "      <td>1</td>\n",
       "      <td>1</td>\n",
       "      <td>0</td>\n",
       "      <td>1</td>\n",
       "      <td>a</td>\n",
       "      <td>a</td>\n",
       "      <td>570.0</td>\n",
       "    </tr>\n",
       "    <tr>\n",
       "      <th>2</th>\n",
       "      <td>3</td>\n",
       "      <td>5</td>\n",
       "      <td>2015-07-31</td>\n",
       "      <td>8314</td>\n",
       "      <td>821</td>\n",
       "      <td>1</td>\n",
       "      <td>1</td>\n",
       "      <td>0</td>\n",
       "      <td>1</td>\n",
       "      <td>a</td>\n",
       "      <td>a</td>\n",
       "      <td>14130.0</td>\n",
       "    </tr>\n",
       "    <tr>\n",
       "      <th>3</th>\n",
       "      <td>4</td>\n",
       "      <td>5</td>\n",
       "      <td>2015-07-31</td>\n",
       "      <td>13995</td>\n",
       "      <td>1498</td>\n",
       "      <td>1</td>\n",
       "      <td>1</td>\n",
       "      <td>0</td>\n",
       "      <td>1</td>\n",
       "      <td>c</td>\n",
       "      <td>c</td>\n",
       "      <td>620.0</td>\n",
       "    </tr>\n",
       "    <tr>\n",
       "      <th>4</th>\n",
       "      <td>5</td>\n",
       "      <td>5</td>\n",
       "      <td>2015-07-31</td>\n",
       "      <td>4822</td>\n",
       "      <td>559</td>\n",
       "      <td>1</td>\n",
       "      <td>1</td>\n",
       "      <td>0</td>\n",
       "      <td>1</td>\n",
       "      <td>a</td>\n",
       "      <td>a</td>\n",
       "      <td>29910.0</td>\n",
       "    </tr>\n",
       "  </tbody>\n",
       "</table>\n",
       "</div>"
      ],
      "text/plain": [
       "   Store  DayOfWeek        Date  Sales  Customers  Open  Promo StateHoliday  \\\n",
       "0      1          5  2015-07-31   5263        555     1      1            0   \n",
       "1      2          5  2015-07-31   6064        625     1      1            0   \n",
       "2      3          5  2015-07-31   8314        821     1      1            0   \n",
       "3      4          5  2015-07-31  13995       1498     1      1            0   \n",
       "4      5          5  2015-07-31   4822        559     1      1            0   \n",
       "\n",
       "   SchoolHoliday StoreType Assortment  CompetitionDistance  \n",
       "0              1         c          a               1270.0  \n",
       "1              1         a          a                570.0  \n",
       "2              1         a          a              14130.0  \n",
       "3              1         c          c                620.0  \n",
       "4              1         a          a              29910.0  "
      ]
     },
     "execution_count": 126,
     "metadata": {},
     "output_type": "execute_result"
    }
   ],
   "source": [
    "train_df.head()"
   ]
  },
  {
   "cell_type": "code",
   "execution_count": 133,
   "id": "25b4865c",
   "metadata": {},
   "outputs": [],
   "source": [
    "def dateTimeConverter(df: pd.DataFrame, \n",
    "                      feature: str, \n",
    "                      date: bool = False, \n",
    "                      month: bool = True, \n",
    "                      year: bool = True, \n",
    "                      setindex: bool = True) -> pd.DataFrame:\n",
    "    \"\"\"\n",
    "    Function to get date, month, year from given feature and create new features for\n",
    "    month, date and year. Also set's datetime feature as index.\n",
    "    \n",
    "    Args:\n",
    "        df: Respective input dataframe\n",
    "        feature: Datetime feature can also be object datatype\n",
    "        date: Whether date feature needs to be added to new dataframe\n",
    "        month: Whether date feature needs to be added to new dataframe\n",
    "        year: Whether date feature needs to be added to new dataframe\n",
    "        setindex: Sets datetime feature as index\n",
    "    \n",
    "    Returns:\n",
    "        pandas dataframe\n",
    "    \"\"\"\n",
    "    \n",
    "    df[feature] = pd.to_datetime(df[feature])\n",
    "    if date:\n",
    "        df[\"Date\"] = df[feature].dt.date\n",
    "    if month:\n",
    "        df[\"Month\"] = df[feature].dt.month\n",
    "    if year:\n",
    "        df[\"Year\"] = df[feature].dt.year\n",
    "    if setindex:\n",
    "        df.set_index(keys=\"Date\", inplace=True)\n",
    "        \n",
    "    return df"
   ]
  },
  {
   "cell_type": "code",
   "execution_count": 134,
   "id": "6762c6ac",
   "metadata": {},
   "outputs": [],
   "source": [
    "desired_df = dateTimeConverter(df=train_df, feature=\"Date\")"
   ]
  },
  {
   "cell_type": "code",
   "execution_count": 135,
   "id": "37940538",
   "metadata": {},
   "outputs": [
    {
     "data": {
      "text/html": [
       "<div>\n",
       "<style scoped>\n",
       "    .dataframe tbody tr th:only-of-type {\n",
       "        vertical-align: middle;\n",
       "    }\n",
       "\n",
       "    .dataframe tbody tr th {\n",
       "        vertical-align: top;\n",
       "    }\n",
       "\n",
       "    .dataframe thead th {\n",
       "        text-align: right;\n",
       "    }\n",
       "</style>\n",
       "<table border=\"1\" class=\"dataframe\">\n",
       "  <thead>\n",
       "    <tr style=\"text-align: right;\">\n",
       "      <th></th>\n",
       "      <th>Store</th>\n",
       "      <th>DayOfWeek</th>\n",
       "      <th>Sales</th>\n",
       "      <th>Customers</th>\n",
       "      <th>Open</th>\n",
       "      <th>Promo</th>\n",
       "      <th>StateHoliday</th>\n",
       "      <th>SchoolHoliday</th>\n",
       "      <th>StoreType</th>\n",
       "      <th>Assortment</th>\n",
       "      <th>CompetitionDistance</th>\n",
       "      <th>Month</th>\n",
       "      <th>Year</th>\n",
       "    </tr>\n",
       "    <tr>\n",
       "      <th>Date</th>\n",
       "      <th></th>\n",
       "      <th></th>\n",
       "      <th></th>\n",
       "      <th></th>\n",
       "      <th></th>\n",
       "      <th></th>\n",
       "      <th></th>\n",
       "      <th></th>\n",
       "      <th></th>\n",
       "      <th></th>\n",
       "      <th></th>\n",
       "      <th></th>\n",
       "      <th></th>\n",
       "    </tr>\n",
       "  </thead>\n",
       "  <tbody>\n",
       "    <tr>\n",
       "      <th>2015-07-31</th>\n",
       "      <td>1</td>\n",
       "      <td>5</td>\n",
       "      <td>5263</td>\n",
       "      <td>555</td>\n",
       "      <td>1</td>\n",
       "      <td>1</td>\n",
       "      <td>0</td>\n",
       "      <td>1</td>\n",
       "      <td>c</td>\n",
       "      <td>a</td>\n",
       "      <td>1270.0</td>\n",
       "      <td>7</td>\n",
       "      <td>2015</td>\n",
       "    </tr>\n",
       "    <tr>\n",
       "      <th>2015-07-31</th>\n",
       "      <td>2</td>\n",
       "      <td>5</td>\n",
       "      <td>6064</td>\n",
       "      <td>625</td>\n",
       "      <td>1</td>\n",
       "      <td>1</td>\n",
       "      <td>0</td>\n",
       "      <td>1</td>\n",
       "      <td>a</td>\n",
       "      <td>a</td>\n",
       "      <td>570.0</td>\n",
       "      <td>7</td>\n",
       "      <td>2015</td>\n",
       "    </tr>\n",
       "    <tr>\n",
       "      <th>2015-07-31</th>\n",
       "      <td>3</td>\n",
       "      <td>5</td>\n",
       "      <td>8314</td>\n",
       "      <td>821</td>\n",
       "      <td>1</td>\n",
       "      <td>1</td>\n",
       "      <td>0</td>\n",
       "      <td>1</td>\n",
       "      <td>a</td>\n",
       "      <td>a</td>\n",
       "      <td>14130.0</td>\n",
       "      <td>7</td>\n",
       "      <td>2015</td>\n",
       "    </tr>\n",
       "    <tr>\n",
       "      <th>2015-07-31</th>\n",
       "      <td>4</td>\n",
       "      <td>5</td>\n",
       "      <td>13995</td>\n",
       "      <td>1498</td>\n",
       "      <td>1</td>\n",
       "      <td>1</td>\n",
       "      <td>0</td>\n",
       "      <td>1</td>\n",
       "      <td>c</td>\n",
       "      <td>c</td>\n",
       "      <td>620.0</td>\n",
       "      <td>7</td>\n",
       "      <td>2015</td>\n",
       "    </tr>\n",
       "    <tr>\n",
       "      <th>2015-07-31</th>\n",
       "      <td>5</td>\n",
       "      <td>5</td>\n",
       "      <td>4822</td>\n",
       "      <td>559</td>\n",
       "      <td>1</td>\n",
       "      <td>1</td>\n",
       "      <td>0</td>\n",
       "      <td>1</td>\n",
       "      <td>a</td>\n",
       "      <td>a</td>\n",
       "      <td>29910.0</td>\n",
       "      <td>7</td>\n",
       "      <td>2015</td>\n",
       "    </tr>\n",
       "  </tbody>\n",
       "</table>\n",
       "</div>"
      ],
      "text/plain": [
       "            Store  DayOfWeek  Sales  Customers  Open  Promo StateHoliday  \\\n",
       "Date                                                                       \n",
       "2015-07-31      1          5   5263        555     1      1            0   \n",
       "2015-07-31      2          5   6064        625     1      1            0   \n",
       "2015-07-31      3          5   8314        821     1      1            0   \n",
       "2015-07-31      4          5  13995       1498     1      1            0   \n",
       "2015-07-31      5          5   4822        559     1      1            0   \n",
       "\n",
       "            SchoolHoliday StoreType Assortment  CompetitionDistance  Month  \\\n",
       "Date                                                                         \n",
       "2015-07-31              1         c          a               1270.0      7   \n",
       "2015-07-31              1         a          a                570.0      7   \n",
       "2015-07-31              1         a          a              14130.0      7   \n",
       "2015-07-31              1         c          c                620.0      7   \n",
       "2015-07-31              1         a          a              29910.0      7   \n",
       "\n",
       "            Year  \n",
       "Date              \n",
       "2015-07-31  2015  \n",
       "2015-07-31  2015  \n",
       "2015-07-31  2015  \n",
       "2015-07-31  2015  \n",
       "2015-07-31  2015  "
      ]
     },
     "execution_count": 135,
     "metadata": {},
     "output_type": "execute_result"
    }
   ],
   "source": [
    "desired_df.head()"
   ]
  },
  {
   "cell_type": "code",
   "execution_count": 136,
   "id": "0803aa97",
   "metadata": {},
   "outputs": [],
   "source": [
    "# Now we've got final df with categorical variables\n",
    "# Saving it\n",
    "desired_df.to_csv(\"data/rossmann-store-sales/rossman-feature-enhanced-uncleaned.csv\")"
   ]
  },
  {
   "cell_type": "markdown",
   "id": "ac2b828b",
   "metadata": {},
   "source": [
    "### Data Cleaning\n",
    "\n",
    "Most machine learning algorithms won't work with missing features, let's write some functions to take care of them.\n",
    "We've found competition distace has missing values for three stores.\n",
    "Before that let's split the dataset."
   ]
  },
  {
   "cell_type": "code",
   "execution_count": 140,
   "id": "1fe4c992",
   "metadata": {},
   "outputs": [],
   "source": [
    "# SPlitting features and targets\n",
    "X, y = desired_df.drop(labels=\"Sales\", axis=1), desired_df[\"Sales\"]"
   ]
  },
  {
   "cell_type": "code",
   "execution_count": 141,
   "id": "1fe2d75f",
   "metadata": {},
   "outputs": [],
   "source": [
    "X_train, X_test, y_train, y_test = train_test_split(X, y, test_size=TEST_SIZE, random_state=SEED)"
   ]
  },
  {
   "cell_type": "code",
   "execution_count": 184,
   "id": "ffe081d7",
   "metadata": {},
   "outputs": [
    {
     "name": "stdout",
     "output_type": "stream",
     "text": [
      "<class 'pandas.core.frame.DataFrame'>\n",
      "DatetimeIndex: 813767 entries, 2014-06-22 to 2015-04-13\n",
      "Data columns (total 12 columns):\n",
      " #   Column               Non-Null Count   Dtype  \n",
      "---  ------               --------------   -----  \n",
      " 0   Store                813767 non-null  int64  \n",
      " 1   DayOfWeek            813767 non-null  int64  \n",
      " 2   Customers            813767 non-null  int64  \n",
      " 3   Open                 813767 non-null  int64  \n",
      " 4   Promo                813767 non-null  int64  \n",
      " 5   StateHoliday         813767 non-null  object \n",
      " 6   SchoolHoliday        813767 non-null  int64  \n",
      " 7   StoreType            813767 non-null  object \n",
      " 8   Assortment           813767 non-null  object \n",
      " 9   CompetitionDistance  811646 non-null  float64\n",
      " 10  Month                813767 non-null  int64  \n",
      " 11  Year                 813767 non-null  int64  \n",
      "dtypes: float64(1), int64(8), object(3)\n",
      "memory usage: 80.7+ MB\n"
     ]
    }
   ],
   "source": [
    "X_train.info()"
   ]
  },
  {
   "cell_type": "code",
   "execution_count": 142,
   "id": "e84f580e",
   "metadata": {},
   "outputs": [
    {
     "data": {
      "text/plain": [
       "Store                     0\n",
       "DayOfWeek                 0\n",
       "Customers                 0\n",
       "Open                      0\n",
       "Promo                     0\n",
       "StateHoliday              0\n",
       "SchoolHoliday             0\n",
       "StoreType                 0\n",
       "Assortment                0\n",
       "CompetitionDistance    2121\n",
       "Month                     0\n",
       "Year                      0\n",
       "dtype: int64"
      ]
     },
     "execution_count": 142,
     "metadata": {},
     "output_type": "execute_result"
    }
   ],
   "source": [
    "X_train.isna().sum()"
   ]
  },
  {
   "cell_type": "markdown",
   "id": "63ea4417",
   "metadata": {},
   "source": [
    "We'll use simple imputer to replace nan values with median of the respective attribute."
   ]
  },
  {
   "cell_type": "code",
   "execution_count": 143,
   "id": "b65fa8c4",
   "metadata": {},
   "outputs": [],
   "source": [
    "from sklearn.impute import SimpleImputer"
   ]
  },
  {
   "cell_type": "code",
   "execution_count": 149,
   "id": "9c9d6f4c",
   "metadata": {},
   "outputs": [],
   "source": [
    "imputer = SimpleImputer(strategy=\"median\")"
   ]
  },
  {
   "cell_type": "markdown",
   "id": "6fe83db6",
   "metadata": {},
   "source": [
    "Since median can only be calculated for numerical attributes, creating a copy of the data without categorical features."
   ]
  },
  {
   "cell_type": "code",
   "execution_count": 173,
   "id": "3232135f",
   "metadata": {},
   "outputs": [
    {
     "data": {
      "text/plain": [
       "Store                    int64\n",
       "DayOfWeek                int64\n",
       "Customers                int64\n",
       "Open                     int64\n",
       "Promo                    int64\n",
       "StateHoliday            object\n",
       "SchoolHoliday            int64\n",
       "StoreType               object\n",
       "Assortment              object\n",
       "CompetitionDistance    float64\n",
       "Month                    int64\n",
       "Year                     int64\n",
       "dtype: object"
      ]
     },
     "execution_count": 173,
     "metadata": {},
     "output_type": "execute_result"
    }
   ],
   "source": [
    "X_train.dtypes"
   ]
  },
  {
   "cell_type": "code",
   "execution_count": 174,
   "id": "821cded6",
   "metadata": {},
   "outputs": [],
   "source": [
    "rossmann_num = X_train.drop(labels=[\"StateHoliday\", \"StoreType\", \"Assortment\"], axis=1)"
   ]
  },
  {
   "cell_type": "code",
   "execution_count": 175,
   "id": "a841101f",
   "metadata": {},
   "outputs": [
    {
     "data": {
      "text/plain": [
       "Store                    int64\n",
       "DayOfWeek                int64\n",
       "Customers                int64\n",
       "Open                     int64\n",
       "Promo                    int64\n",
       "SchoolHoliday            int64\n",
       "CompetitionDistance    float64\n",
       "Month                    int64\n",
       "Year                     int64\n",
       "dtype: object"
      ]
     },
     "execution_count": 175,
     "metadata": {},
     "output_type": "execute_result"
    }
   ],
   "source": [
    "rossmann_num.dtypes"
   ]
  },
  {
   "cell_type": "code",
   "execution_count": 176,
   "id": "979ea102",
   "metadata": {},
   "outputs": [
    {
     "data": {
      "text/plain": [
       "SimpleImputer(strategy='median')"
      ]
     },
     "execution_count": 176,
     "metadata": {},
     "output_type": "execute_result"
    }
   ],
   "source": [
    "# Fitting the imputer\n",
    "imputer.fit(rossmann_num)"
   ]
  },
  {
   "cell_type": "markdown",
   "id": "5f350669",
   "metadata": {},
   "source": [
    "Simple Imputer just computes median for numerical attributes and stores them in `statistics_` variable. It's better to fit the imputer for all features even though nan is only present for `CompetitionDistance`, this will be useful once the system goes live and the input data has nan for other features as well."
   ]
  },
  {
   "cell_type": "code",
   "execution_count": 177,
   "id": "31c2d7fc",
   "metadata": {},
   "outputs": [
    {
     "data": {
      "text/plain": [
       "array([5.580e+02, 4.000e+00, 6.090e+02, 1.000e+00, 0.000e+00, 0.000e+00,\n",
       "       2.330e+03, 6.000e+00, 2.014e+03])"
      ]
     },
     "execution_count": 177,
     "metadata": {},
     "output_type": "execute_result"
    }
   ],
   "source": [
    "imputer.statistics_"
   ]
  },
  {
   "cell_type": "code",
   "execution_count": 178,
   "id": "ecc20eeb",
   "metadata": {},
   "outputs": [],
   "source": [
    "# Let's use transform to fix the missing values with median\n",
    "rossman_num_no_nan = imputer.transform(rossmann_num)"
   ]
  },
  {
   "cell_type": "code",
   "execution_count": 181,
   "id": "bb71803b",
   "metadata": {},
   "outputs": [],
   "source": [
    "# Converting imputer numpy array back to df\n",
    "rossman_num_no_nan_df = pd.DataFrame(rossman_num_no_nan, columns=rossmann_num.columns)"
   ]
  },
  {
   "cell_type": "code",
   "execution_count": 182,
   "id": "1d5ec655",
   "metadata": {},
   "outputs": [
    {
     "data": {
      "text/plain": [
       "Store                  0\n",
       "DayOfWeek              0\n",
       "Customers              0\n",
       "Open                   0\n",
       "Promo                  0\n",
       "SchoolHoliday          0\n",
       "CompetitionDistance    0\n",
       "Month                  0\n",
       "Year                   0\n",
       "dtype: int64"
      ]
     },
     "execution_count": 182,
     "metadata": {},
     "output_type": "execute_result"
    }
   ],
   "source": [
    "rossman_num_no_nan_df.isna().sum()"
   ]
  },
  {
   "cell_type": "code",
   "execution_count": 183,
   "id": "73574f1e",
   "metadata": {},
   "outputs": [
    {
     "name": "stdout",
     "output_type": "stream",
     "text": [
      "<class 'pandas.core.frame.DataFrame'>\n",
      "RangeIndex: 813767 entries, 0 to 813766\n",
      "Data columns (total 9 columns):\n",
      " #   Column               Non-Null Count   Dtype  \n",
      "---  ------               --------------   -----  \n",
      " 0   Store                813767 non-null  float64\n",
      " 1   DayOfWeek            813767 non-null  float64\n",
      " 2   Customers            813767 non-null  float64\n",
      " 3   Open                 813767 non-null  float64\n",
      " 4   Promo                813767 non-null  float64\n",
      " 5   SchoolHoliday        813767 non-null  float64\n",
      " 6   CompetitionDistance  813767 non-null  float64\n",
      " 7   Month                813767 non-null  float64\n",
      " 8   Year                 813767 non-null  float64\n",
      "dtypes: float64(9)\n",
      "memory usage: 55.9 MB\n"
     ]
    }
   ],
   "source": [
    "rossman_num_no_nan_df.info()"
   ]
  },
  {
   "cell_type": "code",
   "execution_count": 189,
   "id": "d1ddd68d",
   "metadata": {},
   "outputs": [],
   "source": [
    "# Let's encode the categorical variables\n",
    "from sklearn.preprocessing import OrdinalEncoder\n",
    "ordinal_encoder = OrdinalEncoder()\n",
    "storeType_enc = ordinal_encoder.fit_transform(X_train[[\"StoreType\"]])\n",
    "assortment_enc = ordinal_encoder.fit_transform(X_train[[\"Assortment\"]])\n",
    "stateHoliday_enc = ordinal_encoder.fit_transform(X_train[[\"StateHoliday\"]])"
   ]
  },
  {
   "cell_type": "code",
   "execution_count": 191,
   "id": "0af5f3ab",
   "metadata": {},
   "outputs": [
    {
     "data": {
      "text/plain": [
       "array([[0.],\n",
       "       [3.],\n",
       "       [3.],\n",
       "       ...,\n",
       "       [0.],\n",
       "       [3.],\n",
       "       [3.]])"
      ]
     },
     "execution_count": 191,
     "metadata": {},
     "output_type": "execute_result"
    }
   ],
   "source": [
    "storeType_enc"
   ]
  },
  {
   "cell_type": "markdown",
   "id": "9c6c92ed",
   "metadata": {},
   "source": [
    "One issue with this representation is ML algorithms will assume that two nearby values are more similar than distant values. This maybe fine in some cases for ordered categories. To fix this common solution is to use one hot encoding(binary attribute per category)"
   ]
  },
  {
   "cell_type": "code",
   "execution_count": 192,
   "id": "4c91fc63",
   "metadata": {},
   "outputs": [],
   "source": [
    "from sklearn.preprocessing import OneHotEncoder\n",
    "cat_encoder = OneHotEncoder()"
   ]
  },
  {
   "cell_type": "code",
   "execution_count": 194,
   "id": "08c583e2",
   "metadata": {},
   "outputs": [],
   "source": [
    "stateHoliday_enc_oh = cat_encoder.fit_transform(X_train[[\"StateHoliday\"]])\n",
    "storeType_enc_oh = cat_encoder.fit_transform(X_train[[\"StoreType\"]])\n",
    "assortment_enc_oh = cat_encoder.fit_transform(X_train[[\"Assortment\"]])"
   ]
  },
  {
   "cell_type": "markdown",
   "id": "d771eb1b",
   "metadata": {},
   "source": [
    "This encoding won't work as, we'll have to use a seperate instance of it for each of them.\n",
    "\n",
    "Next steps:\n",
    "1. Setup input pipeline with imputer, encoder into a transformer pipeline\n",
    "2. Modelling\n",
    "3. Evaluation"
   ]
  },
  {
   "cell_type": "code",
   "execution_count": null,
   "id": "4eb62099",
   "metadata": {},
   "outputs": [],
   "source": []
  }
 ],
 "metadata": {
  "kernelspec": {
   "display_name": "Python 3 (ipykernel)",
   "language": "python",
   "name": "python3"
  },
  "language_info": {
   "codemirror_mode": {
    "name": "ipython",
    "version": 3
   },
   "file_extension": ".py",
   "mimetype": "text/x-python",
   "name": "python",
   "nbconvert_exporter": "python",
   "pygments_lexer": "ipython3",
   "version": "3.7.5"
  }
 },
 "nbformat": 4,
 "nbformat_minor": 5
}
