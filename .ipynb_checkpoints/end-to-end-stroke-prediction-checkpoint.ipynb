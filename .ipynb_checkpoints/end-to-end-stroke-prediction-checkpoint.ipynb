{
 "cells": [
  {
   "cell_type": "markdown",
   "id": "invisible-intermediate",
   "metadata": {},
   "source": [
    "## 1. Problem Definition\n",
    "\n",
    "Can we predict or classify whether the patient is susceptible for stroke or not?"
   ]
  },
  {
   "cell_type": "code",
   "execution_count": 1,
   "id": "respective-level",
   "metadata": {},
   "outputs": [
    {
     "name": "stdout",
     "output_type": "stream",
     "text": [
      "Requirement already satisfied: seaborn in ./env/lib/python3.8/site-packages (0.11.1)\r\n",
      "Requirement already satisfied: numpy>=1.15 in ./env/lib/python3.8/site-packages (from seaborn) (1.19.2)\r\n",
      "Requirement already satisfied: matplotlib>=2.2 in ./env/lib/python3.8/site-packages (from seaborn) (3.3.4)\r\n",
      "Requirement already satisfied: scipy>=1.0 in ./env/lib/python3.8/site-packages (from seaborn) (1.6.1)\r\n",
      "Requirement already satisfied: pandas>=0.23 in ./env/lib/python3.8/site-packages (from seaborn) (1.2.3)\r\n",
      "Requirement already satisfied: cycler>=0.10 in ./env/lib/python3.8/site-packages (from matplotlib>=2.2->seaborn) (0.10.0)\r\n",
      "Requirement already satisfied: pyparsing!=2.0.4,!=2.1.2,!=2.1.6,>=2.0.3 in ./env/lib/python3.8/site-packages (from matplotlib>=2.2->seaborn) (2.4.7)\r\n",
      "Requirement already satisfied: kiwisolver>=1.0.1 in ./env/lib/python3.8/site-packages (from matplotlib>=2.2->seaborn) (1.3.1)\r\n",
      "Requirement already satisfied: pillow>=6.2.0 in ./env/lib/python3.8/site-packages (from matplotlib>=2.2->seaborn) (8.1.2)\r\n",
      "Requirement already satisfied: python-dateutil>=2.1 in ./env/lib/python3.8/site-packages (from matplotlib>=2.2->seaborn) (2.8.1)\r\n",
      "Requirement already satisfied: six in ./env/lib/python3.8/site-packages (from cycler>=0.10->matplotlib>=2.2->seaborn) (1.15.0)\r\n",
      "Requirement already satisfied: pytz>=2017.3 in ./env/lib/python3.8/site-packages (from pandas>=0.23->seaborn) (2021.1)\r\n"
     ]
    }
   ],
   "source": [
    "!pip3 install seaborn"
   ]
  },
  {
   "cell_type": "code",
   "execution_count": 2,
   "id": "greater-execution",
   "metadata": {},
   "outputs": [],
   "source": [
    "# EDA and plotiing libraries\n",
    "import pandas as pd\n",
    "import numpy as np\n",
    "import matplotlib.pyplot as plt\n",
    "import seaborn as sns # seaborn gets shortened to sns\n",
    "\n",
    "%matplotlib inline\n",
    "\n",
    "# Models\n",
    "from sklearn.linear_model import LogisticRegression\n",
    "from sklearn.neighbors import KNeighborsClassifier\n",
    "from sklearn.ensemble import RandomForestClassifier\n",
    "\n",
    "# Model evaluators\n",
    "from sklearn.model_selection import train_test_split, cross_val_score\n",
    "from sklearn.model_selection import RandomizedSearchCV, GridSearchCV\n",
    "from sklearn.metrics import confusion_matrix, classification_report\n",
    "from sklearn.metrics import precision_score, recall_score, f1_score\n",
    "from sklearn.metrics import plot_roc_curve"
   ]
  },
  {
   "cell_type": "markdown",
   "id": "agricultural-sleep",
   "metadata": {},
   "source": [
    "## Exploratory Data Analysis"
   ]
  },
  {
   "cell_type": "code",
   "execution_count": 3,
   "id": "mexican-parliament",
   "metadata": {},
   "outputs": [],
   "source": [
    "# Load the data\n",
    "df = pd.read_csv(\"data/stroke/input/healthcare-dataset-stroke-data.csv\")"
   ]
  },
  {
   "cell_type": "code",
   "execution_count": 4,
   "id": "bottom-horizontal",
   "metadata": {},
   "outputs": [
    {
     "name": "stdout",
     "output_type": "stream",
     "text": [
      "<class 'pandas.core.frame.DataFrame'>\n",
      "RangeIndex: 5110 entries, 0 to 5109\n",
      "Data columns (total 12 columns):\n",
      " #   Column             Non-Null Count  Dtype  \n",
      "---  ------             --------------  -----  \n",
      " 0   id                 5110 non-null   int64  \n",
      " 1   gender             5110 non-null   object \n",
      " 2   age                5110 non-null   float64\n",
      " 3   hypertension       5110 non-null   int64  \n",
      " 4   heart_disease      5110 non-null   int64  \n",
      " 5   ever_married       5110 non-null   object \n",
      " 6   work_type          5110 non-null   object \n",
      " 7   Residence_type     5110 non-null   object \n",
      " 8   avg_glucose_level  5110 non-null   float64\n",
      " 9   bmi                4909 non-null   float64\n",
      " 10  smoking_status     5110 non-null   object \n",
      " 11  stroke             5110 non-null   int64  \n",
      "dtypes: float64(3), int64(4), object(5)\n",
      "memory usage: 479.2+ KB\n"
     ]
    }
   ],
   "source": [
    "df.info()"
   ]
  },
  {
   "cell_type": "code",
   "execution_count": 5,
   "id": "returning-jungle",
   "metadata": {},
   "outputs": [
    {
     "data": {
      "text/plain": [
       "array(['formerly smoked', 'never smoked', 'smokes', 'Unknown'],\n",
       "      dtype=object)"
      ]
     },
     "execution_count": 5,
     "metadata": {},
     "output_type": "execute_result"
    }
   ],
   "source": [
    "df[\"smoking_status\"].unique()"
   ]
  },
  {
   "cell_type": "code",
   "execution_count": 6,
   "id": "harmful-mozambique",
   "metadata": {},
   "outputs": [
    {
     "data": {
      "text/html": [
       "<div>\n",
       "<style scoped>\n",
       "    .dataframe tbody tr th:only-of-type {\n",
       "        vertical-align: middle;\n",
       "    }\n",
       "\n",
       "    .dataframe tbody tr th {\n",
       "        vertical-align: top;\n",
       "    }\n",
       "\n",
       "    .dataframe thead th {\n",
       "        text-align: right;\n",
       "    }\n",
       "</style>\n",
       "<table border=\"1\" class=\"dataframe\">\n",
       "  <thead>\n",
       "    <tr style=\"text-align: right;\">\n",
       "      <th></th>\n",
       "      <th>id</th>\n",
       "      <th>gender</th>\n",
       "      <th>age</th>\n",
       "      <th>hypertension</th>\n",
       "      <th>heart_disease</th>\n",
       "      <th>ever_married</th>\n",
       "      <th>work_type</th>\n",
       "      <th>Residence_type</th>\n",
       "      <th>avg_glucose_level</th>\n",
       "      <th>bmi</th>\n",
       "      <th>smoking_status</th>\n",
       "      <th>stroke</th>\n",
       "    </tr>\n",
       "  </thead>\n",
       "  <tbody>\n",
       "    <tr>\n",
       "      <th>0</th>\n",
       "      <td>9046</td>\n",
       "      <td>Male</td>\n",
       "      <td>67.0</td>\n",
       "      <td>0</td>\n",
       "      <td>1</td>\n",
       "      <td>Yes</td>\n",
       "      <td>Private</td>\n",
       "      <td>Urban</td>\n",
       "      <td>228.69</td>\n",
       "      <td>36.6</td>\n",
       "      <td>formerly smoked</td>\n",
       "      <td>1</td>\n",
       "    </tr>\n",
       "    <tr>\n",
       "      <th>1</th>\n",
       "      <td>51676</td>\n",
       "      <td>Female</td>\n",
       "      <td>61.0</td>\n",
       "      <td>0</td>\n",
       "      <td>0</td>\n",
       "      <td>Yes</td>\n",
       "      <td>Self-employed</td>\n",
       "      <td>Rural</td>\n",
       "      <td>202.21</td>\n",
       "      <td>NaN</td>\n",
       "      <td>never smoked</td>\n",
       "      <td>1</td>\n",
       "    </tr>\n",
       "    <tr>\n",
       "      <th>2</th>\n",
       "      <td>31112</td>\n",
       "      <td>Male</td>\n",
       "      <td>80.0</td>\n",
       "      <td>0</td>\n",
       "      <td>1</td>\n",
       "      <td>Yes</td>\n",
       "      <td>Private</td>\n",
       "      <td>Rural</td>\n",
       "      <td>105.92</td>\n",
       "      <td>32.5</td>\n",
       "      <td>never smoked</td>\n",
       "      <td>1</td>\n",
       "    </tr>\n",
       "    <tr>\n",
       "      <th>3</th>\n",
       "      <td>60182</td>\n",
       "      <td>Female</td>\n",
       "      <td>49.0</td>\n",
       "      <td>0</td>\n",
       "      <td>0</td>\n",
       "      <td>Yes</td>\n",
       "      <td>Private</td>\n",
       "      <td>Urban</td>\n",
       "      <td>171.23</td>\n",
       "      <td>34.4</td>\n",
       "      <td>smokes</td>\n",
       "      <td>1</td>\n",
       "    </tr>\n",
       "    <tr>\n",
       "      <th>4</th>\n",
       "      <td>1665</td>\n",
       "      <td>Female</td>\n",
       "      <td>79.0</td>\n",
       "      <td>1</td>\n",
       "      <td>0</td>\n",
       "      <td>Yes</td>\n",
       "      <td>Self-employed</td>\n",
       "      <td>Rural</td>\n",
       "      <td>174.12</td>\n",
       "      <td>24.0</td>\n",
       "      <td>never smoked</td>\n",
       "      <td>1</td>\n",
       "    </tr>\n",
       "  </tbody>\n",
       "</table>\n",
       "</div>"
      ],
      "text/plain": [
       "      id  gender   age  hypertension  heart_disease ever_married  \\\n",
       "0   9046    Male  67.0             0              1          Yes   \n",
       "1  51676  Female  61.0             0              0          Yes   \n",
       "2  31112    Male  80.0             0              1          Yes   \n",
       "3  60182  Female  49.0             0              0          Yes   \n",
       "4   1665  Female  79.0             1              0          Yes   \n",
       "\n",
       "       work_type Residence_type  avg_glucose_level   bmi   smoking_status  \\\n",
       "0        Private          Urban             228.69  36.6  formerly smoked   \n",
       "1  Self-employed          Rural             202.21   NaN     never smoked   \n",
       "2        Private          Rural             105.92  32.5     never smoked   \n",
       "3        Private          Urban             171.23  34.4           smokes   \n",
       "4  Self-employed          Rural             174.12  24.0     never smoked   \n",
       "\n",
       "   stroke  \n",
       "0       1  \n",
       "1       1  \n",
       "2       1  \n",
       "3       1  \n",
       "4       1  "
      ]
     },
     "execution_count": 6,
     "metadata": {},
     "output_type": "execute_result"
    }
   ],
   "source": [
    "df.head()"
   ]
  },
  {
   "cell_type": "code",
   "execution_count": 7,
   "id": "intellectual-fusion",
   "metadata": {},
   "outputs": [
    {
     "data": {
      "text/plain": [
       "(5110, 12)"
      ]
     },
     "execution_count": 7,
     "metadata": {},
     "output_type": "execute_result"
    }
   ],
   "source": [
    "df.shape"
   ]
  },
  {
   "cell_type": "code",
   "execution_count": 8,
   "id": "virgin-significance",
   "metadata": {},
   "outputs": [
    {
     "data": {
      "text/plain": [
       "0    4861\n",
       "1     249\n",
       "Name: stroke, dtype: int64"
      ]
     },
     "execution_count": 8,
     "metadata": {},
     "output_type": "execute_result"
    }
   ],
   "source": [
    "# Let's see how many positives(1) and negatives(0) in our target\n",
    "df[\"stroke\"].value_counts()"
   ]
  },
  {
   "cell_type": "code",
   "execution_count": 9,
   "id": "fluid-magnitude",
   "metadata": {},
   "outputs": [
    {
     "data": {
      "text/plain": [
       "0    95.127202\n",
       "1     4.872798\n",
       "Name: stroke, dtype: float64"
      ]
     },
     "execution_count": 9,
     "metadata": {},
     "output_type": "execute_result"
    }
   ],
   "source": [
    "# Normalized value counts\n",
    "df[\"stroke\"].value_counts(normalize=True)*100"
   ]
  },
  {
   "cell_type": "markdown",
   "id": "false-asbestos",
   "metadata": {},
   "source": [
    "We have an **unbalanced** target column, we have more samples for false and very less samples for negative"
   ]
  },
  {
   "cell_type": "code",
   "execution_count": 10,
   "id": "medical-baghdad",
   "metadata": {},
   "outputs": [
    {
     "data": {
      "image/png": "[encoded data removed]",
      "text/plain": [
       "<Figure size 432x288 with 1 Axes>"
      ]
     },
     "metadata": {
      "needs_background": "light"
     },
     "output_type": "display_data"
    }
   ],
   "source": [
    "# Visulazing the value counts\n",
    "df[\"stroke\"].value_counts().plot(kind=\"bar\", color=[\"skyblue\", \"lightgreen\"]);"
   ]
  },
  {
   "cell_type": "code",
   "execution_count": null,
   "id": "anticipated-square",
   "metadata": {},
   "outputs": [],
   "source": []
  },
  {
   "cell_type": "code",
   "execution_count": 11,
   "id": "standing-drain",
   "metadata": {},
   "outputs": [
    {
     "data": {
      "text/html": [
       "<div>\n",
       "<style scoped>\n",
       "    .dataframe tbody tr th:only-of-type {\n",
       "        vertical-align: middle;\n",
       "    }\n",
       "\n",
       "    .dataframe tbody tr th {\n",
       "        vertical-align: top;\n",
       "    }\n",
       "\n",
       "    .dataframe thead th {\n",
       "        text-align: right;\n",
       "    }\n",
       "</style>\n",
       "<table border=\"1\" class=\"dataframe\">\n",
       "  <thead>\n",
       "    <tr style=\"text-align: right;\">\n",
       "      <th></th>\n",
       "      <th>id</th>\n",
       "      <th>age</th>\n",
       "      <th>hypertension</th>\n",
       "      <th>heart_disease</th>\n",
       "      <th>avg_glucose_level</th>\n",
       "      <th>bmi</th>\n",
       "      <th>stroke</th>\n",
       "    </tr>\n",
       "  </thead>\n",
       "  <tbody>\n",
       "    <tr>\n",
       "      <th>count</th>\n",
       "      <td>5110.000000</td>\n",
       "      <td>5110.000000</td>\n",
       "      <td>5110.000000</td>\n",
       "      <td>5110.000000</td>\n",
       "      <td>5110.000000</td>\n",
       "      <td>4909.000000</td>\n",
       "      <td>5110.000000</td>\n",
       "    </tr>\n",
       "    <tr>\n",
       "      <th>mean</th>\n",
       "      <td>36517.829354</td>\n",
       "      <td>43.226614</td>\n",
       "      <td>0.097456</td>\n",
       "      <td>0.054012</td>\n",
       "      <td>106.147677</td>\n",
       "      <td>28.893237</td>\n",
       "      <td>0.048728</td>\n",
       "    </tr>\n",
       "    <tr>\n",
       "      <th>std</th>\n",
       "      <td>21161.721625</td>\n",
       "      <td>22.612647</td>\n",
       "      <td>0.296607</td>\n",
       "      <td>0.226063</td>\n",
       "      <td>45.283560</td>\n",
       "      <td>7.854067</td>\n",
       "      <td>0.215320</td>\n",
       "    </tr>\n",
       "    <tr>\n",
       "      <th>min</th>\n",
       "      <td>67.000000</td>\n",
       "      <td>0.080000</td>\n",
       "      <td>0.000000</td>\n",
       "      <td>0.000000</td>\n",
       "      <td>55.120000</td>\n",
       "      <td>10.300000</td>\n",
       "      <td>0.000000</td>\n",
       "    </tr>\n",
       "    <tr>\n",
       "      <th>25%</th>\n",
       "      <td>17741.250000</td>\n",
       "      <td>25.000000</td>\n",
       "      <td>0.000000</td>\n",
       "      <td>0.000000</td>\n",
       "      <td>77.245000</td>\n",
       "      <td>23.500000</td>\n",
       "      <td>0.000000</td>\n",
       "    </tr>\n",
       "    <tr>\n",
       "      <th>50%</th>\n",
       "      <td>36932.000000</td>\n",
       "      <td>45.000000</td>\n",
       "      <td>0.000000</td>\n",
       "      <td>0.000000</td>\n",
       "      <td>91.885000</td>\n",
       "      <td>28.100000</td>\n",
       "      <td>0.000000</td>\n",
       "    </tr>\n",
       "    <tr>\n",
       "      <th>75%</th>\n",
       "      <td>54682.000000</td>\n",
       "      <td>61.000000</td>\n",
       "      <td>0.000000</td>\n",
       "      <td>0.000000</td>\n",
       "      <td>114.090000</td>\n",
       "      <td>33.100000</td>\n",
       "      <td>0.000000</td>\n",
       "    </tr>\n",
       "    <tr>\n",
       "      <th>max</th>\n",
       "      <td>72940.000000</td>\n",
       "      <td>82.000000</td>\n",
       "      <td>1.000000</td>\n",
       "      <td>1.000000</td>\n",
       "      <td>271.740000</td>\n",
       "      <td>97.600000</td>\n",
       "      <td>1.000000</td>\n",
       "    </tr>\n",
       "  </tbody>\n",
       "</table>\n",
       "</div>"
      ],
      "text/plain": [
       "                 id          age  hypertension  heart_disease  \\\n",
       "count   5110.000000  5110.000000   5110.000000    5110.000000   \n",
       "mean   36517.829354    43.226614      0.097456       0.054012   \n",
       "std    21161.721625    22.612647      0.296607       0.226063   \n",
       "min       67.000000     0.080000      0.000000       0.000000   \n",
       "25%    17741.250000    25.000000      0.000000       0.000000   \n",
       "50%    36932.000000    45.000000      0.000000       0.000000   \n",
       "75%    54682.000000    61.000000      0.000000       0.000000   \n",
       "max    72940.000000    82.000000      1.000000       1.000000   \n",
       "\n",
       "       avg_glucose_level          bmi       stroke  \n",
       "count        5110.000000  4909.000000  5110.000000  \n",
       "mean          106.147677    28.893237     0.048728  \n",
       "std            45.283560     7.854067     0.215320  \n",
       "min            55.120000    10.300000     0.000000  \n",
       "25%            77.245000    23.500000     0.000000  \n",
       "50%            91.885000    28.100000     0.000000  \n",
       "75%           114.090000    33.100000     0.000000  \n",
       "max           271.740000    97.600000     1.000000  "
      ]
     },
     "execution_count": 11,
     "metadata": {},
     "output_type": "execute_result"
    }
   ],
   "source": [
    "# Getting metrics on the columns\n",
    "df.describe()"
   ]
  },
  {
   "cell_type": "markdown",
   "id": "cardiovascular-sport",
   "metadata": {},
   "source": [
    "### `Stroke` with respect to `gender`"
   ]
  },
  {
   "cell_type": "code",
   "execution_count": 12,
   "id": "industrial-athletics",
   "metadata": {},
   "outputs": [
    {
     "data": {
      "text/html": [
       "<div>\n",
       "<style scoped>\n",
       "    .dataframe tbody tr th:only-of-type {\n",
       "        vertical-align: middle;\n",
       "    }\n",
       "\n",
       "    .dataframe tbody tr th {\n",
       "        vertical-align: top;\n",
       "    }\n",
       "\n",
       "    .dataframe thead th {\n",
       "        text-align: right;\n",
       "    }\n",
       "</style>\n",
       "<table border=\"1\" class=\"dataframe\">\n",
       "  <thead>\n",
       "    <tr style=\"text-align: right;\">\n",
       "      <th>stroke</th>\n",
       "      <th>0</th>\n",
       "      <th>1</th>\n",
       "    </tr>\n",
       "    <tr>\n",
       "      <th>gender</th>\n",
       "      <th></th>\n",
       "      <th></th>\n",
       "    </tr>\n",
       "  </thead>\n",
       "  <tbody>\n",
       "    <tr>\n",
       "      <th>Female</th>\n",
       "      <td>2853</td>\n",
       "      <td>141</td>\n",
       "    </tr>\n",
       "    <tr>\n",
       "      <th>Male</th>\n",
       "      <td>2007</td>\n",
       "      <td>108</td>\n",
       "    </tr>\n",
       "    <tr>\n",
       "      <th>Other</th>\n",
       "      <td>1</td>\n",
       "      <td>0</td>\n",
       "    </tr>\n",
       "  </tbody>\n",
       "</table>\n",
       "</div>"
      ],
      "text/plain": [
       "stroke     0    1\n",
       "gender           \n",
       "Female  2853  141\n",
       "Male    2007  108\n",
       "Other      1    0"
      ]
     },
     "execution_count": 12,
     "metadata": {},
     "output_type": "execute_result"
    }
   ],
   "source": [
    "pd.crosstab(df.gender, df.stroke)"
   ]
  },
  {
   "cell_type": "markdown",
   "id": "conventional-donor",
   "metadata": {},
   "source": [
    "**Female** with stroke are more than **Male**, There's an outlier with one sample in **other** gender we'll drop the sample."
   ]
  },
  {
   "cell_type": "code",
   "execution_count": 13,
   "id": "radio-raleigh",
   "metadata": {},
   "outputs": [],
   "source": [
    "df = df[df[\"gender\"] != \"Other\"]"
   ]
  },
  {
   "cell_type": "code",
   "execution_count": 14,
   "id": "polish-guide",
   "metadata": {},
   "outputs": [
    {
     "data": {
      "image/png": "[encoded data removed]",
      "text/plain": [
       "<Figure size 432x288 with 1 Axes>"
      ]
     },
     "metadata": {
      "needs_background": "light"
     },
     "output_type": "display_data"
    }
   ],
   "source": [
    "pd.crosstab(df.gender, df.stroke).plot(kind=\"bar\", color=[\"skyblue\", \"lightgreen\"]);"
   ]
  },
  {
   "cell_type": "markdown",
   "id": "individual-haven",
   "metadata": {},
   "source": [
    "### `Stroke` with respect to `ever_married`"
   ]
  },
  {
   "cell_type": "code",
   "execution_count": 15,
   "id": "gentle-colors",
   "metadata": {},
   "outputs": [
    {
     "data": {
      "text/html": [
       "<div>\n",
       "<style scoped>\n",
       "    .dataframe tbody tr th:only-of-type {\n",
       "        vertical-align: middle;\n",
       "    }\n",
       "\n",
       "    .dataframe tbody tr th {\n",
       "        vertical-align: top;\n",
       "    }\n",
       "\n",
       "    .dataframe thead th {\n",
       "        text-align: right;\n",
       "    }\n",
       "</style>\n",
       "<table border=\"1\" class=\"dataframe\">\n",
       "  <thead>\n",
       "    <tr style=\"text-align: right;\">\n",
       "      <th>stroke</th>\n",
       "      <th>0</th>\n",
       "      <th>1</th>\n",
       "    </tr>\n",
       "    <tr>\n",
       "      <th>ever_married</th>\n",
       "      <th></th>\n",
       "      <th></th>\n",
       "    </tr>\n",
       "  </thead>\n",
       "  <tbody>\n",
       "    <tr>\n",
       "      <th>No</th>\n",
       "      <td>1727</td>\n",
       "      <td>29</td>\n",
       "    </tr>\n",
       "    <tr>\n",
       "      <th>Yes</th>\n",
       "      <td>3133</td>\n",
       "      <td>220</td>\n",
       "    </tr>\n",
       "  </tbody>\n",
       "</table>\n",
       "</div>"
      ],
      "text/plain": [
       "stroke           0    1\n",
       "ever_married           \n",
       "No            1727   29\n",
       "Yes           3133  220"
      ]
     },
     "execution_count": 15,
     "metadata": {},
     "output_type": "execute_result"
    }
   ],
   "source": [
    "pd.crosstab(df[\"ever_married\"], df[\"stroke\"])"
   ]
  },
  {
   "cell_type": "markdown",
   "id": "intensive-trustee",
   "metadata": {},
   "source": [
    "**ever_married** people have stroke more than **never_married**. (Not sure what to say about this one 😜)"
   ]
  },
  {
   "cell_type": "code",
   "execution_count": 16,
   "id": "important-estate",
   "metadata": {},
   "outputs": [
    {
     "data": {
      "image/png": "[encoded data removed]",
      "text/plain": [
       "<Figure size 432x288 with 1 Axes>"
      ]
     },
     "metadata": {
      "needs_background": "light"
     },
     "output_type": "display_data"
    }
   ],
   "source": [
    "# Visualizing the crosstab\n",
    "pd.crosstab(df[\"ever_married\"], df[\"stroke\"]).plot(kind=\"bar\", color=[\"skyblue\", \"lightgreen\"]);"
   ]
  },
  {
   "cell_type": "markdown",
   "id": "black-poster",
   "metadata": {},
   "source": [
    "### `residence_type` with respect to `stroke`"
   ]
  },
  {
   "cell_type": "code",
   "execution_count": 17,
   "id": "dying-laundry",
   "metadata": {},
   "outputs": [
    {
     "data": {
      "text/html": [
       "<div>\n",
       "<style scoped>\n",
       "    .dataframe tbody tr th:only-of-type {\n",
       "        vertical-align: middle;\n",
       "    }\n",
       "\n",
       "    .dataframe tbody tr th {\n",
       "        vertical-align: top;\n",
       "    }\n",
       "\n",
       "    .dataframe thead th {\n",
       "        text-align: right;\n",
       "    }\n",
       "</style>\n",
       "<table border=\"1\" class=\"dataframe\">\n",
       "  <thead>\n",
       "    <tr style=\"text-align: right;\">\n",
       "      <th>stroke</th>\n",
       "      <th>0</th>\n",
       "      <th>1</th>\n",
       "    </tr>\n",
       "    <tr>\n",
       "      <th>Residence_type</th>\n",
       "      <th></th>\n",
       "      <th></th>\n",
       "    </tr>\n",
       "  </thead>\n",
       "  <tbody>\n",
       "    <tr>\n",
       "      <th>Rural</th>\n",
       "      <td>2399</td>\n",
       "      <td>114</td>\n",
       "    </tr>\n",
       "    <tr>\n",
       "      <th>Urban</th>\n",
       "      <td>2461</td>\n",
       "      <td>135</td>\n",
       "    </tr>\n",
       "  </tbody>\n",
       "</table>\n",
       "</div>"
      ],
      "text/plain": [
       "stroke             0    1\n",
       "Residence_type           \n",
       "Rural           2399  114\n",
       "Urban           2461  135"
      ]
     },
     "execution_count": 17,
     "metadata": {},
     "output_type": "execute_result"
    }
   ],
   "source": [
    "pd.crosstab(df[\"Residence_type\"], df[\"stroke\"])"
   ]
  },
  {
   "cell_type": "markdown",
   "id": "fabulous-symposium",
   "metadata": {},
   "source": [
    "**urban** people have a little edge than **rural** on stroke possiblity"
   ]
  },
  {
   "cell_type": "code",
   "execution_count": 18,
   "id": "modular-combat",
   "metadata": {},
   "outputs": [
    {
     "data": {
      "image/png": "[encoded data removed]",
      "text/plain": [
       "<Figure size 432x288 with 1 Axes>"
      ]
     },
     "metadata": {
      "needs_background": "light"
     },
     "output_type": "display_data"
    }
   ],
   "source": [
    "# Visualizing residence_type with target\n",
    "pd.crosstab(df[\"Residence_type\"], df[\"stroke\"]).plot(kind=\"bar\", color=[\"skyblue\", \"lightgreen\"]);"
   ]
  },
  {
   "cell_type": "markdown",
   "id": "deadly-richmond",
   "metadata": {},
   "source": [
    "### `smoking_type` with respect to `stroke`"
   ]
  },
  {
   "cell_type": "code",
   "execution_count": 19,
   "id": "exclusive-cartoon",
   "metadata": {},
   "outputs": [
    {
     "data": {
      "text/html": [
       "<div>\n",
       "<style scoped>\n",
       "    .dataframe tbody tr th:only-of-type {\n",
       "        vertical-align: middle;\n",
       "    }\n",
       "\n",
       "    .dataframe tbody tr th {\n",
       "        vertical-align: top;\n",
       "    }\n",
       "\n",
       "    .dataframe thead th {\n",
       "        text-align: right;\n",
       "    }\n",
       "</style>\n",
       "<table border=\"1\" class=\"dataframe\">\n",
       "  <thead>\n",
       "    <tr style=\"text-align: right;\">\n",
       "      <th>stroke</th>\n",
       "      <th>0</th>\n",
       "      <th>1</th>\n",
       "    </tr>\n",
       "    <tr>\n",
       "      <th>smoking_status</th>\n",
       "      <th></th>\n",
       "      <th></th>\n",
       "    </tr>\n",
       "  </thead>\n",
       "  <tbody>\n",
       "    <tr>\n",
       "      <th>Unknown</th>\n",
       "      <td>1497</td>\n",
       "      <td>47</td>\n",
       "    </tr>\n",
       "    <tr>\n",
       "      <th>formerly smoked</th>\n",
       "      <td>814</td>\n",
       "      <td>70</td>\n",
       "    </tr>\n",
       "    <tr>\n",
       "      <th>never smoked</th>\n",
       "      <td>1802</td>\n",
       "      <td>90</td>\n",
       "    </tr>\n",
       "    <tr>\n",
       "      <th>smokes</th>\n",
       "      <td>747</td>\n",
       "      <td>42</td>\n",
       "    </tr>\n",
       "  </tbody>\n",
       "</table>\n",
       "</div>"
      ],
      "text/plain": [
       "stroke              0   1\n",
       "smoking_status           \n",
       "Unknown          1497  47\n",
       "formerly smoked   814  70\n",
       "never smoked     1802  90\n",
       "smokes            747  42"
      ]
     },
     "execution_count": 19,
     "metadata": {},
     "output_type": "execute_result"
    }
   ],
   "source": [
    "pd.crosstab(df[\"smoking_status\"], df[\"stroke\"])"
   ]
  },
  {
   "cell_type": "code",
   "execution_count": 20,
   "id": "lesbian-constant",
   "metadata": {},
   "outputs": [
    {
     "data": {
      "image/png": "[encoded data removed]",
      "text/plain": [
       "<Figure size 432x288 with 1 Axes>"
      ]
     },
     "metadata": {
      "needs_background": "light"
     },
     "output_type": "display_data"
    }
   ],
   "source": [
    "pd.crosstab(df[\"smoking_status\"], df[\"stroke\"]).plot(kind=\"bar\");"
   ]
  },
  {
   "cell_type": "code",
   "execution_count": 21,
   "id": "chief-insulation",
   "metadata": {},
   "outputs": [
    {
     "data": {
      "text/plain": [
       "never smoked       0.370327\n",
       "Unknown            0.302212\n",
       "formerly smoked    0.173028\n",
       "smokes             0.154433\n",
       "Name: smoking_status, dtype: float64"
      ]
     },
     "execution_count": 21,
     "metadata": {},
     "output_type": "execute_result"
    }
   ],
   "source": [
    "df[\"smoking_status\"].value_counts(normalize=True)"
   ]
  },
  {
   "cell_type": "markdown",
   "id": "center-subcommittee",
   "metadata": {},
   "source": [
    "**never smoked** are affected by stroke higher than other categories, but the sample size for never_smoked is 37%."
   ]
  },
  {
   "cell_type": "markdown",
   "id": "labeled-negotiation",
   "metadata": {},
   "source": [
    "### `work_type` with respect to `stroke`"
   ]
  },
  {
   "cell_type": "code",
   "execution_count": 22,
   "id": "interim-athens",
   "metadata": {},
   "outputs": [
    {
     "data": {
      "text/html": [
       "<div>\n",
       "<style scoped>\n",
       "    .dataframe tbody tr th:only-of-type {\n",
       "        vertical-align: middle;\n",
       "    }\n",
       "\n",
       "    .dataframe tbody tr th {\n",
       "        vertical-align: top;\n",
       "    }\n",
       "\n",
       "    .dataframe thead th {\n",
       "        text-align: right;\n",
       "    }\n",
       "</style>\n",
       "<table border=\"1\" class=\"dataframe\">\n",
       "  <thead>\n",
       "    <tr style=\"text-align: right;\">\n",
       "      <th>stroke</th>\n",
       "      <th>0</th>\n",
       "      <th>1</th>\n",
       "    </tr>\n",
       "    <tr>\n",
       "      <th>work_type</th>\n",
       "      <th></th>\n",
       "      <th></th>\n",
       "    </tr>\n",
       "  </thead>\n",
       "  <tbody>\n",
       "    <tr>\n",
       "      <th>Govt_job</th>\n",
       "      <td>624</td>\n",
       "      <td>33</td>\n",
       "    </tr>\n",
       "    <tr>\n",
       "      <th>Never_worked</th>\n",
       "      <td>22</td>\n",
       "      <td>0</td>\n",
       "    </tr>\n",
       "    <tr>\n",
       "      <th>Private</th>\n",
       "      <td>2775</td>\n",
       "      <td>149</td>\n",
       "    </tr>\n",
       "    <tr>\n",
       "      <th>Self-employed</th>\n",
       "      <td>754</td>\n",
       "      <td>65</td>\n",
       "    </tr>\n",
       "    <tr>\n",
       "      <th>children</th>\n",
       "      <td>685</td>\n",
       "      <td>2</td>\n",
       "    </tr>\n",
       "  </tbody>\n",
       "</table>\n",
       "</div>"
      ],
      "text/plain": [
       "stroke            0    1\n",
       "work_type               \n",
       "Govt_job        624   33\n",
       "Never_worked     22    0\n",
       "Private        2775  149\n",
       "Self-employed   754   65\n",
       "children        685    2"
      ]
     },
     "execution_count": 22,
     "metadata": {},
     "output_type": "execute_result"
    }
   ],
   "source": [
    "pd.crosstab(df[\"work_type\"], df[\"stroke\"])"
   ]
  },
  {
   "cell_type": "code",
   "execution_count": 23,
   "id": "surgical-premium",
   "metadata": {},
   "outputs": [
    {
     "data": {
      "text/plain": [
       "Private          0.572323\n",
       "Self-employed    0.160305\n",
       "children         0.134469\n",
       "Govt_job         0.128597\n",
       "Never_worked     0.004306\n",
       "Name: work_type, dtype: float64"
      ]
     },
     "execution_count": 23,
     "metadata": {},
     "output_type": "execute_result"
    }
   ],
   "source": [
    "df[\"work_type\"].value_counts(normalize=True)"
   ]
  },
  {
   "cell_type": "code",
   "execution_count": 24,
   "id": "documentary-friday",
   "metadata": {},
   "outputs": [
    {
     "data": {
      "image/png": "[encoded data removed]",
      "text/plain": [
       "<Figure size 432x288 with 1 Axes>"
      ]
     },
     "metadata": {
      "needs_background": "light"
     },
     "output_type": "display_data"
    }
   ],
   "source": [
    "pd.crosstab(df[\"work_type\"], df[\"stroke\"]).plot(kind=\"bar\");"
   ]
  },
  {
   "cell_type": "markdown",
   "id": "fitted-spoke",
   "metadata": {},
   "source": [
    "People in **private** are more susceptibe to stroke compared to other categories, but *private* category sample is 57% - conveying they have the option to visit the hospital or have a health check more compared to other categories"
   ]
  },
  {
   "cell_type": "markdown",
   "id": "annoying-exemption",
   "metadata": {},
   "source": [
    "### `hyper_tension` with respect to `stroke`"
   ]
  },
  {
   "cell_type": "code",
   "execution_count": 25,
   "id": "intimate-lending",
   "metadata": {},
   "outputs": [
    {
     "data": {
      "text/html": [
       "<div>\n",
       "<style scoped>\n",
       "    .dataframe tbody tr th:only-of-type {\n",
       "        vertical-align: middle;\n",
       "    }\n",
       "\n",
       "    .dataframe tbody tr th {\n",
       "        vertical-align: top;\n",
       "    }\n",
       "\n",
       "    .dataframe thead th {\n",
       "        text-align: right;\n",
       "    }\n",
       "</style>\n",
       "<table border=\"1\" class=\"dataframe\">\n",
       "  <thead>\n",
       "    <tr style=\"text-align: right;\">\n",
       "      <th>stroke</th>\n",
       "      <th>0</th>\n",
       "      <th>1</th>\n",
       "    </tr>\n",
       "    <tr>\n",
       "      <th>hypertension</th>\n",
       "      <th></th>\n",
       "      <th></th>\n",
       "    </tr>\n",
       "  </thead>\n",
       "  <tbody>\n",
       "    <tr>\n",
       "      <th>0</th>\n",
       "      <td>4428</td>\n",
       "      <td>183</td>\n",
       "    </tr>\n",
       "    <tr>\n",
       "      <th>1</th>\n",
       "      <td>432</td>\n",
       "      <td>66</td>\n",
       "    </tr>\n",
       "  </tbody>\n",
       "</table>\n",
       "</div>"
      ],
      "text/plain": [
       "stroke           0    1\n",
       "hypertension           \n",
       "0             4428  183\n",
       "1              432   66"
      ]
     },
     "execution_count": 25,
     "metadata": {},
     "output_type": "execute_result"
    }
   ],
   "source": [
    "pd.crosstab(df[\"hypertension\"], df[\"stroke\"])"
   ]
  },
  {
   "cell_type": "markdown",
   "id": "indoor-exhibit",
   "metadata": {},
   "source": [
    "**hypertension** people are more susceptible to stroke"
   ]
  },
  {
   "cell_type": "code",
   "execution_count": 26,
   "id": "frank-switzerland",
   "metadata": {},
   "outputs": [
    {
     "data": {
      "image/png": "[encoded data removed]",
      "text/plain": [
       "<Figure size 432x288 with 1 Axes>"
      ]
     },
     "metadata": {
      "needs_background": "light"
     },
     "output_type": "display_data"
    }
   ],
   "source": [
    "pd.crosstab(df[\"hypertension\"], df[\"stroke\"]).plot(kind=\"bar\", color=[\"skyblue\", \"lightgreen\"]);"
   ]
  },
  {
   "cell_type": "markdown",
   "id": "assisted-refund",
   "metadata": {},
   "source": [
    "### `age` with respect to `stroke`"
   ]
  },
  {
   "cell_type": "code",
   "execution_count": 27,
   "id": "emerging-imaging",
   "metadata": {},
   "outputs": [
    {
     "data": {
      "image/png": "[encoded data removed]",
      "text/plain": [
       "<Figure size 432x288 with 1 Axes>"
      ]
     },
     "metadata": {
      "needs_background": "light"
     },
     "output_type": "display_data"
    }
   ],
   "source": [
    "pd.crosstab(df[\"age\"], df[\"stroke\"]).plot(kind=\"line\");"
   ]
  },
  {
   "cell_type": "markdown",
   "id": "portable-confirmation",
   "metadata": {},
   "source": [
    "**Aged** people are more susceptible to stroke than young ones"
   ]
  },
  {
   "cell_type": "markdown",
   "id": "rocky-oxide",
   "metadata": {},
   "source": [
    "### `bmi` with respect to `stroke`"
   ]
  },
  {
   "cell_type": "code",
   "execution_count": 28,
   "id": "substantial-valuable",
   "metadata": {},
   "outputs": [
    {
     "data": {
      "image/png": "[encoded data removed]",
      "text/plain": [
       "<Figure size 432x288 with 1 Axes>"
      ]
     },
     "metadata": {
      "needs_background": "light"
     },
     "output_type": "display_data"
    }
   ],
   "source": [
    "pd.crosstab(df[\"bmi\"], df[\"stroke\"]).plot(kind=\"line\");"
   ]
  },
  {
   "cell_type": "markdown",
   "id": "extra-crazy",
   "metadata": {},
   "source": [
    "### `age` and `bmi` impact on `stroke`"
   ]
  },
  {
   "cell_type": "code",
   "execution_count": 29,
   "id": "trying-hunger",
   "metadata": {},
   "outputs": [
    {
     "data": {
      "image/png": "[encoded data removed]",
      "text/plain": [
       "<Figure size 720x432 with 1 Axes>"
      ]
     },
     "metadata": {
      "needs_background": "light"
     },
     "output_type": "display_data"
    }
   ],
   "source": [
    "# Create another figure\n",
    "plt.figure(figsize=(10,6))\n",
    "\n",
    "# Start with positve examples\n",
    "plt.scatter(df.age[df.stroke==0], \n",
    "            df.bmi[df.stroke==0], \n",
    "            c=\"lightblue\") # define it as a scatter figure\n",
    "\n",
    "# Now for negative examples, we want them on the same plot, so we call plt again\n",
    "plt.scatter(df.age[df.stroke==1], \n",
    "            df.bmi[df.stroke==1], \n",
    "            c=\"salmon\") # axis always come as (x, y)\n",
    "\n",
    "# Add some helpful info\n",
    "plt.title(\"Stroke in function of Age and Hyper tension\")\n",
    "plt.xlabel(\"Age\")\n",
    "plt.legend([\"No Disease\", \"Disease\"])\n",
    "plt.ylabel(\"BMI\");"
   ]
  },
  {
   "cell_type": "markdown",
   "id": "twenty-coordinator",
   "metadata": {},
   "source": [
    "Higer age and less bmi are contributing towards a possiblity in stroke"
   ]
  },
  {
   "cell_type": "markdown",
   "id": "whole-administration",
   "metadata": {},
   "source": [
    "### `age` and `average_glucose_level` impact on `stroke`"
   ]
  },
  {
   "cell_type": "code",
   "execution_count": 30,
   "id": "flexible-sleep",
   "metadata": {},
   "outputs": [
    {
     "data": {
      "image/png": "[encoded data removed]",
      "text/plain": [
       "<Figure size 720x432 with 1 Axes>"
      ]
     },
     "metadata": {
      "needs_background": "light"
     },
     "output_type": "display_data"
    }
   ],
   "source": [
    "# Create another figure\n",
    "plt.figure(figsize=(10,6))\n",
    "\n",
    "# Start with positve examples\n",
    "plt.scatter(df.age[df.stroke==0], \n",
    "            df.avg_glucose_level[df.stroke==0], \n",
    "            c=\"lightblue\") # define it as a scatter figure\n",
    "\n",
    "# Now for negative examples, we want them on the same plot, so we call plt again\n",
    "plt.scatter(df.age[df.stroke==1], \n",
    "            df.avg_glucose_level[df.stroke==1], \n",
    "            c=\"salmon\") # axis always come as (x, y)\n",
    "\n",
    "# Add some helpful info\n",
    "plt.title(\"Stroke in function of Age and Hyper tension\")\n",
    "plt.xlabel(\"Age\")\n",
    "plt.legend([\"No Disease\", \"Disease\"])\n",
    "plt.ylabel(\"Average Glucose level\");"
   ]
  },
  {
   "cell_type": "markdown",
   "id": "completed-pension",
   "metadata": {},
   "source": [
    "Older people with low glucose level are more susceptible to stroke"
   ]
  },
  {
   "cell_type": "code",
   "execution_count": 31,
   "id": "disciplinary-stocks",
   "metadata": {},
   "outputs": [
    {
     "data": {
      "text/plain": [
       "id                     0\n",
       "gender                 0\n",
       "age                    0\n",
       "hypertension           0\n",
       "heart_disease          0\n",
       "ever_married           0\n",
       "work_type              0\n",
       "Residence_type         0\n",
       "avg_glucose_level      0\n",
       "bmi                  201\n",
       "smoking_status         0\n",
       "stroke                 0\n",
       "dtype: int64"
      ]
     },
     "execution_count": 31,
     "metadata": {},
     "output_type": "execute_result"
    }
   ],
   "source": [
    "df.isna().sum()"
   ]
  },
  {
   "cell_type": "code",
   "execution_count": 32,
   "id": "weekly-coupon",
   "metadata": {},
   "outputs": [],
   "source": [
    "df_with_nan_bmi = df[df[\"bmi\"].isnull()]\n",
    "df_with_nan_bmi.to_csv(\"data/stroke/nan-bmi-samples.csv\")"
   ]
  },
  {
   "cell_type": "code",
   "execution_count": 33,
   "id": "reported-haven",
   "metadata": {},
   "outputs": [],
   "source": [
    "# Now we've saved the nan bmi samples to a scv let's drop them from the dataframe\n",
    "df = df.dropna()"
   ]
  },
  {
   "cell_type": "markdown",
   "id": "complete-prediction",
   "metadata": {},
   "source": [
    "Let's convert the categorical features to numbers using pandas"
   ]
  },
  {
   "cell_type": "code",
   "execution_count": 34,
   "id": "northern-suggestion",
   "metadata": {},
   "outputs": [
    {
     "data": {
      "text/html": [
       "<div>\n",
       "<style scoped>\n",
       "    .dataframe tbody tr th:only-of-type {\n",
       "        vertical-align: middle;\n",
       "    }\n",
       "\n",
       "    .dataframe tbody tr th {\n",
       "        vertical-align: top;\n",
       "    }\n",
       "\n",
       "    .dataframe thead th {\n",
       "        text-align: right;\n",
       "    }\n",
       "</style>\n",
       "<table border=\"1\" class=\"dataframe\">\n",
       "  <thead>\n",
       "    <tr style=\"text-align: right;\">\n",
       "      <th></th>\n",
       "      <th>id</th>\n",
       "      <th>gender</th>\n",
       "      <th>age</th>\n",
       "      <th>hypertension</th>\n",
       "      <th>heart_disease</th>\n",
       "      <th>ever_married</th>\n",
       "      <th>work_type</th>\n",
       "      <th>Residence_type</th>\n",
       "      <th>avg_glucose_level</th>\n",
       "      <th>bmi</th>\n",
       "      <th>smoking_status</th>\n",
       "      <th>stroke</th>\n",
       "    </tr>\n",
       "  </thead>\n",
       "  <tbody>\n",
       "    <tr>\n",
       "      <th>0</th>\n",
       "      <td>9046</td>\n",
       "      <td>Male</td>\n",
       "      <td>67.0</td>\n",
       "      <td>0</td>\n",
       "      <td>1</td>\n",
       "      <td>Yes</td>\n",
       "      <td>Private</td>\n",
       "      <td>Urban</td>\n",
       "      <td>228.69</td>\n",
       "      <td>36.6</td>\n",
       "      <td>formerly smoked</td>\n",
       "      <td>1</td>\n",
       "    </tr>\n",
       "    <tr>\n",
       "      <th>2</th>\n",
       "      <td>31112</td>\n",
       "      <td>Male</td>\n",
       "      <td>80.0</td>\n",
       "      <td>0</td>\n",
       "      <td>1</td>\n",
       "      <td>Yes</td>\n",
       "      <td>Private</td>\n",
       "      <td>Rural</td>\n",
       "      <td>105.92</td>\n",
       "      <td>32.5</td>\n",
       "      <td>never smoked</td>\n",
       "      <td>1</td>\n",
       "    </tr>\n",
       "    <tr>\n",
       "      <th>3</th>\n",
       "      <td>60182</td>\n",
       "      <td>Female</td>\n",
       "      <td>49.0</td>\n",
       "      <td>0</td>\n",
       "      <td>0</td>\n",
       "      <td>Yes</td>\n",
       "      <td>Private</td>\n",
       "      <td>Urban</td>\n",
       "      <td>171.23</td>\n",
       "      <td>34.4</td>\n",
       "      <td>smokes</td>\n",
       "      <td>1</td>\n",
       "    </tr>\n",
       "    <tr>\n",
       "      <th>4</th>\n",
       "      <td>1665</td>\n",
       "      <td>Female</td>\n",
       "      <td>79.0</td>\n",
       "      <td>1</td>\n",
       "      <td>0</td>\n",
       "      <td>Yes</td>\n",
       "      <td>Self-employed</td>\n",
       "      <td>Rural</td>\n",
       "      <td>174.12</td>\n",
       "      <td>24.0</td>\n",
       "      <td>never smoked</td>\n",
       "      <td>1</td>\n",
       "    </tr>\n",
       "    <tr>\n",
       "      <th>5</th>\n",
       "      <td>56669</td>\n",
       "      <td>Male</td>\n",
       "      <td>81.0</td>\n",
       "      <td>0</td>\n",
       "      <td>0</td>\n",
       "      <td>Yes</td>\n",
       "      <td>Private</td>\n",
       "      <td>Urban</td>\n",
       "      <td>186.21</td>\n",
       "      <td>29.0</td>\n",
       "      <td>formerly smoked</td>\n",
       "      <td>1</td>\n",
       "    </tr>\n",
       "  </tbody>\n",
       "</table>\n",
       "</div>"
      ],
      "text/plain": [
       "      id  gender   age  hypertension  heart_disease ever_married  \\\n",
       "0   9046    Male  67.0             0              1          Yes   \n",
       "2  31112    Male  80.0             0              1          Yes   \n",
       "3  60182  Female  49.0             0              0          Yes   \n",
       "4   1665  Female  79.0             1              0          Yes   \n",
       "5  56669    Male  81.0             0              0          Yes   \n",
       "\n",
       "       work_type Residence_type  avg_glucose_level   bmi   smoking_status  \\\n",
       "0        Private          Urban             228.69  36.6  formerly smoked   \n",
       "2        Private          Rural             105.92  32.5     never smoked   \n",
       "3        Private          Urban             171.23  34.4           smokes   \n",
       "4  Self-employed          Rural             174.12  24.0     never smoked   \n",
       "5        Private          Urban             186.21  29.0  formerly smoked   \n",
       "\n",
       "   stroke  \n",
       "0       1  \n",
       "2       1  \n",
       "3       1  \n",
       "4       1  \n",
       "5       1  "
      ]
     },
     "execution_count": 34,
     "metadata": {},
     "output_type": "execute_result"
    }
   ],
   "source": [
    "df.head()"
   ]
  },
  {
   "cell_type": "code",
   "execution_count": 35,
   "id": "coupled-playing",
   "metadata": {},
   "outputs": [
    {
     "data": {
      "text/plain": [
       "array(['Male', 'Female'], dtype=object)"
      ]
     },
     "execution_count": 35,
     "metadata": {},
     "output_type": "execute_result"
    }
   ],
   "source": [
    "df[\"gender\"].unique()"
   ]
  },
  {
   "cell_type": "markdown",
   "id": "worldwide-infrastructure",
   "metadata": {},
   "source": [
    "### Getting data ready\n",
    "\n",
    "1. Let's convert `Male` to `0` and `Female` to `1` in `gender` feature"
   ]
  },
  {
   "cell_type": "code",
   "execution_count": 36,
   "id": "abroad-maximum",
   "metadata": {},
   "outputs": [],
   "source": [
    "df['gender'] = np.where((df.gender == 'Male'),'0',df.gender)\n",
    "df['gender'] = np.where((df.gender == 'Female'),'1',df.gender)"
   ]
  },
  {
   "cell_type": "code",
   "execution_count": 37,
   "id": "innocent-custom",
   "metadata": {},
   "outputs": [],
   "source": [
    "df[\"gender\"] = df[\"gender\"].astype('int64')"
   ]
  },
  {
   "cell_type": "code",
   "execution_count": 38,
   "id": "changed-houston",
   "metadata": {},
   "outputs": [
    {
     "name": "stdout",
     "output_type": "stream",
     "text": [
      "<class 'pandas.core.frame.DataFrame'>\n",
      "Int64Index: 4908 entries, 0 to 5109\n",
      "Data columns (total 12 columns):\n",
      " #   Column             Non-Null Count  Dtype  \n",
      "---  ------             --------------  -----  \n",
      " 0   id                 4908 non-null   int64  \n",
      " 1   gender             4908 non-null   int64  \n",
      " 2   age                4908 non-null   float64\n",
      " 3   hypertension       4908 non-null   int64  \n",
      " 4   heart_disease      4908 non-null   int64  \n",
      " 5   ever_married       4908 non-null   object \n",
      " 6   work_type          4908 non-null   object \n",
      " 7   Residence_type     4908 non-null   object \n",
      " 8   avg_glucose_level  4908 non-null   float64\n",
      " 9   bmi                4908 non-null   float64\n",
      " 10  smoking_status     4908 non-null   object \n",
      " 11  stroke             4908 non-null   int64  \n",
      "dtypes: float64(3), int64(5), object(4)\n",
      "memory usage: 498.5+ KB\n"
     ]
    }
   ],
   "source": [
    "df.info()"
   ]
  },
  {
   "cell_type": "code",
   "execution_count": 39,
   "id": "urban-antibody",
   "metadata": {},
   "outputs": [
    {
     "data": {
      "text/plain": [
       "array(['Yes', 'No'], dtype=object)"
      ]
     },
     "execution_count": 39,
     "metadata": {},
     "output_type": "execute_result"
    }
   ],
   "source": [
    "df[\"ever_married\"].unique()"
   ]
  },
  {
   "cell_type": "markdown",
   "id": "composite-harbor",
   "metadata": {},
   "source": [
    "2. Let's convert `Yes` to `0` and `No` to `1` in `ever_married` feature"
   ]
  },
  {
   "cell_type": "code",
   "execution_count": 40,
   "id": "horizontal-netscape",
   "metadata": {},
   "outputs": [
    {
     "data": {
      "text/html": [
       "<div>\n",
       "<style scoped>\n",
       "    .dataframe tbody tr th:only-of-type {\n",
       "        vertical-align: middle;\n",
       "    }\n",
       "\n",
       "    .dataframe tbody tr th {\n",
       "        vertical-align: top;\n",
       "    }\n",
       "\n",
       "    .dataframe thead th {\n",
       "        text-align: right;\n",
       "    }\n",
       "</style>\n",
       "<table border=\"1\" class=\"dataframe\">\n",
       "  <thead>\n",
       "    <tr style=\"text-align: right;\">\n",
       "      <th></th>\n",
       "      <th>id</th>\n",
       "      <th>gender</th>\n",
       "      <th>age</th>\n",
       "      <th>hypertension</th>\n",
       "      <th>heart_disease</th>\n",
       "      <th>ever_married</th>\n",
       "      <th>work_type</th>\n",
       "      <th>Residence_type</th>\n",
       "      <th>avg_glucose_level</th>\n",
       "      <th>bmi</th>\n",
       "      <th>smoking_status</th>\n",
       "      <th>stroke</th>\n",
       "    </tr>\n",
       "  </thead>\n",
       "  <tbody>\n",
       "    <tr>\n",
       "      <th>0</th>\n",
       "      <td>9046</td>\n",
       "      <td>0</td>\n",
       "      <td>67.0</td>\n",
       "      <td>0</td>\n",
       "      <td>1</td>\n",
       "      <td>0</td>\n",
       "      <td>Private</td>\n",
       "      <td>Urban</td>\n",
       "      <td>228.69</td>\n",
       "      <td>36.6</td>\n",
       "      <td>formerly smoked</td>\n",
       "      <td>1</td>\n",
       "    </tr>\n",
       "    <tr>\n",
       "      <th>2</th>\n",
       "      <td>31112</td>\n",
       "      <td>0</td>\n",
       "      <td>80.0</td>\n",
       "      <td>0</td>\n",
       "      <td>1</td>\n",
       "      <td>0</td>\n",
       "      <td>Private</td>\n",
       "      <td>Rural</td>\n",
       "      <td>105.92</td>\n",
       "      <td>32.5</td>\n",
       "      <td>never smoked</td>\n",
       "      <td>1</td>\n",
       "    </tr>\n",
       "    <tr>\n",
       "      <th>3</th>\n",
       "      <td>60182</td>\n",
       "      <td>1</td>\n",
       "      <td>49.0</td>\n",
       "      <td>0</td>\n",
       "      <td>0</td>\n",
       "      <td>0</td>\n",
       "      <td>Private</td>\n",
       "      <td>Urban</td>\n",
       "      <td>171.23</td>\n",
       "      <td>34.4</td>\n",
       "      <td>smokes</td>\n",
       "      <td>1</td>\n",
       "    </tr>\n",
       "    <tr>\n",
       "      <th>4</th>\n",
       "      <td>1665</td>\n",
       "      <td>1</td>\n",
       "      <td>79.0</td>\n",
       "      <td>1</td>\n",
       "      <td>0</td>\n",
       "      <td>0</td>\n",
       "      <td>Self-employed</td>\n",
       "      <td>Rural</td>\n",
       "      <td>174.12</td>\n",
       "      <td>24.0</td>\n",
       "      <td>never smoked</td>\n",
       "      <td>1</td>\n",
       "    </tr>\n",
       "    <tr>\n",
       "      <th>5</th>\n",
       "      <td>56669</td>\n",
       "      <td>0</td>\n",
       "      <td>81.0</td>\n",
       "      <td>0</td>\n",
       "      <td>0</td>\n",
       "      <td>0</td>\n",
       "      <td>Private</td>\n",
       "      <td>Urban</td>\n",
       "      <td>186.21</td>\n",
       "      <td>29.0</td>\n",
       "      <td>formerly smoked</td>\n",
       "      <td>1</td>\n",
       "    </tr>\n",
       "  </tbody>\n",
       "</table>\n",
       "</div>"
      ],
      "text/plain": [
       "      id  gender   age  hypertension  heart_disease  ever_married  \\\n",
       "0   9046       0  67.0             0              1             0   \n",
       "2  31112       0  80.0             0              1             0   \n",
       "3  60182       1  49.0             0              0             0   \n",
       "4   1665       1  79.0             1              0             0   \n",
       "5  56669       0  81.0             0              0             0   \n",
       "\n",
       "       work_type Residence_type  avg_glucose_level   bmi   smoking_status  \\\n",
       "0        Private          Urban             228.69  36.6  formerly smoked   \n",
       "2        Private          Rural             105.92  32.5     never smoked   \n",
       "3        Private          Urban             171.23  34.4           smokes   \n",
       "4  Self-employed          Rural             174.12  24.0     never smoked   \n",
       "5        Private          Urban             186.21  29.0  formerly smoked   \n",
       "\n",
       "   stroke  \n",
       "0       1  \n",
       "2       1  \n",
       "3       1  \n",
       "4       1  \n",
       "5       1  "
      ]
     },
     "execution_count": 40,
     "metadata": {},
     "output_type": "execute_result"
    }
   ],
   "source": [
    "df['ever_married'] = np.where((df.ever_married == 'Yes'),'0',df.ever_married)\n",
    "df['ever_married'] = np.where((df.ever_married == 'No'),'1',df.ever_married)\n",
    "df[\"ever_married\"] = df[\"ever_married\"].astype('int64')\n",
    "df.head()"
   ]
  },
  {
   "cell_type": "code",
   "execution_count": 41,
   "id": "lesser-disposal",
   "metadata": {},
   "outputs": [
    {
     "data": {
      "text/plain": [
       "array(['Private', 'Self-employed', 'Govt_job', 'children', 'Never_worked'],\n",
       "      dtype=object)"
      ]
     },
     "execution_count": 41,
     "metadata": {},
     "output_type": "execute_result"
    }
   ],
   "source": [
    "df[\"work_type\"].unique()"
   ]
  },
  {
   "cell_type": "markdown",
   "id": "bright-reader",
   "metadata": {},
   "source": [
    "3. Let's convert `work_type` feature using below mapping\n",
    "* `Private`: `0`\n",
    "* `Self-employed`: `1`\n",
    "* `Govt_job`: `2`\n",
    "* `children`: `3`\n",
    "* `Never_worked`: `4`"
   ]
  },
  {
   "cell_type": "code",
   "execution_count": 42,
   "id": "relevant-continuity",
   "metadata": {},
   "outputs": [
    {
     "data": {
      "text/html": [
       "<div>\n",
       "<style scoped>\n",
       "    .dataframe tbody tr th:only-of-type {\n",
       "        vertical-align: middle;\n",
       "    }\n",
       "\n",
       "    .dataframe tbody tr th {\n",
       "        vertical-align: top;\n",
       "    }\n",
       "\n",
       "    .dataframe thead th {\n",
       "        text-align: right;\n",
       "    }\n",
       "</style>\n",
       "<table border=\"1\" class=\"dataframe\">\n",
       "  <thead>\n",
       "    <tr style=\"text-align: right;\">\n",
       "      <th></th>\n",
       "      <th>id</th>\n",
       "      <th>gender</th>\n",
       "      <th>age</th>\n",
       "      <th>hypertension</th>\n",
       "      <th>heart_disease</th>\n",
       "      <th>ever_married</th>\n",
       "      <th>work_type</th>\n",
       "      <th>Residence_type</th>\n",
       "      <th>avg_glucose_level</th>\n",
       "      <th>bmi</th>\n",
       "      <th>smoking_status</th>\n",
       "      <th>stroke</th>\n",
       "    </tr>\n",
       "  </thead>\n",
       "  <tbody>\n",
       "    <tr>\n",
       "      <th>0</th>\n",
       "      <td>9046</td>\n",
       "      <td>0</td>\n",
       "      <td>67.0</td>\n",
       "      <td>0</td>\n",
       "      <td>1</td>\n",
       "      <td>0</td>\n",
       "      <td>0</td>\n",
       "      <td>Urban</td>\n",
       "      <td>228.69</td>\n",
       "      <td>36.6</td>\n",
       "      <td>formerly smoked</td>\n",
       "      <td>1</td>\n",
       "    </tr>\n",
       "    <tr>\n",
       "      <th>2</th>\n",
       "      <td>31112</td>\n",
       "      <td>0</td>\n",
       "      <td>80.0</td>\n",
       "      <td>0</td>\n",
       "      <td>1</td>\n",
       "      <td>0</td>\n",
       "      <td>0</td>\n",
       "      <td>Rural</td>\n",
       "      <td>105.92</td>\n",
       "      <td>32.5</td>\n",
       "      <td>never smoked</td>\n",
       "      <td>1</td>\n",
       "    </tr>\n",
       "    <tr>\n",
       "      <th>3</th>\n",
       "      <td>60182</td>\n",
       "      <td>1</td>\n",
       "      <td>49.0</td>\n",
       "      <td>0</td>\n",
       "      <td>0</td>\n",
       "      <td>0</td>\n",
       "      <td>0</td>\n",
       "      <td>Urban</td>\n",
       "      <td>171.23</td>\n",
       "      <td>34.4</td>\n",
       "      <td>smokes</td>\n",
       "      <td>1</td>\n",
       "    </tr>\n",
       "    <tr>\n",
       "      <th>4</th>\n",
       "      <td>1665</td>\n",
       "      <td>1</td>\n",
       "      <td>79.0</td>\n",
       "      <td>1</td>\n",
       "      <td>0</td>\n",
       "      <td>0</td>\n",
       "      <td>1</td>\n",
       "      <td>Rural</td>\n",
       "      <td>174.12</td>\n",
       "      <td>24.0</td>\n",
       "      <td>never smoked</td>\n",
       "      <td>1</td>\n",
       "    </tr>\n",
       "    <tr>\n",
       "      <th>5</th>\n",
       "      <td>56669</td>\n",
       "      <td>0</td>\n",
       "      <td>81.0</td>\n",
       "      <td>0</td>\n",
       "      <td>0</td>\n",
       "      <td>0</td>\n",
       "      <td>0</td>\n",
       "      <td>Urban</td>\n",
       "      <td>186.21</td>\n",
       "      <td>29.0</td>\n",
       "      <td>formerly smoked</td>\n",
       "      <td>1</td>\n",
       "    </tr>\n",
       "  </tbody>\n",
       "</table>\n",
       "</div>"
      ],
      "text/plain": [
       "      id  gender   age  hypertension  heart_disease  ever_married  work_type  \\\n",
       "0   9046       0  67.0             0              1             0          0   \n",
       "2  31112       0  80.0             0              1             0          0   \n",
       "3  60182       1  49.0             0              0             0          0   \n",
       "4   1665       1  79.0             1              0             0          1   \n",
       "5  56669       0  81.0             0              0             0          0   \n",
       "\n",
       "  Residence_type  avg_glucose_level   bmi   smoking_status  stroke  \n",
       "0          Urban             228.69  36.6  formerly smoked       1  \n",
       "2          Rural             105.92  32.5     never smoked       1  \n",
       "3          Urban             171.23  34.4           smokes       1  \n",
       "4          Rural             174.12  24.0     never smoked       1  \n",
       "5          Urban             186.21  29.0  formerly smoked       1  "
      ]
     },
     "execution_count": 42,
     "metadata": {},
     "output_type": "execute_result"
    }
   ],
   "source": [
    "df['work_type'] = np.where((df.work_type == 'Private'),'0',df.work_type)\n",
    "df['work_type'] = np.where((df.work_type == 'Self-employed'),'1',df.work_type)\n",
    "df['work_type'] = np.where((df.work_type == 'Govt_job'),'2',df.work_type)\n",
    "df['work_type'] = np.where((df.work_type == 'children'),'3',df.work_type)\n",
    "df['work_type'] = np.where((df.work_type == 'Never_worked'),'4',df.work_type)\n",
    "df[\"work_type\"] = df[\"work_type\"].astype('int64')\n",
    "df.head()"
   ]
  },
  {
   "cell_type": "code",
   "execution_count": 43,
   "id": "iraqi-danish",
   "metadata": {},
   "outputs": [
    {
     "data": {
      "text/plain": [
       "array(['Urban', 'Rural'], dtype=object)"
      ]
     },
     "execution_count": 43,
     "metadata": {},
     "output_type": "execute_result"
    }
   ],
   "source": [
    "df[\"Residence_type\"].unique()"
   ]
  },
  {
   "cell_type": "markdown",
   "id": "designing-explanation",
   "metadata": {},
   "source": [
    "4. Let's convert `residence_type feature`, \n",
    "* `Urban`: `0`\n",
    "* `Rural`: `1`"
   ]
  },
  {
   "cell_type": "code",
   "execution_count": 44,
   "id": "third-stick",
   "metadata": {},
   "outputs": [
    {
     "data": {
      "text/html": [
       "<div>\n",
       "<style scoped>\n",
       "    .dataframe tbody tr th:only-of-type {\n",
       "        vertical-align: middle;\n",
       "    }\n",
       "\n",
       "    .dataframe tbody tr th {\n",
       "        vertical-align: top;\n",
       "    }\n",
       "\n",
       "    .dataframe thead th {\n",
       "        text-align: right;\n",
       "    }\n",
       "</style>\n",
       "<table border=\"1\" class=\"dataframe\">\n",
       "  <thead>\n",
       "    <tr style=\"text-align: right;\">\n",
       "      <th></th>\n",
       "      <th>id</th>\n",
       "      <th>gender</th>\n",
       "      <th>age</th>\n",
       "      <th>hypertension</th>\n",
       "      <th>heart_disease</th>\n",
       "      <th>ever_married</th>\n",
       "      <th>work_type</th>\n",
       "      <th>Residence_type</th>\n",
       "      <th>avg_glucose_level</th>\n",
       "      <th>bmi</th>\n",
       "      <th>smoking_status</th>\n",
       "      <th>stroke</th>\n",
       "    </tr>\n",
       "  </thead>\n",
       "  <tbody>\n",
       "    <tr>\n",
       "      <th>0</th>\n",
       "      <td>9046</td>\n",
       "      <td>0</td>\n",
       "      <td>67.0</td>\n",
       "      <td>0</td>\n",
       "      <td>1</td>\n",
       "      <td>0</td>\n",
       "      <td>0</td>\n",
       "      <td>0</td>\n",
       "      <td>228.69</td>\n",
       "      <td>36.6</td>\n",
       "      <td>formerly smoked</td>\n",
       "      <td>1</td>\n",
       "    </tr>\n",
       "    <tr>\n",
       "      <th>2</th>\n",
       "      <td>31112</td>\n",
       "      <td>0</td>\n",
       "      <td>80.0</td>\n",
       "      <td>0</td>\n",
       "      <td>1</td>\n",
       "      <td>0</td>\n",
       "      <td>0</td>\n",
       "      <td>1</td>\n",
       "      <td>105.92</td>\n",
       "      <td>32.5</td>\n",
       "      <td>never smoked</td>\n",
       "      <td>1</td>\n",
       "    </tr>\n",
       "    <tr>\n",
       "      <th>3</th>\n",
       "      <td>60182</td>\n",
       "      <td>1</td>\n",
       "      <td>49.0</td>\n",
       "      <td>0</td>\n",
       "      <td>0</td>\n",
       "      <td>0</td>\n",
       "      <td>0</td>\n",
       "      <td>0</td>\n",
       "      <td>171.23</td>\n",
       "      <td>34.4</td>\n",
       "      <td>smokes</td>\n",
       "      <td>1</td>\n",
       "    </tr>\n",
       "    <tr>\n",
       "      <th>4</th>\n",
       "      <td>1665</td>\n",
       "      <td>1</td>\n",
       "      <td>79.0</td>\n",
       "      <td>1</td>\n",
       "      <td>0</td>\n",
       "      <td>0</td>\n",
       "      <td>1</td>\n",
       "      <td>1</td>\n",
       "      <td>174.12</td>\n",
       "      <td>24.0</td>\n",
       "      <td>never smoked</td>\n",
       "      <td>1</td>\n",
       "    </tr>\n",
       "    <tr>\n",
       "      <th>5</th>\n",
       "      <td>56669</td>\n",
       "      <td>0</td>\n",
       "      <td>81.0</td>\n",
       "      <td>0</td>\n",
       "      <td>0</td>\n",
       "      <td>0</td>\n",
       "      <td>0</td>\n",
       "      <td>0</td>\n",
       "      <td>186.21</td>\n",
       "      <td>29.0</td>\n",
       "      <td>formerly smoked</td>\n",
       "      <td>1</td>\n",
       "    </tr>\n",
       "  </tbody>\n",
       "</table>\n",
       "</div>"
      ],
      "text/plain": [
       "      id  gender   age  hypertension  heart_disease  ever_married  work_type  \\\n",
       "0   9046       0  67.0             0              1             0          0   \n",
       "2  31112       0  80.0             0              1             0          0   \n",
       "3  60182       1  49.0             0              0             0          0   \n",
       "4   1665       1  79.0             1              0             0          1   \n",
       "5  56669       0  81.0             0              0             0          0   \n",
       "\n",
       "   Residence_type  avg_glucose_level   bmi   smoking_status  stroke  \n",
       "0               0             228.69  36.6  formerly smoked       1  \n",
       "2               1             105.92  32.5     never smoked       1  \n",
       "3               0             171.23  34.4           smokes       1  \n",
       "4               1             174.12  24.0     never smoked       1  \n",
       "5               0             186.21  29.0  formerly smoked       1  "
      ]
     },
     "execution_count": 44,
     "metadata": {},
     "output_type": "execute_result"
    }
   ],
   "source": [
    "df['Residence_type'] = np.where((df.Residence_type == 'Urban'),'0',df.Residence_type)\n",
    "df['Residence_type'] = np.where((df.Residence_type == 'Rural'),'1',df.Residence_type)\n",
    "df[\"Residence_type\"] = df[\"Residence_type\"].astype('int64')\n",
    "df.head()"
   ]
  },
  {
   "cell_type": "code",
   "execution_count": 45,
   "id": "peripheral-defendant",
   "metadata": {},
   "outputs": [
    {
     "data": {
      "text/plain": [
       "array(['formerly smoked', 'never smoked', 'smokes', 'Unknown'],\n",
       "      dtype=object)"
      ]
     },
     "execution_count": 45,
     "metadata": {},
     "output_type": "execute_result"
    }
   ],
   "source": [
    "df[\"smoking_status\"].unique()"
   ]
  },
  {
   "cell_type": "markdown",
   "id": "typical-field",
   "metadata": {},
   "source": [
    "4. Let's convert `smoking_status feature`, \n",
    "* `formerly smoked`: `0`\n",
    "* `never smoked`: `1`\n",
    "* `smokes`: `2`\n",
    "* `Unknown`: `3`"
   ]
  },
  {
   "cell_type": "code",
   "execution_count": 46,
   "id": "interpreted-warren",
   "metadata": {},
   "outputs": [],
   "source": [
    "df['smoking_status'] = np.where((df.smoking_status == 'formerly smoked'),'0',df.smoking_status)\n",
    "df['smoking_status'] = np.where((df.smoking_status == 'never smoked'),'1',df.smoking_status)\n",
    "df['smoking_status'] = np.where((df.smoking_status == 'smokes'),'2',df.smoking_status)\n",
    "df['smoking_status'] = np.where((df.smoking_status == 'Unknown'),'3',df.smoking_status)\n",
    "df[\"smoking_status\"] = df[\"smoking_status\"].astype('int64')"
   ]
  },
  {
   "cell_type": "code",
   "execution_count": 47,
   "id": "false-prerequisite",
   "metadata": {},
   "outputs": [
    {
     "data": {
      "text/html": [
       "<div>\n",
       "<style scoped>\n",
       "    .dataframe tbody tr th:only-of-type {\n",
       "        vertical-align: middle;\n",
       "    }\n",
       "\n",
       "    .dataframe tbody tr th {\n",
       "        vertical-align: top;\n",
       "    }\n",
       "\n",
       "    .dataframe thead th {\n",
       "        text-align: right;\n",
       "    }\n",
       "</style>\n",
       "<table border=\"1\" class=\"dataframe\">\n",
       "  <thead>\n",
       "    <tr style=\"text-align: right;\">\n",
       "      <th></th>\n",
       "      <th>id</th>\n",
       "      <th>gender</th>\n",
       "      <th>age</th>\n",
       "      <th>hypertension</th>\n",
       "      <th>heart_disease</th>\n",
       "      <th>ever_married</th>\n",
       "      <th>work_type</th>\n",
       "      <th>Residence_type</th>\n",
       "      <th>avg_glucose_level</th>\n",
       "      <th>bmi</th>\n",
       "      <th>smoking_status</th>\n",
       "      <th>stroke</th>\n",
       "    </tr>\n",
       "  </thead>\n",
       "  <tbody>\n",
       "    <tr>\n",
       "      <th>0</th>\n",
       "      <td>9046</td>\n",
       "      <td>0</td>\n",
       "      <td>67.0</td>\n",
       "      <td>0</td>\n",
       "      <td>1</td>\n",
       "      <td>0</td>\n",
       "      <td>0</td>\n",
       "      <td>0</td>\n",
       "      <td>228.69</td>\n",
       "      <td>36.6</td>\n",
       "      <td>0</td>\n",
       "      <td>1</td>\n",
       "    </tr>\n",
       "    <tr>\n",
       "      <th>2</th>\n",
       "      <td>31112</td>\n",
       "      <td>0</td>\n",
       "      <td>80.0</td>\n",
       "      <td>0</td>\n",
       "      <td>1</td>\n",
       "      <td>0</td>\n",
       "      <td>0</td>\n",
       "      <td>1</td>\n",
       "      <td>105.92</td>\n",
       "      <td>32.5</td>\n",
       "      <td>1</td>\n",
       "      <td>1</td>\n",
       "    </tr>\n",
       "    <tr>\n",
       "      <th>3</th>\n",
       "      <td>60182</td>\n",
       "      <td>1</td>\n",
       "      <td>49.0</td>\n",
       "      <td>0</td>\n",
       "      <td>0</td>\n",
       "      <td>0</td>\n",
       "      <td>0</td>\n",
       "      <td>0</td>\n",
       "      <td>171.23</td>\n",
       "      <td>34.4</td>\n",
       "      <td>2</td>\n",
       "      <td>1</td>\n",
       "    </tr>\n",
       "    <tr>\n",
       "      <th>4</th>\n",
       "      <td>1665</td>\n",
       "      <td>1</td>\n",
       "      <td>79.0</td>\n",
       "      <td>1</td>\n",
       "      <td>0</td>\n",
       "      <td>0</td>\n",
       "      <td>1</td>\n",
       "      <td>1</td>\n",
       "      <td>174.12</td>\n",
       "      <td>24.0</td>\n",
       "      <td>1</td>\n",
       "      <td>1</td>\n",
       "    </tr>\n",
       "    <tr>\n",
       "      <th>5</th>\n",
       "      <td>56669</td>\n",
       "      <td>0</td>\n",
       "      <td>81.0</td>\n",
       "      <td>0</td>\n",
       "      <td>0</td>\n",
       "      <td>0</td>\n",
       "      <td>0</td>\n",
       "      <td>0</td>\n",
       "      <td>186.21</td>\n",
       "      <td>29.0</td>\n",
       "      <td>0</td>\n",
       "      <td>1</td>\n",
       "    </tr>\n",
       "  </tbody>\n",
       "</table>\n",
       "</div>"
      ],
      "text/plain": [
       "      id  gender   age  hypertension  heart_disease  ever_married  work_type  \\\n",
       "0   9046       0  67.0             0              1             0          0   \n",
       "2  31112       0  80.0             0              1             0          0   \n",
       "3  60182       1  49.0             0              0             0          0   \n",
       "4   1665       1  79.0             1              0             0          1   \n",
       "5  56669       0  81.0             0              0             0          0   \n",
       "\n",
       "   Residence_type  avg_glucose_level   bmi  smoking_status  stroke  \n",
       "0               0             228.69  36.6               0       1  \n",
       "2               1             105.92  32.5               1       1  \n",
       "3               0             171.23  34.4               2       1  \n",
       "4               1             174.12  24.0               1       1  \n",
       "5               0             186.21  29.0               0       1  "
      ]
     },
     "execution_count": 47,
     "metadata": {},
     "output_type": "execute_result"
    }
   ],
   "source": [
    "df.head()"
   ]
  },
  {
   "cell_type": "code",
   "execution_count": 49,
   "id": "liberal-passing",
   "metadata": {},
   "outputs": [
    {
     "data": {
      "text/plain": [
       "id                     int64\n",
       "gender                 int64\n",
       "age                  float64\n",
       "hypertension           int64\n",
       "heart_disease          int64\n",
       "ever_married           int64\n",
       "work_type              int64\n",
       "Residence_type         int64\n",
       "avg_glucose_level    float64\n",
       "bmi                  float64\n",
       "smoking_status         int64\n",
       "stroke                 int64\n",
       "dtype: object"
      ]
     },
     "execution_count": 49,
     "metadata": {},
     "output_type": "execute_result"
    }
   ],
   "source": [
    "df.dtypes"
   ]
  },
  {
   "cell_type": "markdown",
   "id": "tender-steal",
   "metadata": {},
   "source": [
    "One Final EDA to check the relationship between independent variables using correlation matrix"
   ]
  },
  {
   "cell_type": "code",
   "execution_count": 50,
   "id": "horizontal-reservoir",
   "metadata": {},
   "outputs": [
    {
     "data": {
      "text/html": [
       "<div>\n",
       "<style scoped>\n",
       "    .dataframe tbody tr th:only-of-type {\n",
       "        vertical-align: middle;\n",
       "    }\n",
       "\n",
       "    .dataframe tbody tr th {\n",
       "        vertical-align: top;\n",
       "    }\n",
       "\n",
       "    .dataframe thead th {\n",
       "        text-align: right;\n",
       "    }\n",
       "</style>\n",
       "<table border=\"1\" class=\"dataframe\">\n",
       "  <thead>\n",
       "    <tr style=\"text-align: right;\">\n",
       "      <th></th>\n",
       "      <th>id</th>\n",
       "      <th>gender</th>\n",
       "      <th>age</th>\n",
       "      <th>hypertension</th>\n",
       "      <th>heart_disease</th>\n",
       "      <th>ever_married</th>\n",
       "      <th>work_type</th>\n",
       "      <th>Residence_type</th>\n",
       "      <th>avg_glucose_level</th>\n",
       "      <th>bmi</th>\n",
       "      <th>smoking_status</th>\n",
       "      <th>stroke</th>\n",
       "    </tr>\n",
       "  </thead>\n",
       "  <tbody>\n",
       "    <tr>\n",
       "      <th>id</th>\n",
       "      <td>1.000000</td>\n",
       "      <td>-0.006474</td>\n",
       "      <td>0.009124</td>\n",
       "      <td>0.001206</td>\n",
       "      <td>0.004058</td>\n",
       "      <td>-0.017099</td>\n",
       "      <td>-0.021714</td>\n",
       "      <td>-0.005167</td>\n",
       "      <td>0.006252</td>\n",
       "      <td>0.003238</td>\n",
       "      <td>-0.015151</td>\n",
       "      <td>0.004878</td>\n",
       "    </tr>\n",
       "    <tr>\n",
       "      <th>gender</th>\n",
       "      <td>-0.006474</td>\n",
       "      <td>1.000000</td>\n",
       "      <td>0.030280</td>\n",
       "      <td>-0.021811</td>\n",
       "      <td>-0.082950</td>\n",
       "      <td>-0.036380</td>\n",
       "      <td>-0.070889</td>\n",
       "      <td>-0.004351</td>\n",
       "      <td>-0.053161</td>\n",
       "      <td>0.026164</td>\n",
       "      <td>-0.039259</td>\n",
       "      <td>-0.006904</td>\n",
       "    </tr>\n",
       "    <tr>\n",
       "      <th>age</th>\n",
       "      <td>0.009124</td>\n",
       "      <td>0.030280</td>\n",
       "      <td>1.000000</td>\n",
       "      <td>0.274395</td>\n",
       "      <td>0.257104</td>\n",
       "      <td>-0.680742</td>\n",
       "      <td>-0.415506</td>\n",
       "      <td>-0.010795</td>\n",
       "      <td>0.236000</td>\n",
       "      <td>0.333314</td>\n",
       "      <td>-0.387002</td>\n",
       "      <td>0.232313</td>\n",
       "    </tr>\n",
       "    <tr>\n",
       "      <th>hypertension</th>\n",
       "      <td>0.001206</td>\n",
       "      <td>-0.021811</td>\n",
       "      <td>0.274395</td>\n",
       "      <td>1.000000</td>\n",
       "      <td>0.115978</td>\n",
       "      <td>-0.162350</td>\n",
       "      <td>-0.073458</td>\n",
       "      <td>0.001140</td>\n",
       "      <td>0.180614</td>\n",
       "      <td>0.167770</td>\n",
       "      <td>-0.132956</td>\n",
       "      <td>0.142503</td>\n",
       "    </tr>\n",
       "    <tr>\n",
       "      <th>heart_disease</th>\n",
       "      <td>0.004058</td>\n",
       "      <td>-0.082950</td>\n",
       "      <td>0.257104</td>\n",
       "      <td>0.115978</td>\n",
       "      <td>1.000000</td>\n",
       "      <td>-0.111203</td>\n",
       "      <td>-0.054965</td>\n",
       "      <td>0.002409</td>\n",
       "      <td>0.154577</td>\n",
       "      <td>0.041322</td>\n",
       "      <td>-0.071480</td>\n",
       "      <td>0.137929</td>\n",
       "    </tr>\n",
       "    <tr>\n",
       "      <th>ever_married</th>\n",
       "      <td>-0.017099</td>\n",
       "      <td>-0.036380</td>\n",
       "      <td>-0.680742</td>\n",
       "      <td>-0.162350</td>\n",
       "      <td>-0.111203</td>\n",
       "      <td>1.000000</td>\n",
       "      <td>0.378109</td>\n",
       "      <td>0.004707</td>\n",
       "      <td>-0.151657</td>\n",
       "      <td>-0.341553</td>\n",
       "      <td>0.311235</td>\n",
       "      <td>-0.105051</td>\n",
       "    </tr>\n",
       "    <tr>\n",
       "      <th>work_type</th>\n",
       "      <td>-0.021714</td>\n",
       "      <td>-0.070889</td>\n",
       "      <td>-0.415506</td>\n",
       "      <td>-0.073458</td>\n",
       "      <td>-0.054965</td>\n",
       "      <td>0.378109</td>\n",
       "      <td>1.000000</td>\n",
       "      <td>-0.012931</td>\n",
       "      <td>-0.063029</td>\n",
       "      <td>-0.347412</td>\n",
       "      <td>0.313172</td>\n",
       "      <td>-0.057569</td>\n",
       "    </tr>\n",
       "    <tr>\n",
       "      <th>Residence_type</th>\n",
       "      <td>-0.005167</td>\n",
       "      <td>-0.004351</td>\n",
       "      <td>-0.010795</td>\n",
       "      <td>0.001140</td>\n",
       "      <td>0.002409</td>\n",
       "      <td>0.004707</td>\n",
       "      <td>-0.012931</td>\n",
       "      <td>1.000000</td>\n",
       "      <td>0.007441</td>\n",
       "      <td>0.000293</td>\n",
       "      <td>-0.002420</td>\n",
       "      <td>-0.005988</td>\n",
       "    </tr>\n",
       "    <tr>\n",
       "      <th>avg_glucose_level</th>\n",
       "      <td>0.006252</td>\n",
       "      <td>-0.053161</td>\n",
       "      <td>0.236000</td>\n",
       "      <td>0.180614</td>\n",
       "      <td>0.154577</td>\n",
       "      <td>-0.151657</td>\n",
       "      <td>-0.063029</td>\n",
       "      <td>0.007441</td>\n",
       "      <td>1.000000</td>\n",
       "      <td>0.175672</td>\n",
       "      <td>-0.108762</td>\n",
       "      <td>0.138984</td>\n",
       "    </tr>\n",
       "    <tr>\n",
       "      <th>bmi</th>\n",
       "      <td>0.003238</td>\n",
       "      <td>0.026164</td>\n",
       "      <td>0.333314</td>\n",
       "      <td>0.167770</td>\n",
       "      <td>0.041322</td>\n",
       "      <td>-0.341553</td>\n",
       "      <td>-0.347412</td>\n",
       "      <td>0.000293</td>\n",
       "      <td>0.175672</td>\n",
       "      <td>1.000000</td>\n",
       "      <td>-0.236052</td>\n",
       "      <td>0.042341</td>\n",
       "    </tr>\n",
       "    <tr>\n",
       "      <th>smoking_status</th>\n",
       "      <td>-0.015151</td>\n",
       "      <td>-0.039259</td>\n",
       "      <td>-0.387002</td>\n",
       "      <td>-0.132956</td>\n",
       "      <td>-0.071480</td>\n",
       "      <td>0.311235</td>\n",
       "      <td>0.313172</td>\n",
       "      <td>-0.002420</td>\n",
       "      <td>-0.108762</td>\n",
       "      <td>-0.236052</td>\n",
       "      <td>1.000000</td>\n",
       "      <td>-0.075999</td>\n",
       "    </tr>\n",
       "    <tr>\n",
       "      <th>stroke</th>\n",
       "      <td>0.004878</td>\n",
       "      <td>-0.006904</td>\n",
       "      <td>0.232313</td>\n",
       "      <td>0.142503</td>\n",
       "      <td>0.137929</td>\n",
       "      <td>-0.105051</td>\n",
       "      <td>-0.057569</td>\n",
       "      <td>-0.005988</td>\n",
       "      <td>0.138984</td>\n",
       "      <td>0.042341</td>\n",
       "      <td>-0.075999</td>\n",
       "      <td>1.000000</td>\n",
       "    </tr>\n",
       "  </tbody>\n",
       "</table>\n",
       "</div>"
      ],
      "text/plain": [
       "                         id    gender       age  hypertension  heart_disease  \\\n",
       "id                 1.000000 -0.006474  0.009124      0.001206       0.004058   \n",
       "gender            -0.006474  1.000000  0.030280     -0.021811      -0.082950   \n",
       "age                0.009124  0.030280  1.000000      0.274395       0.257104   \n",
       "hypertension       0.001206 -0.021811  0.274395      1.000000       0.115978   \n",
       "heart_disease      0.004058 -0.082950  0.257104      0.115978       1.000000   \n",
       "ever_married      -0.017099 -0.036380 -0.680742     -0.162350      -0.111203   \n",
       "work_type         -0.021714 -0.070889 -0.415506     -0.073458      -0.054965   \n",
       "Residence_type    -0.005167 -0.004351 -0.010795      0.001140       0.002409   \n",
       "avg_glucose_level  0.006252 -0.053161  0.236000      0.180614       0.154577   \n",
       "bmi                0.003238  0.026164  0.333314      0.167770       0.041322   \n",
       "smoking_status    -0.015151 -0.039259 -0.387002     -0.132956      -0.071480   \n",
       "stroke             0.004878 -0.006904  0.232313      0.142503       0.137929   \n",
       "\n",
       "                   ever_married  work_type  Residence_type  avg_glucose_level  \\\n",
       "id                    -0.017099  -0.021714       -0.005167           0.006252   \n",
       "gender                -0.036380  -0.070889       -0.004351          -0.053161   \n",
       "age                   -0.680742  -0.415506       -0.010795           0.236000   \n",
       "hypertension          -0.162350  -0.073458        0.001140           0.180614   \n",
       "heart_disease         -0.111203  -0.054965        0.002409           0.154577   \n",
       "ever_married           1.000000   0.378109        0.004707          -0.151657   \n",
       "work_type              0.378109   1.000000       -0.012931          -0.063029   \n",
       "Residence_type         0.004707  -0.012931        1.000000           0.007441   \n",
       "avg_glucose_level     -0.151657  -0.063029        0.007441           1.000000   \n",
       "bmi                   -0.341553  -0.347412        0.000293           0.175672   \n",
       "smoking_status         0.311235   0.313172       -0.002420          -0.108762   \n",
       "stroke                -0.105051  -0.057569       -0.005988           0.138984   \n",
       "\n",
       "                        bmi  smoking_status    stroke  \n",
       "id                 0.003238       -0.015151  0.004878  \n",
       "gender             0.026164       -0.039259 -0.006904  \n",
       "age                0.333314       -0.387002  0.232313  \n",
       "hypertension       0.167770       -0.132956  0.142503  \n",
       "heart_disease      0.041322       -0.071480  0.137929  \n",
       "ever_married      -0.341553        0.311235 -0.105051  \n",
       "work_type         -0.347412        0.313172 -0.057569  \n",
       "Residence_type     0.000293       -0.002420 -0.005988  \n",
       "avg_glucose_level  0.175672       -0.108762  0.138984  \n",
       "bmi                1.000000       -0.236052  0.042341  \n",
       "smoking_status    -0.236052        1.000000 -0.075999  \n",
       "stroke             0.042341       -0.075999  1.000000  "
      ]
     },
     "execution_count": 50,
     "metadata": {},
     "output_type": "execute_result"
    }
   ],
   "source": [
    "corr_matrix = df.corr()\n",
    "corr_matrix"
   ]
  },
  {
   "cell_type": "code",
   "execution_count": 51,
   "id": "center-horror",
   "metadata": {},
   "outputs": [
    {
     "data": {
      "image/png": "[encoded data removed]",
      "text/plain": [
       "<Figure size 2160x1440 with 2 Axes>"
      ]
     },
     "metadata": {
      "needs_background": "light"
     },
     "output_type": "display_data"
    }
   ],
   "source": [
    "# Let's plot the correlation matrix\n",
    "plt.figure(figsize=(30,20))\n",
    "sns.heatmap(corr_matrix,\n",
    "           annot=True,\n",
    "           linewidths=0.5,\n",
    "           fmt=\".2f\",\n",
    "           cmap=\"YlGnBu\");"
   ]
  },
  {
   "cell_type": "markdown",
   "id": "martial-employer",
   "metadata": {},
   "source": [
    "Much better. A higher positive value means a potential positive correlation (increase) and a higher negative value means a potential negative correlation (decrease)."
   ]
  },
  {
   "cell_type": "markdown",
   "id": "crude-celebrity",
   "metadata": {},
   "source": [
    "**Now all the categorical features are converted to numerical** Let's model yeah😎"
   ]
  },
  {
   "cell_type": "markdown",
   "id": "radio-border",
   "metadata": {},
   "source": [
    "## Modelling"
   ]
  },
  {
   "cell_type": "markdown",
   "id": "herbal-stack",
   "metadata": {},
   "source": [
    "1. Let's split our features and target"
   ]
  },
  {
   "cell_type": "code",
   "execution_count": 52,
   "id": "disturbed-drunk",
   "metadata": {},
   "outputs": [],
   "source": [
    "X = df.drop(\"stroke\", axis=1)\n",
    "Y = df.stroke.values"
   ]
  },
  {
   "cell_type": "code",
   "execution_count": 53,
   "id": "dying-jordan",
   "metadata": {},
   "outputs": [],
   "source": [
    "# Random seed for probabality\n",
    "np.random.seed(42)\n",
    "\n",
    "# Splitting the data into train and test sets\n",
    "X_train, X_test, Y_train, Y_test = train_test_split(X,\n",
    "                                                    Y,\n",
    "                                                    test_size=0.2)"
   ]
  },
  {
   "cell_type": "code",
   "execution_count": 54,
   "id": "accurate-scale",
   "metadata": {},
   "outputs": [
    {
     "data": {
      "text/html": [
       "<div>\n",
       "<style scoped>\n",
       "    .dataframe tbody tr th:only-of-type {\n",
       "        vertical-align: middle;\n",
       "    }\n",
       "\n",
       "    .dataframe tbody tr th {\n",
       "        vertical-align: top;\n",
       "    }\n",
       "\n",
       "    .dataframe thead th {\n",
       "        text-align: right;\n",
       "    }\n",
       "</style>\n",
       "<table border=\"1\" class=\"dataframe\">\n",
       "  <thead>\n",
       "    <tr style=\"text-align: right;\">\n",
       "      <th></th>\n",
       "      <th>id</th>\n",
       "      <th>gender</th>\n",
       "      <th>age</th>\n",
       "      <th>hypertension</th>\n",
       "      <th>heart_disease</th>\n",
       "      <th>ever_married</th>\n",
       "      <th>work_type</th>\n",
       "      <th>Residence_type</th>\n",
       "      <th>avg_glucose_level</th>\n",
       "      <th>bmi</th>\n",
       "      <th>smoking_status</th>\n",
       "    </tr>\n",
       "  </thead>\n",
       "  <tbody>\n",
       "    <tr>\n",
       "      <th>3565</th>\n",
       "      <td>68302</td>\n",
       "      <td>1</td>\n",
       "      <td>40.0</td>\n",
       "      <td>0</td>\n",
       "      <td>0</td>\n",
       "      <td>0</td>\n",
       "      <td>0</td>\n",
       "      <td>0</td>\n",
       "      <td>65.77</td>\n",
       "      <td>31.2</td>\n",
       "      <td>1</td>\n",
       "    </tr>\n",
       "    <tr>\n",
       "      <th>898</th>\n",
       "      <td>62716</td>\n",
       "      <td>1</td>\n",
       "      <td>59.0</td>\n",
       "      <td>0</td>\n",
       "      <td>0</td>\n",
       "      <td>0</td>\n",
       "      <td>1</td>\n",
       "      <td>0</td>\n",
       "      <td>81.64</td>\n",
       "      <td>32.8</td>\n",
       "      <td>3</td>\n",
       "    </tr>\n",
       "    <tr>\n",
       "      <th>2706</th>\n",
       "      <td>38796</td>\n",
       "      <td>1</td>\n",
       "      <td>54.0</td>\n",
       "      <td>0</td>\n",
       "      <td>0</td>\n",
       "      <td>0</td>\n",
       "      <td>0</td>\n",
       "      <td>0</td>\n",
       "      <td>99.83</td>\n",
       "      <td>22.7</td>\n",
       "      <td>0</td>\n",
       "    </tr>\n",
       "    <tr>\n",
       "      <th>4198</th>\n",
       "      <td>4148</td>\n",
       "      <td>0</td>\n",
       "      <td>81.0</td>\n",
       "      <td>0</td>\n",
       "      <td>0</td>\n",
       "      <td>0</td>\n",
       "      <td>1</td>\n",
       "      <td>0</td>\n",
       "      <td>71.18</td>\n",
       "      <td>23.9</td>\n",
       "      <td>0</td>\n",
       "    </tr>\n",
       "    <tr>\n",
       "      <th>3527</th>\n",
       "      <td>61672</td>\n",
       "      <td>1</td>\n",
       "      <td>11.0</td>\n",
       "      <td>0</td>\n",
       "      <td>0</td>\n",
       "      <td>1</td>\n",
       "      <td>3</td>\n",
       "      <td>0</td>\n",
       "      <td>69.68</td>\n",
       "      <td>14.4</td>\n",
       "      <td>3</td>\n",
       "    </tr>\n",
       "  </tbody>\n",
       "</table>\n",
       "</div>"
      ],
      "text/plain": [
       "         id  gender   age  hypertension  heart_disease  ever_married  \\\n",
       "3565  68302       1  40.0             0              0             0   \n",
       "898   62716       1  59.0             0              0             0   \n",
       "2706  38796       1  54.0             0              0             0   \n",
       "4198   4148       0  81.0             0              0             0   \n",
       "3527  61672       1  11.0             0              0             1   \n",
       "\n",
       "      work_type  Residence_type  avg_glucose_level   bmi  smoking_status  \n",
       "3565          0               0              65.77  31.2               1  \n",
       "898           1               0              81.64  32.8               3  \n",
       "2706          0               0              99.83  22.7               0  \n",
       "4198          1               0              71.18  23.9               0  \n",
       "3527          3               0              69.68  14.4               3  "
      ]
     },
     "execution_count": 54,
     "metadata": {},
     "output_type": "execute_result"
    }
   ],
   "source": [
    "X_train.head()"
   ]
  },
  {
   "cell_type": "code",
   "execution_count": 55,
   "id": "rocky-calgary",
   "metadata": {},
   "outputs": [
    {
     "data": {
      "text/plain": [
       "(3926, 3926, 982, 982)"
      ]
     },
     "execution_count": 55,
     "metadata": {},
     "output_type": "execute_result"
    }
   ],
   "source": [
    "len(X_train), len(Y_train), len(X_test), len(Y_test)"
   ]
  },
  {
   "cell_type": "markdown",
   "id": "efficient-perspective",
   "metadata": {},
   "source": [
    "### Let's train the data with few models and see how it goes"
   ]
  },
  {
   "cell_type": "code",
   "execution_count": 56,
   "id": "cross-thomas",
   "metadata": {},
   "outputs": [],
   "source": [
    "# Put models in a dictionary\n",
    "models = {\"KNN\": KNeighborsClassifier(),\n",
    "          \"Logistic Regression\": LogisticRegression(), \n",
    "          \"Random Forest\": RandomForestClassifier()}\n",
    "\n",
    "def fit_and_score(models, x_train, x_test, y_train, y_test):\n",
    "    \"\"\"\n",
    "    Model to fit the data to a model and score the model with test data\n",
    "    models - dictionary of models\n",
    "    x_train - training features\n",
    "    x_test - test features\n",
    "    y_train - training features\n",
    "    y_test - test_features\n",
    "    \"\"\"\n",
    "    np. random.seed(42)\n",
    "    model_scores = {}\n",
    "    for name, model in models.items():\n",
    "        model.fit(x_train, y_train)\n",
    "        model_scores[name] = model.score(x_test, y_test)\n",
    "    return model_scores"
   ]
  },
  {
   "cell_type": "code",
   "execution_count": 57,
   "id": "proprietary-jones",
   "metadata": {},
   "outputs": [
    {
     "data": {
      "text/plain": [
       "{'KNN': 0.9470468431771895,\n",
       " 'Logistic Regression': 0.9470468431771895,\n",
       " 'Random Forest': 0.9439918533604889}"
      ]
     },
     "execution_count": 57,
     "metadata": {},
     "output_type": "execute_result"
    }
   ],
   "source": [
    "model_scores = fit_and_score(models=models,\n",
    "                             x_train=X_train,\n",
    "                             x_test=X_test,\n",
    "                             y_train=Y_train,\n",
    "                             y_test=Y_test)\n",
    "model_scores"
   ]
  },
  {
   "cell_type": "markdown",
   "id": "embedded-morocco",
   "metadata": {},
   "source": [
    "Looks like our model seems to be overfitting, since it's an unbalanced dataset. It's choosing the true negative for most cases to minimize error. Let's evaluate the model using F1 score"
   ]
  },
  {
   "cell_type": "code",
   "execution_count": 58,
   "id": "descending-tulsa",
   "metadata": {},
   "outputs": [
    {
     "data": {
      "image/png": "[encoded data removed]",
      "text/plain": [
       "<Figure size 432x288 with 1 Axes>"
      ]
     },
     "metadata": {
      "needs_background": "light"
     },
     "output_type": "display_data"
    }
   ],
   "source": [
    "model_compare = pd.DataFrame(model_scores, index=['accuracy'])\n",
    "model_compare.T.plot.bar();"
   ]
  },
  {
   "cell_type": "markdown",
   "id": "varied-princeton",
   "metadata": {},
   "source": [
    "## Hypertuning the three models"
   ]
  },
  {
   "cell_type": "code",
   "execution_count": 59,
   "id": "announced-hacker",
   "metadata": {},
   "outputs": [],
   "source": [
    "# Creating a list for train scores\n",
    "train_scores = []\n",
    "\n",
    "# Creating a list for test scores\n",
    "test_scores = []\n",
    "\n",
    "# Creating a list for n neighbours\n",
    "neighbours = range(1,21)\n",
    "\n",
    "knn= KNeighborsClassifier()\n",
    "\n",
    "# Loop through different neighbours values\n",
    "for i in neighbours:\n",
    "    # Set neighbours\n",
    "    knn.set_params(n_neighbors = i)\n",
    "    \n",
    "    # Fitting the model\n",
    "    knn.fit(X_train, Y_train)\n",
    "    \n",
    "    # Scoring the model\n",
    "    train_scores.append(knn.score(X_train, Y_train))\n",
    "    \n",
    "    # Scoring the model on test data set\n",
    "    test_scores.append(knn.score(X_test, Y_test))"
   ]
  },
  {
   "cell_type": "code",
   "execution_count": 60,
   "id": "processed-express",
   "metadata": {},
   "outputs": [
    {
     "data": {
      "text/plain": [
       "([1.0,\n",
       "  0.9617931737137035,\n",
       "  0.9615384615384616,\n",
       "  0.9605196128374937,\n",
       "  0.9605196128374937,\n",
       "  0.9602649006622517,\n",
       "  0.9602649006622517,\n",
       "  0.9602649006622517,\n",
       "  0.9602649006622517,\n",
       "  0.9602649006622517,\n",
       "  0.9602649006622517,\n",
       "  0.9602649006622517,\n",
       "  0.9602649006622517,\n",
       "  0.9602649006622517,\n",
       "  0.9602649006622517,\n",
       "  0.9602649006622517,\n",
       "  0.9602649006622517,\n",
       "  0.9602649006622517,\n",
       "  0.9602649006622517,\n",
       "  0.9602649006622517],\n",
       " [0.9144602851323829,\n",
       "  0.9460285132382892,\n",
       "  0.9439918533604889,\n",
       "  0.9460285132382892,\n",
       "  0.9470468431771895,\n",
       "  0.9460285132382892,\n",
       "  0.9460285132382892,\n",
       "  0.9460285132382892,\n",
       "  0.9460285132382892,\n",
       "  0.9460285132382892,\n",
       "  0.9460285132382892,\n",
       "  0.9460285132382892,\n",
       "  0.9460285132382892,\n",
       "  0.9460285132382892,\n",
       "  0.9460285132382892,\n",
       "  0.9460285132382892,\n",
       "  0.9460285132382892,\n",
       "  0.9460285132382892,\n",
       "  0.9460285132382892,\n",
       "  0.9460285132382892])"
      ]
     },
     "execution_count": 60,
     "metadata": {},
     "output_type": "execute_result"
    }
   ],
   "source": [
    "train_scores, test_scores"
   ]
  },
  {
   "cell_type": "code",
   "execution_count": 61,
   "id": "extensive-selection",
   "metadata": {},
   "outputs": [
    {
     "name": "stdout",
     "output_type": "stream",
     "text": [
      "Maximum KNN score on the test data: 94.70%\n"
     ]
    },
    {
     "data": {
      "image/png": "[encoded data removed]",
      "text/plain": [
       "<Figure size 432x288 with 1 Axes>"
      ]
     },
     "metadata": {
      "needs_background": "light"
     },
     "output_type": "display_data"
    }
   ],
   "source": [
    "plt.plot(neighbours, train_scores, label=\"Train score\")\n",
    "plt.plot(neighbours, test_scores, label=\"Test score\")\n",
    "plt.xticks(np.arange(1, 21, 1))\n",
    "plt.xlabel(\"Number of neighbors\")\n",
    "plt.ylabel(\"Model score\")\n",
    "plt.legend()\n",
    "\n",
    "print(f\"Maximum KNN score on the test data: {max(test_scores)*100:.2f}%\")"
   ]
  },
  {
   "cell_type": "markdown",
   "id": "written-pharmaceutical",
   "metadata": {},
   "source": [
    "There seems to be **no improvement** after hypertuning the knneighbours\n",
    "\n",
    "Model seems to be working very well on train data like mentioned above, seems like overfitting. Let's perform hypertuning for other models. Let's check some more metrics like classification_report, ROC_curve"
   ]
  },
  {
   "cell_type": "markdown",
   "id": "tired-china",
   "metadata": {},
   "source": [
    "#### Trying out CatBoostClassifier"
   ]
  },
  {
   "cell_type": "code",
   "execution_count": 62,
   "id": "controlling-latex",
   "metadata": {},
   "outputs": [
    {
     "name": "stdout",
     "output_type": "stream",
     "text": [
      "0:\tlearn: 0.2219779\ttotal: 59.6ms\tremaining: 536ms\n",
      "1:\tlearn: 0.1612940\ttotal: 61.7ms\tremaining: 247ms\n",
      "2:\tlearn: 0.1433086\ttotal: 63.8ms\tremaining: 149ms\n",
      "3:\tlearn: 0.1393100\ttotal: 65.9ms\tremaining: 98.8ms\n",
      "4:\tlearn: 0.1377478\ttotal: 67.6ms\tremaining: 67.6ms\n",
      "5:\tlearn: 0.1361908\ttotal: 69.4ms\tremaining: 46.2ms\n",
      "6:\tlearn: 0.1357406\ttotal: 70.8ms\tremaining: 30.3ms\n",
      "7:\tlearn: 0.1346911\ttotal: 72.2ms\tremaining: 18ms\n",
      "8:\tlearn: 0.1331065\ttotal: 73.3ms\tremaining: 8.14ms\n",
      "9:\tlearn: 0.1326225\ttotal: 74.4ms\tremaining: 0us\n"
     ]
    },
    {
     "data": {
      "text/plain": [
       "0.9439918533604889"
      ]
     },
     "execution_count": 62,
     "metadata": {},
     "output_type": "execute_result"
    }
   ],
   "source": [
    "from catboost import CatBoostClassifier\n",
    "\n",
    "model = CatBoostClassifier(iterations=10,\n",
    "                          depth=2,\n",
    "                          learning_rate=1,\n",
    "                          loss_function='Logloss',\n",
    "                          verbose=True)\n",
    "\n",
    "model.fit(X_train, Y_train)\n",
    "\n",
    "model.score(X_test, Y_test)"
   ]
  },
  {
   "cell_type": "markdown",
   "id": "binding-estimate",
   "metadata": {},
   "source": [
    "### Tuning model with RandomizedSearchCV"
   ]
  },
  {
   "cell_type": "code",
   "execution_count": 63,
   "id": "associate-adrian",
   "metadata": {},
   "outputs": [],
   "source": [
    "# Different LogisticRegression hyperparameters\n",
    "log_reg_grid = {\"C\": np.logspace(-4, 4, 20),\n",
    "                \"solver\": [\"liblinear\"]}\n",
    "\n",
    "# Different RandomForestClassifier hyperparameters\n",
    "rf_grid = {\"n_estimators\": np.arange(10, 1000, 50),\n",
    "           \"max_depth\": [None, 3, 5, 10],\n",
    "           \"min_samples_split\": np.arange(2, 20, 2),\n",
    "           \"min_samples_leaf\": np.arange(1, 20, 2)}"
   ]
  },
  {
   "cell_type": "code",
   "execution_count": 64,
   "id": "seventh-porcelain",
   "metadata": {},
   "outputs": [
    {
     "name": "stdout",
     "output_type": "stream",
     "text": [
      "Fitting 5 folds for each of 20 candidates, totalling 100 fits\n"
     ]
    },
    {
     "data": {
      "text/plain": [
       "RandomizedSearchCV(cv=5, estimator=LogisticRegression(), n_iter=20,\n",
       "                   param_distributions={'C': array([1.00000000e-04, 2.63665090e-04, 6.95192796e-04, 1.83298071e-03,\n",
       "       4.83293024e-03, 1.27427499e-02, 3.35981829e-02, 8.85866790e-02,\n",
       "       2.33572147e-01, 6.15848211e-01, 1.62377674e+00, 4.28133240e+00,\n",
       "       1.12883789e+01, 2.97635144e+01, 7.84759970e+01, 2.06913808e+02,\n",
       "       5.45559478e+02, 1.43844989e+03, 3.79269019e+03, 1.00000000e+04]),\n",
       "                                        'solver': ['liblinear']},\n",
       "                   verbose=True)"
      ]
     },
     "execution_count": 64,
     "metadata": {},
     "output_type": "execute_result"
    }
   ],
   "source": [
    "# Setup random seed\n",
    "np.random.seed(42)\n",
    "\n",
    "# Setup Random hyper parameter tuning for Logistic Regression\n",
    "rs_log_reg = RandomizedSearchCV(LogisticRegression(), param_distributions=log_reg_grid,\n",
    "                               cv=5,\n",
    "                               n_iter=20,\n",
    "                               verbose=True)\n",
    "\n",
    "rs_log_reg.fit(X_train, Y_train)"
   ]
  },
  {
   "cell_type": "code",
   "execution_count": 65,
   "id": "killing-immune",
   "metadata": {},
   "outputs": [
    {
     "data": {
      "text/plain": [
       "{'solver': 'liblinear', 'C': 0.0001}"
      ]
     },
     "execution_count": 65,
     "metadata": {},
     "output_type": "execute_result"
    }
   ],
   "source": [
    "# Finding the best hyper parameters\n",
    "rs_log_reg.best_params_"
   ]
  },
  {
   "cell_type": "code",
   "execution_count": 66,
   "id": "constitutional-improvement",
   "metadata": {},
   "outputs": [],
   "source": [
    "rs_log_score = rs_log_reg.score(X_test, Y_test)"
   ]
  },
  {
   "cell_type": "code",
   "execution_count": 67,
   "id": "sophisticated-craft",
   "metadata": {},
   "outputs": [
    {
     "data": {
      "text/plain": [
       "0.0010183299389002753"
      ]
     },
     "execution_count": 67,
     "metadata": {},
     "output_type": "execute_result"
    }
   ],
   "source": [
    "model_scores[\"Logistic Regression\"] - rs_log_score"
   ]
  },
  {
   "cell_type": "markdown",
   "id": "nonprofit-campus",
   "metadata": {},
   "source": [
    "There's 0.0010183299389002753 decrease in logistic regression score after hyper tuning"
   ]
  },
  {
   "cell_type": "code",
   "execution_count": 68,
   "id": "conventional-remark",
   "metadata": {},
   "outputs": [
    {
     "name": "stdout",
     "output_type": "stream",
     "text": [
      "Fitting 5 folds for each of 20 candidates, totalling 100 fits\n"
     ]
    },
    {
     "data": {
      "text/plain": [
       "0.9460285132382892"
      ]
     },
     "execution_count": 68,
     "metadata": {},
     "output_type": "execute_result"
    }
   ],
   "source": [
    "# Tuning random forest classifier using randomsearchcv parameters\n",
    "rs_rf = RandomizedSearchCV(RandomForestClassifier(),\n",
    "                          param_distributions=rf_grid,\n",
    "                          cv=5,\n",
    "                          n_iter=20,\n",
    "                          verbose=True)\n",
    "\n",
    "rs_rf.fit(X_train, Y_train)\n",
    "\n",
    "rs_rf.score(X_test, Y_test)"
   ]
  },
  {
   "cell_type": "code",
   "execution_count": 69,
   "id": "exact-depression",
   "metadata": {},
   "outputs": [
    {
     "data": {
      "text/plain": [
       "{'n_estimators': 260,\n",
       " 'min_samples_split': 8,\n",
       " 'min_samples_leaf': 13,\n",
       " 'max_depth': 10}"
      ]
     },
     "execution_count": 69,
     "metadata": {},
     "output_type": "execute_result"
    }
   ],
   "source": [
    "rs_rf.best_params_"
   ]
  },
  {
   "cell_type": "code",
   "execution_count": 70,
   "id": "virtual-conservation",
   "metadata": {},
   "outputs": [],
   "source": [
    "rs_rf_score = rs_rf.score(X_test, Y_test)"
   ]
  },
  {
   "cell_type": "code",
   "execution_count": 71,
   "id": "spread-static",
   "metadata": {},
   "outputs": [
    {
     "data": {
      "text/plain": [
       "-0.0020366598778003286"
      ]
     },
     "execution_count": 71,
     "metadata": {},
     "output_type": "execute_result"
    }
   ],
   "source": [
    "model_scores[\"Random Forest\"] - rs_rf_score"
   ]
  },
  {
   "cell_type": "markdown",
   "id": "suffering-mainland",
   "metadata": {},
   "source": [
    "The hyper tuned random classifier performs better than the model\n",
    "\n",
    "Let's find out more metrics regading the RandomSearchCV randomforestclassifier model\n",
    "\n",
    "## Model evaluation beyond accuracy\n",
    "\n",
    "We'll use the below metrics,\n",
    "\n",
    "1. ROC and AUC curve\n",
    "2. Confusion matrix\n",
    "3. Classification report\n",
    "4. Recall score\n",
    "5. F1 score\n",
    "\n",
    "To make comparisons and evalutions we'll need predictions, let's get em."
   ]
  },
  {
   "cell_type": "code",
   "execution_count": 72,
   "id": "closed-involvement",
   "metadata": {},
   "outputs": [],
   "source": [
    "Y_preds = rs_rf.predict(X_test)"
   ]
  },
  {
   "cell_type": "code",
   "execution_count": 73,
   "id": "oriental-johnston",
   "metadata": {},
   "outputs": [
    {
     "data": {
      "text/plain": [
       "<sklearn.metrics._plot.roc_curve.RocCurveDisplay at 0x7fdd95f59610>"
      ]
     },
     "execution_count": 73,
     "metadata": {},
     "output_type": "execute_result"
    },
    {
     "data": {
      "image/png": "[encoded data removed]",
      "text/plain": [
       "<Figure size 432x288 with 1 Axes>"
      ]
     },
     "metadata": {
      "needs_background": "light"
     },
     "output_type": "display_data"
    }
   ],
   "source": [
    "# Import roc curve from metrics module\n",
    "from sklearn.metrics import plot_roc_curve\n",
    "\n",
    "plot_roc_curve(rs_rf, X_test, Y_test)"
   ]
  },
  {
   "cell_type": "markdown",
   "id": "developmental-habitat",
   "metadata": {},
   "source": [
    "RandomizedSearchCV random forest model does good with an auc of 0.84\n",
    "\n",
    "Let's proceed with confusion matrix"
   ]
  },
  {
   "cell_type": "code",
   "execution_count": 74,
   "id": "unnecessary-weather",
   "metadata": {},
   "outputs": [
    {
     "name": "stdout",
     "output_type": "stream",
     "text": [
      "[[929   0]\n",
      " [ 53   0]]\n"
     ]
    }
   ],
   "source": [
    "print(confusion_matrix(Y_test, Y_preds))"
   ]
  },
  {
   "cell_type": "markdown",
   "id": "velvet-result",
   "metadata": {},
   "source": [
    "Let's visualize the confusion matrix using sns heatmap\n",
    "\n",
    "#### Confusion matrix"
   ]
  },
  {
   "cell_type": "code",
   "execution_count": 75,
   "id": "integral-switch",
   "metadata": {},
   "outputs": [
    {
     "data": {
      "image/png": "[encoded data removed]",
      "text/plain": [
       "<Figure size 216x216 with 1 Axes>"
      ]
     },
     "metadata": {
      "needs_background": "light"
     },
     "output_type": "display_data"
    }
   ],
   "source": [
    "# Import seaborn\n",
    "import seaborn as sns\n",
    "\n",
    "def plot_conf_matrix(y_test, y_preds):\n",
    "    \"\"\"\n",
    "    Funtion to plot confusion matrix\n",
    "    \"\"\"\n",
    "\n",
    "    fig, ax = plt.subplots(figsize=(3,3))\n",
    "    ax = sns.heatmap(confusion_matrix(y_test, y_preds),\n",
    "                    annot=True,\n",
    "                    cbar=False)\n",
    "\n",
    "    plt.xlabel(\"True label\")\n",
    "    plt.ylabel(\"Predicted label\")\n",
    "\n",
    "plot_conf_matrix(Y_test, Y_preds)"
   ]
  },
  {
   "cell_type": "markdown",
   "id": "informed-modeling",
   "metadata": {},
   "source": [
    "#### Classification report"
   ]
  },
  {
   "cell_type": "code",
   "execution_count": 76,
   "id": "comfortable-gathering",
   "metadata": {},
   "outputs": [
    {
     "name": "stdout",
     "output_type": "stream",
     "text": [
      "              precision    recall  f1-score   support\n",
      "\n",
      "           0       0.95      1.00      0.97       929\n",
      "           1       0.00      0.00      0.00        53\n",
      "\n",
      "    accuracy                           0.95       982\n",
      "   macro avg       0.47      0.50      0.49       982\n",
      "weighted avg       0.89      0.95      0.92       982\n",
      "\n"
     ]
    },
    {
     "name": "stderr",
     "output_type": "stream",
     "text": [
      "/Users/jayaprakashsivagami/Desktop/Tech/ML/Projects/env/lib/python3.8/site-packages/sklearn/metrics/_classification.py:1245: UndefinedMetricWarning: Precision and F-score are ill-defined and being set to 0.0 in labels with no predicted samples. Use `zero_division` parameter to control this behavior.\n",
      "  _warn_prf(average, modifier, msg_start, len(result))\n",
      "/Users/jayaprakashsivagami/Desktop/Tech/ML/Projects/env/lib/python3.8/site-packages/sklearn/metrics/_classification.py:1245: UndefinedMetricWarning: Precision and F-score are ill-defined and being set to 0.0 in labels with no predicted samples. Use `zero_division` parameter to control this behavior.\n",
      "  _warn_prf(average, modifier, msg_start, len(result))\n",
      "/Users/jayaprakashsivagami/Desktop/Tech/ML/Projects/env/lib/python3.8/site-packages/sklearn/metrics/_classification.py:1245: UndefinedMetricWarning: Precision and F-score are ill-defined and being set to 0.0 in labels with no predicted samples. Use `zero_division` parameter to control this behavior.\n",
      "  _warn_prf(average, modifier, msg_start, len(result))\n"
     ]
    }
   ],
   "source": [
    "print(classification_report(Y_test, Y_preds))"
   ]
  },
  {
   "cell_type": "markdown",
   "id": "material-kelly",
   "metadata": {},
   "source": [
    "### Inferences\n",
    "\n",
    "Looking at the classification report and confusion matrix, The model is unable to predict true positives at all due to the class imbalance in dataset.\n",
    "\n",
    "We can see this more clearly in classificatio report's f1-score, 0.97 for class 0 and 0 for class 1.\n",
    "\n",
    "macro average which will be bad when there are class imbalances and it's 0.49 which is pretty poor\n"
   ]
  },
  {
   "cell_type": "markdown",
   "id": "normal-wrestling",
   "metadata": {},
   "source": [
    "Let's give a try if the model improves with best hyper parameters and calculate the `cross_val_score` for all the metrics and visualize them"
   ]
  },
  {
   "cell_type": "code",
   "execution_count": 77,
   "id": "subject-litigation",
   "metadata": {},
   "outputs": [],
   "source": [
    "from sklearn.model_selection import cross_val_score"
   ]
  },
  {
   "cell_type": "code",
   "execution_count": 78,
   "id": "surface-exploration",
   "metadata": {},
   "outputs": [
    {
     "data": {
      "text/plain": [
       "{'n_estimators': 260,\n",
       " 'min_samples_split': 8,\n",
       " 'min_samples_leaf': 13,\n",
       " 'max_depth': 10}"
      ]
     },
     "execution_count": 78,
     "metadata": {},
     "output_type": "execute_result"
    }
   ],
   "source": [
    "rs_rf.best_params_"
   ]
  },
  {
   "cell_type": "code",
   "execution_count": 79,
   "id": "significant-aurora",
   "metadata": {},
   "outputs": [],
   "source": [
    "clf = RandomForestClassifier(n_estimators=260,\n",
    "                            min_samples_split=8,\n",
    "                            min_samples_leaf=13,\n",
    "                            max_depth=10)"
   ]
  },
  {
   "cell_type": "code",
   "execution_count": 80,
   "id": "scheduled-roman",
   "metadata": {},
   "outputs": [
    {
     "data": {
      "text/plain": [
       "0.957416576875087"
      ]
     },
     "execution_count": 80,
     "metadata": {},
     "output_type": "execute_result"
    }
   ],
   "source": [
    "cv_acc = np.mean(cross_val_score(clf,\n",
    "                        X,\n",
    "                        Y,\n",
    "                        cv=5,\n",
    "                        scoring=\"accuracy\"))\n",
    "cv_acc"
   ]
  },
  {
   "cell_type": "code",
   "execution_count": 81,
   "id": "comfortable-stage",
   "metadata": {},
   "outputs": [
    {
     "data": {
      "text/plain": [
       "0.0"
      ]
     },
     "execution_count": 81,
     "metadata": {},
     "output_type": "execute_result"
    }
   ],
   "source": [
    "# Cross-validated F1 score\n",
    "cv_f1 = np.mean(cross_val_score(clf,\n",
    "                                X,\n",
    "                                Y,\n",
    "                                cv=5, # 5-fold cross-validation\n",
    "                                scoring=\"f1\")) # f1 as scoring\n",
    "cv_f1"
   ]
  },
  {
   "cell_type": "code",
   "execution_count": 82,
   "id": "adolescent-catering",
   "metadata": {},
   "outputs": [
    {
     "data": {
      "text/plain": [
       "0.0"
      ]
     },
     "execution_count": 82,
     "metadata": {},
     "output_type": "execute_result"
    }
   ],
   "source": [
    "# Cross-validated recall score\n",
    "cv_recall = np.mean(cross_val_score(clf,\n",
    "                                    X,\n",
    "                                    Y,\n",
    "                                    cv=5, # 5-fold cross-validation\n",
    "                                    scoring=\"recall\")) # recall as scoring\n",
    "cv_recall"
   ]
  },
  {
   "cell_type": "markdown",
   "id": "fancy-cornell",
   "metadata": {},
   "source": [
    "In cross validation F1 become zero meaning our model performance is 😕😑\n",
    "\n",
    "Cross validation is not working."
   ]
  },
  {
   "cell_type": "markdown",
   "id": "proud-energy",
   "metadata": {},
   "source": [
    "## Dataset based imbalance techniques - oversampling"
   ]
  },
  {
   "cell_type": "code",
   "execution_count": 84,
   "id": "capable-humanitarian",
   "metadata": {},
   "outputs": [
    {
     "name": "stdout",
     "output_type": "stream",
     "text": [
      "Collecting imbalanced-learn\n",
      "  Downloading imbalanced_learn-0.8.0-py3-none-any.whl (206 kB)\n",
      "\u001b[K     |████████████████████████████████| 206 kB 7.0 MB/s eta 0:00:01\n",
      "\u001b[?25hRequirement already satisfied: scipy>=0.19.1 in ./env/lib/python3.8/site-packages (from imbalanced-learn) (1.6.1)\n",
      "Requirement already satisfied: joblib>=0.11 in ./env/lib/python3.8/site-packages (from imbalanced-learn) (1.0.1)\n",
      "Requirement already satisfied: numpy>=1.13.3 in ./env/lib/python3.8/site-packages (from imbalanced-learn) (1.19.2)\n",
      "Requirement already satisfied: scikit-learn>=0.24 in ./env/lib/python3.8/site-packages (from imbalanced-learn) (0.24.1)\n",
      "Requirement already satisfied: threadpoolctl>=2.0.0 in ./env/lib/python3.8/site-packages (from scikit-learn>=0.24->imbalanced-learn) (2.1.0)\n",
      "Installing collected packages: imbalanced-learn\n",
      "Successfully installed imbalanced-learn-0.8.0\n"
     ]
    }
   ],
   "source": [
    "!pip install -U imbalanced-learn"
   ]
  },
  {
   "cell_type": "markdown",
   "id": "sweet-disclosure",
   "metadata": {},
   "source": [
    "### 1. Random Over sampling"
   ]
  },
  {
   "cell_type": "code",
   "execution_count": 138,
   "id": "atomic-software",
   "metadata": {},
   "outputs": [
    {
     "name": "stdout",
     "output_type": "stream",
     "text": [
      "[(0, 4482), (1, 4482)]\n"
     ]
    }
   ],
   "source": [
    "from sklearn.datasets import make_classification\n",
    "X, Y = make_classification(n_samples=5000, n_features=2, n_informative=2,\n",
    "                          n_redundant=0, n_repeated=0, n_classes=2,\n",
    "                          n_clusters_per_class=1,\n",
    "                          weights=[0.1, 0.9],\n",
    "                          class_sep=0.8, random_state=0)\n",
    "\n",
    "from imblearn.over_sampling import RandomOverSampler\n",
    "ros = RandomOverSampler(random_state=0)\n",
    "X_resampled, Y_resampled = ros.fit_resample(X, Y)\n",
    "\n",
    "from collections import Counter\n",
    "print(sorted(Counter(Y_resampled).items()))"
   ]
  },
  {
   "cell_type": "code",
   "execution_count": 139,
   "id": "third-concord",
   "metadata": {},
   "outputs": [],
   "source": [
    "X_train_ros, X_test_ros, Y_train_ros, Y_test_ros = train_test_split(X_resampled, Y_resampled, test_size=0.2)"
   ]
  },
  {
   "cell_type": "code",
   "execution_count": 140,
   "id": "surprised-combining",
   "metadata": {},
   "outputs": [
    {
     "data": {
      "text/plain": [
       "LogisticRegression()"
      ]
     },
     "execution_count": 140,
     "metadata": {},
     "output_type": "execute_result"
    }
   ],
   "source": [
    "clf_ros = LogisticRegression()\n",
    "clf_ros.fit(X_train_ros, Y_train_ros)"
   ]
  },
  {
   "cell_type": "code",
   "execution_count": 141,
   "id": "floral-bargain",
   "metadata": {},
   "outputs": [
    {
     "data": {
      "text/plain": [
       "0.9743446737311768"
      ]
     },
     "execution_count": 141,
     "metadata": {},
     "output_type": "execute_result"
    }
   ],
   "source": [
    "clf_ros.score(X_test_ros, Y_test_ros)"
   ]
  },
  {
   "cell_type": "code",
   "execution_count": 142,
   "id": "passing-telescope",
   "metadata": {},
   "outputs": [],
   "source": [
    "Y_preds_ros = clf_ros.predict(X_test_ros)"
   ]
  },
  {
   "cell_type": "code",
   "execution_count": 143,
   "id": "incorporated-performance",
   "metadata": {},
   "outputs": [
    {
     "name": "stdout",
     "output_type": "stream",
     "text": [
      "              precision    recall  f1-score   support\n",
      "\n",
      "           0       1.00      0.95      0.97       938\n",
      "           1       0.95      1.00      0.97       855\n",
      "\n",
      "    accuracy                           0.97      1793\n",
      "   macro avg       0.97      0.98      0.97      1793\n",
      "weighted avg       0.98      0.97      0.97      1793\n",
      "\n"
     ]
    }
   ],
   "source": [
    "print(classification_report(Y_test_ros, Y_preds_ros))"
   ]
  },
  {
   "cell_type": "markdown",
   "id": "annoying-samoa",
   "metadata": {},
   "source": [
    "After oversampling the dataset, LogisticRegression model has improved F1-score and macro-average"
   ]
  },
  {
   "cell_type": "code",
   "execution_count": 135,
   "id": "caroline-attendance",
   "metadata": {},
   "outputs": [
    {
     "data": {
      "image/png": "[encoded data removed]",
      "text/plain": [
       "<Figure size 216x216 with 1 Axes>"
      ]
     },
     "metadata": {
      "needs_background": "light"
     },
     "output_type": "display_data"
    }
   ],
   "source": [
    "plot_conf_matrix(Y_test_ros, Y_preds_ros)"
   ]
  },
  {
   "cell_type": "code",
   "execution_count": 136,
   "id": "hired-observer",
   "metadata": {},
   "outputs": [
    {
     "data": {
      "text/plain": [
       "<sklearn.metrics._plot.roc_curve.RocCurveDisplay at 0x7fdd96640580>"
      ]
     },
     "execution_count": 136,
     "metadata": {},
     "output_type": "execute_result"
    },
    {
     "data": {
      "image/png": "[encoded data removed]",
      "text/plain": [
       "<Figure size 432x288 with 1 Axes>"
      ]
     },
     "metadata": {
      "needs_background": "light"
     },
     "output_type": "display_data"
    }
   ],
   "source": [
    "plot_roc_curve(clf_ros, X_test_ros, Y_test_ros)"
   ]
  },
  {
   "cell_type": "markdown",
   "id": "following-glory",
   "metadata": {},
   "source": [
    "### 2. SMOTE oversampling"
   ]
  },
  {
   "cell_type": "code",
   "execution_count": 150,
   "id": "attempted-photography",
   "metadata": {},
   "outputs": [
    {
     "name": "stdout",
     "output_type": "stream",
     "text": [
      "dict_items([(1, 4482), (0, 4482)])\n"
     ]
    }
   ],
   "source": [
    "from imblearn.over_sampling import SMOTE\n",
    "X_resampled, Y_resampled = SMOTE().fit_resample(X,Y)\n",
    "print(Counter(Y_resampled).items())"
   ]
  },
  {
   "cell_type": "code",
   "execution_count": 151,
   "id": "particular-faculty",
   "metadata": {},
   "outputs": [],
   "source": [
    "X_train_smo, X_test_smo, Y_train_smo, Y_test_smo = train_test_split(X_resampled, Y_resampled,test_size=0.2)"
   ]
  },
  {
   "cell_type": "code",
   "execution_count": 152,
   "id": "sensitive-editor",
   "metadata": {},
   "outputs": [
    {
     "data": {
      "text/plain": [
       "LogisticRegression()"
      ]
     },
     "execution_count": 152,
     "metadata": {},
     "output_type": "execute_result"
    }
   ],
   "source": [
    "clf_smo = LogisticRegression()\n",
    "clf_smo.fit(X_train_smo, Y_train_smo)"
   ]
  },
  {
   "cell_type": "code",
   "execution_count": 153,
   "id": "reasonable-video",
   "metadata": {},
   "outputs": [
    {
     "data": {
      "text/plain": [
       "0.9760178471834914"
      ]
     },
     "execution_count": 153,
     "metadata": {},
     "output_type": "execute_result"
    }
   ],
   "source": [
    "clf_smo.score(X_test_smo, Y_test_smo)"
   ]
  },
  {
   "cell_type": "code",
   "execution_count": 154,
   "id": "characteristic-presence",
   "metadata": {},
   "outputs": [],
   "source": [
    "Y_pred_smo = clf_smo.predict(X_test_smo)"
   ]
  },
  {
   "cell_type": "code",
   "execution_count": 155,
   "id": "graphic-gregory",
   "metadata": {},
   "outputs": [
    {
     "data": {
      "image/png": "[encoded data removed]",
      "text/plain": [
       "<Figure size 216x216 with 1 Axes>"
      ]
     },
     "metadata": {
      "needs_background": "light"
     },
     "output_type": "display_data"
    }
   ],
   "source": [
    "plot_conf_matrix(Y_test_smo, Y_pred_smo)"
   ]
  },
  {
   "cell_type": "code",
   "execution_count": 157,
   "id": "restricted-atlanta",
   "metadata": {},
   "outputs": [
    {
     "name": "stdout",
     "output_type": "stream",
     "text": [
      "              precision    recall  f1-score   support\n",
      "\n",
      "           0       1.00      0.95      0.97       874\n",
      "           1       0.96      1.00      0.98       919\n",
      "\n",
      "    accuracy                           0.98      1793\n",
      "   macro avg       0.98      0.98      0.98      1793\n",
      "weighted avg       0.98      0.98      0.98      1793\n",
      "\n"
     ]
    }
   ],
   "source": [
    "print(classification_report(Y_test_smo, Y_pred_smo))"
   ]
  },
  {
   "cell_type": "markdown",
   "id": "valid-election",
   "metadata": {},
   "source": [
    "*We can use Logistic regression with RandomOverSampling or SMOTE for stroke prediction, since it provides better accuracy and f1-score over the imbalanced dataset model*"
   ]
  },
  {
   "cell_type": "code",
   "execution_count": null,
   "id": "impaired-cooking",
   "metadata": {},
   "outputs": [],
   "source": []
  }
 ],
 "metadata": {
  "kernelspec": {
   "display_name": "Python 3",
   "language": "python",
   "name": "python3"
  },
  "language_info": {
   "codemirror_mode": {
    "name": "ipython",
    "version": 3
   },
   "file_extension": ".py",
   "mimetype": "text/x-python",
   "name": "python",
   "nbconvert_exporter": "python",
   "pygments_lexer": "ipython3",
   "version": "3.8.8"
  }
 },
 "nbformat": 4,
 "nbformat_minor": 5
}
