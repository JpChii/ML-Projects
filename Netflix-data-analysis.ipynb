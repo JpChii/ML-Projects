{
 "cells": [
  {
   "cell_type": "markdown",
   "id": "revised-italy",
   "metadata": {},
   "source": [
    "My blog on the same is available at - https://jpchii.github.io/2021/03/16/netflixdataanalysis.html"
   ]
  },
  {
   "cell_type": "code",
   "execution_count": 246,
   "id": "superior-collection",
   "metadata": {},
   "outputs": [],
   "source": [
    "# importing the data analysis libraries\n",
    "import numpy as np\n",
    "import pandas as pd\n",
    "import matplotlib.pyplot as plt"
   ]
  },
  {
   "cell_type": "markdown",
   "id": "forbidden-slovenia",
   "metadata": {},
   "source": [
    "## Analaysing the columns of the dataset"
   ]
  },
  {
   "cell_type": "code",
   "execution_count": 2,
   "id": "ahead-presence",
   "metadata": {},
   "outputs": [
    {
     "data": {
      "text/html": [
       "<div>\n",
       "<style scoped>\n",
       "    .dataframe tbody tr th:only-of-type {\n",
       "        vertical-align: middle;\n",
       "    }\n",
       "\n",
       "    .dataframe tbody tr th {\n",
       "        vertical-align: top;\n",
       "    }\n",
       "\n",
       "    .dataframe thead th {\n",
       "        text-align: right;\n",
       "    }\n",
       "</style>\n",
       "<table border=\"1\" class=\"dataframe\">\n",
       "  <thead>\n",
       "    <tr style=\"text-align: right;\">\n",
       "      <th></th>\n",
       "      <th>show_id</th>\n",
       "      <th>type</th>\n",
       "      <th>title</th>\n",
       "      <th>director</th>\n",
       "      <th>cast</th>\n",
       "      <th>country</th>\n",
       "      <th>date_added</th>\n",
       "      <th>release_year</th>\n",
       "      <th>rating</th>\n",
       "      <th>duration</th>\n",
       "      <th>listed_in</th>\n",
       "      <th>description</th>\n",
       "    </tr>\n",
       "  </thead>\n",
       "  <tbody>\n",
       "    <tr>\n",
       "      <th>0</th>\n",
       "      <td>s1</td>\n",
       "      <td>TV Show</td>\n",
       "      <td>3%</td>\n",
       "      <td>NaN</td>\n",
       "      <td>João Miguel, Bianca Comparato, Michel Gomes, R...</td>\n",
       "      <td>Brazil</td>\n",
       "      <td>August 14, 2020</td>\n",
       "      <td>2020</td>\n",
       "      <td>TV-MA</td>\n",
       "      <td>4 Seasons</td>\n",
       "      <td>International TV Shows, TV Dramas, TV Sci-Fi &amp;...</td>\n",
       "      <td>In a future where the elite inhabit an island ...</td>\n",
       "    </tr>\n",
       "    <tr>\n",
       "      <th>1</th>\n",
       "      <td>s2</td>\n",
       "      <td>Movie</td>\n",
       "      <td>7:19</td>\n",
       "      <td>Jorge Michel Grau</td>\n",
       "      <td>Demián Bichir, Héctor Bonilla, Oscar Serrano, ...</td>\n",
       "      <td>Mexico</td>\n",
       "      <td>December 23, 2016</td>\n",
       "      <td>2016</td>\n",
       "      <td>TV-MA</td>\n",
       "      <td>93 min</td>\n",
       "      <td>Dramas, International Movies</td>\n",
       "      <td>After a devastating earthquake hits Mexico Cit...</td>\n",
       "    </tr>\n",
       "    <tr>\n",
       "      <th>2</th>\n",
       "      <td>s3</td>\n",
       "      <td>Movie</td>\n",
       "      <td>23:59</td>\n",
       "      <td>Gilbert Chan</td>\n",
       "      <td>Tedd Chan, Stella Chung, Henley Hii, Lawrence ...</td>\n",
       "      <td>Singapore</td>\n",
       "      <td>December 20, 2018</td>\n",
       "      <td>2011</td>\n",
       "      <td>R</td>\n",
       "      <td>78 min</td>\n",
       "      <td>Horror Movies, International Movies</td>\n",
       "      <td>When an army recruit is found dead, his fellow...</td>\n",
       "    </tr>\n",
       "    <tr>\n",
       "      <th>3</th>\n",
       "      <td>s4</td>\n",
       "      <td>Movie</td>\n",
       "      <td>9</td>\n",
       "      <td>Shane Acker</td>\n",
       "      <td>Elijah Wood, John C. Reilly, Jennifer Connelly...</td>\n",
       "      <td>United States</td>\n",
       "      <td>November 16, 2017</td>\n",
       "      <td>2009</td>\n",
       "      <td>PG-13</td>\n",
       "      <td>80 min</td>\n",
       "      <td>Action &amp; Adventure, Independent Movies, Sci-Fi...</td>\n",
       "      <td>In a postapocalyptic world, rag-doll robots hi...</td>\n",
       "    </tr>\n",
       "    <tr>\n",
       "      <th>4</th>\n",
       "      <td>s5</td>\n",
       "      <td>Movie</td>\n",
       "      <td>21</td>\n",
       "      <td>Robert Luketic</td>\n",
       "      <td>Jim Sturgess, Kevin Spacey, Kate Bosworth, Aar...</td>\n",
       "      <td>United States</td>\n",
       "      <td>January 1, 2020</td>\n",
       "      <td>2008</td>\n",
       "      <td>PG-13</td>\n",
       "      <td>123 min</td>\n",
       "      <td>Dramas</td>\n",
       "      <td>A brilliant group of students become card-coun...</td>\n",
       "    </tr>\n",
       "    <tr>\n",
       "      <th>...</th>\n",
       "      <td>...</td>\n",
       "      <td>...</td>\n",
       "      <td>...</td>\n",
       "      <td>...</td>\n",
       "      <td>...</td>\n",
       "      <td>...</td>\n",
       "      <td>...</td>\n",
       "      <td>...</td>\n",
       "      <td>...</td>\n",
       "      <td>...</td>\n",
       "      <td>...</td>\n",
       "      <td>...</td>\n",
       "    </tr>\n",
       "    <tr>\n",
       "      <th>7782</th>\n",
       "      <td>s7783</td>\n",
       "      <td>Movie</td>\n",
       "      <td>Zozo</td>\n",
       "      <td>Josef Fares</td>\n",
       "      <td>Imad Creidi, Antoinette Turk, Elias Gergi, Car...</td>\n",
       "      <td>Sweden, Czech Republic, United Kingdom, Denmar...</td>\n",
       "      <td>October 19, 2020</td>\n",
       "      <td>2005</td>\n",
       "      <td>TV-MA</td>\n",
       "      <td>99 min</td>\n",
       "      <td>Dramas, International Movies</td>\n",
       "      <td>When Lebanon's Civil War deprives Zozo of his ...</td>\n",
       "    </tr>\n",
       "    <tr>\n",
       "      <th>7783</th>\n",
       "      <td>s7784</td>\n",
       "      <td>Movie</td>\n",
       "      <td>Zubaan</td>\n",
       "      <td>Mozez Singh</td>\n",
       "      <td>Vicky Kaushal, Sarah-Jane Dias, Raaghav Chanan...</td>\n",
       "      <td>India</td>\n",
       "      <td>March 2, 2019</td>\n",
       "      <td>2015</td>\n",
       "      <td>TV-14</td>\n",
       "      <td>111 min</td>\n",
       "      <td>Dramas, International Movies, Music &amp; Musicals</td>\n",
       "      <td>A scrappy but poor boy worms his way into a ty...</td>\n",
       "    </tr>\n",
       "    <tr>\n",
       "      <th>7784</th>\n",
       "      <td>s7785</td>\n",
       "      <td>Movie</td>\n",
       "      <td>Zulu Man in Japan</td>\n",
       "      <td>NaN</td>\n",
       "      <td>Nasty C</td>\n",
       "      <td>NaN</td>\n",
       "      <td>September 25, 2020</td>\n",
       "      <td>2019</td>\n",
       "      <td>TV-MA</td>\n",
       "      <td>44 min</td>\n",
       "      <td>Documentaries, International Movies, Music &amp; M...</td>\n",
       "      <td>In this documentary, South African rapper Nast...</td>\n",
       "    </tr>\n",
       "    <tr>\n",
       "      <th>7785</th>\n",
       "      <td>s7786</td>\n",
       "      <td>TV Show</td>\n",
       "      <td>Zumbo's Just Desserts</td>\n",
       "      <td>NaN</td>\n",
       "      <td>Adriano Zumbo, Rachel Khoo</td>\n",
       "      <td>Australia</td>\n",
       "      <td>October 31, 2020</td>\n",
       "      <td>2019</td>\n",
       "      <td>TV-PG</td>\n",
       "      <td>1 Season</td>\n",
       "      <td>International TV Shows, Reality TV</td>\n",
       "      <td>Dessert wizard Adriano Zumbo looks for the nex...</td>\n",
       "    </tr>\n",
       "    <tr>\n",
       "      <th>7786</th>\n",
       "      <td>s7787</td>\n",
       "      <td>Movie</td>\n",
       "      <td>ZZ TOP: THAT LITTLE OL' BAND FROM TEXAS</td>\n",
       "      <td>Sam Dunn</td>\n",
       "      <td>NaN</td>\n",
       "      <td>United Kingdom, Canada, United States</td>\n",
       "      <td>March 1, 2020</td>\n",
       "      <td>2019</td>\n",
       "      <td>TV-MA</td>\n",
       "      <td>90 min</td>\n",
       "      <td>Documentaries, Music &amp; Musicals</td>\n",
       "      <td>This documentary delves into the mystique behi...</td>\n",
       "    </tr>\n",
       "  </tbody>\n",
       "</table>\n",
       "<p>7787 rows × 12 columns</p>\n",
       "</div>"
      ],
      "text/plain": [
       "     show_id     type                                    title  \\\n",
       "0         s1  TV Show                                       3%   \n",
       "1         s2    Movie                                     7:19   \n",
       "2         s3    Movie                                    23:59   \n",
       "3         s4    Movie                                        9   \n",
       "4         s5    Movie                                       21   \n",
       "...      ...      ...                                      ...   \n",
       "7782   s7783    Movie                                     Zozo   \n",
       "7783   s7784    Movie                                   Zubaan   \n",
       "7784   s7785    Movie                        Zulu Man in Japan   \n",
       "7785   s7786  TV Show                    Zumbo's Just Desserts   \n",
       "7786   s7787    Movie  ZZ TOP: THAT LITTLE OL' BAND FROM TEXAS   \n",
       "\n",
       "               director                                               cast  \\\n",
       "0                   NaN  João Miguel, Bianca Comparato, Michel Gomes, R...   \n",
       "1     Jorge Michel Grau  Demián Bichir, Héctor Bonilla, Oscar Serrano, ...   \n",
       "2          Gilbert Chan  Tedd Chan, Stella Chung, Henley Hii, Lawrence ...   \n",
       "3           Shane Acker  Elijah Wood, John C. Reilly, Jennifer Connelly...   \n",
       "4        Robert Luketic  Jim Sturgess, Kevin Spacey, Kate Bosworth, Aar...   \n",
       "...                 ...                                                ...   \n",
       "7782        Josef Fares  Imad Creidi, Antoinette Turk, Elias Gergi, Car...   \n",
       "7783        Mozez Singh  Vicky Kaushal, Sarah-Jane Dias, Raaghav Chanan...   \n",
       "7784                NaN                                            Nasty C   \n",
       "7785                NaN                         Adriano Zumbo, Rachel Khoo   \n",
       "7786           Sam Dunn                                                NaN   \n",
       "\n",
       "                                                country          date_added  \\\n",
       "0                                                Brazil     August 14, 2020   \n",
       "1                                                Mexico   December 23, 2016   \n",
       "2                                             Singapore   December 20, 2018   \n",
       "3                                         United States   November 16, 2017   \n",
       "4                                         United States     January 1, 2020   \n",
       "...                                                 ...                 ...   \n",
       "7782  Sweden, Czech Republic, United Kingdom, Denmar...    October 19, 2020   \n",
       "7783                                              India       March 2, 2019   \n",
       "7784                                                NaN  September 25, 2020   \n",
       "7785                                          Australia    October 31, 2020   \n",
       "7786              United Kingdom, Canada, United States       March 1, 2020   \n",
       "\n",
       "      release_year rating   duration  \\\n",
       "0             2020  TV-MA  4 Seasons   \n",
       "1             2016  TV-MA     93 min   \n",
       "2             2011      R     78 min   \n",
       "3             2009  PG-13     80 min   \n",
       "4             2008  PG-13    123 min   \n",
       "...            ...    ...        ...   \n",
       "7782          2005  TV-MA     99 min   \n",
       "7783          2015  TV-14    111 min   \n",
       "7784          2019  TV-MA     44 min   \n",
       "7785          2019  TV-PG   1 Season   \n",
       "7786          2019  TV-MA     90 min   \n",
       "\n",
       "                                              listed_in  \\\n",
       "0     International TV Shows, TV Dramas, TV Sci-Fi &...   \n",
       "1                          Dramas, International Movies   \n",
       "2                   Horror Movies, International Movies   \n",
       "3     Action & Adventure, Independent Movies, Sci-Fi...   \n",
       "4                                                Dramas   \n",
       "...                                                 ...   \n",
       "7782                       Dramas, International Movies   \n",
       "7783     Dramas, International Movies, Music & Musicals   \n",
       "7784  Documentaries, International Movies, Music & M...   \n",
       "7785                 International TV Shows, Reality TV   \n",
       "7786                    Documentaries, Music & Musicals   \n",
       "\n",
       "                                            description  \n",
       "0     In a future where the elite inhabit an island ...  \n",
       "1     After a devastating earthquake hits Mexico Cit...  \n",
       "2     When an army recruit is found dead, his fellow...  \n",
       "3     In a postapocalyptic world, rag-doll robots hi...  \n",
       "4     A brilliant group of students become card-coun...  \n",
       "...                                                 ...  \n",
       "7782  When Lebanon's Civil War deprives Zozo of his ...  \n",
       "7783  A scrappy but poor boy worms his way into a ty...  \n",
       "7784  In this documentary, South African rapper Nast...  \n",
       "7785  Dessert wizard Adriano Zumbo looks for the nex...  \n",
       "7786  This documentary delves into the mystique behi...  \n",
       "\n",
       "[7787 rows x 12 columns]"
      ]
     },
     "execution_count": 2,
     "metadata": {},
     "output_type": "execute_result"
    }
   ],
   "source": [
    "# importing the csv\n",
    "shows_data = pd.read_csv(\"data/netflix_titles.csv\")\n",
    "shows_data"
   ]
  },
  {
   "cell_type": "code",
   "execution_count": 3,
   "id": "united-customer",
   "metadata": {},
   "outputs": [
    {
     "data": {
      "text/plain": [
       "Index(['show_id', 'type', 'title', 'director', 'cast', 'country', 'date_added',\n",
       "       'release_year', 'rating', 'duration', 'listed_in', 'description'],\n",
       "      dtype='object')"
      ]
     },
     "execution_count": 3,
     "metadata": {},
     "output_type": "execute_result"
    }
   ],
   "source": [
    "shows_data.columns"
   ]
  },
  {
   "cell_type": "code",
   "execution_count": 4,
   "id": "completed-structure",
   "metadata": {},
   "outputs": [
    {
     "data": {
      "text/plain": [
       "show_id         object\n",
       "type            object\n",
       "title           object\n",
       "director        object\n",
       "cast            object\n",
       "country         object\n",
       "date_added      object\n",
       "release_year     int64\n",
       "rating          object\n",
       "duration        object\n",
       "listed_in       object\n",
       "description     object\n",
       "dtype: object"
      ]
     },
     "execution_count": 4,
     "metadata": {},
     "output_type": "execute_result"
    }
   ],
   "source": [
    "# dataypes\n",
    "shows_data.dtypes"
   ]
  },
  {
   "cell_type": "code",
   "execution_count": 5,
   "id": "ready-given",
   "metadata": {},
   "outputs": [
    {
     "data": {
      "text/plain": [
       "RangeIndex(start=0, stop=7787, step=1)"
      ]
     },
     "execution_count": 5,
     "metadata": {},
     "output_type": "execute_result"
    }
   ],
   "source": [
    "# index range\n",
    "shows_data.index"
   ]
  },
  {
   "cell_type": "code",
   "execution_count": 6,
   "id": "opponent-silly",
   "metadata": {},
   "outputs": [
    {
     "name": "stdout",
     "output_type": "stream",
     "text": [
      "<class 'pandas.core.frame.DataFrame'>\n",
      "RangeIndex: 7787 entries, 0 to 7786\n",
      "Data columns (total 12 columns):\n",
      " #   Column        Non-Null Count  Dtype \n",
      "---  ------        --------------  ----- \n",
      " 0   show_id       7787 non-null   object\n",
      " 1   type          7787 non-null   object\n",
      " 2   title         7787 non-null   object\n",
      " 3   director      5398 non-null   object\n",
      " 4   cast          7069 non-null   object\n",
      " 5   country       7280 non-null   object\n",
      " 6   date_added    7777 non-null   object\n",
      " 7   release_year  7787 non-null   int64 \n",
      " 8   rating        7780 non-null   object\n",
      " 9   duration      7787 non-null   object\n",
      " 10  listed_in     7787 non-null   object\n",
      " 11  description   7787 non-null   object\n",
      "dtypes: int64(1), object(11)\n",
      "memory usage: 730.2+ KB\n"
     ]
    }
   ],
   "source": [
    "shows_data.info()"
   ]
  },
  {
   "cell_type": "code",
   "execution_count": 7,
   "id": "scientific-booking",
   "metadata": {},
   "outputs": [
    {
     "data": {
      "text/html": [
       "<div>\n",
       "<style scoped>\n",
       "    .dataframe tbody tr th:only-of-type {\n",
       "        vertical-align: middle;\n",
       "    }\n",
       "\n",
       "    .dataframe tbody tr th {\n",
       "        vertical-align: top;\n",
       "    }\n",
       "\n",
       "    .dataframe thead th {\n",
       "        text-align: right;\n",
       "    }\n",
       "</style>\n",
       "<table border=\"1\" class=\"dataframe\">\n",
       "  <thead>\n",
       "    <tr style=\"text-align: right;\">\n",
       "      <th></th>\n",
       "      <th>show_id</th>\n",
       "      <th>type</th>\n",
       "      <th>title</th>\n",
       "      <th>director</th>\n",
       "      <th>cast</th>\n",
       "      <th>country</th>\n",
       "      <th>date_added</th>\n",
       "      <th>release_year</th>\n",
       "      <th>rating</th>\n",
       "      <th>duration</th>\n",
       "      <th>listed_in</th>\n",
       "      <th>description</th>\n",
       "    </tr>\n",
       "  </thead>\n",
       "  <tbody>\n",
       "    <tr>\n",
       "      <th>0</th>\n",
       "      <td>s1</td>\n",
       "      <td>TV Show</td>\n",
       "      <td>3%</td>\n",
       "      <td>NaN</td>\n",
       "      <td>João Miguel, Bianca Comparato, Michel Gomes, R...</td>\n",
       "      <td>Brazil</td>\n",
       "      <td>August 14, 2020</td>\n",
       "      <td>2020</td>\n",
       "      <td>TV-MA</td>\n",
       "      <td>4 Seasons</td>\n",
       "      <td>International TV Shows, TV Dramas, TV Sci-Fi &amp;...</td>\n",
       "      <td>In a future where the elite inhabit an island ...</td>\n",
       "    </tr>\n",
       "    <tr>\n",
       "      <th>1</th>\n",
       "      <td>s2</td>\n",
       "      <td>Movie</td>\n",
       "      <td>7:19</td>\n",
       "      <td>Jorge Michel Grau</td>\n",
       "      <td>Demián Bichir, Héctor Bonilla, Oscar Serrano, ...</td>\n",
       "      <td>Mexico</td>\n",
       "      <td>December 23, 2016</td>\n",
       "      <td>2016</td>\n",
       "      <td>TV-MA</td>\n",
       "      <td>93 min</td>\n",
       "      <td>Dramas, International Movies</td>\n",
       "      <td>After a devastating earthquake hits Mexico Cit...</td>\n",
       "    </tr>\n",
       "    <tr>\n",
       "      <th>2</th>\n",
       "      <td>s3</td>\n",
       "      <td>Movie</td>\n",
       "      <td>23:59</td>\n",
       "      <td>Gilbert Chan</td>\n",
       "      <td>Tedd Chan, Stella Chung, Henley Hii, Lawrence ...</td>\n",
       "      <td>Singapore</td>\n",
       "      <td>December 20, 2018</td>\n",
       "      <td>2011</td>\n",
       "      <td>R</td>\n",
       "      <td>78 min</td>\n",
       "      <td>Horror Movies, International Movies</td>\n",
       "      <td>When an army recruit is found dead, his fellow...</td>\n",
       "    </tr>\n",
       "    <tr>\n",
       "      <th>3</th>\n",
       "      <td>s4</td>\n",
       "      <td>Movie</td>\n",
       "      <td>9</td>\n",
       "      <td>Shane Acker</td>\n",
       "      <td>Elijah Wood, John C. Reilly, Jennifer Connelly...</td>\n",
       "      <td>United States</td>\n",
       "      <td>November 16, 2017</td>\n",
       "      <td>2009</td>\n",
       "      <td>PG-13</td>\n",
       "      <td>80 min</td>\n",
       "      <td>Action &amp; Adventure, Independent Movies, Sci-Fi...</td>\n",
       "      <td>In a postapocalyptic world, rag-doll robots hi...</td>\n",
       "    </tr>\n",
       "    <tr>\n",
       "      <th>4</th>\n",
       "      <td>s5</td>\n",
       "      <td>Movie</td>\n",
       "      <td>21</td>\n",
       "      <td>Robert Luketic</td>\n",
       "      <td>Jim Sturgess, Kevin Spacey, Kate Bosworth, Aar...</td>\n",
       "      <td>United States</td>\n",
       "      <td>January 1, 2020</td>\n",
       "      <td>2008</td>\n",
       "      <td>PG-13</td>\n",
       "      <td>123 min</td>\n",
       "      <td>Dramas</td>\n",
       "      <td>A brilliant group of students become card-coun...</td>\n",
       "    </tr>\n",
       "  </tbody>\n",
       "</table>\n",
       "</div>"
      ],
      "text/plain": [
       "  show_id     type  title           director  \\\n",
       "0      s1  TV Show     3%                NaN   \n",
       "1      s2    Movie   7:19  Jorge Michel Grau   \n",
       "2      s3    Movie  23:59       Gilbert Chan   \n",
       "3      s4    Movie      9        Shane Acker   \n",
       "4      s5    Movie     21     Robert Luketic   \n",
       "\n",
       "                                                cast        country  \\\n",
       "0  João Miguel, Bianca Comparato, Michel Gomes, R...         Brazil   \n",
       "1  Demián Bichir, Héctor Bonilla, Oscar Serrano, ...         Mexico   \n",
       "2  Tedd Chan, Stella Chung, Henley Hii, Lawrence ...      Singapore   \n",
       "3  Elijah Wood, John C. Reilly, Jennifer Connelly...  United States   \n",
       "4  Jim Sturgess, Kevin Spacey, Kate Bosworth, Aar...  United States   \n",
       "\n",
       "          date_added  release_year rating   duration  \\\n",
       "0    August 14, 2020          2020  TV-MA  4 Seasons   \n",
       "1  December 23, 2016          2016  TV-MA     93 min   \n",
       "2  December 20, 2018          2011      R     78 min   \n",
       "3  November 16, 2017          2009  PG-13     80 min   \n",
       "4    January 1, 2020          2008  PG-13    123 min   \n",
       "\n",
       "                                           listed_in  \\\n",
       "0  International TV Shows, TV Dramas, TV Sci-Fi &...   \n",
       "1                       Dramas, International Movies   \n",
       "2                Horror Movies, International Movies   \n",
       "3  Action & Adventure, Independent Movies, Sci-Fi...   \n",
       "4                                             Dramas   \n",
       "\n",
       "                                         description  \n",
       "0  In a future where the elite inhabit an island ...  \n",
       "1  After a devastating earthquake hits Mexico Cit...  \n",
       "2  When an army recruit is found dead, his fellow...  \n",
       "3  In a postapocalyptic world, rag-doll robots hi...  \n",
       "4  A brilliant group of students become card-coun...  "
      ]
     },
     "execution_count": 7,
     "metadata": {},
     "output_type": "execute_result"
    }
   ],
   "source": [
    "shows_data.head()"
   ]
  },
  {
   "cell_type": "code",
   "execution_count": 8,
   "id": "nervous-clear",
   "metadata": {},
   "outputs": [
    {
     "data": {
      "text/plain": [
       "array(['TV Show', 'Movie'], dtype=object)"
      ]
     },
     "execution_count": 8,
     "metadata": {},
     "output_type": "execute_result"
    }
   ],
   "source": [
    "shows_data[\"type\"].unique()"
   ]
  },
  {
   "cell_type": "code",
   "execution_count": 9,
   "id": "beneficial-scottish",
   "metadata": {},
   "outputs": [
    {
     "data": {
      "text/plain": [
       "0       False\n",
       "1       False\n",
       "2       False\n",
       "3       False\n",
       "4       False\n",
       "        ...  \n",
       "7782    False\n",
       "7783     True\n",
       "7784      NaN\n",
       "7785    False\n",
       "7786    False\n",
       "Name: country, Length: 7787, dtype: object"
      ]
     },
     "execution_count": 9,
     "metadata": {},
     "output_type": "execute_result"
    }
   ],
   "source": [
    "shows_data[\"country\"].str.contains(\"India\")"
   ]
  },
  {
   "cell_type": "code",
   "execution_count": 10,
   "id": "million-stations",
   "metadata": {},
   "outputs": [
    {
     "data": {
      "text/plain": [
       "array([2020, 2016, 2011, 2009, 2008, 2019, 1997, 2017, 2018, 2014, 2015,\n",
       "       2010, 2005, 2013, 2012, 2006, 2000, 2003, 1989, 2004, 1977, 1971,\n",
       "       1993, 2007, 1998, 1988, 1996, 2002, 1986, 1990, 1979, 1980, 1974,\n",
       "       2001, 1999, 1966, 1991, 1982, 1994, 1995, 1978, 1992, 1972, 1975,\n",
       "       2021, 1973, 1967, 1960, 1981, 1958, 1976, 1968, 1956, 1985, 1965,\n",
       "       1984, 1983, 1987, 1945, 1946, 1962, 1925, 1942, 1969, 1955, 1963,\n",
       "       1964, 1954, 1970, 1944, 1947, 1959, 1943])"
      ]
     },
     "execution_count": 10,
     "metadata": {},
     "output_type": "execute_result"
    }
   ],
   "source": [
    "shows_data[\"release_year\"].unique()"
   ]
  },
  {
   "cell_type": "markdown",
   "id": "further-wales",
   "metadata": {},
   "source": [
    "## Detailed description on the dataset columns\n",
    "\n",
    "* show_id - A unique id assigned to every available tv show or movie\n",
    "* type - What type of content is it - `TV Show or Movie`\n",
    "* title - Title of the content\n",
    "* director - director of the content\n",
    "* cast - cast(actors) of the content\n",
    "* country - Country where the movie / show was produced\n",
    "* date_added - Date on content added to netflix\n",
    "* rating\n",
    "* duration - Duration in minutes or seasons\n",
    "* listed_in - Genre\n",
    "* description - short description about the movie/show"
   ]
  },
  {
   "cell_type": "markdown",
   "id": "sunrise-restriction",
   "metadata": {},
   "source": [
    "### Analysis based on release year"
   ]
  },
  {
   "cell_type": "code",
   "execution_count": 11,
   "id": "premium-situation",
   "metadata": {},
   "outputs": [
    {
     "data": {
      "text/plain": [
       "array([1940, 1941, 1942, 1943, 1944, 1945, 1946, 1947, 1948, 1949, 1950,\n",
       "       1951, 1952, 1953, 1954, 1955, 1956, 1957, 1958, 1959, 1960, 1961,\n",
       "       1962, 1963, 1964, 1965, 1966, 1967, 1968, 1969, 1970, 1971, 1972,\n",
       "       1973, 1974, 1975, 1976, 1977, 1978, 1979, 1980])"
      ]
     },
     "execution_count": 11,
     "metadata": {},
     "output_type": "execute_result"
    }
   ],
   "source": [
    "np.arange(1940, 1980 + 1, 1)"
   ]
  },
  {
   "cell_type": "code",
   "execution_count": 12,
   "id": "advisory-reading",
   "metadata": {},
   "outputs": [],
   "source": [
    "# Splitting release year data in half for better vizualization\n",
    "ry_40_80 = shows_data[shows_data[\"release_year\"].isin(np.arange(1940, 1980 + 1 , 1))]\n",
    "ry_81_20 = shows_data[shows_data[\"release_year\"].isin(np.arange(1981, 2020 + 1 , 1))]\n",
    "ry48 = ry_40_80[\"release_year\"]\n",
    "ry82 = ry_81_20[\"release_year\"]"
   ]
  },
  {
   "cell_type": "code",
   "execution_count": 13,
   "id": "victorian-austin",
   "metadata": {},
   "outputs": [
    {
     "data": {
      "image/png": "[encoded data removed]",
      "text/plain": [
       "<Figure size 2160x720 with 1 Axes>"
      ]
     },
     "metadata": {
      "needs_background": "light"
     },
     "output_type": "display_data"
    }
   ],
   "source": [
    "# Content analysis based on release date\n",
    "ry_40_80 = shows_data[\"release_year\"]\n",
    "bins=np.arange(min(ry48), max(ry48) + 1, 1)\n",
    "fig,ax = plt.subplots(figsize=(30,10))\n",
    "ax.hist(ry_40_80, bins=bins, edgecolor='black', color='yellow') # bins to spread the data year wise\n",
    "ax.set_xticks(bins) # This will set the year exact with each bar\n",
    "plt.xticks(rotation=90) # rotating the year vertically in y axis\n",
    "ax.set(xlabel=\"Year of Release\",\n",
    "      ylabel=\"Number of Shows/Movies\")\n",
    "ax.set_title(\"1940 to 1980\", fontsize=20)\n",
    "plt.show()\n",
    "fig.savefig(\"images/ry-1940-80\")"
   ]
  },
  {
   "cell_type": "code",
   "execution_count": 14,
   "id": "proved-counter",
   "metadata": {},
   "outputs": [
    {
     "data": {
      "image/png": "[encoded data removed]",
      "text/plain": [
       "<Figure size 2160x720 with 1 Axes>"
      ]
     },
     "metadata": {
      "needs_background": "light"
     },
     "output_type": "display_data"
    }
   ],
   "source": [
    "# Content analysis based on release date\n",
    "ry_81_20 = shows_data[\"release_year\"]\n",
    "bins=np.arange(min(ry82), max(ry82) + 1, 1)\n",
    "fig,ax = plt.subplots(figsize=(30,10))\n",
    "ax.hist(ry_40_80, bins=bins, edgecolor='black', color='yellow')\n",
    "ax.set_xticks(bins)\n",
    "ax.set(xlabel=\"Year of Release\",\n",
    "      ylabel=\"Number of Shows/Movies\")\n",
    "ax.set_title(\"1981 to 2020\", fontsize=20)\n",
    "plt.xticks(rotation=90)\n",
    "plt.show()\n",
    "fig.savefig(\"images/ry-1981-2020\")"
   ]
  },
  {
   "cell_type": "markdown",
   "id": "studied-parent",
   "metadata": {},
   "source": [
    "## Analysis of number of `country` feature with `year_released`"
   ]
  },
  {
   "cell_type": "code",
   "execution_count": 15,
   "id": "documentary-lighter",
   "metadata": {},
   "outputs": [
    {
     "data": {
      "text/html": [
       "<div>\n",
       "<style scoped>\n",
       "    .dataframe tbody tr th:only-of-type {\n",
       "        vertical-align: middle;\n",
       "    }\n",
       "\n",
       "    .dataframe tbody tr th {\n",
       "        vertical-align: top;\n",
       "    }\n",
       "\n",
       "    .dataframe thead th {\n",
       "        text-align: right;\n",
       "    }\n",
       "</style>\n",
       "<table border=\"1\" class=\"dataframe\">\n",
       "  <thead>\n",
       "    <tr style=\"text-align: right;\">\n",
       "      <th></th>\n",
       "      <th>release_year</th>\n",
       "      <th>country</th>\n",
       "    </tr>\n",
       "  </thead>\n",
       "  <tbody>\n",
       "    <tr>\n",
       "      <th>0</th>\n",
       "      <td>2020</td>\n",
       "      <td>Brazil</td>\n",
       "    </tr>\n",
       "    <tr>\n",
       "      <th>1</th>\n",
       "      <td>2016</td>\n",
       "      <td>Mexico</td>\n",
       "    </tr>\n",
       "    <tr>\n",
       "      <th>2</th>\n",
       "      <td>2011</td>\n",
       "      <td>Singapore</td>\n",
       "    </tr>\n",
       "    <tr>\n",
       "      <th>3</th>\n",
       "      <td>2009</td>\n",
       "      <td>United States</td>\n",
       "    </tr>\n",
       "    <tr>\n",
       "      <th>4</th>\n",
       "      <td>2008</td>\n",
       "      <td>United States</td>\n",
       "    </tr>\n",
       "  </tbody>\n",
       "</table>\n",
       "</div>"
      ],
      "text/plain": [
       "   release_year        country\n",
       "0          2020         Brazil\n",
       "1          2016         Mexico\n",
       "2          2011      Singapore\n",
       "3          2009  United States\n",
       "4          2008  United States"
      ]
     },
     "execution_count": 15,
     "metadata": {},
     "output_type": "execute_result"
    }
   ],
   "source": [
    "ry = pd.Series(shows_data[\"release_year\"])\n",
    "cu = pd.Series(shows_data[\"country\"])\n",
    "year_country_data = pd.DataFrame({\"release_year\":ry, \"country\":cu})\n",
    "year_country_data.head()"
   ]
  },
  {
   "cell_type": "code",
   "execution_count": 16,
   "id": "expected-lotus",
   "metadata": {},
   "outputs": [],
   "source": [
    "year_country_data[\"country\"].fillna(\"notavailable\", inplace=True)"
   ]
  },
  {
   "cell_type": "code",
   "execution_count": 17,
   "id": "detected-asian",
   "metadata": {},
   "outputs": [
    {
     "data": {
      "text/html": [
       "<div>\n",
       "<style scoped>\n",
       "    .dataframe tbody tr th:only-of-type {\n",
       "        vertical-align: middle;\n",
       "    }\n",
       "\n",
       "    .dataframe tbody tr th {\n",
       "        vertical-align: top;\n",
       "    }\n",
       "\n",
       "    .dataframe thead th {\n",
       "        text-align: right;\n",
       "    }\n",
       "</style>\n",
       "<table border=\"1\" class=\"dataframe\">\n",
       "  <thead>\n",
       "    <tr style=\"text-align: right;\">\n",
       "      <th></th>\n",
       "      <th>release_year</th>\n",
       "      <th>country</th>\n",
       "    </tr>\n",
       "  </thead>\n",
       "  <tbody>\n",
       "    <tr>\n",
       "      <th>7782</th>\n",
       "      <td>2005</td>\n",
       "      <td>Sweden, Czech Republic, United Kingdom, Denmar...</td>\n",
       "    </tr>\n",
       "    <tr>\n",
       "      <th>7783</th>\n",
       "      <td>2015</td>\n",
       "      <td>India</td>\n",
       "    </tr>\n",
       "    <tr>\n",
       "      <th>7784</th>\n",
       "      <td>2019</td>\n",
       "      <td>notavailable</td>\n",
       "    </tr>\n",
       "    <tr>\n",
       "      <th>7785</th>\n",
       "      <td>2019</td>\n",
       "      <td>Australia</td>\n",
       "    </tr>\n",
       "    <tr>\n",
       "      <th>7786</th>\n",
       "      <td>2019</td>\n",
       "      <td>United Kingdom, Canada, United States</td>\n",
       "    </tr>\n",
       "  </tbody>\n",
       "</table>\n",
       "</div>"
      ],
      "text/plain": [
       "      release_year                                            country\n",
       "7782          2005  Sweden, Czech Republic, United Kingdom, Denmar...\n",
       "7783          2015                                              India\n",
       "7784          2019                                       notavailable\n",
       "7785          2019                                          Australia\n",
       "7786          2019              United Kingdom, Canada, United States"
      ]
     },
     "execution_count": 17,
     "metadata": {},
     "output_type": "execute_result"
    }
   ],
   "source": [
    "year_country_data.tail()"
   ]
  },
  {
   "cell_type": "code",
   "execution_count": 18,
   "id": "sublime-filename",
   "metadata": {},
   "outputs": [
    {
     "data": {
      "text/plain": [
       "release_year    int64\n",
       "country         |S123\n",
       "dtype: object"
      ]
     },
     "execution_count": 18,
     "metadata": {},
     "output_type": "execute_result"
    }
   ],
   "source": [
    "# Converting object to byte string\n",
    "year_country_data[\"country\"] = year_country_data[\"country\"].astype('|S')\n",
    "year_country_data.dtypes"
   ]
  },
  {
   "cell_type": "code",
   "execution_count": 19,
   "id": "unable-character",
   "metadata": {},
   "outputs": [
    {
     "data": {
      "text/html": [
       "<div>\n",
       "<style scoped>\n",
       "    .dataframe tbody tr th:only-of-type {\n",
       "        vertical-align: middle;\n",
       "    }\n",
       "\n",
       "    .dataframe tbody tr th {\n",
       "        vertical-align: top;\n",
       "    }\n",
       "\n",
       "    .dataframe thead th {\n",
       "        text-align: right;\n",
       "    }\n",
       "</style>\n",
       "<table border=\"1\" class=\"dataframe\">\n",
       "  <thead>\n",
       "    <tr style=\"text-align: right;\">\n",
       "      <th></th>\n",
       "      <th>release_year</th>\n",
       "      <th>country</th>\n",
       "    </tr>\n",
       "  </thead>\n",
       "  <tbody>\n",
       "    <tr>\n",
       "      <th>0</th>\n",
       "      <td>2020</td>\n",
       "      <td>b'Brazil'</td>\n",
       "    </tr>\n",
       "    <tr>\n",
       "      <th>1</th>\n",
       "      <td>2016</td>\n",
       "      <td>b'Mexico'</td>\n",
       "    </tr>\n",
       "    <tr>\n",
       "      <th>2</th>\n",
       "      <td>2011</td>\n",
       "      <td>b'Singapore'</td>\n",
       "    </tr>\n",
       "    <tr>\n",
       "      <th>3</th>\n",
       "      <td>2009</td>\n",
       "      <td>b'United States'</td>\n",
       "    </tr>\n",
       "    <tr>\n",
       "      <th>4</th>\n",
       "      <td>2008</td>\n",
       "      <td>b'United States'</td>\n",
       "    </tr>\n",
       "  </tbody>\n",
       "</table>\n",
       "</div>"
      ],
      "text/plain": [
       "   release_year           country\n",
       "0          2020         b'Brazil'\n",
       "1          2016         b'Mexico'\n",
       "2          2011      b'Singapore'\n",
       "3          2009  b'United States'\n",
       "4          2008  b'United States'"
      ]
     },
     "execution_count": 19,
     "metadata": {},
     "output_type": "execute_result"
    }
   ],
   "source": [
    "year_country_data.head() # byte strings"
   ]
  },
  {
   "cell_type": "code",
   "execution_count": 20,
   "id": "rental-corrections",
   "metadata": {},
   "outputs": [],
   "source": [
    "# Using decode to remove the b'' from converted byte string\n",
    "year_country_data[\"country\"] = year_country_data[\"country\"].str.decode('utf-8')"
   ]
  },
  {
   "cell_type": "code",
   "execution_count": 21,
   "id": "unnecessary-aberdeen",
   "metadata": {},
   "outputs": [
    {
     "data": {
      "text/html": [
       "<div>\n",
       "<style scoped>\n",
       "    .dataframe tbody tr th:only-of-type {\n",
       "        vertical-align: middle;\n",
       "    }\n",
       "\n",
       "    .dataframe tbody tr th {\n",
       "        vertical-align: top;\n",
       "    }\n",
       "\n",
       "    .dataframe thead th {\n",
       "        text-align: right;\n",
       "    }\n",
       "</style>\n",
       "<table border=\"1\" class=\"dataframe\">\n",
       "  <thead>\n",
       "    <tr style=\"text-align: right;\">\n",
       "      <th></th>\n",
       "      <th>release_year</th>\n",
       "      <th>country</th>\n",
       "    </tr>\n",
       "  </thead>\n",
       "  <tbody>\n",
       "    <tr>\n",
       "      <th>7782</th>\n",
       "      <td>2005</td>\n",
       "      <td>Sweden, Czech Republic, United Kingdom, Denmar...</td>\n",
       "    </tr>\n",
       "    <tr>\n",
       "      <th>7783</th>\n",
       "      <td>2015</td>\n",
       "      <td>India</td>\n",
       "    </tr>\n",
       "    <tr>\n",
       "      <th>7784</th>\n",
       "      <td>2019</td>\n",
       "      <td>notavailable</td>\n",
       "    </tr>\n",
       "    <tr>\n",
       "      <th>7785</th>\n",
       "      <td>2019</td>\n",
       "      <td>Australia</td>\n",
       "    </tr>\n",
       "    <tr>\n",
       "      <th>7786</th>\n",
       "      <td>2019</td>\n",
       "      <td>United Kingdom, Canada, United States</td>\n",
       "    </tr>\n",
       "  </tbody>\n",
       "</table>\n",
       "</div>"
      ],
      "text/plain": [
       "      release_year                                            country\n",
       "7782          2005  Sweden, Czech Republic, United Kingdom, Denmar...\n",
       "7783          2015                                              India\n",
       "7784          2019                                       notavailable\n",
       "7785          2019                                          Australia\n",
       "7786          2019              United Kingdom, Canada, United States"
      ]
     },
     "execution_count": 21,
     "metadata": {},
     "output_type": "execute_result"
    }
   ],
   "source": [
    "year_country_data.tail()"
   ]
  },
  {
   "cell_type": "code",
   "execution_count": 22,
   "id": "bigger-occasions",
   "metadata": {},
   "outputs": [
    {
     "data": {
      "text/html": [
       "<div>\n",
       "<style scoped>\n",
       "    .dataframe tbody tr th:only-of-type {\n",
       "        vertical-align: middle;\n",
       "    }\n",
       "\n",
       "    .dataframe tbody tr th {\n",
       "        vertical-align: top;\n",
       "    }\n",
       "\n",
       "    .dataframe thead th {\n",
       "        text-align: right;\n",
       "    }\n",
       "</style>\n",
       "<table border=\"1\" class=\"dataframe\">\n",
       "  <thead>\n",
       "    <tr style=\"text-align: right;\">\n",
       "      <th></th>\n",
       "      <th>release_year</th>\n",
       "      <th>country</th>\n",
       "    </tr>\n",
       "  </thead>\n",
       "  <tbody>\n",
       "    <tr>\n",
       "      <th>16</th>\n",
       "      <td>2018</td>\n",
       "      <td>notavailable</td>\n",
       "    </tr>\n",
       "    <tr>\n",
       "      <th>38</th>\n",
       "      <td>2016</td>\n",
       "      <td>notavailable</td>\n",
       "    </tr>\n",
       "    <tr>\n",
       "      <th>67</th>\n",
       "      <td>2017</td>\n",
       "      <td>notavailable</td>\n",
       "    </tr>\n",
       "    <tr>\n",
       "      <th>97</th>\n",
       "      <td>2003</td>\n",
       "      <td>notavailable</td>\n",
       "    </tr>\n",
       "    <tr>\n",
       "      <th>117</th>\n",
       "      <td>2017</td>\n",
       "      <td>notavailable</td>\n",
       "    </tr>\n",
       "    <tr>\n",
       "      <th>...</th>\n",
       "      <td>...</td>\n",
       "      <td>...</td>\n",
       "    </tr>\n",
       "    <tr>\n",
       "      <th>7739</th>\n",
       "      <td>2019</td>\n",
       "      <td>notavailable</td>\n",
       "    </tr>\n",
       "    <tr>\n",
       "      <th>7746</th>\n",
       "      <td>2019</td>\n",
       "      <td>notavailable</td>\n",
       "    </tr>\n",
       "    <tr>\n",
       "      <th>7765</th>\n",
       "      <td>2018</td>\n",
       "      <td>notavailable</td>\n",
       "    </tr>\n",
       "    <tr>\n",
       "      <th>7777</th>\n",
       "      <td>2018</td>\n",
       "      <td>notavailable</td>\n",
       "    </tr>\n",
       "    <tr>\n",
       "      <th>7784</th>\n",
       "      <td>2019</td>\n",
       "      <td>notavailable</td>\n",
       "    </tr>\n",
       "  </tbody>\n",
       "</table>\n",
       "<p>507 rows × 2 columns</p>\n",
       "</div>"
      ],
      "text/plain": [
       "      release_year       country\n",
       "16            2018  notavailable\n",
       "38            2016  notavailable\n",
       "67            2017  notavailable\n",
       "97            2003  notavailable\n",
       "117           2017  notavailable\n",
       "...            ...           ...\n",
       "7739          2019  notavailable\n",
       "7746          2019  notavailable\n",
       "7765          2018  notavailable\n",
       "7777          2018  notavailable\n",
       "7784          2019  notavailable\n",
       "\n",
       "[507 rows x 2 columns]"
      ]
     },
     "execution_count": 22,
     "metadata": {},
     "output_type": "execute_result"
    }
   ],
   "source": [
    "year_country_data[year_country_data[\"country\"] == \"notavailable\"]"
   ]
  },
  {
   "cell_type": "markdown",
   "id": "harmful-chest",
   "metadata": {},
   "source": [
    "**Note:** *Out of 7784 shows/movies 507 is not associated with any country*"
   ]
  },
  {
   "cell_type": "code",
   "execution_count": 23,
   "id": "medical-attendance",
   "metadata": {},
   "outputs": [
    {
     "name": "stdout",
     "output_type": "stream",
     "text": [
      "<class 'pandas.core.frame.DataFrame'>\n",
      "Int64Index: 7280 entries, 0 to 7786\n",
      "Data columns (total 2 columns):\n",
      " #   Column        Non-Null Count  Dtype \n",
      "---  ------        --------------  ----- \n",
      " 0   release_year  7280 non-null   int64 \n",
      " 1   country       7280 non-null   object\n",
      "dtypes: int64(1), object(1)\n",
      "memory usage: 170.6+ KB\n"
     ]
    }
   ],
   "source": [
    "# Removing Content associated with no countries\n",
    "year_country_data = year_country_data[year_country_data[\"country\"] != \"notavailable\"]\n",
    "year_country_data.info()\n",
    "year_country_data.to_csv('data/ry-country-removed-missing.csv')"
   ]
  },
  {
   "cell_type": "code",
   "execution_count": 24,
   "id": "known-exhaust",
   "metadata": {},
   "outputs": [
    {
     "data": {
      "text/html": [
       "<div>\n",
       "<style scoped>\n",
       "    .dataframe tbody tr th:only-of-type {\n",
       "        vertical-align: middle;\n",
       "    }\n",
       "\n",
       "    .dataframe tbody tr th {\n",
       "        vertical-align: top;\n",
       "    }\n",
       "\n",
       "    .dataframe thead th {\n",
       "        text-align: right;\n",
       "    }\n",
       "</style>\n",
       "<table border=\"1\" class=\"dataframe\">\n",
       "  <thead>\n",
       "    <tr style=\"text-align: right;\">\n",
       "      <th></th>\n",
       "      <th>release_year</th>\n",
       "      <th>country</th>\n",
       "      <th>No of Countries</th>\n",
       "    </tr>\n",
       "  </thead>\n",
       "  <tbody>\n",
       "    <tr>\n",
       "      <th>0</th>\n",
       "      <td>2020</td>\n",
       "      <td>Brazil</td>\n",
       "      <td>1</td>\n",
       "    </tr>\n",
       "    <tr>\n",
       "      <th>1</th>\n",
       "      <td>2016</td>\n",
       "      <td>Mexico</td>\n",
       "      <td>1</td>\n",
       "    </tr>\n",
       "    <tr>\n",
       "      <th>2</th>\n",
       "      <td>2011</td>\n",
       "      <td>Singapore</td>\n",
       "      <td>1</td>\n",
       "    </tr>\n",
       "    <tr>\n",
       "      <th>3</th>\n",
       "      <td>2009</td>\n",
       "      <td>United States</td>\n",
       "      <td>1</td>\n",
       "    </tr>\n",
       "    <tr>\n",
       "      <th>4</th>\n",
       "      <td>2008</td>\n",
       "      <td>United States</td>\n",
       "      <td>1</td>\n",
       "    </tr>\n",
       "  </tbody>\n",
       "</table>\n",
       "</div>"
      ],
      "text/plain": [
       "   release_year        country  No of Countries\n",
       "0          2020         Brazil                1\n",
       "1          2016         Mexico                1\n",
       "2          2011      Singapore                1\n",
       "3          2009  United States                1\n",
       "4          2008  United States                1"
      ]
     },
     "execution_count": 24,
     "metadata": {},
     "output_type": "execute_result"
    }
   ],
   "source": [
    "# Adding country count as additional column using lamba function\n",
    "year_country_data[\"No of Countries\"] = year_country_data[\"country\"].apply(lambda x: len(x.split(\",\")))\n",
    "year_country_data.head()"
   ]
  },
  {
   "cell_type": "code",
   "execution_count": 25,
   "id": "indirect-orchestra",
   "metadata": {},
   "outputs": [],
   "source": [
    "# Splitting the data by midpoint of release year\n",
    "ycd_40_80 = year_country_data[year_country_data[\"release_year\"].isin(np.arange(1940, 1980, 1))]\n",
    "ycd_81_20 = year_country_data[year_country_data[\"release_year\"].isin(np.arange(1981, 2020, 1))]"
   ]
  },
  {
   "cell_type": "code",
   "execution_count": 26,
   "id": "herbal-purpose",
   "metadata": {},
   "outputs": [
    {
     "name": "stdout",
     "output_type": "stream",
     "text": [
      "<class 'pandas.core.frame.DataFrame'>\n",
      "Int64Index: 116 entries, 153 to 7737\n",
      "Data columns (total 3 columns):\n",
      " #   Column           Non-Null Count  Dtype \n",
      "---  ------           --------------  ----- \n",
      " 0   release_year     116 non-null    int64 \n",
      " 1   country          116 non-null    object\n",
      " 2   No of Countries  116 non-null    int64 \n",
      "dtypes: int64(2), object(1)\n",
      "memory usage: 3.6+ KB\n",
      "<class 'pandas.core.frame.DataFrame'>\n",
      "Int64Index: 6328 entries, 1 to 7786\n",
      "Data columns (total 3 columns):\n",
      " #   Column           Non-Null Count  Dtype \n",
      "---  ------           --------------  ----- \n",
      " 0   release_year     6328 non-null   int64 \n",
      " 1   country          6328 non-null   object\n",
      " 2   No of Countries  6328 non-null   int64 \n",
      "dtypes: int64(2), object(1)\n",
      "memory usage: 197.8+ KB\n"
     ]
    }
   ],
   "source": [
    "# Confirming splitted data\n",
    "ycd_40_80.info()\n",
    "ycd_81_20.info()"
   ]
  },
  {
   "cell_type": "code",
   "execution_count": 27,
   "id": "distant-bloom",
   "metadata": {},
   "outputs": [
    {
     "data": {
      "image/png": "[encoded data removed]",
      "text/plain": [
       "<Figure size 2160x1440 with 2 Axes>"
      ]
     },
     "metadata": {
      "needs_background": "light"
     },
     "output_type": "display_data"
    }
   ],
   "source": [
    "# Plotting 1940 to 1980 split data with country count\n",
    "fig,(ax0, ax1) = plt.subplots(nrows=2, ncols=1 ,figsize=(30,20), sharey=True)\n",
    "ax0.bar(ycd_40_80[\"release_year\"], ycd_40_80[\"No of Countries\"])\n",
    "ax1.bar(ycd_81_20[\"release_year\"], ycd_81_20[\"No of Countries\"])\n",
    "plt.xlabel(\"Year of Release\", fontsize=20)\n",
    "ax0.set_ylabel(\"No of Countries\", fontsize=20)\n",
    "ax1.set_ylabel(\"No of Countries\", fontsize=20)\n",
    "ax0.set_title(\"Year of Release v No of Countries\", fontsize=30)\n",
    "plt.show()\n",
    "fig.savefig(\"images/ry-v-noofcountries.png\")"
   ]
  },
  {
   "cell_type": "markdown",
   "id": "reverse-clock",
   "metadata": {},
   "source": [
    "**Note:** *On seeing the graph the no of countries increased from a peak of 5 in midpoint to peak of 12 in second half*\n",
    "\n",
    "There's no effect on no of countries with movies release per year, this might be purely due to technology advancement in further years"
   ]
  },
  {
   "cell_type": "markdown",
   "id": "fuzzy-trader",
   "metadata": {},
   "source": [
    "## Analysis based on the date added to netflix"
   ]
  },
  {
   "cell_type": "code",
   "execution_count": 28,
   "id": "parallel-norway",
   "metadata": {},
   "outputs": [
    {
     "name": "stdout",
     "output_type": "stream",
     "text": [
      "<class 'pandas.core.frame.DataFrame'>\n",
      "RangeIndex: 7787 entries, 0 to 7786\n",
      "Data columns (total 12 columns):\n",
      " #   Column        Non-Null Count  Dtype \n",
      "---  ------        --------------  ----- \n",
      " 0   show_id       7787 non-null   object\n",
      " 1   type          7787 non-null   object\n",
      " 2   title         7787 non-null   object\n",
      " 3   director      5398 non-null   object\n",
      " 4   cast          7069 non-null   object\n",
      " 5   country       7280 non-null   object\n",
      " 6   date_added    7777 non-null   object\n",
      " 7   release_year  7787 non-null   int64 \n",
      " 8   rating        7780 non-null   object\n",
      " 9   duration      7787 non-null   object\n",
      " 10  listed_in     7787 non-null   object\n",
      " 11  description   7787 non-null   object\n",
      "dtypes: int64(1), object(11)\n",
      "memory usage: 730.2+ KB\n"
     ]
    }
   ],
   "source": [
    "shows_data = pd.read_csv(\"data/netflix_titles.csv\")\n",
    "shows_data.info()"
   ]
  },
  {
   "cell_type": "code",
   "execution_count": 29,
   "id": "impressive-energy",
   "metadata": {},
   "outputs": [
    {
     "data": {
      "text/plain": [
       "10"
      ]
     },
     "execution_count": 29,
     "metadata": {},
     "output_type": "execute_result"
    }
   ],
   "source": [
    "shows_data[\"date_added\"].isna().sum()"
   ]
  },
  {
   "cell_type": "code",
   "execution_count": 30,
   "id": "australian-mobility",
   "metadata": {},
   "outputs": [
    {
     "data": {
      "text/plain": [
       "0"
      ]
     },
     "execution_count": 30,
     "metadata": {},
     "output_type": "execute_result"
    }
   ],
   "source": [
    "# Removing null columns\n",
    "shows_data = shows_data[pd.notnull(shows_data[\"date_added\"])]\n",
    "shows_data[\"date_added\"].isna().sum()"
   ]
  },
  {
   "cell_type": "code",
   "execution_count": 31,
   "id": "liquid-mistake",
   "metadata": {},
   "outputs": [],
   "source": [
    "# Saving the nan removed csv\n",
    "shows_data[\"date_added\"].to_csv(\"date-added-removed-nan.csv\")"
   ]
  },
  {
   "cell_type": "code",
   "execution_count": 32,
   "id": "romantic-collapse",
   "metadata": {},
   "outputs": [
    {
     "data": {
      "text/html": [
       "<div>\n",
       "<style scoped>\n",
       "    .dataframe tbody tr th:only-of-type {\n",
       "        vertical-align: middle;\n",
       "    }\n",
       "\n",
       "    .dataframe tbody tr th {\n",
       "        vertical-align: top;\n",
       "    }\n",
       "\n",
       "    .dataframe thead th {\n",
       "        text-align: right;\n",
       "    }\n",
       "</style>\n",
       "<table border=\"1\" class=\"dataframe\">\n",
       "  <thead>\n",
       "    <tr style=\"text-align: right;\">\n",
       "      <th></th>\n",
       "      <th>show_id</th>\n",
       "      <th>type</th>\n",
       "      <th>title</th>\n",
       "      <th>director</th>\n",
       "      <th>cast</th>\n",
       "      <th>country</th>\n",
       "      <th>date_added</th>\n",
       "      <th>release_year</th>\n",
       "      <th>rating</th>\n",
       "      <th>duration</th>\n",
       "      <th>listed_in</th>\n",
       "      <th>description</th>\n",
       "    </tr>\n",
       "  </thead>\n",
       "  <tbody>\n",
       "    <tr>\n",
       "      <th>0</th>\n",
       "      <td>s1</td>\n",
       "      <td>TV Show</td>\n",
       "      <td>3%</td>\n",
       "      <td>NaN</td>\n",
       "      <td>João Miguel, Bianca Comparato, Michel Gomes, R...</td>\n",
       "      <td>Brazil</td>\n",
       "      <td>August 14, 2020</td>\n",
       "      <td>2020</td>\n",
       "      <td>TV-MA</td>\n",
       "      <td>4 Seasons</td>\n",
       "      <td>International TV Shows, TV Dramas, TV Sci-Fi &amp;...</td>\n",
       "      <td>In a future where the elite inhabit an island ...</td>\n",
       "    </tr>\n",
       "    <tr>\n",
       "      <th>1</th>\n",
       "      <td>s2</td>\n",
       "      <td>Movie</td>\n",
       "      <td>7:19</td>\n",
       "      <td>Jorge Michel Grau</td>\n",
       "      <td>Demián Bichir, Héctor Bonilla, Oscar Serrano, ...</td>\n",
       "      <td>Mexico</td>\n",
       "      <td>December 23, 2016</td>\n",
       "      <td>2016</td>\n",
       "      <td>TV-MA</td>\n",
       "      <td>93 min</td>\n",
       "      <td>Dramas, International Movies</td>\n",
       "      <td>After a devastating earthquake hits Mexico Cit...</td>\n",
       "    </tr>\n",
       "    <tr>\n",
       "      <th>2</th>\n",
       "      <td>s3</td>\n",
       "      <td>Movie</td>\n",
       "      <td>23:59</td>\n",
       "      <td>Gilbert Chan</td>\n",
       "      <td>Tedd Chan, Stella Chung, Henley Hii, Lawrence ...</td>\n",
       "      <td>Singapore</td>\n",
       "      <td>December 20, 2018</td>\n",
       "      <td>2011</td>\n",
       "      <td>R</td>\n",
       "      <td>78 min</td>\n",
       "      <td>Horror Movies, International Movies</td>\n",
       "      <td>When an army recruit is found dead, his fellow...</td>\n",
       "    </tr>\n",
       "    <tr>\n",
       "      <th>3</th>\n",
       "      <td>s4</td>\n",
       "      <td>Movie</td>\n",
       "      <td>9</td>\n",
       "      <td>Shane Acker</td>\n",
       "      <td>Elijah Wood, John C. Reilly, Jennifer Connelly...</td>\n",
       "      <td>United States</td>\n",
       "      <td>November 16, 2017</td>\n",
       "      <td>2009</td>\n",
       "      <td>PG-13</td>\n",
       "      <td>80 min</td>\n",
       "      <td>Action &amp; Adventure, Independent Movies, Sci-Fi...</td>\n",
       "      <td>In a postapocalyptic world, rag-doll robots hi...</td>\n",
       "    </tr>\n",
       "    <tr>\n",
       "      <th>4</th>\n",
       "      <td>s5</td>\n",
       "      <td>Movie</td>\n",
       "      <td>21</td>\n",
       "      <td>Robert Luketic</td>\n",
       "      <td>Jim Sturgess, Kevin Spacey, Kate Bosworth, Aar...</td>\n",
       "      <td>United States</td>\n",
       "      <td>January 1, 2020</td>\n",
       "      <td>2008</td>\n",
       "      <td>PG-13</td>\n",
       "      <td>123 min</td>\n",
       "      <td>Dramas</td>\n",
       "      <td>A brilliant group of students become card-coun...</td>\n",
       "    </tr>\n",
       "  </tbody>\n",
       "</table>\n",
       "</div>"
      ],
      "text/plain": [
       "  show_id     type  title           director  \\\n",
       "0      s1  TV Show     3%                NaN   \n",
       "1      s2    Movie   7:19  Jorge Michel Grau   \n",
       "2      s3    Movie  23:59       Gilbert Chan   \n",
       "3      s4    Movie      9        Shane Acker   \n",
       "4      s5    Movie     21     Robert Luketic   \n",
       "\n",
       "                                                cast        country  \\\n",
       "0  João Miguel, Bianca Comparato, Michel Gomes, R...         Brazil   \n",
       "1  Demián Bichir, Héctor Bonilla, Oscar Serrano, ...         Mexico   \n",
       "2  Tedd Chan, Stella Chung, Henley Hii, Lawrence ...      Singapore   \n",
       "3  Elijah Wood, John C. Reilly, Jennifer Connelly...  United States   \n",
       "4  Jim Sturgess, Kevin Spacey, Kate Bosworth, Aar...  United States   \n",
       "\n",
       "          date_added  release_year rating   duration  \\\n",
       "0    August 14, 2020          2020  TV-MA  4 Seasons   \n",
       "1  December 23, 2016          2016  TV-MA     93 min   \n",
       "2  December 20, 2018          2011      R     78 min   \n",
       "3  November 16, 2017          2009  PG-13     80 min   \n",
       "4    January 1, 2020          2008  PG-13    123 min   \n",
       "\n",
       "                                           listed_in  \\\n",
       "0  International TV Shows, TV Dramas, TV Sci-Fi &...   \n",
       "1                       Dramas, International Movies   \n",
       "2                Horror Movies, International Movies   \n",
       "3  Action & Adventure, Independent Movies, Sci-Fi...   \n",
       "4                                             Dramas   \n",
       "\n",
       "                                         description  \n",
       "0  In a future where the elite inhabit an island ...  \n",
       "1  After a devastating earthquake hits Mexico Cit...  \n",
       "2  When an army recruit is found dead, his fellow...  \n",
       "3  In a postapocalyptic world, rag-doll robots hi...  \n",
       "4  A brilliant group of students become card-coun...  "
      ]
     },
     "execution_count": 32,
     "metadata": {},
     "output_type": "execute_result"
    }
   ],
   "source": [
    "shows_data.head()"
   ]
  },
  {
   "cell_type": "code",
   "execution_count": 33,
   "id": "limited-fruit",
   "metadata": {},
   "outputs": [
    {
     "name": "stdout",
     "output_type": "stream",
     "text": [
      "<class 'pandas.core.frame.DataFrame'>\n",
      "Int64Index: 7777 entries, 0 to 7786\n",
      "Data columns (total 12 columns):\n",
      " #   Column        Non-Null Count  Dtype \n",
      "---  ------        --------------  ----- \n",
      " 0   show_id       7777 non-null   object\n",
      " 1   type          7777 non-null   object\n",
      " 2   title         7777 non-null   object\n",
      " 3   director      5398 non-null   object\n",
      " 4   cast          7059 non-null   object\n",
      " 5   country       7271 non-null   object\n",
      " 6   date_added    7777 non-null   |S19  \n",
      " 7   release_year  7777 non-null   int64 \n",
      " 8   rating        7770 non-null   object\n",
      " 9   duration      7777 non-null   object\n",
      " 10  listed_in     7777 non-null   object\n",
      " 11  description   7777 non-null   object\n",
      "dtypes: bytes152(1), int64(1), object(10)\n",
      "memory usage: 873.4+ KB\n"
     ]
    }
   ],
   "source": [
    "shows_data[\"date_added\"] = shows_data[\"date_added\"].astype(\"|S\")\n",
    "shows_data.info()"
   ]
  },
  {
   "cell_type": "code",
   "execution_count": 34,
   "id": "fatal-america",
   "metadata": {},
   "outputs": [
    {
     "name": "stdout",
     "output_type": "stream",
     "text": [
      "<class 'pandas.core.frame.DataFrame'>\n",
      "Int64Index: 7777 entries, 0 to 7786\n",
      "Data columns (total 12 columns):\n",
      " #   Column        Non-Null Count  Dtype \n",
      "---  ------        --------------  ----- \n",
      " 0   show_id       7777 non-null   object\n",
      " 1   type          7777 non-null   object\n",
      " 2   title         7777 non-null   object\n",
      " 3   director      5398 non-null   object\n",
      " 4   cast          7059 non-null   object\n",
      " 5   country       7271 non-null   object\n",
      " 6   date_added    7777 non-null   object\n",
      " 7   release_year  7777 non-null   int64 \n",
      " 8   rating        7770 non-null   object\n",
      " 9   duration      7777 non-null   object\n",
      " 10  listed_in     7777 non-null   object\n",
      " 11  description   7777 non-null   object\n",
      "dtypes: int64(1), object(11)\n",
      "memory usage: 789.9+ KB\n"
     ]
    }
   ],
   "source": [
    "shows_data[\"date_added\"] = shows_data[\"date_added\"].str.decode('utf-8')\n",
    "shows_data.info()"
   ]
  },
  {
   "cell_type": "code",
   "execution_count": 35,
   "id": "insured-romantic",
   "metadata": {},
   "outputs": [
    {
     "data": {
      "text/plain": [
       "0    08, 14, 2020\n",
       "1    12, 23, 2016\n",
       "2    12, 20, 2018\n",
       "3    11, 16, 2017\n",
       "4     01, 1, 2020\n",
       "Name: date_added, dtype: object"
      ]
     },
     "execution_count": 35,
     "metadata": {},
     "output_type": "execute_result"
    }
   ],
   "source": [
    "# Converting months from text to numbers, write a function to save the number of lines\n",
    "shows_data[\"date_added\"] = shows_data[\"date_added\"].str.replace(\"December\", \"12,\")\n",
    "shows_data[\"date_added\"] = shows_data[\"date_added\"].str.replace(\"November\", \"11,\")\n",
    "shows_data[\"date_added\"] = shows_data[\"date_added\"].str.replace(\"October\", \"10,\")\n",
    "shows_data[\"date_added\"] = shows_data[\"date_added\"].str.replace(\"September\", \"09,\")\n",
    "shows_data[\"date_added\"] = shows_data[\"date_added\"].str.replace(\"August\", \"08,\")\n",
    "shows_data[\"date_added\"] = shows_data[\"date_added\"].str.replace(\"July\", \"07,\")\n",
    "shows_data[\"date_added\"] = shows_data[\"date_added\"].str.replace(\"June\", \"06,\")\n",
    "shows_data[\"date_added\"] = shows_data[\"date_added\"].str.replace(\"May\", \"05,\")\n",
    "shows_data[\"date_added\"] = shows_data[\"date_added\"].str.replace(\"April\", \"04,\")\n",
    "shows_data[\"date_added\"] = shows_data[\"date_added\"].str.replace(\"March\", \"03,\")\n",
    "shows_data[\"date_added\"] = shows_data[\"date_added\"].str.replace(\"February\", \"02,\")\n",
    "shows_data[\"date_added\"] = shows_data[\"date_added\"].str.replace(\"January\", \"01,\")\n",
    "shows_data[\"date_added\"].head()"
   ]
  },
  {
   "cell_type": "code",
   "execution_count": 36,
   "id": "western-appeal",
   "metadata": {},
   "outputs": [
    {
     "data": {
      "text/plain": [
       "0       08, 14, 2020\n",
       "1       12, 23, 2016\n",
       "2       12, 20, 2018\n",
       "3       11, 16, 2017\n",
       "4        01, 1, 2020\n",
       "            ...     \n",
       "7782    10, 19, 2020\n",
       "7783     03, 2, 2019\n",
       "7784    09, 25, 2020\n",
       "7785    10, 31, 2020\n",
       "7786     03, 1, 2020\n",
       "Name: date_added, Length: 7777, dtype: object"
      ]
     },
     "execution_count": 36,
     "metadata": {},
     "output_type": "execute_result"
    }
   ],
   "source": [
    "shows_data[\"date_added\"]"
   ]
  },
  {
   "cell_type": "code",
   "execution_count": 37,
   "id": "creative-pacific",
   "metadata": {},
   "outputs": [
    {
     "data": {
      "text/html": [
       "<div>\n",
       "<style scoped>\n",
       "    .dataframe tbody tr th:only-of-type {\n",
       "        vertical-align: middle;\n",
       "    }\n",
       "\n",
       "    .dataframe tbody tr th {\n",
       "        vertical-align: top;\n",
       "    }\n",
       "\n",
       "    .dataframe thead th {\n",
       "        text-align: right;\n",
       "    }\n",
       "</style>\n",
       "<table border=\"1\" class=\"dataframe\">\n",
       "  <thead>\n",
       "    <tr style=\"text-align: right;\">\n",
       "      <th></th>\n",
       "      <th>show_id</th>\n",
       "      <th>type</th>\n",
       "      <th>title</th>\n",
       "      <th>director</th>\n",
       "      <th>cast</th>\n",
       "      <th>country</th>\n",
       "      <th>date_added</th>\n",
       "      <th>release_year</th>\n",
       "      <th>rating</th>\n",
       "      <th>duration</th>\n",
       "      <th>listed_in</th>\n",
       "      <th>description</th>\n",
       "    </tr>\n",
       "  </thead>\n",
       "  <tbody>\n",
       "    <tr>\n",
       "      <th>0</th>\n",
       "      <td>s1</td>\n",
       "      <td>TV Show</td>\n",
       "      <td>3%</td>\n",
       "      <td>NaN</td>\n",
       "      <td>João Miguel, Bianca Comparato, Michel Gomes, R...</td>\n",
       "      <td>Brazil</td>\n",
       "      <td>08/14/2020</td>\n",
       "      <td>2020</td>\n",
       "      <td>TV-MA</td>\n",
       "      <td>4 Seasons</td>\n",
       "      <td>International TV Shows, TV Dramas, TV Sci-Fi &amp;...</td>\n",
       "      <td>In a future where the elite inhabit an island ...</td>\n",
       "    </tr>\n",
       "    <tr>\n",
       "      <th>1</th>\n",
       "      <td>s2</td>\n",
       "      <td>Movie</td>\n",
       "      <td>7:19</td>\n",
       "      <td>Jorge Michel Grau</td>\n",
       "      <td>Demián Bichir, Héctor Bonilla, Oscar Serrano, ...</td>\n",
       "      <td>Mexico</td>\n",
       "      <td>12/23/2016</td>\n",
       "      <td>2016</td>\n",
       "      <td>TV-MA</td>\n",
       "      <td>93 min</td>\n",
       "      <td>Dramas, International Movies</td>\n",
       "      <td>After a devastating earthquake hits Mexico Cit...</td>\n",
       "    </tr>\n",
       "    <tr>\n",
       "      <th>2</th>\n",
       "      <td>s3</td>\n",
       "      <td>Movie</td>\n",
       "      <td>23:59</td>\n",
       "      <td>Gilbert Chan</td>\n",
       "      <td>Tedd Chan, Stella Chung, Henley Hii, Lawrence ...</td>\n",
       "      <td>Singapore</td>\n",
       "      <td>12/20/2018</td>\n",
       "      <td>2011</td>\n",
       "      <td>R</td>\n",
       "      <td>78 min</td>\n",
       "      <td>Horror Movies, International Movies</td>\n",
       "      <td>When an army recruit is found dead, his fellow...</td>\n",
       "    </tr>\n",
       "    <tr>\n",
       "      <th>3</th>\n",
       "      <td>s4</td>\n",
       "      <td>Movie</td>\n",
       "      <td>9</td>\n",
       "      <td>Shane Acker</td>\n",
       "      <td>Elijah Wood, John C. Reilly, Jennifer Connelly...</td>\n",
       "      <td>United States</td>\n",
       "      <td>11/16/2017</td>\n",
       "      <td>2009</td>\n",
       "      <td>PG-13</td>\n",
       "      <td>80 min</td>\n",
       "      <td>Action &amp; Adventure, Independent Movies, Sci-Fi...</td>\n",
       "      <td>In a postapocalyptic world, rag-doll robots hi...</td>\n",
       "    </tr>\n",
       "    <tr>\n",
       "      <th>4</th>\n",
       "      <td>s5</td>\n",
       "      <td>Movie</td>\n",
       "      <td>21</td>\n",
       "      <td>Robert Luketic</td>\n",
       "      <td>Jim Sturgess, Kevin Spacey, Kate Bosworth, Aar...</td>\n",
       "      <td>United States</td>\n",
       "      <td>01/1/2020</td>\n",
       "      <td>2008</td>\n",
       "      <td>PG-13</td>\n",
       "      <td>123 min</td>\n",
       "      <td>Dramas</td>\n",
       "      <td>A brilliant group of students become card-coun...</td>\n",
       "    </tr>\n",
       "  </tbody>\n",
       "</table>\n",
       "</div>"
      ],
      "text/plain": [
       "  show_id     type  title           director  \\\n",
       "0      s1  TV Show     3%                NaN   \n",
       "1      s2    Movie   7:19  Jorge Michel Grau   \n",
       "2      s3    Movie  23:59       Gilbert Chan   \n",
       "3      s4    Movie      9        Shane Acker   \n",
       "4      s5    Movie     21     Robert Luketic   \n",
       "\n",
       "                                                cast        country  \\\n",
       "0  João Miguel, Bianca Comparato, Michel Gomes, R...         Brazil   \n",
       "1  Demián Bichir, Héctor Bonilla, Oscar Serrano, ...         Mexico   \n",
       "2  Tedd Chan, Stella Chung, Henley Hii, Lawrence ...      Singapore   \n",
       "3  Elijah Wood, John C. Reilly, Jennifer Connelly...  United States   \n",
       "4  Jim Sturgess, Kevin Spacey, Kate Bosworth, Aar...  United States   \n",
       "\n",
       "   date_added  release_year rating   duration  \\\n",
       "0  08/14/2020          2020  TV-MA  4 Seasons   \n",
       "1  12/23/2016          2016  TV-MA     93 min   \n",
       "2  12/20/2018          2011      R     78 min   \n",
       "3  11/16/2017          2009  PG-13     80 min   \n",
       "4   01/1/2020          2008  PG-13    123 min   \n",
       "\n",
       "                                           listed_in  \\\n",
       "0  International TV Shows, TV Dramas, TV Sci-Fi &...   \n",
       "1                       Dramas, International Movies   \n",
       "2                Horror Movies, International Movies   \n",
       "3  Action & Adventure, Independent Movies, Sci-Fi...   \n",
       "4                                             Dramas   \n",
       "\n",
       "                                         description  \n",
       "0  In a future where the elite inhabit an island ...  \n",
       "1  After a devastating earthquake hits Mexico Cit...  \n",
       "2  When an army recruit is found dead, his fellow...  \n",
       "3  In a postapocalyptic world, rag-doll robots hi...  \n",
       "4  A brilliant group of students become card-coun...  "
      ]
     },
     "execution_count": 37,
     "metadata": {},
     "output_type": "execute_result"
    }
   ],
   "source": [
    "shows_data[\"date_added\"] = shows_data[\"date_added\"].str.replace(\", \", \"/\")\n",
    "shows_data.head()"
   ]
  },
  {
   "cell_type": "code",
   "execution_count": 38,
   "id": "thorough-performer",
   "metadata": {},
   "outputs": [],
   "source": [
    "# converted date added string to datetime\n",
    "shows_data[\"date_added\"] = pd.to_datetime(shows_data[\"date_added\"], format=\"%m/%d/%Y\", errors='coerce')"
   ]
  },
  {
   "cell_type": "code",
   "execution_count": 39,
   "id": "fabulous-ethernet",
   "metadata": {},
   "outputs": [
    {
     "data": {
      "text/html": [
       "<div>\n",
       "<style scoped>\n",
       "    .dataframe tbody tr th:only-of-type {\n",
       "        vertical-align: middle;\n",
       "    }\n",
       "\n",
       "    .dataframe tbody tr th {\n",
       "        vertical-align: top;\n",
       "    }\n",
       "\n",
       "    .dataframe thead th {\n",
       "        text-align: right;\n",
       "    }\n",
       "</style>\n",
       "<table border=\"1\" class=\"dataframe\">\n",
       "  <thead>\n",
       "    <tr style=\"text-align: right;\">\n",
       "      <th></th>\n",
       "      <th>show_id</th>\n",
       "      <th>type</th>\n",
       "      <th>title</th>\n",
       "      <th>director</th>\n",
       "      <th>cast</th>\n",
       "      <th>country</th>\n",
       "      <th>date_added</th>\n",
       "      <th>release_year</th>\n",
       "      <th>rating</th>\n",
       "      <th>duration</th>\n",
       "      <th>listed_in</th>\n",
       "      <th>description</th>\n",
       "      <th>day_added</th>\n",
       "      <th>month_added</th>\n",
       "      <th>year_added</th>\n",
       "    </tr>\n",
       "  </thead>\n",
       "  <tbody>\n",
       "    <tr>\n",
       "      <th>0</th>\n",
       "      <td>s1</td>\n",
       "      <td>TV Show</td>\n",
       "      <td>3%</td>\n",
       "      <td>NaN</td>\n",
       "      <td>João Miguel, Bianca Comparato, Michel Gomes, R...</td>\n",
       "      <td>Brazil</td>\n",
       "      <td>2020-08-14</td>\n",
       "      <td>2020</td>\n",
       "      <td>TV-MA</td>\n",
       "      <td>4 Seasons</td>\n",
       "      <td>International TV Shows, TV Dramas, TV Sci-Fi &amp;...</td>\n",
       "      <td>In a future where the elite inhabit an island ...</td>\n",
       "      <td>14.0</td>\n",
       "      <td>8.0</td>\n",
       "      <td>2020.0</td>\n",
       "    </tr>\n",
       "    <tr>\n",
       "      <th>1</th>\n",
       "      <td>s2</td>\n",
       "      <td>Movie</td>\n",
       "      <td>7:19</td>\n",
       "      <td>Jorge Michel Grau</td>\n",
       "      <td>Demián Bichir, Héctor Bonilla, Oscar Serrano, ...</td>\n",
       "      <td>Mexico</td>\n",
       "      <td>2016-12-23</td>\n",
       "      <td>2016</td>\n",
       "      <td>TV-MA</td>\n",
       "      <td>93 min</td>\n",
       "      <td>Dramas, International Movies</td>\n",
       "      <td>After a devastating earthquake hits Mexico Cit...</td>\n",
       "      <td>23.0</td>\n",
       "      <td>12.0</td>\n",
       "      <td>2016.0</td>\n",
       "    </tr>\n",
       "    <tr>\n",
       "      <th>2</th>\n",
       "      <td>s3</td>\n",
       "      <td>Movie</td>\n",
       "      <td>23:59</td>\n",
       "      <td>Gilbert Chan</td>\n",
       "      <td>Tedd Chan, Stella Chung, Henley Hii, Lawrence ...</td>\n",
       "      <td>Singapore</td>\n",
       "      <td>2018-12-20</td>\n",
       "      <td>2011</td>\n",
       "      <td>R</td>\n",
       "      <td>78 min</td>\n",
       "      <td>Horror Movies, International Movies</td>\n",
       "      <td>When an army recruit is found dead, his fellow...</td>\n",
       "      <td>20.0</td>\n",
       "      <td>12.0</td>\n",
       "      <td>2018.0</td>\n",
       "    </tr>\n",
       "    <tr>\n",
       "      <th>3</th>\n",
       "      <td>s4</td>\n",
       "      <td>Movie</td>\n",
       "      <td>9</td>\n",
       "      <td>Shane Acker</td>\n",
       "      <td>Elijah Wood, John C. Reilly, Jennifer Connelly...</td>\n",
       "      <td>United States</td>\n",
       "      <td>2017-11-16</td>\n",
       "      <td>2009</td>\n",
       "      <td>PG-13</td>\n",
       "      <td>80 min</td>\n",
       "      <td>Action &amp; Adventure, Independent Movies, Sci-Fi...</td>\n",
       "      <td>In a postapocalyptic world, rag-doll robots hi...</td>\n",
       "      <td>16.0</td>\n",
       "      <td>11.0</td>\n",
       "      <td>2017.0</td>\n",
       "    </tr>\n",
       "    <tr>\n",
       "      <th>4</th>\n",
       "      <td>s5</td>\n",
       "      <td>Movie</td>\n",
       "      <td>21</td>\n",
       "      <td>Robert Luketic</td>\n",
       "      <td>Jim Sturgess, Kevin Spacey, Kate Bosworth, Aar...</td>\n",
       "      <td>United States</td>\n",
       "      <td>2020-01-01</td>\n",
       "      <td>2008</td>\n",
       "      <td>PG-13</td>\n",
       "      <td>123 min</td>\n",
       "      <td>Dramas</td>\n",
       "      <td>A brilliant group of students become card-coun...</td>\n",
       "      <td>1.0</td>\n",
       "      <td>1.0</td>\n",
       "      <td>2020.0</td>\n",
       "    </tr>\n",
       "  </tbody>\n",
       "</table>\n",
       "</div>"
      ],
      "text/plain": [
       "  show_id     type  title           director  \\\n",
       "0      s1  TV Show     3%                NaN   \n",
       "1      s2    Movie   7:19  Jorge Michel Grau   \n",
       "2      s3    Movie  23:59       Gilbert Chan   \n",
       "3      s4    Movie      9        Shane Acker   \n",
       "4      s5    Movie     21     Robert Luketic   \n",
       "\n",
       "                                                cast        country  \\\n",
       "0  João Miguel, Bianca Comparato, Michel Gomes, R...         Brazil   \n",
       "1  Demián Bichir, Héctor Bonilla, Oscar Serrano, ...         Mexico   \n",
       "2  Tedd Chan, Stella Chung, Henley Hii, Lawrence ...      Singapore   \n",
       "3  Elijah Wood, John C. Reilly, Jennifer Connelly...  United States   \n",
       "4  Jim Sturgess, Kevin Spacey, Kate Bosworth, Aar...  United States   \n",
       "\n",
       "  date_added  release_year rating   duration  \\\n",
       "0 2020-08-14          2020  TV-MA  4 Seasons   \n",
       "1 2016-12-23          2016  TV-MA     93 min   \n",
       "2 2018-12-20          2011      R     78 min   \n",
       "3 2017-11-16          2009  PG-13     80 min   \n",
       "4 2020-01-01          2008  PG-13    123 min   \n",
       "\n",
       "                                           listed_in  \\\n",
       "0  International TV Shows, TV Dramas, TV Sci-Fi &...   \n",
       "1                       Dramas, International Movies   \n",
       "2                Horror Movies, International Movies   \n",
       "3  Action & Adventure, Independent Movies, Sci-Fi...   \n",
       "4                                             Dramas   \n",
       "\n",
       "                                         description  day_added  month_added  \\\n",
       "0  In a future where the elite inhabit an island ...       14.0          8.0   \n",
       "1  After a devastating earthquake hits Mexico Cit...       23.0         12.0   \n",
       "2  When an army recruit is found dead, his fellow...       20.0         12.0   \n",
       "3  In a postapocalyptic world, rag-doll robots hi...       16.0         11.0   \n",
       "4  A brilliant group of students become card-coun...        1.0          1.0   \n",
       "\n",
       "   year_added  \n",
       "0      2020.0  \n",
       "1      2016.0  \n",
       "2      2018.0  \n",
       "3      2017.0  \n",
       "4      2020.0  "
      ]
     },
     "execution_count": 39,
     "metadata": {},
     "output_type": "execute_result"
    }
   ],
   "source": [
    "shows_data[\"day_added\"]= shows_data[\"date_added\"].dt.day\n",
    "shows_data[\"month_added\"]= shows_data[\"date_added\"].dt.month\n",
    "shows_data[\"year_added\"]= shows_data[\"date_added\"].dt.year\n",
    "shows_data.head()"
   ]
  },
  {
   "cell_type": "code",
   "execution_count": 40,
   "id": "forbidden-cargo",
   "metadata": {},
   "outputs": [
    {
     "data": {
      "text/plain": [
       "0"
      ]
     },
     "execution_count": 40,
     "metadata": {},
     "output_type": "execute_result"
    }
   ],
   "source": [
    "shows_data = shows_data[pd.notnull(shows_data[\"day_added\"])]\n",
    "shows_data[\"day_added\"].isna().sum()"
   ]
  },
  {
   "cell_type": "code",
   "execution_count": 41,
   "id": "lightweight-convert",
   "metadata": {},
   "outputs": [],
   "source": [
    "shows_data[\"day_added\"] = shows_data[\"day_added\"].astype('int64')\n",
    "shows_data[\"month_added\"] = shows_data[\"month_added\"].astype('int64')\n",
    "shows_data[\"year_added\"] = shows_data[\"year_added\"].astype('int64')"
   ]
  },
  {
   "cell_type": "code",
   "execution_count": 42,
   "id": "mediterranean-clock",
   "metadata": {},
   "outputs": [
    {
     "data": {
      "text/plain": [
       "<AxesSubplot:>"
      ]
     },
     "execution_count": 42,
     "metadata": {},
     "output_type": "execute_result"
    },
    {
     "data": {
      "image/png": "[encoded data removed]",
      "text/plain": [
       "<Figure size 432x288 with 1 Axes>"
      ]
     },
     "metadata": {
      "needs_background": "light"
     },
     "output_type": "display_data"
    }
   ],
   "source": [
    "shows_data[\"year_added\"].hist()"
   ]
  },
  {
   "cell_type": "code",
   "execution_count": 43,
   "id": "earned-aquarium",
   "metadata": {},
   "outputs": [
    {
     "data": {
      "text/plain": [
       "count    7689.000000\n",
       "mean     2018.507218\n",
       "std         1.382205\n",
       "min      2008.000000\n",
       "25%      2018.000000\n",
       "50%      2019.000000\n",
       "75%      2020.000000\n",
       "max      2021.000000\n",
       "Name: year_added, dtype: float64"
      ]
     },
     "execution_count": 43,
     "metadata": {},
     "output_type": "execute_result"
    }
   ],
   "source": [
    "shows_data[\"year_added\"].describe()"
   ]
  },
  {
   "cell_type": "code",
   "execution_count": 44,
   "id": "desperate-design",
   "metadata": {},
   "outputs": [
    {
     "data": {
      "image/png": "[encoded data removed]",
      "text/plain": [
       "<Figure size 2160x720 with 1 Axes>"
      ]
     },
     "metadata": {
      "needs_background": "light"
     },
     "output_type": "display_data"
    }
   ],
   "source": [
    "# Plotting the year added hist with a midpoint similar to year released feature\n",
    "yd = shows_data[\"year_added\"]\n",
    "bins = np.arange(np.min(yd), np.max(yd) + 1, 1)\n",
    "fig, ax = plt.subplots(figsize=(30,10), edgecolor='black')\n",
    "ax.hist(shows_data[\"year_added\"], bins=bins)\n",
    "ax.set_xticks(bins)\n",
    "ax.set_xlabel(\"Year added\", fontsize=20)\n",
    "ax.set_ylabel(\"No of movies and shows\", fontsize=20)\n",
    "ax.set_title(\"No of movies/shows with respect to year added\", fontsize=30)\n",
    "plt.style.use(\"seaborn-whitegrid\")\n",
    "plt.show()\n",
    "fig.savefig(\"images/year-added.png\")"
   ]
  },
  {
   "cell_type": "code",
   "execution_count": 45,
   "id": "polar-configuration",
   "metadata": {},
   "outputs": [
    {
     "data": {
      "text/plain": [
       "(array([2020, 2016, 2018, 2017, 2019, 2021, 2015, 2013, 2011, 2012, 2014,\n",
       "        2008, 2009, 2010]),\n",
       " array([ 8, 12, 11,  1,  7,  6,  4, 10,  5,  3,  9,  2]))"
      ]
     },
     "execution_count": 45,
     "metadata": {},
     "output_type": "execute_result"
    }
   ],
   "source": [
    "shows_data[\"year_added\"].unique(), shows_data[\"month_added\"].unique()"
   ]
  },
  {
   "cell_type": "code",
   "execution_count": 46,
   "id": "muslim-peace",
   "metadata": {},
   "outputs": [
    {
     "data": {
      "image/png": "[encoded data removed]",
      "text/plain": [
       "<Figure size 2160x1440 with 1 Axes>"
      ]
     },
     "metadata": {},
     "output_type": "display_data"
    }
   ],
   "source": [
    "bins = np.arange(np.min(shows_data[\"month_added\"]), np.max(shows_data[\"month_added\"]) + 1, 1)\n",
    "fig, ax = plt .subplots(figsize=(30,20))\n",
    "ax.hist(shows_data[\"month_added\"], bins=bins)\n",
    "ax.set_xticks(bins)\n",
    "ax.set_xlabel(\"Month\", fontsize=20)\n",
    "ax.set_ylabel(\"Number of Movies/Shows added\", fontsize=20)\n",
    "ax.set_title(\"Monthwise distrubtion of content addition across years\", fontsize=30)\n",
    "plt.show();\n",
    "fig.savefig(\"images/month-added-distribution.png\")"
   ]
  },
  {
   "cell_type": "code",
   "execution_count": 47,
   "id": "important-rough",
   "metadata": {},
   "outputs": [
    {
     "data": {
      "text/plain": [
       "count    7689.000000\n",
       "mean        6.783457\n",
       "std         3.587839\n",
       "min         1.000000\n",
       "25%         4.000000\n",
       "50%         7.000000\n",
       "75%        10.000000\n",
       "max        12.000000\n",
       "Name: month_added, dtype: float64"
      ]
     },
     "execution_count": 47,
     "metadata": {},
     "output_type": "execute_result"
    }
   ],
   "source": [
    "shows_data[\"month_added\"].describe()"
   ]
  },
  {
   "cell_type": "code",
   "execution_count": 48,
   "id": "lonely-reliance",
   "metadata": {},
   "outputs": [
    {
     "name": "stdout",
     "output_type": "stream",
     "text": [
      "<class 'pandas.core.frame.DataFrame'>\n",
      "Int64Index: 7689 entries, 0 to 7786\n",
      "Data columns (total 15 columns):\n",
      " #   Column        Non-Null Count  Dtype         \n",
      "---  ------        --------------  -----         \n",
      " 0   show_id       7689 non-null   object        \n",
      " 1   type          7689 non-null   object        \n",
      " 2   title         7689 non-null   object        \n",
      " 3   director      5393 non-null   object        \n",
      " 4   cast          6979 non-null   object        \n",
      " 5   country       7186 non-null   object        \n",
      " 6   date_added    7689 non-null   datetime64[ns]\n",
      " 7   release_year  7689 non-null   int64         \n",
      " 8   rating        7682 non-null   object        \n",
      " 9   duration      7689 non-null   object        \n",
      " 10  listed_in     7689 non-null   object        \n",
      " 11  description   7689 non-null   object        \n",
      " 12  day_added     7689 non-null   int64         \n",
      " 13  month_added   7689 non-null   int64         \n",
      " 14  year_added    7689 non-null   int64         \n",
      "dtypes: datetime64[ns](1), int64(4), object(10)\n",
      "memory usage: 961.1+ KB\n"
     ]
    }
   ],
   "source": [
    "shows_data.info()"
   ]
  },
  {
   "cell_type": "markdown",
   "id": "collectible-radiation",
   "metadata": {},
   "source": [
    "## Type of content added analysis with respect to year added"
   ]
  },
  {
   "cell_type": "code",
   "execution_count": 49,
   "id": "nervous-acceptance",
   "metadata": {},
   "outputs": [
    {
     "data": {
      "text/plain": [
       "array(['TV Show', 'Movie'], dtype=object)"
      ]
     },
     "execution_count": 49,
     "metadata": {},
     "output_type": "execute_result"
    }
   ],
   "source": [
    "shows_data[\"type\"].unique()"
   ]
  },
  {
   "cell_type": "code",
   "execution_count": 50,
   "id": "expired-franchise",
   "metadata": {},
   "outputs": [],
   "source": [
    "# Converting type feature to numerical feature 0 - TV show, 1 - movie\n",
    "shows_data[\"type\"] = shows_data[\"type\"].astype('|S')\n",
    "shows_data[\"type\"] = shows_data[\"type\"].str.decode('utf-8')\n",
    "shows_data[\"type\"] = shows_data[\"type\"].str.replace(\"TV Show\", \"0\")\n",
    "shows_data[\"type\"] = shows_data[\"type\"].str.replace(\"Movie\", \"1\")"
   ]
  },
  {
   "cell_type": "code",
   "execution_count": 51,
   "id": "miniature-statement",
   "metadata": {},
   "outputs": [],
   "source": [
    "shows_data.head()\n",
    "shows_data.to_csv(\"data/type-numerical-feature.csv\")"
   ]
  },
  {
   "cell_type": "code",
   "execution_count": 52,
   "id": "descending-motivation",
   "metadata": {},
   "outputs": [
    {
     "data": {
      "text/plain": [
       "array([2020, 2016, 2018, 2017, 2019, 2021, 2015, 2013, 2011, 2012, 2014,\n",
       "       2008, 2009, 2010])"
      ]
     },
     "execution_count": 52,
     "metadata": {},
     "output_type": "execute_result"
    }
   ],
   "source": [
    "shows_data[\"year_added\"].unique()"
   ]
  },
  {
   "cell_type": "code",
   "execution_count": 53,
   "id": "fatal-beatles",
   "metadata": {
    "scrolled": true
   },
   "outputs": [],
   "source": [
    "shows_data_type = pd.Series(shows_data[\"type\"])\n",
    "shows_data_yd = pd.Series(shows_data[\"year_added\"])\n",
    "shows_data_type_year = pd.DataFrame({\"year_added\": shows_data_yd, \"type\": shows_data_type})"
   ]
  },
  {
   "cell_type": "code",
   "execution_count": 54,
   "id": "naughty-projection",
   "metadata": {},
   "outputs": [
    {
     "data": {
      "image/png": "[encoded data removed]",
      "text/plain": [
       "<Figure size 2160x1440 with 1 Axes>"
      ]
     },
     "metadata": {},
     "output_type": "display_data"
    }
   ],
   "source": [
    "shows_data_type_year.groupby(['year_added', 'type']).size().plot(kind=\"bar\", \n",
    "          figsize=(30,20), \n",
    "          xlabel = \"Year Added\", \n",
    "          ylabel = \"Tv/Show(0)-Movie(1)\",\n",
    "          title=\"Content classified distribution\",\n",
    "          fontsize=20);"
   ]
  },
  {
   "cell_type": "markdown",
   "id": "medical-conducting",
   "metadata": {},
   "source": [
    "## Analysis of number of `country`  and `No of Movies/Tv shows` feature with `year_added`"
   ]
  },
  {
   "cell_type": "code",
   "execution_count": 55,
   "id": "skilled-museum",
   "metadata": {},
   "outputs": [
    {
     "name": "stdout",
     "output_type": "stream",
     "text": [
      "<class 'pandas.core.frame.DataFrame'>\n",
      "Int64Index: 7280 entries, 0 to 7786\n",
      "Data columns (total 3 columns):\n",
      " #   Column           Non-Null Count  Dtype \n",
      "---  ------           --------------  ----- \n",
      " 0   release_year     7280 non-null   int64 \n",
      " 1   country          7280 non-null   object\n",
      " 2   No of Countries  7280 non-null   int64 \n",
      "dtypes: int64(2), object(1)\n",
      "memory usage: 227.5+ KB\n"
     ]
    }
   ],
   "source": [
    "year_country_data.info()"
   ]
  },
  {
   "cell_type": "code",
   "execution_count": 56,
   "id": "mechanical-testimony",
   "metadata": {},
   "outputs": [
    {
     "data": {
      "text/html": [
       "<div>\n",
       "<style scoped>\n",
       "    .dataframe tbody tr th:only-of-type {\n",
       "        vertical-align: middle;\n",
       "    }\n",
       "\n",
       "    .dataframe tbody tr th {\n",
       "        vertical-align: top;\n",
       "    }\n",
       "\n",
       "    .dataframe thead th {\n",
       "        text-align: right;\n",
       "    }\n",
       "</style>\n",
       "<table border=\"1\" class=\"dataframe\">\n",
       "  <thead>\n",
       "    <tr style=\"text-align: right;\">\n",
       "      <th></th>\n",
       "      <th>year_added</th>\n",
       "      <th>No Of countries</th>\n",
       "      <th>type</th>\n",
       "      <th>title</th>\n",
       "    </tr>\n",
       "  </thead>\n",
       "  <tbody>\n",
       "    <tr>\n",
       "      <th>0</th>\n",
       "      <td>2020.0</td>\n",
       "      <td>1.0</td>\n",
       "      <td>0</td>\n",
       "      <td>3%</td>\n",
       "    </tr>\n",
       "    <tr>\n",
       "      <th>1</th>\n",
       "      <td>2016.0</td>\n",
       "      <td>1.0</td>\n",
       "      <td>1</td>\n",
       "      <td>7:19</td>\n",
       "    </tr>\n",
       "    <tr>\n",
       "      <th>2</th>\n",
       "      <td>2018.0</td>\n",
       "      <td>1.0</td>\n",
       "      <td>1</td>\n",
       "      <td>23:59</td>\n",
       "    </tr>\n",
       "    <tr>\n",
       "      <th>3</th>\n",
       "      <td>2017.0</td>\n",
       "      <td>1.0</td>\n",
       "      <td>1</td>\n",
       "      <td>9</td>\n",
       "    </tr>\n",
       "    <tr>\n",
       "      <th>4</th>\n",
       "      <td>2020.0</td>\n",
       "      <td>1.0</td>\n",
       "      <td>1</td>\n",
       "      <td>21</td>\n",
       "    </tr>\n",
       "  </tbody>\n",
       "</table>\n",
       "</div>"
      ],
      "text/plain": [
       "   year_added  No Of countries type  title\n",
       "0      2020.0              1.0    0     3%\n",
       "1      2016.0              1.0    1   7:19\n",
       "2      2018.0              1.0    1  23:59\n",
       "3      2017.0              1.0    1      9\n",
       "4      2020.0              1.0    1     21"
      ]
     },
     "execution_count": 56,
     "metadata": {},
     "output_type": "execute_result"
    }
   ],
   "source": [
    "yd_noc = pd.DataFrame({\"year_added\": shows_data[\"year_added\"], \n",
    "                       \"No Of countries\": year_country_data[\"No of Countries\"],\n",
    "                       \"type\": shows_data_type_year[\"type\"],\n",
    "                       \"title\": shows_data[\"title\"]\n",
    "                      })\n",
    "yd_noc.head()"
   ]
  },
  {
   "cell_type": "code",
   "execution_count": 57,
   "id": "colonial-starter",
   "metadata": {},
   "outputs": [
    {
     "data": {
      "text/plain": [
       "year_added          94\n",
       "No Of countries    503\n",
       "type                94\n",
       "title               94\n",
       "dtype: int64"
      ]
     },
     "execution_count": 57,
     "metadata": {},
     "output_type": "execute_result"
    }
   ],
   "source": [
    "yd_noc.isna().sum()"
   ]
  },
  {
   "cell_type": "code",
   "execution_count": 58,
   "id": "behavioral-mount",
   "metadata": {},
   "outputs": [],
   "source": [
    "# Removing nan values\n",
    "yd_noc = yd_noc[pd.notnull(yd_noc[\"year_added\"])]"
   ]
  },
  {
   "cell_type": "code",
   "execution_count": 59,
   "id": "talented-christopher",
   "metadata": {},
   "outputs": [],
   "source": [
    "# Filling no of countries nan values\n",
    "yd_noc[\"No Of countries\"] = yd_noc[\"No Of countries\"].fillna(0)"
   ]
  },
  {
   "cell_type": "code",
   "execution_count": 60,
   "id": "residential-active",
   "metadata": {},
   "outputs": [],
   "source": [
    "yd_noc[\"year_added\"] = yd_noc[\"year_added\"].astype('int64')\n",
    "yd_noc[\"No Of countries\"] = yd_noc[\"No Of countries\"].astype('int64')"
   ]
  },
  {
   "cell_type": "code",
   "execution_count": 61,
   "id": "touched-shareware",
   "metadata": {},
   "outputs": [
    {
     "name": "stdout",
     "output_type": "stream",
     "text": [
      "<class 'pandas.core.frame.DataFrame'>\n",
      "Int64Index: 7689 entries, 0 to 7786\n",
      "Data columns (total 4 columns):\n",
      " #   Column           Non-Null Count  Dtype \n",
      "---  ------           --------------  ----- \n",
      " 0   year_added       7689 non-null   int64 \n",
      " 1   No Of countries  7689 non-null   int64 \n",
      " 2   type             7689 non-null   object\n",
      " 3   title            7689 non-null   object\n",
      "dtypes: int64(2), object(2)\n",
      "memory usage: 300.4+ KB\n"
     ]
    }
   ],
   "source": [
    "yd_noc.info()"
   ]
  },
  {
   "cell_type": "code",
   "execution_count": 62,
   "id": "irish-entertainment",
   "metadata": {},
   "outputs": [
    {
     "data": {
      "text/html": [
       "<div>\n",
       "<style scoped>\n",
       "    .dataframe tbody tr th:only-of-type {\n",
       "        vertical-align: middle;\n",
       "    }\n",
       "\n",
       "    .dataframe tbody tr th {\n",
       "        vertical-align: top;\n",
       "    }\n",
       "\n",
       "    .dataframe thead th {\n",
       "        text-align: right;\n",
       "    }\n",
       "</style>\n",
       "<table border=\"1\" class=\"dataframe\">\n",
       "  <thead>\n",
       "    <tr style=\"text-align: right;\">\n",
       "      <th></th>\n",
       "      <th>year_added</th>\n",
       "      <th>No Of countries</th>\n",
       "      <th>type</th>\n",
       "      <th>title</th>\n",
       "    </tr>\n",
       "  </thead>\n",
       "  <tbody>\n",
       "    <tr>\n",
       "      <th>0</th>\n",
       "      <td>2020</td>\n",
       "      <td>1</td>\n",
       "      <td>0</td>\n",
       "      <td>3%</td>\n",
       "    </tr>\n",
       "    <tr>\n",
       "      <th>1</th>\n",
       "      <td>2016</td>\n",
       "      <td>1</td>\n",
       "      <td>1</td>\n",
       "      <td>7:19</td>\n",
       "    </tr>\n",
       "    <tr>\n",
       "      <th>2</th>\n",
       "      <td>2018</td>\n",
       "      <td>1</td>\n",
       "      <td>1</td>\n",
       "      <td>23:59</td>\n",
       "    </tr>\n",
       "    <tr>\n",
       "      <th>3</th>\n",
       "      <td>2017</td>\n",
       "      <td>1</td>\n",
       "      <td>1</td>\n",
       "      <td>9</td>\n",
       "    </tr>\n",
       "    <tr>\n",
       "      <th>4</th>\n",
       "      <td>2020</td>\n",
       "      <td>1</td>\n",
       "      <td>1</td>\n",
       "      <td>21</td>\n",
       "    </tr>\n",
       "  </tbody>\n",
       "</table>\n",
       "</div>"
      ],
      "text/plain": [
       "   year_added  No Of countries type  title\n",
       "0        2020                1    0     3%\n",
       "1        2016                1    1   7:19\n",
       "2        2018                1    1  23:59\n",
       "3        2017                1    1      9\n",
       "4        2020                1    1     21"
      ]
     },
     "execution_count": 62,
     "metadata": {},
     "output_type": "execute_result"
    }
   ],
   "source": [
    "yd_noc.head()"
   ]
  },
  {
   "cell_type": "code",
   "execution_count": 63,
   "id": "shared-holmes",
   "metadata": {},
   "outputs": [
    {
     "data": {
      "text/plain": [
       "<AxesSubplot:xlabel='year_added,No Of countries'>"
      ]
     },
     "execution_count": 63,
     "metadata": {},
     "output_type": "execute_result"
    },
    {
     "data": {
      "image/png": "[encoded data removed]",
      "text/plain": [
       "<Figure size 2160x1440 with 1 Axes>"
      ]
     },
     "metadata": {},
     "output_type": "display_data"
    }
   ],
   "source": [
    "yd_noc.groupby(['year_added', 'No Of countries']).count().plot(kind=\"bar\",\n",
    "                                                              figsize=(30,20))"
   ]
  },
  {
   "cell_type": "code",
   "execution_count": 64,
   "id": "virgin-timeline",
   "metadata": {},
   "outputs": [],
   "source": [
    "yd_noc_count = yd_noc.groupby(['year_added', 'No Of countries'])[\"type\"].count().reset_index(name=\"count\")"
   ]
  },
  {
   "cell_type": "code",
   "execution_count": 65,
   "id": "hindu-german",
   "metadata": {},
   "outputs": [
    {
     "data": {
      "text/html": [
       "<div>\n",
       "<style scoped>\n",
       "    .dataframe tbody tr th:only-of-type {\n",
       "        vertical-align: middle;\n",
       "    }\n",
       "\n",
       "    .dataframe tbody tr th {\n",
       "        vertical-align: top;\n",
       "    }\n",
       "\n",
       "    .dataframe thead th {\n",
       "        text-align: right;\n",
       "    }\n",
       "</style>\n",
       "<table border=\"1\" class=\"dataframe\">\n",
       "  <thead>\n",
       "    <tr style=\"text-align: right;\">\n",
       "      <th></th>\n",
       "      <th>year_added</th>\n",
       "      <th>No Of countries</th>\n",
       "      <th>count</th>\n",
       "    </tr>\n",
       "  </thead>\n",
       "  <tbody>\n",
       "    <tr>\n",
       "      <th>0</th>\n",
       "      <td>2008</td>\n",
       "      <td>1</td>\n",
       "      <td>2</td>\n",
       "    </tr>\n",
       "    <tr>\n",
       "      <th>1</th>\n",
       "      <td>2009</td>\n",
       "      <td>1</td>\n",
       "      <td>2</td>\n",
       "    </tr>\n",
       "    <tr>\n",
       "      <th>2</th>\n",
       "      <td>2010</td>\n",
       "      <td>1</td>\n",
       "      <td>1</td>\n",
       "    </tr>\n",
       "    <tr>\n",
       "      <th>3</th>\n",
       "      <td>2011</td>\n",
       "      <td>1</td>\n",
       "      <td>12</td>\n",
       "    </tr>\n",
       "    <tr>\n",
       "      <th>4</th>\n",
       "      <td>2011</td>\n",
       "      <td>3</td>\n",
       "      <td>1</td>\n",
       "    </tr>\n",
       "  </tbody>\n",
       "</table>\n",
       "</div>"
      ],
      "text/plain": [
       "   year_added  No Of countries  count\n",
       "0        2008                1      2\n",
       "1        2009                1      2\n",
       "2        2010                1      1\n",
       "3        2011                1     12\n",
       "4        2011                3      1"
      ]
     },
     "execution_count": 65,
     "metadata": {},
     "output_type": "execute_result"
    }
   ],
   "source": [
    "yd_noc_count.head()"
   ]
  },
  {
   "cell_type": "code",
   "execution_count": 237,
   "id": "steady-ordering",
   "metadata": {},
   "outputs": [
    {
     "data": {
      "image/png": "[encoded data removed]",
      "text/plain": [
       "<Figure size 2160x1440 with 1 Axes>"
      ]
     },
     "metadata": {},
     "output_type": "display_data"
    }
   ],
   "source": [
    "fig, ax = plt.subplots(figsize=(30,20))\n",
    "scatter = ax.scatter(\n",
    "        x = yd_noc_count[\"No Of countries\"],\n",
    "        y = yd_noc_count[\"count\"],\n",
    "        c = yd_noc_count[\"year_added\"],\n",
    "        cmap='summer',\n",
    "        s=20**2)\n",
    "\n",
    "# Setup a mean line\n",
    "ax.axhline(y=yd_noc_count[\"count\"].mean(), \n",
    "            color='b', \n",
    "            linestyle='--', \n",
    "            label=\"Average\")\n",
    "\n",
    "# Setting xticks\n",
    "noc = yd_noc_count[\"No Of countries\"]\n",
    "plt.xticks(np.arange(np.min(noc), np.max(noc) + 1, 1))\n",
    "\n",
    "# Setting yticks\n",
    "count = yd_noc_count[\"count\"]\n",
    "inc = np.std(yd_noc_count[\"count\"]).astype('int64')\n",
    "plt.yticks(np.arange(np.min(count), np.max(count) + inc, inc))\n",
    "\n",
    "# zip joins x and y coordinates in pairs\n",
    "for x,y in zip(noc,count):\n",
    "\n",
    "    #label = f\"({x},{y})\"\n",
    "    label_unf = yd_noc_count[(yd_noc_count[\"No Of countries\"] == x) & (yd_noc_count[\"count\"] == y)]\n",
    "    label_year = label_unf[\"year_added\"].values\n",
    "    label = f\"({label_year})\"\n",
    "    #label = f\"({label})\"\n",
    "\n",
    "    #arrowprops=dict(arrowstyle='<-', color='blue', linewidth=1, mutation_scale=150)\n",
    "    plt.annotate(label, # this is the text\n",
    "                 (x,y), # this is the point to label\n",
    "                 textcoords=\"offset points\", # how to position the text\n",
    "                 xytext=(0,10), # distance from text to points (x,y)\n",
    "                 ha='center') \n",
    "\n",
    "# Setting legend\n",
    "ax.legend(*scatter.legend_elements(), title=\"Year\", loc=0, fontsize=\"xx-large\")\n",
    "\n",
    "# Setting labels and title\n",
    "ax.set_xlabel(\"No of Countries\", fontsize=20)\n",
    "ax.set_xlabel(\"No of Movies/TV shows\", fontsize=20)\n",
    "ax.set_title(\"No of Countries v No of Movies/TV shows\", fontsize=25)\n",
    "\n",
    "plt.show()"
   ]
  },
  {
   "cell_type": "code",
   "execution_count": 244,
   "id": "charitable-charter",
   "metadata": {},
   "outputs": [
    {
     "data": {
      "image/png": "[encoded data removed]",
      "text/plain": [
       "<Figure size 2160x1440 with 1 Axes>"
      ]
     },
     "metadata": {},
     "output_type": "display_data"
    }
   ],
   "source": [
    "# Splitting the data for better plotting\n",
    "yd_noc_count_1 = yd_noc_count[yd_noc_count[\"count\"] < 677]\n",
    "yd_noc_count_2 = yd_noc_count[yd_noc_count[\"count\"] > 677]\n",
    "\n",
    "# Setting up the fig\n",
    "fig, ax = plt.subplots(figsize=(30,20))\n",
    "scatter = ax.scatter(\n",
    "        x = yd_noc_count_1[\"No Of countries\"],\n",
    "        y = yd_noc_count_1[\"count\"],\n",
    "        c = yd_noc_count_1[\"year_added\"],\n",
    "        cmap='summer',\n",
    "        s=20**2)\n",
    "\n",
    "# Setup a mean line\n",
    "ax.axhline(y=yd_noc_count_1[\"count\"].mean(), \n",
    "            color='b', \n",
    "            linestyle='--', \n",
    "            label=\"Average\")\n",
    "\n",
    "# Setting legend\n",
    "ax.legend(*scatter.legend_elements(), title=\"Year\", loc=0, fontsize=\"xx-large\")\n",
    "\n",
    "# Setting xticks\n",
    "noc = yd_noc_count_1[\"No Of countries\"]\n",
    "plt.xticks(np.arange(np.min(noc), np.max(noc) + 1, 1))\n",
    "\n",
    "# Setting yticks\n",
    "count = yd_noc_count_1[\"count\"]\n",
    "#inc = np.std(yd_noc_count[\"count\"]).astype('int64')\n",
    "plt.yticks(np.arange(np.min(count), np.max(count) + 25, 25))\n",
    "\n",
    "# zip joins x and y coordinates in pairs\n",
    "for x,y in zip(noc,count):\n",
    "\n",
    "    #label = f\"({x},{y})\"\n",
    "    label_unf = yd_noc_count_1[(yd_noc_count_1[\"No Of countries\"] == x) & (yd_noc_count_1[\"count\"] == y)]\n",
    "    label_year = label_unf[\"year_added\"].values\n",
    "    label = f\"({label_year}, {y})\"\n",
    "    #label = f\"({label})\"\n",
    "\n",
    "    #arrowprops=dict(arrowstyle='<-', color='blue', linewidth=1, mutation_scale=150)\n",
    "    plt.annotate(label, # this is the text\n",
    "                 (x,y), # this is the point to label\n",
    "                 textcoords=\"offset points\", # how to position the text\n",
    "                 xytext=(0,10), # distance from text to points (x,y)\n",
    "                 ha='right')\n",
    "\n",
    "ax.set_xlabel(\"No of Countries\", fontsize=20)\n",
    "ax.set_xlabel(\"No of Movies/TV shows\", fontsize=20)\n",
    "ax.set_title(\"No of Countries v No of Movies/TV shows\", fontsize=25)\n",
    "    \n",
    "fig.savefig(\"images/no-of-countries-count-less-than-677-with-respect-to-yd\")\n",
    "plt.show()"
   ]
  },
  {
   "cell_type": "code",
   "execution_count": 230,
   "id": "chief-northern",
   "metadata": {},
   "outputs": [
    {
     "data": {
      "image/png": "[encoded data removed]",
      "text/plain": [
       "<Figure size 1440x720 with 1 Axes>"
      ]
     },
     "metadata": {},
     "output_type": "display_data"
    }
   ],
   "source": [
    "# Splitting the data for better plotting\n",
    "yd_noc_count_2 = yd_noc_count[yd_noc_count[\"count\"] > 677]\n",
    "\n",
    "# Setting up the fig\n",
    "fig, ax = plt.subplots(figsize=(20,10))\n",
    "scatter = ax.scatter(\n",
    "        x = yd_noc_count_2[\"No Of countries\"],\n",
    "        y = yd_noc_count_2[\"count\"],\n",
    "        c = yd_noc_count_2[\"year_added\"],\n",
    "        cmap='summer',\n",
    "        s=20**2)\n",
    "\n",
    "# Setup a mean line\n",
    "ax.axhline(y=yd_noc_count_2[\"count\"].mean(), \n",
    "            color='b', \n",
    "            linestyle='--', \n",
    "            label=\"Average\")\n",
    "\n",
    "# Setting legend\n",
    "ax.legend(*scatter.legend_elements(), title=\"Year\", loc=0, fontsize=\"xx-large\")\n",
    "\n",
    "# Setting xticks\n",
    "noc = yd_noc_count_2[\"No Of countries\"]\n",
    "plt.xticks(np.arange(np.min(noc), np.max(noc) + 1, 1))\n",
    "\n",
    "# Setting yticks\n",
    "count = yd_noc_count_2[\"count\"]\n",
    "#inc = np.std(yd_noc_count[\"count\"]).astype('int64')\n",
    "plt.yticks(np.arange(np.min(count), np.max(count) + 250, 250))\n",
    "\n",
    "# zip joins x and y coordinates in pairs\n",
    "for x,y in zip(noc,count):\n",
    "\n",
    "    #label = f\"({x},{y})\"\n",
    "    label_unf = yd_noc_count_2[(yd_noc_count_2[\"No Of countries\"] == x) & (yd_noc_count_2[\"count\"] == y)]\n",
    "    label_year = label_unf[\"year_added\"].values\n",
    "    label = f\"({label_year})\"\n",
    "    #label = f\"({label})\"\n",
    "\n",
    "    #arrowprops=dict(arrowstyle='<-', color='blue', linewidth=1, mutation_scale=150)\n",
    "    plt.annotate(label, # this is the text\n",
    "                 (x,y), # this is the point to label\n",
    "                 textcoords=\"offset points\", # how to position the text\n",
    "                 xytext=(0,10), # distance from text to points (x,y)\n",
    "                 ha='right') \n",
    "fig.savefig(\"images/no-of-countries-count-greater-than-677-with-respect-to-yd\")\n",
    "plt.show()"
   ]
  },
  {
   "cell_type": "code",
   "execution_count": 243,
   "id": "noble-bahamas",
   "metadata": {},
   "outputs": [
    {
     "data": {
      "text/plain": [
       "(342, 1)"
      ]
     },
     "execution_count": 243,
     "metadata": {},
     "output_type": "execute_result"
    }
   ],
   "source": [
    "np.max(yd_noc_count_1[\"count\"]), np.min(yd_noc_count_1[\"count\"])"
   ]
  },
  {
   "cell_type": "code",
   "execution_count": null,
   "id": "herbal-ferry",
   "metadata": {},
   "outputs": [],
   "source": []
  }
 ],
 "metadata": {
  "kernelspec": {
   "display_name": "Python 3",
   "language": "python",
   "name": "python3"
  },
  "language_info": {
   "codemirror_mode": {
    "name": "ipython",
    "version": 3
   },
   "file_extension": ".py",
   "mimetype": "text/x-python",
   "name": "python",
   "nbconvert_exporter": "python",
   "pygments_lexer": "ipython3",
   "version": "3.8.8"
  }
 },
 "nbformat": 4,
 "nbformat_minor": 5
}
